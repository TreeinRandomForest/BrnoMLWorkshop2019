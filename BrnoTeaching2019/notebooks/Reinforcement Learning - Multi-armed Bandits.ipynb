{
 "cells": [
  {
   "cell_type": "markdown",
   "metadata": {},
   "source": [
    "TODO:\n",
    "\n",
    "Comparison with incremental - should get same plot with fixed seeds\n",
    "\n",
    "UCB derivation + experiment\n",
    "\n",
    "Application to Opengym env (Contextual bandits)\n",
    "\n",
    "Application to netpipe experiment"
   ]
  },
  {
   "cell_type": "code",
   "execution_count": 1,
   "metadata": {},
   "outputs": [],
   "source": [
    "%load_ext autoreload\n",
    "%autoreload 2\n",
    "%matplotlib inline"
   ]
  },
  {
   "cell_type": "code",
   "execution_count": 241,
   "metadata": {},
   "outputs": [],
   "source": [
    "import torch\n",
    "import torch.nn as nn\n",
    "import torch.optim as optim\n",
    "\n",
    "import numpy as np\n",
    "import pandas as pd\n",
    "import gym\n",
    "\n",
    "import matplotlib.pylab as plt"
   ]
  },
  {
   "cell_type": "markdown",
   "metadata": {},
   "source": [
    "# Introduction to the OpenAI gym"
   ]
  },
  {
   "cell_type": "code",
   "execution_count": 3,
   "metadata": {},
   "outputs": [],
   "source": [
    "env = gym.make('CartPole-v1')"
   ]
  },
  {
   "cell_type": "code",
   "execution_count": 4,
   "metadata": {},
   "outputs": [
    {
     "name": "stdout",
     "output_type": "stream",
     "text": [
      "Current State = [ 0.0250601   0.00374017 -0.04489948  0.03326008]\n"
     ]
    }
   ],
   "source": [
    "state = env.reset()\n",
    "print(f'Current State = {state}')"
   ]
  },
  {
   "cell_type": "code",
   "execution_count": 5,
   "metadata": {},
   "outputs": [
    {
     "data": {
      "text/plain": [
       "True"
      ]
     },
     "execution_count": 5,
     "metadata": {},
     "output_type": "execute_result"
    }
   ],
   "source": [
    "env.render()"
   ]
  },
  {
   "cell_type": "code",
   "execution_count": 6,
   "metadata": {},
   "outputs": [
    {
     "name": "stdout",
     "output_type": "stream",
     "text": [
      "Action Space = Discrete(2)\n"
     ]
    }
   ],
   "source": [
    "print(f'Action Space = {env.action_space}')"
   ]
  },
  {
   "cell_type": "code",
   "execution_count": 7,
   "metadata": {},
   "outputs": [
    {
     "name": "stdout",
     "output_type": "stream",
     "text": [
      "Observation Space = Box(4,)\n"
     ]
    }
   ],
   "source": [
    "print(f'Observation Space = {env.observation_space}')"
   ]
  },
  {
   "cell_type": "code",
   "execution_count": 8,
   "metadata": {},
   "outputs": [
    {
     "name": "stdout",
     "output_type": "stream",
     "text": [
      "Randomly chosen action = 0\n"
     ]
    }
   ],
   "source": [
    "action = env.action_space.sample()\n",
    "print(f'Randomly chosen action = {action}')"
   ]
  },
  {
   "cell_type": "code",
   "execution_count": 9,
   "metadata": {},
   "outputs": [],
   "source": [
    "state, reward, done, info = env.step(action)"
   ]
  },
  {
   "cell_type": "code",
   "execution_count": 10,
   "metadata": {},
   "outputs": [
    {
     "name": "stdout",
     "output_type": "stream",
     "text": [
      "Action taken = 0\n",
      "New State = [ 0.02513491 -0.1907101  -0.04423427  0.31144553]\n",
      "Reward received = 1.0\n",
      "Simulation done? = False\n",
      "Auxiliary info = {}\n"
     ]
    }
   ],
   "source": [
    "print(f'Action taken = {action}')\n",
    "print(f'New State = {state}')\n",
    "print(f'Reward received = {reward}')\n",
    "print(f'Simulation done? = {done}')\n",
    "print(f'Auxiliary info = {info}')"
   ]
  },
  {
   "cell_type": "code",
   "execution_count": 11,
   "metadata": {},
   "outputs": [
    {
     "ename": "KeyboardInterrupt",
     "evalue": "",
     "output_type": "error",
     "traceback": [
      "\u001b[0;31m---------------------------------------------------------------------------\u001b[0m",
      "\u001b[0;31mKeyboardInterrupt\u001b[0m                         Traceback (most recent call last)",
      "\u001b[0;32m<ipython-input-11-5a9a1e093345>\u001b[0m in \u001b[0;36m<module>\u001b[0;34m\u001b[0m\n\u001b[1;32m      5\u001b[0m \u001b[0mN\u001b[0m \u001b[0;34m=\u001b[0m \u001b[0;36m10000\u001b[0m \u001b[0;31m#run 1000 time-steps\u001b[0m\u001b[0;34m\u001b[0m\u001b[0;34m\u001b[0m\u001b[0m\n\u001b[1;32m      6\u001b[0m \u001b[0;32mfor\u001b[0m \u001b[0mt\u001b[0m \u001b[0;32min\u001b[0m \u001b[0mrange\u001b[0m\u001b[0;34m(\u001b[0m\u001b[0mN\u001b[0m\u001b[0;34m)\u001b[0m\u001b[0;34m:\u001b[0m\u001b[0;34m\u001b[0m\u001b[0;34m\u001b[0m\u001b[0m\n\u001b[0;32m----> 7\u001b[0;31m     \u001b[0menv\u001b[0m\u001b[0;34m.\u001b[0m\u001b[0mrender\u001b[0m\u001b[0;34m(\u001b[0m\u001b[0;34m)\u001b[0m\u001b[0;34m\u001b[0m\u001b[0;34m\u001b[0m\u001b[0m\n\u001b[0m\u001b[1;32m      8\u001b[0m     \u001b[0maction\u001b[0m \u001b[0;34m=\u001b[0m \u001b[0menv\u001b[0m\u001b[0;34m.\u001b[0m\u001b[0maction_space\u001b[0m\u001b[0;34m.\u001b[0m\u001b[0msample\u001b[0m\u001b[0;34m(\u001b[0m\u001b[0;34m)\u001b[0m\u001b[0;34m\u001b[0m\u001b[0;34m\u001b[0m\u001b[0m\n\u001b[1;32m      9\u001b[0m     \u001b[0mstate\u001b[0m\u001b[0;34m,\u001b[0m \u001b[0mreward\u001b[0m\u001b[0;34m,\u001b[0m \u001b[0mdone\u001b[0m\u001b[0;34m,\u001b[0m \u001b[0minfo\u001b[0m \u001b[0;34m=\u001b[0m \u001b[0menv\u001b[0m\u001b[0;34m.\u001b[0m\u001b[0mstep\u001b[0m\u001b[0;34m(\u001b[0m\u001b[0maction\u001b[0m\u001b[0;34m)\u001b[0m\u001b[0;34m\u001b[0m\u001b[0;34m\u001b[0m\u001b[0m\n",
      "\u001b[0;32m~/.local/lib/python3.7/site-packages/gym/core.py\u001b[0m in \u001b[0;36mrender\u001b[0;34m(self, mode, **kwargs)\u001b[0m\n\u001b[1;32m    228\u001b[0m \u001b[0;34m\u001b[0m\u001b[0m\n\u001b[1;32m    229\u001b[0m     \u001b[0;32mdef\u001b[0m \u001b[0mrender\u001b[0m\u001b[0;34m(\u001b[0m\u001b[0mself\u001b[0m\u001b[0;34m,\u001b[0m \u001b[0mmode\u001b[0m\u001b[0;34m=\u001b[0m\u001b[0;34m'human'\u001b[0m\u001b[0;34m,\u001b[0m \u001b[0;34m**\u001b[0m\u001b[0mkwargs\u001b[0m\u001b[0;34m)\u001b[0m\u001b[0;34m:\u001b[0m\u001b[0;34m\u001b[0m\u001b[0;34m\u001b[0m\u001b[0m\n\u001b[0;32m--> 230\u001b[0;31m         \u001b[0;32mreturn\u001b[0m \u001b[0mself\u001b[0m\u001b[0;34m.\u001b[0m\u001b[0menv\u001b[0m\u001b[0;34m.\u001b[0m\u001b[0mrender\u001b[0m\u001b[0;34m(\u001b[0m\u001b[0mmode\u001b[0m\u001b[0;34m,\u001b[0m \u001b[0;34m**\u001b[0m\u001b[0mkwargs\u001b[0m\u001b[0;34m)\u001b[0m\u001b[0;34m\u001b[0m\u001b[0;34m\u001b[0m\u001b[0m\n\u001b[0m\u001b[1;32m    231\u001b[0m \u001b[0;34m\u001b[0m\u001b[0m\n\u001b[1;32m    232\u001b[0m     \u001b[0;32mdef\u001b[0m \u001b[0mclose\u001b[0m\u001b[0;34m(\u001b[0m\u001b[0mself\u001b[0m\u001b[0;34m)\u001b[0m\u001b[0;34m:\u001b[0m\u001b[0;34m\u001b[0m\u001b[0;34m\u001b[0m\u001b[0m\n",
      "\u001b[0;32m~/.local/lib/python3.7/site-packages/gym/envs/box2d/bipedal_walker.py\u001b[0m in \u001b[0;36mrender\u001b[0;34m(self, mode)\u001b[0m\n\u001b[1;32m    494\u001b[0m         \u001b[0mself\u001b[0m\u001b[0;34m.\u001b[0m\u001b[0mviewer\u001b[0m\u001b[0;34m.\u001b[0m\u001b[0mdraw_polyline\u001b[0m\u001b[0;34m(\u001b[0m\u001b[0mf\u001b[0m \u001b[0;34m+\u001b[0m \u001b[0;34m[\u001b[0m\u001b[0mf\u001b[0m\u001b[0;34m[\u001b[0m\u001b[0;36m0\u001b[0m\u001b[0;34m]\u001b[0m\u001b[0;34m]\u001b[0m\u001b[0;34m,\u001b[0m \u001b[0mcolor\u001b[0m\u001b[0;34m=\u001b[0m\u001b[0;34m(\u001b[0m\u001b[0;36m0\u001b[0m\u001b[0;34m,\u001b[0m\u001b[0;36m0\u001b[0m\u001b[0;34m,\u001b[0m\u001b[0;36m0\u001b[0m\u001b[0;34m)\u001b[0m\u001b[0;34m,\u001b[0m \u001b[0mlinewidth\u001b[0m\u001b[0;34m=\u001b[0m\u001b[0;36m2\u001b[0m \u001b[0;34m)\u001b[0m\u001b[0;34m\u001b[0m\u001b[0;34m\u001b[0m\u001b[0m\n\u001b[1;32m    495\u001b[0m \u001b[0;34m\u001b[0m\u001b[0m\n\u001b[0;32m--> 496\u001b[0;31m         \u001b[0;32mreturn\u001b[0m \u001b[0mself\u001b[0m\u001b[0;34m.\u001b[0m\u001b[0mviewer\u001b[0m\u001b[0;34m.\u001b[0m\u001b[0mrender\u001b[0m\u001b[0;34m(\u001b[0m\u001b[0mreturn_rgb_array\u001b[0m \u001b[0;34m=\u001b[0m \u001b[0mmode\u001b[0m\u001b[0;34m==\u001b[0m\u001b[0;34m'rgb_array'\u001b[0m\u001b[0;34m)\u001b[0m\u001b[0;34m\u001b[0m\u001b[0;34m\u001b[0m\u001b[0m\n\u001b[0m\u001b[1;32m    497\u001b[0m \u001b[0;34m\u001b[0m\u001b[0m\n\u001b[1;32m    498\u001b[0m     \u001b[0;32mdef\u001b[0m \u001b[0mclose\u001b[0m\u001b[0;34m(\u001b[0m\u001b[0mself\u001b[0m\u001b[0;34m)\u001b[0m\u001b[0;34m:\u001b[0m\u001b[0;34m\u001b[0m\u001b[0;34m\u001b[0m\u001b[0m\n",
      "\u001b[0;32m~/.local/lib/python3.7/site-packages/gym/envs/classic_control/rendering.py\u001b[0m in \u001b[0;36mrender\u001b[0;34m(self, return_rgb_array)\u001b[0m\n\u001b[1;32m     97\u001b[0m             \u001b[0mgeom\u001b[0m\u001b[0;34m.\u001b[0m\u001b[0mrender\u001b[0m\u001b[0;34m(\u001b[0m\u001b[0;34m)\u001b[0m\u001b[0;34m\u001b[0m\u001b[0;34m\u001b[0m\u001b[0m\n\u001b[1;32m     98\u001b[0m         \u001b[0;32mfor\u001b[0m \u001b[0mgeom\u001b[0m \u001b[0;32min\u001b[0m \u001b[0mself\u001b[0m\u001b[0;34m.\u001b[0m\u001b[0monetime_geoms\u001b[0m\u001b[0;34m:\u001b[0m\u001b[0;34m\u001b[0m\u001b[0;34m\u001b[0m\u001b[0m\n\u001b[0;32m---> 99\u001b[0;31m             \u001b[0mgeom\u001b[0m\u001b[0;34m.\u001b[0m\u001b[0mrender\u001b[0m\u001b[0;34m(\u001b[0m\u001b[0;34m)\u001b[0m\u001b[0;34m\u001b[0m\u001b[0;34m\u001b[0m\u001b[0m\n\u001b[0m\u001b[1;32m    100\u001b[0m         \u001b[0mself\u001b[0m\u001b[0;34m.\u001b[0m\u001b[0mtransform\u001b[0m\u001b[0;34m.\u001b[0m\u001b[0mdisable\u001b[0m\u001b[0;34m(\u001b[0m\u001b[0;34m)\u001b[0m\u001b[0;34m\u001b[0m\u001b[0;34m\u001b[0m\u001b[0m\n\u001b[1;32m    101\u001b[0m         \u001b[0marr\u001b[0m \u001b[0;34m=\u001b[0m \u001b[0;32mNone\u001b[0m\u001b[0;34m\u001b[0m\u001b[0;34m\u001b[0m\u001b[0m\n",
      "\u001b[0;32m~/.local/lib/python3.7/site-packages/gym/envs/classic_control/rendering.py\u001b[0m in \u001b[0;36mrender\u001b[0;34m(self)\u001b[0m\n\u001b[1;32m    165\u001b[0m         \u001b[0;32mfor\u001b[0m \u001b[0mattr\u001b[0m \u001b[0;32min\u001b[0m \u001b[0mreversed\u001b[0m\u001b[0;34m(\u001b[0m\u001b[0mself\u001b[0m\u001b[0;34m.\u001b[0m\u001b[0mattrs\u001b[0m\u001b[0;34m)\u001b[0m\u001b[0;34m:\u001b[0m\u001b[0;34m\u001b[0m\u001b[0;34m\u001b[0m\u001b[0m\n\u001b[1;32m    166\u001b[0m             \u001b[0mattr\u001b[0m\u001b[0;34m.\u001b[0m\u001b[0menable\u001b[0m\u001b[0;34m(\u001b[0m\u001b[0;34m)\u001b[0m\u001b[0;34m\u001b[0m\u001b[0;34m\u001b[0m\u001b[0m\n\u001b[0;32m--> 167\u001b[0;31m         \u001b[0mself\u001b[0m\u001b[0;34m.\u001b[0m\u001b[0mrender1\u001b[0m\u001b[0;34m(\u001b[0m\u001b[0;34m)\u001b[0m\u001b[0;34m\u001b[0m\u001b[0;34m\u001b[0m\u001b[0m\n\u001b[0m\u001b[1;32m    168\u001b[0m         \u001b[0;32mfor\u001b[0m \u001b[0mattr\u001b[0m \u001b[0;32min\u001b[0m \u001b[0mself\u001b[0m\u001b[0;34m.\u001b[0m\u001b[0mattrs\u001b[0m\u001b[0;34m:\u001b[0m\u001b[0;34m\u001b[0m\u001b[0;34m\u001b[0m\u001b[0m\n\u001b[1;32m    169\u001b[0m             \u001b[0mattr\u001b[0m\u001b[0;34m.\u001b[0m\u001b[0mdisable\u001b[0m\u001b[0;34m(\u001b[0m\u001b[0;34m)\u001b[0m\u001b[0;34m\u001b[0m\u001b[0;34m\u001b[0m\u001b[0m\n",
      "\u001b[0;32m~/.local/lib/python3.7/site-packages/gym/envs/classic_control/rendering.py\u001b[0m in \u001b[0;36mrender1\u001b[0;34m(self)\u001b[0m\n\u001b[1;32m    238\u001b[0m         \u001b[0;32melse\u001b[0m\u001b[0;34m:\u001b[0m \u001b[0mglBegin\u001b[0m\u001b[0;34m(\u001b[0m\u001b[0mGL_TRIANGLES\u001b[0m\u001b[0;34m)\u001b[0m\u001b[0;34m\u001b[0m\u001b[0;34m\u001b[0m\u001b[0m\n\u001b[1;32m    239\u001b[0m         \u001b[0;32mfor\u001b[0m \u001b[0mp\u001b[0m \u001b[0;32min\u001b[0m \u001b[0mself\u001b[0m\u001b[0;34m.\u001b[0m\u001b[0mv\u001b[0m\u001b[0;34m:\u001b[0m\u001b[0;34m\u001b[0m\u001b[0;34m\u001b[0m\u001b[0m\n\u001b[0;32m--> 240\u001b[0;31m             \u001b[0mglVertex3f\u001b[0m\u001b[0;34m(\u001b[0m\u001b[0mp\u001b[0m\u001b[0;34m[\u001b[0m\u001b[0;36m0\u001b[0m\u001b[0;34m]\u001b[0m\u001b[0;34m,\u001b[0m \u001b[0mp\u001b[0m\u001b[0;34m[\u001b[0m\u001b[0;36m1\u001b[0m\u001b[0;34m]\u001b[0m\u001b[0;34m,\u001b[0m\u001b[0;36m0\u001b[0m\u001b[0;34m)\u001b[0m  \u001b[0;31m# draw each vertex\u001b[0m\u001b[0;34m\u001b[0m\u001b[0;34m\u001b[0m\u001b[0m\n\u001b[0m\u001b[1;32m    241\u001b[0m         \u001b[0mglEnd\u001b[0m\u001b[0;34m(\u001b[0m\u001b[0;34m)\u001b[0m\u001b[0;34m\u001b[0m\u001b[0;34m\u001b[0m\u001b[0m\n\u001b[1;32m    242\u001b[0m \u001b[0;34m\u001b[0m\u001b[0m\n",
      "\u001b[0;31mKeyboardInterrupt\u001b[0m: "
     ]
    }
   ],
   "source": [
    "#run N steps\n",
    "env = gym.make('BipedalWalker-v2')\n",
    "\n",
    "state = env.reset()\n",
    "N = 1000 #run 1000 time-steps\n",
    "for t in range(N):\n",
    "    env.render()\n",
    "    action = env.action_space.sample()\n",
    "    state, reward, done, info = env.step(action)\n",
    "    \n",
    "    if done:\n",
    "        state = env.reset()        "
   ]
  },
  {
   "cell_type": "code",
   "execution_count": 12,
   "metadata": {},
   "outputs": [
    {
     "ename": "ValueError",
     "evalue": "invalid literal for int() with base 10: ''",
     "output_type": "error",
     "traceback": [
      "\u001b[0;31m---------------------------------------------------------------------------\u001b[0m",
      "\u001b[0;31mValueError\u001b[0m                                Traceback (most recent call last)",
      "\u001b[0;32m<ipython-input-12-1baceacf4cb1>\u001b[0m in \u001b[0;36m<module>\u001b[0;34m\u001b[0m\n\u001b[0;32m----> 1\u001b[0;31m \u001b[0menv\u001b[0m\u001b[0;34m.\u001b[0m\u001b[0mclose\u001b[0m\u001b[0;34m(\u001b[0m\u001b[0;34m)\u001b[0m\u001b[0;34m\u001b[0m\u001b[0;34m\u001b[0m\u001b[0m\n\u001b[0m",
      "\u001b[0;32m~/.local/lib/python3.7/site-packages/gym/core.py\u001b[0m in \u001b[0;36mclose\u001b[0;34m(self)\u001b[0m\n\u001b[1;32m    231\u001b[0m \u001b[0;34m\u001b[0m\u001b[0m\n\u001b[1;32m    232\u001b[0m     \u001b[0;32mdef\u001b[0m \u001b[0mclose\u001b[0m\u001b[0;34m(\u001b[0m\u001b[0mself\u001b[0m\u001b[0;34m)\u001b[0m\u001b[0;34m:\u001b[0m\u001b[0;34m\u001b[0m\u001b[0;34m\u001b[0m\u001b[0m\n\u001b[0;32m--> 233\u001b[0;31m         \u001b[0;32mreturn\u001b[0m \u001b[0mself\u001b[0m\u001b[0;34m.\u001b[0m\u001b[0menv\u001b[0m\u001b[0;34m.\u001b[0m\u001b[0mclose\u001b[0m\u001b[0;34m(\u001b[0m\u001b[0;34m)\u001b[0m\u001b[0;34m\u001b[0m\u001b[0;34m\u001b[0m\u001b[0m\n\u001b[0m\u001b[1;32m    234\u001b[0m \u001b[0;34m\u001b[0m\u001b[0m\n\u001b[1;32m    235\u001b[0m     \u001b[0;32mdef\u001b[0m \u001b[0mseed\u001b[0m\u001b[0;34m(\u001b[0m\u001b[0mself\u001b[0m\u001b[0;34m,\u001b[0m \u001b[0mseed\u001b[0m\u001b[0;34m=\u001b[0m\u001b[0;32mNone\u001b[0m\u001b[0;34m)\u001b[0m\u001b[0;34m:\u001b[0m\u001b[0;34m\u001b[0m\u001b[0;34m\u001b[0m\u001b[0m\n",
      "\u001b[0;32m~/.local/lib/python3.7/site-packages/gym/envs/box2d/bipedal_walker.py\u001b[0m in \u001b[0;36mclose\u001b[0;34m(self)\u001b[0m\n\u001b[1;32m    498\u001b[0m     \u001b[0;32mdef\u001b[0m \u001b[0mclose\u001b[0m\u001b[0;34m(\u001b[0m\u001b[0mself\u001b[0m\u001b[0;34m)\u001b[0m\u001b[0;34m:\u001b[0m\u001b[0;34m\u001b[0m\u001b[0;34m\u001b[0m\u001b[0m\n\u001b[1;32m    499\u001b[0m         \u001b[0;32mif\u001b[0m \u001b[0mself\u001b[0m\u001b[0;34m.\u001b[0m\u001b[0mviewer\u001b[0m \u001b[0;32mis\u001b[0m \u001b[0;32mnot\u001b[0m \u001b[0;32mNone\u001b[0m\u001b[0;34m:\u001b[0m\u001b[0;34m\u001b[0m\u001b[0;34m\u001b[0m\u001b[0m\n\u001b[0;32m--> 500\u001b[0;31m             \u001b[0mself\u001b[0m\u001b[0;34m.\u001b[0m\u001b[0mviewer\u001b[0m\u001b[0;34m.\u001b[0m\u001b[0mclose\u001b[0m\u001b[0;34m(\u001b[0m\u001b[0;34m)\u001b[0m\u001b[0;34m\u001b[0m\u001b[0;34m\u001b[0m\u001b[0m\n\u001b[0m\u001b[1;32m    501\u001b[0m             \u001b[0mself\u001b[0m\u001b[0;34m.\u001b[0m\u001b[0mviewer\u001b[0m \u001b[0;34m=\u001b[0m \u001b[0;32mNone\u001b[0m\u001b[0;34m\u001b[0m\u001b[0;34m\u001b[0m\u001b[0m\n\u001b[1;32m    502\u001b[0m \u001b[0;34m\u001b[0m\u001b[0m\n",
      "\u001b[0;32m~/.local/lib/python3.7/site-packages/gym/envs/classic_control/rendering.py\u001b[0m in \u001b[0;36mclose\u001b[0;34m(self)\u001b[0m\n\u001b[1;32m     69\u001b[0m \u001b[0;34m\u001b[0m\u001b[0m\n\u001b[1;32m     70\u001b[0m     \u001b[0;32mdef\u001b[0m \u001b[0mclose\u001b[0m\u001b[0;34m(\u001b[0m\u001b[0mself\u001b[0m\u001b[0;34m)\u001b[0m\u001b[0;34m:\u001b[0m\u001b[0;34m\u001b[0m\u001b[0;34m\u001b[0m\u001b[0m\n\u001b[0;32m---> 71\u001b[0;31m         \u001b[0mself\u001b[0m\u001b[0;34m.\u001b[0m\u001b[0mwindow\u001b[0m\u001b[0;34m.\u001b[0m\u001b[0mclose\u001b[0m\u001b[0;34m(\u001b[0m\u001b[0;34m)\u001b[0m\u001b[0;34m\u001b[0m\u001b[0;34m\u001b[0m\u001b[0m\n\u001b[0m\u001b[1;32m     72\u001b[0m \u001b[0;34m\u001b[0m\u001b[0m\n\u001b[1;32m     73\u001b[0m     \u001b[0;32mdef\u001b[0m \u001b[0mwindow_closed_by_user\u001b[0m\u001b[0;34m(\u001b[0m\u001b[0mself\u001b[0m\u001b[0;34m)\u001b[0m\u001b[0;34m:\u001b[0m\u001b[0;34m\u001b[0m\u001b[0;34m\u001b[0m\u001b[0m\n",
      "\u001b[0;32m~/.local/lib/python3.7/site-packages/pyglet/window/xlib/__init__.py\u001b[0m in \u001b[0;36mclose\u001b[0;34m(self)\u001b[0m\n\u001b[1;32m    478\u001b[0m             \u001b[0;32mreturn\u001b[0m\u001b[0;34m\u001b[0m\u001b[0;34m\u001b[0m\u001b[0m\n\u001b[1;32m    479\u001b[0m \u001b[0;34m\u001b[0m\u001b[0m\n\u001b[0;32m--> 480\u001b[0;31m         \u001b[0mself\u001b[0m\u001b[0;34m.\u001b[0m\u001b[0mcontext\u001b[0m\u001b[0;34m.\u001b[0m\u001b[0mdestroy\u001b[0m\u001b[0;34m(\u001b[0m\u001b[0;34m)\u001b[0m\u001b[0;34m\u001b[0m\u001b[0;34m\u001b[0m\u001b[0m\n\u001b[0m\u001b[1;32m    481\u001b[0m         \u001b[0mself\u001b[0m\u001b[0;34m.\u001b[0m\u001b[0m_unmap\u001b[0m\u001b[0;34m(\u001b[0m\u001b[0;34m)\u001b[0m\u001b[0;34m\u001b[0m\u001b[0;34m\u001b[0m\u001b[0m\n\u001b[1;32m    482\u001b[0m         \u001b[0;32mif\u001b[0m \u001b[0mself\u001b[0m\u001b[0;34m.\u001b[0m\u001b[0m_window\u001b[0m\u001b[0;34m:\u001b[0m\u001b[0;34m\u001b[0m\u001b[0;34m\u001b[0m\u001b[0m\n",
      "\u001b[0;32m~/.local/lib/python3.7/site-packages/pyglet/gl/xlib.py\u001b[0m in \u001b[0;36mdestroy\u001b[0;34m(self)\u001b[0m\n\u001b[1;32m    343\u001b[0m \u001b[0;34m\u001b[0m\u001b[0m\n\u001b[1;32m    344\u001b[0m     \u001b[0;32mdef\u001b[0m \u001b[0mdestroy\u001b[0m\u001b[0;34m(\u001b[0m\u001b[0mself\u001b[0m\u001b[0;34m)\u001b[0m\u001b[0;34m:\u001b[0m\u001b[0;34m\u001b[0m\u001b[0;34m\u001b[0m\u001b[0m\n\u001b[0;32m--> 345\u001b[0;31m         \u001b[0msuper\u001b[0m\u001b[0;34m(\u001b[0m\u001b[0mXlibContext13\u001b[0m\u001b[0;34m,\u001b[0m \u001b[0mself\u001b[0m\u001b[0;34m)\u001b[0m\u001b[0;34m.\u001b[0m\u001b[0mdestroy\u001b[0m\u001b[0;34m(\u001b[0m\u001b[0;34m)\u001b[0m\u001b[0;34m\u001b[0m\u001b[0;34m\u001b[0m\u001b[0m\n\u001b[0m\u001b[1;32m    346\u001b[0m         \u001b[0;32mif\u001b[0m \u001b[0mself\u001b[0m\u001b[0;34m.\u001b[0m\u001b[0mglx_window\u001b[0m\u001b[0;34m:\u001b[0m\u001b[0;34m\u001b[0m\u001b[0;34m\u001b[0m\u001b[0m\n\u001b[1;32m    347\u001b[0m             \u001b[0mglx\u001b[0m\u001b[0;34m.\u001b[0m\u001b[0mglXDestroyWindow\u001b[0m\u001b[0;34m(\u001b[0m\u001b[0mself\u001b[0m\u001b[0;34m.\u001b[0m\u001b[0mconfig\u001b[0m\u001b[0;34m.\u001b[0m\u001b[0mdisplay\u001b[0m\u001b[0;34m.\u001b[0m\u001b[0m_display\u001b[0m\u001b[0;34m,\u001b[0m \u001b[0mself\u001b[0m\u001b[0;34m.\u001b[0m\u001b[0mglx_window\u001b[0m\u001b[0;34m)\u001b[0m\u001b[0;34m\u001b[0m\u001b[0;34m\u001b[0m\u001b[0m\n",
      "\u001b[0;32m~/.local/lib/python3.7/site-packages/pyglet/gl/base.py\u001b[0m in \u001b[0;36mdestroy\u001b[0;34m(self)\u001b[0m\n\u001b[1;32m    340\u001b[0m             \u001b[0;31m# Switch back to shadow context.\u001b[0m\u001b[0;34m\u001b[0m\u001b[0;34m\u001b[0m\u001b[0;34m\u001b[0m\u001b[0m\n\u001b[1;32m    341\u001b[0m             \u001b[0;32mif\u001b[0m \u001b[0mgl\u001b[0m\u001b[0;34m.\u001b[0m\u001b[0m_shadow_window\u001b[0m \u001b[0;32mis\u001b[0m \u001b[0;32mnot\u001b[0m \u001b[0;32mNone\u001b[0m\u001b[0;34m:\u001b[0m\u001b[0;34m\u001b[0m\u001b[0;34m\u001b[0m\u001b[0m\n\u001b[0;32m--> 342\u001b[0;31m                 \u001b[0mgl\u001b[0m\u001b[0;34m.\u001b[0m\u001b[0m_shadow_window\u001b[0m\u001b[0;34m.\u001b[0m\u001b[0mswitch_to\u001b[0m\u001b[0;34m(\u001b[0m\u001b[0;34m)\u001b[0m\u001b[0;34m\u001b[0m\u001b[0;34m\u001b[0m\u001b[0m\n\u001b[0m\u001b[1;32m    343\u001b[0m \u001b[0;34m\u001b[0m\u001b[0m\n\u001b[1;32m    344\u001b[0m     \u001b[0;32mdef\u001b[0m \u001b[0mdelete_texture\u001b[0m\u001b[0;34m(\u001b[0m\u001b[0mself\u001b[0m\u001b[0;34m,\u001b[0m \u001b[0mtexture_id\u001b[0m\u001b[0;34m)\u001b[0m\u001b[0;34m:\u001b[0m\u001b[0;34m\u001b[0m\u001b[0;34m\u001b[0m\u001b[0m\n",
      "\u001b[0;32m~/.local/lib/python3.7/site-packages/pyglet/window/xlib/__init__.py\u001b[0m in \u001b[0;36mswitch_to\u001b[0;34m(self)\u001b[0m\n\u001b[1;32m    497\u001b[0m     \u001b[0;32mdef\u001b[0m \u001b[0mswitch_to\u001b[0m\u001b[0;34m(\u001b[0m\u001b[0mself\u001b[0m\u001b[0;34m)\u001b[0m\u001b[0;34m:\u001b[0m\u001b[0;34m\u001b[0m\u001b[0;34m\u001b[0m\u001b[0m\n\u001b[1;32m    498\u001b[0m         \u001b[0;32mif\u001b[0m \u001b[0mself\u001b[0m\u001b[0;34m.\u001b[0m\u001b[0mcontext\u001b[0m\u001b[0;34m:\u001b[0m\u001b[0;34m\u001b[0m\u001b[0;34m\u001b[0m\u001b[0m\n\u001b[0;32m--> 499\u001b[0;31m             \u001b[0mself\u001b[0m\u001b[0;34m.\u001b[0m\u001b[0mcontext\u001b[0m\u001b[0;34m.\u001b[0m\u001b[0mset_current\u001b[0m\u001b[0;34m(\u001b[0m\u001b[0;34m)\u001b[0m\u001b[0;34m\u001b[0m\u001b[0;34m\u001b[0m\u001b[0m\n\u001b[0m\u001b[1;32m    500\u001b[0m \u001b[0;34m\u001b[0m\u001b[0m\n\u001b[1;32m    501\u001b[0m     \u001b[0;32mdef\u001b[0m \u001b[0mflip\u001b[0m\u001b[0;34m(\u001b[0m\u001b[0mself\u001b[0m\u001b[0;34m)\u001b[0m\u001b[0;34m:\u001b[0m\u001b[0;34m\u001b[0m\u001b[0;34m\u001b[0m\u001b[0m\n",
      "\u001b[0;32m~/.local/lib/python3.7/site-packages/pyglet/gl/xlib.py\u001b[0m in \u001b[0;36mset_current\u001b[0;34m(self)\u001b[0m\n\u001b[1;32m    326\u001b[0m         glx.glXMakeContextCurrent(\n\u001b[1;32m    327\u001b[0m             self.x_display, self.glx_window, self.glx_window, self.glx_context)\n\u001b[0;32m--> 328\u001b[0;31m         \u001b[0msuper\u001b[0m\u001b[0;34m(\u001b[0m\u001b[0mXlibContext13\u001b[0m\u001b[0;34m,\u001b[0m \u001b[0mself\u001b[0m\u001b[0;34m)\u001b[0m\u001b[0;34m.\u001b[0m\u001b[0mset_current\u001b[0m\u001b[0;34m(\u001b[0m\u001b[0;34m)\u001b[0m\u001b[0;34m\u001b[0m\u001b[0;34m\u001b[0m\u001b[0m\n\u001b[0m\u001b[1;32m    329\u001b[0m \u001b[0;34m\u001b[0m\u001b[0m\n\u001b[1;32m    330\u001b[0m     \u001b[0;32mdef\u001b[0m \u001b[0mdetach\u001b[0m\u001b[0;34m(\u001b[0m\u001b[0mself\u001b[0m\u001b[0;34m)\u001b[0m\u001b[0;34m:\u001b[0m\u001b[0;34m\u001b[0m\u001b[0;34m\u001b[0m\u001b[0m\n",
      "\u001b[0;32m~/.local/lib/python3.7/site-packages/pyglet/gl/base.py\u001b[0m in \u001b[0;36mset_current\u001b[0;34m(self)\u001b[0m\n\u001b[1;32m    299\u001b[0m \u001b[0;34m\u001b[0m\u001b[0m\n\u001b[1;32m    300\u001b[0m         \u001b[0;31m# XXX\u001b[0m\u001b[0;34m\u001b[0m\u001b[0;34m\u001b[0m\u001b[0;34m\u001b[0m\u001b[0m\n\u001b[0;32m--> 301\u001b[0;31m         \u001b[0mgl_info\u001b[0m\u001b[0;34m.\u001b[0m\u001b[0mset_active_context\u001b[0m\u001b[0;34m(\u001b[0m\u001b[0;34m)\u001b[0m\u001b[0;34m\u001b[0m\u001b[0;34m\u001b[0m\u001b[0m\n\u001b[0m\u001b[1;32m    302\u001b[0m         \u001b[0mglu_info\u001b[0m\u001b[0;34m.\u001b[0m\u001b[0mset_active_context\u001b[0m\u001b[0;34m(\u001b[0m\u001b[0;34m)\u001b[0m\u001b[0;34m\u001b[0m\u001b[0;34m\u001b[0m\u001b[0m\n\u001b[1;32m    303\u001b[0m \u001b[0;34m\u001b[0m\u001b[0m\n",
      "\u001b[0;32m~/.local/lib/python3.7/site-packages/pyglet/gl/gl_info.py\u001b[0m in \u001b[0;36mset_active_context\u001b[0;34m(self)\u001b[0m\n\u001b[1;32m     96\u001b[0m                                        c_char_p).value)\n\u001b[1;32m     97\u001b[0m             \u001b[0mself\u001b[0m\u001b[0;34m.\u001b[0m\u001b[0mversion\u001b[0m \u001b[0;34m=\u001b[0m \u001b[0masstr\u001b[0m\u001b[0;34m(\u001b[0m\u001b[0mcast\u001b[0m\u001b[0;34m(\u001b[0m\u001b[0mglGetString\u001b[0m\u001b[0;34m(\u001b[0m\u001b[0mGL_VERSION\u001b[0m\u001b[0;34m)\u001b[0m\u001b[0;34m,\u001b[0m \u001b[0mc_char_p\u001b[0m\u001b[0;34m)\u001b[0m\u001b[0;34m.\u001b[0m\u001b[0mvalue\u001b[0m\u001b[0;34m)\u001b[0m\u001b[0;34m\u001b[0m\u001b[0;34m\u001b[0m\u001b[0m\n\u001b[0;32m---> 98\u001b[0;31m             \u001b[0;32mif\u001b[0m \u001b[0mself\u001b[0m\u001b[0;34m.\u001b[0m\u001b[0mhave_version\u001b[0m\u001b[0;34m(\u001b[0m\u001b[0;36m3\u001b[0m\u001b[0;34m)\u001b[0m\u001b[0;34m:\u001b[0m\u001b[0;34m\u001b[0m\u001b[0;34m\u001b[0m\u001b[0m\n\u001b[0m\u001b[1;32m     99\u001b[0m                 \u001b[0;32mfrom\u001b[0m \u001b[0mpyglet\u001b[0m\u001b[0;34m.\u001b[0m\u001b[0mgl\u001b[0m\u001b[0;34m.\u001b[0m\u001b[0mglext_arb\u001b[0m \u001b[0;32mimport\u001b[0m \u001b[0mglGetStringi\u001b[0m\u001b[0;34m,\u001b[0m \u001b[0mGL_NUM_EXTENSIONS\u001b[0m\u001b[0;34m\u001b[0m\u001b[0;34m\u001b[0m\u001b[0m\n\u001b[1;32m    100\u001b[0m                 \u001b[0mnum_extensions\u001b[0m \u001b[0;34m=\u001b[0m \u001b[0mGLint\u001b[0m\u001b[0;34m(\u001b[0m\u001b[0;34m)\u001b[0m\u001b[0;34m\u001b[0m\u001b[0;34m\u001b[0m\u001b[0m\n",
      "\u001b[0;32m~/.local/lib/python3.7/site-packages/pyglet/gl/gl_info.py\u001b[0m in \u001b[0;36mhave_version\u001b[0;34m(self, major, minor, release)\u001b[0m\n\u001b[1;32m    168\u001b[0m             \u001b[0;32mreturn\u001b[0m \u001b[0;32mFalse\u001b[0m\u001b[0;34m\u001b[0m\u001b[0;34m\u001b[0m\u001b[0m\n\u001b[1;32m    169\u001b[0m         \u001b[0mver\u001b[0m \u001b[0;34m=\u001b[0m \u001b[0;34m'%s.0.0'\u001b[0m \u001b[0;34m%\u001b[0m \u001b[0mself\u001b[0m\u001b[0;34m.\u001b[0m\u001b[0mversion\u001b[0m\u001b[0;34m.\u001b[0m\u001b[0msplit\u001b[0m\u001b[0;34m(\u001b[0m\u001b[0;34m' '\u001b[0m\u001b[0;34m,\u001b[0m \u001b[0;36m1\u001b[0m\u001b[0;34m)\u001b[0m\u001b[0;34m[\u001b[0m\u001b[0;36m0\u001b[0m\u001b[0;34m]\u001b[0m\u001b[0;34m\u001b[0m\u001b[0;34m\u001b[0m\u001b[0m\n\u001b[0;32m--> 170\u001b[0;31m         \u001b[0mimajor\u001b[0m\u001b[0;34m,\u001b[0m \u001b[0miminor\u001b[0m\u001b[0;34m,\u001b[0m \u001b[0mirelease\u001b[0m \u001b[0;34m=\u001b[0m \u001b[0;34m[\u001b[0m\u001b[0mint\u001b[0m\u001b[0;34m(\u001b[0m\u001b[0mv\u001b[0m\u001b[0;34m)\u001b[0m \u001b[0;32mfor\u001b[0m \u001b[0mv\u001b[0m \u001b[0;32min\u001b[0m \u001b[0mver\u001b[0m\u001b[0;34m.\u001b[0m\u001b[0msplit\u001b[0m\u001b[0;34m(\u001b[0m\u001b[0;34m'.'\u001b[0m\u001b[0;34m,\u001b[0m \u001b[0;36m3\u001b[0m\u001b[0;34m)\u001b[0m\u001b[0;34m[\u001b[0m\u001b[0;34m:\u001b[0m\u001b[0;36m3\u001b[0m\u001b[0;34m]\u001b[0m\u001b[0;34m]\u001b[0m\u001b[0;34m\u001b[0m\u001b[0;34m\u001b[0m\u001b[0m\n\u001b[0m\u001b[1;32m    171\u001b[0m         \u001b[0;32mreturn\u001b[0m \u001b[0mimajor\u001b[0m \u001b[0;34m>\u001b[0m \u001b[0mmajor\u001b[0m \u001b[0;32mor\u001b[0m\u001b[0;31m \u001b[0m\u001b[0;31m\\\u001b[0m\u001b[0;34m\u001b[0m\u001b[0;34m\u001b[0m\u001b[0m\n\u001b[1;32m    172\u001b[0m            \u001b[0;34m(\u001b[0m\u001b[0mimajor\u001b[0m \u001b[0;34m==\u001b[0m \u001b[0mmajor\u001b[0m \u001b[0;32mand\u001b[0m \u001b[0miminor\u001b[0m \u001b[0;34m>\u001b[0m \u001b[0mminor\u001b[0m\u001b[0;34m)\u001b[0m \u001b[0;32mor\u001b[0m\u001b[0;31m \u001b[0m\u001b[0;31m\\\u001b[0m\u001b[0;34m\u001b[0m\u001b[0;34m\u001b[0m\u001b[0m\n",
      "\u001b[0;32m~/.local/lib/python3.7/site-packages/pyglet/gl/gl_info.py\u001b[0m in \u001b[0;36m<listcomp>\u001b[0;34m(.0)\u001b[0m\n\u001b[1;32m    168\u001b[0m             \u001b[0;32mreturn\u001b[0m \u001b[0;32mFalse\u001b[0m\u001b[0;34m\u001b[0m\u001b[0;34m\u001b[0m\u001b[0m\n\u001b[1;32m    169\u001b[0m         \u001b[0mver\u001b[0m \u001b[0;34m=\u001b[0m \u001b[0;34m'%s.0.0'\u001b[0m \u001b[0;34m%\u001b[0m \u001b[0mself\u001b[0m\u001b[0;34m.\u001b[0m\u001b[0mversion\u001b[0m\u001b[0;34m.\u001b[0m\u001b[0msplit\u001b[0m\u001b[0;34m(\u001b[0m\u001b[0;34m' '\u001b[0m\u001b[0;34m,\u001b[0m \u001b[0;36m1\u001b[0m\u001b[0;34m)\u001b[0m\u001b[0;34m[\u001b[0m\u001b[0;36m0\u001b[0m\u001b[0;34m]\u001b[0m\u001b[0;34m\u001b[0m\u001b[0;34m\u001b[0m\u001b[0m\n\u001b[0;32m--> 170\u001b[0;31m         \u001b[0mimajor\u001b[0m\u001b[0;34m,\u001b[0m \u001b[0miminor\u001b[0m\u001b[0;34m,\u001b[0m \u001b[0mirelease\u001b[0m \u001b[0;34m=\u001b[0m \u001b[0;34m[\u001b[0m\u001b[0mint\u001b[0m\u001b[0;34m(\u001b[0m\u001b[0mv\u001b[0m\u001b[0;34m)\u001b[0m \u001b[0;32mfor\u001b[0m \u001b[0mv\u001b[0m \u001b[0;32min\u001b[0m \u001b[0mver\u001b[0m\u001b[0;34m.\u001b[0m\u001b[0msplit\u001b[0m\u001b[0;34m(\u001b[0m\u001b[0;34m'.'\u001b[0m\u001b[0;34m,\u001b[0m \u001b[0;36m3\u001b[0m\u001b[0;34m)\u001b[0m\u001b[0;34m[\u001b[0m\u001b[0;34m:\u001b[0m\u001b[0;36m3\u001b[0m\u001b[0;34m]\u001b[0m\u001b[0;34m]\u001b[0m\u001b[0;34m\u001b[0m\u001b[0;34m\u001b[0m\u001b[0m\n\u001b[0m\u001b[1;32m    171\u001b[0m         \u001b[0;32mreturn\u001b[0m \u001b[0mimajor\u001b[0m \u001b[0;34m>\u001b[0m \u001b[0mmajor\u001b[0m \u001b[0;32mor\u001b[0m\u001b[0;31m \u001b[0m\u001b[0;31m\\\u001b[0m\u001b[0;34m\u001b[0m\u001b[0;34m\u001b[0m\u001b[0m\n\u001b[1;32m    172\u001b[0m            \u001b[0;34m(\u001b[0m\u001b[0mimajor\u001b[0m \u001b[0;34m==\u001b[0m \u001b[0mmajor\u001b[0m \u001b[0;32mand\u001b[0m \u001b[0miminor\u001b[0m \u001b[0;34m>\u001b[0m \u001b[0mminor\u001b[0m\u001b[0;34m)\u001b[0m \u001b[0;32mor\u001b[0m\u001b[0;31m \u001b[0m\u001b[0;31m\\\u001b[0m\u001b[0;34m\u001b[0m\u001b[0;34m\u001b[0m\u001b[0m\n",
      "\u001b[0;31mValueError\u001b[0m: invalid literal for int() with base 10: ''"
     ]
    }
   ],
   "source": [
    "env.close()"
   ]
  },
  {
   "cell_type": "markdown",
   "metadata": {},
   "source": [
    "## What other environments are possible?\n",
    "\n",
    "https://gym.openai.com/envs/#classic_control"
   ]
  },
  {
   "cell_type": "markdown",
   "metadata": {},
   "source": [
    "# Multi-armed Bandits"
   ]
  },
  {
   "cell_type": "markdown",
   "metadata": {},
   "source": [
    "The material below is mostly based on the book by Sutton and Barto. I have tried to keep the notation consistent with the book and also inserted a few exercises from the book below."
   ]
  },
  {
   "cell_type": "markdown",
   "metadata": {
    "heading_collapsed": true
   },
   "source": [
    "### Comparison to Supervised Model"
   ]
  },
  {
   "cell_type": "markdown",
   "metadata": {
    "hidden": true
   },
   "source": [
    "In a supervised model, the model tells us **what action to take**. This is often called ***instruction***. The action you actually take might be different.\n",
    "\n",
    "In a reinforcement learning setup, the model tells us **how good the action is**. This is often called ***evaluation***.\n",
    "\n",
    "Multi-armed bandits let us study a simplified version of the reinforcement learning problem. We will see both how to evaluate an action as well as how to use the evaluative part to take (\"instruct\") an action."
   ]
  },
  {
   "cell_type": "markdown",
   "metadata": {
    "heading_collapsed": true
   },
   "source": [
    "### Core Idea"
   ]
  },
  {
   "cell_type": "markdown",
   "metadata": {
    "hidden": true
   },
   "source": [
    "Suppose you are at a slot machine with k slots. So you have k levers that can be pulled. On pulling each lever, you get a reward (some money) according to a stationary probability distribution that depends on the lever. Stationary means that the distribution for any lever doesn't change with time. For example lever 1 might have a normal distribution with mean \\\\$100 and standard deviation $10 (if you get a negative number, you have to pay that much to the casino). \n",
    "\n",
    "This might sound like an artificial problem but applies to any setup where there are k discrete options with stationary distributions.\n",
    "\n",
    "The catch is that you do not know the distributions in advance. If you did and you had enough time, you would just keep pulling on the lever with the highest mean (even if the standard deviation is high) and in the long run, i.e. in $T$ time-steps, you'll get a total reward of $T * \\text{mean}$.\n",
    "\n",
    "**Mathematical Aside**: \n",
    "\n",
    "If you are given N independent and identically distributed random variables (outcomes of a probabilistic experiments):\n",
    "\n",
    "$$X_1, X_2, \\ldots, X_N$$\n",
    "\n",
    "each with mean = $\\mu$ and standard deviation = $\\sigma$ (variance = $\\sigma^2$ by definition).\n",
    "\n",
    "then we are interested in looking at the total (each $X$ is a pull of the lever and there are $N$ pulls):\n",
    "\n",
    "$$Y = X_1 + X_2 + \\ldots + X_N$$\n",
    "\n",
    "We have:\n",
    "\n",
    "$$\\text{mean of Y} = N\\mu$$\n",
    "\n",
    "$$\\text{variance of Y} = N\\sigma^2 \\rightarrow \\text{standard deviation of Y} = \\sqrt{N}\\sigma$$ \n",
    "\n",
    "So, after $N$ pulls, you'll get an average reward of $N\\mu$ which is good because the higher the $\\mu$, the more reward you'll get. Also, you might think that the \"error\" (standard deviation) of $Y$ also increases with $N$ which is true but the relevant quantity is the relative error:\n",
    "\n",
    "$$\\frac{\\text{standard deviation of Y}}{\\text{mean of Y}} = \\frac{\\sqrt{N} \\sigma}{N \\mu} \\rightarrow_{N\\rightarrow\\infty} 0$$\n",
    "\n",
    "In other words, your total reward goes up with the number of steps ($N$) and the relative deviation in your total reward goes to 0.\n",
    "\n",
    "**End of Mathematical Aside**:\n",
    "\n",
    "You have a choice of k actions - which lever to pull. Each action has a mean reward which is called the **value of the action**. Let's define a few quantities:\n",
    "\n",
    "$$A_t = \\text{action taken at time t}$$\n",
    "\n",
    "$$R_t = \\text{reward received at time t}$$\n",
    "\n",
    "Note that the reward at time t is a number drawn from the stationary distribution for the lever pulled at time t.\n",
    "\n",
    "So, another way of writing the value of an action (or a lever in our case) is:\n",
    "\n",
    "$$q_*(a) = \\mathbb{E}[R_t | A_t = a]$$\n",
    "\n",
    "$\\mathbb{E}$ means expected value or the mean of the variable $R_t$. The notation $[R_t | A_t = a]$ should be read as \"the reward at time t **given** that the action at time t was a particular action a\". In other words, $q_{*}(a)$ is the mean or expected reward for the action a. It is the unknown quantity that we would like to learn because if we did, then we could always take the action (i.e. pull the lever) with the highest $q_{*}(a)$.\n",
    "\n",
    "The real challenge of course, is that we don't know anything about the values of the levers when we start the game. More formally, the challenge is:\n",
    "\n",
    "**Given T time-steps, get the maximum money possible from the slot machine**\n",
    "\n",
    "So our task is to try estimating the value of each action where there are k actions i.e. the act of pulling each of one of the k levers. These value estimates will change in time so let's denote them by\n",
    "\n",
    "$$Q_t(a) = \\text{estimate of the value of action a at time t}$$\n",
    "\n",
    "Hopefully over time, our estimates will get better and we'll converge to $q_{*}(a)$ i.e. with time:\n",
    "\n",
    "$$Q_t(a) \\rightarrow_{t\\rightarrow\\infty} q_*(a)$$\n",
    "\n",
    "Some more definitions:\n",
    "\n",
    "Suppose at any given time t, you look at your estimates of the values, Q_t(a) and pick the action a with the highest possible Q_t(a). This would be called a ***greedy action***. Note that the greedy action isn't necessarily globally the best option because we don't have access to the true value, $q_*(a)$. The process of always using greedy actions is called ***exploitation***. On the other hand, if you don't pick the greedy action, the process is called ***exploration***.\n",
    "\n",
    "In reinforcement learning, there's always a tradeoff between exploration and exploitation. In our particular case, you could try actions randomly for 10 steps and then always pick the greedy action. This would give you pretty bad results for say k = 10 since you either have no estimate or bad estimates for the actions. In the short-term it might sound desirable but in the long-term, you almost certainly are picking bad actions. Or you could be more patient and wait for 100 steps, get better estimates of the values and then pick the greedy actions. In this case, you spent more time exploring and potentially getting lower rewards for the first 100 steps but then get much higher rewards with lesser uncertainty.\n",
    "\n"
   ]
  },
  {
   "cell_type": "code",
   "execution_count": null,
   "metadata": {
    "hidden": true
   },
   "outputs": [],
   "source": []
  },
  {
   "cell_type": "markdown",
   "metadata": {
    "heading_collapsed": true
   },
   "source": [
    "### Estimating Action Values"
   ]
  },
  {
   "cell_type": "markdown",
   "metadata": {
    "hidden": true
   },
   "source": [
    "So our central problem is to estimate the value of each action in as few time steps as possible. This would then let us use the greedy action and maximize our rewards.\n",
    "\n",
    "There's an obvious way to estimate these values:\n",
    "\n",
    "$$Q_t(a) \\equiv \\frac{\\text{sum of rewards when action a is taken till time t}}{\\text{number of times action a is taken till time t}} = \\frac{\\Sigma_{i=1}^{t-1}R_i \\mathbb{1}_{A_i=a}}{\\Sigma_{i=1}^{t-1} \\mathbb{1}_{A_i=a}}$$\n",
    "\n",
    "The second equation is a more formal way of writing the average reward when action a is taken. $\\mathbb{1}_{A_i=a}$ is a so-called indicator variables such that:\n",
    "\n",
    "$$\\mathbb{1}_{A_i=a} = \\begin{cases}\n",
    "1 \\text{ if } A_i = a \\\\\n",
    "0 \\text{ if } A_i \\neq a \\\\\n",
    "\\end{cases}$$\n",
    "\n",
    "In other words, we are just keeping a running average of rewards for each action in a table. What can go wrong? At a given time t, there might be actions that we never got around to taking. Then we should set $Q_t(a)$ for such actions to be a default low value, say 0. With enough time, our estimates will keep getting better as we take each action more often and in the long-run, $Q_t(a) \\rightarrow q_*(a)$."
   ]
  },
  {
   "cell_type": "markdown",
   "metadata": {
    "heading_collapsed": true
   },
   "source": [
    "### Taking actions "
   ]
  },
  {
   "cell_type": "markdown",
   "metadata": {
    "hidden": true
   },
   "source": [
    "Once we have our estimates, $Q_t(a)$, what should we do? As mentioned before, one could take the greedy action:\n",
    "\n",
    "$$A_t = arg\\,max_{a} Q_t(a)$$\n",
    "\n",
    "What can go wrong with this rule? If done too soon ($t$ is small enough to not get good estimates for the values, $Q_t(a)$), then we could get stuck just picking a few actions and getting more precise estimates for those actions but completely ignoring other actions that might lead to more reward in the long-run. The extreme case is where the best action, the one with the highest $q_*(a)$ was never sampled and has $Q_t(a) = 0$ (our default value) which means it'll never get picked greedily and will never get its value updated.\n",
    "\n",
    "There's a simple solution to this problem. We use the so-called $\\epsilon\\text{-greedy}$ method. $\\epsilon$ is used as a proxy for a small number greater than 0 in mathematics. What this method does is to pick a small number, say $\\epsilon = 10^-2$ and with probability $\\epsilon$, pick a random action and with probability $1-\\epsilon$, pick the greedy action according to the value estimates $Q_t(a)$.\n",
    "\n",
    "Why does this help? Because just by chance we'll randomly take other actions and update their value estimates $Q_t(a)$ which gives every action a chance to get sampled."
   ]
  },
  {
   "cell_type": "markdown",
   "metadata": {
    "heading_collapsed": true
   },
   "source": [
    "### Exercise 2.1"
   ]
  },
  {
   "cell_type": "markdown",
   "metadata": {
    "hidden": true
   },
   "source": [
    "In $\\epsilon\\text{-greedy}$ action selection, for the case of two actions and $\\epsilon=0.5$, what is the probability that the greedy action is selected?"
   ]
  },
  {
   "cell_type": "markdown",
   "metadata": {
    "hidden": true
   },
   "source": [
    "There are two ways to get to the greedy action:\n",
    "\n",
    "1. Pick greedy action with probability $1-\\epsilon$.\n",
    "\n",
    "2. With probability $\\epsilon$, pick a random action. The probability of picking the greedy action is $\\frac{1}{k}$ where $k$ = number of actions.\n",
    "\n",
    "So, total probability of picking the greedy action is:\n",
    "\n",
    "$$1-\\epsilon + \\epsilon \\frac{1}{k} = 1 - \\epsilon(1 - \\frac{1}{k})$$\n",
    "\n",
    "For $\\epsilon = 0.5$ and $k = 2$, we get:\n",
    "\n",
    "$$1 - 0.5*(1-\\frac{1}{2}) = \\frac{3}{4}$$"
   ]
  },
  {
   "cell_type": "markdown",
   "metadata": {},
   "source": [
    "### Sutton-Barto - 2.3 The 10-armed Testbed (Simulations)"
   ]
  },
  {
   "cell_type": "markdown",
   "metadata": {},
   "source": [
    "<img src='media/SuttonBartoBandits.png'>"
   ]
  },
  {
   "cell_type": "code",
   "execution_count": 200,
   "metadata": {},
   "outputs": [],
   "source": [
    "def generate_instance(seed = None):\n",
    "    '''Generate an instance with 10 arms \n",
    "    where each arms has rewards distributed according\n",
    "    to a normal distribution with some mean and variance=1.\n",
    "    The mean of each arm is also chosen according to a normal\n",
    "    distribution which itself has a mean=0.0 and variance=1.\n",
    "    \n",
    "    with means selected\n",
    "    also according to a normal distribution between 0 and 1 \n",
    "    and variance = 1\n",
    "    '''\n",
    "    if seed is not None:\n",
    "        np.random.seed(seed)\n",
    "    \n",
    "    #means = np.random.uniform(low=0.0, high=1.0, size=(10))\n",
    "    \n",
    "    means = np.random.normal(loc=0.0, scale=1.0, size=(10))\n",
    "    variances = np.ones_like(means)\n",
    "    \n",
    "    return means, variances\n",
    "\n",
    "def run_experiment(means, variances, time_steps=1000, epsilon=1e-2, seed=None):\n",
    "    '''Given an instance of the k-armed bandit problem,\n",
    "    run time_steps time steps with epsilon-greedy actions.\n",
    "    Update Q (value of an action) at each time-step\n",
    "    '''\n",
    "    #seed=None -> change state\n",
    "    np.random.seed(seed)\n",
    "    \n",
    "    K = len(means) #number of arms\n",
    "    Q_estimates = np.zeros_like(means) #same shape as means or number of arms\n",
    "    sums = np.zeros_like(means)\n",
    "    counters = np.zeros_like(means)\n",
    "    \n",
    "    total_reward = 0\n",
    "    average_reward_timeseries = []\n",
    "    \n",
    "    for t in range(time_steps):\n",
    "        if np.random.random() < epsilon:\n",
    "            #random selection\n",
    "            arm_selected = np.random.randint(K)\n",
    "        \n",
    "        else:\n",
    "            #greedy selection\n",
    "            arm_selected = np.argmax(Q_estimates)\n",
    "            \n",
    "        m = means[arm_selected]\n",
    "        var = variances[arm_selected]\n",
    "        \n",
    "        reward = np.random.normal(loc=m, scale=var) #rewards are normally distributed\n",
    "        total_reward += reward\n",
    "        average_reward_timeseries.append(total_reward / (t+1))\n",
    "        \n",
    "        #update Q\n",
    "        sums[arm_selected] += reward\n",
    "        counters[arm_selected] += 1\n",
    "        \n",
    "        Q_estimates[arm_selected] = sums[arm_selected] / counters[arm_selected]\n",
    "\n",
    "    assert(np.allclose(np.sum(sums), total_reward, rtol=1e-5)) #comparison within tolerance rtol\n",
    "    \n",
    "    return total_reward, average_reward_timeseries, Q_estimates, means, variances, sums, counters"
   ]
  },
  {
   "cell_type": "code",
   "execution_count": 201,
   "metadata": {
    "scrolled": true
   },
   "outputs": [],
   "source": [
    "means, variances = generate_instance(seed=0)\n",
    "total_reward, avg_reward_ts, Q_estimates, means, variances, sums, counters = run_experiment(means, \n",
    "                                                                                            variances, \n",
    "                                                                                            time_steps=1000, \n",
    "                                                                                            epsilon=1e-2)"
   ]
  },
  {
   "cell_type": "code",
   "execution_count": 202,
   "metadata": {},
   "outputs": [
    {
     "data": {
      "image/png": "[encoded data removed]",
      "text/plain": [
       "<Figure size 432x288 with 1 Axes>"
      ]
     },
     "metadata": {
      "needs_background": "light"
     },
     "output_type": "display_data"
    }
   ],
   "source": [
    "fig, ax = plt.subplots()\n",
    "\n",
    "ax.plot(means, Q_estimates, 'p')\n",
    "ax.plot(means, means)\n",
    "plt.xlabel('Actual Values $q_*(a)$')\n",
    "plt.ylabel('Estimated Values $Q_{1000}(a)$')\n",
    "plt.title(\"Estimated Values vs True Values Annotated with Number of Samples\")\n",
    "\n",
    "for index, number in enumerate(counters):        \n",
    "        ax.annotate(int(number), (means[index], Q_estimates[index]))"
   ]
  },
  {
   "cell_type": "markdown",
   "metadata": {
    "heading_collapsed": true
   },
   "source": [
    "#### Experiment 1: Effect of $\\epsilon$"
   ]
  },
  {
   "cell_type": "code",
   "execution_count": 203,
   "metadata": {
    "hidden": true
   },
   "outputs": [],
   "source": [
    "#Let's run with epsilon 1e-2\n",
    "means, variances = generate_instance(seed=0)\n",
    "total_reward, _, Q_estimates, means, variances, sums, counters = run_experiment(means, \n",
    "                                                                                variances, \n",
    "                                                                                time_steps=1000, \n",
    "                                                                                epsilon=1e-2,\n",
    "                                                                                seed=0)"
   ]
  },
  {
   "cell_type": "code",
   "execution_count": 204,
   "metadata": {
    "hidden": true
   },
   "outputs": [
    {
     "data": {
      "image/png": "[encoded data removed]",
      "text/plain": [
       "<Figure size 432x288 with 1 Axes>"
      ]
     },
     "metadata": {
      "needs_background": "light"
     },
     "output_type": "display_data"
    }
   ],
   "source": [
    "fig, ax = plt.subplots()\n",
    "\n",
    "ax.plot(means, Q_estimates, 'p')\n",
    "ax.plot(means, means)\n",
    "plt.xlabel('Actual Values $q_*(a)$')\n",
    "plt.ylabel('Estimated Values $Q_{1000}(a)$')\n",
    "plt.title(\"Estimated Values vs True Values Annotated with Number of Samples\")\n",
    "\n",
    "for index, number in enumerate(counters):        \n",
    "        ax.annotate(int(number), (means[index], Q_estimates[index]))"
   ]
  },
  {
   "cell_type": "markdown",
   "metadata": {
    "hidden": true
   },
   "source": [
    "In the plot above, the x-axis is the actual value of each action (generated uniformly between 0-1) while the y-value is the estimated value of each action which is a running average of the actions we took during our experiment. The diagonal line is the line $y = x$ where we expect all the points to line i.e. $Q_t(a) = q_*(a)$.\n",
    "\n",
    "While a few points are close to the line, there are many that are pretty far away. We don't have good value estimates for those points. Why does that happen? Each point is annotated with the number of times we visited that lever/action during the experiment. As expected, a few actions were taken multiple times leading to good estimates of their values but others were barely visited (or not visited at all) which leads to bad estimates.\n",
    "\n",
    "This suggests that if we were to increase $\\epsilon$, then we'll randomly sample other states more often leading to better value estimates. Let's try this by increasing $\\epsilon$ by a factor of 10."
   ]
  },
  {
   "cell_type": "code",
   "execution_count": 205,
   "metadata": {
    "hidden": true
   },
   "outputs": [],
   "source": [
    "#Let's run with epsilon 1e-1\n",
    "means, variances = generate_instance(seed=0)\n",
    "total_reward, _, Q_estimates, means, variances, sums, counters = run_experiment(means, \n",
    "                                                                                variances, \n",
    "                                                                                time_steps=1000, \n",
    "                                                                                epsilon=1e-1,\n",
    "                                                                                seed=0)"
   ]
  },
  {
   "cell_type": "code",
   "execution_count": 206,
   "metadata": {
    "hidden": true
   },
   "outputs": [
    {
     "data": {
      "image/png": "[encoded data removed]",
      "text/plain": [
       "<Figure size 432x288 with 1 Axes>"
      ]
     },
     "metadata": {
      "needs_background": "light"
     },
     "output_type": "display_data"
    }
   ],
   "source": [
    "fig, ax = plt.subplots()\n",
    "\n",
    "ax.plot(means, Q_estimates, 'p')\n",
    "ax.plot(means, means)\n",
    "plt.xlabel('Actual Values $q_*(a)$')\n",
    "plt.ylabel('Estimated Values $Q_{1000}(a)$')\n",
    "plt.title(\"Estimated Values vs True Values Annotated with Number of Samples\")\n",
    "\n",
    "for index, number in enumerate(counters):        \n",
    "        ax.annotate(int(number), (means[index], Q_estimates[index]))"
   ]
  },
  {
   "cell_type": "markdown",
   "metadata": {
    "hidden": true
   },
   "source": [
    "Now we have many more points near the diagonal. We still have a couple of points which weren't visited much but the situation is much better than the previous case with $\\epsilon = 1e-2$."
   ]
  },
  {
   "cell_type": "markdown",
   "metadata": {},
   "source": [
    "#### Experiment 2: Average reward vs Number of Steps for Epsilon = (0.0, 0.1, 0.01)"
   ]
  },
  {
   "cell_type": "code",
   "execution_count": 207,
   "metadata": {},
   "outputs": [],
   "source": [
    "#run each particular instance with particular means a total of 2000 times\n",
    "N_experiments = 2000\n",
    "time_steps = 1000"
   ]
  },
  {
   "cell_type": "code",
   "execution_count": 208,
   "metadata": {},
   "outputs": [],
   "source": [
    "# Epsilon = 0.0\n",
    "def get_avg_rewards(epsilon):\n",
    "    avg_rewards = np.zeros((N_experiments, time_steps))\n",
    "    for exp in range(N_experiments):\n",
    "        means, variances = generate_instance(seed=exp)\n",
    "        _, avg_reward_ts, _, _, _, _, _ = run_experiment(means,\n",
    "                                                         variances, \n",
    "                                                         time_steps=time_steps, \n",
    "                                                         epsilon=epsilon)\n",
    "        avg_rewards[exp, :] = avg_reward_ts\n",
    "    \n",
    "    return avg_rewards"
   ]
  },
  {
   "cell_type": "code",
   "execution_count": 209,
   "metadata": {},
   "outputs": [],
   "source": [
    "avg_rewards_eps0 = get_avg_rewards(0.0)\n",
    "avg_rewards_epsd1 = get_avg_rewards(1e-1)\n",
    "avg_rewards_epsdd1 = get_avg_rewards(1e-2)"
   ]
  },
  {
   "cell_type": "code",
   "execution_count": 210,
   "metadata": {},
   "outputs": [
    {
     "data": {
      "text/plain": [
       "Text(0, 0.5, 'Average reward at time t = Total reward / t')"
      ]
     },
     "execution_count": 210,
     "metadata": {},
     "output_type": "execute_result"
    },
    {
     "data": {
      "image/png": "[encoded data removed]",
      "text/plain": [
       "<Figure size 648x648 with 1 Axes>"
      ]
     },
     "metadata": {
      "needs_background": "light"
     },
     "output_type": "display_data"
    }
   ],
   "source": [
    "plt.figure(figsize=(9,9))\n",
    "plt.plot(avg_rewards_eps0.mean(axis=0), label='epsilon = 0.0')\n",
    "plt.plot(avg_rewards_epsdd1.mean(axis=0), label='epsilon=0.01')\n",
    "plt.plot(avg_rewards_epsd1.mean(axis=0), label='epsilon=0.1')\n",
    "plt.legend(loc=4)\n",
    "plt.xlabel('Time Steps')\n",
    "plt.ylabel('Average reward at time t = Total reward / t')"
   ]
  },
  {
   "cell_type": "markdown",
   "metadata": {},
   "source": [
    "Let's understand the plot above. The x-axis is time with a total of 1000 time-steps for each trial. The y-axis is the average reward per time-step as a function of time. In other words, at time t, we take the total reward accumulated till then, and divide by the time elapsed. This is a measure of the efficiency of our learning mechanism. If we learn which lever has the highest reward rapidly, we can keep pulling it thus increasing our average reward per unit time.\n",
    "\n",
    "One problem with making a plot like this is that we might get biased results if we choose just one set of levers and rewards (the parameters of the distributions). To account for this, we generate 2000 experiments, each with 10 levers but with different parameters and run our experiment for each one. For each experiment, we get a time-series of average reward as a function of time. We average these across the 2000 experiments to get the value plotted on the y-axis. This way we can be pretty certain that we are looking at general trends and not something particular to one set of lever reward values.\n",
    "\n",
    "$\\epsilon = 0$: This is the $\\color{blue}{\\text{blue}}$ line. Since $\\epsilon = 0$, at every time-step, we greedily pick the best action or lever i.e. the one with the highest $Q_t(a)$. \n",
    "\n",
    "**Note**: Since we start out with $Q_0(a) = 0,  \\forall a$, np.argmax will pick index = 0 as the first action and update its value, $Q_t(a = 0)$. If this value is positive, action = 0 will be picked again while if it's negative, index = 1 will be picked since $Q_1(a=1) = 0$.\n",
    "\n",
    "In this regime, we are purely exploiting the knowledge we have and very quickly we saturate to an average reward which indicates we stopped learning anything more about our actions.\n",
    "\n",
    "$\\epsilon = 0.01$: This is the $\\color{orange}{\\text{orange}}$ line. In this regime, the average reward keeps climbing because with a small probability ($ = \\epsilon$), we pick a random action that lets us stumble upon more information about the non-greedy actions and get better estimates of their reward. This suggests that we should increase $\\epsilon$ to gather information about other actions more quickly.\n",
    "\n",
    "$\\epsilon = 0.1$: This is the $\\color{green}{\\text{green}}$ line. This is exactly what we expected. With a larger $\\epsilon$, we pick a non-greedy action more frequently and estimate its value with more samples and less uncertainty. This leads to a much faster route to finding the most optimal action i.e. the one with the highest $q_*(a)$.\n"
   ]
  },
  {
   "cell_type": "markdown",
   "metadata": {},
   "source": [
    "#### Experiment 3: Percentage of time optimal action was picked"
   ]
  },
  {
   "cell_type": "markdown",
   "metadata": {},
   "source": [
    "### Sutton-Barto - 2.4 Incremental Computation"
   ]
  },
  {
   "cell_type": "markdown",
   "metadata": {},
   "source": [
    "In the function run_experiments above, we keep track of two lists: sums and counters, each of which is indexed by the action to keep track of the average reward value when action $i$ was taken. In other words:\n",
    "\n",
    "$$Q_t(a) = \\frac{\\text{sums}[a]}{\\text{counters}[a]}$$\n",
    "\n",
    "and $\\text{sums[a]}, \\text{counters}[a]$ is updated each time we take action $a$.\n",
    "\n",
    "In more complicated problems, the action space can be enormous. It pays to compress this computation to just a single array. Can we do that? Yes!\n",
    "\n",
    "Suppose, we have an estimate of an action's value at time t:\n",
    "\n",
    "$$Q_t(a) = \\frac{R_1 + R_2 + \\ldots + R_{t-1}}{t-1}$$\n",
    "\n",
    "This is a bit sloppy since it implies the first $t-1$ steps all took the same action. This is only for notational convenience.)\n",
    "\n",
    "Suppose, we take the same action $a$ at time-step $t$ and get a reward $R_t$. Then,\n",
    "\n",
    "$$Q_{t+1}(a) = \\frac{R_1 + R_2 + \\ldots + R_{t-1} + R_t}{t}$$ \n",
    "\n",
    "by definition. We'll try writing this in terms of $Q_t(a)$.\n",
    "\n",
    "\\begin{equation}\n",
    "\\begin{split}\n",
    "Q_{t+1}(a) &= \\frac{R_1 + R_2 + \\ldots + R_{t-1}}{t} + \\frac{R_t}{t} \\\\\n",
    "& = \\frac{R_1 + R_2 + \\ldots + R_{t-1}}{t-1} \\frac{t-1}{t} + \\frac{R_t}{t} \\\\\n",
    "& = Q_t(a) \\frac{t-1}{t} + \\frac{R_t}{t} \\\\ \n",
    "& = Q_t(a) (1 - \\frac{1}{t}) + \\frac{R_t}{t} \\\\\n",
    "& = Q_t(a) + \\frac{1}{t} [R_t - Q_t(a)] \\\\\n",
    "\\end{split}\n",
    "\\end{equation}\n",
    "\n",
    "This is of a form:\n",
    "\n",
    "$$Q_{\\text{new}} = Q_{\\text{old}} + (\\text{update weight}) \\text{ update}$$\n",
    "\n",
    "where $\\text{update weight} = \\frac{1}{t}$ and $\\text{update} = R_t - Q_t(a)$.\n",
    "\n",
    "If you have seen gradient descent, this should look oddly familiar. Also note that we can now update $Q_t$ with just a direct addition."
   ]
  },
  {
   "cell_type": "code",
   "execution_count": 222,
   "metadata": {},
   "outputs": [],
   "source": [
    "def run_experiment_incremental(means, variances, time_steps=1000, epsilon=1e-2, seed=None):\n",
    "    '''Given an instance of the k-armed bandit problem,\n",
    "    run time_steps time steps with epsilon-greedy actions.\n",
    "    Update Q (value of an action) at each time-step\n",
    "    '''\n",
    "    #seed=None -> change state\n",
    "    np.random.seed(seed)\n",
    "    \n",
    "    K = len(means) #number of arms\n",
    "    Q_estimates = np.zeros_like(means) #same shape as means or number of arms\n",
    "    \n",
    "    total_reward = 0\n",
    "    average_reward_timeseries = []\n",
    "    \n",
    "    for t in range(time_steps):\n",
    "        if np.random.random() < epsilon:\n",
    "            #random selection\n",
    "            arm_selected = np.random.randint(K)\n",
    "        \n",
    "        else:\n",
    "            #greedy selection\n",
    "            arm_selected = np.argmax(Q_estimates)\n",
    "            \n",
    "        m = means[arm_selected]\n",
    "        var = variances[arm_selected]\n",
    "        \n",
    "        reward = np.random.normal(loc=m, scale=var) #rewards are normally distributed\n",
    "        total_reward += reward\n",
    "        average_reward_timeseries.append(total_reward / (t+1))\n",
    "\n",
    "        #incremental update here\n",
    "        Q_estimates[arm_selected] = Q_estimates[arm_selected] + (1/(t+1)) * (reward - Q_estimates[arm_selected])\n",
    "    \n",
    "    return total_reward, average_reward_timeseries, Q_estimates, means, variances"
   ]
  },
  {
   "cell_type": "code",
   "execution_count": 233,
   "metadata": {},
   "outputs": [],
   "source": [
    "means, variances = generate_instance(seed=0)\n",
    "total_reward, avg_reward_ts, Q_estimates, means, variances, sums, counters = run_experiment(means, \n",
    "                                                                                            variances, \n",
    "                                                                                            time_steps=1000, \n",
    "                                                                                            epsilon=1e-2,\n",
    "                                                                                            seed=0)"
   ]
  },
  {
   "cell_type": "code",
   "execution_count": 235,
   "metadata": {},
   "outputs": [
    {
     "name": "stdout",
     "output_type": "stream",
     "text": [
      "[ 1.76405235  0.40015721  0.97873798  2.2408932   1.86755799 -0.97727788\n",
      "  0.95008842 -0.15135721 -0.10321885  0.4105985 ]\n",
      "[1. 1. 1. 1. 1. 1. 1. 1. 1. 1.]\n"
     ]
    }
   ],
   "source": [
    "print(means)\n",
    "print(variances)"
   ]
  },
  {
   "cell_type": "code",
   "execution_count": 230,
   "metadata": {},
   "outputs": [
    {
     "data": {
      "image/png": "[encoded data removed]",
      "text/plain": [
       "<Figure size 432x288 with 1 Axes>"
      ]
     },
     "metadata": {
      "needs_background": "light"
     },
     "output_type": "display_data"
    }
   ],
   "source": [
    "fig, ax = plt.subplots()\n",
    "\n",
    "ax.plot(means, Q_estimates, 'p')\n",
    "ax.plot(means, means)\n",
    "plt.xlabel('Actual Values $q_*(a)$')\n",
    "plt.ylabel('Estimated Values $Q_{1000}(a)$')\n",
    "plt.title(\"Estimated Values vs True Values Annotated with Number of Samples\")\n",
    "\n",
    "for index, number in enumerate(counters):        \n",
    "        ax.annotate(int(number), (means[index], Q_estimates[index]))"
   ]
  },
  {
   "cell_type": "code",
   "execution_count": 236,
   "metadata": {},
   "outputs": [],
   "source": [
    "means, variances = generate_instance(seed=0)\n",
    "total_reward, avg_reward_ts, Q_estimates, means, variances = run_experiment_incremental(means, \n",
    "                                                                                        variances, \n",
    "                                                                                        time_steps=1000, \n",
    "                                                                                        epsilon=1e-2,\n",
    "                                                                                        seed=0)"
   ]
  },
  {
   "cell_type": "code",
   "execution_count": 237,
   "metadata": {},
   "outputs": [
    {
     "name": "stdout",
     "output_type": "stream",
     "text": [
      "[ 1.76405235  0.40015721  0.97873798  2.2408932   1.86755799 -0.97727788\n",
      "  0.95008842 -0.15135721 -0.10321885  0.4105985 ]\n",
      "[1. 1. 1. 1. 1. 1. 1. 1. 1. 1.]\n"
     ]
    }
   ],
   "source": [
    "print(means)\n",
    "print(variances)"
   ]
  },
  {
   "cell_type": "code",
   "execution_count": 232,
   "metadata": {},
   "outputs": [
    {
     "data": {
      "image/png": "[encoded data removed]",
      "text/plain": [
       "<Figure size 432x288 with 1 Axes>"
      ]
     },
     "metadata": {
      "needs_background": "light"
     },
     "output_type": "display_data"
    }
   ],
   "source": [
    "fig, ax = plt.subplots()\n",
    "\n",
    "ax.plot(means, Q_estimates, 'p')\n",
    "ax.plot(means, means)\n",
    "plt.xlabel('Actual Values $q_*(a)$')\n",
    "plt.ylabel('Estimated Values $Q_{1000}(a)$')\n",
    "plt.title(\"Estimated Values vs True Values Annotated with Number of Samples\")\n",
    "\n",
    "for index, number in enumerate(counters):        \n",
    "        ax.annotate(int(number), (means[index], Q_estimates[index]))"
   ]
  },
  {
   "cell_type": "markdown",
   "metadata": {},
   "source": [
    "### Generalizations"
   ]
  },
  {
   "cell_type": "markdown",
   "metadata": {},
   "source": [
    "At this stage, we can think of generalizing the problem. We made a few assumptions which can each be relaxed.\n",
    "\n",
    "**Assumption 1**: The reward distributions are stationary i.e. the probability distribution that each action/lever samples is constant in time. This is generally not true in the real world.\n",
    "\n",
    "**Assumption 2**: Each action taken is completely independent of the other one. In other words, there are no ***dynamics***. The act of taking action $i$ vs action $j$ at time $t$ has no effect on the slot machine itself. This is generally also not true in the real world. A person or a robot has to change their strategy completely if they are walking normally vs if they slip on a certain step. What is done next is highly dependent on the fact that you slipped or didn't slip on the previous step.  One could account for this in our problem by saying that the act of taking a particular action ***changes*** the probability distributions of all other actions which leads to non-stationary distributions too.\n",
    "\n",
    "What would go wrong in our strategy of estimating action values by running averages if the distributions were not stationary? It's easiest to demonstrate with an example. Suppose, we have numbers coming from a uniform random distribution $\\mathcal{U}[0,1]$. This means we pick numbers between 0 and 1 with equal weight given to every number (technically, the real numbers are uncountable so one can't assign a probability to picking a number, say 0.3182. Instead, a uniform distribution means that probability of picking a number between $x$ and $y$ is proportional to $|x-y|$ i.e. the length of the interval as long as $x,y\\in[0,1]$).\n",
    "\n",
    "Now suppose the the interval shifts to the right at a constant speed. In other words, at time t, we are sampling uniformly from the interval $[t, t+1]$. \n",
    "\n",
    "At any given time, the mean should be the mid-point $\\frac{t + t+1}{2} = t + \\frac{1}{2}$. But if we just take all the numbers we recorded till time t, we'll get a misleading answer.\n",
    "\n",
    "At time $t=0$: sampled number is between 0 and 1, say 0.3.\n",
    "\n",
    "At time $t=1$: sampled number is between 1 and 2, say 1.7.\n",
    "\n",
    "At time $t=2$: sampled number is between 2 and 3, say 2.1.\n",
    "\n",
    "So even though, at time $t=3$, we would expect the mean of the last 3 numbers to be somewhere reasonably close to the mean $3.5$, in actuality, we measured numbers completely below this range which would skew the average to:\n",
    "\n",
    "$$\\frac{0.3 + 1.7 + 2.1}{3} = 1.366$$\n",
    "\n",
    "which is completely outside the interval $[3,4]$ at $t=3$!!!!!!\n",
    "\n",
    "The problem is that our past measurements are from completely different distributions because the distribution has been moving in time.\n",
    "\n",
    "How do we deal with this issue? There's an obvious solution. Weight recent measurements more in the running average than past measurements. Instead of the running average being:\n",
    "\n",
    "$$\\frac{x_1 + x_2 + \\ldots + x_n}{n}$$\n",
    "\n",
    "it would be:\n",
    "\n",
    "$$\\frac{w_1 x_1 + w_2 x_2 + \\ldots + w_n x_n}{\\Sigma_{t} w_t}$$\n",
    "\n",
    "where $w_t$ are positive numbers that denote weights. We expect $w_t$ to monotonically increase in time to give more weight to measurements at later times t. In the special case, $w_t = 1, \\forall t$, we get back our usual definition of the unweighted average.\n",
    "\n",
    "So the big question is how should we weigh new updates so that we are biased towards more recent measurements. Recall our update equation for $Q_t(a)$:\n",
    "\n",
    "$$Q_{t+1}(a) = Q_{t}(a) + \\underbrace{\\frac{1}{t}}_{\\text{update weight}} [R_t - Q_t(a)]$$\n",
    "\n",
    "In this case, as time goes on, the update weight $\\frac{1}{t}$ decreases over time which has the effect that each reward value is weighted equally in the running average:\n",
    "\n",
    "$$\\frac{R_1 + R_2 + \\ldots R_t}{t}$$\n",
    "\n",
    "If we were to increase $\\frac{1}{t}$, we'll hopefully get to a situation:\n",
    "\n",
    "$$\\frac{R_1 + R_2 + \\ldots R_t}{t} \\rightarrow \\frac{w_1 R_1 + w_2 R_2 + \\ldots w_t R_t}{t}$$\n",
    "\n",
    "where $w_t$ increases with $t$.\n",
    "\n",
    "We could pick the update weight to be anything of the form $t^p$ where $p$ is a power. Currently we have $p=-1$. The next higher we could go is $p=0$ i.e. $t^0 = 1$. So maybe we could try a constant (instead of just 1), $\\alpha$.\n",
    "\n",
    "$$Q_{t+1}(a) \\stackrel{?}{=} Q_{t}(a) + \\underbrace{\\alpha}_{\\text{try this?}} [R_t - Q_t(a)]$$\n",
    "\n",
    "Let's see what the consequences of this are by unpacking this equation. First note:\n",
    "\n",
    "$$Q_{t+1}(a) = Q_t(a) + \\alpha [R_t - Q_t(a)] \\implies Q_{t+1}(a) = \\alpha R_t + (1-\\alpha) Q_t(a)$$\n",
    "\n",
    "\\begin{equation}\n",
    "\\begin{split}\n",
    "Q_{t+1}(a) &= \\alpha R_t + (1 - \\alpha) Q_t(a)\\\\\n",
    "&= \\alpha R_t + (1 - \\alpha) [\\alpha R_{t-1} + (1 - \\alpha) Q_{t-1}(a)] \\\\\n",
    "&= \\alpha R_t + (1-\\alpha)\\alpha R_{t-1} + (1-\\alpha)^2 Q_{t-1}(a) \\\\\n",
    "&= \\alpha R_t + (1-\\alpha)\\alpha R_{t-1} + (1-\\alpha)^2 [\\alpha R_{t-2} + (1 - \\alpha) Q_{t-2}(a)] \\\\\n",
    "&= \\alpha R_t + (1-\\alpha)\\alpha R_{t-1} + (1-\\alpha)^2 \\alpha R_{t-2} + (1-\\alpha)^3 Q_{t-2}(a)\\\\\n",
    "&= \\alpha R_t + (1-\\alpha)\\alpha R_{t-1} + (1-\\alpha)^2 \\alpha R_{t-2} + \\ldots + (1-\\alpha)^{t-1} \\alpha R_{t-(t-1)} + (1-\\alpha)^{t} \\underbrace{Q_{1}(a)}_{R_1}\\\\\n",
    "\\end{split}\n",
    "\\end{equation}\n",
    "\n",
    "We can see a pattern forming. The most recent reward $R_t$ has a weight of $\\alpha$, the next more recent has a weight of $(1-\\alpha)\\alpha$ and every subsequent reward is multiplied by another factor of $1-\\alpha$. If we select $\\alpha \\in [0,1]$, we'll get a suppression of reward earlier in time with $R_{t-k}$ getting suppressed by $\\alpha (1-\\alpha)^k$\n",
    "\n",
    "This is often called exponential suppression since for small $\\alpha$, $1-\\alpha \\approx e^{-\\alpha}$ (look at the first order Taylor expansion) to give:\n",
    "\n",
    "$Q_{t+1}(a) \\approx \\alpha R_t + \\alpha e^{-\\alpha} R_{t-1} + \\ldots + \\alpha e^{-k\\alpha} R_{t-k} + \\ldots + \\alpha e^{-(t-1)\\alpha} R_1 + e^{-t\\alpha} R_1$.\n",
    "\n",
    "By the way, at this point, you should worry about the weights being normalized i.e. adding to 1. Otherwise we have a weighted sum, not a weighted average. Let's quickly confirm this:\n",
    "\n",
    "\\begin{equation}\n",
    "\\begin{split}\n",
    "\\alpha + \\alpha (1-\\alpha) + \\alpha (1-\\alpha)^2 + \\ldots + \\alpha (1-\\alpha)^{t-1} + (1-\\alpha)^t &= \\alpha [1 +  (1-\\alpha) + (1-\\alpha)^2 + \\ldots + (1-\\alpha)^{t-1}] + (1 - \\alpha)^t \\\\\n",
    "&= \\alpha \\frac{(1-\\alpha)^t-1}{1-\\alpha-1} + (1-\\alpha)^t\n",
    "&= 1\n",
    "\\end{split}\n",
    "\\end{equation}\n"
   ]
  },
  {
   "cell_type": "markdown",
   "metadata": {},
   "source": [
    "### Application to OpenGym Env"
   ]
  },
  {
   "cell_type": "markdown",
   "metadata": {},
   "source": [
    "#### CartPole Environment"
   ]
  },
  {
   "cell_type": "markdown",
   "metadata": {},
   "source": [
    "The goal in the cartpole environment is to balance the pole and keep it vertical as long as possible. More precisely, we have a cart that can move left/right on a frictionless track. There's an upside-down pole that is balanced at the beginning. The state of the setup can be described by 4 numbers at any given point in time:\n",
    "\n",
    "Position of Cart: -2.4 to 2.4\n",
    "\n",
    "Velocity of Cart: -Inf to Inf\n",
    "\n",
    "Pole Angle: -41.8 deg to 41.8 deg\n",
    "\n",
    "Pole Velocity at Tip: -Inf to Inf\n",
    "\n",
    "[Reference Link for Environment](\"https://github.com/openai/gym/wiki/CartPole-v0\">)\n",
    "\n",
    "We can take one of two actions:\n",
    "\n",
    "0: Push cart to left\n",
    "1: Push cart to right\n",
    "\n",
    "For every time-step that the game is active, we get a reward of +1. Our task is to maximize this reward.\n",
    "\n",
    "The trial terminates when:\n",
    "\n",
    "1. The pole angle is greater than 12 deg in either direction.\n",
    "\n",
    "2. Cart reaches the edge of the display.\n",
    "\n",
    "3. Time-steps exceeds 200 steps."
   ]
  },
  {
   "cell_type": "markdown",
   "metadata": {},
   "source": [
    "#### k-armed Bandits"
   ]
  },
  {
   "cell_type": "markdown",
   "metadata": {},
   "source": [
    "We would expect k-armed bandits to be a very poor fit for this problem but let's try anyway.\n",
    "\n",
    "Instead of k-actions, now we have two actions - go left or go right. But, we have a much bigger problem. Instead of just one environment i.e. one set of means and variances for each action/lever, we have one such experiment for ***every possible value in the state space***. In addition, depending on the action we take at time $t$, we end up in a different experiment.\n"
   ]
  },
  {
   "cell_type": "code",
   "execution_count": null,
   "metadata": {},
   "outputs": [],
   "source": [
    "#run N steps\n",
    "env = gym.make('CartPole-v1')\n",
    "\n",
    "state = env.reset()\n",
    "N = 1000 #run 1000 time-steps\n",
    "for t in range(N):\n",
    "    env.render()\n",
    "    action = env.action_space.sample()\n",
    "    state, reward, done, info = env.step(action)\n",
    "    \n",
    "    if done:\n",
    "        state = env.reset()        "
   ]
  },
  {
   "cell_type": "markdown",
   "metadata": {},
   "source": [
    "### Application to netpipe data"
   ]
  },
  {
   "cell_type": "markdown",
   "metadata": {},
   "source": [
    "Let's first try a very simple implementation of contextual bandits. In the multi-armed bandit approach above, each arm had fixed reward distributions. Even when we discussed the non-stationary case, the assumption is that the distribution is changing slowly enough.\n",
    "\n",
    "What if we were randomly put in front of different slot machines, each with k-arms with different underlying parameters for the reward distribution. If we know which machine we are in front of, this problem is context the **contextual multi-arm bandit problem*** or just **contextual bandits**. \n",
    "\n",
    "In the netpipe experiment, if the message size was fixed, we would have a multi-armed bandit problem where we choose between 1 of k discrete RX_DELAY values. The task then is to try out different RX_DELAYS (pull different levers) and follow the algorithm above to find the optimal RX_DELAY for THAT PARTICULAR message value.\n",
    "\n",
    "Since we can have many different message values, we can treat each message value as its own experiment. In the language of data-structures, we have a dictionary of dictionaries. The first dictionary uses the message size as the key and the second dictionary uses the RX_DELAY as a key."
   ]
  },
  {
   "cell_type": "code",
   "execution_count": 242,
   "metadata": {},
   "outputs": [],
   "source": [
    "df = pd.read_csv('../data/netpipe.log')"
   ]
  },
  {
   "cell_type": "code",
   "execution_count": 243,
   "metadata": {},
   "outputs": [
    {
     "data": {
      "text/html": [
       "<div>\n",
       "<style scoped>\n",
       "    .dataframe tbody tr th:only-of-type {\n",
       "        vertical-align: middle;\n",
       "    }\n",
       "\n",
       "    .dataframe tbody tr th {\n",
       "        vertical-align: top;\n",
       "    }\n",
       "\n",
       "    .dataframe thead th {\n",
       "        text-align: right;\n",
       "    }\n",
       "</style>\n",
       "<table border=\"1\" class=\"dataframe\">\n",
       "  <thead>\n",
       "    <tr style=\"text-align: right;\">\n",
       "      <th></th>\n",
       "      <th>MSG</th>\n",
       "      <th>RXD</th>\n",
       "      <th>DTXMXSZRQ</th>\n",
       "      <th>WTHRESH</th>\n",
       "      <th>PTHRESH</th>\n",
       "      <th>HTHRESH</th>\n",
       "      <th>TPUT</th>\n",
       "    </tr>\n",
       "  </thead>\n",
       "  <tbody>\n",
       "    <tr>\n",
       "      <th>0</th>\n",
       "      <td>61535</td>\n",
       "      <td>6</td>\n",
       "      <td>610</td>\n",
       "      <td>10</td>\n",
       "      <td>30</td>\n",
       "      <td>16</td>\n",
       "      <td>3639.59</td>\n",
       "    </tr>\n",
       "    <tr>\n",
       "      <th>1</th>\n",
       "      <td>15571</td>\n",
       "      <td>57</td>\n",
       "      <td>3275</td>\n",
       "      <td>18</td>\n",
       "      <td>22</td>\n",
       "      <td>36</td>\n",
       "      <td>1087.24</td>\n",
       "    </tr>\n",
       "    <tr>\n",
       "      <th>2</th>\n",
       "      <td>54051</td>\n",
       "      <td>52</td>\n",
       "      <td>3212</td>\n",
       "      <td>1</td>\n",
       "      <td>39</td>\n",
       "      <td>11</td>\n",
       "      <td>2874.62</td>\n",
       "    </tr>\n",
       "    <tr>\n",
       "      <th>3</th>\n",
       "      <td>37847</td>\n",
       "      <td>50</td>\n",
       "      <td>2021</td>\n",
       "      <td>21</td>\n",
       "      <td>19</td>\n",
       "      <td>31</td>\n",
       "      <td>2237.28</td>\n",
       "    </tr>\n",
       "    <tr>\n",
       "      <th>4</th>\n",
       "      <td>6288</td>\n",
       "      <td>6</td>\n",
       "      <td>695</td>\n",
       "      <td>34</td>\n",
       "      <td>6</td>\n",
       "      <td>26</td>\n",
       "      <td>744.12</td>\n",
       "    </tr>\n",
       "  </tbody>\n",
       "</table>\n",
       "</div>"
      ],
      "text/plain": [
       "     MSG  RXD  DTXMXSZRQ  WTHRESH  PTHRESH  HTHRESH     TPUT\n",
       "0  61535    6        610       10       30       16  3639.59\n",
       "1  15571   57       3275       18       22       36  1087.24\n",
       "2  54051   52       3212        1       39       11  2874.62\n",
       "3  37847   50       2021       21       19       31  2237.28\n",
       "4   6288    6        695       34        6       26   744.12"
      ]
     },
     "execution_count": 243,
     "metadata": {},
     "output_type": "execute_result"
    }
   ],
   "source": [
    "df.head()"
   ]
  },
  {
   "cell_type": "markdown",
   "metadata": {},
   "source": [
    "#### Step 1: We don't have access to the real netpipe environment in this notebook. So we'll simulate it by sampling from the dataframe df.\n",
    "\n",
    "In other words, for each MSG (message size), we get (a) either sample from TPUT values (this is the reward) by choosing one of the available RXD (actions) or (b) infer a distribution with the sample mean and variance and sample from the distribution."
   ]
  },
  {
   "cell_type": "code",
   "execution_count": 251,
   "metadata": {},
   "outputs": [
    {
     "data": {
      "text/plain": [
       "Text(0.5, 1.0, 'Different slopes signifiy different granularities of sampling in different ranges')"
      ]
     },
     "execution_count": 251,
     "metadata": {},
     "output_type": "execute_result"
    },
    {
     "data": {
      "image/png": "[encoded data removed]",
      "text/plain": [
       "<Figure size 576x576 with 1 Axes>"
      ]
     },
     "metadata": {
      "needs_background": "light"
     },
     "output_type": "display_data"
    }
   ],
   "source": [
    "plt.figure(figsize=(8,8))\n",
    "plt.plot(np.sort(df.MSG.unique()),'p')\n",
    "plt.xlabel('Index in Array of Uniques')\n",
    "plt.ylabel('MSG value')\n",
    "plt.title('Different slopes signifiy different granularities of sampling in different ranges')"
   ]
  },
  {
   "cell_type": "code",
   "execution_count": 257,
   "metadata": {},
   "outputs": [
    {
     "data": {
      "text/plain": [
       "RXD          8\n",
       "DTXMXSZRQ    8\n",
       "WTHRESH      8\n",
       "PTHRESH      8\n",
       "HTHRESH      8\n",
       "TPUT         8\n",
       "dtype: int64"
      ]
     },
     "execution_count": 257,
     "metadata": {},
     "output_type": "execute_result"
    }
   ],
   "source": [
    "df.groupby('MSG').count().max()\n",
    "\n",
    "# First problem: have at most 8 values for any given MSG (context)\n",
    "# Solution: Let's bin the MSG values by percentiles"
   ]
  },
  {
   "cell_type": "markdown",
   "metadata": {},
   "source": [
    "##### Mapping MSG -> Index in percentiles"
   ]
  },
  {
   "cell_type": "code",
   "execution_count": 326,
   "metadata": {},
   "outputs": [
    {
     "name": "stdout",
     "output_type": "stream",
     "text": [
      "[   501.    2836.7   5182.4   7471.1   9779.   12254.   14688.4  17136.9\n",
      "  19620.2  24143.   29203.   38188.   47775.6  67427.2  89869.4 112952.\n",
      " 136439.2 159970.  183040.  250595.3]\n"
     ]
    }
   ],
   "source": [
    "percentiles = np.percentile(df.MSG, np.arange(0, 100, 5))\n",
    "print(percentiles)"
   ]
  },
  {
   "cell_type": "code",
   "execution_count": 327,
   "metadata": {},
   "outputs": [],
   "source": [
    "def find_percentile_index(value, percentiles):\n",
    "    if value < percentiles[0]:\n",
    "        return -1\n",
    "    if value > percentiles[-1]:\n",
    "        return len(percentiles)-1\n",
    "    \n",
    "    return np.where(np.histogram([value], bins=percentiles)[0]==1)[0][0]"
   ]
  },
  {
   "cell_type": "code",
   "execution_count": 328,
   "metadata": {},
   "outputs": [
    {
     "name": "stdout",
     "output_type": "stream",
     "text": [
      "-1\n",
      "1\n",
      "18\n",
      "19\n"
     ]
    }
   ],
   "source": [
    "print(find_percentile_index(500, percentiles))\n",
    "print(find_percentile_index(2840, percentiles))\n",
    "print(find_percentile_index(250595, percentiles))\n",
    "print(find_percentile_index(250596, percentiles))"
   ]
  },
  {
   "cell_type": "code",
   "execution_count": 330,
   "metadata": {},
   "outputs": [],
   "source": [
    "df['bin'] = df.MSG.apply(lambda x: find_percentile_index(x, percentiles))"
   ]
  },
  {
   "cell_type": "code",
   "execution_count": 331,
   "metadata": {},
   "outputs": [
    {
     "data": {
      "text/html": [
       "<div>\n",
       "<style scoped>\n",
       "    .dataframe tbody tr th:only-of-type {\n",
       "        vertical-align: middle;\n",
       "    }\n",
       "\n",
       "    .dataframe tbody tr th {\n",
       "        vertical-align: top;\n",
       "    }\n",
       "\n",
       "    .dataframe thead th {\n",
       "        text-align: right;\n",
       "    }\n",
       "</style>\n",
       "<table border=\"1\" class=\"dataframe\">\n",
       "  <thead>\n",
       "    <tr style=\"text-align: right;\">\n",
       "      <th></th>\n",
       "      <th>MSG</th>\n",
       "      <th>RXD</th>\n",
       "      <th>DTXMXSZRQ</th>\n",
       "      <th>WTHRESH</th>\n",
       "      <th>PTHRESH</th>\n",
       "      <th>HTHRESH</th>\n",
       "      <th>TPUT</th>\n",
       "      <th>bin</th>\n",
       "    </tr>\n",
       "  </thead>\n",
       "  <tbody>\n",
       "    <tr>\n",
       "      <th>0</th>\n",
       "      <td>61535</td>\n",
       "      <td>6</td>\n",
       "      <td>610</td>\n",
       "      <td>10</td>\n",
       "      <td>30</td>\n",
       "      <td>16</td>\n",
       "      <td>3639.59</td>\n",
       "      <td>12</td>\n",
       "    </tr>\n",
       "    <tr>\n",
       "      <th>1</th>\n",
       "      <td>15571</td>\n",
       "      <td>57</td>\n",
       "      <td>3275</td>\n",
       "      <td>18</td>\n",
       "      <td>22</td>\n",
       "      <td>36</td>\n",
       "      <td>1087.24</td>\n",
       "      <td>6</td>\n",
       "    </tr>\n",
       "    <tr>\n",
       "      <th>2</th>\n",
       "      <td>54051</td>\n",
       "      <td>52</td>\n",
       "      <td>3212</td>\n",
       "      <td>1</td>\n",
       "      <td>39</td>\n",
       "      <td>11</td>\n",
       "      <td>2874.62</td>\n",
       "      <td>12</td>\n",
       "    </tr>\n",
       "    <tr>\n",
       "      <th>3</th>\n",
       "      <td>37847</td>\n",
       "      <td>50</td>\n",
       "      <td>2021</td>\n",
       "      <td>21</td>\n",
       "      <td>19</td>\n",
       "      <td>31</td>\n",
       "      <td>2237.28</td>\n",
       "      <td>10</td>\n",
       "    </tr>\n",
       "    <tr>\n",
       "      <th>4</th>\n",
       "      <td>6288</td>\n",
       "      <td>6</td>\n",
       "      <td>695</td>\n",
       "      <td>34</td>\n",
       "      <td>6</td>\n",
       "      <td>26</td>\n",
       "      <td>744.12</td>\n",
       "      <td>2</td>\n",
       "    </tr>\n",
       "  </tbody>\n",
       "</table>\n",
       "</div>"
      ],
      "text/plain": [
       "     MSG  RXD  DTXMXSZRQ  WTHRESH  PTHRESH  HTHRESH     TPUT  bin\n",
       "0  61535    6        610       10       30       16  3639.59   12\n",
       "1  15571   57       3275       18       22       36  1087.24    6\n",
       "2  54051   52       3212        1       39       11  2874.62   12\n",
       "3  37847   50       2021       21       19       31  2237.28   10\n",
       "4   6288    6        695       34        6       26   744.12    2"
      ]
     },
     "execution_count": 331,
     "metadata": {},
     "output_type": "execute_result"
    }
   ],
   "source": [
    "df.head()"
   ]
  },
  {
   "cell_type": "code",
   "execution_count": 332,
   "metadata": {},
   "outputs": [
    {
     "data": {
      "text/html": [
       "<div>\n",
       "<style scoped>\n",
       "    .dataframe tbody tr th:only-of-type {\n",
       "        vertical-align: middle;\n",
       "    }\n",
       "\n",
       "    .dataframe tbody tr th {\n",
       "        vertical-align: top;\n",
       "    }\n",
       "\n",
       "    .dataframe thead th {\n",
       "        text-align: right;\n",
       "    }\n",
       "</style>\n",
       "<table border=\"1\" class=\"dataframe\">\n",
       "  <thead>\n",
       "    <tr style=\"text-align: right;\">\n",
       "      <th></th>\n",
       "      <th>MSG</th>\n",
       "      <th>RXD</th>\n",
       "      <th>DTXMXSZRQ</th>\n",
       "      <th>WTHRESH</th>\n",
       "      <th>PTHRESH</th>\n",
       "      <th>HTHRESH</th>\n",
       "      <th>TPUT</th>\n",
       "    </tr>\n",
       "    <tr>\n",
       "      <th>bin</th>\n",
       "      <th></th>\n",
       "      <th></th>\n",
       "      <th></th>\n",
       "      <th></th>\n",
       "      <th></th>\n",
       "      <th></th>\n",
       "      <th></th>\n",
       "    </tr>\n",
       "  </thead>\n",
       "  <tbody>\n",
       "    <tr>\n",
       "      <th>0</th>\n",
       "      <td>2568</td>\n",
       "      <td>2568</td>\n",
       "      <td>2568</td>\n",
       "      <td>2568</td>\n",
       "      <td>2568</td>\n",
       "      <td>2568</td>\n",
       "      <td>2568</td>\n",
       "    </tr>\n",
       "    <tr>\n",
       "      <th>1</th>\n",
       "      <td>2568</td>\n",
       "      <td>2568</td>\n",
       "      <td>2568</td>\n",
       "      <td>2568</td>\n",
       "      <td>2568</td>\n",
       "      <td>2568</td>\n",
       "      <td>2568</td>\n",
       "    </tr>\n",
       "    <tr>\n",
       "      <th>2</th>\n",
       "      <td>2568</td>\n",
       "      <td>2568</td>\n",
       "      <td>2568</td>\n",
       "      <td>2568</td>\n",
       "      <td>2568</td>\n",
       "      <td>2568</td>\n",
       "      <td>2568</td>\n",
       "    </tr>\n",
       "    <tr>\n",
       "      <th>3</th>\n",
       "      <td>2565</td>\n",
       "      <td>2565</td>\n",
       "      <td>2565</td>\n",
       "      <td>2565</td>\n",
       "      <td>2565</td>\n",
       "      <td>2565</td>\n",
       "      <td>2565</td>\n",
       "    </tr>\n",
       "    <tr>\n",
       "      <th>4</th>\n",
       "      <td>2570</td>\n",
       "      <td>2570</td>\n",
       "      <td>2570</td>\n",
       "      <td>2570</td>\n",
       "      <td>2570</td>\n",
       "      <td>2570</td>\n",
       "      <td>2570</td>\n",
       "    </tr>\n",
       "    <tr>\n",
       "      <th>5</th>\n",
       "      <td>2568</td>\n",
       "      <td>2568</td>\n",
       "      <td>2568</td>\n",
       "      <td>2568</td>\n",
       "      <td>2568</td>\n",
       "      <td>2568</td>\n",
       "      <td>2568</td>\n",
       "    </tr>\n",
       "    <tr>\n",
       "      <th>6</th>\n",
       "      <td>2567</td>\n",
       "      <td>2567</td>\n",
       "      <td>2567</td>\n",
       "      <td>2567</td>\n",
       "      <td>2567</td>\n",
       "      <td>2567</td>\n",
       "      <td>2567</td>\n",
       "    </tr>\n",
       "    <tr>\n",
       "      <th>7</th>\n",
       "      <td>2568</td>\n",
       "      <td>2568</td>\n",
       "      <td>2568</td>\n",
       "      <td>2568</td>\n",
       "      <td>2568</td>\n",
       "      <td>2568</td>\n",
       "      <td>2568</td>\n",
       "    </tr>\n",
       "    <tr>\n",
       "      <th>8</th>\n",
       "      <td>2567</td>\n",
       "      <td>2567</td>\n",
       "      <td>2567</td>\n",
       "      <td>2567</td>\n",
       "      <td>2567</td>\n",
       "      <td>2567</td>\n",
       "      <td>2567</td>\n",
       "    </tr>\n",
       "    <tr>\n",
       "      <th>9</th>\n",
       "      <td>2568</td>\n",
       "      <td>2568</td>\n",
       "      <td>2568</td>\n",
       "      <td>2568</td>\n",
       "      <td>2568</td>\n",
       "      <td>2568</td>\n",
       "      <td>2568</td>\n",
       "    </tr>\n",
       "    <tr>\n",
       "      <th>10</th>\n",
       "      <td>2567</td>\n",
       "      <td>2567</td>\n",
       "      <td>2567</td>\n",
       "      <td>2567</td>\n",
       "      <td>2567</td>\n",
       "      <td>2567</td>\n",
       "      <td>2567</td>\n",
       "    </tr>\n",
       "    <tr>\n",
       "      <th>11</th>\n",
       "      <td>2569</td>\n",
       "      <td>2569</td>\n",
       "      <td>2569</td>\n",
       "      <td>2569</td>\n",
       "      <td>2569</td>\n",
       "      <td>2569</td>\n",
       "      <td>2569</td>\n",
       "    </tr>\n",
       "    <tr>\n",
       "      <th>12</th>\n",
       "      <td>2568</td>\n",
       "      <td>2568</td>\n",
       "      <td>2568</td>\n",
       "      <td>2568</td>\n",
       "      <td>2568</td>\n",
       "      <td>2568</td>\n",
       "      <td>2568</td>\n",
       "    </tr>\n",
       "    <tr>\n",
       "      <th>13</th>\n",
       "      <td>2567</td>\n",
       "      <td>2567</td>\n",
       "      <td>2567</td>\n",
       "      <td>2567</td>\n",
       "      <td>2567</td>\n",
       "      <td>2567</td>\n",
       "      <td>2567</td>\n",
       "    </tr>\n",
       "    <tr>\n",
       "      <th>14</th>\n",
       "      <td>2567</td>\n",
       "      <td>2567</td>\n",
       "      <td>2567</td>\n",
       "      <td>2567</td>\n",
       "      <td>2567</td>\n",
       "      <td>2567</td>\n",
       "      <td>2567</td>\n",
       "    </tr>\n",
       "    <tr>\n",
       "      <th>15</th>\n",
       "      <td>2569</td>\n",
       "      <td>2569</td>\n",
       "      <td>2569</td>\n",
       "      <td>2569</td>\n",
       "      <td>2569</td>\n",
       "      <td>2569</td>\n",
       "      <td>2569</td>\n",
       "    </tr>\n",
       "    <tr>\n",
       "      <th>16</th>\n",
       "      <td>2567</td>\n",
       "      <td>2567</td>\n",
       "      <td>2567</td>\n",
       "      <td>2567</td>\n",
       "      <td>2567</td>\n",
       "      <td>2567</td>\n",
       "      <td>2567</td>\n",
       "    </tr>\n",
       "    <tr>\n",
       "      <th>17</th>\n",
       "      <td>2568</td>\n",
       "      <td>2568</td>\n",
       "      <td>2568</td>\n",
       "      <td>2568</td>\n",
       "      <td>2568</td>\n",
       "      <td>2568</td>\n",
       "      <td>2568</td>\n",
       "    </tr>\n",
       "    <tr>\n",
       "      <th>18</th>\n",
       "      <td>2568</td>\n",
       "      <td>2568</td>\n",
       "      <td>2568</td>\n",
       "      <td>2568</td>\n",
       "      <td>2568</td>\n",
       "      <td>2568</td>\n",
       "      <td>2568</td>\n",
       "    </tr>\n",
       "    <tr>\n",
       "      <th>19</th>\n",
       "      <td>2568</td>\n",
       "      <td>2568</td>\n",
       "      <td>2568</td>\n",
       "      <td>2568</td>\n",
       "      <td>2568</td>\n",
       "      <td>2568</td>\n",
       "      <td>2568</td>\n",
       "    </tr>\n",
       "  </tbody>\n",
       "</table>\n",
       "</div>"
      ],
      "text/plain": [
       "      MSG   RXD  DTXMXSZRQ  WTHRESH  PTHRESH  HTHRESH  TPUT\n",
       "bin                                                        \n",
       "0    2568  2568       2568     2568     2568     2568  2568\n",
       "1    2568  2568       2568     2568     2568     2568  2568\n",
       "2    2568  2568       2568     2568     2568     2568  2568\n",
       "3    2565  2565       2565     2565     2565     2565  2565\n",
       "4    2570  2570       2570     2570     2570     2570  2570\n",
       "5    2568  2568       2568     2568     2568     2568  2568\n",
       "6    2567  2567       2567     2567     2567     2567  2567\n",
       "7    2568  2568       2568     2568     2568     2568  2568\n",
       "8    2567  2567       2567     2567     2567     2567  2567\n",
       "9    2568  2568       2568     2568     2568     2568  2568\n",
       "10   2567  2567       2567     2567     2567     2567  2567\n",
       "11   2569  2569       2569     2569     2569     2569  2569\n",
       "12   2568  2568       2568     2568     2568     2568  2568\n",
       "13   2567  2567       2567     2567     2567     2567  2567\n",
       "14   2567  2567       2567     2567     2567     2567  2567\n",
       "15   2569  2569       2569     2569     2569     2569  2569\n",
       "16   2567  2567       2567     2567     2567     2567  2567\n",
       "17   2568  2568       2568     2568     2568     2568  2568\n",
       "18   2568  2568       2568     2568     2568     2568  2568\n",
       "19   2568  2568       2568     2568     2568     2568  2568"
      ]
     },
     "execution_count": 332,
     "metadata": {},
     "output_type": "execute_result"
    }
   ],
   "source": [
    "df.groupby('bin').count()\n",
    "\n",
    "#We essentially merged together a bunch of MSG values to create 20 environments\n",
    "#where each environment is defined for 1/20th of the message sizes"
   ]
  },
  {
   "cell_type": "code",
   "execution_count": 333,
   "metadata": {},
   "outputs": [
    {
     "data": {
      "image/png": "[encoded data removed]",
      "text/plain": [
       "<Figure size 864x864 with 20 Axes>"
      ]
     },
     "metadata": {
      "needs_background": "light"
     },
     "output_type": "display_data"
    }
   ],
   "source": [
    "#some exploratory plots\n",
    "df.hist(column='RXD', by='bin', figsize=(12,12));\n",
    "\n",
    "#looking at the plots below, the distribution of arms/RXD values is pretty uniform i.e.\n",
    "#we have enough statistics for each arm"
   ]
  },
  {
   "cell_type": "code",
   "execution_count": 334,
   "metadata": {},
   "outputs": [
    {
     "data": {
      "text/plain": [
       "(array([10.,  6.,  7.,  7.,  5.,  1.,  0.,  3.,  5.,  6.]),\n",
       " array([428.13 , 465.333, 502.536, 539.739, 576.942, 614.145, 651.348,\n",
       "        688.551, 725.754, 762.957, 800.16 ]),\n",
       " <a list of 10 Patch objects>)"
      ]
     },
     "execution_count": 334,
     "metadata": {},
     "output_type": "execute_result"
    },
    {
     "data": {
      "image/png": "[encoded data removed]",
      "text/plain": [
       "<Figure size 432x288 with 1 Axes>"
      ]
     },
     "metadata": {
      "needs_background": "light"
     },
     "output_type": "display_data"
    }
   ],
   "source": [
    "#reward distribution\n",
    "plt.hist(df[(df.bin==1) & (df.RXD==40)].TPUT)"
   ]
  },
  {
   "cell_type": "markdown",
   "metadata": {},
   "source": [
    "Let's spend some time discussing what was done above? I'll use the column names in the dataframe below.\n",
    "\n",
    "MSG -> Message size\n",
    "\n",
    "RXD -> Time delay\n",
    "\n",
    "TPUT -> Throughput\n",
    "\n",
    "Ignore the rest for now\n",
    "\n",
    "For the netpipe experiment, we want to learn what the appropriate RXD value is for a given MSG. In particular, the exploratory plots (not in this notebook) show that there are RXD values that maximize TPUT (throughput) or power efficiency for a fixed MSG. The k-armed bandits way of phrasing this problem is the following:\n",
    "\n",
    "* Fix a message size\n",
    "\n",
    "* There are k-arms - one for each possible RXD\n",
    "\n",
    "* When we pull on an arm i.e. we select a RXD, we get a certain reward (TPUT, power efficiency)\n",
    "\n",
    "* The reward is stochastic (many other factors are not in our control) and our task is to find the RXD with the maximum expected value of reward (maximum mean).\n",
    "\n",
    "* We can follow the learning algorithm for k-armed bandits above.\n",
    "\n",
    "* But we don't have just one message size.\n",
    "\n",
    "* We can treat this problem as one k-armed bandit problem for each message size.\n",
    "\n",
    "* In real-life, we would implement the learning algorithm and let the experiment run. But we don't have the experiment in this notebook and we also want to use the already collected data.\n",
    "\n",
    "* We can reconstruct the experimental setup by calculating the properties of the distribution of the rewards for each (MSG, RXD) pair. As one would expect, this leads to a loss of statistics i.e. each such pair has very few measurements giving us very noisy and unusable reward values.\n",
    "\n",
    "* To fix this, we group together consecutive MSG values into one bucket where we define each bucket to be the 5% percentiles. This might be increased (7-10%) to increase the statistics but still maintain a fine granularity in MSG. We could also have combined RXD values but let's not do that for now."
   ]
  },
  {
   "cell_type": "code",
   "execution_count": 335,
   "metadata": {},
   "outputs": [
    {
     "data": {
      "text/plain": [
       "array([ 6, 57, 52, 50, 58,  5, 45, 37, 22,  4, 51, 36, 46, 14, 55, 38, 20,\n",
       "       41, 49, 29, 33, 18, 11, 54, 17, 31, 13, 44, 12, 47, 30,  7, 40, 48,\n",
       "       10, 59, 39,  8, 26, 32, 27, 15, 35,  3, 34, 53, 24, 19, 21,  9, 28,\n",
       "       42, 60, 23, 43, 25, 56, 16,  2,  1])"
      ]
     },
     "execution_count": 335,
     "metadata": {},
     "output_type": "execute_result"
    }
   ],
   "source": [
    "df.RXD.unique()"
   ]
  },
  {
   "cell_type": "code",
   "execution_count": 337,
   "metadata": {},
   "outputs": [
    {
     "data": {
      "text/plain": [
       "array([ 1,  2,  3,  4,  5,  6,  7,  8,  9, 10, 11, 12, 13, 14, 15, 16, 17,\n",
       "       18, 19, 20, 21, 22, 23, 24, 25, 26, 27, 28, 29, 30, 31, 32, 33, 34,\n",
       "       35, 36, 37, 38, 39, 40, 41, 42, 43, 44, 45, 46, 47, 48, 49, 50, 51,\n",
       "       52, 53, 54, 55, 56, 57, 58, 59, 60])"
      ]
     },
     "execution_count": 337,
     "metadata": {},
     "output_type": "execute_result"
    }
   ],
   "source": [
    "np.sort(df.RXD.unique())"
   ]
  },
  {
   "cell_type": "code",
   "execution_count": 347,
   "metadata": {},
   "outputs": [],
   "source": [
    "def netpipe_bandits(df, epsilon=1e-1, seed=None):\n",
    "    '''Given an instance of the k-armed bandit problem,\n",
    "    run time_steps time steps with epsilon-greedy actions.\n",
    "    Update Q (value of an action) at each time-step\n",
    "    '''\n",
    "    \n",
    "    #seed=None -> change state\n",
    "    np.random.seed(seed)\n",
    "    \n",
    "    #dictionaries mapping bins -> lists\n",
    "    Q_estimates = {}\n",
    "    sums = {}\n",
    "    counters = {}\n",
    "    \n",
    "    bin_list = df.bin.unique()\n",
    "    \n",
    "    #data\n",
    "    bin_values = df.bin\n",
    "    rxd_values = df.RXD\n",
    "    tput_values = df.TPUT\n",
    "    \n",
    "    N_time_steps = len(bin_values)\n",
    "    \n",
    "    #number of arms\n",
    "    unique_arms = np.sort(df.RXD.unique())\n",
    "    K = len(df.RXD.unique()) #should discretize arms    \n",
    "\n",
    "    #initialize lists\n",
    "    for bin_val in bin_list:\n",
    "        Q_estimates[bin_val] = np.zeros(K)\n",
    "        sums[bin_val] = np.zeros(K)\n",
    "        counters[bin_val] = np.zeros(K)\n",
    "            \n",
    "    total_reward = 0\n",
    "    average_reward_timeseries = []\n",
    "    \n",
    "    #Start experiment\n",
    "    for t in range(N_time_steps): #loop over df\n",
    "        bin_val = bin_values[t]\n",
    "    \n",
    "        if np.random.random() < epsilon:\n",
    "            #random selection\n",
    "            arm_index_selected = np.random.randint(K)\n",
    "        \n",
    "        else:\n",
    "            #greedy selection\n",
    "            arm_index_selected = np.argmax(Q_estimates[bin_val])\n",
    "        \n",
    "        arm_selected = unique_arms[arm_index_selected]\n",
    "        \n",
    "        #get reward - empirical sampling\n",
    "        print(f'Bin = {bin_val}')\n",
    "        print(f'Rxd = {arm_selected}')\n",
    "        print(df[(df.bin==bin_val) & (df.RXD==arm_selected)].shape)\n",
    "        reward = np.random.choice(df[(df.bin==bin_val) & (df.RXD==arm_selected)].TPUT)\n",
    "        #note: this step above will be realllly slow -> replace df by np.array\n",
    "        \n",
    "        total_reward += reward\n",
    "        average_reward_timeseries.append(total_reward / (t+1))\n",
    "        \n",
    "        #update Q\n",
    "        sums[bin_val][arm_index_selected] += reward\n",
    "        counters[bin_val][arm_index_selected] += 1\n",
    "        \n",
    "        Q_estimates[bin_val][arm_index_selected] = sums[bin_val][arm_index_selected] / counters[bin_val][arm_index_selected]\n",
    "\n",
    "    #assert(np.allclose(np.sum(sums), total_reward, rtol=1e-5)) #comparison within tolerance rtol\n",
    "    \n",
    "    return total_reward, average_reward_timeseries, Q_estimates, sums, counters"
   ]
  },
  {
   "cell_type": "code",
   "execution_count": 348,
   "metadata": {},
   "outputs": [
    {
     "name": "stdout",
     "output_type": "stream",
     "text": [
      "Bin = 12\n",
      "Rxd = 1\n",
      "(0, 8)\n"
     ]
    },
    {
     "ename": "ValueError",
     "evalue": "'a' cannot be empty unless no samples are taken",
     "output_type": "error",
     "traceback": [
      "\u001b[0;31m---------------------------------------------------------------------------\u001b[0m",
      "\u001b[0;31mValueError\u001b[0m                                Traceback (most recent call last)",
      "\u001b[0;32m<ipython-input-348-42333a9641e0>\u001b[0m in \u001b[0;36m<module>\u001b[0;34m\u001b[0m\n\u001b[0;32m----> 1\u001b[0;31m \u001b[0mtotal_reward\u001b[0m\u001b[0;34m,\u001b[0m \u001b[0maverage_reward_ts\u001b[0m\u001b[0;34m,\u001b[0m \u001b[0mQ_estimates\u001b[0m\u001b[0;34m,\u001b[0m \u001b[0msums\u001b[0m\u001b[0;34m,\u001b[0m \u001b[0mcounters\u001b[0m \u001b[0;34m=\u001b[0m \u001b[0mnetpipe_bandits\u001b[0m\u001b[0;34m(\u001b[0m\u001b[0mdf\u001b[0m\u001b[0;34m)\u001b[0m\u001b[0;34m\u001b[0m\u001b[0;34m\u001b[0m\u001b[0m\n\u001b[0m",
      "\u001b[0;32m<ipython-input-347-2025923cf119>\u001b[0m in \u001b[0;36mnetpipe_bandits\u001b[0;34m(df, epsilon, seed)\u001b[0m\n\u001b[1;32m     53\u001b[0m         \u001b[0mprint\u001b[0m\u001b[0;34m(\u001b[0m\u001b[0;34mf'Rxd = {arm_selected}'\u001b[0m\u001b[0;34m)\u001b[0m\u001b[0;34m\u001b[0m\u001b[0;34m\u001b[0m\u001b[0m\n\u001b[1;32m     54\u001b[0m         \u001b[0mprint\u001b[0m\u001b[0;34m(\u001b[0m\u001b[0mdf\u001b[0m\u001b[0;34m[\u001b[0m\u001b[0;34m(\u001b[0m\u001b[0mdf\u001b[0m\u001b[0;34m.\u001b[0m\u001b[0mbin\u001b[0m\u001b[0;34m==\u001b[0m\u001b[0mbin_val\u001b[0m\u001b[0;34m)\u001b[0m \u001b[0;34m&\u001b[0m \u001b[0;34m(\u001b[0m\u001b[0mdf\u001b[0m\u001b[0;34m.\u001b[0m\u001b[0mRXD\u001b[0m\u001b[0;34m==\u001b[0m\u001b[0marm_selected\u001b[0m\u001b[0;34m)\u001b[0m\u001b[0;34m]\u001b[0m\u001b[0;34m.\u001b[0m\u001b[0mshape\u001b[0m\u001b[0;34m)\u001b[0m\u001b[0;34m\u001b[0m\u001b[0;34m\u001b[0m\u001b[0m\n\u001b[0;32m---> 55\u001b[0;31m         \u001b[0mreward\u001b[0m \u001b[0;34m=\u001b[0m \u001b[0mnp\u001b[0m\u001b[0;34m.\u001b[0m\u001b[0mrandom\u001b[0m\u001b[0;34m.\u001b[0m\u001b[0mchoice\u001b[0m\u001b[0;34m(\u001b[0m\u001b[0mdf\u001b[0m\u001b[0;34m[\u001b[0m\u001b[0;34m(\u001b[0m\u001b[0mdf\u001b[0m\u001b[0;34m.\u001b[0m\u001b[0mbin\u001b[0m\u001b[0;34m==\u001b[0m\u001b[0mbin_val\u001b[0m\u001b[0;34m)\u001b[0m \u001b[0;34m&\u001b[0m \u001b[0;34m(\u001b[0m\u001b[0mdf\u001b[0m\u001b[0;34m.\u001b[0m\u001b[0mRXD\u001b[0m\u001b[0;34m==\u001b[0m\u001b[0marm_selected\u001b[0m\u001b[0;34m)\u001b[0m\u001b[0;34m]\u001b[0m\u001b[0;34m.\u001b[0m\u001b[0mTPUT\u001b[0m\u001b[0;34m)\u001b[0m\u001b[0;34m\u001b[0m\u001b[0;34m\u001b[0m\u001b[0m\n\u001b[0m\u001b[1;32m     56\u001b[0m         \u001b[0;31m#note: this step above will be realllly slow -> replace df by np.array\u001b[0m\u001b[0;34m\u001b[0m\u001b[0;34m\u001b[0m\u001b[0;34m\u001b[0m\u001b[0m\n\u001b[1;32m     57\u001b[0m \u001b[0;34m\u001b[0m\u001b[0m\n",
      "\u001b[0;32mmtrand.pyx\u001b[0m in \u001b[0;36mmtrand.RandomState.choice\u001b[0;34m()\u001b[0m\n",
      "\u001b[0;31mValueError\u001b[0m: 'a' cannot be empty unless no samples are taken"
     ]
    }
   ],
   "source": [
    "total_reward, average_reward_ts, Q_estimates, sums, counters = netpipe_bandits(df)"
   ]
  },
  {
   "cell_type": "markdown",
   "metadata": {},
   "source": []
  }
 ],
 "metadata": {
  "kernelspec": {
   "display_name": "Python 3",
   "language": "python",
   "name": "python3"
  },
  "language_info": {
   "codemirror_mode": {
    "name": "ipython",
    "version": 3
   },
   "file_extension": ".py",
   "mimetype": "text/x-python",
   "name": "python",
   "nbconvert_exporter": "python",
   "pygments_lexer": "ipython3",
   "version": "3.7.3"
  }
 },
 "nbformat": 4,
 "nbformat_minor": 2
}
