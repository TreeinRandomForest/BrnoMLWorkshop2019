{
 "cells": [
  {
   "cell_type": "markdown",
   "metadata": {},
   "source": [
    "# What is PyTorch?\n",
    "\n",
    "PyTorch (https://pytorch.org/) is a machine learning framework for training deep neural networks. Neural networks are represented as computational graphs i.e. graphs of nodes and weighted edges where each node represents some mathematical function. As we saw in the lectures, a central task during training is to compute the derivatives of the loss function with respect to all the weights of the edges. These derivatives are then used for gradient descent.\n",
    "\n",
    "PyTorch enables the efficient computation of these derivatives from the structure of the graph using SIMD operations on GPUs (although a CPU alone can be used too).\n",
    "\n",
    "The goal of this notebook is to introduce the basics of PyTorch. Another similar framework is TensorFlow (https://www.tensorflow.org/) which we won't cover here."
   ]
  },
  {
   "cell_type": "code",
   "execution_count": 43,
   "metadata": {},
   "outputs": [],
   "source": [
    "import networkx as nx"
   ]
  },
  {
   "cell_type": "markdown",
   "metadata": {},
   "source": [
    "# Computational Graph - Automatic Differentiation"
   ]
  },
  {
   "cell_type": "code",
   "execution_count": 5,
   "metadata": {},
   "outputs": [],
   "source": [
    "import torch\n",
    "import numpy as np"
   ]
  },
  {
   "cell_type": "markdown",
   "metadata": {},
   "source": [
    "### Example 1"
   ]
  },
  {
   "cell_type": "code",
   "execution_count": 20,
   "metadata": {},
   "outputs": [],
   "source": [
    "x = torch.tensor([3.], requires_grad=True, dtype=torch.float32)\n",
    "y = torch.tensor([4.], requires_grad=True, dtype=torch.float32)\n",
    "\n",
    "z = x*y"
   ]
  },
  {
   "cell_type": "markdown",
   "metadata": {},
   "source": [
    "### Questions:\n",
    "\n",
    "What should z be? (12)\n",
    "\n",
    "What is $\\frac{\\partial z}{\\partial x}$? What is $\\frac{\\partial z}{\\partial y}$?\n",
    "\n",
    "$$\\frac{\\partial z}{\\partial x} = y = 4$$\n",
    "\n",
    "$$\\frac{\\partial z}{\\partial y} = x = 3$$"
   ]
  },
  {
   "cell_type": "code",
   "execution_count": 21,
   "metadata": {},
   "outputs": [
    {
     "name": "stdout",
     "output_type": "stream",
     "text": [
      "Derivative of z with respect to x: None\n",
      "Derivative of z with respect to y: None\n"
     ]
    }
   ],
   "source": [
    "print(f'Derivative of z with respect to x: {x.grad}')\n",
    "print(f'Derivative of z with respect to y: {y.grad}')"
   ]
  },
  {
   "cell_type": "code",
   "execution_count": 22,
   "metadata": {},
   "outputs": [
    {
     "name": "stdout",
     "output_type": "stream",
     "text": [
      "Compute derivatives...\n"
     ]
    }
   ],
   "source": [
    "print('Compute derivatives...')\n",
    "z.backward()"
   ]
  },
  {
   "cell_type": "code",
   "execution_count": 23,
   "metadata": {},
   "outputs": [
    {
     "name": "stdout",
     "output_type": "stream",
     "text": [
      "Derivative of z with respect to x: tensor([4.])\n",
      "Derivative of z with respect to y: tensor([3.])\n"
     ]
    }
   ],
   "source": [
    "print(f'Derivative of z with respect to x: {x.grad}')\n",
    "print(f'Derivative of z with respect to y: {y.grad}')"
   ]
  },
  {
   "cell_type": "markdown",
   "metadata": {},
   "source": [
    "### Example 2"
   ]
  },
  {
   "cell_type": "code",
   "execution_count": 38,
   "metadata": {},
   "outputs": [],
   "source": [
    "a = torch.tensor([2], requires_grad=True, dtype=torch.float32)\n",
    "b = torch.tensor([3], requires_grad=True, dtype=torch.float32)\n",
    "c = torch.tensor([4], requires_grad=True, dtype=torch.float32)"
   ]
  },
  {
   "cell_type": "code",
   "execution_count": 39,
   "metadata": {},
   "outputs": [
    {
     "data": {
      "text/plain": [
       "tensor([20.], grad_fn=<MulBackward0>)"
      ]
     },
     "execution_count": 39,
     "metadata": {},
     "output_type": "execute_result"
    }
   ],
   "source": [
    "d = (a+b)\n",
    "d.requires_grad_()\n",
    "\n",
    "e = d*c\n",
    "e.requires_grad_()"
   ]
  },
  {
   "cell_type": "markdown",
   "metadata": {},
   "source": [
    "Use chain rule\n",
    "\n",
    "$$\\frac{\\partial e}{\\partial a} = \\frac{\\partial e}{\\partial d} \\frac{\\partial d}{\\partial a} + \\frac{\\partial e}{\\partial c} \\frac{\\partial c}{\\partial a}$$\n",
    "\n",
    "More succinctly, define $$\\partial_{ea} \\equiv \\frac{\\partial e}{\\partial a}$$\n",
    "\n",
    "Then:\n",
    "\n",
    "$$\\frac{\\partial e}{\\partial a} = \\partial_{ea} = \\partial_{ed} \\partial_{da} + \\partial_{ec} \\partial_{ca}$$\n",
    "\n",
    "$$\\frac{\\partial e}{\\partial a} = \\partial_{ea} = \\underbrace{\\partial_{ed}}_{c} \\underbrace{\\partial_{da}}_{1} + \\underbrace{\\partial_{ec}}_{d} \\underbrace{\\partial_{ca}}_{0} = c$$\n",
    "\n",
    "and, \n",
    "\n",
    "$$\\partial_{eb} = c$$\n",
    "\n",
    "and \n",
    "\n",
    "$$\\partial_{ed} = c$$\n",
    "\n",
    "and \n",
    "\n",
    "$$\\partial_{ec} = d$$"
   ]
  },
  {
   "cell_type": "code",
   "execution_count": 40,
   "metadata": {},
   "outputs": [],
   "source": [
    "e.backward()"
   ]
  },
  {
   "cell_type": "code",
   "execution_count": 41,
   "metadata": {},
   "outputs": [
    {
     "name": "stdout",
     "output_type": "stream",
     "text": [
      "tensor([4.])\n",
      "tensor([4.])\n",
      "tensor([5.])\n",
      "None\n"
     ]
    }
   ],
   "source": [
    "print(a.grad)\n",
    "print(b.grad)\n",
    "print(c.grad)\n",
    "print(d.grad)"
   ]
  },
  {
   "cell_type": "markdown",
   "metadata": {},
   "source": [
    "# Building my own toy neural network"
   ]
  },
  {
   "cell_type": "code",
   "execution_count": 55,
   "metadata": {},
   "outputs": [
    {
     "name": "stderr",
     "output_type": "stream",
     "text": [
      "/home/sanjay/anaconda3/envs/fastai2/lib/python3.7/site-packages/networkx/drawing/nx_pylab.py:579: MatplotlibDeprecationWarning: \n",
      "The iterable function was deprecated in Matplotlib 3.1 and will be removed in 3.3. Use np.iterable instead.\n",
      "  if not cb.iterable(width):\n",
      "/home/sanjay/anaconda3/envs/fastai2/lib/python3.7/site-packages/networkx/drawing/nx_pylab.py:676: MatplotlibDeprecationWarning: \n",
      "The iterable function was deprecated in Matplotlib 3.1 and will be removed in 3.3. Use np.iterable instead.\n",
      "  if cb.iterable(node_size):  # many node sizes\n"
     ]
    },
    {
     "data": {
      "image/png": "[encoded data removed]",
      "text/plain": [
       "<Figure size 432x288 with 1 Axes>"
      ]
     },
     "metadata": {},
     "output_type": "display_data"
    }
   ],
   "source": [
    "#nn diagram\n",
    "\n",
    "G = nx.DiGraph()\n",
    "\n",
    "G.add_node(1)\n",
    "G.add_node(2)\n",
    "G.add_node(3)\n",
    "\n",
    "G.add_edge(1,2)\n",
    "G.add_edge(2,3)\n",
    "nx.draw_spring(G)"
   ]
  },
  {
   "cell_type": "code",
   "execution_count": 56,
   "metadata": {},
   "outputs": [
    {
     "ename": "AttributeError",
     "evalue": "module 'torch.utils' has no attribute 'dataset'",
     "output_type": "error",
     "traceback": [
      "\u001b[0;31m---------------------------------------------------------------------------\u001b[0m",
      "\u001b[0;31mAttributeError\u001b[0m                            Traceback (most recent call last)",
      "\u001b[0;32m<ipython-input-56-30c381ab6728>\u001b[0m in \u001b[0;36m<module>\u001b[0;34m\u001b[0m\n\u001b[0;32m----> 1\u001b[0;31m \u001b[0mtorch\u001b[0m\u001b[0;34m.\u001b[0m\u001b[0mutils\u001b[0m\u001b[0;34m.\u001b[0m\u001b[0mdataset\u001b[0m\u001b[0;34m\u001b[0m\u001b[0;34m\u001b[0m\u001b[0m\n\u001b[0m",
      "\u001b[0;31mAttributeError\u001b[0m: module 'torch.utils' has no attribute 'dataset'"
     ]
    }
   ],
   "source": [
    "torch."
   ]
  },
  {
   "cell_type": "markdown",
   "metadata": {},
   "source": [
    "# Full neural network"
   ]
  },
  {
   "cell_type": "code",
   "execution_count": null,
   "metadata": {},
   "outputs": [],
   "source": [
    "import torch.nn as nn\n",
    "\n",
    "class MyNet(nn.Module):\n",
    "    def __init__(self, n_inputs, n_outputs):\n",
    "        \n",
    "        \n",
    "        "
   ]
  }
 ],
 "metadata": {
  "kernelspec": {
   "display_name": "Python 3",
   "language": "python",
   "name": "python3"
  },
  "language_info": {
   "codemirror_mode": {
    "name": "ipython",
    "version": 3
   },
   "file_extension": ".py",
   "mimetype": "text/x-python",
   "name": "python",
   "nbconvert_exporter": "python",
   "pygments_lexer": "ipython3",
   "version": "3.7.3"
  }
 },
 "nbformat": 4,
 "nbformat_minor": 2
}
