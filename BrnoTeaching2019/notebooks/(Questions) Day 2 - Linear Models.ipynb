{
 "cells": [
  {
   "cell_type": "markdown",
   "metadata": {},
   "source": [
    "ESTIMATE TOTAL MEMORY USAGE: 1000 MB (1600 MB peak)"
   ]
  },
  {
   "cell_type": "code",
   "execution_count": 1,
   "metadata": {},
   "outputs": [],
   "source": [
    "%load_ext autoreload\n",
    "%autoreload 2\n",
    "%matplotlib inline"
   ]
  },
  {
   "cell_type": "code",
   "execution_count": 2,
   "metadata": {},
   "outputs": [],
   "source": [
    "import numpy as np\n",
    "import pandas as pd\n",
    "import matplotlib.pylab as plt"
   ]
  },
  {
   "cell_type": "markdown",
   "metadata": {},
   "source": [
    "# Goals of this notebook\n",
    "\n",
    "* Build our first classification model and evaluate it on the hold-out sets.\n",
    "\n",
    "* Try various features and understand what the model is doing.\n",
    "\n",
    "Note: this is a very long notebook and we don't expect you to go through it in a couple of hours. Neither is the process followed below exhaustive. Play around, change things and most importantly, enjoy yourself."
   ]
  },
  {
   "cell_type": "markdown",
   "metadata": {},
   "source": [
    "**Notes**: You can install extensions (google for nbextensions) with Jupyter notebooks. I tend to use resuse to display memory usage in the top right corner which really helps.\n",
    "\n",
    "To run a cell, press: \"Shift + Enter\"\n",
    "\n",
    "To add a cell before your current cell, press: \"Esc + a\"\n",
    "\n",
    "To add a cell after your current cell, press: \"Esc + b\"\n",
    "\n",
    "To delete a cell, press: \"Esc + x\"\n",
    "\n",
    "To be able to edit a cell, press: \"Enter\"\n",
    "\n",
    "To see more documentation about of a function, type ?function_name\n",
    "\n",
    "To see source code, type ??function_name\n",
    "\n",
    "To quickly see possible arguments for a function, type \"Shift + Tab\" after typing the function name.\n",
    "\n",
    "Esc and Enter take you into different modes. Press \"Esc + h\" to see all shortcuts."
   ]
  },
  {
   "cell_type": "markdown",
   "metadata": {},
   "source": [
    "### Read in data from previous day"
   ]
  },
  {
   "cell_type": "code",
   "execution_count": 3,
   "metadata": {},
   "outputs": [],
   "source": [
    "DATA_PATH = \"../data/walmart\"\n",
    "TRAIN_PATH = f\"{DATA_PATH}/train.csv\"\n",
    "TEST_PATH = f\"{DATA_PATH}/test.csv\""
   ]
  },
  {
   "cell_type": "code",
   "execution_count": 4,
   "metadata": {},
   "outputs": [],
   "source": [
    "df_train = pd.read_feather(f'{DATA_PATH}/df_raw_train.feather')\n",
    "df_val = pd.read_feather(f'{DATA_PATH}/df_raw_val.feather')\n",
    "df_test = pd.read_feather(f'{DATA_PATH}/df_raw_test.feather')"
   ]
  },
  {
   "cell_type": "markdown",
   "metadata": {},
   "source": [
    "### Modeling"
   ]
  },
  {
   "cell_type": "markdown",
   "metadata": {},
   "source": [
    "The main technique we'll use today is **Logistic Regression**. Logistic regression is *not* a regression model - it is a classification model.\n",
    "\n",
    "A quick summary:\n",
    "\n",
    "Given n features - $x_1, x_2, \\ldots, x_n$, and a binary target variable - $y \\in {0,1}$, logistic regression predicts the probability this example belongs to class 1 as:\n",
    "\n",
    "$$p = \\sigma(w_0 + w_1 x_1 + w_2 x_2 + \\ldots + w_n x_n)$$\n",
    "\n",
    "where $\\sigma$ is the sigmoid function: $\\sigma(x) = \\frac{1}{1 + e^{-x}}$\n",
    "\n",
    "As we discussed in the lecture, you can think of $\\sigma$ as a softer switch function which \"smoothifies\" the discrete switch:\n",
    "\n",
    "$s(x) = \n",
    "\\begin{cases}\n",
    "0, \\text{ if x < 0} \\\\\n",
    "1, \\text{ if x} \\geq 0\n",
    "\\end{cases}\n",
    "$\n",
    "\n",
    "This is a linear model since it uses the linear combination:\n",
    "\n",
    "$$w_0 + w_1 x_1 + w_2 x_2 + \\ldots + w_n x_n$$\n",
    "\n",
    "In particular, this means that we don't take into account features like $x_i x_j$ or higher-order terms. If we do want to take those into account, we would have to explicitly create a feature (column) $x_i x_j$."
   ]
  },
  {
   "cell_type": "markdown",
   "metadata": {},
   "source": [
    "# Featurization Strategy 1:\n",
    "\n",
    "We want to predict the trip type of each VisitNumber. Our hypothesis is that one of the simplest predictors is the type of items bought on each trip. But we have several rows for each trip. How can we create a dataset with one row per visit and a description of all the items bought.\n",
    "\n",
    "The first question is whether we should use Upc, FinelineNumber or DepartmentDescription to describe what items were bought.\n",
    "\n",
    "**Question**: What are the tradeoffs between choosing each one of these 3 options?"
   ]
  },
  {
   "cell_type": "markdown",
   "metadata": {},
   "source": [
    "**Answer**:"
   ]
  },
  {
   "cell_type": "markdown",
   "metadata": {},
   "source": [
    "So how exactly do we create rows that have some description of the departments someone shopped at. One easy way is to have a column for every unique department and a row for each visit number. The entry in row i and column j is the number of items bought during visit i in department j.\n",
    "\n",
    "**Question**: Can you think of an easy way to create this table using one of the in-build pandas functions we have seen?"
   ]
  },
  {
   "cell_type": "code",
   "execution_count": null,
   "metadata": {
    "scrolled": false
   },
   "outputs": [],
   "source": []
  },
  {
   "cell_type": "markdown",
   "metadata": {},
   "source": [
    "We see a bunch of nans in case a visit didn't buy products from a certain department. We should replace these nans by 0. You should also do the same thing with the validation and test datasets."
   ]
  },
  {
   "cell_type": "code",
   "execution_count": 6,
   "metadata": {},
   "outputs": [],
   "source": [
    "df_train_f1 = pd.pivot_table(df_train, \n",
    "                             index='VisitNumber', \n",
    "                             columns='DepartmentDescription', \n",
    "                             values='ScanCount', \n",
    "                             aggfunc='sum').fillna(0)\n",
    "\n",
    "df_val_f1 = pd.pivot_table(df_val, \n",
    "                           index='VisitNumber', \n",
    "                           columns='DepartmentDescription', \n",
    "                           values='ScanCount', \n",
    "                           aggfunc='sum').fillna(0)\n",
    "\n",
    "df_test_f1 = pd.pivot_table(df_test,\n",
    "                            index='VisitNumber',\n",
    "                            columns='DepartmentDescription', \n",
    "                            values='ScanCount', \n",
    "                            aggfunc='sum').fillna(0)"
   ]
  },
  {
   "cell_type": "code",
   "execution_count": 7,
   "metadata": {},
   "outputs": [
    {
     "data": {
      "text/html": [
       "<div>\n",
       "<style scoped>\n",
       "    .dataframe tbody tr th:only-of-type {\n",
       "        vertical-align: middle;\n",
       "    }\n",
       "\n",
       "    .dataframe tbody tr th {\n",
       "        vertical-align: top;\n",
       "    }\n",
       "\n",
       "    .dataframe thead th {\n",
       "        text-align: right;\n",
       "    }\n",
       "</style>\n",
       "<table border=\"1\" class=\"dataframe\">\n",
       "  <thead>\n",
       "    <tr style=\"text-align: right;\">\n",
       "      <th>DepartmentDescription</th>\n",
       "      <th>1-HR PHOTO</th>\n",
       "      <th>ACCESSORIES</th>\n",
       "      <th>AUTOMOTIVE</th>\n",
       "      <th>BAKERY</th>\n",
       "      <th>BATH AND SHOWER</th>\n",
       "      <th>BEAUTY</th>\n",
       "      <th>BEDDING</th>\n",
       "      <th>BOOKS AND MAGAZINES</th>\n",
       "      <th>BOYS WEAR</th>\n",
       "      <th>BRAS &amp; SHAPEWEAR</th>\n",
       "      <th>...</th>\n",
       "      <th>SEAFOOD</th>\n",
       "      <th>SEASONAL</th>\n",
       "      <th>SERVICE DELI</th>\n",
       "      <th>SHEER HOSIERY</th>\n",
       "      <th>SHOES</th>\n",
       "      <th>SLEEPWEAR/FOUNDATIONS</th>\n",
       "      <th>SPORTING GOODS</th>\n",
       "      <th>SWIMWEAR/OUTERWEAR</th>\n",
       "      <th>TOYS</th>\n",
       "      <th>WIRELESS</th>\n",
       "    </tr>\n",
       "    <tr>\n",
       "      <th>VisitNumber</th>\n",
       "      <th></th>\n",
       "      <th></th>\n",
       "      <th></th>\n",
       "      <th></th>\n",
       "      <th></th>\n",
       "      <th></th>\n",
       "      <th></th>\n",
       "      <th></th>\n",
       "      <th></th>\n",
       "      <th></th>\n",
       "      <th></th>\n",
       "      <th></th>\n",
       "      <th></th>\n",
       "      <th></th>\n",
       "      <th></th>\n",
       "      <th></th>\n",
       "      <th></th>\n",
       "      <th></th>\n",
       "      <th></th>\n",
       "      <th></th>\n",
       "      <th></th>\n",
       "    </tr>\n",
       "  </thead>\n",
       "  <tbody>\n",
       "    <tr>\n",
       "      <th>5</th>\n",
       "      <td>0.0</td>\n",
       "      <td>0.0</td>\n",
       "      <td>0.0</td>\n",
       "      <td>0.0</td>\n",
       "      <td>0.0</td>\n",
       "      <td>0.0</td>\n",
       "      <td>0.0</td>\n",
       "      <td>0.0</td>\n",
       "      <td>0.0</td>\n",
       "      <td>0.0</td>\n",
       "      <td>...</td>\n",
       "      <td>0.0</td>\n",
       "      <td>0.0</td>\n",
       "      <td>0.0</td>\n",
       "      <td>0.0</td>\n",
       "      <td>0.0</td>\n",
       "      <td>0.0</td>\n",
       "      <td>0.0</td>\n",
       "      <td>0.0</td>\n",
       "      <td>0.0</td>\n",
       "      <td>0.0</td>\n",
       "    </tr>\n",
       "    <tr>\n",
       "      <th>7</th>\n",
       "      <td>0.0</td>\n",
       "      <td>0.0</td>\n",
       "      <td>0.0</td>\n",
       "      <td>0.0</td>\n",
       "      <td>0.0</td>\n",
       "      <td>0.0</td>\n",
       "      <td>0.0</td>\n",
       "      <td>0.0</td>\n",
       "      <td>0.0</td>\n",
       "      <td>0.0</td>\n",
       "      <td>...</td>\n",
       "      <td>0.0</td>\n",
       "      <td>0.0</td>\n",
       "      <td>0.0</td>\n",
       "      <td>0.0</td>\n",
       "      <td>1.0</td>\n",
       "      <td>0.0</td>\n",
       "      <td>0.0</td>\n",
       "      <td>0.0</td>\n",
       "      <td>0.0</td>\n",
       "      <td>0.0</td>\n",
       "    </tr>\n",
       "  </tbody>\n",
       "</table>\n",
       "<p>2 rows × 67 columns</p>\n",
       "</div>"
      ],
      "text/plain": [
       "DepartmentDescription  1-HR PHOTO  ACCESSORIES  AUTOMOTIVE  BAKERY  \\\n",
       "VisitNumber                                                          \n",
       "5                             0.0          0.0         0.0     0.0   \n",
       "7                             0.0          0.0         0.0     0.0   \n",
       "\n",
       "DepartmentDescription  BATH AND SHOWER  BEAUTY  BEDDING  BOOKS AND MAGAZINES  \\\n",
       "VisitNumber                                                                    \n",
       "5                                  0.0     0.0      0.0                  0.0   \n",
       "7                                  0.0     0.0      0.0                  0.0   \n",
       "\n",
       "DepartmentDescription  BOYS WEAR  BRAS & SHAPEWEAR  ...  SEAFOOD  SEASONAL  \\\n",
       "VisitNumber                                         ...                      \n",
       "5                            0.0               0.0  ...      0.0       0.0   \n",
       "7                            0.0               0.0  ...      0.0       0.0   \n",
       "\n",
       "DepartmentDescription  SERVICE DELI  SHEER HOSIERY  SHOES  \\\n",
       "VisitNumber                                                 \n",
       "5                               0.0            0.0    0.0   \n",
       "7                               0.0            0.0    1.0   \n",
       "\n",
       "DepartmentDescription  SLEEPWEAR/FOUNDATIONS  SPORTING GOODS  \\\n",
       "VisitNumber                                                    \n",
       "5                                        0.0             0.0   \n",
       "7                                        0.0             0.0   \n",
       "\n",
       "DepartmentDescription  SWIMWEAR/OUTERWEAR  TOYS  WIRELESS  \n",
       "VisitNumber                                                \n",
       "5                                     0.0   0.0       0.0  \n",
       "7                                     0.0   0.0       0.0  \n",
       "\n",
       "[2 rows x 67 columns]"
      ]
     },
     "execution_count": 7,
     "metadata": {},
     "output_type": "execute_result"
    }
   ],
   "source": [
    "df_train_f1.head(2)"
   ]
  },
  {
   "cell_type": "markdown",
   "metadata": {},
   "source": [
    "It is always a good idea to check if these numbers are sensible. As a data scientist, it is good to be extremely skeptical of procedures where a lot of data is being transformed into a lot of some other data without fine-grained checks. \n",
    "\n",
    "**Question**: Can you think of some checks to do on df_train_f1 and df_train to ensure the correct thing is being done."
   ]
  },
  {
   "cell_type": "code",
   "execution_count": null,
   "metadata": {},
   "outputs": [],
   "source": []
  },
  {
   "cell_type": "code",
   "execution_count": null,
   "metadata": {},
   "outputs": [],
   "source": []
  },
  {
   "cell_type": "code",
   "execution_count": null,
   "metadata": {},
   "outputs": [],
   "source": []
  },
  {
   "cell_type": "code",
   "execution_count": null,
   "metadata": {},
   "outputs": [],
   "source": []
  },
  {
   "cell_type": "markdown",
   "metadata": {},
   "source": [
    "There is a discrepancy for visit number 8. Let's check why."
   ]
  },
  {
   "cell_type": "code",
   "execution_count": null,
   "metadata": {},
   "outputs": [],
   "source": []
  },
  {
   "cell_type": "markdown",
   "metadata": {},
   "source": [
    "Aha! we can immediately see what causes the discrepancy. We have NaNs in Upc and FinelineNumber. In other words, there are items that weren't classified correctly. Let's see how much of a problem this is."
   ]
  },
  {
   "cell_type": "code",
   "execution_count": null,
   "metadata": {},
   "outputs": [],
   "source": []
  },
  {
   "cell_type": "code",
   "execution_count": null,
   "metadata": {},
   "outputs": [],
   "source": []
  },
  {
   "cell_type": "code",
   "execution_count": null,
   "metadata": {},
   "outputs": [],
   "source": []
  },
  {
   "cell_type": "markdown",
   "metadata": {},
   "source": [
    "We could fill nulls with the value 0 (for convenience). Let's ensure none of the existing columns have 0s so we don't merge value = 0 with null values"
   ]
  },
  {
   "cell_type": "code",
   "execution_count": null,
   "metadata": {},
   "outputs": [],
   "source": []
  },
  {
   "cell_type": "code",
   "execution_count": null,
   "metadata": {},
   "outputs": [],
   "source": []
  },
  {
   "cell_type": "markdown",
   "metadata": {},
   "source": [
    "Well so we can't use 0 as a stand-in value for null in FinelineNumber because we would be mixing the category where FinelineNumber is actually 0 with ones where FinelineNumber is null. Let's try -1."
   ]
  },
  {
   "cell_type": "code",
   "execution_count": null,
   "metadata": {},
   "outputs": [],
   "source": []
  },
  {
   "cell_type": "code",
   "execution_count": null,
   "metadata": {},
   "outputs": [],
   "source": []
  },
  {
   "cell_type": "code",
   "execution_count": null,
   "metadata": {},
   "outputs": [],
   "source": []
  },
  {
   "cell_type": "code",
   "execution_count": null,
   "metadata": {},
   "outputs": [],
   "source": []
  },
  {
   "cell_type": "code",
   "execution_count": null,
   "metadata": {},
   "outputs": [],
   "source": []
  },
  {
   "cell_type": "code",
   "execution_count": null,
   "metadata": {},
   "outputs": [],
   "source": []
  },
  {
   "cell_type": "markdown",
   "metadata": {},
   "source": [
    "Try constructing the pivot table again. Does our test pass?"
   ]
  },
  {
   "cell_type": "code",
   "execution_count": 24,
   "metadata": {},
   "outputs": [],
   "source": [
    "df_train_f1 = pd.pivot_table(df_train, \n",
    "                             index='VisitNumber', \n",
    "                             columns='DepartmentDescription', \n",
    "                             values='ScanCount', \n",
    "                             aggfunc='sum').fillna(0)\n",
    "\n",
    "df_val_f1 = pd.pivot_table(df_val, \n",
    "                           index='VisitNumber', \n",
    "                           columns='DepartmentDescription', \n",
    "                           values='ScanCount', \n",
    "                           aggfunc='sum').fillna(0)\n",
    "\n",
    "df_test_f1 = pd.pivot_table(df_test,\n",
    "                            index='VisitNumber',\n",
    "                            columns='DepartmentDescription', \n",
    "                            values='ScanCount', \n",
    "                            aggfunc='sum').fillna(0)"
   ]
  },
  {
   "cell_type": "code",
   "execution_count": 25,
   "metadata": {},
   "outputs": [
    {
     "data": {
      "text/plain": [
       "0.0"
      ]
     },
     "execution_count": 25,
     "metadata": {},
     "output_type": "execute_result"
    }
   ],
   "source": [
    "(df_train_f1.sum(axis=1) - df_train.groupby('VisitNumber').agg({'ScanCount': np.sum})['ScanCount']).sum()"
   ]
  },
  {
   "cell_type": "markdown",
   "metadata": {},
   "source": [
    "Perfect!! The counts agree completely between the pivot table and the group by. We only caught this bug because pd.pivot_table was dropping the null columns (DepartmentDescription is null) while the group by was only looking at VisitNumbers and not dropping any rows. It's generally a good idea to check for nulls after reading in the data."
   ]
  },
  {
   "cell_type": "markdown",
   "metadata": {},
   "source": [
    "**Question**: Can you foresee something else that can go wrong here? (Hint: look at the dimensions of each dataframe)"
   ]
  },
  {
   "cell_type": "code",
   "execution_count": null,
   "metadata": {},
   "outputs": [],
   "source": []
  },
  {
   "cell_type": "markdown",
   "metadata": {},
   "source": [
    "**Answer**: \n",
    "\n",
    "**Question**: Why would different dimensions in train vs val vs test be a problem? You can think of a linear model to make the problem more concrete."
   ]
  },
  {
   "cell_type": "markdown",
   "metadata": {},
   "source": [
    "**Answer**:"
   ]
  },
  {
   "cell_type": "markdown",
   "metadata": {},
   "source": [
    "**Question**: Find out which column is missing."
   ]
  },
  {
   "cell_type": "code",
   "execution_count": null,
   "metadata": {},
   "outputs": [],
   "source": []
  },
  {
   "cell_type": "code",
   "execution_count": null,
   "metadata": {},
   "outputs": [],
   "source": []
  },
  {
   "cell_type": "code",
   "execution_count": null,
   "metadata": {},
   "outputs": [],
   "source": []
  },
  {
   "cell_type": "code",
   "execution_count": null,
   "metadata": {},
   "outputs": [],
   "source": []
  },
  {
   "cell_type": "code",
   "execution_count": null,
   "metadata": {},
   "outputs": [],
   "source": []
  },
  {
   "cell_type": "code",
   "execution_count": null,
   "metadata": {},
   "outputs": [],
   "source": []
  },
  {
   "cell_type": "code",
   "execution_count": null,
   "metadata": {},
   "outputs": [],
   "source": []
  },
  {
   "cell_type": "code",
   "execution_count": null,
   "metadata": {},
   "outputs": [],
   "source": []
  },
  {
   "cell_type": "code",
   "execution_count": null,
   "metadata": {},
   "outputs": [],
   "source": []
  },
  {
   "cell_type": "markdown",
   "metadata": {},
   "source": [
    "Our goal is to make predictions on the true Kaggle test. If we use the distribution of number of products bought by department, then it's possible that there are departments in the test set that are not in the train set. In this case, the simplest option is to just drop those products. Of course, if there are many such products, we should look into finding the closest match department in our train set to the unknown department in the true test set."
   ]
  },
  {
   "cell_type": "markdown",
   "metadata": {},
   "source": [
    "**Question**: Are there any departments in the true (test.csv) test set that are not in our train (df_train) set?"
   ]
  },
  {
   "cell_type": "code",
   "execution_count": null,
   "metadata": {},
   "outputs": [],
   "source": []
  },
  {
   "cell_type": "markdown",
   "metadata": {},
   "source": [
    "**Question**: You will need to replace some department names here based on what you found above."
   ]
  },
  {
   "cell_type": "code",
   "execution_count": null,
   "metadata": {},
   "outputs": [],
   "source": []
  },
  {
   "cell_type": "code",
   "execution_count": null,
   "metadata": {},
   "outputs": [],
   "source": []
  },
  {
   "cell_type": "markdown",
   "metadata": {},
   "source": [
    "### Summary:\n",
    "\n",
    "* We used pd.pivot_table to create a dataset where rows are visit numbers and columns are department descriptions. The matrix entries are the total counts of product bought during that trip.\n",
    "\n",
    "* During our test comparing the pivot table to a group by, we uncovered nulls in the product descriptions - Upc, FilelineNumber and DepartmentDescription. We found it safe to replace the nulls by -1.\n",
    "\n",
    "* We also discovered that the train, val and test pivot table had different number of columns because two entries had mislabelled department descriptions.\n",
    "\n",
    "* We ensured that the wrong departments were not present in the \"true\" kaggle test set (test.csv). Then we replaced the two erroneous rows (\"HEALTH AND BEAUTY AIDS\") with the closest department (\"BEAUTY\").\n",
    "\n",
    "* At this stage, we should save df_train, df_val, df_test as a checkpoint\n",
    "\n",
    "In general, we want the same exact columns with the same logic in all our datasets."
   ]
  },
  {
   "cell_type": "markdown",
   "metadata": {},
   "source": [
    "Save the fixed datasets."
   ]
  },
  {
   "cell_type": "code",
   "execution_count": 41,
   "metadata": {},
   "outputs": [],
   "source": [
    "df_train.to_feather(f'{DATA_PATH}/df_raw_train_clean.feather')\n",
    "df_val.reset_index(drop=True).to_feather(f'{DATA_PATH}/df_raw_val_clean.feather')\n",
    "df_test.reset_index(drop=True).to_feather(f'{DATA_PATH}/df_raw_test_clean.feather')"
   ]
  },
  {
   "cell_type": "code",
   "execution_count": 42,
   "metadata": {},
   "outputs": [],
   "source": [
    "df_train = pd.read_feather(f'{DATA_PATH}/df_raw_train_clean.feather')\n",
    "df_val = pd.read_feather(f'{DATA_PATH}/df_raw_val_clean.feather')\n",
    "df_test = pd.read_feather(f'{DATA_PATH}/df_raw_test_clean.feather')"
   ]
  },
  {
   "cell_type": "markdown",
   "metadata": {},
   "source": [
    "Create the pivot tables."
   ]
  },
  {
   "cell_type": "code",
   "execution_count": 43,
   "metadata": {},
   "outputs": [],
   "source": [
    "df_train_f1 = pd.pivot_table(df_train, \n",
    "                             index='VisitNumber', \n",
    "                             columns='DepartmentDescription', \n",
    "                             values='ScanCount', \n",
    "                             aggfunc='sum').fillna(0)\n",
    "\n",
    "df_val_f1 = pd.pivot_table(df_val, \n",
    "                           index='VisitNumber', \n",
    "                           columns='DepartmentDescription', \n",
    "                           values='ScanCount', \n",
    "                           aggfunc='sum').fillna(0)\n",
    "\n",
    "df_test_f1 = pd.pivot_table(df_test,\n",
    "                            index='VisitNumber',\n",
    "                            columns='DepartmentDescription', \n",
    "                            values='ScanCount', \n",
    "                            aggfunc='sum').fillna(0)"
   ]
  },
  {
   "cell_type": "code",
   "execution_count": 44,
   "metadata": {},
   "outputs": [
    {
     "name": "stdout",
     "output_type": "stream",
     "text": [
      "(76539, 68)\n",
      "(9567, 68)\n",
      "(9568, 68)\n"
     ]
    }
   ],
   "source": [
    "print(df_train_f1.shape)\n",
    "print(df_val_f1.shape)\n",
    "print(df_test_f1.shape)"
   ]
  },
  {
   "cell_type": "markdown",
   "metadata": {},
   "source": [
    "**Question**: How many rows do you expect in each of the 3 dataframes? Check that your expectation matches reality."
   ]
  },
  {
   "cell_type": "markdown",
   "metadata": {},
   "source": [
    "df_train_f1 should have one row for each visit number in df_train"
   ]
  },
  {
   "cell_type": "code",
   "execution_count": null,
   "metadata": {},
   "outputs": [],
   "source": []
  },
  {
   "cell_type": "markdown",
   "metadata": {},
   "source": [
    "If you don't have one row per visit number in df_train_f1, it's very likely that you still have some nulls that get dropped by pivot table."
   ]
  },
  {
   "cell_type": "code",
   "execution_count": null,
   "metadata": {},
   "outputs": [],
   "source": []
  },
  {
   "cell_type": "code",
   "execution_count": null,
   "metadata": {},
   "outputs": [],
   "source": []
  },
  {
   "cell_type": "markdown",
   "metadata": {},
   "source": [
    "### Model-building\n",
    "\n",
    "We now have a dataset that is ready for model training. The features are the number of items bought for each department for each visit. The target variable is TripType (which is not yet present in df_train_f1)."
   ]
  },
  {
   "cell_type": "markdown",
   "metadata": {},
   "source": [
    "**Question**: Add TripType to each of df_train_f1, df_val_f1, df_test_f1"
   ]
  },
  {
   "cell_type": "code",
   "execution_count": null,
   "metadata": {},
   "outputs": [],
   "source": []
  },
  {
   "cell_type": "code",
   "execution_count": null,
   "metadata": {},
   "outputs": [],
   "source": []
  },
  {
   "cell_type": "code",
   "execution_count": null,
   "metadata": {},
   "outputs": [],
   "source": []
  },
  {
   "cell_type": "code",
   "execution_count": 51,
   "metadata": {},
   "outputs": [
    {
     "name": "stdout",
     "output_type": "stream",
     "text": [
      "(76539, 69)\n",
      "(9567, 69)\n",
      "(9568, 69)\n"
     ]
    }
   ],
   "source": [
    "#Ensure shapes didn't change except for addition of one column\n",
    "\n",
    "print(df_train_f1.shape)\n",
    "print(df_val_f1.shape)\n",
    "print(df_test_f1.shape)"
   ]
  },
  {
   "cell_type": "code",
   "execution_count": 52,
   "metadata": {},
   "outputs": [
    {
     "data": {
      "text/html": [
       "<div>\n",
       "<style scoped>\n",
       "    .dataframe tbody tr th:only-of-type {\n",
       "        vertical-align: middle;\n",
       "    }\n",
       "\n",
       "    .dataframe tbody tr th {\n",
       "        vertical-align: top;\n",
       "    }\n",
       "\n",
       "    .dataframe thead th {\n",
       "        text-align: right;\n",
       "    }\n",
       "</style>\n",
       "<table border=\"1\" class=\"dataframe\">\n",
       "  <thead>\n",
       "    <tr style=\"text-align: right;\">\n",
       "      <th></th>\n",
       "      <th>TripType</th>\n",
       "      <th>-1</th>\n",
       "      <th>1-HR PHOTO</th>\n",
       "      <th>ACCESSORIES</th>\n",
       "      <th>AUTOMOTIVE</th>\n",
       "      <th>BAKERY</th>\n",
       "      <th>BATH AND SHOWER</th>\n",
       "      <th>BEAUTY</th>\n",
       "      <th>BEDDING</th>\n",
       "      <th>BOOKS AND MAGAZINES</th>\n",
       "      <th>...</th>\n",
       "      <th>SEAFOOD</th>\n",
       "      <th>SEASONAL</th>\n",
       "      <th>SERVICE DELI</th>\n",
       "      <th>SHEER HOSIERY</th>\n",
       "      <th>SHOES</th>\n",
       "      <th>SLEEPWEAR/FOUNDATIONS</th>\n",
       "      <th>SPORTING GOODS</th>\n",
       "      <th>SWIMWEAR/OUTERWEAR</th>\n",
       "      <th>TOYS</th>\n",
       "      <th>WIRELESS</th>\n",
       "    </tr>\n",
       "    <tr>\n",
       "      <th>VisitNumber</th>\n",
       "      <th></th>\n",
       "      <th></th>\n",
       "      <th></th>\n",
       "      <th></th>\n",
       "      <th></th>\n",
       "      <th></th>\n",
       "      <th></th>\n",
       "      <th></th>\n",
       "      <th></th>\n",
       "      <th></th>\n",
       "      <th></th>\n",
       "      <th></th>\n",
       "      <th></th>\n",
       "      <th></th>\n",
       "      <th></th>\n",
       "      <th></th>\n",
       "      <th></th>\n",
       "      <th></th>\n",
       "      <th></th>\n",
       "      <th></th>\n",
       "      <th></th>\n",
       "    </tr>\n",
       "  </thead>\n",
       "  <tbody>\n",
       "    <tr>\n",
       "      <th>5</th>\n",
       "      <td>999</td>\n",
       "      <td>0.0</td>\n",
       "      <td>0.0</td>\n",
       "      <td>0.0</td>\n",
       "      <td>0.0</td>\n",
       "      <td>0.0</td>\n",
       "      <td>0.0</td>\n",
       "      <td>0.0</td>\n",
       "      <td>0.0</td>\n",
       "      <td>0.0</td>\n",
       "      <td>...</td>\n",
       "      <td>0.0</td>\n",
       "      <td>0.0</td>\n",
       "      <td>0.0</td>\n",
       "      <td>0.0</td>\n",
       "      <td>0.0</td>\n",
       "      <td>0.0</td>\n",
       "      <td>0.0</td>\n",
       "      <td>0.0</td>\n",
       "      <td>0.0</td>\n",
       "      <td>0.0</td>\n",
       "    </tr>\n",
       "    <tr>\n",
       "      <th>7</th>\n",
       "      <td>30</td>\n",
       "      <td>0.0</td>\n",
       "      <td>0.0</td>\n",
       "      <td>0.0</td>\n",
       "      <td>0.0</td>\n",
       "      <td>0.0</td>\n",
       "      <td>0.0</td>\n",
       "      <td>0.0</td>\n",
       "      <td>0.0</td>\n",
       "      <td>0.0</td>\n",
       "      <td>...</td>\n",
       "      <td>0.0</td>\n",
       "      <td>0.0</td>\n",
       "      <td>0.0</td>\n",
       "      <td>0.0</td>\n",
       "      <td>1.0</td>\n",
       "      <td>0.0</td>\n",
       "      <td>0.0</td>\n",
       "      <td>0.0</td>\n",
       "      <td>0.0</td>\n",
       "      <td>0.0</td>\n",
       "    </tr>\n",
       "    <tr>\n",
       "      <th>8</th>\n",
       "      <td>26</td>\n",
       "      <td>1.0</td>\n",
       "      <td>0.0</td>\n",
       "      <td>0.0</td>\n",
       "      <td>0.0</td>\n",
       "      <td>0.0</td>\n",
       "      <td>0.0</td>\n",
       "      <td>0.0</td>\n",
       "      <td>0.0</td>\n",
       "      <td>0.0</td>\n",
       "      <td>...</td>\n",
       "      <td>0.0</td>\n",
       "      <td>0.0</td>\n",
       "      <td>0.0</td>\n",
       "      <td>0.0</td>\n",
       "      <td>0.0</td>\n",
       "      <td>0.0</td>\n",
       "      <td>0.0</td>\n",
       "      <td>0.0</td>\n",
       "      <td>0.0</td>\n",
       "      <td>0.0</td>\n",
       "    </tr>\n",
       "    <tr>\n",
       "      <th>9</th>\n",
       "      <td>8</td>\n",
       "      <td>0.0</td>\n",
       "      <td>0.0</td>\n",
       "      <td>0.0</td>\n",
       "      <td>0.0</td>\n",
       "      <td>0.0</td>\n",
       "      <td>0.0</td>\n",
       "      <td>0.0</td>\n",
       "      <td>0.0</td>\n",
       "      <td>0.0</td>\n",
       "      <td>...</td>\n",
       "      <td>0.0</td>\n",
       "      <td>0.0</td>\n",
       "      <td>0.0</td>\n",
       "      <td>0.0</td>\n",
       "      <td>0.0</td>\n",
       "      <td>0.0</td>\n",
       "      <td>0.0</td>\n",
       "      <td>0.0</td>\n",
       "      <td>0.0</td>\n",
       "      <td>0.0</td>\n",
       "    </tr>\n",
       "    <tr>\n",
       "      <th>10</th>\n",
       "      <td>8</td>\n",
       "      <td>0.0</td>\n",
       "      <td>0.0</td>\n",
       "      <td>0.0</td>\n",
       "      <td>0.0</td>\n",
       "      <td>0.0</td>\n",
       "      <td>0.0</td>\n",
       "      <td>0.0</td>\n",
       "      <td>0.0</td>\n",
       "      <td>0.0</td>\n",
       "      <td>...</td>\n",
       "      <td>0.0</td>\n",
       "      <td>0.0</td>\n",
       "      <td>0.0</td>\n",
       "      <td>0.0</td>\n",
       "      <td>0.0</td>\n",
       "      <td>0.0</td>\n",
       "      <td>0.0</td>\n",
       "      <td>0.0</td>\n",
       "      <td>0.0</td>\n",
       "      <td>0.0</td>\n",
       "    </tr>\n",
       "  </tbody>\n",
       "</table>\n",
       "<p>5 rows × 69 columns</p>\n",
       "</div>"
      ],
      "text/plain": [
       "             TripType   -1  1-HR PHOTO  ACCESSORIES  AUTOMOTIVE  BAKERY  \\\n",
       "VisitNumber                                                               \n",
       "5                 999  0.0         0.0          0.0         0.0     0.0   \n",
       "7                  30  0.0         0.0          0.0         0.0     0.0   \n",
       "8                  26  1.0         0.0          0.0         0.0     0.0   \n",
       "9                   8  0.0         0.0          0.0         0.0     0.0   \n",
       "10                  8  0.0         0.0          0.0         0.0     0.0   \n",
       "\n",
       "             BATH AND SHOWER  BEAUTY  BEDDING  BOOKS AND MAGAZINES  ...  \\\n",
       "VisitNumber                                                         ...   \n",
       "5                        0.0     0.0      0.0                  0.0  ...   \n",
       "7                        0.0     0.0      0.0                  0.0  ...   \n",
       "8                        0.0     0.0      0.0                  0.0  ...   \n",
       "9                        0.0     0.0      0.0                  0.0  ...   \n",
       "10                       0.0     0.0      0.0                  0.0  ...   \n",
       "\n",
       "             SEAFOOD  SEASONAL  SERVICE DELI  SHEER HOSIERY  SHOES  \\\n",
       "VisitNumber                                                          \n",
       "5                0.0       0.0           0.0            0.0    0.0   \n",
       "7                0.0       0.0           0.0            0.0    1.0   \n",
       "8                0.0       0.0           0.0            0.0    0.0   \n",
       "9                0.0       0.0           0.0            0.0    0.0   \n",
       "10               0.0       0.0           0.0            0.0    0.0   \n",
       "\n",
       "             SLEEPWEAR/FOUNDATIONS  SPORTING GOODS  SWIMWEAR/OUTERWEAR  TOYS  \\\n",
       "VisitNumber                                                                    \n",
       "5                              0.0             0.0                 0.0   0.0   \n",
       "7                              0.0             0.0                 0.0   0.0   \n",
       "8                              0.0             0.0                 0.0   0.0   \n",
       "9                              0.0             0.0                 0.0   0.0   \n",
       "10                             0.0             0.0                 0.0   0.0   \n",
       "\n",
       "             WIRELESS  \n",
       "VisitNumber            \n",
       "5                 0.0  \n",
       "7                 0.0  \n",
       "8                 0.0  \n",
       "9                 0.0  \n",
       "10                0.0  \n",
       "\n",
       "[5 rows x 69 columns]"
      ]
     },
     "execution_count": 52,
     "metadata": {},
     "output_type": "execute_result"
    }
   ],
   "source": [
    "df_train_f1.head()"
   ]
  },
  {
   "cell_type": "markdown",
   "metadata": {},
   "source": [
    "**Question**: It is very important to be paranoid at this stage. Did we assign the correct trip type to each visit number in df_train_f1. Check this."
   ]
  },
  {
   "cell_type": "code",
   "execution_count": null,
   "metadata": {},
   "outputs": [],
   "source": []
  },
  {
   "cell_type": "code",
   "execution_count": null,
   "metadata": {},
   "outputs": [],
   "source": []
  },
  {
   "cell_type": "code",
   "execution_count": null,
   "metadata": {},
   "outputs": [],
   "source": []
  },
  {
   "cell_type": "code",
   "execution_count": 2,
   "metadata": {},
   "outputs": [
    {
     "ename": "NameError",
     "evalue": "name 'df_joined_train' is not defined",
     "output_type": "error",
     "traceback": [
      "\u001b[0;31m---------------------------------------------------------------------------\u001b[0m",
      "\u001b[0;31mNameError\u001b[0m                                 Traceback (most recent call last)",
      "\u001b[0;32m<ipython-input-2-c0ee12e5cd16>\u001b[0m in \u001b[0;36m<module>\u001b[0;34m\u001b[0m\n\u001b[0;32m----> 1\u001b[0;31m \u001b[0;34m(\u001b[0m\u001b[0mdf_joined_train\u001b[0m\u001b[0;34m[\u001b[0m\u001b[0;34m'TripType_x'\u001b[0m\u001b[0;34m]\u001b[0m\u001b[0;34m!=\u001b[0m\u001b[0mdf_joined_train\u001b[0m\u001b[0;34m[\u001b[0m\u001b[0;34m'TripType_y'\u001b[0m\u001b[0;34m]\u001b[0m\u001b[0;34m)\u001b[0m\u001b[0;34m.\u001b[0m\u001b[0msum\u001b[0m\u001b[0;34m(\u001b[0m\u001b[0;34m)\u001b[0m\u001b[0;34m\u001b[0m\u001b[0;34m\u001b[0m\u001b[0m\n\u001b[0m",
      "\u001b[0;31mNameError\u001b[0m: name 'df_joined_train' is not defined"
     ]
    }
   ],
   "source": [
    "(df_joined_train['TripType_x']!=df_joined_train['TripType_y']).sum()"
   ]
  },
  {
   "cell_type": "code",
   "execution_count": 57,
   "metadata": {},
   "outputs": [
    {
     "data": {
      "text/plain": [
       "0"
      ]
     },
     "execution_count": 57,
     "metadata": {},
     "output_type": "execute_result"
    }
   ],
   "source": [
    "(df_joined_val['TripType_x']!=df_joined_val['TripType_y']).sum()"
   ]
  },
  {
   "cell_type": "code",
   "execution_count": 58,
   "metadata": {},
   "outputs": [
    {
     "data": {
      "text/plain": [
       "0"
      ]
     },
     "execution_count": 58,
     "metadata": {},
     "output_type": "execute_result"
    }
   ],
   "source": [
    "(df_joined_test['TripType_x']!=df_joined_test['TripType_y']).sum()"
   ]
  },
  {
   "cell_type": "markdown",
   "metadata": {},
   "source": [
    "**Question**: We have a lot of zeros in our data. In other words, the matrix is sparse. Are there columns that we can drop because not many products were bought under the departments? How would you check this?"
   ]
  },
  {
   "cell_type": "code",
   "execution_count": null,
   "metadata": {},
   "outputs": [],
   "source": []
  },
  {
   "cell_type": "markdown",
   "metadata": {},
   "source": [
    "At this point, you could manually do some experiments to see if there are categories (like SEASONAL > 0) where all the TripTypes are the same. In this case, you could set a manual rule.\n",
    "\n",
    "**Question**: For visits that involved buying seasonal items, what were the TripTypes?"
   ]
  },
  {
   "cell_type": "code",
   "execution_count": null,
   "metadata": {},
   "outputs": [],
   "source": []
  },
  {
   "cell_type": "code",
   "execution_count": null,
   "metadata": {},
   "outputs": [],
   "source": []
  },
  {
   "cell_type": "code",
   "execution_count": null,
   "metadata": {},
   "outputs": [],
   "source": []
  },
  {
   "cell_type": "markdown",
   "metadata": {},
   "source": [
    "**Question**: For visits that involved buying \"OTHER DEPARTMENTS\" items, what were the TripTypes?"
   ]
  },
  {
   "cell_type": "code",
   "execution_count": null,
   "metadata": {},
   "outputs": [],
   "source": []
  },
  {
   "cell_type": "markdown",
   "metadata": {},
   "source": [
    "**Question**: For visits that involved buying \"CONCEPT STORES\" items, what were the TripTypes?"
   ]
  },
  {
   "cell_type": "code",
   "execution_count": null,
   "metadata": {},
   "outputs": [],
   "source": []
  },
  {
   "cell_type": "markdown",
   "metadata": {},
   "source": [
    "**Question**: Repeat this exercise for each department to see if there's any department which if it is present, results in > 95% of the trip types being of the same type"
   ]
  },
  {
   "cell_type": "code",
   "execution_count": null,
   "metadata": {},
   "outputs": [],
   "source": []
  },
  {
   "cell_type": "code",
   "execution_count": null,
   "metadata": {},
   "outputs": [],
   "source": []
  },
  {
   "cell_type": "code",
   "execution_count": null,
   "metadata": {},
   "outputs": [],
   "source": []
  },
  {
   "cell_type": "markdown",
   "metadata": {},
   "source": [
    "In this case, one could create a rule that predicts trip type 5 for any trip that had a visit to \"OPTICAL - LENSES\" or \"LARGE HOUSEHOLD GOODS\" except that combined they affect only ~100 visits.\n",
    "\n",
    "If we were doing a full competition, we would note this down to check against any model. Does your model perform well on these two subsets? If a reasonable chunk of the loss could be reduced by putting in a hand-crafted rule in a competition, you should do so specially when the margins between neighboring ranks are so thin."
   ]
  },
  {
   "cell_type": "markdown",
   "metadata": {},
   "source": [
    "**Question**: Look at how many distinct number of items were bought for each visit number."
   ]
  },
  {
   "cell_type": "code",
   "execution_count": null,
   "metadata": {},
   "outputs": [],
   "source": []
  },
  {
   "cell_type": "code",
   "execution_count": null,
   "metadata": {},
   "outputs": [],
   "source": []
  },
  {
   "cell_type": "markdown",
   "metadata": {},
   "source": [
    "Let's zoom in at both ends of the plot.\n",
    "\n",
    "**Question**: Explore the data at for very low and very high distinct items."
   ]
  },
  {
   "cell_type": "code",
   "execution_count": null,
   "metadata": {},
   "outputs": [],
   "source": []
  },
  {
   "cell_type": "code",
   "execution_count": null,
   "metadata": {},
   "outputs": [],
   "source": []
  },
  {
   "cell_type": "code",
   "execution_count": null,
   "metadata": {},
   "outputs": [],
   "source": []
  },
  {
   "cell_type": "code",
   "execution_count": null,
   "metadata": {},
   "outputs": [],
   "source": []
  },
  {
   "cell_type": "markdown",
   "metadata": {},
   "source": [
    "**General point**: This kind of manual exploration guided by a series of questions is one way of looking at a dataset. There's a second way that we'll explore on day 3 where a model is built as fast as possible and inspected to identify patterns.\n",
    "\n",
    "Machine learning techniques are not just tools for predicting values but can also be used to deeply understand your data."
   ]
  },
  {
   "cell_type": "code",
   "execution_count": 74,
   "metadata": {},
   "outputs": [
    {
     "data": {
      "text/plain": [
       "Int64Index([72439, 88011], dtype='int64', name='VisitNumber')"
      ]
     },
     "execution_count": 74,
     "metadata": {},
     "output_type": "execute_result"
    }
   ],
   "source": [
    "n_distinct[n_distinct > 150].index"
   ]
  },
  {
   "cell_type": "code",
   "execution_count": 75,
   "metadata": {},
   "outputs": [
    {
     "data": {
      "text/html": [
       "<div>\n",
       "<style scoped>\n",
       "    .dataframe tbody tr th:only-of-type {\n",
       "        vertical-align: middle;\n",
       "    }\n",
       "\n",
       "    .dataframe tbody tr th {\n",
       "        vertical-align: top;\n",
       "    }\n",
       "\n",
       "    .dataframe thead th {\n",
       "        text-align: right;\n",
       "    }\n",
       "</style>\n",
       "<table border=\"1\" class=\"dataframe\">\n",
       "  <thead>\n",
       "    <tr style=\"text-align: right;\">\n",
       "      <th></th>\n",
       "      <th>TripType</th>\n",
       "      <th>VisitNumber</th>\n",
       "      <th>Weekday</th>\n",
       "      <th>Upc</th>\n",
       "      <th>ScanCount</th>\n",
       "      <th>DepartmentDescription</th>\n",
       "      <th>FinelineNumber</th>\n",
       "    </tr>\n",
       "  </thead>\n",
       "  <tbody>\n",
       "    <tr>\n",
       "      <th>244440</th>\n",
       "      <td>24</td>\n",
       "      <td>72439</td>\n",
       "      <td>Tuesday</td>\n",
       "      <td>8.861669e+10</td>\n",
       "      <td>1</td>\n",
       "      <td>BOYS WEAR</td>\n",
       "      <td>1025.0</td>\n",
       "    </tr>\n",
       "    <tr>\n",
       "      <th>244441</th>\n",
       "      <td>24</td>\n",
       "      <td>72439</td>\n",
       "      <td>Tuesday</td>\n",
       "      <td>7.602631e+09</td>\n",
       "      <td>2</td>\n",
       "      <td>COOK AND DINE</td>\n",
       "      <td>2067.0</td>\n",
       "    </tr>\n",
       "    <tr>\n",
       "      <th>244442</th>\n",
       "      <td>24</td>\n",
       "      <td>72439</td>\n",
       "      <td>Tuesday</td>\n",
       "      <td>7.214063e+09</td>\n",
       "      <td>1</td>\n",
       "      <td>PERSONAL CARE</td>\n",
       "      <td>3090.0</td>\n",
       "    </tr>\n",
       "    <tr>\n",
       "      <th>244443</th>\n",
       "      <td>24</td>\n",
       "      <td>72439</td>\n",
       "      <td>Tuesday</td>\n",
       "      <td>4.393559e+09</td>\n",
       "      <td>2</td>\n",
       "      <td>MENS WEAR</td>\n",
       "      <td>5542.0</td>\n",
       "    </tr>\n",
       "    <tr>\n",
       "      <th>244444</th>\n",
       "      <td>24</td>\n",
       "      <td>72439</td>\n",
       "      <td>Tuesday</td>\n",
       "      <td>4.747559e+09</td>\n",
       "      <td>1</td>\n",
       "      <td>CELEBRATION</td>\n",
       "      <td>5507.0</td>\n",
       "    </tr>\n",
       "  </tbody>\n",
       "</table>\n",
       "</div>"
      ],
      "text/plain": [
       "        TripType  VisitNumber  Weekday           Upc  ScanCount  \\\n",
       "244440        24        72439  Tuesday  8.861669e+10          1   \n",
       "244441        24        72439  Tuesday  7.602631e+09          2   \n",
       "244442        24        72439  Tuesday  7.214063e+09          1   \n",
       "244443        24        72439  Tuesday  4.393559e+09          2   \n",
       "244444        24        72439  Tuesday  4.747559e+09          1   \n",
       "\n",
       "       DepartmentDescription  FinelineNumber  \n",
       "244440             BOYS WEAR          1025.0  \n",
       "244441         COOK AND DINE          2067.0  \n",
       "244442         PERSONAL CARE          3090.0  \n",
       "244443             MENS WEAR          5542.0  \n",
       "244444           CELEBRATION          5507.0  "
      ]
     },
     "execution_count": 75,
     "metadata": {},
     "output_type": "execute_result"
    }
   ],
   "source": [
    "df_train[df_train['VisitNumber'].isin(n_distinct[n_distinct > 150].index)].head()\n",
    "#.head() so the whole table doesn't get displayed in github but do take a look at the full table"
   ]
  },
  {
   "cell_type": "markdown",
   "metadata": {},
   "source": [
    "At this stage, we are really ready to build the model."
   ]
  },
  {
   "cell_type": "code",
   "execution_count": 76,
   "metadata": {},
   "outputs": [],
   "source": [
    "from sklearn.linear_model import LogisticRegression"
   ]
  },
  {
   "cell_type": "code",
   "execution_count": 77,
   "metadata": {},
   "outputs": [
    {
     "name": "stderr",
     "output_type": "stream",
     "text": [
      "/home/sanjay/.local/lib/python3.7/site-packages/sklearn/linear_model/logistic.py:432: FutureWarning: Default solver will be changed to 'lbfgs' in 0.22. Specify a solver to silence this warning.\n",
      "  FutureWarning)\n",
      "/home/sanjay/.local/lib/python3.7/site-packages/sklearn/linear_model/logistic.py:469: FutureWarning: Default multi_class will be changed to 'auto' in 0.22. Specify the multi_class option to silence this warning.\n",
      "  \"this warning.\", FutureWarning)\n"
     ]
    },
    {
     "data": {
      "text/plain": [
       "LogisticRegression(C=1.0, class_weight=None, dual=False, fit_intercept=True,\n",
       "                   intercept_scaling=1, l1_ratio=None, max_iter=100,\n",
       "                   multi_class='warn', n_jobs=None, penalty='l2',\n",
       "                   random_state=None, solver='warn', tol=0.0001, verbose=0,\n",
       "                   warm_start=False)"
      ]
     },
     "execution_count": 77,
     "metadata": {},
     "output_type": "execute_result"
    }
   ],
   "source": [
    "model = LogisticRegression()\n",
    "model.fit(df_train_f1.drop('TripType', axis=1), df_train_f1['TripType'])"
   ]
  },
  {
   "cell_type": "markdown",
   "metadata": {},
   "source": [
    "**Question**: As a coarse measure, let's look at accuracy = % of examples predicted correctly. We won't look at the test set during this process. It is set aside and should have no influence on our model selection process."
   ]
  },
  {
   "cell_type": "code",
   "execution_count": 78,
   "metadata": {},
   "outputs": [],
   "source": [
    "train_class_pred = model.predict(df_train_f1.drop('TripType', axis=1))\n",
    "val_class_pred = model.predict(df_val_f1.drop('TripType', axis=1))"
   ]
  },
  {
   "cell_type": "code",
   "execution_count": 79,
   "metadata": {},
   "outputs": [
    {
     "data": {
      "text/plain": [
       "array([999,   9,  26,   8,   8,   8,  39,  21,   8,  25])"
      ]
     },
     "execution_count": 79,
     "metadata": {},
     "output_type": "execute_result"
    }
   ],
   "source": [
    "train_class_pred[0:10]"
   ]
  },
  {
   "cell_type": "code",
   "execution_count": 80,
   "metadata": {},
   "outputs": [
    {
     "name": "stdout",
     "output_type": "stream",
     "text": [
      "Train Acc = 0.6136479441853173\n",
      "Val   Acc = 0.6183756663530887\n"
     ]
    }
   ],
   "source": [
    "train_acc = np.sum(train_class_pred==df_train_f1['TripType'].tolist()) / df_train_f1.shape[0]\n",
    "val_acc = np.sum(val_class_pred==df_val_f1['TripType'].tolist()) / df_val_f1.shape[0]\n",
    "\n",
    "print(f\"Train Acc = {train_acc}\")\n",
    "print(f\"Val   Acc = {val_acc}\")"
   ]
  },
  {
   "cell_type": "markdown",
   "metadata": {},
   "source": [
    "**Good news**: The accuracy metrics are very similar across train and validation. This means our model is not overfitting or memorizing the train set. It is (hopefully) possible to increase the accuracy by changing the parameters of the model, using different features, or maybe using a different modeling technique."
   ]
  },
  {
   "cell_type": "markdown",
   "metadata": {},
   "source": [
    "**Evaluating accuracy**: Whenever there's a metric that evaluates a model, one should ask the question - what would the metric be if we had a very simple or dumb model?\n",
    "\n",
    "Let's look at two examples here."
   ]
  },
  {
   "cell_type": "code",
   "execution_count": 81,
   "metadata": {},
   "outputs": [
    {
     "data": {
      "text/plain": [
       "8      9717\n",
       "39     7864\n",
       "9      7643\n",
       "999    6737\n",
       "40     4865\n",
       "7      4558\n",
       "5      3642\n",
       "3      3001\n",
       "25     2979\n",
       "36     2398\n",
       "38     2239\n",
       "37     2185\n",
       "24     2075\n",
       "35     1621\n",
       "32     1562\n",
       "42     1512\n",
       "6      1044\n",
       "33     1017\n",
       "44      969\n",
       "15      870\n",
       "30      868\n",
       "22      752\n",
       "43      740\n",
       "27      702\n",
       "34      532\n",
       "21      510\n",
       "20      510\n",
       "31      470\n",
       "41      469\n",
       "18      441\n",
       "26      411\n",
       "28      392\n",
       "29      351\n",
       "4       300\n",
       "19      296\n",
       "12      192\n",
       "23      101\n",
       "14        4\n",
       "Name: TripType, dtype: int64"
      ]
     },
     "execution_count": 81,
     "metadata": {},
     "output_type": "execute_result"
    }
   ],
   "source": [
    "df_train_f1['TripType'].value_counts()"
   ]
  },
  {
   "cell_type": "markdown",
   "metadata": {},
   "source": [
    "What if we predicted every TripType to be the dominant class - TripType = 8 (with 9717 examples). Then we would get 9717 correct predictions and the rest would be wrong to give an accuracy of:\n",
    "\n",
    "$$\\frac{9717}{76539} \\approx 12.7\\% $$\n",
    "\n",
    "much worse than the 60% we see from our model."
   ]
  },
  {
   "cell_type": "markdown",
   "metadata": {},
   "source": [
    "What if we randomly assigned a trip type to each visit? We have 38 unique labels and it would give us a probability of \n",
    "\n",
    "$$\\frac{1}{38} \\approx 2.6\\%$$\n",
    "\n",
    "guessing the right label. In other words, this would give us an even worse accuracy."
   ]
  },
  {
   "cell_type": "markdown",
   "metadata": {},
   "source": [
    "But, all the trip types should not have the same probability of being guessed since they are unevenly distributed. Let's do a simple simulation for this."
   ]
  },
  {
   "cell_type": "code",
   "execution_count": 82,
   "metadata": {},
   "outputs": [],
   "source": [
    "counts = df_train_f1['TripType'].value_counts()\n",
    "probs_visit = counts.index\n",
    "probs_values = counts.values\n",
    "\n",
    "probs_values = probs_values / np.sum(probs_values)\n",
    "assert(probs_values.sum()==1)"
   ]
  },
  {
   "cell_type": "code",
   "execution_count": 83,
   "metadata": {},
   "outputs": [],
   "source": [
    "#random choose from labels according to the probability distribution in train and assign to each trip\n",
    "random_pred_train = np.random.choice(probs_visit, size=df_train_f1.shape[0], p=probs_values)"
   ]
  },
  {
   "cell_type": "code",
   "execution_count": 84,
   "metadata": {},
   "outputs": [
    {
     "name": "stdout",
     "output_type": "stream",
     "text": [
      "random train acc = 0.0636799540103738\n"
     ]
    }
   ],
   "source": [
    "print(f'random train acc = {np.sum(random_pred_train==df_train_f1[\"TripType\"].tolist())/df_train_f1.shape[0]}')"
   ]
  },
  {
   "cell_type": "markdown",
   "metadata": {},
   "source": [
    "So a random strategy would give us an accuracy of ~6.4%. So our model is indeed much better than a silly model."
   ]
  },
  {
   "cell_type": "markdown",
   "metadata": {},
   "source": [
    "Of course, what we really care about is the logarithmic loss below:\n",
    "\n",
    "$$-\\frac{1}{N} \\Sigma_{i=1}^N \\big(\\Sigma_{j=1}^M y_{ij} \\log(p_{ij})\\big)$$\n",
    "\n",
    "where:\n",
    "\n",
    "$N$ = number of rows\n",
    "\n",
    "$M$ = number of trip types\n",
    "\n",
    "$\n",
    "y_{ij} =\n",
    "\\begin{cases}\n",
    "1,  \\text{ if ith row has trip type j}\\\\\n",
    "0,   \\text{ otherwise} \\\\\n",
    "\\end{cases}$\n",
    "\n",
    "$p_{ij} = \\text{probability of the ith row being of trip-type j}$\n",
    "\n",
    "Note that $y_{ij}$ are labels and $p_{ij}$ are your model's predictions. Also, note that for a fixed row $i$, only one of $y_{ij} = 1$ and the rest are 0. So the contribution of that row to the cost is $-\\log(p_{ij})$. In other words, if the model very confidently predicts the correct class, $p_{ij} \\approx 1 \\implies -\\log(p_{ij}) \\approx 0$ i.e. there's no contribution to the cost. On the other hand, if the model predicts the correct class' probability with very low confidence i.e. $p_{ij}\\approx 0 \\implies -log(p_{ij}) \\approx \\infty$ so we get a very high loss.\n",
    "\n",
    "So even one bad prediction can really throw off your loss function and give a large value.\n",
    "\n",
    "https://www.kaggle.com/c/walmart-recruiting-trip-type-classification/overview/evaluation"
   ]
  },
  {
   "cell_type": "markdown",
   "metadata": {},
   "source": [
    "To evaluate this, we can use an in-built sklearn implementation but we need the probability of a visit to belong to each trip type.\n",
    "\n",
    "**Question**: look at the documentation for sklearn.linear_model.LogisticRegression and see if it exposes the class probabilities for each prediction."
   ]
  },
  {
   "cell_type": "code",
   "execution_count": null,
   "metadata": {},
   "outputs": [],
   "source": []
  },
  {
   "cell_type": "code",
   "execution_count": 86,
   "metadata": {},
   "outputs": [],
   "source": [
    "from sklearn.metrics import log_loss"
   ]
  },
  {
   "cell_type": "code",
   "execution_count": null,
   "metadata": {},
   "outputs": [],
   "source": []
  },
  {
   "cell_type": "code",
   "execution_count": 88,
   "metadata": {},
   "outputs": [
    {
     "data": {
      "text/plain": [
       "array([  3,   4,   5,   6,   7,   8,   9,  12,  14,  15,  18,  19,  20,\n",
       "        21,  22,  23,  24,  25,  26,  27,  28,  29,  30,  31,  32,  33,\n",
       "        34,  35,  36,  37,  38,  39,  40,  41,  42,  43,  44, 999])"
      ]
     },
     "execution_count": 88,
     "metadata": {},
     "output_type": "execute_result"
    }
   ],
   "source": [
    "model.classes_"
   ]
  },
  {
   "cell_type": "code",
   "execution_count": 89,
   "metadata": {},
   "outputs": [],
   "source": [
    "train_log_loss = log_loss(df_train_f1['TripType'], model.predict_proba(df_train_f1.drop('TripType', axis=1)), eps=1e-15)\n",
    "val_log_loss = log_loss(df_val_f1['TripType'], model.predict_proba(df_val_f1.drop('TripType', axis=1)), eps=1e-15, labels=model.classes_)"
   ]
  },
  {
   "cell_type": "code",
   "execution_count": 90,
   "metadata": {},
   "outputs": [
    {
     "name": "stdout",
     "output_type": "stream",
     "text": [
      "Train loss = 1.4777506943370753\n",
      "Val   loss = 1.4738018786470404\n"
     ]
    }
   ],
   "source": [
    "print(f'Train loss = {train_log_loss}')\n",
    "print(f'Val   loss = {val_log_loss}')"
   ]
  },
  {
   "cell_type": "markdown",
   "metadata": {},
   "source": [
    "At least we are not overfitting. If we were to trust the validation loss and extrapolate to the public leaderboard - https://www.kaggle.com/c/walmart-recruiting-trip-type-classification/leaderboard\n",
    "\n",
    "we would be at position 559 / 1046. But maybe we don't care about the competition. In terms of accuracy, maybe your business is happy with a ~62.% accuracy. Are there other metrics we can look at to understand what this model is doing?"
   ]
  },
  {
   "cell_type": "markdown",
   "metadata": {},
   "source": [
    "The first quantity we will look at is the confusion matrix. An example will make it clear"
   ]
  },
  {
   "cell_type": "code",
   "execution_count": 91,
   "metadata": {},
   "outputs": [],
   "source": [
    "from sklearn.metrics import confusion_matrix"
   ]
  },
  {
   "cell_type": "code",
   "execution_count": 92,
   "metadata": {},
   "outputs": [
    {
     "name": "stdout",
     "output_type": "stream",
     "text": [
      "[[286   0   1 ...   0   0   0]\n",
      " [  0   0   6 ...   0   0   0]\n",
      " [  1   0 341 ...   0   0   0]\n",
      " ...\n",
      " [  1   0   5 ...   0   0   0]\n",
      " [  0   0   3 ...   0   3   0]\n",
      " [ 62   0   4 ...   0   0 669]]\n"
     ]
    }
   ],
   "source": [
    "cmat = confusion_matrix(df_val_f1['TripType'].tolist(), model.predict(df_val_f1.drop('TripType', axis=1)).tolist())\n",
    "print(cmat)"
   ]
  },
  {
   "cell_type": "markdown",
   "metadata": {},
   "source": [
    "The confusion matrix indexes the rows and the columns with each trip type. The entry in the ith row and the jth column is the number of examples with labels trip type i and predictions trip type j. In other words:\n",
    "\n",
    "* The rows are the actual labels\n",
    "\n",
    "* The columns are the predictions\n",
    "\n",
    "If a model gets all the predictions correct, the confusion matrix should be diagonal. Any off-diagonal terms are errors. Note that the confusion matrix by definition is NOT symmetric."
   ]
  },
  {
   "cell_type": "code",
   "execution_count": 93,
   "metadata": {},
   "outputs": [
    {
     "data": {
      "text/plain": [
       "Text(0.5, 1.0, 'Validation Confusion Matrix')"
      ]
     },
     "execution_count": 93,
     "metadata": {},
     "output_type": "execute_result"
    },
    {
     "data": {
      "image/png": "[encoded data removed]",
      "text/plain": [
       "<Figure size 720x720 with 1 Axes>"
      ]
     },
     "metadata": {
      "needs_background": "light"
     },
     "output_type": "display_data"
    }
   ],
   "source": [
    "fig, ax = plt.subplots(figsize=(10,10))\n",
    "ax.imshow(cmat);\n",
    "\n",
    "_ = ax.set_xticks(np.arange(len(model.classes_)))\n",
    "_ = ax.set_yticks(np.arange(len(model.classes_)))\n",
    "              \n",
    "_ = ax.set_xticklabels(model.classes_, rotation=90)\n",
    "_ = ax.set_yticklabels(model.classes_)\n",
    "\n",
    "plt.xlabel('Predictions')\n",
    "plt.ylabel('Labels')\n",
    "plt.title('Validation Confusion Matrix')"
   ]
  },
  {
   "cell_type": "markdown",
   "metadata": {},
   "source": [
    "We should also look at the weights for each feature."
   ]
  },
  {
   "cell_type": "code",
   "execution_count": 94,
   "metadata": {},
   "outputs": [
    {
     "data": {
      "text/plain": [
       "(38, 68)"
      ]
     },
     "execution_count": 94,
     "metadata": {},
     "output_type": "execute_result"
    }
   ],
   "source": [
    "model.coef_.shape"
   ]
  },
  {
   "cell_type": "markdown",
   "metadata": {},
   "source": [
    "**Question**: Shouldn't there be as many weights as there are features (68)? Why do we have 38 rows here?"
   ]
  },
  {
   "cell_type": "markdown",
   "metadata": {},
   "source": [
    "See below for explanation of ovr."
   ]
  },
  {
   "cell_type": "markdown",
   "metadata": {},
   "source": [
    "### Changing the loss used by Logistic Regression"
   ]
  },
  {
   "cell_type": "markdown",
   "metadata": {},
   "source": [
    "At this stage, you should have a reasonable question. Everything we saw about logistic regression referred to the binary classification problem i.e. there were two classes - 0 and 1 and we were trying to classify objects/rows into these two classes. But here we have 38 classes and logistic regression still worked. \n",
    "\n",
    "**Question**: look at the documentation for sklearn.linear_model.LogisticRegression and see if you can discover how the model accounts for multiple classes."
   ]
  },
  {
   "cell_type": "markdown",
   "metadata": {},
   "source": [
    "LogisticRegression takes a parameter called \"multi-class\". By default, it takes the value \"ovr\". (See _check_multi_class in sklearn/linear_model/logistic.py).\n",
    "\n",
    "\"ovr\" (one-vs-rest) turns a problem with N classes into N binary classification problems. More concretely, if the N classes are $1, 2, \\ldots, N$, then N models will be built. The first one will label class 1 as 1 and everything else as 0. The second model will label class 2 as 1 and everything as 0 and so on. Each model will then be called during inference to predict a score. These scores are then normalized (divide by sum of scores).\n",
    "\n",
    "Now you can see why we the shape of the coefficients was (38,68). We have 38 logistic regression models!\n",
    "\n",
    "\"multinomial\" solves a fundamentally different problem. It optimizes for the loss that is exactly our loss above.\n",
    "\n",
    "So let's try repeating the procedure above but with \"multinormial\""
   ]
  },
  {
   "cell_type": "code",
   "execution_count": 95,
   "metadata": {},
   "outputs": [
    {
     "data": {
      "text/plain": [
       "LogisticRegression(C=1.0, class_weight=None, dual=False, fit_intercept=True,\n",
       "                   intercept_scaling=1, l1_ratio=None, max_iter=1000,\n",
       "                   multi_class='multinomial', n_jobs=None, penalty='l2',\n",
       "                   random_state=None, solver='lbfgs', tol=0.0001, verbose=0,\n",
       "                   warm_start=False)"
      ]
     },
     "execution_count": 95,
     "metadata": {},
     "output_type": "execute_result"
    }
   ],
   "source": [
    "#this might be slow due to max_iter\n",
    "model = LogisticRegression(multi_class='multinomial', solver='lbfgs', max_iter=1000)\n",
    "model.fit(df_train_f1.drop('TripType', axis=1), df_train_f1['TripType'])"
   ]
  },
  {
   "cell_type": "code",
   "execution_count": 96,
   "metadata": {},
   "outputs": [],
   "source": [
    "train_class_pred = model.predict(df_train_f1.drop('TripType', axis=1))\n",
    "val_class_pred = model.predict(df_val_f1.drop('TripType', axis=1))"
   ]
  },
  {
   "cell_type": "code",
   "execution_count": 97,
   "metadata": {},
   "outputs": [
    {
     "name": "stdout",
     "output_type": "stream",
     "text": [
      "Train Acc = 0.6653470779602556\n",
      "Val   Acc = 0.6700114978572175\n"
     ]
    }
   ],
   "source": [
    "train_acc = np.sum(train_class_pred==df_train_f1['TripType'].tolist()) / df_train_f1.shape[0]\n",
    "val_acc = np.sum(val_class_pred==df_val_f1['TripType'].tolist()) / df_val_f1.shape[0]\n",
    "\n",
    "print(f\"Train Acc = {train_acc}\")\n",
    "print(f\"Val   Acc = {val_acc}\")"
   ]
  },
  {
   "cell_type": "markdown",
   "metadata": {},
   "source": [
    "**Note**: Our accuracy jumped from 61-62% to ~66%. This is a significant improvement just by changing the loss function. In particular, this is a general theme in machine learning. All machine learning problems can be rephrased as numerical optimization problems. What you optimize has a huge impact on performance. There's a translation from business/research-level metrics to a function that is relatively easy to optimize but also captures the salient features of the business/research-level metric."
   ]
  },
  {
   "cell_type": "code",
   "execution_count": 98,
   "metadata": {},
   "outputs": [],
   "source": [
    "train_log_loss = log_loss(df_train_f1['TripType'], model.predict_proba(df_train_f1.drop('TripType', axis=1)), eps=1e-15)\n",
    "val_log_loss = log_loss(df_val_f1['TripType'], model.predict_proba(df_val_f1.drop('TripType', axis=1)), eps=1e-15, labels=model.classes_)"
   ]
  },
  {
   "cell_type": "code",
   "execution_count": 99,
   "metadata": {},
   "outputs": [
    {
     "name": "stdout",
     "output_type": "stream",
     "text": [
      "Train loss = 1.1752193826477024\n",
      "Val   loss = 1.1737080926135646\n"
     ]
    }
   ],
   "source": [
    "print(f'Train loss = {train_log_loss}')\n",
    "print(f'Val   loss = {val_log_loss}')"
   ]
  },
  {
   "cell_type": "markdown",
   "metadata": {},
   "source": [
    "As expected, directly optimizing the multinomial loss results in a significantly lower value (compared to ~1.47 earlier with ovr). A value of 1.175 would place us at 488 / 1046 on the leaderboard."
   ]
  },
  {
   "cell_type": "markdown",
   "metadata": {},
   "source": [
    "### Changing featurization strategies"
   ]
  },
  {
   "cell_type": "markdown",
   "metadata": {},
   "source": [
    "The most obvious feature we can include is day of week. Since the 7 days are given as strings, how should we encode them? One option is to map each day to an integer.\n",
    "\n",
    "Monday -> 0\n",
    "\n",
    "Tuesday -> 1\n",
    "\n",
    "Wednesday -> 2\n",
    "\n",
    "and so on.\n",
    "\n",
    "**Question**: Do you think is a reasonable idea? Why or why not?"
   ]
  },
  {
   "cell_type": "markdown",
   "metadata": {},
   "source": [
    "**Answer**:"
   ]
  },
  {
   "cell_type": "markdown",
   "metadata": {},
   "source": [
    "**Question**: Can you imagine any resource issues with one-hot encoding?"
   ]
  },
  {
   "cell_type": "markdown",
   "metadata": {},
   "source": [
    "**Answer**:"
   ]
  },
  {
   "cell_type": "code",
   "execution_count": 100,
   "metadata": {},
   "outputs": [
    {
     "data": {
      "text/plain": [
       "0    Friday\n",
       "1    Friday\n",
       "2    Friday\n",
       "3    Friday\n",
       "4    Friday\n",
       "5    Friday\n",
       "6    Friday\n",
       "7    Friday\n",
       "8    Friday\n",
       "9    Friday\n",
       "Name: Weekday, dtype: object"
      ]
     },
     "execution_count": 100,
     "metadata": {},
     "output_type": "execute_result"
    }
   ],
   "source": [
    "df_train['Weekday'].head(10)"
   ]
  },
  {
   "cell_type": "code",
   "execution_count": 101,
   "metadata": {},
   "outputs": [
    {
     "data": {
      "text/html": [
       "<div>\n",
       "<style scoped>\n",
       "    .dataframe tbody tr th:only-of-type {\n",
       "        vertical-align: middle;\n",
       "    }\n",
       "\n",
       "    .dataframe tbody tr th {\n",
       "        vertical-align: top;\n",
       "    }\n",
       "\n",
       "    .dataframe thead th {\n",
       "        text-align: right;\n",
       "    }\n",
       "</style>\n",
       "<table border=\"1\" class=\"dataframe\">\n",
       "  <thead>\n",
       "    <tr style=\"text-align: right;\">\n",
       "      <th></th>\n",
       "      <th>Friday</th>\n",
       "      <th>Monday</th>\n",
       "      <th>Saturday</th>\n",
       "      <th>Sunday</th>\n",
       "      <th>Thursday</th>\n",
       "      <th>Tuesday</th>\n",
       "      <th>Wednesday</th>\n",
       "    </tr>\n",
       "  </thead>\n",
       "  <tbody>\n",
       "    <tr>\n",
       "      <th>0</th>\n",
       "      <td>1</td>\n",
       "      <td>0</td>\n",
       "      <td>0</td>\n",
       "      <td>0</td>\n",
       "      <td>0</td>\n",
       "      <td>0</td>\n",
       "      <td>0</td>\n",
       "    </tr>\n",
       "    <tr>\n",
       "      <th>1</th>\n",
       "      <td>1</td>\n",
       "      <td>0</td>\n",
       "      <td>0</td>\n",
       "      <td>0</td>\n",
       "      <td>0</td>\n",
       "      <td>0</td>\n",
       "      <td>0</td>\n",
       "    </tr>\n",
       "    <tr>\n",
       "      <th>2</th>\n",
       "      <td>1</td>\n",
       "      <td>0</td>\n",
       "      <td>0</td>\n",
       "      <td>0</td>\n",
       "      <td>0</td>\n",
       "      <td>0</td>\n",
       "      <td>0</td>\n",
       "    </tr>\n",
       "    <tr>\n",
       "      <th>3</th>\n",
       "      <td>1</td>\n",
       "      <td>0</td>\n",
       "      <td>0</td>\n",
       "      <td>0</td>\n",
       "      <td>0</td>\n",
       "      <td>0</td>\n",
       "      <td>0</td>\n",
       "    </tr>\n",
       "    <tr>\n",
       "      <th>4</th>\n",
       "      <td>1</td>\n",
       "      <td>0</td>\n",
       "      <td>0</td>\n",
       "      <td>0</td>\n",
       "      <td>0</td>\n",
       "      <td>0</td>\n",
       "      <td>0</td>\n",
       "    </tr>\n",
       "  </tbody>\n",
       "</table>\n",
       "</div>"
      ],
      "text/plain": [
       "   Friday  Monday  Saturday  Sunday  Thursday  Tuesday  Wednesday\n",
       "0       1       0         0       0         0        0          0\n",
       "1       1       0         0       0         0        0          0\n",
       "2       1       0         0       0         0        0          0\n",
       "3       1       0         0       0         0        0          0\n",
       "4       1       0         0       0         0        0          0"
      ]
     },
     "execution_count": 101,
     "metadata": {},
     "output_type": "execute_result"
    }
   ],
   "source": [
    "pd.get_dummies(df_train['Weekday']).head()"
   ]
  },
  {
   "cell_type": "markdown",
   "metadata": {},
   "source": [
    "**Question**: What are the implications of this encoding?"
   ]
  },
  {
   "cell_type": "markdown",
   "metadata": {},
   "source": [
    "**Answer**:"
   ]
  },
  {
   "cell_type": "markdown",
   "metadata": {},
   "source": [
    "**Question**: Add these one-hot encoded week values to our features."
   ]
  },
  {
   "cell_type": "code",
   "execution_count": 102,
   "metadata": {},
   "outputs": [],
   "source": [
    "df_train_f2 = pd.concat([df_train_f1, \n",
    "                         pd.get_dummies(df_train[['VisitNumber', 'Weekday']].set_index('VisitNumber'),\n",
    "                                        prefix='Weekday')], \n",
    "                         axis=1)"
   ]
  },
  {
   "cell_type": "code",
   "execution_count": 103,
   "metadata": {},
   "outputs": [
    {
     "ename": "KeyError",
     "evalue": "\"['Weekday_Saturday', 'Weekday_Sunday'] not in index\"",
     "output_type": "error",
     "traceback": [
      "\u001b[0;31m---------------------------------------------------------------------------\u001b[0m",
      "\u001b[0;31mKeyError\u001b[0m                                  Traceback (most recent call last)",
      "\u001b[0;32m<ipython-input-103-04998870da7b>\u001b[0m in \u001b[0;36m<module>\u001b[0;34m\u001b[0m\n\u001b[1;32m      3\u001b[0m                                       prefix='Weekday')], \n\u001b[1;32m      4\u001b[0m                        axis=1)\n\u001b[0;32m----> 5\u001b[0;31m \u001b[0mdf_val_f2\u001b[0m \u001b[0;34m=\u001b[0m \u001b[0mdf_val_f2\u001b[0m\u001b[0;34m[\u001b[0m\u001b[0mdf_train_f2\u001b[0m\u001b[0;34m.\u001b[0m\u001b[0mcolumns\u001b[0m\u001b[0;34m]\u001b[0m \u001b[0;31m#ensure column order is the same\u001b[0m\u001b[0;34m\u001b[0m\u001b[0;34m\u001b[0m\u001b[0m\n\u001b[0m",
      "\u001b[0;32m~/anaconda3/envs/fastai2/lib/python3.7/site-packages/pandas/core/frame.py\u001b[0m in \u001b[0;36m__getitem__\u001b[0;34m(self, key)\u001b[0m\n\u001b[1;32m   2999\u001b[0m             \u001b[0;32mif\u001b[0m \u001b[0mis_iterator\u001b[0m\u001b[0;34m(\u001b[0m\u001b[0mkey\u001b[0m\u001b[0;34m)\u001b[0m\u001b[0;34m:\u001b[0m\u001b[0;34m\u001b[0m\u001b[0;34m\u001b[0m\u001b[0m\n\u001b[1;32m   3000\u001b[0m                 \u001b[0mkey\u001b[0m \u001b[0;34m=\u001b[0m \u001b[0mlist\u001b[0m\u001b[0;34m(\u001b[0m\u001b[0mkey\u001b[0m\u001b[0;34m)\u001b[0m\u001b[0;34m\u001b[0m\u001b[0;34m\u001b[0m\u001b[0m\n\u001b[0;32m-> 3001\u001b[0;31m             \u001b[0mindexer\u001b[0m \u001b[0;34m=\u001b[0m \u001b[0mself\u001b[0m\u001b[0;34m.\u001b[0m\u001b[0mloc\u001b[0m\u001b[0;34m.\u001b[0m\u001b[0m_convert_to_indexer\u001b[0m\u001b[0;34m(\u001b[0m\u001b[0mkey\u001b[0m\u001b[0;34m,\u001b[0m \u001b[0maxis\u001b[0m\u001b[0;34m=\u001b[0m\u001b[0;36m1\u001b[0m\u001b[0;34m,\u001b[0m \u001b[0mraise_missing\u001b[0m\u001b[0;34m=\u001b[0m\u001b[0;32mTrue\u001b[0m\u001b[0;34m)\u001b[0m\u001b[0;34m\u001b[0m\u001b[0;34m\u001b[0m\u001b[0m\n\u001b[0m\u001b[1;32m   3002\u001b[0m \u001b[0;34m\u001b[0m\u001b[0m\n\u001b[1;32m   3003\u001b[0m         \u001b[0;31m# take() does not accept boolean indexers\u001b[0m\u001b[0;34m\u001b[0m\u001b[0;34m\u001b[0m\u001b[0;34m\u001b[0m\u001b[0m\n",
      "\u001b[0;32m~/anaconda3/envs/fastai2/lib/python3.7/site-packages/pandas/core/indexing.py\u001b[0m in \u001b[0;36m_convert_to_indexer\u001b[0;34m(self, obj, axis, is_setter, raise_missing)\u001b[0m\n\u001b[1;32m   1283\u001b[0m                 \u001b[0;31m# When setting, missing keys are not allowed, even with .loc:\u001b[0m\u001b[0;34m\u001b[0m\u001b[0;34m\u001b[0m\u001b[0;34m\u001b[0m\u001b[0m\n\u001b[1;32m   1284\u001b[0m                 \u001b[0mkwargs\u001b[0m \u001b[0;34m=\u001b[0m \u001b[0;34m{\u001b[0m\u001b[0;34m\"raise_missing\"\u001b[0m\u001b[0;34m:\u001b[0m \u001b[0;32mTrue\u001b[0m \u001b[0;32mif\u001b[0m \u001b[0mis_setter\u001b[0m \u001b[0;32melse\u001b[0m \u001b[0mraise_missing\u001b[0m\u001b[0;34m}\u001b[0m\u001b[0;34m\u001b[0m\u001b[0;34m\u001b[0m\u001b[0m\n\u001b[0;32m-> 1285\u001b[0;31m                 \u001b[0;32mreturn\u001b[0m \u001b[0mself\u001b[0m\u001b[0;34m.\u001b[0m\u001b[0m_get_listlike_indexer\u001b[0m\u001b[0;34m(\u001b[0m\u001b[0mobj\u001b[0m\u001b[0;34m,\u001b[0m \u001b[0maxis\u001b[0m\u001b[0;34m,\u001b[0m \u001b[0;34m**\u001b[0m\u001b[0mkwargs\u001b[0m\u001b[0;34m)\u001b[0m\u001b[0;34m[\u001b[0m\u001b[0;36m1\u001b[0m\u001b[0;34m]\u001b[0m\u001b[0;34m\u001b[0m\u001b[0;34m\u001b[0m\u001b[0m\n\u001b[0m\u001b[1;32m   1286\u001b[0m         \u001b[0;32melse\u001b[0m\u001b[0;34m:\u001b[0m\u001b[0;34m\u001b[0m\u001b[0;34m\u001b[0m\u001b[0m\n\u001b[1;32m   1287\u001b[0m             \u001b[0;32mtry\u001b[0m\u001b[0;34m:\u001b[0m\u001b[0;34m\u001b[0m\u001b[0;34m\u001b[0m\u001b[0m\n",
      "\u001b[0;32m~/anaconda3/envs/fastai2/lib/python3.7/site-packages/pandas/core/indexing.py\u001b[0m in \u001b[0;36m_get_listlike_indexer\u001b[0;34m(self, key, axis, raise_missing)\u001b[0m\n\u001b[1;32m   1090\u001b[0m \u001b[0;34m\u001b[0m\u001b[0m\n\u001b[1;32m   1091\u001b[0m         self._validate_read_indexer(\n\u001b[0;32m-> 1092\u001b[0;31m             \u001b[0mkeyarr\u001b[0m\u001b[0;34m,\u001b[0m \u001b[0mindexer\u001b[0m\u001b[0;34m,\u001b[0m \u001b[0mo\u001b[0m\u001b[0;34m.\u001b[0m\u001b[0m_get_axis_number\u001b[0m\u001b[0;34m(\u001b[0m\u001b[0maxis\u001b[0m\u001b[0;34m)\u001b[0m\u001b[0;34m,\u001b[0m \u001b[0mraise_missing\u001b[0m\u001b[0;34m=\u001b[0m\u001b[0mraise_missing\u001b[0m\u001b[0;34m\u001b[0m\u001b[0;34m\u001b[0m\u001b[0m\n\u001b[0m\u001b[1;32m   1093\u001b[0m         )\n\u001b[1;32m   1094\u001b[0m         \u001b[0;32mreturn\u001b[0m \u001b[0mkeyarr\u001b[0m\u001b[0;34m,\u001b[0m \u001b[0mindexer\u001b[0m\u001b[0;34m\u001b[0m\u001b[0;34m\u001b[0m\u001b[0m\n",
      "\u001b[0;32m~/anaconda3/envs/fastai2/lib/python3.7/site-packages/pandas/core/indexing.py\u001b[0m in \u001b[0;36m_validate_read_indexer\u001b[0;34m(self, key, indexer, axis, raise_missing)\u001b[0m\n\u001b[1;32m   1183\u001b[0m             \u001b[0;32mif\u001b[0m \u001b[0;32mnot\u001b[0m \u001b[0;34m(\u001b[0m\u001b[0mself\u001b[0m\u001b[0;34m.\u001b[0m\u001b[0mname\u001b[0m \u001b[0;34m==\u001b[0m \u001b[0;34m\"loc\"\u001b[0m \u001b[0;32mand\u001b[0m \u001b[0;32mnot\u001b[0m \u001b[0mraise_missing\u001b[0m\u001b[0;34m)\u001b[0m\u001b[0;34m:\u001b[0m\u001b[0;34m\u001b[0m\u001b[0;34m\u001b[0m\u001b[0m\n\u001b[1;32m   1184\u001b[0m                 \u001b[0mnot_found\u001b[0m \u001b[0;34m=\u001b[0m \u001b[0mlist\u001b[0m\u001b[0;34m(\u001b[0m\u001b[0mset\u001b[0m\u001b[0;34m(\u001b[0m\u001b[0mkey\u001b[0m\u001b[0;34m)\u001b[0m \u001b[0;34m-\u001b[0m \u001b[0mset\u001b[0m\u001b[0;34m(\u001b[0m\u001b[0max\u001b[0m\u001b[0;34m)\u001b[0m\u001b[0;34m)\u001b[0m\u001b[0;34m\u001b[0m\u001b[0;34m\u001b[0m\u001b[0m\n\u001b[0;32m-> 1185\u001b[0;31m                 \u001b[0;32mraise\u001b[0m \u001b[0mKeyError\u001b[0m\u001b[0;34m(\u001b[0m\u001b[0;34m\"{} not in index\"\u001b[0m\u001b[0;34m.\u001b[0m\u001b[0mformat\u001b[0m\u001b[0;34m(\u001b[0m\u001b[0mnot_found\u001b[0m\u001b[0;34m)\u001b[0m\u001b[0;34m)\u001b[0m\u001b[0;34m\u001b[0m\u001b[0;34m\u001b[0m\u001b[0m\n\u001b[0m\u001b[1;32m   1186\u001b[0m \u001b[0;34m\u001b[0m\u001b[0m\n\u001b[1;32m   1187\u001b[0m             \u001b[0;31m# we skip the warning on Categorical/Interval\u001b[0m\u001b[0;34m\u001b[0m\u001b[0;34m\u001b[0m\u001b[0;34m\u001b[0m\u001b[0m\n",
      "\u001b[0;31mKeyError\u001b[0m: \"['Weekday_Saturday', 'Weekday_Sunday'] not in index\""
     ]
    }
   ],
   "source": [
    "df_val_f2 = pd.concat([df_val_f1, \n",
    "                       pd.get_dummies(df_val[['VisitNumber', 'Weekday']].set_index('VisitNumber'),\n",
    "                                      prefix='Weekday')], \n",
    "                       axis=1)\n",
    "df_val_f2 = df_val_f2[df_train_f2.columns] #ensure column order is the same"
   ]
  },
  {
   "cell_type": "markdown",
   "metadata": {},
   "source": [
    "**Question**: Debug this issue."
   ]
  },
  {
   "cell_type": "markdown",
   "metadata": {},
   "source": [
    "We have a strong hint. The exception is raised when we try re-ordering the columns in df_val_f2 according to the columns in df_train_v2. It seems like there are no columns called \"Weekday_Saturday\" and \"Weekday_Sunday\" in df_val."
   ]
  },
  {
   "cell_type": "code",
   "execution_count": null,
   "metadata": {},
   "outputs": [],
   "source": []
  },
  {
   "cell_type": "markdown",
   "metadata": {},
   "source": [
    "Yes! Saturday and Sunday are completely missing in val! What about test?"
   ]
  },
  {
   "cell_type": "code",
   "execution_count": null,
   "metadata": {},
   "outputs": [],
   "source": []
  },
  {
   "cell_type": "markdown",
   "metadata": {},
   "source": [
    "What about train?"
   ]
  },
  {
   "cell_type": "code",
   "execution_count": null,
   "metadata": {},
   "outputs": [],
   "source": []
  },
  {
   "cell_type": "markdown",
   "metadata": {},
   "source": [
    "The situation with test is even worse. We only have Friday, Saturday and Sunday. \n",
    "\n",
    "**Question**: Why could this be bad? How could we fix this?"
   ]
  },
  {
   "cell_type": "markdown",
   "metadata": {},
   "source": [
    "**Answer**:\n",
    "\n",
    "Another **lesson**: check the distribution of variables in train, val and test and ensure they are similar."
   ]
  },
  {
   "cell_type": "markdown",
   "metadata": {},
   "source": [
    "So let's re-define our validation strategy and create new train, val and test sets."
   ]
  },
  {
   "cell_type": "code",
   "execution_count": 107,
   "metadata": {},
   "outputs": [],
   "source": [
    "#clearing some variables\n",
    "\n",
    "df_train_f1 = None\n",
    "df_val_f1 = None\n",
    "df_test_f1 = None\n",
    "\n",
    "df_train_f2 = None\n",
    "df_val_f2 = None\n",
    "df_test_f2 = None"
   ]
  },
  {
   "cell_type": "code",
   "execution_count": 108,
   "metadata": {},
   "outputs": [
    {
     "name": "stderr",
     "output_type": "stream",
     "text": [
      "/home/sanjay/anaconda3/envs/fastai2/lib/python3.7/site-packages/pandas/core/generic.py:6287: SettingWithCopyWarning: \n",
      "A value is trying to be set on a copy of a slice from a DataFrame\n",
      "\n",
      "See the caveats in the documentation: http://pandas.pydata.org/pandas-docs/stable/user_guide/indexing.html#returning-a-view-versus-a-copy\n",
      "  self._update_inplace(new_data)\n",
      "/home/sanjay/anaconda3/envs/fastai2/lib/python3.7/site-packages/pandas/core/indexing.py:494: SettingWithCopyWarning: \n",
      "A value is trying to be set on a copy of a slice from a DataFrame.\n",
      "Try using .loc[row_indexer,col_indexer] = value instead\n",
      "\n",
      "See the caveats in the documentation: http://pandas.pydata.org/pandas-docs/stable/user_guide/indexing.html#returning-a-view-versus-a-copy\n",
      "  self.obj[item] = s\n"
     ]
    }
   ],
   "source": [
    "df = pd.read_csv(f'{DATA_PATH}/train.csv')\n",
    "\n",
    "unique_visit_numbers = df['VisitNumber'].unique()\n",
    "\n",
    "N_visits = len(unique_visit_numbers)\n",
    "\n",
    "TRAIN_PERC = 0.80\n",
    "VAL_PERC = 0.10\n",
    "TEST_PERC = 0.10\n",
    "\n",
    "TRAIN_CUTOFF = int(TRAIN_PERC * N_visits)\n",
    "VAL_CUTOFF = int((TRAIN_PERC + VAL_PERC) * N_visits)\n",
    "\n",
    "np.random.seed(100) #for reproducibility\n",
    "np.random.shuffle(unique_visit_numbers) #shuffle visit numbers\n",
    "\n",
    "#get visit numbers for each set\n",
    "train_visit_numbers_rnd = unique_visit_numbers[:TRAIN_CUTOFF]\n",
    "val_visit_numbers_rnd = unique_visit_numbers[TRAIN_CUTOFF:VAL_CUTOFF]\n",
    "test_visit_numbers_rnd = unique_visit_numbers[VAL_CUTOFF:]\n",
    "\n",
    "#ensure no overlap\n",
    "assert(len(set(train_visit_numbers_rnd).intersection(val_visit_numbers_rnd))==0)\n",
    "assert(len(set(train_visit_numbers_rnd).intersection(test_visit_numbers_rnd))==0)\n",
    "assert(len(set(val_visit_numbers_rnd).intersection(test_visit_numbers_rnd))==0)\n",
    "\n",
    "#split datasets by visit numbers\n",
    "df_train = df[df['VisitNumber'].isin(train_visit_numbers_rnd)]\n",
    "df_val = df[df['VisitNumber'].isin(val_visit_numbers_rnd)]\n",
    "df_test = df[df['VisitNumber'].isin(test_visit_numbers_rnd)]\n",
    "\n",
    "#fill nulls - could do this before splitting\n",
    "df_train['Upc'].fillna(-1, inplace=True)\n",
    "df_train['DepartmentDescription'].fillna(\"-1\", inplace=True)\n",
    "df_train['FinelineNumber'].fillna(-1, inplace=True)\n",
    "\n",
    "df_val['Upc'].fillna(-1, inplace=True)\n",
    "df_val['DepartmentDescription'].fillna(\"-1\", inplace=True)\n",
    "df_val['FinelineNumber'].fillna(-1, inplace=True)\n",
    "\n",
    "df_test['Upc'].fillna(-1, inplace=True)\n",
    "df_test['DepartmentDescription'].fillna(\"-1\", inplace=True)\n",
    "df_test['FinelineNumber'].fillna(-1, inplace=True)\n",
    "\n",
    "#do department replacement\n",
    "df_train.loc[df_train['DepartmentDescription']=='HEALTH AND BEAUTY AIDS', 'DepartmentDescription'] = 'BEAUTY'\n",
    "df_val.loc[df_val['DepartmentDescription']=='HEALTH AND BEAUTY AIDS', 'DepartmentDescription'] = 'BEAUTY'\n",
    "df_test.loc[df_test['DepartmentDescription']=='HEALTH AND BEAUTY AIDS', 'DepartmentDescription'] = 'BEAUTY'\n",
    "\n",
    "#persist datasets - \"rnd\" -> random split\n",
    "#nonnull -> nulls replaced\n",
    "#deprep -> department replaced\n",
    "df_train.reset_index(drop=True).to_feather(f'{DATA_PATH}/df_nonull_deprep_train_rnd.feather')\n",
    "df_val.reset_index(drop=True).to_feather(f'{DATA_PATH}/df_nonull_deprep_val.feather')\n",
    "df_test.reset_index(drop=True).to_feather(f'{DATA_PATH}/df_nonull_deprep_test.feather')\n",
    "\n",
    "df = None"
   ]
  },
  {
   "cell_type": "markdown",
   "metadata": {},
   "source": [
    "**Question**: Check the distribution of weekday, department description and trip type in train, val and test. Are these similar?"
   ]
  },
  {
   "cell_type": "code",
   "execution_count": 3,
   "metadata": {},
   "outputs": [],
   "source": [
    "#weekday"
   ]
  },
  {
   "cell_type": "code",
   "execution_count": null,
   "metadata": {},
   "outputs": [],
   "source": []
  },
  {
   "cell_type": "code",
   "execution_count": null,
   "metadata": {},
   "outputs": [],
   "source": []
  },
  {
   "cell_type": "markdown",
   "metadata": {},
   "source": [
    "We have all the days in each dataset now. The distributions are also similar."
   ]
  },
  {
   "cell_type": "code",
   "execution_count": 4,
   "metadata": {},
   "outputs": [],
   "source": [
    "#trip type"
   ]
  },
  {
   "cell_type": "code",
   "execution_count": null,
   "metadata": {},
   "outputs": [],
   "source": []
  },
  {
   "cell_type": "code",
   "execution_count": null,
   "metadata": {},
   "outputs": [],
   "source": []
  },
  {
   "cell_type": "markdown",
   "metadata": {},
   "source": [
    "You could plot this (remove the trip type 999 point though since the x-axis will get stretched out) to compare the 3 distributions or manually inspect the values. The distributions are roughly the same."
   ]
  },
  {
   "cell_type": "code",
   "execution_count": 5,
   "metadata": {},
   "outputs": [],
   "source": [
    "#department description"
   ]
  },
  {
   "cell_type": "code",
   "execution_count": null,
   "metadata": {},
   "outputs": [],
   "source": []
  },
  {
   "cell_type": "code",
   "execution_count": null,
   "metadata": {},
   "outputs": [],
   "source": []
  },
  {
   "cell_type": "markdown",
   "metadata": {},
   "source": [
    "Note: the above plot is not quite careful enough. I just plotted the % in each department in decreasing order but the order of departments might be permuted between the 3 datasets. \n",
    "\n",
    "**Question**: To be careful, map each department to an integer (ensure it's the same mapping in all 3 datasets) and plot percentage vs the integer."
   ]
  },
  {
   "cell_type": "markdown",
   "metadata": {},
   "source": [
    "**Question**: Quickly repeat our experiments with the pivot tables (without the weekday column) to see how performance changes with the new strategy?"
   ]
  },
  {
   "cell_type": "code",
   "execution_count": 117,
   "metadata": {},
   "outputs": [],
   "source": [
    "#note we have already replaced nulls and the department\n",
    "df_train_f1 = pd.pivot_table(df_train, \n",
    "                             index='VisitNumber', \n",
    "                             columns='DepartmentDescription', \n",
    "                             values='ScanCount', \n",
    "                             aggfunc='sum').fillna(0)\n",
    "\n",
    "df_val_f1 = pd.pivot_table(df_val, \n",
    "                           index='VisitNumber', \n",
    "                           columns='DepartmentDescription', \n",
    "                           values='ScanCount', \n",
    "                           aggfunc='sum').fillna(0)\n",
    "\n",
    "df_test_f1 = pd.pivot_table(df_test,\n",
    "                            index='VisitNumber',\n",
    "                            columns='DepartmentDescription', \n",
    "                            values='ScanCount', \n",
    "                            aggfunc='sum').fillna(0)"
   ]
  },
  {
   "cell_type": "code",
   "execution_count": 118,
   "metadata": {},
   "outputs": [
    {
     "data": {
      "text/plain": [
       "0.0"
      ]
     },
     "execution_count": 118,
     "metadata": {},
     "output_type": "execute_result"
    }
   ],
   "source": [
    "#check counts\n",
    "(df_train_f1.sum(axis=1) - df_train.groupby('VisitNumber').agg({'ScanCount': np.sum})['ScanCount']).sum()"
   ]
  },
  {
   "cell_type": "code",
   "execution_count": 119,
   "metadata": {},
   "outputs": [],
   "source": [
    "#add trip type\n",
    "df_train_f1 = pd.concat([df_train[['VisitNumber', 'TripType']].drop_duplicates().set_index('VisitNumber'), df_train_f1], axis=1)\n",
    "df_val_f1 = pd.concat([df_val[['VisitNumber', 'TripType']].drop_duplicates().set_index('VisitNumber'), df_val_f1], axis=1)\n",
    "df_test_f1 = pd.concat([df_test[['VisitNumber', 'TripType']].drop_duplicates().set_index('VisitNumber'), df_test_f1], axis=1)"
   ]
  },
  {
   "cell_type": "code",
   "execution_count": 120,
   "metadata": {},
   "outputs": [
    {
     "name": "stdout",
     "output_type": "stream",
     "text": [
      "(76539, 69)\n",
      "(9567, 69)\n",
      "(9568, 69)\n"
     ]
    }
   ],
   "source": [
    "print(df_train_f1.shape)\n",
    "print(df_val_f1.shape)\n",
    "print(df_test_f1.shape)"
   ]
  },
  {
   "cell_type": "code",
   "execution_count": 121,
   "metadata": {},
   "outputs": [
    {
     "name": "stdout",
     "output_type": "stream",
     "text": [
      "Train Acc = 0.6658435568794994\n",
      "Val   Acc = 0.664367095223163\n",
      "Train loss = 1.1757630895926823\n",
      "Val   loss = 1.2327885366449\n"
     ]
    }
   ],
   "source": [
    "#this might be slow due to max_iter\n",
    "#model = LogisticRegression() #use if too slow\n",
    "model = LogisticRegression(multi_class='multinomial', solver='lbfgs', max_iter=100, n_jobs=10)\n",
    "#model = LogisticRegression(multi_class='multinomial', solver='saga', max_iter=1000, n_jobs=10)\n",
    "\n",
    "model.fit(df_train_f1.drop('TripType', axis=1), df_train_f1['TripType'])\n",
    "\n",
    "train_class_pred = model.predict(df_train_f1.drop('TripType', axis=1))\n",
    "val_class_pred = model.predict(df_val_f1.drop('TripType', axis=1))\n",
    "\n",
    "train_acc = np.sum(train_class_pred==df_train_f1['TripType'].tolist()) / df_train_f1.shape[0]\n",
    "val_acc = np.sum(val_class_pred==df_val_f1['TripType'].tolist()) / df_val_f1.shape[0]\n",
    "\n",
    "print(f\"Train Acc = {train_acc}\")\n",
    "print(f\"Val   Acc = {val_acc}\")\n",
    "\n",
    "train_log_loss = log_loss(df_train_f1['TripType'], model.predict_proba(df_train_f1.drop('TripType', axis=1)), eps=1e-15)\n",
    "val_log_loss = log_loss(df_val_f1['TripType'], model.predict_proba(df_val_f1.drop('TripType', axis=1)), eps=1e-15, labels=model.classes_)\n",
    "\n",
    "print(f'Train loss = {train_log_loss}')\n",
    "print(f'Val   loss = {val_log_loss}')"
   ]
  },
  {
   "cell_type": "markdown",
   "metadata": {},
   "source": [
    "**Note**: Overall, our results didn't change much. We went through this exercise to give you a sense of how real data science work proceeds. There are often unexpected changes in direction which require revisiting almost everything that was done. Let's now proceed to add the one-hot encoded weekday to this data."
   ]
  },
  {
   "cell_type": "code",
   "execution_count": 122,
   "metadata": {},
   "outputs": [],
   "source": [
    "#some cleanup\n",
    "model = None\n",
    "n_distinct = None"
   ]
  },
  {
   "cell_type": "code",
   "execution_count": 124,
   "metadata": {},
   "outputs": [],
   "source": [
    "df_train_f1 = pd.concat([df_train_f1, \n",
    "                         pd.get_dummies(df_train[['VisitNumber', 'Weekday']].drop_duplicates().set_index('VisitNumber'),\n",
    "                                        prefix='Weekday')], \n",
    "                         axis=1)"
   ]
  },
  {
   "cell_type": "code",
   "execution_count": 125,
   "metadata": {},
   "outputs": [],
   "source": [
    "df_val_f1 = pd.concat([df_val_f1, \n",
    "                       pd.get_dummies(df_val[['VisitNumber', 'Weekday']].drop_duplicates().set_index('VisitNumber'),\n",
    "                                      prefix='Weekday')], \n",
    "                       axis=1)\n",
    "df_val_f1 = df_val_f1[df_train_f1.columns] #ensure column order is the same"
   ]
  },
  {
   "cell_type": "code",
   "execution_count": 126,
   "metadata": {},
   "outputs": [],
   "source": [
    "df_test_f1 = pd.concat([df_test_f1, \n",
    "                        pd.get_dummies(df_test[['VisitNumber', 'Weekday']].drop_duplicates().set_index('VisitNumber'),\n",
    "                                       prefix='Weekday')], \n",
    "                         axis=1)\n",
    "df_test_f1 = df_test_f1[df_train_f1.columns]"
   ]
  },
  {
   "cell_type": "code",
   "execution_count": 127,
   "metadata": {},
   "outputs": [
    {
     "data": {
      "text/html": [
       "<div>\n",
       "<style scoped>\n",
       "    .dataframe tbody tr th:only-of-type {\n",
       "        vertical-align: middle;\n",
       "    }\n",
       "\n",
       "    .dataframe tbody tr th {\n",
       "        vertical-align: top;\n",
       "    }\n",
       "\n",
       "    .dataframe thead th {\n",
       "        text-align: right;\n",
       "    }\n",
       "</style>\n",
       "<table border=\"1\" class=\"dataframe\">\n",
       "  <thead>\n",
       "    <tr style=\"text-align: right;\">\n",
       "      <th></th>\n",
       "      <th>TripType</th>\n",
       "      <th>-1</th>\n",
       "      <th>1-HR PHOTO</th>\n",
       "      <th>ACCESSORIES</th>\n",
       "      <th>AUTOMOTIVE</th>\n",
       "      <th>BAKERY</th>\n",
       "      <th>BATH AND SHOWER</th>\n",
       "      <th>BEAUTY</th>\n",
       "      <th>BEDDING</th>\n",
       "      <th>BOOKS AND MAGAZINES</th>\n",
       "      <th>...</th>\n",
       "      <th>SWIMWEAR/OUTERWEAR</th>\n",
       "      <th>TOYS</th>\n",
       "      <th>WIRELESS</th>\n",
       "      <th>Weekday_Friday</th>\n",
       "      <th>Weekday_Monday</th>\n",
       "      <th>Weekday_Saturday</th>\n",
       "      <th>Weekday_Sunday</th>\n",
       "      <th>Weekday_Thursday</th>\n",
       "      <th>Weekday_Tuesday</th>\n",
       "      <th>Weekday_Wednesday</th>\n",
       "    </tr>\n",
       "    <tr>\n",
       "      <th>VisitNumber</th>\n",
       "      <th></th>\n",
       "      <th></th>\n",
       "      <th></th>\n",
       "      <th></th>\n",
       "      <th></th>\n",
       "      <th></th>\n",
       "      <th></th>\n",
       "      <th></th>\n",
       "      <th></th>\n",
       "      <th></th>\n",
       "      <th></th>\n",
       "      <th></th>\n",
       "      <th></th>\n",
       "      <th></th>\n",
       "      <th></th>\n",
       "      <th></th>\n",
       "      <th></th>\n",
       "      <th></th>\n",
       "      <th></th>\n",
       "      <th></th>\n",
       "      <th></th>\n",
       "    </tr>\n",
       "  </thead>\n",
       "  <tbody>\n",
       "    <tr>\n",
       "      <th>5</th>\n",
       "      <td>999</td>\n",
       "      <td>0.0</td>\n",
       "      <td>0.0</td>\n",
       "      <td>0.0</td>\n",
       "      <td>0.0</td>\n",
       "      <td>0.0</td>\n",
       "      <td>0.0</td>\n",
       "      <td>0.0</td>\n",
       "      <td>0.0</td>\n",
       "      <td>0.0</td>\n",
       "      <td>...</td>\n",
       "      <td>0.0</td>\n",
       "      <td>0.0</td>\n",
       "      <td>0.0</td>\n",
       "      <td>1</td>\n",
       "      <td>0</td>\n",
       "      <td>0</td>\n",
       "      <td>0</td>\n",
       "      <td>0</td>\n",
       "      <td>0</td>\n",
       "      <td>0</td>\n",
       "    </tr>\n",
       "    <tr>\n",
       "      <th>8</th>\n",
       "      <td>26</td>\n",
       "      <td>1.0</td>\n",
       "      <td>0.0</td>\n",
       "      <td>0.0</td>\n",
       "      <td>0.0</td>\n",
       "      <td>0.0</td>\n",
       "      <td>0.0</td>\n",
       "      <td>0.0</td>\n",
       "      <td>0.0</td>\n",
       "      <td>0.0</td>\n",
       "      <td>...</td>\n",
       "      <td>0.0</td>\n",
       "      <td>0.0</td>\n",
       "      <td>0.0</td>\n",
       "      <td>1</td>\n",
       "      <td>0</td>\n",
       "      <td>0</td>\n",
       "      <td>0</td>\n",
       "      <td>0</td>\n",
       "      <td>0</td>\n",
       "      <td>0</td>\n",
       "    </tr>\n",
       "    <tr>\n",
       "      <th>9</th>\n",
       "      <td>8</td>\n",
       "      <td>0.0</td>\n",
       "      <td>0.0</td>\n",
       "      <td>0.0</td>\n",
       "      <td>0.0</td>\n",
       "      <td>0.0</td>\n",
       "      <td>0.0</td>\n",
       "      <td>0.0</td>\n",
       "      <td>0.0</td>\n",
       "      <td>0.0</td>\n",
       "      <td>...</td>\n",
       "      <td>0.0</td>\n",
       "      <td>0.0</td>\n",
       "      <td>0.0</td>\n",
       "      <td>1</td>\n",
       "      <td>0</td>\n",
       "      <td>0</td>\n",
       "      <td>0</td>\n",
       "      <td>0</td>\n",
       "      <td>0</td>\n",
       "      <td>0</td>\n",
       "    </tr>\n",
       "    <tr>\n",
       "      <th>10</th>\n",
       "      <td>8</td>\n",
       "      <td>0.0</td>\n",
       "      <td>0.0</td>\n",
       "      <td>0.0</td>\n",
       "      <td>0.0</td>\n",
       "      <td>0.0</td>\n",
       "      <td>0.0</td>\n",
       "      <td>0.0</td>\n",
       "      <td>0.0</td>\n",
       "      <td>0.0</td>\n",
       "      <td>...</td>\n",
       "      <td>0.0</td>\n",
       "      <td>0.0</td>\n",
       "      <td>0.0</td>\n",
       "      <td>1</td>\n",
       "      <td>0</td>\n",
       "      <td>0</td>\n",
       "      <td>0</td>\n",
       "      <td>0</td>\n",
       "      <td>0</td>\n",
       "      <td>0</td>\n",
       "    </tr>\n",
       "    <tr>\n",
       "      <th>11</th>\n",
       "      <td>35</td>\n",
       "      <td>0.0</td>\n",
       "      <td>0.0</td>\n",
       "      <td>0.0</td>\n",
       "      <td>0.0</td>\n",
       "      <td>0.0</td>\n",
       "      <td>0.0</td>\n",
       "      <td>0.0</td>\n",
       "      <td>0.0</td>\n",
       "      <td>0.0</td>\n",
       "      <td>...</td>\n",
       "      <td>0.0</td>\n",
       "      <td>0.0</td>\n",
       "      <td>0.0</td>\n",
       "      <td>1</td>\n",
       "      <td>0</td>\n",
       "      <td>0</td>\n",
       "      <td>0</td>\n",
       "      <td>0</td>\n",
       "      <td>0</td>\n",
       "      <td>0</td>\n",
       "    </tr>\n",
       "  </tbody>\n",
       "</table>\n",
       "<p>5 rows × 76 columns</p>\n",
       "</div>"
      ],
      "text/plain": [
       "             TripType   -1  1-HR PHOTO  ACCESSORIES  AUTOMOTIVE  BAKERY  \\\n",
       "VisitNumber                                                               \n",
       "5                 999  0.0         0.0          0.0         0.0     0.0   \n",
       "8                  26  1.0         0.0          0.0         0.0     0.0   \n",
       "9                   8  0.0         0.0          0.0         0.0     0.0   \n",
       "10                  8  0.0         0.0          0.0         0.0     0.0   \n",
       "11                 35  0.0         0.0          0.0         0.0     0.0   \n",
       "\n",
       "             BATH AND SHOWER  BEAUTY  BEDDING  BOOKS AND MAGAZINES  ...  \\\n",
       "VisitNumber                                                         ...   \n",
       "5                        0.0     0.0      0.0                  0.0  ...   \n",
       "8                        0.0     0.0      0.0                  0.0  ...   \n",
       "9                        0.0     0.0      0.0                  0.0  ...   \n",
       "10                       0.0     0.0      0.0                  0.0  ...   \n",
       "11                       0.0     0.0      0.0                  0.0  ...   \n",
       "\n",
       "             SWIMWEAR/OUTERWEAR  TOYS  WIRELESS  Weekday_Friday  \\\n",
       "VisitNumber                                                       \n",
       "5                           0.0   0.0       0.0               1   \n",
       "8                           0.0   0.0       0.0               1   \n",
       "9                           0.0   0.0       0.0               1   \n",
       "10                          0.0   0.0       0.0               1   \n",
       "11                          0.0   0.0       0.0               1   \n",
       "\n",
       "             Weekday_Monday  Weekday_Saturday  Weekday_Sunday  \\\n",
       "VisitNumber                                                     \n",
       "5                         0                 0               0   \n",
       "8                         0                 0               0   \n",
       "9                         0                 0               0   \n",
       "10                        0                 0               0   \n",
       "11                        0                 0               0   \n",
       "\n",
       "             Weekday_Thursday  Weekday_Tuesday  Weekday_Wednesday  \n",
       "VisitNumber                                                        \n",
       "5                           0                0                  0  \n",
       "8                           0                0                  0  \n",
       "9                           0                0                  0  \n",
       "10                          0                0                  0  \n",
       "11                          0                0                  0  \n",
       "\n",
       "[5 rows x 76 columns]"
      ]
     },
     "execution_count": 127,
     "metadata": {},
     "output_type": "execute_result"
    }
   ],
   "source": [
    "df_train_f1.head()"
   ]
  },
  {
   "cell_type": "code",
   "execution_count": 128,
   "metadata": {},
   "outputs": [
    {
     "name": "stdout",
     "output_type": "stream",
     "text": [
      "(76539, 76)\n",
      "(9567, 76)\n",
      "(9568, 76)\n"
     ]
    }
   ],
   "source": [
    "print(df_train_f1.shape)\n",
    "print(df_val_f1.shape)\n",
    "print(df_test_f1.shape)"
   ]
  },
  {
   "cell_type": "code",
   "execution_count": 129,
   "metadata": {},
   "outputs": [
    {
     "data": {
      "text/plain": [
       "76539"
      ]
     },
     "execution_count": 129,
     "metadata": {},
     "output_type": "execute_result"
    }
   ],
   "source": [
    "len(df_train['VisitNumber'].unique())"
   ]
  },
  {
   "cell_type": "markdown",
   "metadata": {},
   "source": [
    "At this stage, you might be running out of memory. To make everything run, I am going to pick much smaller subsets of these datasets."
   ]
  },
  {
   "cell_type": "code",
   "execution_count": 130,
   "metadata": {},
   "outputs": [],
   "source": [
    "df_train_f1 = df_train_f1.sample(frac=0.20)\n",
    "df_val_f1 = df_val_f1.sample(frac=0.20)\n",
    "df_test_f1 = df_test_f1.sample(frac=0.20)"
   ]
  },
  {
   "cell_type": "code",
   "execution_count": 131,
   "metadata": {},
   "outputs": [
    {
     "data": {
      "text/plain": [
       "(15308, 76)"
      ]
     },
     "execution_count": 131,
     "metadata": {},
     "output_type": "execute_result"
    }
   ],
   "source": [
    "df_train_f1.shape"
   ]
  },
  {
   "cell_type": "code",
   "execution_count": 132,
   "metadata": {},
   "outputs": [],
   "source": [
    "df_joined_train = None\n",
    "df_joined_val = None\n",
    "df_joined_test = None"
   ]
  },
  {
   "cell_type": "markdown",
   "metadata": {},
   "source": [
    "**Question**: Train a logistic regression model on this data. How does it do?\n",
    "\n",
    "**Development Note**\n",
    "\n",
    "Whenever you find yourself repeating the same code in multiple cells, it's a very good hint that you should write a generic function for it. In our case, it would be a function that takes in the train and val dataframes, a model instance, trains it and prints out the relevant metrics. The return value would be your trained model.\n",
    "\n",
    "We'll resist this urge here but you shouldn't.\n",
    "\n",
    "While this style of prototyping in a notebook can be very useful, it can also get chaotic and hard to maintain after some time. In our opinion, the frictionless way is to work with data science projects is to prototype small pieces in a notebook and move them to stand-alone python modules with generic functions like the one for training mentioned above."
   ]
  },
  {
   "cell_type": "code",
   "execution_count": 133,
   "metadata": {},
   "outputs": [
    {
     "name": "stdout",
     "output_type": "stream",
     "text": [
      "Train Acc = 0.677488894695584\n",
      "Val   Acc = 0.6299006795608991\n",
      "Train loss = 1.1178941772006676\n",
      "Val   loss = 1.3392816835132895\n"
     ]
    }
   ],
   "source": [
    "#this might be slow due to max_iter\n",
    "model = LogisticRegression(multi_class='multinomial', solver='lbfgs', max_iter=100, n_jobs=10)\n",
    "model.fit(df_train_f1.drop('TripType', axis=1), df_train_f1['TripType'])\n",
    "\n",
    "train_class_pred = model.predict(df_train_f1.drop('TripType', axis=1))\n",
    "val_class_pred = model.predict(df_val_f1.drop('TripType', axis=1))\n",
    "\n",
    "train_acc = np.sum(train_class_pred==df_train_f1['TripType'].tolist()) / df_train_f1.shape[0]\n",
    "val_acc = np.sum(val_class_pred==df_val_f1['TripType'].tolist()) / df_val_f1.shape[0]\n",
    "\n",
    "print(f\"Train Acc = {train_acc}\")\n",
    "print(f\"Val   Acc = {val_acc}\")\n",
    "\n",
    "train_log_loss = log_loss(df_train_f1['TripType'], model.predict_proba(df_train_f1.drop('TripType', axis=1)), eps=1e-15)\n",
    "val_log_loss = log_loss(df_val_f1['TripType'], model.predict_proba(df_val_f1.drop('TripType', axis=1)), eps=1e-15, labels=model.classes_)\n",
    "\n",
    "print(f'Train loss = {train_log_loss}')\n",
    "print(f'Val   loss = {val_log_loss}')"
   ]
  },
  {
   "cell_type": "markdown",
   "metadata": {},
   "source": [
    "At this stage, it looks like we are starting to overfit. One way to control this is by increasing the $l_2$ penalty, $1/C$."
   ]
  },
  {
   "cell_type": "code",
   "execution_count": 134,
   "metadata": {},
   "outputs": [
    {
     "data": {
      "text/plain": [
       "LogisticRegression(C=0.1, class_weight=None, dual=False, fit_intercept=True,\n",
       "                   intercept_scaling=1, l1_ratio=None, max_iter=1000,\n",
       "                   multi_class='multinomial', n_jobs=10, penalty='l2',\n",
       "                   random_state=None, solver='lbfgs', tol=0.0001, verbose=0,\n",
       "                   warm_start=False)"
      ]
     },
     "execution_count": 134,
     "metadata": {},
     "output_type": "execute_result"
    }
   ],
   "source": [
    "model = LogisticRegression(multi_class='multinomial', solver='lbfgs', C=0.1, max_iter=1000, n_jobs=10)\n",
    "model.fit(df_train_f1.drop('TripType', axis=1), df_train_f1['TripType'])"
   ]
  },
  {
   "cell_type": "code",
   "execution_count": 135,
   "metadata": {},
   "outputs": [
    {
     "name": "stdout",
     "output_type": "stream",
     "text": [
      "Train Acc = 0.6488110791742879\n",
      "Val   Acc = 0.6189231573444851\n",
      "Train loss = 1.2593722487935277\n",
      "Val   loss = 1.3885565929030432\n"
     ]
    }
   ],
   "source": [
    "train_class_pred = model.predict(df_train_f1.drop('TripType', axis=1))\n",
    "val_class_pred = model.predict(df_val_f1.drop('TripType', axis=1))\n",
    "\n",
    "train_acc = np.sum(train_class_pred==df_train_f1['TripType'].tolist()) / df_train_f1.shape[0]\n",
    "val_acc = np.sum(val_class_pred==df_val_f1['TripType'].tolist()) / df_val_f1.shape[0]\n",
    "\n",
    "print(f\"Train Acc = {train_acc}\")\n",
    "print(f\"Val   Acc = {val_acc}\")\n",
    "\n",
    "train_log_loss = log_loss(df_train_f1['TripType'], model.predict_proba(df_train_f1.drop('TripType', axis=1)), eps=1e-15)\n",
    "val_log_loss = log_loss(df_val_f1['TripType'], model.predict_proba(df_val_f1.drop('TripType', axis=1)), eps=1e-15, labels=model.classes_)\n",
    "\n",
    "print(f'Train loss = {train_log_loss}')\n",
    "print(f'Val   loss = {val_log_loss}')"
   ]
  },
  {
   "cell_type": "markdown",
   "metadata": {},
   "source": [
    "**Normalization**:\n",
    "\n",
    "Now for the first time, we have a problem that we didn't quite face before. Most of our columns are counts but we have seven columns (weekday one-hot encodings) that are always 0 or 1.\n",
    "\n",
    "It helps to have all the numbers on the same scale for linear models. \n",
    "\n",
    "1) It makes the optimization process much easier\n",
    "\n",
    "2) It makes it possible to compare the effects of various columns. If the columns are on similar scales, we can just compare the coefficients $w_i$ and rank them by the absolute values $|w_i|$.\n",
    "\n",
    "The usual way of making the scales the same is to do the following transformation:\n",
    "\n",
    "$$x \\rightarrow \\frac{x - \\text{mean}(x)}{\\text{std}(x)}$$\n",
    "\n",
    "where:\n",
    "\n",
    "$x$ = array of numbers (one column in our case)\n",
    "\n",
    "$\\text{mean}(x)$ = mean of the numbers\n",
    "\n",
    "$\\text{std}(x)$ = standard deviation of the numbers\n",
    "\n",
    "Strictly speaking, the scale is decided just by the standard deviation but it is helpful to subtract the mean so that the values are centered around 0. But before we go ahead, we need to discuss another topic."
   ]
  },
  {
   "cell_type": "markdown",
   "metadata": {},
   "source": [
    "**Leakage**:\n",
    "\n",
    "Leakage is a general term for information from the validation set and the test set passing into the training process. We discussed earlier that we should set aside the validation and test set and train just on our training set. But there are still subtle ways in which information can pass from the hold-out (val, test) sets into the train set.\n",
    "\n",
    "**Why is this bad?** Some information, say from the val set, leaking into your train set might improve your model's performance on the val set. So the process that we rely on to estimate how our model will do in real-life is broken - we are getting better results than we would if we actually used our model on new data.\n",
    "\n",
    "**What is an example of leakage?** In our example, we need to compute the mean and standard deviation of each column and carry out the procedure. The mean and standard deviation should be computed **just on the train set**. In other words, we should split the data and then calculate the mean and standard deviation. If, by mistake, one computes the mean and standard deviation before splitting, then one has leakage.\n",
    "\n",
    "**Is this really bad?** Not always. Machine learning algorithms make a fundamental assumption that the (statistical) properties of the train set, the val set, and any future data the model sees, are the same. If they are not, your model's performance will most likely severely degrade. If you build a model to classify apples as sellable and not sellable and suddenly you start showing pictures of strawberries, then your model will not be nearly as performant as it was before. On the other hand, if your hold-out set, your train set and your new data will essentially have the same distributions, then this leakage will have no effect.\n",
    "\n",
    "**Does this mean the val and test set are essentially non-inputs to my model?** Not quite and this is where one has to be careful. Suppose, you are predicting sentiments on pieces of text. You want to create one column for each unique word and a piece of text is featurized by the counts of each word in that piece of text. This is called bag-of-words. This will usually be a very sparse matrix (just like our case above). Now, it is possible that you'll encounter words in the val or test set that you didn't seen in the train set. You could create a special column for unknown words during training or you could look at all the words including those in val and test and create columns for them. Of course, during training, you never see some of those words and those columns will always be 0 so not really helpful during your training process but this is not technically leakage.\n",
    "\n",
    "A couple of more realistic examples:\n",
    "\n",
    "1. Suppose your data consists of time-series (numbers indexed by time - stock prices etc.). You decide to featurize them by choosing some histogram bins and counting the number of entries in your time-series in each bin. Looking at all the data to choose the bins is also not leakage. You can think of this as a continuous (as opposed to discrete) version of the word problem above. Of course, if there are bins that are only occupied by the val or test set, then that column will be completely constant (= 0) during the train set and not very helpful but usually that won't happen.\n",
    "\n",
    "2. While working with language - say sentiment analysis again, you can completely ignore the labels (positive or negative sentiment) and use all the text to build a language model. A language model is a machine learning model that predicts the next word (or character) given the previous history (these are mostly neural network models today). As long as you don't use the labels somehow, this is a completely reasonable thing to do. The language model then is used to map a piece of text to features which are used to predict the sentiment (at this stage, the labels come back in and we follow the usual practice of splitting into train, val and test).\n",
    "\n",
    "**Takeaway**: Whenever confronted with an ideological truth, it is useful to probe it to understand when exactly it is true and when it is not. Leakage is a severe problem and one should be very careful about it but being ideological about it can lead one to ignore valuable statistical power that you could gain from other sources (like the language model example above).\n",
    "\n",
    "**Next step**: We'll use sklearn's in-built scaling module to the standard scaling and then build our model."
   ]
  },
  {
   "cell_type": "code",
   "execution_count": 136,
   "metadata": {},
   "outputs": [],
   "source": [
    "from sklearn.preprocessing import StandardScaler\n",
    "\n",
    "scaler = StandardScaler(with_mean=True, with_std=True)\n",
    "\n",
    "#separate features and target\n",
    "df_train_f1_features = df_train_f1.drop('TripType', axis=1)\n",
    "df_val_f1_features = df_val_f1.drop('TripType', axis=1)\n",
    "df_test_f1_features = df_test_f1.drop('TripType', axis=1)\n",
    "\n",
    "df_train_f1_target = df_train_f1['TripType']\n",
    "df_val_f1_target = df_val_f1['TripType']\n",
    "df_test_f1_target = df_test_f1['TripType']\n",
    "\n",
    "df_train_f1_scaled = scaler.fit_transform(df_train_f1_features)\n",
    "df_val_f1_scaled = scaler.transform(df_val_f1_features)\n",
    "df_test_f1_scaled = scaler.transform(df_test_f1_features)\n",
    "\n",
    "#these are not pandas dataframes so re-convent to pd.DataFrame\n",
    "df_train_f1_scaled = pd.DataFrame(df_train_f1_scaled, columns=df_train_f1_features.columns, index=df_train_f1_features.index)\n",
    "df_val_f1_scaled = pd.DataFrame(df_val_f1_scaled, columns=df_val_f1_features.columns, index=df_val_f1_features.index)\n",
    "df_test_f1_scaled = pd.DataFrame(df_test_f1_scaled, columns=df_test_f1_features.columns, index=df_test_f1_features.index)\n",
    "\n",
    "df_train_f1_scaled['TripType'] = df_train_f1_target\n",
    "df_val_f1_scaled['TripType'] = df_val_f1_target\n",
    "df_test_f1_scaled['TripType'] = df_test_f1_target"
   ]
  },
  {
   "cell_type": "code",
   "execution_count": 137,
   "metadata": {},
   "outputs": [
    {
     "data": {
      "text/html": [
       "<div>\n",
       "<style scoped>\n",
       "    .dataframe tbody tr th:only-of-type {\n",
       "        vertical-align: middle;\n",
       "    }\n",
       "\n",
       "    .dataframe tbody tr th {\n",
       "        vertical-align: top;\n",
       "    }\n",
       "\n",
       "    .dataframe thead th {\n",
       "        text-align: right;\n",
       "    }\n",
       "</style>\n",
       "<table border=\"1\" class=\"dataframe\">\n",
       "  <thead>\n",
       "    <tr style=\"text-align: right;\">\n",
       "      <th></th>\n",
       "      <th>-1</th>\n",
       "      <th>1-HR PHOTO</th>\n",
       "      <th>ACCESSORIES</th>\n",
       "      <th>AUTOMOTIVE</th>\n",
       "      <th>BAKERY</th>\n",
       "      <th>BATH AND SHOWER</th>\n",
       "      <th>BEAUTY</th>\n",
       "      <th>BEDDING</th>\n",
       "      <th>BOOKS AND MAGAZINES</th>\n",
       "      <th>BOYS WEAR</th>\n",
       "      <th>...</th>\n",
       "      <th>TOYS</th>\n",
       "      <th>WIRELESS</th>\n",
       "      <th>Weekday_Friday</th>\n",
       "      <th>Weekday_Monday</th>\n",
       "      <th>Weekday_Saturday</th>\n",
       "      <th>Weekday_Sunday</th>\n",
       "      <th>Weekday_Thursday</th>\n",
       "      <th>Weekday_Tuesday</th>\n",
       "      <th>Weekday_Wednesday</th>\n",
       "      <th>TripType</th>\n",
       "    </tr>\n",
       "    <tr>\n",
       "      <th>VisitNumber</th>\n",
       "      <th></th>\n",
       "      <th></th>\n",
       "      <th></th>\n",
       "      <th></th>\n",
       "      <th></th>\n",
       "      <th></th>\n",
       "      <th></th>\n",
       "      <th></th>\n",
       "      <th></th>\n",
       "      <th></th>\n",
       "      <th></th>\n",
       "      <th></th>\n",
       "      <th></th>\n",
       "      <th></th>\n",
       "      <th></th>\n",
       "      <th></th>\n",
       "      <th></th>\n",
       "      <th></th>\n",
       "      <th></th>\n",
       "      <th></th>\n",
       "      <th></th>\n",
       "    </tr>\n",
       "  </thead>\n",
       "  <tbody>\n",
       "    <tr>\n",
       "      <th>113209</th>\n",
       "      <td>-0.069305</td>\n",
       "      <td>-0.035445</td>\n",
       "      <td>-0.082904</td>\n",
       "      <td>-0.122625</td>\n",
       "      <td>-0.216191</td>\n",
       "      <td>-0.100362</td>\n",
       "      <td>-0.21037</td>\n",
       "      <td>-0.087352</td>\n",
       "      <td>-0.069066</td>\n",
       "      <td>-0.086672</td>\n",
       "      <td>...</td>\n",
       "      <td>-0.137631</td>\n",
       "      <td>-0.094354</td>\n",
       "      <td>-0.436618</td>\n",
       "      <td>-0.387109</td>\n",
       "      <td>-0.463699</td>\n",
       "      <td>-0.463283</td>\n",
       "      <td>-0.364120</td>\n",
       "      <td>2.683142</td>\n",
       "      <td>-0.363775</td>\n",
       "      <td>8</td>\n",
       "    </tr>\n",
       "    <tr>\n",
       "      <th>36101</th>\n",
       "      <td>-0.069305</td>\n",
       "      <td>-0.035445</td>\n",
       "      <td>-0.082904</td>\n",
       "      <td>-0.122625</td>\n",
       "      <td>-0.216191</td>\n",
       "      <td>-0.100362</td>\n",
       "      <td>-0.21037</td>\n",
       "      <td>-0.087352</td>\n",
       "      <td>-0.069066</td>\n",
       "      <td>-0.086672</td>\n",
       "      <td>...</td>\n",
       "      <td>-0.137631</td>\n",
       "      <td>-0.094354</td>\n",
       "      <td>-0.436618</td>\n",
       "      <td>-0.387109</td>\n",
       "      <td>-0.463699</td>\n",
       "      <td>-0.463283</td>\n",
       "      <td>-0.364120</td>\n",
       "      <td>-0.372697</td>\n",
       "      <td>2.748952</td>\n",
       "      <td>37</td>\n",
       "    </tr>\n",
       "    <tr>\n",
       "      <th>116469</th>\n",
       "      <td>-0.069305</td>\n",
       "      <td>-0.035445</td>\n",
       "      <td>-0.082904</td>\n",
       "      <td>-0.122625</td>\n",
       "      <td>-0.216191</td>\n",
       "      <td>-0.100362</td>\n",
       "      <td>-0.21037</td>\n",
       "      <td>-0.087352</td>\n",
       "      <td>-0.069066</td>\n",
       "      <td>-0.086672</td>\n",
       "      <td>...</td>\n",
       "      <td>-0.137631</td>\n",
       "      <td>-0.094354</td>\n",
       "      <td>-0.436618</td>\n",
       "      <td>-0.387109</td>\n",
       "      <td>-0.463699</td>\n",
       "      <td>-0.463283</td>\n",
       "      <td>-0.364120</td>\n",
       "      <td>2.683142</td>\n",
       "      <td>-0.363775</td>\n",
       "      <td>25</td>\n",
       "    </tr>\n",
       "    <tr>\n",
       "      <th>104766</th>\n",
       "      <td>-0.069305</td>\n",
       "      <td>-0.035445</td>\n",
       "      <td>-0.082904</td>\n",
       "      <td>-0.122625</td>\n",
       "      <td>-0.216191</td>\n",
       "      <td>-0.100362</td>\n",
       "      <td>-0.21037</td>\n",
       "      <td>-0.087352</td>\n",
       "      <td>-0.069066</td>\n",
       "      <td>-0.086672</td>\n",
       "      <td>...</td>\n",
       "      <td>-0.137631</td>\n",
       "      <td>-0.094354</td>\n",
       "      <td>-0.436618</td>\n",
       "      <td>-0.387109</td>\n",
       "      <td>-0.463699</td>\n",
       "      <td>2.158506</td>\n",
       "      <td>-0.364120</td>\n",
       "      <td>-0.372697</td>\n",
       "      <td>-0.363775</td>\n",
       "      <td>9</td>\n",
       "    </tr>\n",
       "    <tr>\n",
       "      <th>128647</th>\n",
       "      <td>-0.069305</td>\n",
       "      <td>-0.035445</td>\n",
       "      <td>-0.082904</td>\n",
       "      <td>-0.122625</td>\n",
       "      <td>2.289070</td>\n",
       "      <td>-0.100362</td>\n",
       "      <td>-0.21037</td>\n",
       "      <td>-0.087352</td>\n",
       "      <td>-0.069066</td>\n",
       "      <td>-0.086672</td>\n",
       "      <td>...</td>\n",
       "      <td>-0.137631</td>\n",
       "      <td>-0.094354</td>\n",
       "      <td>-0.436618</td>\n",
       "      <td>-0.387109</td>\n",
       "      <td>-0.463699</td>\n",
       "      <td>-0.463283</td>\n",
       "      <td>2.746345</td>\n",
       "      <td>-0.372697</td>\n",
       "      <td>-0.363775</td>\n",
       "      <td>39</td>\n",
       "    </tr>\n",
       "  </tbody>\n",
       "</table>\n",
       "<p>5 rows × 76 columns</p>\n",
       "</div>"
      ],
      "text/plain": [
       "                   -1  1-HR PHOTO  ACCESSORIES  AUTOMOTIVE    BAKERY  \\\n",
       "VisitNumber                                                            \n",
       "113209      -0.069305   -0.035445    -0.082904   -0.122625 -0.216191   \n",
       "36101       -0.069305   -0.035445    -0.082904   -0.122625 -0.216191   \n",
       "116469      -0.069305   -0.035445    -0.082904   -0.122625 -0.216191   \n",
       "104766      -0.069305   -0.035445    -0.082904   -0.122625 -0.216191   \n",
       "128647      -0.069305   -0.035445    -0.082904   -0.122625  2.289070   \n",
       "\n",
       "             BATH AND SHOWER   BEAUTY   BEDDING  BOOKS AND MAGAZINES  \\\n",
       "VisitNumber                                                            \n",
       "113209             -0.100362 -0.21037 -0.087352            -0.069066   \n",
       "36101              -0.100362 -0.21037 -0.087352            -0.069066   \n",
       "116469             -0.100362 -0.21037 -0.087352            -0.069066   \n",
       "104766             -0.100362 -0.21037 -0.087352            -0.069066   \n",
       "128647             -0.100362 -0.21037 -0.087352            -0.069066   \n",
       "\n",
       "             BOYS WEAR  ...      TOYS  WIRELESS  Weekday_Friday  \\\n",
       "VisitNumber             ...                                       \n",
       "113209       -0.086672  ... -0.137631 -0.094354       -0.436618   \n",
       "36101        -0.086672  ... -0.137631 -0.094354       -0.436618   \n",
       "116469       -0.086672  ... -0.137631 -0.094354       -0.436618   \n",
       "104766       -0.086672  ... -0.137631 -0.094354       -0.436618   \n",
       "128647       -0.086672  ... -0.137631 -0.094354       -0.436618   \n",
       "\n",
       "             Weekday_Monday  Weekday_Saturday  Weekday_Sunday  \\\n",
       "VisitNumber                                                     \n",
       "113209            -0.387109         -0.463699       -0.463283   \n",
       "36101             -0.387109         -0.463699       -0.463283   \n",
       "116469            -0.387109         -0.463699       -0.463283   \n",
       "104766            -0.387109         -0.463699        2.158506   \n",
       "128647            -0.387109         -0.463699       -0.463283   \n",
       "\n",
       "             Weekday_Thursday  Weekday_Tuesday  Weekday_Wednesday  TripType  \n",
       "VisitNumber                                                                  \n",
       "113209              -0.364120         2.683142          -0.363775         8  \n",
       "36101               -0.364120        -0.372697           2.748952        37  \n",
       "116469              -0.364120         2.683142          -0.363775        25  \n",
       "104766              -0.364120        -0.372697          -0.363775         9  \n",
       "128647               2.746345        -0.372697          -0.363775        39  \n",
       "\n",
       "[5 rows x 76 columns]"
      ]
     },
     "execution_count": 137,
     "metadata": {},
     "output_type": "execute_result"
    }
   ],
   "source": [
    "df_train_f1_scaled.head()"
   ]
  },
  {
   "cell_type": "markdown",
   "metadata": {},
   "source": [
    "**Question**: Train a model on our scaled dataframe."
   ]
  },
  {
   "cell_type": "code",
   "execution_count": 6,
   "metadata": {},
   "outputs": [],
   "source": [
    "def train_model(model, df_train, df_val):\n",
    "    #fill this\n",
    "    \n",
    "    return model"
   ]
  },
  {
   "cell_type": "code",
   "execution_count": 139,
   "metadata": {},
   "outputs": [
    {
     "name": "stdout",
     "output_type": "stream",
     "text": [
      "Train Acc = 0.6797099555787823\n",
      "Val   Acc = 0.628855201254574\n",
      "Train loss = 1.0856633017191628\n",
      "Val   loss = 1.379200048574205\n"
     ]
    }
   ],
   "source": [
    "model = LogisticRegression(multi_class='multinomial', solver='lbfgs', max_iter=100, n_jobs=10)\n",
    "\n",
    "model = train_model(model, df_train_f1_scaled, df_val_f1_scaled)"
   ]
  },
  {
   "cell_type": "markdown",
   "metadata": {},
   "source": [
    "At this stage, there are many directions we can go in. One is to inspect the statistical properties of the data in more detail. For example, we can look at the pairwise correlations between our features. Ideally, we want these to be as uncorrelated as possible. Correlated features giving misleading coefficients that are much harder to interpret. As an example, suppose we had two features: height in meters and height in centimeters. Our prediction would be:\n",
    "\n",
    "$$\\sigma(C + w_1 h_m + w_2 h_{cm})$$\n",
    "\n",
    "Now, of course we know that $h_m = 100 * h_{cm}$! We have the same information but the linear model has no idea and finds some values for $w_1, w_2$. But we have an infinite family of possibilities:\n",
    "\n",
    "$$w_{*} h_m = (w_1 + 0.01 * w_2) h_{m}$$\n",
    "\n",
    "where $w_{*}$ is the actual weight in the process that generated the data. We could choose any $w_1,w_2$ that lie on the straight line:\n",
    "\n",
    "$$w_1 + 0.01 * w_2 = w_{*}$$\n",
    "\n",
    "and out predictions wouldn't change. But our interpretation would definitely change. We might thing either $w_1$ is far more important or $w_2$ is far more important.\n"
   ]
  },
  {
   "cell_type": "markdown",
   "metadata": {},
   "source": [
    "**Question**: Compute the correlation matrix of the features."
   ]
  },
  {
   "cell_type": "code",
   "execution_count": 140,
   "metadata": {
    "scrolled": false
   },
   "outputs": [],
   "source": [
    "corr_matrix = #fill this"
   ]
  },
  {
   "cell_type": "code",
   "execution_count": 141,
   "metadata": {},
   "outputs": [
    {
     "data": {
      "text/plain": [
       "Text(0.5, 1.0, 'Validation Confusion Matrix')"
      ]
     },
     "execution_count": 141,
     "metadata": {},
     "output_type": "execute_result"
    },
    {
     "data": {
      "image/png": "[encoded data removed]",
      "text/plain": [
       "<Figure size 720x720 with 1 Axes>"
      ]
     },
     "metadata": {
      "needs_background": "light"
     },
     "output_type": "display_data"
    }
   ],
   "source": [
    "fig, ax = plt.subplots(figsize=(10,10))\n",
    "ax.imshow(corr_matrix);\n",
    "\n",
    "_ = ax.set_xticks(np.arange(corr_matrix.shape[0]))\n",
    "_ = ax.set_yticks(np.arange(corr_matrix.shape[1]))\n",
    "              \n",
    "_ = ax.set_xticklabels(corr_matrix.columns, rotation=90, fontsize=7)\n",
    "_ = ax.set_yticklabels(corr_matrix.index, fontsize=7)\n",
    "\n",
    "plt.xlabel('Predictions')\n",
    "plt.ylabel('Labels')\n",
    "plt.title('Validation Confusion Matrix')"
   ]
  },
  {
   "cell_type": "code",
   "execution_count": 142,
   "metadata": {},
   "outputs": [
    {
     "data": {
      "text/plain": [
       "[('BATH AND SHOWER', 1.0),\n",
       " ('BEDDING', 0.17158077977161507),\n",
       " ('COOK AND DINE', 0.12325308984160209),\n",
       " ('HOME MANAGEMENT', 0.12038272996419044),\n",
       " ('PERSONAL CARE', 0.1122758627704174),\n",
       " ('HOUSEHOLD CHEMICALS/SUPP', 0.10536518505141484),\n",
       " ('HOME DECOR', 0.06215745857718217),\n",
       " ('FURNITURE', 0.05194912754410026),\n",
       " ('MENS WEAR', 0.043537029649473286),\n",
       " ('HOUSEHOLD PAPER GOODS', 0.04110532731722823),\n",
       " ('SHOES', 0.03390259034245458),\n",
       " ('BEAUTY', 0.0336578597102724),\n",
       " ('LADIESWEAR', 0.03361233360606211),\n",
       " ('TripType', 0.033290963390224554),\n",
       " ('HARDWARE', 0.03169067182102822),\n",
       " ('IMPULSE MERCHANDISE', 0.03137792965868969),\n",
       " ('PLUS AND MATERNITY', 0.02441923608459174),\n",
       " ('PRE PACKED DELI', 0.021984104185579178),\n",
       " ('BOYS WEAR', 0.019922639865794855),\n",
       " ('GIRLS WEAR, 4-6X  AND 7-14', 0.01972878766249545),\n",
       " ('LADIES SOCKS', 0.019695705065985128),\n",
       " ('TOYS', 0.017428008825713107),\n",
       " ('CAMERAS AND SUPPLIES', 0.015937494521156642),\n",
       " ('COMM BREAD', 0.01568997620028415),\n",
       " ('SEAFOOD', 0.01520074336440177),\n",
       " ('PAINT AND ACCESSORIES', 0.014624618620539414),\n",
       " ('Weekday_Sunday', 0.014572650511125933),\n",
       " ('INFANT APPAREL', 0.014286543878733486),\n",
       " ('SLEEPWEAR/FOUNDATIONS', 0.012813412976577286),\n",
       " ('SWIMWEAR/OUTERWEAR', 0.012150506541427913),\n",
       " ('GROCERY DRY GOODS', 0.012105807857657858),\n",
       " ('PRODUCE', 0.012072988932436612),\n",
       " ('-1', 0.011259281474397245),\n",
       " ('SPORTING GOODS', 0.010847691543499228),\n",
       " ('OFFICE SUPPLIES', 0.010683398015756582),\n",
       " ('PHARMACY RX', 0.009621745978247744),\n",
       " ('PHARMACY OTC', 0.009619941968540248),\n",
       " ('JEWELRY AND SUNGLASSES', 0.009497429569744194),\n",
       " ('PETS AND SUPPLIES', 0.00923400789077919),\n",
       " ('INFANT CONSUMABLE HARDLINES', 0.006924089523117157),\n",
       " ('Weekday_Tuesday', 0.0068311993691023525),\n",
       " ('FINANCIAL SERVICES', 0.006409568530671202),\n",
       " ('HORTICULTURE AND ACCESS', 0.006299573280826342),\n",
       " ('WIRELESS', 0.005842324171841135),\n",
       " ('OPTICAL - FRAMES', 0.005738445144719094),\n",
       " ('Weekday_Friday', 0.0054532471959183966),\n",
       " ('Weekday_Saturday', 0.005074224583056437),\n",
       " ('MEAT - FRESH & FROZEN', 0.004932097860760679),\n",
       " ('BAKERY', 0.004856828746682593),\n",
       " ('ACCESSORIES', 0.004618306314991406),\n",
       " ('DAIRY', 0.004196846806317072),\n",
       " ('Weekday_Monday', 0.004024982148293858),\n",
       " ('LIQUOR,WINE,BEER', 0.0037926661445178388),\n",
       " ('1-HR PHOTO', 0.0035573344314381587),\n",
       " ('Weekday_Thursday', 0.0034788485419332176),\n",
       " ('PLAYERS AND ELECTRONICS', 0.003350263421757219),\n",
       " ('LAWN AND GARDEN', 0.003304580492261549),\n",
       " ('ELECTRONICS', 0.003140261464869193),\n",
       " ('OPTICAL - LENSES', 0.0027691659811790526),\n",
       " ('LARGE HOUSEHOLD GOODS', 0.0026913080953824687),\n",
       " ('CANDY, TOBACCO, COOKIES', 0.0026757905841268675),\n",
       " ('DSD GROCERY', 0.0025435145041935413),\n",
       " ('Weekday_Wednesday', 0.00244694579791099),\n",
       " ('OTHER DEPARTMENTS', 0.002146640510571511),\n",
       " ('BOOKS AND MAGAZINES', 0.002041703278596828),\n",
       " ('FABRICS AND CRAFTS', 0.0016436778764003764),\n",
       " ('SEASONAL', 0.0016225486434336544),\n",
       " ('MEDIA AND GAMING', 0.0015546858224639965),\n",
       " ('CONCEPT STORES', 0.0015331428905410263),\n",
       " ('SHEER HOSIERY', 0.0009691844062436596),\n",
       " ('CELEBRATION', 0.0007892714773123234),\n",
       " ('SERVICE DELI', 0.0007627696951752144),\n",
       " ('AUTOMOTIVE', 0.0004951330997655452),\n",
       " ('BRAS & SHAPEWEAR', 0.00047269269614104637),\n",
       " ('MENSWEAR', 0.0002707711821053065),\n",
       " ('FROZEN FOODS', 5.828821459680713e-05)]"
      ]
     },
     "execution_count": 142,
     "metadata": {},
     "output_type": "execute_result"
    }
   ],
   "source": [
    "import operator\n",
    "\n",
    "sorted(list(corr_matrix.loc['BATH AND SHOWER'].abs().items()), key=operator.itemgetter(1), reverse=True)"
   ]
  },
  {
   "cell_type": "markdown",
   "metadata": {},
   "source": [
    "We didn't discuss this in class but one technique for \"disentangling\" correlated features is called principal component analysis (PCA). Essentially, we find linear combinations of features such that they are uncorrelated. Mathematically, we compute the covariance matrix of the features and diagonalize it (find eigenvectors and eigenvalues). The eigenvectors tell us the weights of the linear combinations and the eigenvalues tell us the variance of each combination.\n",
    "\n",
    "Don't worry about the details here except that before you do PCA, you should zero-mean the data (which we did for the scaled dataframes)."
   ]
  },
  {
   "cell_type": "code",
   "execution_count": 143,
   "metadata": {},
   "outputs": [],
   "source": [
    "from sklearn.decomposition import PCA"
   ]
  },
  {
   "cell_type": "code",
   "execution_count": 144,
   "metadata": {},
   "outputs": [
    {
     "data": {
      "text/plain": [
       "PCA(copy=True, iterated_power='auto', n_components=None, random_state=None,\n",
       "    svd_solver='auto', tol=0.0, whiten=False)"
      ]
     },
     "execution_count": 144,
     "metadata": {},
     "output_type": "execute_result"
    }
   ],
   "source": [
    "pca = PCA()\n",
    "pca.fit(df_train_f1_scaled.drop('TripType', axis=1))"
   ]
  },
  {
   "cell_type": "code",
   "execution_count": 145,
   "metadata": {},
   "outputs": [
    {
     "data": {
      "text/plain": [
       "[<matplotlib.lines.Line2D at 0x7fbe036326d0>]"
      ]
     },
     "execution_count": 145,
     "metadata": {},
     "output_type": "execute_result"
    },
    {
     "data": {
      "image/png": "[encoded data removed]",
      "text/plain": [
       "<Figure size 432x288 with 1 Axes>"
      ]
     },
     "metadata": {
      "needs_background": "light"
     },
     "output_type": "display_data"
    }
   ],
   "source": [
    "plt.plot(np.cumsum(pca.explained_variance_ratio_))"
   ]
  },
  {
   "cell_type": "code",
   "execution_count": 146,
   "metadata": {},
   "outputs": [
    {
     "data": {
      "text/plain": [
       "0.04994186404392267"
      ]
     },
     "execution_count": 146,
     "metadata": {},
     "output_type": "execute_result"
    }
   ],
   "source": [
    "#the first component explains 0.05 = 5% of the variance\n",
    "pca.explained_variance_ratio_[0]"
   ]
  },
  {
   "cell_type": "code",
   "execution_count": 147,
   "metadata": {},
   "outputs": [
    {
     "data": {
      "text/plain": [
       "[('-1', 0.038001414228164256),\n",
       " ('1-HR PHOTO', -0.013113376682534428),\n",
       " ('ACCESSORIES', 0.0031910113310085197),\n",
       " ('AUTOMOTIVE', 0.0022871994012924057),\n",
       " ('BAKERY', 0.12485423518278116),\n",
       " ('BATH AND SHOWER', 0.03694193834696028),\n",
       " ('BEAUTY', 0.06354253588829771),\n",
       " ('BEDDING', 0.026290618250197812),\n",
       " ('BOOKS AND MAGAZINES', 0.018268442202883723),\n",
       " ('BOYS WEAR', 0.002319199486128955),\n",
       " ('BRAS & SHAPEWEAR', 0.029598309098793088),\n",
       " ('CAMERAS AND SUPPLIES', -0.008186941952591623),\n",
       " ('CANDY, TOBACCO, COOKIES', 0.07938765025127163),\n",
       " ('CELEBRATION', 0.010178538734073766),\n",
       " ('COMM BREAD', 0.3086452903650086),\n",
       " ('CONCEPT STORES', -0.006357266546883234),\n",
       " ('COOK AND DINE', 0.07144331606412258),\n",
       " ('DAIRY', 0.35821956031774543),\n",
       " ('DSD GROCERY', 0.30057325157149845),\n",
       " ('ELECTRONICS', -0.002223726773853805),\n",
       " ('FABRICS AND CRAFTS', 0.012185126879096763),\n",
       " ('FINANCIAL SERVICES', -0.03323020605618879),\n",
       " ('FROZEN FOODS', 0.2547469794453089),\n",
       " ('FURNITURE', 5.872818268712109e-05),\n",
       " ('GIRLS WEAR, 4-6X  AND 7-14', 0.028817952460239563),\n",
       " ('GROCERY DRY GOODS', 0.38197846963326565),\n",
       " ('HARDWARE', 0.019011719113163857),\n",
       " ('HOME DECOR', 0.029062210047141167),\n",
       " ('HOME MANAGEMENT', 0.035530087978242),\n",
       " ('HORTICULTURE AND ACCESS', 0.007593787104778447),\n",
       " ('HOUSEHOLD CHEMICALS/SUPP', 0.1941695242251775),\n",
       " ('HOUSEHOLD PAPER GOODS', 0.22671928539831337),\n",
       " ('IMPULSE MERCHANDISE', 0.09581273968476672),\n",
       " ('INFANT APPAREL', 0.022387731031066862),\n",
       " ('INFANT CONSUMABLE HARDLINES', 0.04344634239034845),\n",
       " ('JEWELRY AND SUNGLASSES', -0.00569534743586933),\n",
       " ('LADIES SOCKS', 0.011926414779008614),\n",
       " ('LADIESWEAR', 0.023522845979295593),\n",
       " ('LARGE HOUSEHOLD GOODS', -0.010132830764659446),\n",
       " ('LAWN AND GARDEN', 0.025675835845473623),\n",
       " ('LIQUOR,WINE,BEER', 0.0885807563423356),\n",
       " ('MEAT - FRESH & FROZEN', 0.2823880978769891),\n",
       " ('MEDIA AND GAMING', 0.015885257119398068),\n",
       " ('MENS WEAR', -0.009211607241688933),\n",
       " ('MENSWEAR', 0.003995524735404065),\n",
       " ('OFFICE SUPPLIES', 0.014878876388408473),\n",
       " ('OPTICAL - FRAMES', -0.012751638524800116),\n",
       " ('OPTICAL - LENSES', -0.013246317969805924),\n",
       " ('OTHER DEPARTMENTS', -0.00544265034048193),\n",
       " ('PAINT AND ACCESSORIES', 0.009129140746921975),\n",
       " ('PERSONAL CARE', 0.14562009099199277),\n",
       " ('PETS AND SUPPLIES', 0.04158631416858534),\n",
       " ('PHARMACY OTC', 0.09077041572097597),\n",
       " ('PHARMACY RX', -0.0410000264598593),\n",
       " ('PLAYERS AND ELECTRONICS', -0.0009216623053184948),\n",
       " ('PLUS AND MATERNITY', 0.000851890648726984),\n",
       " ('PRE PACKED DELI', 0.2669693812655552),\n",
       " ('PRODUCE', 0.3121987675164071),\n",
       " ('SEAFOOD', 0.16821830949568786),\n",
       " ('SEASONAL', -0.004545906004458836),\n",
       " ('SERVICE DELI', 0.08089157716107423),\n",
       " ('SHEER HOSIERY', -0.0003893984834510715),\n",
       " ('SHOES', 0.03255494625391093),\n",
       " ('SLEEPWEAR/FOUNDATIONS', 0.03263355279151441),\n",
       " ('SPORTING GOODS', 0.0037951588447443824),\n",
       " ('SWIMWEAR/OUTERWEAR', 0.011380596272406354),\n",
       " ('TOYS', 0.02251314709731913),\n",
       " ('WIRELESS', -0.026494707213288064),\n",
       " ('Weekday_Friday', -0.021990369326452788),\n",
       " ('Weekday_Monday', 0.014694146304343148),\n",
       " ('Weekday_Saturday', 0.012933019889841217),\n",
       " ('Weekday_Sunday', 0.04306552136463811),\n",
       " ('Weekday_Thursday', -0.020586659635051196),\n",
       " ('Weekday_Tuesday', -0.01628847152385719),\n",
       " ('Weekday_Wednesday', -0.019597108139006482)]"
      ]
     },
     "execution_count": 147,
     "metadata": {},
     "output_type": "execute_result"
    }
   ],
   "source": [
    "list(zip(df_train_f1_scaled.drop('TripType', axis=1).columns, pca.components_[0]))"
   ]
  },
  {
   "cell_type": "markdown",
   "metadata": {},
   "source": [
    "Let's try transforming the data to PCA components and training a new model."
   ]
  },
  {
   "cell_type": "code",
   "execution_count": 148,
   "metadata": {},
   "outputs": [],
   "source": [
    "df_train_pca = pd.DataFrame(pca.transform(df_train_f1_scaled.drop('TripType', axis=1)), \n",
    "                            columns = df_train_f1_features.columns,\n",
    "                            index = df_train_f1_features.index)\n",
    "df_train_pca['TripType'] = df_train_f1_scaled['TripType']\n",
    "\n",
    "df_val_pca = pd.DataFrame(pca.transform(df_val_f1_scaled.drop('TripType', axis=1)), \n",
    "                          columns = df_val_f1_features.columns,\n",
    "                          index = df_val_f1_features.index)\n",
    "df_val_pca['TripType'] = df_val_f1_scaled['TripType']\n",
    "\n",
    "df_test_pca = pd.DataFrame(pca.transform(df_test_f1_scaled.drop('TripType', axis=1)), \n",
    "                           columns = df_test_f1_features.columns,\n",
    "                           index = df_test_f1_features.index)\n",
    "df_test_pca['TripType'] = df_test_f1_scaled['TripType']"
   ]
  },
  {
   "cell_type": "code",
   "execution_count": 149,
   "metadata": {},
   "outputs": [
    {
     "name": "stdout",
     "output_type": "stream",
     "text": [
      "Train Acc = 0.6797099555787823\n",
      "Val   Acc = 0.628855201254574\n",
      "Train loss = 1.085663301704708\n",
      "Val   loss = 1.37920004599472\n"
     ]
    }
   ],
   "source": [
    "model = LogisticRegression(multi_class='multinomial', solver='lbfgs', max_iter=100, n_jobs=10)\n",
    "\n",
    "model = train_model(model, df_train_pca, df_val_pca)"
   ]
  },
  {
   "cell_type": "markdown",
   "metadata": {},
   "source": [
    "### Conclusion:\n",
    "\n",
    "At this stage, we won't go deeper into linear regression. The main focus at this stage should be on feature engineering. What if you used Upc or Finelinenumber? What if you combined similar departments into one category? What if, instead of one-hot encoding, you had a scheme for replacing each day -> some number? What could the number be (see target encoding)? \n",
    "\n",
    "Instead, as a last demonstration, let's take a look the total number of items bought in each trip."
   ]
  },
  {
   "cell_type": "code",
   "execution_count": 168,
   "metadata": {},
   "outputs": [],
   "source": [
    "total_train_counts = df_train.groupby('VisitNumber').agg({'ScanCount': np.sum})['ScanCount']"
   ]
  },
  {
   "cell_type": "code",
   "execution_count": 169,
   "metadata": {},
   "outputs": [
    {
     "data": {
      "text/plain": [
       "VisitNumber\n",
       "5         -1\n",
       "8         28\n",
       "9          3\n",
       "10         3\n",
       "11         4\n",
       "          ..\n",
       "191343     9\n",
       "191344     5\n",
       "191345    17\n",
       "191346    17\n",
       "191347     2\n",
       "Name: ScanCount, Length: 76539, dtype: int64"
      ]
     },
     "execution_count": 169,
     "metadata": {},
     "output_type": "execute_result"
    }
   ],
   "source": [
    "total_train_counts"
   ]
  },
  {
   "cell_type": "code",
   "execution_count": 170,
   "metadata": {},
   "outputs": [
    {
     "name": "stdout",
     "output_type": "stream",
     "text": [
      "-52\n"
     ]
    }
   ],
   "source": [
    "print(total_train_counts.min())"
   ]
  },
  {
   "cell_type": "markdown",
   "metadata": {},
   "source": [
    "That doesn't look right. Is there a visit with 52 returns?!"
   ]
  },
  {
   "cell_type": "code",
   "execution_count": 171,
   "metadata": {},
   "outputs": [
    {
     "data": {
      "text/plain": [
       "VisitNumber\n",
       "27471   -52\n",
       "Name: ScanCount, dtype: int64"
      ]
     },
     "execution_count": 171,
     "metadata": {},
     "output_type": "execute_result"
    }
   ],
   "source": [
    "total_train_counts[total_train_counts==total_train_counts.min()]"
   ]
  },
  {
   "cell_type": "code",
   "execution_count": 172,
   "metadata": {},
   "outputs": [
    {
     "data": {
      "text/html": [
       "<div>\n",
       "<style scoped>\n",
       "    .dataframe tbody tr th:only-of-type {\n",
       "        vertical-align: middle;\n",
       "    }\n",
       "\n",
       "    .dataframe tbody tr th {\n",
       "        vertical-align: top;\n",
       "    }\n",
       "\n",
       "    .dataframe thead th {\n",
       "        text-align: right;\n",
       "    }\n",
       "</style>\n",
       "<table border=\"1\" class=\"dataframe\">\n",
       "  <thead>\n",
       "    <tr style=\"text-align: right;\">\n",
       "      <th></th>\n",
       "      <th>TripType</th>\n",
       "      <th>VisitNumber</th>\n",
       "      <th>Weekday</th>\n",
       "      <th>Upc</th>\n",
       "      <th>ScanCount</th>\n",
       "      <th>DepartmentDescription</th>\n",
       "      <th>FinelineNumber</th>\n",
       "    </tr>\n",
       "  </thead>\n",
       "  <tbody>\n",
       "    <tr>\n",
       "      <th>95346</th>\n",
       "      <td>999</td>\n",
       "      <td>27471</td>\n",
       "      <td>Tuesday</td>\n",
       "      <td>7.128786e+09</td>\n",
       "      <td>-1</td>\n",
       "      <td>COOK AND DINE</td>\n",
       "      <td>378.0</td>\n",
       "    </tr>\n",
       "    <tr>\n",
       "      <th>95347</th>\n",
       "      <td>999</td>\n",
       "      <td>27471</td>\n",
       "      <td>Tuesday</td>\n",
       "      <td>7.644091e+09</td>\n",
       "      <td>-1</td>\n",
       "      <td>COOK AND DINE</td>\n",
       "      <td>3609.0</td>\n",
       "    </tr>\n",
       "    <tr>\n",
       "      <th>95348</th>\n",
       "      <td>999</td>\n",
       "      <td>27471</td>\n",
       "      <td>Tuesday</td>\n",
       "      <td>7.128786e+09</td>\n",
       "      <td>-1</td>\n",
       "      <td>COOK AND DINE</td>\n",
       "      <td>378.0</td>\n",
       "    </tr>\n",
       "    <tr>\n",
       "      <th>95349</th>\n",
       "      <td>999</td>\n",
       "      <td>27471</td>\n",
       "      <td>Tuesday</td>\n",
       "      <td>7.128786e+09</td>\n",
       "      <td>-1</td>\n",
       "      <td>COOK AND DINE</td>\n",
       "      <td>378.0</td>\n",
       "    </tr>\n",
       "    <tr>\n",
       "      <th>95350</th>\n",
       "      <td>999</td>\n",
       "      <td>27471</td>\n",
       "      <td>Tuesday</td>\n",
       "      <td>4.704666e+09</td>\n",
       "      <td>-1</td>\n",
       "      <td>PHARMACY OTC</td>\n",
       "      <td>713.0</td>\n",
       "    </tr>\n",
       "    <tr>\n",
       "      <th>95351</th>\n",
       "      <td>999</td>\n",
       "      <td>27471</td>\n",
       "      <td>Tuesday</td>\n",
       "      <td>7.931900e+10</td>\n",
       "      <td>-1</td>\n",
       "      <td>PHARMACY OTC</td>\n",
       "      <td>713.0</td>\n",
       "    </tr>\n",
       "    <tr>\n",
       "      <th>95352</th>\n",
       "      <td>999</td>\n",
       "      <td>27471</td>\n",
       "      <td>Tuesday</td>\n",
       "      <td>7.447102e+09</td>\n",
       "      <td>-2</td>\n",
       "      <td>GROCERY DRY GOODS</td>\n",
       "      <td>3302.0</td>\n",
       "    </tr>\n",
       "    <tr>\n",
       "      <th>95353</th>\n",
       "      <td>999</td>\n",
       "      <td>27471</td>\n",
       "      <td>Tuesday</td>\n",
       "      <td>7.128786e+09</td>\n",
       "      <td>-1</td>\n",
       "      <td>COOK AND DINE</td>\n",
       "      <td>378.0</td>\n",
       "    </tr>\n",
       "    <tr>\n",
       "      <th>95354</th>\n",
       "      <td>999</td>\n",
       "      <td>27471</td>\n",
       "      <td>Tuesday</td>\n",
       "      <td>2.120057e+09</td>\n",
       "      <td>-1</td>\n",
       "      <td>HOUSEHOLD CHEMICALS/SUPP</td>\n",
       "      <td>9530.0</td>\n",
       "    </tr>\n",
       "    <tr>\n",
       "      <th>95355</th>\n",
       "      <td>999</td>\n",
       "      <td>27471</td>\n",
       "      <td>Tuesday</td>\n",
       "      <td>1.117265e+09</td>\n",
       "      <td>-1</td>\n",
       "      <td>COOK AND DINE</td>\n",
       "      <td>514.0</td>\n",
       "    </tr>\n",
       "    <tr>\n",
       "      <th>95356</th>\n",
       "      <td>999</td>\n",
       "      <td>27471</td>\n",
       "      <td>Tuesday</td>\n",
       "      <td>7.931900e+10</td>\n",
       "      <td>-1</td>\n",
       "      <td>PHARMACY OTC</td>\n",
       "      <td>713.0</td>\n",
       "    </tr>\n",
       "    <tr>\n",
       "      <th>95357</th>\n",
       "      <td>999</td>\n",
       "      <td>27471</td>\n",
       "      <td>Tuesday</td>\n",
       "      <td>2.110003e+09</td>\n",
       "      <td>-1</td>\n",
       "      <td>GROCERY DRY GOODS</td>\n",
       "      <td>2902.0</td>\n",
       "    </tr>\n",
       "    <tr>\n",
       "      <th>95358</th>\n",
       "      <td>999</td>\n",
       "      <td>27471</td>\n",
       "      <td>Tuesday</td>\n",
       "      <td>7.128786e+09</td>\n",
       "      <td>-2</td>\n",
       "      <td>COOK AND DINE</td>\n",
       "      <td>378.0</td>\n",
       "    </tr>\n",
       "    <tr>\n",
       "      <th>95359</th>\n",
       "      <td>999</td>\n",
       "      <td>27471</td>\n",
       "      <td>Tuesday</td>\n",
       "      <td>7.124925e+09</td>\n",
       "      <td>-1</td>\n",
       "      <td>PERSONAL CARE</td>\n",
       "      <td>5305.0</td>\n",
       "    </tr>\n",
       "    <tr>\n",
       "      <th>95360</th>\n",
       "      <td>999</td>\n",
       "      <td>27471</td>\n",
       "      <td>Tuesday</td>\n",
       "      <td>7.128786e+09</td>\n",
       "      <td>-2</td>\n",
       "      <td>COOK AND DINE</td>\n",
       "      <td>378.0</td>\n",
       "    </tr>\n",
       "    <tr>\n",
       "      <th>95361</th>\n",
       "      <td>999</td>\n",
       "      <td>27471</td>\n",
       "      <td>Tuesday</td>\n",
       "      <td>7.931900e+10</td>\n",
       "      <td>-1</td>\n",
       "      <td>PHARMACY OTC</td>\n",
       "      <td>713.0</td>\n",
       "    </tr>\n",
       "    <tr>\n",
       "      <th>95362</th>\n",
       "      <td>999</td>\n",
       "      <td>27471</td>\n",
       "      <td>Tuesday</td>\n",
       "      <td>3.242085e+10</td>\n",
       "      <td>-1</td>\n",
       "      <td>PHARMACY OTC</td>\n",
       "      <td>239.0</td>\n",
       "    </tr>\n",
       "    <tr>\n",
       "      <th>95363</th>\n",
       "      <td>999</td>\n",
       "      <td>27471</td>\n",
       "      <td>Tuesday</td>\n",
       "      <td>7.128786e+09</td>\n",
       "      <td>-2</td>\n",
       "      <td>COOK AND DINE</td>\n",
       "      <td>378.0</td>\n",
       "    </tr>\n",
       "    <tr>\n",
       "      <th>95364</th>\n",
       "      <td>999</td>\n",
       "      <td>27471</td>\n",
       "      <td>Tuesday</td>\n",
       "      <td>7.931900e+10</td>\n",
       "      <td>-1</td>\n",
       "      <td>PHARMACY OTC</td>\n",
       "      <td>713.0</td>\n",
       "    </tr>\n",
       "    <tr>\n",
       "      <th>95365</th>\n",
       "      <td>999</td>\n",
       "      <td>27471</td>\n",
       "      <td>Tuesday</td>\n",
       "      <td>5.210002e+09</td>\n",
       "      <td>-1</td>\n",
       "      <td>GROCERY DRY GOODS</td>\n",
       "      <td>4252.0</td>\n",
       "    </tr>\n",
       "    <tr>\n",
       "      <th>95366</th>\n",
       "      <td>999</td>\n",
       "      <td>27471</td>\n",
       "      <td>Tuesday</td>\n",
       "      <td>6.811317e+10</td>\n",
       "      <td>-1</td>\n",
       "      <td>PHARMACY OTC</td>\n",
       "      <td>1354.0</td>\n",
       "    </tr>\n",
       "    <tr>\n",
       "      <th>95367</th>\n",
       "      <td>999</td>\n",
       "      <td>27471</td>\n",
       "      <td>Tuesday</td>\n",
       "      <td>3.242085e+10</td>\n",
       "      <td>-1</td>\n",
       "      <td>PHARMACY OTC</td>\n",
       "      <td>239.0</td>\n",
       "    </tr>\n",
       "    <tr>\n",
       "      <th>95368</th>\n",
       "      <td>999</td>\n",
       "      <td>27471</td>\n",
       "      <td>Tuesday</td>\n",
       "      <td>7.144151e+10</td>\n",
       "      <td>-1</td>\n",
       "      <td>IMPULSE MERCHANDISE</td>\n",
       "      <td>8205.0</td>\n",
       "    </tr>\n",
       "    <tr>\n",
       "      <th>95369</th>\n",
       "      <td>999</td>\n",
       "      <td>27471</td>\n",
       "      <td>Tuesday</td>\n",
       "      <td>7.226461e+09</td>\n",
       "      <td>-1</td>\n",
       "      <td>LAWN AND GARDEN</td>\n",
       "      <td>408.0</td>\n",
       "    </tr>\n",
       "    <tr>\n",
       "      <th>95370</th>\n",
       "      <td>999</td>\n",
       "      <td>27471</td>\n",
       "      <td>Tuesday</td>\n",
       "      <td>7.226464e+09</td>\n",
       "      <td>-1</td>\n",
       "      <td>LAWN AND GARDEN</td>\n",
       "      <td>402.0</td>\n",
       "    </tr>\n",
       "    <tr>\n",
       "      <th>95371</th>\n",
       "      <td>999</td>\n",
       "      <td>27471</td>\n",
       "      <td>Tuesday</td>\n",
       "      <td>8.189140e+10</td>\n",
       "      <td>-1</td>\n",
       "      <td>COOK AND DINE</td>\n",
       "      <td>3734.0</td>\n",
       "    </tr>\n",
       "    <tr>\n",
       "      <th>95372</th>\n",
       "      <td>999</td>\n",
       "      <td>27471</td>\n",
       "      <td>Tuesday</td>\n",
       "      <td>3.006501e+10</td>\n",
       "      <td>-1</td>\n",
       "      <td>PHARMACY OTC</td>\n",
       "      <td>1545.0</td>\n",
       "    </tr>\n",
       "    <tr>\n",
       "      <th>95373</th>\n",
       "      <td>999</td>\n",
       "      <td>27471</td>\n",
       "      <td>Tuesday</td>\n",
       "      <td>2.052512e+09</td>\n",
       "      <td>-1</td>\n",
       "      <td>PHARMACY OTC</td>\n",
       "      <td>901.0</td>\n",
       "    </tr>\n",
       "    <tr>\n",
       "      <th>95374</th>\n",
       "      <td>999</td>\n",
       "      <td>27471</td>\n",
       "      <td>Tuesday</td>\n",
       "      <td>2.052512e+09</td>\n",
       "      <td>-1</td>\n",
       "      <td>PHARMACY OTC</td>\n",
       "      <td>901.0</td>\n",
       "    </tr>\n",
       "    <tr>\n",
       "      <th>95375</th>\n",
       "      <td>999</td>\n",
       "      <td>27471</td>\n",
       "      <td>Tuesday</td>\n",
       "      <td>2.052512e+09</td>\n",
       "      <td>-1</td>\n",
       "      <td>PHARMACY OTC</td>\n",
       "      <td>901.0</td>\n",
       "    </tr>\n",
       "    <tr>\n",
       "      <th>95376</th>\n",
       "      <td>999</td>\n",
       "      <td>27471</td>\n",
       "      <td>Tuesday</td>\n",
       "      <td>2.052512e+09</td>\n",
       "      <td>-1</td>\n",
       "      <td>PHARMACY OTC</td>\n",
       "      <td>901.0</td>\n",
       "    </tr>\n",
       "    <tr>\n",
       "      <th>95377</th>\n",
       "      <td>999</td>\n",
       "      <td>27471</td>\n",
       "      <td>Tuesday</td>\n",
       "      <td>3.000032e+09</td>\n",
       "      <td>-1</td>\n",
       "      <td>GROCERY DRY GOODS</td>\n",
       "      <td>3556.0</td>\n",
       "    </tr>\n",
       "    <tr>\n",
       "      <th>95378</th>\n",
       "      <td>999</td>\n",
       "      <td>27471</td>\n",
       "      <td>Tuesday</td>\n",
       "      <td>3.000032e+09</td>\n",
       "      <td>-2</td>\n",
       "      <td>GROCERY DRY GOODS</td>\n",
       "      <td>3556.0</td>\n",
       "    </tr>\n",
       "    <tr>\n",
       "      <th>95379</th>\n",
       "      <td>999</td>\n",
       "      <td>27471</td>\n",
       "      <td>Tuesday</td>\n",
       "      <td>3.000032e+09</td>\n",
       "      <td>-2</td>\n",
       "      <td>GROCERY DRY GOODS</td>\n",
       "      <td>3556.0</td>\n",
       "    </tr>\n",
       "    <tr>\n",
       "      <th>95380</th>\n",
       "      <td>999</td>\n",
       "      <td>27471</td>\n",
       "      <td>Tuesday</td>\n",
       "      <td>7.144151e+10</td>\n",
       "      <td>-1</td>\n",
       "      <td>IMPULSE MERCHANDISE</td>\n",
       "      <td>8205.0</td>\n",
       "    </tr>\n",
       "    <tr>\n",
       "      <th>95381</th>\n",
       "      <td>999</td>\n",
       "      <td>27471</td>\n",
       "      <td>Tuesday</td>\n",
       "      <td>7.560930e+10</td>\n",
       "      <td>-1</td>\n",
       "      <td>HOUSEHOLD CHEMICALS/SUPP</td>\n",
       "      <td>9101.0</td>\n",
       "    </tr>\n",
       "    <tr>\n",
       "      <th>95382</th>\n",
       "      <td>999</td>\n",
       "      <td>27471</td>\n",
       "      <td>Tuesday</td>\n",
       "      <td>6.811310e+10</td>\n",
       "      <td>-1</td>\n",
       "      <td>PHARMACY OTC</td>\n",
       "      <td>713.0</td>\n",
       "    </tr>\n",
       "    <tr>\n",
       "      <th>95383</th>\n",
       "      <td>999</td>\n",
       "      <td>27471</td>\n",
       "      <td>Tuesday</td>\n",
       "      <td>7.226404e+09</td>\n",
       "      <td>-1</td>\n",
       "      <td>LAWN AND GARDEN</td>\n",
       "      <td>402.0</td>\n",
       "    </tr>\n",
       "    <tr>\n",
       "      <th>95384</th>\n",
       "      <td>999</td>\n",
       "      <td>27471</td>\n",
       "      <td>Tuesday</td>\n",
       "      <td>7.675333e+09</td>\n",
       "      <td>-1</td>\n",
       "      <td>COOK AND DINE</td>\n",
       "      <td>3609.0</td>\n",
       "    </tr>\n",
       "    <tr>\n",
       "      <th>95385</th>\n",
       "      <td>999</td>\n",
       "      <td>27471</td>\n",
       "      <td>Tuesday</td>\n",
       "      <td>8.571410e+10</td>\n",
       "      <td>-1</td>\n",
       "      <td>PHARMACY OTC</td>\n",
       "      <td>801.0</td>\n",
       "    </tr>\n",
       "    <tr>\n",
       "      <th>95386</th>\n",
       "      <td>999</td>\n",
       "      <td>27471</td>\n",
       "      <td>Tuesday</td>\n",
       "      <td>8.571410e+10</td>\n",
       "      <td>-1</td>\n",
       "      <td>PHARMACY OTC</td>\n",
       "      <td>801.0</td>\n",
       "    </tr>\n",
       "    <tr>\n",
       "      <th>95387</th>\n",
       "      <td>999</td>\n",
       "      <td>27471</td>\n",
       "      <td>Tuesday</td>\n",
       "      <td>8.881132e+10</td>\n",
       "      <td>-1</td>\n",
       "      <td>LADIESWEAR</td>\n",
       "      <td>4384.0</td>\n",
       "    </tr>\n",
       "    <tr>\n",
       "      <th>95388</th>\n",
       "      <td>999</td>\n",
       "      <td>27471</td>\n",
       "      <td>Tuesday</td>\n",
       "      <td>6.205845e+10</td>\n",
       "      <td>-1</td>\n",
       "      <td>ACCESSORIES</td>\n",
       "      <td>557.0</td>\n",
       "    </tr>\n",
       "    <tr>\n",
       "      <th>95389</th>\n",
       "      <td>999</td>\n",
       "      <td>27471</td>\n",
       "      <td>Tuesday</td>\n",
       "      <td>5.210003e+09</td>\n",
       "      <td>-1</td>\n",
       "      <td>GROCERY DRY GOODS</td>\n",
       "      <td>4252.0</td>\n",
       "    </tr>\n",
       "    <tr>\n",
       "      <th>95390</th>\n",
       "      <td>999</td>\n",
       "      <td>27471</td>\n",
       "      <td>Tuesday</td>\n",
       "      <td>3.160403e+09</td>\n",
       "      <td>-1</td>\n",
       "      <td>PHARMACY OTC</td>\n",
       "      <td>1002.0</td>\n",
       "    </tr>\n",
       "    <tr>\n",
       "      <th>95391</th>\n",
       "      <td>999</td>\n",
       "      <td>27471</td>\n",
       "      <td>Tuesday</td>\n",
       "      <td>8.046918e+10</td>\n",
       "      <td>-1</td>\n",
       "      <td>SWIMWEAR/OUTERWEAR</td>\n",
       "      <td>211.0</td>\n",
       "    </tr>\n",
       "  </tbody>\n",
       "</table>\n",
       "</div>"
      ],
      "text/plain": [
       "       TripType  VisitNumber  Weekday           Upc  ScanCount  \\\n",
       "95346       999        27471  Tuesday  7.128786e+09         -1   \n",
       "95347       999        27471  Tuesday  7.644091e+09         -1   \n",
       "95348       999        27471  Tuesday  7.128786e+09         -1   \n",
       "95349       999        27471  Tuesday  7.128786e+09         -1   \n",
       "95350       999        27471  Tuesday  4.704666e+09         -1   \n",
       "95351       999        27471  Tuesday  7.931900e+10         -1   \n",
       "95352       999        27471  Tuesday  7.447102e+09         -2   \n",
       "95353       999        27471  Tuesday  7.128786e+09         -1   \n",
       "95354       999        27471  Tuesday  2.120057e+09         -1   \n",
       "95355       999        27471  Tuesday  1.117265e+09         -1   \n",
       "95356       999        27471  Tuesday  7.931900e+10         -1   \n",
       "95357       999        27471  Tuesday  2.110003e+09         -1   \n",
       "95358       999        27471  Tuesday  7.128786e+09         -2   \n",
       "95359       999        27471  Tuesday  7.124925e+09         -1   \n",
       "95360       999        27471  Tuesday  7.128786e+09         -2   \n",
       "95361       999        27471  Tuesday  7.931900e+10         -1   \n",
       "95362       999        27471  Tuesday  3.242085e+10         -1   \n",
       "95363       999        27471  Tuesday  7.128786e+09         -2   \n",
       "95364       999        27471  Tuesday  7.931900e+10         -1   \n",
       "95365       999        27471  Tuesday  5.210002e+09         -1   \n",
       "95366       999        27471  Tuesday  6.811317e+10         -1   \n",
       "95367       999        27471  Tuesday  3.242085e+10         -1   \n",
       "95368       999        27471  Tuesday  7.144151e+10         -1   \n",
       "95369       999        27471  Tuesday  7.226461e+09         -1   \n",
       "95370       999        27471  Tuesday  7.226464e+09         -1   \n",
       "95371       999        27471  Tuesday  8.189140e+10         -1   \n",
       "95372       999        27471  Tuesday  3.006501e+10         -1   \n",
       "95373       999        27471  Tuesday  2.052512e+09         -1   \n",
       "95374       999        27471  Tuesday  2.052512e+09         -1   \n",
       "95375       999        27471  Tuesday  2.052512e+09         -1   \n",
       "95376       999        27471  Tuesday  2.052512e+09         -1   \n",
       "95377       999        27471  Tuesday  3.000032e+09         -1   \n",
       "95378       999        27471  Tuesday  3.000032e+09         -2   \n",
       "95379       999        27471  Tuesday  3.000032e+09         -2   \n",
       "95380       999        27471  Tuesday  7.144151e+10         -1   \n",
       "95381       999        27471  Tuesday  7.560930e+10         -1   \n",
       "95382       999        27471  Tuesday  6.811310e+10         -1   \n",
       "95383       999        27471  Tuesday  7.226404e+09         -1   \n",
       "95384       999        27471  Tuesday  7.675333e+09         -1   \n",
       "95385       999        27471  Tuesday  8.571410e+10         -1   \n",
       "95386       999        27471  Tuesday  8.571410e+10         -1   \n",
       "95387       999        27471  Tuesday  8.881132e+10         -1   \n",
       "95388       999        27471  Tuesday  6.205845e+10         -1   \n",
       "95389       999        27471  Tuesday  5.210003e+09         -1   \n",
       "95390       999        27471  Tuesday  3.160403e+09         -1   \n",
       "95391       999        27471  Tuesday  8.046918e+10         -1   \n",
       "\n",
       "          DepartmentDescription  FinelineNumber  \n",
       "95346             COOK AND DINE           378.0  \n",
       "95347             COOK AND DINE          3609.0  \n",
       "95348             COOK AND DINE           378.0  \n",
       "95349             COOK AND DINE           378.0  \n",
       "95350              PHARMACY OTC           713.0  \n",
       "95351              PHARMACY OTC           713.0  \n",
       "95352         GROCERY DRY GOODS          3302.0  \n",
       "95353             COOK AND DINE           378.0  \n",
       "95354  HOUSEHOLD CHEMICALS/SUPP          9530.0  \n",
       "95355             COOK AND DINE           514.0  \n",
       "95356              PHARMACY OTC           713.0  \n",
       "95357         GROCERY DRY GOODS          2902.0  \n",
       "95358             COOK AND DINE           378.0  \n",
       "95359             PERSONAL CARE          5305.0  \n",
       "95360             COOK AND DINE           378.0  \n",
       "95361              PHARMACY OTC           713.0  \n",
       "95362              PHARMACY OTC           239.0  \n",
       "95363             COOK AND DINE           378.0  \n",
       "95364              PHARMACY OTC           713.0  \n",
       "95365         GROCERY DRY GOODS          4252.0  \n",
       "95366              PHARMACY OTC          1354.0  \n",
       "95367              PHARMACY OTC           239.0  \n",
       "95368       IMPULSE MERCHANDISE          8205.0  \n",
       "95369           LAWN AND GARDEN           408.0  \n",
       "95370           LAWN AND GARDEN           402.0  \n",
       "95371             COOK AND DINE          3734.0  \n",
       "95372              PHARMACY OTC          1545.0  \n",
       "95373              PHARMACY OTC           901.0  \n",
       "95374              PHARMACY OTC           901.0  \n",
       "95375              PHARMACY OTC           901.0  \n",
       "95376              PHARMACY OTC           901.0  \n",
       "95377         GROCERY DRY GOODS          3556.0  \n",
       "95378         GROCERY DRY GOODS          3556.0  \n",
       "95379         GROCERY DRY GOODS          3556.0  \n",
       "95380       IMPULSE MERCHANDISE          8205.0  \n",
       "95381  HOUSEHOLD CHEMICALS/SUPP          9101.0  \n",
       "95382              PHARMACY OTC           713.0  \n",
       "95383           LAWN AND GARDEN           402.0  \n",
       "95384             COOK AND DINE          3609.0  \n",
       "95385              PHARMACY OTC           801.0  \n",
       "95386              PHARMACY OTC           801.0  \n",
       "95387                LADIESWEAR          4384.0  \n",
       "95388               ACCESSORIES           557.0  \n",
       "95389         GROCERY DRY GOODS          4252.0  \n",
       "95390              PHARMACY OTC          1002.0  \n",
       "95391        SWIMWEAR/OUTERWEAR           211.0  "
      ]
     },
     "execution_count": 172,
     "metadata": {},
     "output_type": "execute_result"
    }
   ],
   "source": [
    "df_train[df_train['VisitNumber']==27471]"
   ]
  },
  {
   "cell_type": "code",
   "execution_count": 173,
   "metadata": {},
   "outputs": [
    {
     "data": {
      "text/plain": [
       "DepartmentDescription\n",
       "ACCESSORIES                 -1\n",
       "COOK AND DINE              -14\n",
       "GROCERY DRY GOODS          -10\n",
       "HOUSEHOLD CHEMICALS/SUPP    -2\n",
       "IMPULSE MERCHANDISE         -2\n",
       "LADIESWEAR                  -1\n",
       "LAWN AND GARDEN             -3\n",
       "PERSONAL CARE               -1\n",
       "PHARMACY OTC               -17\n",
       "SWIMWEAR/OUTERWEAR          -1\n",
       "Name: ScanCount, dtype: int64"
      ]
     },
     "execution_count": 173,
     "metadata": {},
     "output_type": "execute_result"
    }
   ],
   "source": [
    "df_train[df_train['VisitNumber']==27471].groupby('DepartmentDescription').sum()['ScanCount']"
   ]
  },
  {
   "cell_type": "markdown",
   "metadata": {},
   "source": [
    "Well actually there **IS** such a trip"
   ]
  },
  {
   "cell_type": "markdown",
   "metadata": {},
   "source": [
    "**Question**: Are there any trips where the total number of items bought is 0? That would be trouble."
   ]
  },
  {
   "cell_type": "code",
   "execution_count": null,
   "metadata": {},
   "outputs": [],
   "source": []
  },
  {
   "cell_type": "markdown",
   "metadata": {},
   "source": [
    "**Question**: How many such trips are there? Why do these trips show up in our dataset?!"
   ]
  },
  {
   "cell_type": "code",
   "execution_count": null,
   "metadata": {},
   "outputs": [],
   "source": []
  },
  {
   "cell_type": "markdown",
   "metadata": {},
   "source": [
    "Wow! we have ~1400 trips where the total count of all items bought is 0. This means one of two things - either nothing was bought (then why is there a trip in our data) or what's more likely is that these trips had some returns too. Let's check"
   ]
  },
  {
   "cell_type": "code",
   "execution_count": 176,
   "metadata": {},
   "outputs": [],
   "source": [
    "total0_visits = total_train_counts[total_train_counts==0].index"
   ]
  },
  {
   "cell_type": "code",
   "execution_count": 177,
   "metadata": {},
   "outputs": [
    {
     "data": {
      "text/plain": [
       "2     1091\n",
       "4      216\n",
       "6       64\n",
       "8       40\n",
       "10       9\n",
       "12       8\n",
       "16       4\n",
       "30       2\n",
       "22       2\n",
       "20       2\n",
       "18       2\n",
       "14       2\n",
       "Name: ScanCount, dtype: int64"
      ]
     },
     "execution_count": 177,
     "metadata": {},
     "output_type": "execute_result"
    }
   ],
   "source": [
    "df_train[df_train['VisitNumber'].isin(total0_visits)].groupby('VisitNumber').agg({'ScanCount': lambda x: np.sum(np.abs(x))}).sort_values(by='ScanCount')['ScanCount'].value_counts()"
   ]
  },
  {
   "cell_type": "markdown",
   "metadata": {},
   "source": [
    "Let's look at the trip types for these visits."
   ]
  },
  {
   "cell_type": "code",
   "execution_count": 178,
   "metadata": {},
   "outputs": [
    {
     "data": {
      "text/plain": [
       "999    1441\n",
       "8         1\n",
       "Name: TripType, dtype: int64"
      ]
     },
     "execution_count": 178,
     "metadata": {},
     "output_type": "execute_result"
    }
   ],
   "source": [
    "df_train[df_train['VisitNumber'].isin(total0_visits)][['VisitNumber', 'TripType']].drop_duplicates()['TripType'].value_counts()"
   ]
  },
  {
   "cell_type": "markdown",
   "metadata": {},
   "source": [
    "That's very interesting. Are we to infer that if there's a single return, then the trip is mostly like \"999\" (other)"
   ]
  },
  {
   "cell_type": "code",
   "execution_count": 179,
   "metadata": {},
   "outputs": [
    {
     "data": {
      "text/plain": [
       "array([ -1,  -2,  -3,  -4,  -5,  -6,  -7,  -9, -10])"
      ]
     },
     "execution_count": 179,
     "metadata": {},
     "output_type": "execute_result"
    }
   ],
   "source": [
    "df_train[df_train['ScanCount']<0]['ScanCount'].unique()"
   ]
  },
  {
   "cell_type": "code",
   "execution_count": 180,
   "metadata": {},
   "outputs": [
    {
     "data": {
      "text/plain": [
       "999    5168\n",
       "40      746\n",
       "39      496\n",
       "37      226\n",
       "9       226\n",
       "8       211\n",
       "25      201\n",
       "7       159\n",
       "38      148\n",
       "36      131\n",
       "42      125\n",
       "24      113\n",
       "44       96\n",
       "32       86\n",
       "5        80\n",
       "35       66\n",
       "33       61\n",
       "15       45\n",
       "22       44\n",
       "41       38\n",
       "43       37\n",
       "6        36\n",
       "3        36\n",
       "27       35\n",
       "20       34\n",
       "34       33\n",
       "30       29\n",
       "18       25\n",
       "28       24\n",
       "21       23\n",
       "29       21\n",
       "31       21\n",
       "26       18\n",
       "19       14\n",
       "12       14\n",
       "23        8\n",
       "4         7\n",
       "14        1\n",
       "Name: TripType, dtype: int64"
      ]
     },
     "execution_count": 180,
     "metadata": {},
     "output_type": "execute_result"
    }
   ],
   "source": [
    "df_train[df_train['ScanCount']<0][['TripType', 'VisitNumber']].drop_duplicates()['TripType'].value_counts()"
   ]
  },
  {
   "cell_type": "code",
   "execution_count": 181,
   "metadata": {},
   "outputs": [
    {
     "data": {
      "text/plain": [
       "8882"
      ]
     },
     "execution_count": 181,
     "metadata": {},
     "output_type": "execute_result"
    }
   ],
   "source": [
    "len(df_train[df_train['ScanCount']<0]['VisitNumber'].unique())"
   ]
  },
  {
   "cell_type": "markdown",
   "metadata": {},
   "source": [
    "**Point 1**: If we look at all the trips that have even one single return, then the vast majority are of type 999. The actual fraction is: \n",
    "\n",
    "$$\\frac{5168}{8882} \\approx 58\\%$$\n",
    "\n",
    "**Point 2**: If we look at all the trips where **the total sum of items = 0** (this is a strict subset of the visits considered in point 1), then \n",
    "\n",
    "$$\\frac{1440}{1441} \\approx 100\\%$$\n",
    "\n",
    "of the trips are of type 999!\n",
    "\n",
    "We could reate a rule. Always check the total \"ScanCount\" of a trip. If it's equal to 0, assign its trip type to 999, otherwise use our model. We also have to remove all such rows from our dataset.\n",
    "\n",
    "I am also curious to see what actually causes one of the rows to be assigned the trip type 8. Let's inspect those two rows to see if something pops out."
   ]
  },
  {
   "cell_type": "code",
   "execution_count": 182,
   "metadata": {},
   "outputs": [
    {
     "data": {
      "text/html": [
       "<div>\n",
       "<style scoped>\n",
       "    .dataframe tbody tr th:only-of-type {\n",
       "        vertical-align: middle;\n",
       "    }\n",
       "\n",
       "    .dataframe tbody tr th {\n",
       "        vertical-align: top;\n",
       "    }\n",
       "\n",
       "    .dataframe thead th {\n",
       "        text-align: right;\n",
       "    }\n",
       "</style>\n",
       "<table border=\"1\" class=\"dataframe\">\n",
       "  <thead>\n",
       "    <tr style=\"text-align: right;\">\n",
       "      <th></th>\n",
       "      <th>TripType</th>\n",
       "      <th>VisitNumber</th>\n",
       "      <th>Weekday</th>\n",
       "      <th>Upc</th>\n",
       "      <th>ScanCount</th>\n",
       "      <th>DepartmentDescription</th>\n",
       "      <th>FinelineNumber</th>\n",
       "    </tr>\n",
       "  </thead>\n",
       "  <tbody>\n",
       "    <tr>\n",
       "      <th>321206</th>\n",
       "      <td>8</td>\n",
       "      <td>96445</td>\n",
       "      <td>Saturday</td>\n",
       "      <td>9506.0</td>\n",
       "      <td>1</td>\n",
       "      <td>DSD GROCERY</td>\n",
       "      <td>9225.0</td>\n",
       "    </tr>\n",
       "    <tr>\n",
       "      <th>321207</th>\n",
       "      <td>8</td>\n",
       "      <td>96445</td>\n",
       "      <td>Saturday</td>\n",
       "      <td>9506.0</td>\n",
       "      <td>-1</td>\n",
       "      <td>DSD GROCERY</td>\n",
       "      <td>9225.0</td>\n",
       "    </tr>\n",
       "  </tbody>\n",
       "</table>\n",
       "</div>"
      ],
      "text/plain": [
       "        TripType  VisitNumber   Weekday     Upc  ScanCount  \\\n",
       "321206         8        96445  Saturday  9506.0          1   \n",
       "321207         8        96445  Saturday  9506.0         -1   \n",
       "\n",
       "       DepartmentDescription  FinelineNumber  \n",
       "321206           DSD GROCERY          9225.0  \n",
       "321207           DSD GROCERY          9225.0  "
      ]
     },
     "execution_count": 182,
     "metadata": {},
     "output_type": "execute_result"
    }
   ],
   "source": [
    "df_train[(df_train['VisitNumber'].isin(total0_visits)) & (df_train['TripType']==8)]"
   ]
  },
  {
   "cell_type": "markdown",
   "metadata": {},
   "source": [
    "The only reasonable guess is that there's something in the type of product bought."
   ]
  },
  {
   "cell_type": "code",
   "execution_count": 183,
   "metadata": {},
   "outputs": [
    {
     "data": {
      "text/plain": [
       "IMPULSE MERCHANDISE      387\n",
       "MENS WEAR                196\n",
       "DSD GROCERY              183\n",
       "FINANCIAL SERVICES       162\n",
       "PERSONAL CARE            138\n",
       "                        ... \n",
       "MENSWEAR                   6\n",
       "OPTICAL - FRAMES           6\n",
       "SHEER HOSIERY              5\n",
       "SEAFOOD                    4\n",
       "MEAT - FRESH & FROZEN      2\n",
       "Name: DepartmentDescription, Length: 62, dtype: int64"
      ]
     },
     "execution_count": 183,
     "metadata": {},
     "output_type": "execute_result"
    }
   ],
   "source": [
    "df_train[(df_train['VisitNumber'].isin(total0_visits)) & (df_train['TripType']==999)]['DepartmentDescription'].value_counts()"
   ]
  },
  {
   "cell_type": "markdown",
   "metadata": {},
   "source": [
    "We see \"DSD Grocery\" here. Maybe it's the FinelineNumber"
   ]
  },
  {
   "cell_type": "code",
   "execution_count": 184,
   "metadata": {},
   "outputs": [
    {
     "data": {
      "text/plain": [
       "10"
      ]
     },
     "execution_count": 184,
     "metadata": {},
     "output_type": "execute_result"
    }
   ],
   "source": [
    "df_train[(df_train['VisitNumber'].isin(total0_visits)) & (df_train['TripType']==999)]['FinelineNumber'].value_counts().loc[9225]"
   ]
  },
  {
   "cell_type": "markdown",
   "metadata": {},
   "source": [
    "It's quite rare but still present. Maybe the Upc?"
   ]
  },
  {
   "cell_type": "code",
   "execution_count": 185,
   "metadata": {},
   "outputs": [
    {
     "data": {
      "text/plain": [
       "2"
      ]
     },
     "execution_count": 185,
     "metadata": {},
     "output_type": "execute_result"
    }
   ],
   "source": [
    "df_train[(df_train['VisitNumber'].isin(total0_visits)) & (df_train['TripType']==999)]['Upc'].value_counts().loc[9506]"
   ]
  },
  {
   "cell_type": "markdown",
   "metadata": {},
   "source": [
    "Even the product Upc shows up. At this stage, I wouldn't manually spend more effort trying to understand this."
   ]
  },
  {
   "cell_type": "markdown",
   "metadata": {},
   "source": [
    "Overall, we spent some time exploring our data, building some linear models and trying out different featurizations. Tomorrow, we'll turn this process around a bit. We'll start with a tree-based model and look into the model to understand our data."
   ]
  }
 ],
 "metadata": {
  "kernelspec": {
   "display_name": "Python 3",
   "language": "python",
   "name": "python3"
  },
  "language_info": {
   "codemirror_mode": {
    "name": "ipython",
    "version": 3
   },
   "file_extension": ".py",
   "mimetype": "text/x-python",
   "name": "python",
   "nbconvert_exporter": "python",
   "pygments_lexer": "ipython3",
   "version": "3.7.4"
  }
 },
 "nbformat": 4,
 "nbformat_minor": 2
}
