{
 "cells": [
  {
   "cell_type": "code",
   "execution_count": 1,
   "metadata": {},
   "outputs": [],
   "source": [
    "%load_ext autoreload\n",
    "%autoreload 2\n",
    "%matplotlib inline"
   ]
  },
  {
   "cell_type": "code",
   "execution_count": 2,
   "metadata": {},
   "outputs": [],
   "source": [
    "import numpy as np\n",
    "import pandas as pd\n",
    "import matplotlib.pylab as plt"
   ]
  },
  {
   "cell_type": "markdown",
   "metadata": {},
   "source": [
    "# Goals of this notebook\n",
    "\n",
    "* Build our first classification model and evaluate it on the hold-out sets.\n",
    "\n",
    "* Try various features and understand what the model is doing.\n",
    "\n",
    "Note: this is a very long notebook and we don't expect you to go through it in a couple of hours. Neither is the process followed below exhaustive. Play around, change things and most importantly, enjoy yourself."
   ]
  },
  {
   "cell_type": "markdown",
   "metadata": {},
   "source": [
    "### Read in data from previous day"
   ]
  },
  {
   "cell_type": "code",
   "execution_count": 3,
   "metadata": {},
   "outputs": [],
   "source": [
    "DATA_PATH = \"../data/walmart\"\n",
    "TRAIN_PATH = f\"{DATA_PATH}/train.csv\"\n",
    "TEST_PATH = f\"{DATA_PATH}/test.csv\""
   ]
  },
  {
   "cell_type": "code",
   "execution_count": 4,
   "metadata": {},
   "outputs": [],
   "source": [
    "df_train = pd.read_feather(f'{DATA_PATH}/df_raw_train.feather')\n",
    "df_val = pd.read_feather(f'{DATA_PATH}/df_raw_val.feather')\n",
    "df_test = pd.read_feather(f'{DATA_PATH}/df_raw_test.feather')"
   ]
  },
  {
   "cell_type": "markdown",
   "metadata": {},
   "source": [
    "### Modeling"
   ]
  },
  {
   "cell_type": "markdown",
   "metadata": {},
   "source": [
    "The main technique we'll use today is **Logistic Regression**. Logistic regression is *not* a regression model - it is a classification model.\n",
    "\n",
    "A quick summary:\n",
    "\n",
    "Given n features - $x_1, x_2, \\ldots, x_n$, and a binary target variable - $y \\in {0,1}$, logistic regression predicts the probability this example belongs to class 1 as:\n",
    "\n",
    "$$p = \\sigma(w_0 + w_1 x_1 + w_2 x_2 + \\ldots + w_n x_n)$$\n",
    "\n",
    "where $\\sigma$ is the sigmoid function: $\\sigma(x) = \\frac{1}{1 + e^{-x}}$\n",
    "\n",
    "As we discussed in the lecture, you can think of $\\sigma$ as a softer switch function which \"smoothifies\" the discrete switch:\n",
    "\n",
    "$s(x) = \n",
    "\\begin{cases}\n",
    "0, \\text{ if x < 0} \\\\\n",
    "1, \\text{ if x} \\geq 0\n",
    "\\end{cases}\n",
    "$\n",
    "\n",
    "This is a linear model since it uses the linear combination:\n",
    "\n",
    "$$w_0 + w_1 x_1 + w_2 x_2 + \\ldots + w_n x_n$$\n",
    "\n",
    "In particular, this means that we don't take into account features like $x_i x_j$ or higher-order terms. If we do want to take those into account, we would have to explicitly create a features (column) $x_i x_j$."
   ]
  },
  {
   "cell_type": "markdown",
   "metadata": {},
   "source": [
    "# Featurization Strategy 1:\n",
    "\n",
    "We want to predict the trip type of each VisitNumber. Our hypothesis is that one of the simplest predictors is the type of items bought on each trip. But we have several rows for each trip. How can we create a dataset with one row per visit and a description of all the items bought.\n",
    "\n",
    "The first question is whether we should use Upc, FinelineNumber or DepartmentDescription to describe what items were bought.\n",
    "\n",
    "**Question**: What are the tradeoffs between choosing each one of these 3 options?"
   ]
  },
  {
   "cell_type": "markdown",
   "metadata": {},
   "source": [
    "The main tradeoff is the number of distinct items. There are 68 unique departments in the train set, 5142 unique FinelineNumbers, and 89281 unique Upc codes. It is initially easier to work at the department level although we should put a marker **TODO** to extend our models with FinelineNo and Upc later."
   ]
  },
  {
   "cell_type": "markdown",
   "metadata": {},
   "source": [
    "So how exactly do we create rows that have some description of the departments someone shopped at. The easier way is to have a column for every unique department and a row for each visit number. The entry in row i and column j is the number of items bought during visit i in department j.\n",
    "\n",
    "**Question**: Can you think of an easy way to create this table using one of the in-build pandas functions we have seen?"
   ]
  },
  {
   "cell_type": "code",
   "execution_count": 5,
   "metadata": {
    "scrolled": false
   },
   "outputs": [
    {
     "data": {
      "text/html": [
       "<div>\n",
       "<style scoped>\n",
       "    .dataframe tbody tr th:only-of-type {\n",
       "        vertical-align: middle;\n",
       "    }\n",
       "\n",
       "    .dataframe tbody tr th {\n",
       "        vertical-align: top;\n",
       "    }\n",
       "\n",
       "    .dataframe thead th {\n",
       "        text-align: right;\n",
       "    }\n",
       "</style>\n",
       "<table border=\"1\" class=\"dataframe\">\n",
       "  <thead>\n",
       "    <tr style=\"text-align: right;\">\n",
       "      <th>DepartmentDescription</th>\n",
       "      <th>1-HR PHOTO</th>\n",
       "      <th>ACCESSORIES</th>\n",
       "      <th>AUTOMOTIVE</th>\n",
       "      <th>BAKERY</th>\n",
       "      <th>BATH AND SHOWER</th>\n",
       "      <th>BEAUTY</th>\n",
       "      <th>BEDDING</th>\n",
       "      <th>BOOKS AND MAGAZINES</th>\n",
       "      <th>BOYS WEAR</th>\n",
       "      <th>BRAS &amp; SHAPEWEAR</th>\n",
       "      <th>...</th>\n",
       "      <th>SEAFOOD</th>\n",
       "      <th>SEASONAL</th>\n",
       "      <th>SERVICE DELI</th>\n",
       "      <th>SHEER HOSIERY</th>\n",
       "      <th>SHOES</th>\n",
       "      <th>SLEEPWEAR/FOUNDATIONS</th>\n",
       "      <th>SPORTING GOODS</th>\n",
       "      <th>SWIMWEAR/OUTERWEAR</th>\n",
       "      <th>TOYS</th>\n",
       "      <th>WIRELESS</th>\n",
       "    </tr>\n",
       "    <tr>\n",
       "      <th>VisitNumber</th>\n",
       "      <th></th>\n",
       "      <th></th>\n",
       "      <th></th>\n",
       "      <th></th>\n",
       "      <th></th>\n",
       "      <th></th>\n",
       "      <th></th>\n",
       "      <th></th>\n",
       "      <th></th>\n",
       "      <th></th>\n",
       "      <th></th>\n",
       "      <th></th>\n",
       "      <th></th>\n",
       "      <th></th>\n",
       "      <th></th>\n",
       "      <th></th>\n",
       "      <th></th>\n",
       "      <th></th>\n",
       "      <th></th>\n",
       "      <th></th>\n",
       "      <th></th>\n",
       "    </tr>\n",
       "  </thead>\n",
       "  <tbody>\n",
       "    <tr>\n",
       "      <th>5</th>\n",
       "      <td>NaN</td>\n",
       "      <td>NaN</td>\n",
       "      <td>NaN</td>\n",
       "      <td>NaN</td>\n",
       "      <td>NaN</td>\n",
       "      <td>NaN</td>\n",
       "      <td>NaN</td>\n",
       "      <td>NaN</td>\n",
       "      <td>NaN</td>\n",
       "      <td>NaN</td>\n",
       "      <td>...</td>\n",
       "      <td>NaN</td>\n",
       "      <td>NaN</td>\n",
       "      <td>NaN</td>\n",
       "      <td>NaN</td>\n",
       "      <td>NaN</td>\n",
       "      <td>NaN</td>\n",
       "      <td>NaN</td>\n",
       "      <td>NaN</td>\n",
       "      <td>NaN</td>\n",
       "      <td>NaN</td>\n",
       "    </tr>\n",
       "    <tr>\n",
       "      <th>7</th>\n",
       "      <td>NaN</td>\n",
       "      <td>NaN</td>\n",
       "      <td>NaN</td>\n",
       "      <td>NaN</td>\n",
       "      <td>NaN</td>\n",
       "      <td>NaN</td>\n",
       "      <td>NaN</td>\n",
       "      <td>NaN</td>\n",
       "      <td>NaN</td>\n",
       "      <td>NaN</td>\n",
       "      <td>...</td>\n",
       "      <td>NaN</td>\n",
       "      <td>NaN</td>\n",
       "      <td>NaN</td>\n",
       "      <td>NaN</td>\n",
       "      <td>1.0</td>\n",
       "      <td>NaN</td>\n",
       "      <td>NaN</td>\n",
       "      <td>NaN</td>\n",
       "      <td>NaN</td>\n",
       "      <td>NaN</td>\n",
       "    </tr>\n",
       "    <tr>\n",
       "      <th>8</th>\n",
       "      <td>NaN</td>\n",
       "      <td>NaN</td>\n",
       "      <td>NaN</td>\n",
       "      <td>NaN</td>\n",
       "      <td>NaN</td>\n",
       "      <td>NaN</td>\n",
       "      <td>NaN</td>\n",
       "      <td>NaN</td>\n",
       "      <td>NaN</td>\n",
       "      <td>NaN</td>\n",
       "      <td>...</td>\n",
       "      <td>NaN</td>\n",
       "      <td>NaN</td>\n",
       "      <td>NaN</td>\n",
       "      <td>NaN</td>\n",
       "      <td>NaN</td>\n",
       "      <td>NaN</td>\n",
       "      <td>NaN</td>\n",
       "      <td>NaN</td>\n",
       "      <td>NaN</td>\n",
       "      <td>NaN</td>\n",
       "    </tr>\n",
       "    <tr>\n",
       "      <th>9</th>\n",
       "      <td>NaN</td>\n",
       "      <td>NaN</td>\n",
       "      <td>NaN</td>\n",
       "      <td>NaN</td>\n",
       "      <td>NaN</td>\n",
       "      <td>NaN</td>\n",
       "      <td>NaN</td>\n",
       "      <td>NaN</td>\n",
       "      <td>NaN</td>\n",
       "      <td>NaN</td>\n",
       "      <td>...</td>\n",
       "      <td>NaN</td>\n",
       "      <td>NaN</td>\n",
       "      <td>NaN</td>\n",
       "      <td>NaN</td>\n",
       "      <td>NaN</td>\n",
       "      <td>NaN</td>\n",
       "      <td>NaN</td>\n",
       "      <td>NaN</td>\n",
       "      <td>NaN</td>\n",
       "      <td>NaN</td>\n",
       "    </tr>\n",
       "    <tr>\n",
       "      <th>10</th>\n",
       "      <td>NaN</td>\n",
       "      <td>NaN</td>\n",
       "      <td>NaN</td>\n",
       "      <td>NaN</td>\n",
       "      <td>NaN</td>\n",
       "      <td>NaN</td>\n",
       "      <td>NaN</td>\n",
       "      <td>NaN</td>\n",
       "      <td>NaN</td>\n",
       "      <td>NaN</td>\n",
       "      <td>...</td>\n",
       "      <td>NaN</td>\n",
       "      <td>NaN</td>\n",
       "      <td>NaN</td>\n",
       "      <td>NaN</td>\n",
       "      <td>NaN</td>\n",
       "      <td>NaN</td>\n",
       "      <td>NaN</td>\n",
       "      <td>NaN</td>\n",
       "      <td>NaN</td>\n",
       "      <td>NaN</td>\n",
       "    </tr>\n",
       "    <tr>\n",
       "      <th>11</th>\n",
       "      <td>NaN</td>\n",
       "      <td>NaN</td>\n",
       "      <td>NaN</td>\n",
       "      <td>NaN</td>\n",
       "      <td>NaN</td>\n",
       "      <td>NaN</td>\n",
       "      <td>NaN</td>\n",
       "      <td>NaN</td>\n",
       "      <td>NaN</td>\n",
       "      <td>NaN</td>\n",
       "      <td>...</td>\n",
       "      <td>NaN</td>\n",
       "      <td>NaN</td>\n",
       "      <td>NaN</td>\n",
       "      <td>NaN</td>\n",
       "      <td>NaN</td>\n",
       "      <td>NaN</td>\n",
       "      <td>NaN</td>\n",
       "      <td>NaN</td>\n",
       "      <td>NaN</td>\n",
       "      <td>NaN</td>\n",
       "    </tr>\n",
       "    <tr>\n",
       "      <th>12</th>\n",
       "      <td>NaN</td>\n",
       "      <td>NaN</td>\n",
       "      <td>NaN</td>\n",
       "      <td>NaN</td>\n",
       "      <td>NaN</td>\n",
       "      <td>NaN</td>\n",
       "      <td>NaN</td>\n",
       "      <td>NaN</td>\n",
       "      <td>2.0</td>\n",
       "      <td>NaN</td>\n",
       "      <td>...</td>\n",
       "      <td>NaN</td>\n",
       "      <td>NaN</td>\n",
       "      <td>NaN</td>\n",
       "      <td>NaN</td>\n",
       "      <td>1.0</td>\n",
       "      <td>NaN</td>\n",
       "      <td>NaN</td>\n",
       "      <td>NaN</td>\n",
       "      <td>NaN</td>\n",
       "      <td>NaN</td>\n",
       "    </tr>\n",
       "    <tr>\n",
       "      <th>15</th>\n",
       "      <td>NaN</td>\n",
       "      <td>NaN</td>\n",
       "      <td>NaN</td>\n",
       "      <td>NaN</td>\n",
       "      <td>NaN</td>\n",
       "      <td>NaN</td>\n",
       "      <td>NaN</td>\n",
       "      <td>NaN</td>\n",
       "      <td>NaN</td>\n",
       "      <td>NaN</td>\n",
       "      <td>...</td>\n",
       "      <td>NaN</td>\n",
       "      <td>NaN</td>\n",
       "      <td>NaN</td>\n",
       "      <td>NaN</td>\n",
       "      <td>NaN</td>\n",
       "      <td>NaN</td>\n",
       "      <td>NaN</td>\n",
       "      <td>NaN</td>\n",
       "      <td>NaN</td>\n",
       "      <td>NaN</td>\n",
       "    </tr>\n",
       "    <tr>\n",
       "      <th>17</th>\n",
       "      <td>NaN</td>\n",
       "      <td>NaN</td>\n",
       "      <td>NaN</td>\n",
       "      <td>NaN</td>\n",
       "      <td>NaN</td>\n",
       "      <td>NaN</td>\n",
       "      <td>NaN</td>\n",
       "      <td>NaN</td>\n",
       "      <td>NaN</td>\n",
       "      <td>NaN</td>\n",
       "      <td>...</td>\n",
       "      <td>NaN</td>\n",
       "      <td>NaN</td>\n",
       "      <td>NaN</td>\n",
       "      <td>NaN</td>\n",
       "      <td>NaN</td>\n",
       "      <td>NaN</td>\n",
       "      <td>NaN</td>\n",
       "      <td>NaN</td>\n",
       "      <td>NaN</td>\n",
       "      <td>NaN</td>\n",
       "    </tr>\n",
       "    <tr>\n",
       "      <th>19</th>\n",
       "      <td>NaN</td>\n",
       "      <td>1.0</td>\n",
       "      <td>NaN</td>\n",
       "      <td>NaN</td>\n",
       "      <td>NaN</td>\n",
       "      <td>NaN</td>\n",
       "      <td>NaN</td>\n",
       "      <td>NaN</td>\n",
       "      <td>NaN</td>\n",
       "      <td>NaN</td>\n",
       "      <td>...</td>\n",
       "      <td>NaN</td>\n",
       "      <td>NaN</td>\n",
       "      <td>NaN</td>\n",
       "      <td>NaN</td>\n",
       "      <td>NaN</td>\n",
       "      <td>NaN</td>\n",
       "      <td>NaN</td>\n",
       "      <td>NaN</td>\n",
       "      <td>NaN</td>\n",
       "      <td>NaN</td>\n",
       "    </tr>\n",
       "    <tr>\n",
       "      <th>20</th>\n",
       "      <td>NaN</td>\n",
       "      <td>NaN</td>\n",
       "      <td>NaN</td>\n",
       "      <td>NaN</td>\n",
       "      <td>NaN</td>\n",
       "      <td>NaN</td>\n",
       "      <td>NaN</td>\n",
       "      <td>NaN</td>\n",
       "      <td>NaN</td>\n",
       "      <td>NaN</td>\n",
       "      <td>...</td>\n",
       "      <td>NaN</td>\n",
       "      <td>NaN</td>\n",
       "      <td>2.0</td>\n",
       "      <td>NaN</td>\n",
       "      <td>NaN</td>\n",
       "      <td>NaN</td>\n",
       "      <td>NaN</td>\n",
       "      <td>NaN</td>\n",
       "      <td>NaN</td>\n",
       "      <td>NaN</td>\n",
       "    </tr>\n",
       "    <tr>\n",
       "      <th>23</th>\n",
       "      <td>NaN</td>\n",
       "      <td>NaN</td>\n",
       "      <td>NaN</td>\n",
       "      <td>NaN</td>\n",
       "      <td>NaN</td>\n",
       "      <td>NaN</td>\n",
       "      <td>NaN</td>\n",
       "      <td>NaN</td>\n",
       "      <td>NaN</td>\n",
       "      <td>NaN</td>\n",
       "      <td>...</td>\n",
       "      <td>NaN</td>\n",
       "      <td>NaN</td>\n",
       "      <td>NaN</td>\n",
       "      <td>NaN</td>\n",
       "      <td>NaN</td>\n",
       "      <td>NaN</td>\n",
       "      <td>NaN</td>\n",
       "      <td>NaN</td>\n",
       "      <td>NaN</td>\n",
       "      <td>NaN</td>\n",
       "    </tr>\n",
       "    <tr>\n",
       "      <th>25</th>\n",
       "      <td>NaN</td>\n",
       "      <td>NaN</td>\n",
       "      <td>NaN</td>\n",
       "      <td>NaN</td>\n",
       "      <td>NaN</td>\n",
       "      <td>NaN</td>\n",
       "      <td>NaN</td>\n",
       "      <td>NaN</td>\n",
       "      <td>NaN</td>\n",
       "      <td>NaN</td>\n",
       "      <td>...</td>\n",
       "      <td>NaN</td>\n",
       "      <td>NaN</td>\n",
       "      <td>NaN</td>\n",
       "      <td>NaN</td>\n",
       "      <td>NaN</td>\n",
       "      <td>NaN</td>\n",
       "      <td>NaN</td>\n",
       "      <td>NaN</td>\n",
       "      <td>NaN</td>\n",
       "      <td>NaN</td>\n",
       "    </tr>\n",
       "    <tr>\n",
       "      <th>26</th>\n",
       "      <td>NaN</td>\n",
       "      <td>NaN</td>\n",
       "      <td>NaN</td>\n",
       "      <td>NaN</td>\n",
       "      <td>NaN</td>\n",
       "      <td>NaN</td>\n",
       "      <td>NaN</td>\n",
       "      <td>NaN</td>\n",
       "      <td>NaN</td>\n",
       "      <td>NaN</td>\n",
       "      <td>...</td>\n",
       "      <td>NaN</td>\n",
       "      <td>NaN</td>\n",
       "      <td>NaN</td>\n",
       "      <td>NaN</td>\n",
       "      <td>NaN</td>\n",
       "      <td>NaN</td>\n",
       "      <td>NaN</td>\n",
       "      <td>NaN</td>\n",
       "      <td>NaN</td>\n",
       "      <td>NaN</td>\n",
       "    </tr>\n",
       "    <tr>\n",
       "      <th>28</th>\n",
       "      <td>NaN</td>\n",
       "      <td>NaN</td>\n",
       "      <td>NaN</td>\n",
       "      <td>2.0</td>\n",
       "      <td>NaN</td>\n",
       "      <td>NaN</td>\n",
       "      <td>NaN</td>\n",
       "      <td>NaN</td>\n",
       "      <td>NaN</td>\n",
       "      <td>NaN</td>\n",
       "      <td>...</td>\n",
       "      <td>NaN</td>\n",
       "      <td>NaN</td>\n",
       "      <td>NaN</td>\n",
       "      <td>NaN</td>\n",
       "      <td>NaN</td>\n",
       "      <td>NaN</td>\n",
       "      <td>NaN</td>\n",
       "      <td>NaN</td>\n",
       "      <td>NaN</td>\n",
       "      <td>NaN</td>\n",
       "    </tr>\n",
       "    <tr>\n",
       "      <th>29</th>\n",
       "      <td>NaN</td>\n",
       "      <td>NaN</td>\n",
       "      <td>NaN</td>\n",
       "      <td>NaN</td>\n",
       "      <td>NaN</td>\n",
       "      <td>NaN</td>\n",
       "      <td>NaN</td>\n",
       "      <td>NaN</td>\n",
       "      <td>NaN</td>\n",
       "      <td>NaN</td>\n",
       "      <td>...</td>\n",
       "      <td>NaN</td>\n",
       "      <td>NaN</td>\n",
       "      <td>NaN</td>\n",
       "      <td>NaN</td>\n",
       "      <td>NaN</td>\n",
       "      <td>NaN</td>\n",
       "      <td>NaN</td>\n",
       "      <td>NaN</td>\n",
       "      <td>NaN</td>\n",
       "      <td>NaN</td>\n",
       "    </tr>\n",
       "    <tr>\n",
       "      <th>30</th>\n",
       "      <td>NaN</td>\n",
       "      <td>NaN</td>\n",
       "      <td>NaN</td>\n",
       "      <td>NaN</td>\n",
       "      <td>NaN</td>\n",
       "      <td>NaN</td>\n",
       "      <td>NaN</td>\n",
       "      <td>NaN</td>\n",
       "      <td>NaN</td>\n",
       "      <td>NaN</td>\n",
       "      <td>...</td>\n",
       "      <td>NaN</td>\n",
       "      <td>NaN</td>\n",
       "      <td>NaN</td>\n",
       "      <td>NaN</td>\n",
       "      <td>NaN</td>\n",
       "      <td>NaN</td>\n",
       "      <td>NaN</td>\n",
       "      <td>NaN</td>\n",
       "      <td>NaN</td>\n",
       "      <td>NaN</td>\n",
       "    </tr>\n",
       "    <tr>\n",
       "      <th>31</th>\n",
       "      <td>NaN</td>\n",
       "      <td>NaN</td>\n",
       "      <td>NaN</td>\n",
       "      <td>1.0</td>\n",
       "      <td>NaN</td>\n",
       "      <td>NaN</td>\n",
       "      <td>NaN</td>\n",
       "      <td>NaN</td>\n",
       "      <td>NaN</td>\n",
       "      <td>NaN</td>\n",
       "      <td>...</td>\n",
       "      <td>NaN</td>\n",
       "      <td>NaN</td>\n",
       "      <td>NaN</td>\n",
       "      <td>NaN</td>\n",
       "      <td>NaN</td>\n",
       "      <td>NaN</td>\n",
       "      <td>NaN</td>\n",
       "      <td>NaN</td>\n",
       "      <td>NaN</td>\n",
       "      <td>NaN</td>\n",
       "    </tr>\n",
       "    <tr>\n",
       "      <th>32</th>\n",
       "      <td>NaN</td>\n",
       "      <td>NaN</td>\n",
       "      <td>NaN</td>\n",
       "      <td>NaN</td>\n",
       "      <td>NaN</td>\n",
       "      <td>NaN</td>\n",
       "      <td>NaN</td>\n",
       "      <td>NaN</td>\n",
       "      <td>NaN</td>\n",
       "      <td>NaN</td>\n",
       "      <td>...</td>\n",
       "      <td>NaN</td>\n",
       "      <td>NaN</td>\n",
       "      <td>NaN</td>\n",
       "      <td>NaN</td>\n",
       "      <td>NaN</td>\n",
       "      <td>NaN</td>\n",
       "      <td>NaN</td>\n",
       "      <td>NaN</td>\n",
       "      <td>NaN</td>\n",
       "      <td>NaN</td>\n",
       "    </tr>\n",
       "    <tr>\n",
       "      <th>33</th>\n",
       "      <td>NaN</td>\n",
       "      <td>NaN</td>\n",
       "      <td>NaN</td>\n",
       "      <td>NaN</td>\n",
       "      <td>NaN</td>\n",
       "      <td>NaN</td>\n",
       "      <td>NaN</td>\n",
       "      <td>NaN</td>\n",
       "      <td>NaN</td>\n",
       "      <td>NaN</td>\n",
       "      <td>...</td>\n",
       "      <td>NaN</td>\n",
       "      <td>NaN</td>\n",
       "      <td>NaN</td>\n",
       "      <td>NaN</td>\n",
       "      <td>NaN</td>\n",
       "      <td>NaN</td>\n",
       "      <td>NaN</td>\n",
       "      <td>NaN</td>\n",
       "      <td>NaN</td>\n",
       "      <td>NaN</td>\n",
       "    </tr>\n",
       "  </tbody>\n",
       "</table>\n",
       "<p>20 rows × 67 columns</p>\n",
       "</div>"
      ],
      "text/plain": [
       "DepartmentDescription  1-HR PHOTO  ACCESSORIES  AUTOMOTIVE  BAKERY  \\\n",
       "VisitNumber                                                          \n",
       "5                             NaN          NaN         NaN     NaN   \n",
       "7                             NaN          NaN         NaN     NaN   \n",
       "8                             NaN          NaN         NaN     NaN   \n",
       "9                             NaN          NaN         NaN     NaN   \n",
       "10                            NaN          NaN         NaN     NaN   \n",
       "11                            NaN          NaN         NaN     NaN   \n",
       "12                            NaN          NaN         NaN     NaN   \n",
       "15                            NaN          NaN         NaN     NaN   \n",
       "17                            NaN          NaN         NaN     NaN   \n",
       "19                            NaN          1.0         NaN     NaN   \n",
       "20                            NaN          NaN         NaN     NaN   \n",
       "23                            NaN          NaN         NaN     NaN   \n",
       "25                            NaN          NaN         NaN     NaN   \n",
       "26                            NaN          NaN         NaN     NaN   \n",
       "28                            NaN          NaN         NaN     2.0   \n",
       "29                            NaN          NaN         NaN     NaN   \n",
       "30                            NaN          NaN         NaN     NaN   \n",
       "31                            NaN          NaN         NaN     1.0   \n",
       "32                            NaN          NaN         NaN     NaN   \n",
       "33                            NaN          NaN         NaN     NaN   \n",
       "\n",
       "DepartmentDescription  BATH AND SHOWER  BEAUTY  BEDDING  BOOKS AND MAGAZINES  \\\n",
       "VisitNumber                                                                    \n",
       "5                                  NaN     NaN      NaN                  NaN   \n",
       "7                                  NaN     NaN      NaN                  NaN   \n",
       "8                                  NaN     NaN      NaN                  NaN   \n",
       "9                                  NaN     NaN      NaN                  NaN   \n",
       "10                                 NaN     NaN      NaN                  NaN   \n",
       "11                                 NaN     NaN      NaN                  NaN   \n",
       "12                                 NaN     NaN      NaN                  NaN   \n",
       "15                                 NaN     NaN      NaN                  NaN   \n",
       "17                                 NaN     NaN      NaN                  NaN   \n",
       "19                                 NaN     NaN      NaN                  NaN   \n",
       "20                                 NaN     NaN      NaN                  NaN   \n",
       "23                                 NaN     NaN      NaN                  NaN   \n",
       "25                                 NaN     NaN      NaN                  NaN   \n",
       "26                                 NaN     NaN      NaN                  NaN   \n",
       "28                                 NaN     NaN      NaN                  NaN   \n",
       "29                                 NaN     NaN      NaN                  NaN   \n",
       "30                                 NaN     NaN      NaN                  NaN   \n",
       "31                                 NaN     NaN      NaN                  NaN   \n",
       "32                                 NaN     NaN      NaN                  NaN   \n",
       "33                                 NaN     NaN      NaN                  NaN   \n",
       "\n",
       "DepartmentDescription  BOYS WEAR  BRAS & SHAPEWEAR  ...  SEAFOOD  SEASONAL  \\\n",
       "VisitNumber                                         ...                      \n",
       "5                            NaN               NaN  ...      NaN       NaN   \n",
       "7                            NaN               NaN  ...      NaN       NaN   \n",
       "8                            NaN               NaN  ...      NaN       NaN   \n",
       "9                            NaN               NaN  ...      NaN       NaN   \n",
       "10                           NaN               NaN  ...      NaN       NaN   \n",
       "11                           NaN               NaN  ...      NaN       NaN   \n",
       "12                           2.0               NaN  ...      NaN       NaN   \n",
       "15                           NaN               NaN  ...      NaN       NaN   \n",
       "17                           NaN               NaN  ...      NaN       NaN   \n",
       "19                           NaN               NaN  ...      NaN       NaN   \n",
       "20                           NaN               NaN  ...      NaN       NaN   \n",
       "23                           NaN               NaN  ...      NaN       NaN   \n",
       "25                           NaN               NaN  ...      NaN       NaN   \n",
       "26                           NaN               NaN  ...      NaN       NaN   \n",
       "28                           NaN               NaN  ...      NaN       NaN   \n",
       "29                           NaN               NaN  ...      NaN       NaN   \n",
       "30                           NaN               NaN  ...      NaN       NaN   \n",
       "31                           NaN               NaN  ...      NaN       NaN   \n",
       "32                           NaN               NaN  ...      NaN       NaN   \n",
       "33                           NaN               NaN  ...      NaN       NaN   \n",
       "\n",
       "DepartmentDescription  SERVICE DELI  SHEER HOSIERY  SHOES  \\\n",
       "VisitNumber                                                 \n",
       "5                               NaN            NaN    NaN   \n",
       "7                               NaN            NaN    1.0   \n",
       "8                               NaN            NaN    NaN   \n",
       "9                               NaN            NaN    NaN   \n",
       "10                              NaN            NaN    NaN   \n",
       "11                              NaN            NaN    NaN   \n",
       "12                              NaN            NaN    1.0   \n",
       "15                              NaN            NaN    NaN   \n",
       "17                              NaN            NaN    NaN   \n",
       "19                              NaN            NaN    NaN   \n",
       "20                              2.0            NaN    NaN   \n",
       "23                              NaN            NaN    NaN   \n",
       "25                              NaN            NaN    NaN   \n",
       "26                              NaN            NaN    NaN   \n",
       "28                              NaN            NaN    NaN   \n",
       "29                              NaN            NaN    NaN   \n",
       "30                              NaN            NaN    NaN   \n",
       "31                              NaN            NaN    NaN   \n",
       "32                              NaN            NaN    NaN   \n",
       "33                              NaN            NaN    NaN   \n",
       "\n",
       "DepartmentDescription  SLEEPWEAR/FOUNDATIONS  SPORTING GOODS  \\\n",
       "VisitNumber                                                    \n",
       "5                                        NaN             NaN   \n",
       "7                                        NaN             NaN   \n",
       "8                                        NaN             NaN   \n",
       "9                                        NaN             NaN   \n",
       "10                                       NaN             NaN   \n",
       "11                                       NaN             NaN   \n",
       "12                                       NaN             NaN   \n",
       "15                                       NaN             NaN   \n",
       "17                                       NaN             NaN   \n",
       "19                                       NaN             NaN   \n",
       "20                                       NaN             NaN   \n",
       "23                                       NaN             NaN   \n",
       "25                                       NaN             NaN   \n",
       "26                                       NaN             NaN   \n",
       "28                                       NaN             NaN   \n",
       "29                                       NaN             NaN   \n",
       "30                                       NaN             NaN   \n",
       "31                                       NaN             NaN   \n",
       "32                                       NaN             NaN   \n",
       "33                                       NaN             NaN   \n",
       "\n",
       "DepartmentDescription  SWIMWEAR/OUTERWEAR  TOYS  WIRELESS  \n",
       "VisitNumber                                                \n",
       "5                                     NaN   NaN       NaN  \n",
       "7                                     NaN   NaN       NaN  \n",
       "8                                     NaN   NaN       NaN  \n",
       "9                                     NaN   NaN       NaN  \n",
       "10                                    NaN   NaN       NaN  \n",
       "11                                    NaN   NaN       NaN  \n",
       "12                                    NaN   NaN       NaN  \n",
       "15                                    NaN   NaN       NaN  \n",
       "17                                    NaN   NaN       NaN  \n",
       "19                                    NaN   NaN       NaN  \n",
       "20                                    NaN   NaN       NaN  \n",
       "23                                    NaN   NaN       NaN  \n",
       "25                                    NaN   NaN       NaN  \n",
       "26                                    NaN   NaN       NaN  \n",
       "28                                    NaN   NaN       NaN  \n",
       "29                                    NaN   NaN       NaN  \n",
       "30                                    NaN   NaN       NaN  \n",
       "31                                    NaN   NaN       NaN  \n",
       "32                                    NaN   NaN       NaN  \n",
       "33                                    NaN   NaN       NaN  \n",
       "\n",
       "[20 rows x 67 columns]"
      ]
     },
     "execution_count": 5,
     "metadata": {},
     "output_type": "execute_result"
    }
   ],
   "source": [
    "pd.pivot_table(df_train, \n",
    "               index = 'VisitNumber', \n",
    "               columns = 'DepartmentDescription', \n",
    "               values = 'ScanCount', \n",
    "               aggfunc = 'sum').head(20)"
   ]
  },
  {
   "cell_type": "markdown",
   "metadata": {},
   "source": [
    "We see a bunch of nans in case a visit didn't buy products from a certain department. We should replace these nans by 0. You should also do the same thing with the validation and test datasets."
   ]
  },
  {
   "cell_type": "code",
   "execution_count": 6,
   "metadata": {},
   "outputs": [],
   "source": [
    "df_train_f1 = pd.pivot_table(df_train, \n",
    "                             index='VisitNumber', \n",
    "                             columns='DepartmentDescription', \n",
    "                             values='ScanCount', \n",
    "                             aggfunc='sum').fillna(0)\n",
    "\n",
    "df_val_f1 = pd.pivot_table(df_val, \n",
    "                           index='VisitNumber', \n",
    "                           columns='DepartmentDescription', \n",
    "                           values='ScanCount', \n",
    "                           aggfunc='sum').fillna(0)\n",
    "\n",
    "df_test_f1 = pd.pivot_table(df_test,\n",
    "                            index='VisitNumber',\n",
    "                            columns='DepartmentDescription', \n",
    "                            values='ScanCount', \n",
    "                            aggfunc='sum').fillna(0)"
   ]
  },
  {
   "cell_type": "code",
   "execution_count": 7,
   "metadata": {},
   "outputs": [
    {
     "data": {
      "text/html": [
       "<div>\n",
       "<style scoped>\n",
       "    .dataframe tbody tr th:only-of-type {\n",
       "        vertical-align: middle;\n",
       "    }\n",
       "\n",
       "    .dataframe tbody tr th {\n",
       "        vertical-align: top;\n",
       "    }\n",
       "\n",
       "    .dataframe thead th {\n",
       "        text-align: right;\n",
       "    }\n",
       "</style>\n",
       "<table border=\"1\" class=\"dataframe\">\n",
       "  <thead>\n",
       "    <tr style=\"text-align: right;\">\n",
       "      <th>DepartmentDescription</th>\n",
       "      <th>1-HR PHOTO</th>\n",
       "      <th>ACCESSORIES</th>\n",
       "      <th>AUTOMOTIVE</th>\n",
       "      <th>BAKERY</th>\n",
       "      <th>BATH AND SHOWER</th>\n",
       "      <th>BEAUTY</th>\n",
       "      <th>BEDDING</th>\n",
       "      <th>BOOKS AND MAGAZINES</th>\n",
       "      <th>BOYS WEAR</th>\n",
       "      <th>BRAS &amp; SHAPEWEAR</th>\n",
       "      <th>...</th>\n",
       "      <th>SEAFOOD</th>\n",
       "      <th>SEASONAL</th>\n",
       "      <th>SERVICE DELI</th>\n",
       "      <th>SHEER HOSIERY</th>\n",
       "      <th>SHOES</th>\n",
       "      <th>SLEEPWEAR/FOUNDATIONS</th>\n",
       "      <th>SPORTING GOODS</th>\n",
       "      <th>SWIMWEAR/OUTERWEAR</th>\n",
       "      <th>TOYS</th>\n",
       "      <th>WIRELESS</th>\n",
       "    </tr>\n",
       "    <tr>\n",
       "      <th>VisitNumber</th>\n",
       "      <th></th>\n",
       "      <th></th>\n",
       "      <th></th>\n",
       "      <th></th>\n",
       "      <th></th>\n",
       "      <th></th>\n",
       "      <th></th>\n",
       "      <th></th>\n",
       "      <th></th>\n",
       "      <th></th>\n",
       "      <th></th>\n",
       "      <th></th>\n",
       "      <th></th>\n",
       "      <th></th>\n",
       "      <th></th>\n",
       "      <th></th>\n",
       "      <th></th>\n",
       "      <th></th>\n",
       "      <th></th>\n",
       "      <th></th>\n",
       "      <th></th>\n",
       "    </tr>\n",
       "  </thead>\n",
       "  <tbody>\n",
       "    <tr>\n",
       "      <th>5</th>\n",
       "      <td>0.0</td>\n",
       "      <td>0.0</td>\n",
       "      <td>0.0</td>\n",
       "      <td>0.0</td>\n",
       "      <td>0.0</td>\n",
       "      <td>0.0</td>\n",
       "      <td>0.0</td>\n",
       "      <td>0.0</td>\n",
       "      <td>0.0</td>\n",
       "      <td>0.0</td>\n",
       "      <td>...</td>\n",
       "      <td>0.0</td>\n",
       "      <td>0.0</td>\n",
       "      <td>0.0</td>\n",
       "      <td>0.0</td>\n",
       "      <td>0.0</td>\n",
       "      <td>0.0</td>\n",
       "      <td>0.0</td>\n",
       "      <td>0.0</td>\n",
       "      <td>0.0</td>\n",
       "      <td>0.0</td>\n",
       "    </tr>\n",
       "    <tr>\n",
       "      <th>7</th>\n",
       "      <td>0.0</td>\n",
       "      <td>0.0</td>\n",
       "      <td>0.0</td>\n",
       "      <td>0.0</td>\n",
       "      <td>0.0</td>\n",
       "      <td>0.0</td>\n",
       "      <td>0.0</td>\n",
       "      <td>0.0</td>\n",
       "      <td>0.0</td>\n",
       "      <td>0.0</td>\n",
       "      <td>...</td>\n",
       "      <td>0.0</td>\n",
       "      <td>0.0</td>\n",
       "      <td>0.0</td>\n",
       "      <td>0.0</td>\n",
       "      <td>1.0</td>\n",
       "      <td>0.0</td>\n",
       "      <td>0.0</td>\n",
       "      <td>0.0</td>\n",
       "      <td>0.0</td>\n",
       "      <td>0.0</td>\n",
       "    </tr>\n",
       "  </tbody>\n",
       "</table>\n",
       "<p>2 rows × 67 columns</p>\n",
       "</div>"
      ],
      "text/plain": [
       "DepartmentDescription  1-HR PHOTO  ACCESSORIES  AUTOMOTIVE  BAKERY  \\\n",
       "VisitNumber                                                          \n",
       "5                             0.0          0.0         0.0     0.0   \n",
       "7                             0.0          0.0         0.0     0.0   \n",
       "\n",
       "DepartmentDescription  BATH AND SHOWER  BEAUTY  BEDDING  BOOKS AND MAGAZINES  \\\n",
       "VisitNumber                                                                    \n",
       "5                                  0.0     0.0      0.0                  0.0   \n",
       "7                                  0.0     0.0      0.0                  0.0   \n",
       "\n",
       "DepartmentDescription  BOYS WEAR  BRAS & SHAPEWEAR  ...  SEAFOOD  SEASONAL  \\\n",
       "VisitNumber                                         ...                      \n",
       "5                            0.0               0.0  ...      0.0       0.0   \n",
       "7                            0.0               0.0  ...      0.0       0.0   \n",
       "\n",
       "DepartmentDescription  SERVICE DELI  SHEER HOSIERY  SHOES  \\\n",
       "VisitNumber                                                 \n",
       "5                               0.0            0.0    0.0   \n",
       "7                               0.0            0.0    1.0   \n",
       "\n",
       "DepartmentDescription  SLEEPWEAR/FOUNDATIONS  SPORTING GOODS  \\\n",
       "VisitNumber                                                    \n",
       "5                                        0.0             0.0   \n",
       "7                                        0.0             0.0   \n",
       "\n",
       "DepartmentDescription  SWIMWEAR/OUTERWEAR  TOYS  WIRELESS  \n",
       "VisitNumber                                                \n",
       "5                                     0.0   0.0       0.0  \n",
       "7                                     0.0   0.0       0.0  \n",
       "\n",
       "[2 rows x 67 columns]"
      ]
     },
     "execution_count": 7,
     "metadata": {},
     "output_type": "execute_result"
    }
   ],
   "source": [
    "df_train_f1.head(2)"
   ]
  },
  {
   "cell_type": "markdown",
   "metadata": {},
   "source": [
    "It is always a good idea to check if these numbers are sensible. As a data scientist, it is good to be extremely skeptical of procedures where a lot of data is being transformed into a lot of some other data without fine-grained checks. \n",
    "\n",
    "**Question**: Can you think of some checks to do on df_train_f1 and df_train to ensure the correct thing is being done."
   ]
  },
  {
   "cell_type": "code",
   "execution_count": 8,
   "metadata": {},
   "outputs": [
    {
     "name": "stdout",
     "output_type": "stream",
     "text": [
      "2.0\n",
      "2\n"
     ]
    }
   ],
   "source": [
    "visit_number = 7\n",
    "\n",
    "print(df_train_f1.loc[visit_number].sum())\n",
    "print(df_train[df_train['VisitNumber']==visit_number]['ScanCount'].sum())"
   ]
  },
  {
   "cell_type": "code",
   "execution_count": 9,
   "metadata": {},
   "outputs": [
    {
     "data": {
      "text/plain": [
       "VisitNumber\n",
       "5     -1.0\n",
       "7      2.0\n",
       "8     27.0\n",
       "9      3.0\n",
       "10     3.0\n",
       "dtype: float64"
      ]
     },
     "execution_count": 9,
     "metadata": {},
     "output_type": "execute_result"
    }
   ],
   "source": [
    "df_train_f1.sum(axis=1).head()"
   ]
  },
  {
   "cell_type": "code",
   "execution_count": 10,
   "metadata": {},
   "outputs": [
    {
     "data": {
      "text/html": [
       "<div>\n",
       "<style scoped>\n",
       "    .dataframe tbody tr th:only-of-type {\n",
       "        vertical-align: middle;\n",
       "    }\n",
       "\n",
       "    .dataframe tbody tr th {\n",
       "        vertical-align: top;\n",
       "    }\n",
       "\n",
       "    .dataframe thead th {\n",
       "        text-align: right;\n",
       "    }\n",
       "</style>\n",
       "<table border=\"1\" class=\"dataframe\">\n",
       "  <thead>\n",
       "    <tr style=\"text-align: right;\">\n",
       "      <th></th>\n",
       "      <th>ScanCount</th>\n",
       "    </tr>\n",
       "    <tr>\n",
       "      <th>VisitNumber</th>\n",
       "      <th></th>\n",
       "    </tr>\n",
       "  </thead>\n",
       "  <tbody>\n",
       "    <tr>\n",
       "      <th>5</th>\n",
       "      <td>-1</td>\n",
       "    </tr>\n",
       "    <tr>\n",
       "      <th>7</th>\n",
       "      <td>2</td>\n",
       "    </tr>\n",
       "    <tr>\n",
       "      <th>8</th>\n",
       "      <td>28</td>\n",
       "    </tr>\n",
       "    <tr>\n",
       "      <th>9</th>\n",
       "      <td>3</td>\n",
       "    </tr>\n",
       "    <tr>\n",
       "      <th>10</th>\n",
       "      <td>3</td>\n",
       "    </tr>\n",
       "  </tbody>\n",
       "</table>\n",
       "</div>"
      ],
      "text/plain": [
       "             ScanCount\n",
       "VisitNumber           \n",
       "5                   -1\n",
       "7                    2\n",
       "8                   28\n",
       "9                    3\n",
       "10                   3"
      ]
     },
     "execution_count": 10,
     "metadata": {},
     "output_type": "execute_result"
    }
   ],
   "source": [
    "df_train.groupby('VisitNumber').agg({'ScanCount': np.sum}).head()"
   ]
  },
  {
   "cell_type": "code",
   "execution_count": 11,
   "metadata": {},
   "outputs": [
    {
     "data": {
      "text/plain": [
       "-935.0"
      ]
     },
     "execution_count": 11,
     "metadata": {},
     "output_type": "execute_result"
    }
   ],
   "source": [
    "(df_train_f1.sum(axis=1) - df_train.groupby('VisitNumber').agg({'ScanCount': np.sum})['ScanCount']).sum()"
   ]
  },
  {
   "cell_type": "markdown",
   "metadata": {},
   "source": [
    "There is a discrepancy for visit number 8. Let's check why."
   ]
  },
  {
   "cell_type": "code",
   "execution_count": 12,
   "metadata": {},
   "outputs": [
    {
     "data": {
      "text/html": [
       "<div>\n",
       "<style scoped>\n",
       "    .dataframe tbody tr th:only-of-type {\n",
       "        vertical-align: middle;\n",
       "    }\n",
       "\n",
       "    .dataframe tbody tr th {\n",
       "        vertical-align: top;\n",
       "    }\n",
       "\n",
       "    .dataframe thead th {\n",
       "        text-align: right;\n",
       "    }\n",
       "</style>\n",
       "<table border=\"1\" class=\"dataframe\">\n",
       "  <thead>\n",
       "    <tr style=\"text-align: right;\">\n",
       "      <th></th>\n",
       "      <th>TripType</th>\n",
       "      <th>VisitNumber</th>\n",
       "      <th>Weekday</th>\n",
       "      <th>Upc</th>\n",
       "      <th>ScanCount</th>\n",
       "      <th>DepartmentDescription</th>\n",
       "      <th>FinelineNumber</th>\n",
       "    </tr>\n",
       "  </thead>\n",
       "  <tbody>\n",
       "    <tr>\n",
       "      <th>3</th>\n",
       "      <td>26</td>\n",
       "      <td>8</td>\n",
       "      <td>Friday</td>\n",
       "      <td>2.238404e+09</td>\n",
       "      <td>2</td>\n",
       "      <td>PAINT AND ACCESSORIES</td>\n",
       "      <td>3565.0</td>\n",
       "    </tr>\n",
       "    <tr>\n",
       "      <th>4</th>\n",
       "      <td>26</td>\n",
       "      <td>8</td>\n",
       "      <td>Friday</td>\n",
       "      <td>2.006614e+09</td>\n",
       "      <td>2</td>\n",
       "      <td>PAINT AND ACCESSORIES</td>\n",
       "      <td>1017.0</td>\n",
       "    </tr>\n",
       "    <tr>\n",
       "      <th>5</th>\n",
       "      <td>26</td>\n",
       "      <td>8</td>\n",
       "      <td>Friday</td>\n",
       "      <td>2.006619e+09</td>\n",
       "      <td>2</td>\n",
       "      <td>PAINT AND ACCESSORIES</td>\n",
       "      <td>1017.0</td>\n",
       "    </tr>\n",
       "    <tr>\n",
       "      <th>6</th>\n",
       "      <td>26</td>\n",
       "      <td>8</td>\n",
       "      <td>Friday</td>\n",
       "      <td>2.006614e+09</td>\n",
       "      <td>1</td>\n",
       "      <td>PAINT AND ACCESSORIES</td>\n",
       "      <td>1017.0</td>\n",
       "    </tr>\n",
       "    <tr>\n",
       "      <th>7</th>\n",
       "      <td>26</td>\n",
       "      <td>8</td>\n",
       "      <td>Friday</td>\n",
       "      <td>7.004803e+09</td>\n",
       "      <td>1</td>\n",
       "      <td>PAINT AND ACCESSORIES</td>\n",
       "      <td>2802.0</td>\n",
       "    </tr>\n",
       "    <tr>\n",
       "      <th>8</th>\n",
       "      <td>26</td>\n",
       "      <td>8</td>\n",
       "      <td>Friday</td>\n",
       "      <td>2.238495e+09</td>\n",
       "      <td>1</td>\n",
       "      <td>PAINT AND ACCESSORIES</td>\n",
       "      <td>4501.0</td>\n",
       "    </tr>\n",
       "    <tr>\n",
       "      <th>9</th>\n",
       "      <td>26</td>\n",
       "      <td>8</td>\n",
       "      <td>Friday</td>\n",
       "      <td>2.238400e+09</td>\n",
       "      <td>-1</td>\n",
       "      <td>PAINT AND ACCESSORIES</td>\n",
       "      <td>3565.0</td>\n",
       "    </tr>\n",
       "    <tr>\n",
       "      <th>10</th>\n",
       "      <td>26</td>\n",
       "      <td>8</td>\n",
       "      <td>Friday</td>\n",
       "      <td>5.200010e+09</td>\n",
       "      <td>1</td>\n",
       "      <td>DSD GROCERY</td>\n",
       "      <td>4606.0</td>\n",
       "    </tr>\n",
       "    <tr>\n",
       "      <th>11</th>\n",
       "      <td>26</td>\n",
       "      <td>8</td>\n",
       "      <td>Friday</td>\n",
       "      <td>8.867930e+10</td>\n",
       "      <td>2</td>\n",
       "      <td>PAINT AND ACCESSORIES</td>\n",
       "      <td>3504.0</td>\n",
       "    </tr>\n",
       "    <tr>\n",
       "      <th>12</th>\n",
       "      <td>26</td>\n",
       "      <td>8</td>\n",
       "      <td>Friday</td>\n",
       "      <td>2.200600e+10</td>\n",
       "      <td>1</td>\n",
       "      <td>MEAT - FRESH &amp; FROZEN</td>\n",
       "      <td>6009.0</td>\n",
       "    </tr>\n",
       "    <tr>\n",
       "      <th>13</th>\n",
       "      <td>26</td>\n",
       "      <td>8</td>\n",
       "      <td>Friday</td>\n",
       "      <td>2.236760e+09</td>\n",
       "      <td>1</td>\n",
       "      <td>PAINT AND ACCESSORIES</td>\n",
       "      <td>7.0</td>\n",
       "    </tr>\n",
       "    <tr>\n",
       "      <th>14</th>\n",
       "      <td>26</td>\n",
       "      <td>8</td>\n",
       "      <td>Friday</td>\n",
       "      <td>8.867930e+10</td>\n",
       "      <td>-1</td>\n",
       "      <td>PAINT AND ACCESSORIES</td>\n",
       "      <td>3504.0</td>\n",
       "    </tr>\n",
       "    <tr>\n",
       "      <th>15</th>\n",
       "      <td>26</td>\n",
       "      <td>8</td>\n",
       "      <td>Friday</td>\n",
       "      <td>2.238400e+09</td>\n",
       "      <td>2</td>\n",
       "      <td>PAINT AND ACCESSORIES</td>\n",
       "      <td>3565.0</td>\n",
       "    </tr>\n",
       "    <tr>\n",
       "      <th>16</th>\n",
       "      <td>26</td>\n",
       "      <td>8</td>\n",
       "      <td>Friday</td>\n",
       "      <td>3.019294e+09</td>\n",
       "      <td>1</td>\n",
       "      <td>PAINT AND ACCESSORIES</td>\n",
       "      <td>2801.0</td>\n",
       "    </tr>\n",
       "    <tr>\n",
       "      <th>17</th>\n",
       "      <td>26</td>\n",
       "      <td>8</td>\n",
       "      <td>Friday</td>\n",
       "      <td>7.245041e+10</td>\n",
       "      <td>1</td>\n",
       "      <td>PAINT AND ACCESSORIES</td>\n",
       "      <td>1028.0</td>\n",
       "    </tr>\n",
       "    <tr>\n",
       "      <th>18</th>\n",
       "      <td>26</td>\n",
       "      <td>8</td>\n",
       "      <td>Friday</td>\n",
       "      <td>2.554150e+10</td>\n",
       "      <td>2</td>\n",
       "      <td>DAIRY</td>\n",
       "      <td>1305.0</td>\n",
       "    </tr>\n",
       "    <tr>\n",
       "      <th>19</th>\n",
       "      <td>26</td>\n",
       "      <td>8</td>\n",
       "      <td>Friday</td>\n",
       "      <td>2.310011e+09</td>\n",
       "      <td>1</td>\n",
       "      <td>PETS AND SUPPLIES</td>\n",
       "      <td>3300.0</td>\n",
       "    </tr>\n",
       "    <tr>\n",
       "      <th>20</th>\n",
       "      <td>26</td>\n",
       "      <td>8</td>\n",
       "      <td>Friday</td>\n",
       "      <td>7.245040e+10</td>\n",
       "      <td>2</td>\n",
       "      <td>PAINT AND ACCESSORIES</td>\n",
       "      <td>1018.0</td>\n",
       "    </tr>\n",
       "    <tr>\n",
       "      <th>21</th>\n",
       "      <td>26</td>\n",
       "      <td>8</td>\n",
       "      <td>Friday</td>\n",
       "      <td>7.874205e+09</td>\n",
       "      <td>1</td>\n",
       "      <td>HOUSEHOLD CHEMICALS/SUPP</td>\n",
       "      <td>707.0</td>\n",
       "    </tr>\n",
       "    <tr>\n",
       "      <th>22</th>\n",
       "      <td>26</td>\n",
       "      <td>8</td>\n",
       "      <td>Friday</td>\n",
       "      <td>5.114139e+09</td>\n",
       "      <td>1</td>\n",
       "      <td>PAINT AND ACCESSORIES</td>\n",
       "      <td>4415.0</td>\n",
       "    </tr>\n",
       "    <tr>\n",
       "      <th>23</th>\n",
       "      <td>26</td>\n",
       "      <td>8</td>\n",
       "      <td>Friday</td>\n",
       "      <td>5.114198e+09</td>\n",
       "      <td>1</td>\n",
       "      <td>PAINT AND ACCESSORIES</td>\n",
       "      <td>4415.0</td>\n",
       "    </tr>\n",
       "    <tr>\n",
       "      <th>24</th>\n",
       "      <td>26</td>\n",
       "      <td>8</td>\n",
       "      <td>Friday</td>\n",
       "      <td>3.270011e+09</td>\n",
       "      <td>3</td>\n",
       "      <td>PETS AND SUPPLIES</td>\n",
       "      <td>1001.0</td>\n",
       "    </tr>\n",
       "    <tr>\n",
       "      <th>25</th>\n",
       "      <td>26</td>\n",
       "      <td>8</td>\n",
       "      <td>Friday</td>\n",
       "      <td>NaN</td>\n",
       "      <td>1</td>\n",
       "      <td>None</td>\n",
       "      <td>NaN</td>\n",
       "    </tr>\n",
       "  </tbody>\n",
       "</table>\n",
       "</div>"
      ],
      "text/plain": [
       "    TripType  VisitNumber Weekday           Upc  ScanCount  \\\n",
       "3         26            8  Friday  2.238404e+09          2   \n",
       "4         26            8  Friday  2.006614e+09          2   \n",
       "5         26            8  Friday  2.006619e+09          2   \n",
       "6         26            8  Friday  2.006614e+09          1   \n",
       "7         26            8  Friday  7.004803e+09          1   \n",
       "8         26            8  Friday  2.238495e+09          1   \n",
       "9         26            8  Friday  2.238400e+09         -1   \n",
       "10        26            8  Friday  5.200010e+09          1   \n",
       "11        26            8  Friday  8.867930e+10          2   \n",
       "12        26            8  Friday  2.200600e+10          1   \n",
       "13        26            8  Friday  2.236760e+09          1   \n",
       "14        26            8  Friday  8.867930e+10         -1   \n",
       "15        26            8  Friday  2.238400e+09          2   \n",
       "16        26            8  Friday  3.019294e+09          1   \n",
       "17        26            8  Friday  7.245041e+10          1   \n",
       "18        26            8  Friday  2.554150e+10          2   \n",
       "19        26            8  Friday  2.310011e+09          1   \n",
       "20        26            8  Friday  7.245040e+10          2   \n",
       "21        26            8  Friday  7.874205e+09          1   \n",
       "22        26            8  Friday  5.114139e+09          1   \n",
       "23        26            8  Friday  5.114198e+09          1   \n",
       "24        26            8  Friday  3.270011e+09          3   \n",
       "25        26            8  Friday           NaN          1   \n",
       "\n",
       "       DepartmentDescription  FinelineNumber  \n",
       "3      PAINT AND ACCESSORIES          3565.0  \n",
       "4      PAINT AND ACCESSORIES          1017.0  \n",
       "5      PAINT AND ACCESSORIES          1017.0  \n",
       "6      PAINT AND ACCESSORIES          1017.0  \n",
       "7      PAINT AND ACCESSORIES          2802.0  \n",
       "8      PAINT AND ACCESSORIES          4501.0  \n",
       "9      PAINT AND ACCESSORIES          3565.0  \n",
       "10               DSD GROCERY          4606.0  \n",
       "11     PAINT AND ACCESSORIES          3504.0  \n",
       "12     MEAT - FRESH & FROZEN          6009.0  \n",
       "13     PAINT AND ACCESSORIES             7.0  \n",
       "14     PAINT AND ACCESSORIES          3504.0  \n",
       "15     PAINT AND ACCESSORIES          3565.0  \n",
       "16     PAINT AND ACCESSORIES          2801.0  \n",
       "17     PAINT AND ACCESSORIES          1028.0  \n",
       "18                     DAIRY          1305.0  \n",
       "19         PETS AND SUPPLIES          3300.0  \n",
       "20     PAINT AND ACCESSORIES          1018.0  \n",
       "21  HOUSEHOLD CHEMICALS/SUPP           707.0  \n",
       "22     PAINT AND ACCESSORIES          4415.0  \n",
       "23     PAINT AND ACCESSORIES          4415.0  \n",
       "24         PETS AND SUPPLIES          1001.0  \n",
       "25                      None             NaN  "
      ]
     },
     "execution_count": 12,
     "metadata": {},
     "output_type": "execute_result"
    }
   ],
   "source": [
    "df_train[df_train['VisitNumber']==8]"
   ]
  },
  {
   "cell_type": "markdown",
   "metadata": {},
   "source": [
    "Aha! we can immediately see what causes the discrepancy. We have NaNs in Upc and FinelineNumber. In other words, there are items that weren't classified correctly. Let's see how much of a problem this is."
   ]
  },
  {
   "cell_type": "code",
   "execution_count": 13,
   "metadata": {},
   "outputs": [
    {
     "name": "stdout",
     "output_type": "stream",
     "text": [
      "3362\n",
      "3362\n",
      "1139\n",
      "0\n"
     ]
    }
   ],
   "source": [
    "print(df_train['Upc'].isnull().sum(axis=0))\n",
    "print(df_train['FinelineNumber'].isnull().sum(axis=0))\n",
    "print(df_train['DepartmentDescription'].isnull().sum(axis=0))\n",
    "print(df_train[df_train['DepartmentDescription']==None].shape[0])"
   ]
  },
  {
   "cell_type": "code",
   "execution_count": 14,
   "metadata": {},
   "outputs": [
    {
     "data": {
      "text/plain": [
       "True"
      ]
     },
     "execution_count": 14,
     "metadata": {},
     "output_type": "execute_result"
    }
   ],
   "source": [
    "pd.isnull(df_train['DepartmentDescription'].loc[25])"
   ]
  },
  {
   "cell_type": "code",
   "execution_count": 15,
   "metadata": {},
   "outputs": [
    {
     "data": {
      "text/plain": [
       "0           FINANCIAL SERVICES\n",
       "1                        SHOES\n",
       "2                PERSONAL CARE\n",
       "3        PAINT AND ACCESSORIES\n",
       "4        PAINT AND ACCESSORIES\n",
       "5        PAINT AND ACCESSORIES\n",
       "6        PAINT AND ACCESSORIES\n",
       "7        PAINT AND ACCESSORIES\n",
       "8        PAINT AND ACCESSORIES\n",
       "9        PAINT AND ACCESSORIES\n",
       "10                 DSD GROCERY\n",
       "11       PAINT AND ACCESSORIES\n",
       "12       MEAT - FRESH & FROZEN\n",
       "13       PAINT AND ACCESSORIES\n",
       "14       PAINT AND ACCESSORIES\n",
       "15       PAINT AND ACCESSORIES\n",
       "16       PAINT AND ACCESSORIES\n",
       "17       PAINT AND ACCESSORIES\n",
       "18                       DAIRY\n",
       "19           PETS AND SUPPLIES\n",
       "20       PAINT AND ACCESSORIES\n",
       "21    HOUSEHOLD CHEMICALS/SUPP\n",
       "22       PAINT AND ACCESSORIES\n",
       "23       PAINT AND ACCESSORIES\n",
       "24           PETS AND SUPPLIES\n",
       "25                          10\n",
       "26         IMPULSE MERCHANDISE\n",
       "27                     PRODUCE\n",
       "28                     PRODUCE\n",
       "29                 DSD GROCERY\n",
       "Name: DepartmentDescription, dtype: object"
      ]
     },
     "execution_count": 15,
     "metadata": {},
     "output_type": "execute_result"
    }
   ],
   "source": [
    "#Understanding if \"None\" is same as na (it is - see documentation for pd.isnull)\n",
    "df_train['DepartmentDescription'].head(30).fillna(10)"
   ]
  },
  {
   "cell_type": "markdown",
   "metadata": {},
   "source": [
    "We could fill nulls with the value 0 (for convenience). Let's ensure none of the existing columns have 0s so we don't merge value = 0 with null values"
   ]
  },
  {
   "cell_type": "code",
   "execution_count": 16,
   "metadata": {},
   "outputs": [
    {
     "name": "stdout",
     "output_type": "stream",
     "text": [
      "False\n",
      "True\n",
      "False\n"
     ]
    }
   ],
   "source": [
    "print(0 in df_train['Upc'].unique())\n",
    "print(0 in df_train['FinelineNumber'].unique())\n",
    "print(0 in df_train['DepartmentDescription'].unique())"
   ]
  },
  {
   "cell_type": "code",
   "execution_count": 17,
   "metadata": {},
   "outputs": [
    {
     "data": {
      "text/html": [
       "<div>\n",
       "<style scoped>\n",
       "    .dataframe tbody tr th:only-of-type {\n",
       "        vertical-align: middle;\n",
       "    }\n",
       "\n",
       "    .dataframe tbody tr th {\n",
       "        vertical-align: top;\n",
       "    }\n",
       "\n",
       "    .dataframe thead th {\n",
       "        text-align: right;\n",
       "    }\n",
       "</style>\n",
       "<table border=\"1\" class=\"dataframe\">\n",
       "  <thead>\n",
       "    <tr style=\"text-align: right;\">\n",
       "      <th></th>\n",
       "      <th>TripType</th>\n",
       "      <th>VisitNumber</th>\n",
       "      <th>Weekday</th>\n",
       "      <th>Upc</th>\n",
       "      <th>ScanCount</th>\n",
       "      <th>DepartmentDescription</th>\n",
       "      <th>FinelineNumber</th>\n",
       "    </tr>\n",
       "  </thead>\n",
       "  <tbody>\n",
       "    <tr>\n",
       "      <th>2082</th>\n",
       "      <td>999</td>\n",
       "      <td>914</td>\n",
       "      <td>Friday</td>\n",
       "      <td>6.053882e+10</td>\n",
       "      <td>1</td>\n",
       "      <td>OTHER DEPARTMENTS</td>\n",
       "      <td>0.0</td>\n",
       "    </tr>\n",
       "    <tr>\n",
       "      <th>2401</th>\n",
       "      <td>9</td>\n",
       "      <td>1038</td>\n",
       "      <td>Friday</td>\n",
       "      <td>6.053882e+10</td>\n",
       "      <td>1</td>\n",
       "      <td>OTHER DEPARTMENTS</td>\n",
       "      <td>0.0</td>\n",
       "    </tr>\n",
       "    <tr>\n",
       "      <th>3567</th>\n",
       "      <td>999</td>\n",
       "      <td>1415</td>\n",
       "      <td>Friday</td>\n",
       "      <td>6.811317e+10</td>\n",
       "      <td>1</td>\n",
       "      <td>FINANCIAL SERVICES</td>\n",
       "      <td>0.0</td>\n",
       "    </tr>\n",
       "    <tr>\n",
       "      <th>4854</th>\n",
       "      <td>999</td>\n",
       "      <td>1840</td>\n",
       "      <td>Friday</td>\n",
       "      <td>6.811313e+10</td>\n",
       "      <td>1</td>\n",
       "      <td>FINANCIAL SERVICES</td>\n",
       "      <td>0.0</td>\n",
       "    </tr>\n",
       "    <tr>\n",
       "      <th>5369</th>\n",
       "      <td>999</td>\n",
       "      <td>2004</td>\n",
       "      <td>Friday</td>\n",
       "      <td>6.811313e+10</td>\n",
       "      <td>1</td>\n",
       "      <td>FINANCIAL SERVICES</td>\n",
       "      <td>0.0</td>\n",
       "    </tr>\n",
       "  </tbody>\n",
       "</table>\n",
       "</div>"
      ],
      "text/plain": [
       "      TripType  VisitNumber Weekday           Upc  ScanCount  \\\n",
       "2082       999          914  Friday  6.053882e+10          1   \n",
       "2401         9         1038  Friday  6.053882e+10          1   \n",
       "3567       999         1415  Friday  6.811317e+10          1   \n",
       "4854       999         1840  Friday  6.811313e+10          1   \n",
       "5369       999         2004  Friday  6.811313e+10          1   \n",
       "\n",
       "     DepartmentDescription  FinelineNumber  \n",
       "2082     OTHER DEPARTMENTS             0.0  \n",
       "2401     OTHER DEPARTMENTS             0.0  \n",
       "3567    FINANCIAL SERVICES             0.0  \n",
       "4854    FINANCIAL SERVICES             0.0  \n",
       "5369    FINANCIAL SERVICES             0.0  "
      ]
     },
     "execution_count": 17,
     "metadata": {},
     "output_type": "execute_result"
    }
   ],
   "source": [
    "df_train[df_train['FinelineNumber']==0].head()"
   ]
  },
  {
   "cell_type": "markdown",
   "metadata": {},
   "source": [
    "Well so we can't use 0 as a stand-in value for null in FinelineNumber because we would be mixing the category where FinelineNumber is actually 0 with ones where FinelineNumber is null. Let's try -1."
   ]
  },
  {
   "cell_type": "code",
   "execution_count": 18,
   "metadata": {},
   "outputs": [
    {
     "name": "stdout",
     "output_type": "stream",
     "text": [
      "False\n",
      "False\n",
      "False\n"
     ]
    }
   ],
   "source": [
    "print(-1 in df_train['Upc'].unique())\n",
    "print(-1 in df_train['FinelineNumber'].unique())\n",
    "print(-1 in df_train['DepartmentDescription'].unique())"
   ]
  },
  {
   "cell_type": "code",
   "execution_count": 19,
   "metadata": {},
   "outputs": [
    {
     "data": {
      "text/plain": [
       "TripType                    0\n",
       "VisitNumber                 0\n",
       "Weekday                     0\n",
       "Upc                      3362\n",
       "ScanCount                   0\n",
       "DepartmentDescription    1139\n",
       "FinelineNumber           3362\n",
       "dtype: int64"
      ]
     },
     "execution_count": 19,
     "metadata": {},
     "output_type": "execute_result"
    }
   ],
   "source": [
    "#ensure no other columns have null values\n",
    "df_train.isnull().sum(axis=0)"
   ]
  },
  {
   "cell_type": "code",
   "execution_count": 20,
   "metadata": {},
   "outputs": [],
   "source": [
    "df_train['Upc'].fillna(-1, inplace=True)\n",
    "df_train['DepartmentDescription'].fillna(\"-1\", inplace=True)\n",
    "df_train['FinelineNumber'].fillna(-1, inplace=True)\n",
    "\n",
    "df_val['Upc'].fillna(-1, inplace=True)\n",
    "df_val['DepartmentDescription'].fillna(\"-1\", inplace=True)\n",
    "df_val['FinelineNumber'].fillna(-1, inplace=True)\n",
    "\n",
    "df_test['Upc'].fillna(-1, inplace=True)\n",
    "df_test['DepartmentDescription'].fillna(\"-1\", inplace=True)\n",
    "df_test['FinelineNumber'].fillna(-1, inplace=True)\n",
    "\n",
    "#df_train.fillna(-1, inplace=True)\n",
    "#df_val.fillna(-1, inplace=True)\n",
    "#df_test.fillna(-1, inplace=True)"
   ]
  },
  {
   "cell_type": "code",
   "execution_count": 21,
   "metadata": {},
   "outputs": [
    {
     "data": {
      "text/plain": [
       "TripType                 0\n",
       "VisitNumber              0\n",
       "Weekday                  0\n",
       "Upc                      0\n",
       "ScanCount                0\n",
       "DepartmentDescription    0\n",
       "FinelineNumber           0\n",
       "dtype: int64"
      ]
     },
     "execution_count": 21,
     "metadata": {},
     "output_type": "execute_result"
    }
   ],
   "source": [
    "#ensure no other columns have null values\n",
    "df_train.isnull().sum(axis=0)"
   ]
  },
  {
   "cell_type": "markdown",
   "metadata": {},
   "source": [
    "Try constructing the pivot table again. Does our test pass?"
   ]
  },
  {
   "cell_type": "code",
   "execution_count": 22,
   "metadata": {},
   "outputs": [],
   "source": [
    "df_train_f1 = pd.pivot_table(df_train, \n",
    "                             index='VisitNumber', \n",
    "                             columns='DepartmentDescription', \n",
    "                             values='ScanCount', \n",
    "                             aggfunc='sum').fillna(0)\n",
    "\n",
    "df_val_f1 = pd.pivot_table(df_val, \n",
    "                           index='VisitNumber', \n",
    "                           columns='DepartmentDescription', \n",
    "                           values='ScanCount', \n",
    "                           aggfunc='sum').fillna(0)\n",
    "\n",
    "df_test_f1 = pd.pivot_table(df_test,\n",
    "                            index='VisitNumber',\n",
    "                            columns='DepartmentDescription', \n",
    "                            values='ScanCount', \n",
    "                            aggfunc='sum').fillna(0)"
   ]
  },
  {
   "cell_type": "code",
   "execution_count": 23,
   "metadata": {},
   "outputs": [
    {
     "data": {
      "text/plain": [
       "0.0"
      ]
     },
     "execution_count": 23,
     "metadata": {},
     "output_type": "execute_result"
    }
   ],
   "source": [
    "(df_train_f1.sum(axis=1) - df_train.groupby('VisitNumber').agg({'ScanCount': np.sum})['ScanCount']).sum()"
   ]
  },
  {
   "cell_type": "markdown",
   "metadata": {},
   "source": [
    "Perfect!! The counts agree completely between the pivot table and the group by. We only caught this bug because pd.pivot_table was dropping the null columns (DepartmentDescription is null) while the group by was only looking at VisitNumbers and not dropping any rows. It's generally a good idea to check for nulls after reading in the data."
   ]
  },
  {
   "cell_type": "markdown",
   "metadata": {},
   "source": [
    "**Question**: Can you foresee something else that can go wrong here? (Hint: look at the dimensions of each dataframe)"
   ]
  },
  {
   "cell_type": "code",
   "execution_count": 24,
   "metadata": {},
   "outputs": [
    {
     "name": "stdout",
     "output_type": "stream",
     "text": [
      "(76539, 68)\n",
      "(9567, 69)\n",
      "(9568, 69)\n"
     ]
    }
   ],
   "source": [
    "print(df_train_f1.shape)\n",
    "print(df_val_f1.shape)\n",
    "print(df_test_f1.shape)"
   ]
  },
  {
   "cell_type": "markdown",
   "metadata": {},
   "source": [
    "There's a missing column in df_train even though it has 80% of the rows! In other words, there's a department that's in val and test but not in train. Let's check this.\n",
    "\n",
    "**Question**: Think of a linear model. Why would different dimensions in train vs val vs test be a problem?"
   ]
  },
  {
   "cell_type": "markdown",
   "metadata": {},
   "source": [
    "The assumption is that the columns/fields are exactly the same in all the datasets. Otherwise, it would be impossible to apply a model to data with fewer or more columns than the data it was trained on."
   ]
  },
  {
   "cell_type": "code",
   "execution_count": 25,
   "metadata": {},
   "outputs": [
    {
     "data": {
      "text/plain": [
       "{'HEALTH AND BEAUTY AIDS'}"
      ]
     },
     "execution_count": 25,
     "metadata": {},
     "output_type": "execute_result"
    }
   ],
   "source": [
    "set(df_train_f1.columns).symmetric_difference(df_val_f1.columns)"
   ]
  },
  {
   "cell_type": "code",
   "execution_count": 26,
   "metadata": {},
   "outputs": [
    {
     "data": {
      "text/plain": [
       "{'HEALTH AND BEAUTY AIDS'}"
      ]
     },
     "execution_count": 26,
     "metadata": {},
     "output_type": "execute_result"
    }
   ],
   "source": [
    "set(df_train_f1.columns).symmetric_difference(df_test_f1.columns)"
   ]
  },
  {
   "cell_type": "code",
   "execution_count": 27,
   "metadata": {},
   "outputs": [
    {
     "data": {
      "text/plain": [
       "set()"
      ]
     },
     "execution_count": 27,
     "metadata": {},
     "output_type": "execute_result"
    }
   ],
   "source": [
    "set(df_val_f1.columns).symmetric_difference(df_test_f1.columns)"
   ]
  },
  {
   "cell_type": "markdown",
   "metadata": {},
   "source": [
    "There's a department \"HEALTH AND BEAUTY AIDS\" that exists in the val and test datasets but not in the train dataset. Let's look at how many rows are covered by this department."
   ]
  },
  {
   "cell_type": "code",
   "execution_count": 28,
   "metadata": {},
   "outputs": [
    {
     "data": {
      "text/html": [
       "<div>\n",
       "<style scoped>\n",
       "    .dataframe tbody tr th:only-of-type {\n",
       "        vertical-align: middle;\n",
       "    }\n",
       "\n",
       "    .dataframe tbody tr th {\n",
       "        vertical-align: top;\n",
       "    }\n",
       "\n",
       "    .dataframe thead th {\n",
       "        text-align: right;\n",
       "    }\n",
       "</style>\n",
       "<table border=\"1\" class=\"dataframe\">\n",
       "  <thead>\n",
       "    <tr style=\"text-align: right;\">\n",
       "      <th></th>\n",
       "      <th>TripType</th>\n",
       "      <th>VisitNumber</th>\n",
       "      <th>Weekday</th>\n",
       "      <th>Upc</th>\n",
       "      <th>ScanCount</th>\n",
       "      <th>DepartmentDescription</th>\n",
       "      <th>FinelineNumber</th>\n",
       "    </tr>\n",
       "  </thead>\n",
       "  <tbody>\n",
       "    <tr>\n",
       "      <th>35945</th>\n",
       "      <td>36</td>\n",
       "      <td>164059</td>\n",
       "      <td>Wednesday</td>\n",
       "      <td>3.607344e+11</td>\n",
       "      <td>1</td>\n",
       "      <td>HEALTH AND BEAUTY AIDS</td>\n",
       "      <td>2250.0</td>\n",
       "    </tr>\n",
       "  </tbody>\n",
       "</table>\n",
       "</div>"
      ],
      "text/plain": [
       "       TripType  VisitNumber    Weekday           Upc  ScanCount  \\\n",
       "35945        36       164059  Wednesday  3.607344e+11          1   \n",
       "\n",
       "        DepartmentDescription  FinelineNumber  \n",
       "35945  HEALTH AND BEAUTY AIDS          2250.0  "
      ]
     },
     "execution_count": 28,
     "metadata": {},
     "output_type": "execute_result"
    }
   ],
   "source": [
    "df_val[df_val['DepartmentDescription']=='HEALTH AND BEAUTY AIDS']"
   ]
  },
  {
   "cell_type": "code",
   "execution_count": 29,
   "metadata": {},
   "outputs": [
    {
     "data": {
      "text/html": [
       "<div>\n",
       "<style scoped>\n",
       "    .dataframe tbody tr th:only-of-type {\n",
       "        vertical-align: middle;\n",
       "    }\n",
       "\n",
       "    .dataframe tbody tr th {\n",
       "        vertical-align: top;\n",
       "    }\n",
       "\n",
       "    .dataframe thead th {\n",
       "        text-align: right;\n",
       "    }\n",
       "</style>\n",
       "<table border=\"1\" class=\"dataframe\">\n",
       "  <thead>\n",
       "    <tr style=\"text-align: right;\">\n",
       "      <th></th>\n",
       "      <th>TripType</th>\n",
       "      <th>VisitNumber</th>\n",
       "      <th>Weekday</th>\n",
       "      <th>Upc</th>\n",
       "      <th>ScanCount</th>\n",
       "      <th>DepartmentDescription</th>\n",
       "      <th>FinelineNumber</th>\n",
       "    </tr>\n",
       "  </thead>\n",
       "  <tbody>\n",
       "    <tr>\n",
       "      <th>34564</th>\n",
       "      <td>999</td>\n",
       "      <td>182398</td>\n",
       "      <td>Saturday</td>\n",
       "      <td>3.099723e+10</td>\n",
       "      <td>-1</td>\n",
       "      <td>HEALTH AND BEAUTY AIDS</td>\n",
       "      <td>3501.0</td>\n",
       "    </tr>\n",
       "  </tbody>\n",
       "</table>\n",
       "</div>"
      ],
      "text/plain": [
       "       TripType  VisitNumber   Weekday           Upc  ScanCount  \\\n",
       "34564       999       182398  Saturday  3.099723e+10         -1   \n",
       "\n",
       "        DepartmentDescription  FinelineNumber  \n",
       "34564  HEALTH AND BEAUTY AIDS          3501.0  "
      ]
     },
     "execution_count": 29,
     "metadata": {},
     "output_type": "execute_result"
    }
   ],
   "source": [
    "df_test[df_test['DepartmentDescription']=='HEALTH AND BEAUTY AIDS']"
   ]
  },
  {
   "cell_type": "markdown",
   "metadata": {},
   "source": [
    "So there are exactly two rows with this department! Let's look at the each visit and see what else happened in those visits."
   ]
  },
  {
   "cell_type": "code",
   "execution_count": 30,
   "metadata": {},
   "outputs": [
    {
     "data": {
      "text/html": [
       "<div>\n",
       "<style scoped>\n",
       "    .dataframe tbody tr th:only-of-type {\n",
       "        vertical-align: middle;\n",
       "    }\n",
       "\n",
       "    .dataframe tbody tr th {\n",
       "        vertical-align: top;\n",
       "    }\n",
       "\n",
       "    .dataframe thead th {\n",
       "        text-align: right;\n",
       "    }\n",
       "</style>\n",
       "<table border=\"1\" class=\"dataframe\">\n",
       "  <thead>\n",
       "    <tr style=\"text-align: right;\">\n",
       "      <th></th>\n",
       "      <th>TripType</th>\n",
       "      <th>VisitNumber</th>\n",
       "      <th>Weekday</th>\n",
       "      <th>Upc</th>\n",
       "      <th>ScanCount</th>\n",
       "      <th>DepartmentDescription</th>\n",
       "      <th>FinelineNumber</th>\n",
       "    </tr>\n",
       "  </thead>\n",
       "  <tbody>\n",
       "    <tr>\n",
       "      <th>35944</th>\n",
       "      <td>36</td>\n",
       "      <td>164059</td>\n",
       "      <td>Wednesday</td>\n",
       "      <td>7.797509e+09</td>\n",
       "      <td>1</td>\n",
       "      <td>IMPULSE MERCHANDISE</td>\n",
       "      <td>808.0</td>\n",
       "    </tr>\n",
       "    <tr>\n",
       "      <th>35945</th>\n",
       "      <td>36</td>\n",
       "      <td>164059</td>\n",
       "      <td>Wednesday</td>\n",
       "      <td>3.607344e+11</td>\n",
       "      <td>1</td>\n",
       "      <td>HEALTH AND BEAUTY AIDS</td>\n",
       "      <td>2250.0</td>\n",
       "    </tr>\n",
       "    <tr>\n",
       "      <th>35946</th>\n",
       "      <td>36</td>\n",
       "      <td>164059</td>\n",
       "      <td>Wednesday</td>\n",
       "      <td>8.680011e+09</td>\n",
       "      <td>1</td>\n",
       "      <td>BEAUTY</td>\n",
       "      <td>6124.0</td>\n",
       "    </tr>\n",
       "    <tr>\n",
       "      <th>35947</th>\n",
       "      <td>36</td>\n",
       "      <td>164059</td>\n",
       "      <td>Wednesday</td>\n",
       "      <td>7.153398e+10</td>\n",
       "      <td>2</td>\n",
       "      <td>HORTICULTURE AND ACCESS</td>\n",
       "      <td>8800.0</td>\n",
       "    </tr>\n",
       "    <tr>\n",
       "      <th>35948</th>\n",
       "      <td>36</td>\n",
       "      <td>164059</td>\n",
       "      <td>Wednesday</td>\n",
       "      <td>7.830001e+09</td>\n",
       "      <td>1</td>\n",
       "      <td>PHARMACY OTC</td>\n",
       "      <td>277.0</td>\n",
       "    </tr>\n",
       "    <tr>\n",
       "      <th>35949</th>\n",
       "      <td>36</td>\n",
       "      <td>164059</td>\n",
       "      <td>Wednesday</td>\n",
       "      <td>7.153392e+10</td>\n",
       "      <td>1</td>\n",
       "      <td>HORTICULTURE AND ACCESS</td>\n",
       "      <td>8720.0</td>\n",
       "    </tr>\n",
       "    <tr>\n",
       "      <th>35950</th>\n",
       "      <td>36</td>\n",
       "      <td>164059</td>\n",
       "      <td>Wednesday</td>\n",
       "      <td>2.200001e+09</td>\n",
       "      <td>1</td>\n",
       "      <td>IMPULSE MERCHANDISE</td>\n",
       "      <td>135.0</td>\n",
       "    </tr>\n",
       "  </tbody>\n",
       "</table>\n",
       "</div>"
      ],
      "text/plain": [
       "       TripType  VisitNumber    Weekday           Upc  ScanCount  \\\n",
       "35944        36       164059  Wednesday  7.797509e+09          1   \n",
       "35945        36       164059  Wednesday  3.607344e+11          1   \n",
       "35946        36       164059  Wednesday  8.680011e+09          1   \n",
       "35947        36       164059  Wednesday  7.153398e+10          2   \n",
       "35948        36       164059  Wednesday  7.830001e+09          1   \n",
       "35949        36       164059  Wednesday  7.153392e+10          1   \n",
       "35950        36       164059  Wednesday  2.200001e+09          1   \n",
       "\n",
       "         DepartmentDescription  FinelineNumber  \n",
       "35944      IMPULSE MERCHANDISE           808.0  \n",
       "35945   HEALTH AND BEAUTY AIDS          2250.0  \n",
       "35946                   BEAUTY          6124.0  \n",
       "35947  HORTICULTURE AND ACCESS          8800.0  \n",
       "35948             PHARMACY OTC           277.0  \n",
       "35949  HORTICULTURE AND ACCESS          8720.0  \n",
       "35950      IMPULSE MERCHANDISE           135.0  "
      ]
     },
     "execution_count": 30,
     "metadata": {},
     "output_type": "execute_result"
    }
   ],
   "source": [
    "df_val[df_val['VisitNumber']==164059]"
   ]
  },
  {
   "cell_type": "code",
   "execution_count": 31,
   "metadata": {},
   "outputs": [
    {
     "data": {
      "text/html": [
       "<div>\n",
       "<style scoped>\n",
       "    .dataframe tbody tr th:only-of-type {\n",
       "        vertical-align: middle;\n",
       "    }\n",
       "\n",
       "    .dataframe tbody tr th {\n",
       "        vertical-align: top;\n",
       "    }\n",
       "\n",
       "    .dataframe thead th {\n",
       "        text-align: right;\n",
       "    }\n",
       "</style>\n",
       "<table border=\"1\" class=\"dataframe\">\n",
       "  <thead>\n",
       "    <tr style=\"text-align: right;\">\n",
       "      <th></th>\n",
       "      <th>TripType</th>\n",
       "      <th>VisitNumber</th>\n",
       "      <th>Weekday</th>\n",
       "      <th>Upc</th>\n",
       "      <th>ScanCount</th>\n",
       "      <th>DepartmentDescription</th>\n",
       "      <th>FinelineNumber</th>\n",
       "    </tr>\n",
       "  </thead>\n",
       "  <tbody>\n",
       "    <tr>\n",
       "      <th>34564</th>\n",
       "      <td>999</td>\n",
       "      <td>182398</td>\n",
       "      <td>Saturday</td>\n",
       "      <td>3.099723e+10</td>\n",
       "      <td>-1</td>\n",
       "      <td>HEALTH AND BEAUTY AIDS</td>\n",
       "      <td>3501.0</td>\n",
       "    </tr>\n",
       "    <tr>\n",
       "      <th>34565</th>\n",
       "      <td>999</td>\n",
       "      <td>182398</td>\n",
       "      <td>Saturday</td>\n",
       "      <td>7.160313e+09</td>\n",
       "      <td>-2</td>\n",
       "      <td>BEAUTY</td>\n",
       "      <td>3304.0</td>\n",
       "    </tr>\n",
       "  </tbody>\n",
       "</table>\n",
       "</div>"
      ],
      "text/plain": [
       "       TripType  VisitNumber   Weekday           Upc  ScanCount  \\\n",
       "34564       999       182398  Saturday  3.099723e+10         -1   \n",
       "34565       999       182398  Saturday  7.160313e+09         -2   \n",
       "\n",
       "        DepartmentDescription  FinelineNumber  \n",
       "34564  HEALTH AND BEAUTY AIDS          3501.0  \n",
       "34565                  BEAUTY          3304.0  "
      ]
     },
     "execution_count": 31,
     "metadata": {},
     "output_type": "execute_result"
    }
   ],
   "source": [
    "df_test[df_test['VisitNumber']==182398]"
   ]
  },
  {
   "cell_type": "markdown",
   "metadata": {},
   "source": [
    "The trip from df_test gives us an interesting hint. \"BEAUTY\" and \"HEALTH AND BEAUTY AIDS\" sound very similar. Is it possible that 'BEAUTY' was just renamed in two instances. Let's check all departments with \"BEAUTY\" in them."
   ]
  },
  {
   "cell_type": "code",
   "execution_count": 32,
   "metadata": {},
   "outputs": [],
   "source": [
    "#read in fill df for convenience\n",
    "df = pd.read_csv(f'{DATA_PATH}/train.csv')"
   ]
  },
  {
   "cell_type": "code",
   "execution_count": 33,
   "metadata": {},
   "outputs": [
    {
     "data": {
      "text/plain": [
       "['BEAUTY', 'HEALTH AND BEAUTY AIDS']"
      ]
     },
     "execution_count": 33,
     "metadata": {},
     "output_type": "execute_result"
    }
   ],
   "source": [
    "[x for x in df['DepartmentDescription'].fillna(-1).unique() if str(x).lower().find('beauty')>-1]"
   ]
  },
  {
   "cell_type": "markdown",
   "metadata": {},
   "source": [
    "Before we just blindly replace \"HEALTH AND BEAUTY AIDS\" by \"BEAUTY\", we should check the real Kaggle test set and see how often this problem occurs there."
   ]
  },
  {
   "cell_type": "code",
   "execution_count": 34,
   "metadata": {},
   "outputs": [],
   "source": [
    "df_true_test = pd.read_csv(f'{DATA_PATH}/test.csv')"
   ]
  },
  {
   "cell_type": "code",
   "execution_count": 35,
   "metadata": {},
   "outputs": [
    {
     "data": {
      "text/plain": [
       "(0, 6)"
      ]
     },
     "execution_count": 35,
     "metadata": {},
     "output_type": "execute_result"
    }
   ],
   "source": [
    "df_true_test[df_true_test['DepartmentDescription']=='HEALTH AND BEAUTY AIDS'].shape"
   ]
  },
  {
   "cell_type": "markdown",
   "metadata": {},
   "source": [
    "Good news! There's no \"HEALTH AND BEAUTY AIDS\" in the true Kaggle test set so we can just replace \"HEALTH AND BEAUTY AIDS\" -> \"BEAUTY. But this points to another potential problem."
   ]
  },
  {
   "cell_type": "markdown",
   "metadata": {},
   "source": [
    "Our goal is to make predictions on the true Kaggle test. If we use the distribution of number of products bought by department, then it's possible that there are departments in the test set that are not in the train set. In this case, the simplest option is to just drop those products. Of course, if there are many such products, we should look into finding the closest match department in our train set to the unknown department in the true test set."
   ]
  },
  {
   "cell_type": "code",
   "execution_count": 36,
   "metadata": {},
   "outputs": [
    {
     "data": {
      "text/plain": [
       "set()"
      ]
     },
     "execution_count": 36,
     "metadata": {},
     "output_type": "execute_result"
    }
   ],
   "source": [
    "set(df_true_test['DepartmentDescription'].unique()).difference(df['DepartmentDescription'].unique())"
   ]
  },
  {
   "cell_type": "markdown",
   "metadata": {},
   "source": [
    "Beautiful! No need to worry about this problem. Let's go ahead and do the department replacement in val and test."
   ]
  },
  {
   "cell_type": "code",
   "execution_count": 37,
   "metadata": {},
   "outputs": [],
   "source": [
    "df_val.loc[df_val['DepartmentDescription']=='HEALTH AND BEAUTY AIDS', 'DepartmentDescription'] = 'BEAUTY'\n",
    "df_test.loc[df_test['DepartmentDescription']=='HEALTH AND BEAUTY AIDS', 'DepartmentDescription'] = 'BEAUTY'"
   ]
  },
  {
   "cell_type": "code",
   "execution_count": 38,
   "metadata": {},
   "outputs": [],
   "source": [
    "#add a similar row for train in case we ever change our cross-validation strategy\n",
    "df_train.loc[df_train['DepartmentDescription']=='HEALTH AND BEAUTY AIDS', 'DepartmentDescription'] = 'BEAUTY'"
   ]
  },
  {
   "cell_type": "markdown",
   "metadata": {},
   "source": [
    "### Summary:\n",
    "\n",
    "* We used pd.pivot_table to create a dataset where rows are visit numbers and columns are department descriptions. The matrix entries are the total counts of product bought during that trip.\n",
    "\n",
    "* During our test comparing the pivot table to a group by, we uncovered nulls in the product descriptions - Upc, FilelineNumber and DepartmentDescription. We found it safe to replace the nulls by -1.\n",
    "\n",
    "* We also discovered that the train, val and test pivot table had different number of columns because two entries had mislabelled department descriptions.\n",
    "\n",
    "* We ensured that the wrong departments were not present in the \"true\" kaggle test set (test.csv). Then we replaced the two erroneous rows (\"HEALTH AND BEAUTY AIDS\") with the closest department (\"BEAUTY\").\n",
    "\n",
    "* At this stage, we should save df_train, df_val, df_test as a checkpoint"
   ]
  },
  {
   "cell_type": "code",
   "execution_count": 39,
   "metadata": {},
   "outputs": [],
   "source": [
    "df_train.to_feather(f'{DATA_PATH}/df_raw_train_clean.feather')\n",
    "df_val.reset_index(drop=True).to_feather(f'{DATA_PATH}/df_raw_val_clean.feather')\n",
    "df_test.reset_index(drop=True).to_feather(f'{DATA_PATH}/df_raw_test_clean.feather')"
   ]
  },
  {
   "cell_type": "code",
   "execution_count": 40,
   "metadata": {},
   "outputs": [],
   "source": [
    "df_train = pd.read_feather(f'{DATA_PATH}/df_raw_train_clean.feather')\n",
    "df_val = pd.read_feather(f'{DATA_PATH}/df_raw_val_clean.feather')\n",
    "df_test = pd.read_feather(f'{DATA_PATH}/df_raw_test_clean.feather')"
   ]
  },
  {
   "cell_type": "code",
   "execution_count": 41,
   "metadata": {},
   "outputs": [],
   "source": [
    "df_train_f1 = pd.pivot_table(df_train, \n",
    "                             index='VisitNumber', \n",
    "                             columns='DepartmentDescription', \n",
    "                             values='ScanCount', \n",
    "                             aggfunc='sum').fillna(0)\n",
    "\n",
    "df_val_f1 = pd.pivot_table(df_val, \n",
    "                           index='VisitNumber', \n",
    "                           columns='DepartmentDescription', \n",
    "                           values='ScanCount', \n",
    "                           aggfunc='sum').fillna(0)\n",
    "\n",
    "df_test_f1 = pd.pivot_table(df_test,\n",
    "                            index='VisitNumber',\n",
    "                            columns='DepartmentDescription', \n",
    "                            values='ScanCount', \n",
    "                            aggfunc='sum').fillna(0)"
   ]
  },
  {
   "cell_type": "code",
   "execution_count": 42,
   "metadata": {},
   "outputs": [
    {
     "name": "stdout",
     "output_type": "stream",
     "text": [
      "(76539, 68)\n",
      "(9567, 68)\n",
      "(9568, 68)\n"
     ]
    }
   ],
   "source": [
    "print(df_train_f1.shape)\n",
    "print(df_val_f1.shape)\n",
    "print(df_test_f1.shape)"
   ]
  },
  {
   "cell_type": "markdown",
   "metadata": {},
   "source": [
    "**Question**: How many rows do you expect in each of the 3 dataframes? Check that your expectation matches reality."
   ]
  },
  {
   "cell_type": "markdown",
   "metadata": {},
   "source": [
    "df_train_f1 should have one row for each visit number in df_train"
   ]
  },
  {
   "cell_type": "code",
   "execution_count": 43,
   "metadata": {},
   "outputs": [
    {
     "data": {
      "text/plain": [
       "76539"
      ]
     },
     "execution_count": 43,
     "metadata": {},
     "output_type": "execute_result"
    }
   ],
   "source": [
    "len(df_train['VisitNumber'].unique())"
   ]
  },
  {
   "cell_type": "markdown",
   "metadata": {},
   "source": [
    "If you don't have one row per visit number in df_train_f1, it's very likely that you still have some nulls that get dropped by pivot table."
   ]
  },
  {
   "cell_type": "code",
   "execution_count": 44,
   "metadata": {},
   "outputs": [
    {
     "data": {
      "text/plain": [
       "9567"
      ]
     },
     "execution_count": 44,
     "metadata": {},
     "output_type": "execute_result"
    }
   ],
   "source": [
    "len(df_val['VisitNumber'].unique())"
   ]
  },
  {
   "cell_type": "code",
   "execution_count": 45,
   "metadata": {},
   "outputs": [
    {
     "data": {
      "text/plain": [
       "9568"
      ]
     },
     "execution_count": 45,
     "metadata": {},
     "output_type": "execute_result"
    }
   ],
   "source": [
    "len(df_test['VisitNumber'].unique())"
   ]
  },
  {
   "cell_type": "markdown",
   "metadata": {},
   "source": [
    "### Model-building\n",
    "\n",
    "We now have a dataset that is ready for model training. The features are the number of items bought for each department for each visit. The target variable is TripType (which is not yet present in df_train_f1)."
   ]
  },
  {
   "cell_type": "markdown",
   "metadata": {},
   "source": [
    "**Question**: Add TripType to each of df_train_f1, df_val_f1, df_test_f1"
   ]
  },
  {
   "cell_type": "code",
   "execution_count": 46,
   "metadata": {},
   "outputs": [
    {
     "data": {
      "text/html": [
       "<div>\n",
       "<style scoped>\n",
       "    .dataframe tbody tr th:only-of-type {\n",
       "        vertical-align: middle;\n",
       "    }\n",
       "\n",
       "    .dataframe tbody tr th {\n",
       "        vertical-align: top;\n",
       "    }\n",
       "\n",
       "    .dataframe thead th {\n",
       "        text-align: right;\n",
       "    }\n",
       "</style>\n",
       "<table border=\"1\" class=\"dataframe\">\n",
       "  <thead>\n",
       "    <tr style=\"text-align: right;\">\n",
       "      <th></th>\n",
       "      <th>TripType</th>\n",
       "    </tr>\n",
       "    <tr>\n",
       "      <th>VisitNumber</th>\n",
       "      <th></th>\n",
       "    </tr>\n",
       "  </thead>\n",
       "  <tbody>\n",
       "    <tr>\n",
       "      <th>5</th>\n",
       "      <td>999</td>\n",
       "    </tr>\n",
       "    <tr>\n",
       "      <th>7</th>\n",
       "      <td>30</td>\n",
       "    </tr>\n",
       "    <tr>\n",
       "      <th>8</th>\n",
       "      <td>26</td>\n",
       "    </tr>\n",
       "    <tr>\n",
       "      <th>9</th>\n",
       "      <td>8</td>\n",
       "    </tr>\n",
       "    <tr>\n",
       "      <th>10</th>\n",
       "      <td>8</td>\n",
       "    </tr>\n",
       "  </tbody>\n",
       "</table>\n",
       "</div>"
      ],
      "text/plain": [
       "             TripType\n",
       "VisitNumber          \n",
       "5                 999\n",
       "7                  30\n",
       "8                  26\n",
       "9                   8\n",
       "10                  8"
      ]
     },
     "execution_count": 46,
     "metadata": {},
     "output_type": "execute_result"
    }
   ],
   "source": [
    "df_train[['VisitNumber', 'TripType']].drop_duplicates().set_index('VisitNumber').head()"
   ]
  },
  {
   "cell_type": "code",
   "execution_count": 47,
   "metadata": {},
   "outputs": [
    {
     "data": {
      "text/plain": [
       "76539"
      ]
     },
     "execution_count": 47,
     "metadata": {},
     "output_type": "execute_result"
    }
   ],
   "source": [
    "len(df_train['VisitNumber'].unique())"
   ]
  },
  {
   "cell_type": "code",
   "execution_count": 48,
   "metadata": {},
   "outputs": [],
   "source": [
    "df_train_f1 = pd.concat([df_train[['VisitNumber', 'TripType']].drop_duplicates().set_index('VisitNumber'), df_train_f1], axis=1)\n",
    "df_val_f1 = pd.concat([df_val[['VisitNumber', 'TripType']].drop_duplicates().set_index('VisitNumber'), df_val_f1], axis=1)\n",
    "df_test_f1 = pd.concat([df_test[['VisitNumber', 'TripType']].drop_duplicates().set_index('VisitNumber'), df_test_f1], axis=1)"
   ]
  },
  {
   "cell_type": "code",
   "execution_count": 49,
   "metadata": {},
   "outputs": [
    {
     "name": "stdout",
     "output_type": "stream",
     "text": [
      "(76539, 69)\n",
      "(9567, 69)\n",
      "(9568, 69)\n"
     ]
    }
   ],
   "source": [
    "#Ensure shapes didn't change except for addition of one column\n",
    "\n",
    "print(df_train_f1.shape)\n",
    "print(df_val_f1.shape)\n",
    "print(df_test_f1.shape)"
   ]
  },
  {
   "cell_type": "code",
   "execution_count": 50,
   "metadata": {},
   "outputs": [
    {
     "data": {
      "text/html": [
       "<div>\n",
       "<style scoped>\n",
       "    .dataframe tbody tr th:only-of-type {\n",
       "        vertical-align: middle;\n",
       "    }\n",
       "\n",
       "    .dataframe tbody tr th {\n",
       "        vertical-align: top;\n",
       "    }\n",
       "\n",
       "    .dataframe thead th {\n",
       "        text-align: right;\n",
       "    }\n",
       "</style>\n",
       "<table border=\"1\" class=\"dataframe\">\n",
       "  <thead>\n",
       "    <tr style=\"text-align: right;\">\n",
       "      <th></th>\n",
       "      <th>TripType</th>\n",
       "      <th>-1</th>\n",
       "      <th>1-HR PHOTO</th>\n",
       "      <th>ACCESSORIES</th>\n",
       "      <th>AUTOMOTIVE</th>\n",
       "      <th>BAKERY</th>\n",
       "      <th>BATH AND SHOWER</th>\n",
       "      <th>BEAUTY</th>\n",
       "      <th>BEDDING</th>\n",
       "      <th>BOOKS AND MAGAZINES</th>\n",
       "      <th>...</th>\n",
       "      <th>SEAFOOD</th>\n",
       "      <th>SEASONAL</th>\n",
       "      <th>SERVICE DELI</th>\n",
       "      <th>SHEER HOSIERY</th>\n",
       "      <th>SHOES</th>\n",
       "      <th>SLEEPWEAR/FOUNDATIONS</th>\n",
       "      <th>SPORTING GOODS</th>\n",
       "      <th>SWIMWEAR/OUTERWEAR</th>\n",
       "      <th>TOYS</th>\n",
       "      <th>WIRELESS</th>\n",
       "    </tr>\n",
       "    <tr>\n",
       "      <th>VisitNumber</th>\n",
       "      <th></th>\n",
       "      <th></th>\n",
       "      <th></th>\n",
       "      <th></th>\n",
       "      <th></th>\n",
       "      <th></th>\n",
       "      <th></th>\n",
       "      <th></th>\n",
       "      <th></th>\n",
       "      <th></th>\n",
       "      <th></th>\n",
       "      <th></th>\n",
       "      <th></th>\n",
       "      <th></th>\n",
       "      <th></th>\n",
       "      <th></th>\n",
       "      <th></th>\n",
       "      <th></th>\n",
       "      <th></th>\n",
       "      <th></th>\n",
       "      <th></th>\n",
       "    </tr>\n",
       "  </thead>\n",
       "  <tbody>\n",
       "    <tr>\n",
       "      <th>5</th>\n",
       "      <td>999</td>\n",
       "      <td>0.0</td>\n",
       "      <td>0.0</td>\n",
       "      <td>0.0</td>\n",
       "      <td>0.0</td>\n",
       "      <td>0.0</td>\n",
       "      <td>0.0</td>\n",
       "      <td>0.0</td>\n",
       "      <td>0.0</td>\n",
       "      <td>0.0</td>\n",
       "      <td>...</td>\n",
       "      <td>0.0</td>\n",
       "      <td>0.0</td>\n",
       "      <td>0.0</td>\n",
       "      <td>0.0</td>\n",
       "      <td>0.0</td>\n",
       "      <td>0.0</td>\n",
       "      <td>0.0</td>\n",
       "      <td>0.0</td>\n",
       "      <td>0.0</td>\n",
       "      <td>0.0</td>\n",
       "    </tr>\n",
       "    <tr>\n",
       "      <th>7</th>\n",
       "      <td>30</td>\n",
       "      <td>0.0</td>\n",
       "      <td>0.0</td>\n",
       "      <td>0.0</td>\n",
       "      <td>0.0</td>\n",
       "      <td>0.0</td>\n",
       "      <td>0.0</td>\n",
       "      <td>0.0</td>\n",
       "      <td>0.0</td>\n",
       "      <td>0.0</td>\n",
       "      <td>...</td>\n",
       "      <td>0.0</td>\n",
       "      <td>0.0</td>\n",
       "      <td>0.0</td>\n",
       "      <td>0.0</td>\n",
       "      <td>1.0</td>\n",
       "      <td>0.0</td>\n",
       "      <td>0.0</td>\n",
       "      <td>0.0</td>\n",
       "      <td>0.0</td>\n",
       "      <td>0.0</td>\n",
       "    </tr>\n",
       "    <tr>\n",
       "      <th>8</th>\n",
       "      <td>26</td>\n",
       "      <td>1.0</td>\n",
       "      <td>0.0</td>\n",
       "      <td>0.0</td>\n",
       "      <td>0.0</td>\n",
       "      <td>0.0</td>\n",
       "      <td>0.0</td>\n",
       "      <td>0.0</td>\n",
       "      <td>0.0</td>\n",
       "      <td>0.0</td>\n",
       "      <td>...</td>\n",
       "      <td>0.0</td>\n",
       "      <td>0.0</td>\n",
       "      <td>0.0</td>\n",
       "      <td>0.0</td>\n",
       "      <td>0.0</td>\n",
       "      <td>0.0</td>\n",
       "      <td>0.0</td>\n",
       "      <td>0.0</td>\n",
       "      <td>0.0</td>\n",
       "      <td>0.0</td>\n",
       "    </tr>\n",
       "    <tr>\n",
       "      <th>9</th>\n",
       "      <td>8</td>\n",
       "      <td>0.0</td>\n",
       "      <td>0.0</td>\n",
       "      <td>0.0</td>\n",
       "      <td>0.0</td>\n",
       "      <td>0.0</td>\n",
       "      <td>0.0</td>\n",
       "      <td>0.0</td>\n",
       "      <td>0.0</td>\n",
       "      <td>0.0</td>\n",
       "      <td>...</td>\n",
       "      <td>0.0</td>\n",
       "      <td>0.0</td>\n",
       "      <td>0.0</td>\n",
       "      <td>0.0</td>\n",
       "      <td>0.0</td>\n",
       "      <td>0.0</td>\n",
       "      <td>0.0</td>\n",
       "      <td>0.0</td>\n",
       "      <td>0.0</td>\n",
       "      <td>0.0</td>\n",
       "    </tr>\n",
       "    <tr>\n",
       "      <th>10</th>\n",
       "      <td>8</td>\n",
       "      <td>0.0</td>\n",
       "      <td>0.0</td>\n",
       "      <td>0.0</td>\n",
       "      <td>0.0</td>\n",
       "      <td>0.0</td>\n",
       "      <td>0.0</td>\n",
       "      <td>0.0</td>\n",
       "      <td>0.0</td>\n",
       "      <td>0.0</td>\n",
       "      <td>...</td>\n",
       "      <td>0.0</td>\n",
       "      <td>0.0</td>\n",
       "      <td>0.0</td>\n",
       "      <td>0.0</td>\n",
       "      <td>0.0</td>\n",
       "      <td>0.0</td>\n",
       "      <td>0.0</td>\n",
       "      <td>0.0</td>\n",
       "      <td>0.0</td>\n",
       "      <td>0.0</td>\n",
       "    </tr>\n",
       "  </tbody>\n",
       "</table>\n",
       "<p>5 rows × 69 columns</p>\n",
       "</div>"
      ],
      "text/plain": [
       "             TripType   -1  1-HR PHOTO  ACCESSORIES  AUTOMOTIVE  BAKERY  \\\n",
       "VisitNumber                                                               \n",
       "5                 999  0.0         0.0          0.0         0.0     0.0   \n",
       "7                  30  0.0         0.0          0.0         0.0     0.0   \n",
       "8                  26  1.0         0.0          0.0         0.0     0.0   \n",
       "9                   8  0.0         0.0          0.0         0.0     0.0   \n",
       "10                  8  0.0         0.0          0.0         0.0     0.0   \n",
       "\n",
       "             BATH AND SHOWER  BEAUTY  BEDDING  BOOKS AND MAGAZINES  ...  \\\n",
       "VisitNumber                                                         ...   \n",
       "5                        0.0     0.0      0.0                  0.0  ...   \n",
       "7                        0.0     0.0      0.0                  0.0  ...   \n",
       "8                        0.0     0.0      0.0                  0.0  ...   \n",
       "9                        0.0     0.0      0.0                  0.0  ...   \n",
       "10                       0.0     0.0      0.0                  0.0  ...   \n",
       "\n",
       "             SEAFOOD  SEASONAL  SERVICE DELI  SHEER HOSIERY  SHOES  \\\n",
       "VisitNumber                                                          \n",
       "5                0.0       0.0           0.0            0.0    0.0   \n",
       "7                0.0       0.0           0.0            0.0    1.0   \n",
       "8                0.0       0.0           0.0            0.0    0.0   \n",
       "9                0.0       0.0           0.0            0.0    0.0   \n",
       "10               0.0       0.0           0.0            0.0    0.0   \n",
       "\n",
       "             SLEEPWEAR/FOUNDATIONS  SPORTING GOODS  SWIMWEAR/OUTERWEAR  TOYS  \\\n",
       "VisitNumber                                                                    \n",
       "5                              0.0             0.0                 0.0   0.0   \n",
       "7                              0.0             0.0                 0.0   0.0   \n",
       "8                              0.0             0.0                 0.0   0.0   \n",
       "9                              0.0             0.0                 0.0   0.0   \n",
       "10                             0.0             0.0                 0.0   0.0   \n",
       "\n",
       "             WIRELESS  \n",
       "VisitNumber            \n",
       "5                 0.0  \n",
       "7                 0.0  \n",
       "8                 0.0  \n",
       "9                 0.0  \n",
       "10                0.0  \n",
       "\n",
       "[5 rows x 69 columns]"
      ]
     },
     "execution_count": 50,
     "metadata": {},
     "output_type": "execute_result"
    }
   ],
   "source": [
    "df_train_f1.head()"
   ]
  },
  {
   "cell_type": "markdown",
   "metadata": {},
   "source": [
    "**Question**: It is very important to be paranoid at this stage. Did we assign the correct trip type to each visit number in df_train_f1. Check this."
   ]
  },
  {
   "cell_type": "code",
   "execution_count": 51,
   "metadata": {},
   "outputs": [],
   "source": [
    "df_joined_train = pd.merge(df_train_f1['TripType'].reset_index(), df_train[['VisitNumber', 'TripType']].drop_duplicates(), how=\"outer\", on=\"VisitNumber\")\n",
    "df_joined_val = pd.merge(df_val_f1['TripType'].reset_index(), df_val[['VisitNumber', 'TripType']].drop_duplicates(), how=\"outer\", on=\"VisitNumber\")\n",
    "df_joined_test = pd.merge(df_test_f1['TripType'].reset_index(), df_test[['VisitNumber', 'TripType']].drop_duplicates(), how=\"outer\", on=\"VisitNumber\")"
   ]
  },
  {
   "cell_type": "code",
   "execution_count": 52,
   "metadata": {},
   "outputs": [
    {
     "name": "stdout",
     "output_type": "stream",
     "text": [
      "(76539, 69)\n",
      "(76539, 3)\n"
     ]
    }
   ],
   "source": [
    "print(df_train_f1.shape)\n",
    "print(df_joined_train.shape)"
   ]
  },
  {
   "cell_type": "code",
   "execution_count": 53,
   "metadata": {},
   "outputs": [
    {
     "data": {
      "text/html": [
       "<div>\n",
       "<style scoped>\n",
       "    .dataframe tbody tr th:only-of-type {\n",
       "        vertical-align: middle;\n",
       "    }\n",
       "\n",
       "    .dataframe tbody tr th {\n",
       "        vertical-align: top;\n",
       "    }\n",
       "\n",
       "    .dataframe thead th {\n",
       "        text-align: right;\n",
       "    }\n",
       "</style>\n",
       "<table border=\"1\" class=\"dataframe\">\n",
       "  <thead>\n",
       "    <tr style=\"text-align: right;\">\n",
       "      <th></th>\n",
       "      <th>VisitNumber</th>\n",
       "      <th>TripType_x</th>\n",
       "      <th>TripType_y</th>\n",
       "    </tr>\n",
       "  </thead>\n",
       "  <tbody>\n",
       "    <tr>\n",
       "      <th>0</th>\n",
       "      <td>5</td>\n",
       "      <td>999</td>\n",
       "      <td>999</td>\n",
       "    </tr>\n",
       "    <tr>\n",
       "      <th>1</th>\n",
       "      <td>7</td>\n",
       "      <td>30</td>\n",
       "      <td>30</td>\n",
       "    </tr>\n",
       "    <tr>\n",
       "      <th>2</th>\n",
       "      <td>8</td>\n",
       "      <td>26</td>\n",
       "      <td>26</td>\n",
       "    </tr>\n",
       "    <tr>\n",
       "      <th>3</th>\n",
       "      <td>9</td>\n",
       "      <td>8</td>\n",
       "      <td>8</td>\n",
       "    </tr>\n",
       "    <tr>\n",
       "      <th>4</th>\n",
       "      <td>10</td>\n",
       "      <td>8</td>\n",
       "      <td>8</td>\n",
       "    </tr>\n",
       "  </tbody>\n",
       "</table>\n",
       "</div>"
      ],
      "text/plain": [
       "   VisitNumber  TripType_x  TripType_y\n",
       "0            5         999         999\n",
       "1            7          30          30\n",
       "2            8          26          26\n",
       "3            9           8           8\n",
       "4           10           8           8"
      ]
     },
     "execution_count": 53,
     "metadata": {},
     "output_type": "execute_result"
    }
   ],
   "source": [
    "df_joined_train.head()"
   ]
  },
  {
   "cell_type": "code",
   "execution_count": 54,
   "metadata": {},
   "outputs": [
    {
     "data": {
      "text/plain": [
       "0"
      ]
     },
     "execution_count": 54,
     "metadata": {},
     "output_type": "execute_result"
    }
   ],
   "source": [
    "(df_joined_train['TripType_x']!=df_joined_train['TripType_y']).sum()"
   ]
  },
  {
   "cell_type": "code",
   "execution_count": 55,
   "metadata": {},
   "outputs": [
    {
     "data": {
      "text/plain": [
       "0"
      ]
     },
     "execution_count": 55,
     "metadata": {},
     "output_type": "execute_result"
    }
   ],
   "source": [
    "(df_joined_val['TripType_x']!=df_joined_val['TripType_y']).sum()"
   ]
  },
  {
   "cell_type": "code",
   "execution_count": 56,
   "metadata": {},
   "outputs": [
    {
     "data": {
      "text/plain": [
       "0"
      ]
     },
     "execution_count": 56,
     "metadata": {},
     "output_type": "execute_result"
    }
   ],
   "source": [
    "(df_joined_test['TripType_x']!=df_joined_test['TripType_y']).sum()"
   ]
  },
  {
   "cell_type": "markdown",
   "metadata": {},
   "source": [
    "**Question**: We have a lot of zeros in our data. In other words, the matrix is sparse. Are there columns that we can drop because not many products were bought under the departments? How would you check this?"
   ]
  },
  {
   "cell_type": "code",
   "execution_count": 57,
   "metadata": {},
   "outputs": [
    {
     "name": "stdout",
     "output_type": "stream",
     "text": [
      "SEASONAL                    22.0\n",
      "OTHER DEPARTMENTS           25.0\n",
      "CONCEPT STORES              33.0\n",
      "OPTICAL - LENSES            59.0\n",
      "LARGE HOUSEHOLD GOODS       64.0\n",
      "                          ...   \n",
      "PERSONAL CARE            35668.0\n",
      "DAIRY                    39718.0\n",
      "PRODUCE                  41849.0\n",
      "DSD GROCERY              63922.0\n",
      "GROCERY DRY GOODS        70176.0\n",
      "Length: 68, dtype: float64\n"
     ]
    },
    {
     "data": {
      "text/plain": [
       "[<matplotlib.lines.Line2D at 0x7f4c779a8310>]"
      ]
     },
     "execution_count": 57,
     "metadata": {},
     "output_type": "execute_result"
    },
    {
     "data": {
      "image/png": "[encoded data removed]",
      "text/plain": [
       "<Figure size 432x288 with 1 Axes>"
      ]
     },
     "metadata": {
      "needs_background": "light"
     },
     "output_type": "display_data"
    }
   ],
   "source": [
    "print(df_train_f1.drop('TripType', axis=1).sum(axis=0).sort_values())\n",
    "plt.plot(df_train_f1.drop('TripType', axis=1).sum(axis=0).sort_values())"
   ]
  },
  {
   "cell_type": "markdown",
   "metadata": {},
   "source": [
    "At this point, you could manually do some experiments to see if there are categories (like SEASONAL > 0) where all the TripTypes are the same. In this case, you could set a manual rule.\n",
    "\n",
    "**Question**: For visits that involved buying seasonal items, what were the TripTypes?"
   ]
  },
  {
   "cell_type": "code",
   "execution_count": 58,
   "metadata": {},
   "outputs": [
    {
     "data": {
      "text/plain": [
       "(21, 69)"
      ]
     },
     "execution_count": 58,
     "metadata": {},
     "output_type": "execute_result"
    }
   ],
   "source": [
    "df_train_f1[df_train_f1['SEASONAL']>0].shape"
   ]
  },
  {
   "cell_type": "code",
   "execution_count": 59,
   "metadata": {},
   "outputs": [
    {
     "data": {
      "text/plain": [
       "22.0"
      ]
     },
     "execution_count": 59,
     "metadata": {},
     "output_type": "execute_result"
    }
   ],
   "source": [
    "df_train_f1['SEASONAL'].sum()"
   ]
  },
  {
   "cell_type": "code",
   "execution_count": 60,
   "metadata": {},
   "outputs": [
    {
     "data": {
      "text/plain": [
       "44    4\n",
       "42    4\n",
       "40    3\n",
       "25    2\n",
       "15    2\n",
       "9     1\n",
       "12    1\n",
       "41    1\n",
       "39    1\n",
       "6     1\n",
       "5     1\n",
       "Name: TripType, dtype: int64"
      ]
     },
     "execution_count": 60,
     "metadata": {},
     "output_type": "execute_result"
    }
   ],
   "source": [
    "df_train_f1[df_train_f1['SEASONAL']>0]['TripType'].value_counts()"
   ]
  },
  {
   "cell_type": "code",
   "execution_count": 61,
   "metadata": {},
   "outputs": [
    {
     "data": {
      "text/plain": [
       "999    19\n",
       "38      3\n",
       "6       1\n",
       "15      1\n",
       "9       1\n",
       "Name: TripType, dtype: int64"
      ]
     },
     "execution_count": 61,
     "metadata": {},
     "output_type": "execute_result"
    }
   ],
   "source": [
    "df_train_f1[df_train_f1['OTHER DEPARTMENTS']>0]['TripType'].value_counts()"
   ]
  },
  {
   "cell_type": "code",
   "execution_count": 62,
   "metadata": {},
   "outputs": [
    {
     "data": {
      "text/plain": [
       "999    27\n",
       "3       2\n",
       "Name: TripType, dtype: int64"
      ]
     },
     "execution_count": 62,
     "metadata": {},
     "output_type": "execute_result"
    }
   ],
   "source": [
    "df_train_f1[df_train_f1['CONCEPT STORES']>0]['TripType'].value_counts()"
   ]
  },
  {
   "cell_type": "markdown",
   "metadata": {},
   "source": [
    "**Question**: Repeat this exercise for each department to see if there's any department which if it is present, results in > 95% of the trip types being of the same type"
   ]
  },
  {
   "cell_type": "code",
   "execution_count": 63,
   "metadata": {},
   "outputs": [
    {
     "name": "stdout",
     "output_type": "stream",
     "text": [
      "LARGE HOUSEHOLD GOODS\n",
      "OPTICAL - LENSES\n"
     ]
    }
   ],
   "source": [
    "for col in df_train_f1.drop('TripType', axis=1).columns:\n",
    "    counts = df_train_f1[df_train_f1[col]>0]['TripType'].value_counts()\n",
    "    if counts.iloc[0] / counts.sum() > 0.95:\n",
    "        print(col)"
   ]
  },
  {
   "cell_type": "code",
   "execution_count": 64,
   "metadata": {},
   "outputs": [
    {
     "data": {
      "text/plain": [
       "5    44\n",
       "Name: TripType, dtype: int64"
      ]
     },
     "execution_count": 64,
     "metadata": {},
     "output_type": "execute_result"
    }
   ],
   "source": [
    "df_train_f1[df_train_f1['OPTICAL - LENSES']>0]['TripType'].value_counts()"
   ]
  },
  {
   "cell_type": "code",
   "execution_count": 65,
   "metadata": {},
   "outputs": [
    {
     "data": {
      "text/plain": [
       "3      63\n",
       "999     1\n",
       "Name: TripType, dtype: int64"
      ]
     },
     "execution_count": 65,
     "metadata": {},
     "output_type": "execute_result"
    }
   ],
   "source": [
    "df_train_f1[df_train_f1['LARGE HOUSEHOLD GOODS']>0]['TripType'].value_counts()"
   ]
  },
  {
   "cell_type": "markdown",
   "metadata": {},
   "source": [
    "In this case, one could create a rule that predicts trip type 5 for any trip that had a visit to \"OPTICAL - LENSES\" or \"LARGE HOUSEHOLD GOODS\" except that combined they affect only ~100 visits.\n",
    "\n",
    "If we were doing a full competition, we would note this down to check against any model. Does your model perform well on these two subsets? If a reasonable chunk of the loss could be reduced by putting in a hand-crafted rule in a competition, you should do so specially when the margins between neighboring ranks are so thin."
   ]
  },
  {
   "cell_type": "markdown",
   "metadata": {},
   "source": [
    "**Question**: Look at how many distinct number of items were bought for each visit number."
   ]
  },
  {
   "cell_type": "code",
   "execution_count": 66,
   "metadata": {},
   "outputs": [],
   "source": [
    "n_distinct = df.groupby('VisitNumber').count()['TripType']"
   ]
  },
  {
   "cell_type": "code",
   "execution_count": 67,
   "metadata": {},
   "outputs": [
    {
     "name": "stdout",
     "output_type": "stream",
     "text": [
      "[  1   1   1 ... 113 151 209]\n"
     ]
    },
    {
     "data": {
      "text/plain": [
       "[<matplotlib.lines.Line2D at 0x7f4c75539850>]"
      ]
     },
     "execution_count": 67,
     "metadata": {},
     "output_type": "execute_result"
    },
    {
     "data": {
      "image/png": "[encoded data removed]",
      "text/plain": [
       "<Figure size 432x288 with 1 Axes>"
      ]
     },
     "metadata": {
      "needs_background": "light"
     },
     "output_type": "display_data"
    }
   ],
   "source": [
    "print(np.sort(n_distinct))\n",
    "plt.plot(np.sort(n_distinct))"
   ]
  },
  {
   "cell_type": "markdown",
   "metadata": {},
   "source": [
    "Let's zoom in at both ends of the plot.\n",
    "\n",
    "**Question**: Explore the data at for very low and very high distinct items."
   ]
  },
  {
   "cell_type": "code",
   "execution_count": 68,
   "metadata": {},
   "outputs": [
    {
     "data": {
      "text/html": [
       "<div>\n",
       "<style scoped>\n",
       "    .dataframe tbody tr th:only-of-type {\n",
       "        vertical-align: middle;\n",
       "    }\n",
       "\n",
       "    .dataframe tbody tr th {\n",
       "        vertical-align: top;\n",
       "    }\n",
       "\n",
       "    .dataframe thead th {\n",
       "        text-align: right;\n",
       "    }\n",
       "</style>\n",
       "<table border=\"1\" class=\"dataframe\">\n",
       "  <thead>\n",
       "    <tr style=\"text-align: right;\">\n",
       "      <th></th>\n",
       "      <th>TripType</th>\n",
       "      <th>VisitNumber</th>\n",
       "      <th>Weekday</th>\n",
       "      <th>Upc</th>\n",
       "      <th>ScanCount</th>\n",
       "      <th>DepartmentDescription</th>\n",
       "      <th>FinelineNumber</th>\n",
       "    </tr>\n",
       "  </thead>\n",
       "  <tbody>\n",
       "    <tr>\n",
       "      <th>0</th>\n",
       "      <td>999</td>\n",
       "      <td>5</td>\n",
       "      <td>Friday</td>\n",
       "      <td>6.811315e+10</td>\n",
       "      <td>-1</td>\n",
       "      <td>FINANCIAL SERVICES</td>\n",
       "      <td>1000.0</td>\n",
       "    </tr>\n",
       "    <tr>\n",
       "      <th>88</th>\n",
       "      <td>8</td>\n",
       "      <td>29</td>\n",
       "      <td>Friday</td>\n",
       "      <td>1.200001e+09</td>\n",
       "      <td>1</td>\n",
       "      <td>DSD GROCERY</td>\n",
       "      <td>9205.0</td>\n",
       "    </tr>\n",
       "    <tr>\n",
       "      <th>89</th>\n",
       "      <td>9</td>\n",
       "      <td>30</td>\n",
       "      <td>Friday</td>\n",
       "      <td>9.933894e+09</td>\n",
       "      <td>1</td>\n",
       "      <td>LADIESWEAR</td>\n",
       "      <td>1180.0</td>\n",
       "    </tr>\n",
       "    <tr>\n",
       "      <th>92</th>\n",
       "      <td>8</td>\n",
       "      <td>32</td>\n",
       "      <td>Friday</td>\n",
       "      <td>3.400000e+09</td>\n",
       "      <td>1</td>\n",
       "      <td>IMPULSE MERCHANDISE</td>\n",
       "      <td>100.0</td>\n",
       "    </tr>\n",
       "    <tr>\n",
       "      <th>99</th>\n",
       "      <td>8</td>\n",
       "      <td>42</td>\n",
       "      <td>Friday</td>\n",
       "      <td>4.000049e+09</td>\n",
       "      <td>1</td>\n",
       "      <td>IMPULSE MERCHANDISE</td>\n",
       "      <td>115.0</td>\n",
       "    </tr>\n",
       "  </tbody>\n",
       "</table>\n",
       "</div>"
      ],
      "text/plain": [
       "    TripType  VisitNumber Weekday           Upc  ScanCount  \\\n",
       "0        999            5  Friday  6.811315e+10         -1   \n",
       "88         8           29  Friday  1.200001e+09          1   \n",
       "89         9           30  Friday  9.933894e+09          1   \n",
       "92         8           32  Friday  3.400000e+09          1   \n",
       "99         8           42  Friday  4.000049e+09          1   \n",
       "\n",
       "   DepartmentDescription  FinelineNumber  \n",
       "0     FINANCIAL SERVICES          1000.0  \n",
       "88           DSD GROCERY          9205.0  \n",
       "89            LADIESWEAR          1180.0  \n",
       "92   IMPULSE MERCHANDISE           100.0  \n",
       "99   IMPULSE MERCHANDISE           115.0  "
      ]
     },
     "execution_count": 68,
     "metadata": {},
     "output_type": "execute_result"
    }
   ],
   "source": [
    "df_train[df_train['VisitNumber'].isin(n_distinct[n_distinct==1].index)].head()"
   ]
  },
  {
   "cell_type": "code",
   "execution_count": 69,
   "metadata": {},
   "outputs": [
    {
     "data": {
      "text/plain": [
       "Friday       2720\n",
       "Saturday     2679\n",
       "Sunday       2517\n",
       "Monday       2170\n",
       "Wednesday    1943\n",
       "Tuesday      1869\n",
       "Thursday     1813\n",
       "Name: Weekday, dtype: int64"
      ]
     },
     "execution_count": 69,
     "metadata": {},
     "output_type": "execute_result"
    }
   ],
   "source": [
    "df_train[df_train['VisitNumber'].isin(n_distinct[n_distinct==1].index)]['Weekday'].value_counts()"
   ]
  },
  {
   "cell_type": "code",
   "execution_count": 70,
   "metadata": {},
   "outputs": [
    {
     "data": {
      "text/plain": [
       "FINANCIAL SERVICES     1560\n",
       "DSD GROCERY            1110\n",
       "IMPULSE MERCHANDISE     878\n",
       "PHARMACY OTC            820\n",
       "PHARMACY RX             663\n",
       "                       ... \n",
       "LADIES SOCKS             18\n",
       "OTHER DEPARTMENTS        18\n",
       "SHEER HOSIERY            13\n",
       "OPTICAL - LENSES         12\n",
       "SEAFOOD                  10\n",
       "Name: DepartmentDescription, Length: 66, dtype: int64"
      ]
     },
     "execution_count": 70,
     "metadata": {},
     "output_type": "execute_result"
    }
   ],
   "source": [
    "df_train[df_train['VisitNumber'].isin(n_distinct[n_distinct==1].index)]['DepartmentDescription'].value_counts()"
   ]
  },
  {
   "cell_type": "code",
   "execution_count": 71,
   "metadata": {},
   "outputs": [
    {
     "data": {
      "text/plain": [
       "8      4022\n",
       "9      3639\n",
       "999    3120\n",
       "5      1329\n",
       "7       940\n",
       "3       681\n",
       "6       414\n",
       "22      213\n",
       "32      200\n",
       "24      177\n",
       "4       124\n",
       "31      117\n",
       "30      112\n",
       "19       95\n",
       "27       57\n",
       "23       49\n",
       "35       48\n",
       "28       47\n",
       "26       41\n",
       "15       33\n",
       "29       33\n",
       "18       32\n",
       "39       30\n",
       "20       29\n",
       "36       29\n",
       "21       19\n",
       "34       15\n",
       "33       14\n",
       "25       13\n",
       "37       13\n",
       "38       11\n",
       "42       10\n",
       "12        4\n",
       "41        1\n",
       "Name: TripType, dtype: int64"
      ]
     },
     "execution_count": 71,
     "metadata": {},
     "output_type": "execute_result"
    }
   ],
   "source": [
    "df_train[df_train['VisitNumber'].isin(n_distinct[n_distinct==1].index)]['TripType'].value_counts()"
   ]
  },
  {
   "cell_type": "markdown",
   "metadata": {},
   "source": [
    "**General point**: This kind of manual exploration guided by a series of questions is one way of looking at a dataset. There's a second way that we'll explore on day 3 where a model is built as fast as possible and inspected to identify patterns.\n",
    "\n",
    "Machine learning techniques are not just tools for predicting values but can also be used to deeply understand your data."
   ]
  },
  {
   "cell_type": "code",
   "execution_count": 72,
   "metadata": {},
   "outputs": [
    {
     "data": {
      "text/plain": [
       "Int64Index([72439, 88011], dtype='int64', name='VisitNumber')"
      ]
     },
     "execution_count": 72,
     "metadata": {},
     "output_type": "execute_result"
    }
   ],
   "source": [
    "n_distinct[n_distinct > 150].index"
   ]
  },
  {
   "cell_type": "code",
   "execution_count": 73,
   "metadata": {},
   "outputs": [
    {
     "data": {
      "text/html": [
       "<div>\n",
       "<style scoped>\n",
       "    .dataframe tbody tr th:only-of-type {\n",
       "        vertical-align: middle;\n",
       "    }\n",
       "\n",
       "    .dataframe tbody tr th {\n",
       "        vertical-align: top;\n",
       "    }\n",
       "\n",
       "    .dataframe thead th {\n",
       "        text-align: right;\n",
       "    }\n",
       "</style>\n",
       "<table border=\"1\" class=\"dataframe\">\n",
       "  <thead>\n",
       "    <tr style=\"text-align: right;\">\n",
       "      <th></th>\n",
       "      <th>TripType</th>\n",
       "      <th>VisitNumber</th>\n",
       "      <th>Weekday</th>\n",
       "      <th>Upc</th>\n",
       "      <th>ScanCount</th>\n",
       "      <th>DepartmentDescription</th>\n",
       "      <th>FinelineNumber</th>\n",
       "    </tr>\n",
       "  </thead>\n",
       "  <tbody>\n",
       "    <tr>\n",
       "      <th>244440</th>\n",
       "      <td>24</td>\n",
       "      <td>72439</td>\n",
       "      <td>Tuesday</td>\n",
       "      <td>8.861669e+10</td>\n",
       "      <td>1</td>\n",
       "      <td>BOYS WEAR</td>\n",
       "      <td>1025.0</td>\n",
       "    </tr>\n",
       "    <tr>\n",
       "      <th>244441</th>\n",
       "      <td>24</td>\n",
       "      <td>72439</td>\n",
       "      <td>Tuesday</td>\n",
       "      <td>7.602631e+09</td>\n",
       "      <td>2</td>\n",
       "      <td>COOK AND DINE</td>\n",
       "      <td>2067.0</td>\n",
       "    </tr>\n",
       "    <tr>\n",
       "      <th>244442</th>\n",
       "      <td>24</td>\n",
       "      <td>72439</td>\n",
       "      <td>Tuesday</td>\n",
       "      <td>7.214063e+09</td>\n",
       "      <td>1</td>\n",
       "      <td>PERSONAL CARE</td>\n",
       "      <td>3090.0</td>\n",
       "    </tr>\n",
       "    <tr>\n",
       "      <th>244443</th>\n",
       "      <td>24</td>\n",
       "      <td>72439</td>\n",
       "      <td>Tuesday</td>\n",
       "      <td>4.393559e+09</td>\n",
       "      <td>2</td>\n",
       "      <td>MENS WEAR</td>\n",
       "      <td>5542.0</td>\n",
       "    </tr>\n",
       "    <tr>\n",
       "      <th>244444</th>\n",
       "      <td>24</td>\n",
       "      <td>72439</td>\n",
       "      <td>Tuesday</td>\n",
       "      <td>4.747559e+09</td>\n",
       "      <td>1</td>\n",
       "      <td>CELEBRATION</td>\n",
       "      <td>5507.0</td>\n",
       "    </tr>\n",
       "  </tbody>\n",
       "</table>\n",
       "</div>"
      ],
      "text/plain": [
       "        TripType  VisitNumber  Weekday           Upc  ScanCount  \\\n",
       "244440        24        72439  Tuesday  8.861669e+10          1   \n",
       "244441        24        72439  Tuesday  7.602631e+09          2   \n",
       "244442        24        72439  Tuesday  7.214063e+09          1   \n",
       "244443        24        72439  Tuesday  4.393559e+09          2   \n",
       "244444        24        72439  Tuesday  4.747559e+09          1   \n",
       "\n",
       "       DepartmentDescription  FinelineNumber  \n",
       "244440             BOYS WEAR          1025.0  \n",
       "244441         COOK AND DINE          2067.0  \n",
       "244442         PERSONAL CARE          3090.0  \n",
       "244443             MENS WEAR          5542.0  \n",
       "244444           CELEBRATION          5507.0  "
      ]
     },
     "execution_count": 73,
     "metadata": {},
     "output_type": "execute_result"
    }
   ],
   "source": [
    "df_train[df_train['VisitNumber'].isin(n_distinct[n_distinct > 150].index)].head()\n",
    "#.head() so the whole table doesn't get displayed in github but do take a look at the full table"
   ]
  },
  {
   "cell_type": "markdown",
   "metadata": {},
   "source": [
    "At this stage, we are really ready to build the model."
   ]
  },
  {
   "cell_type": "code",
   "execution_count": 74,
   "metadata": {},
   "outputs": [],
   "source": [
    "from sklearn.linear_model import LogisticRegression"
   ]
  },
  {
   "cell_type": "code",
   "execution_count": 75,
   "metadata": {},
   "outputs": [
    {
     "name": "stderr",
     "output_type": "stream",
     "text": [
      "/home/sanjay/.local/lib/python3.7/site-packages/sklearn/linear_model/logistic.py:432: FutureWarning: Default solver will be changed to 'lbfgs' in 0.22. Specify a solver to silence this warning.\n",
      "  FutureWarning)\n",
      "/home/sanjay/.local/lib/python3.7/site-packages/sklearn/linear_model/logistic.py:469: FutureWarning: Default multi_class will be changed to 'auto' in 0.22. Specify the multi_class option to silence this warning.\n",
      "  \"this warning.\", FutureWarning)\n"
     ]
    },
    {
     "data": {
      "text/plain": [
       "LogisticRegression(C=1.0, class_weight=None, dual=False, fit_intercept=True,\n",
       "                   intercept_scaling=1, l1_ratio=None, max_iter=100,\n",
       "                   multi_class='warn', n_jobs=None, penalty='l2',\n",
       "                   random_state=None, solver='warn', tol=0.0001, verbose=0,\n",
       "                   warm_start=False)"
      ]
     },
     "execution_count": 75,
     "metadata": {},
     "output_type": "execute_result"
    }
   ],
   "source": [
    "model = LogisticRegression()\n",
    "model.fit(df_train_f1.drop('TripType', axis=1), df_train_f1['TripType'])"
   ]
  },
  {
   "cell_type": "markdown",
   "metadata": {},
   "source": [
    "As a coarse measure, let's look at accuracy = % of examples predicted correctly. We won't look at the test set during this process. It is set aside and should have no influence on our model selection process."
   ]
  },
  {
   "cell_type": "code",
   "execution_count": 76,
   "metadata": {},
   "outputs": [],
   "source": [
    "train_class_pred = model.predict(df_train_f1.drop('TripType', axis=1))\n",
    "val_class_pred = model.predict(df_val_f1.drop('TripType', axis=1))"
   ]
  },
  {
   "cell_type": "code",
   "execution_count": 77,
   "metadata": {},
   "outputs": [
    {
     "data": {
      "text/plain": [
       "array([999,   9,  26,   8,   8,   8,  39,  21,   8,  25])"
      ]
     },
     "execution_count": 77,
     "metadata": {},
     "output_type": "execute_result"
    }
   ],
   "source": [
    "train_class_pred[0:10]"
   ]
  },
  {
   "cell_type": "code",
   "execution_count": 78,
   "metadata": {},
   "outputs": [
    {
     "name": "stdout",
     "output_type": "stream",
     "text": [
      "Train Acc = 0.6136479441853173\n",
      "Val   Acc = 0.6183756663530887\n"
     ]
    }
   ],
   "source": [
    "train_acc = np.sum(train_class_pred==df_train_f1['TripType'].tolist()) / df_train_f1.shape[0]\n",
    "val_acc = np.sum(val_class_pred==df_val_f1['TripType'].tolist()) / df_val_f1.shape[0]\n",
    "\n",
    "print(f\"Train Acc = {train_acc}\")\n",
    "print(f\"Val   Acc = {val_acc}\")"
   ]
  },
  {
   "cell_type": "markdown",
   "metadata": {},
   "source": [
    "**Good news**: The accuracy metrics are very similar across train and validation. This means our model is not overfitting or memorizing the train set. It is (hopefully) possible to increase the accuracy by changing the parameters of the model, using different features, or maybe using a different modeling technique."
   ]
  },
  {
   "cell_type": "markdown",
   "metadata": {},
   "source": [
    "**Evaluating accuracy**: Whenever there's a metric that evaluates a model, one should ask the question - what would the metric be if we had a very simple or dumb model?\n",
    "\n",
    "Let's look at two examples here."
   ]
  },
  {
   "cell_type": "code",
   "execution_count": 79,
   "metadata": {},
   "outputs": [
    {
     "data": {
      "text/plain": [
       "8      9717\n",
       "39     7864\n",
       "9      7643\n",
       "999    6737\n",
       "40     4865\n",
       "7      4558\n",
       "5      3642\n",
       "3      3001\n",
       "25     2979\n",
       "36     2398\n",
       "38     2239\n",
       "37     2185\n",
       "24     2075\n",
       "35     1621\n",
       "32     1562\n",
       "42     1512\n",
       "6      1044\n",
       "33     1017\n",
       "44      969\n",
       "15      870\n",
       "30      868\n",
       "22      752\n",
       "43      740\n",
       "27      702\n",
       "34      532\n",
       "21      510\n",
       "20      510\n",
       "31      470\n",
       "41      469\n",
       "18      441\n",
       "26      411\n",
       "28      392\n",
       "29      351\n",
       "4       300\n",
       "19      296\n",
       "12      192\n",
       "23      101\n",
       "14        4\n",
       "Name: TripType, dtype: int64"
      ]
     },
     "execution_count": 79,
     "metadata": {},
     "output_type": "execute_result"
    }
   ],
   "source": [
    "df_train_f1['TripType'].value_counts()"
   ]
  },
  {
   "cell_type": "markdown",
   "metadata": {},
   "source": [
    "What if we predicted every TripType to be the dominant class - TripType = 8 (with 9717 examples). Then we would get 9717 correct predictions and the rest would be wrong to give an accuracy of:\n",
    "\n",
    "$$\\frac{9717}{76539} \\approx 12.7\\% $$\n",
    "\n",
    "much worse than the 60% we see from our model."
   ]
  },
  {
   "cell_type": "markdown",
   "metadata": {},
   "source": [
    "What if we randomly assigned a trip type to each visit? We have 38 unique labels and it would give us a probability of \n",
    "\n",
    "$$\\frac{1}{38} \\approx 2.6\\%$$\n",
    "\n",
    "guessing the right label. In other words, this would give us an even worse accuracy."
   ]
  },
  {
   "cell_type": "markdown",
   "metadata": {},
   "source": [
    "But, all the trip types should not have the same probability of being guessed since they are unevenly distributed. Let's do a simple simulation for this."
   ]
  },
  {
   "cell_type": "code",
   "execution_count": 80,
   "metadata": {},
   "outputs": [],
   "source": [
    "counts = df_train_f1['TripType'].value_counts()\n",
    "probs_visit = counts.index\n",
    "probs_values = counts.values\n",
    "\n",
    "probs_values = probs_values / np.sum(probs_values)\n",
    "assert(probs_values.sum()==1)"
   ]
  },
  {
   "cell_type": "code",
   "execution_count": 81,
   "metadata": {},
   "outputs": [],
   "source": [
    "#random choose from labels according to the probability distribution in train and assign to each trip\n",
    "random_pred_train = np.random.choice(probs_visit, size=df_train_f1.shape[0], p=probs_values)"
   ]
  },
  {
   "cell_type": "code",
   "execution_count": 82,
   "metadata": {},
   "outputs": [
    {
     "name": "stdout",
     "output_type": "stream",
     "text": [
      "random train acc = 0.06479049896131384\n"
     ]
    }
   ],
   "source": [
    "print(f'random train acc = {np.sum(random_pred_train==df_train_f1[\"TripType\"].tolist())/df_train_f1.shape[0]}')"
   ]
  },
  {
   "cell_type": "markdown",
   "metadata": {},
   "source": [
    "So a random strategy would give us an accuracy of ~6.4%. So our model is indeed much better than a silly model."
   ]
  },
  {
   "cell_type": "markdown",
   "metadata": {},
   "source": [
    "Of course, what we really care about is the logarithmic loss below:\n",
    "\n",
    "$$-\\frac{1}{N} \\Sigma_{i=1}^N \\big(\\Sigma_{j=1}^M y_{ij} \\log(p_{ij})\\big)$$\n",
    "\n",
    "where:\n",
    "\n",
    "$N$ = number of rows\n",
    "\n",
    "$M$ = number of trip types\n",
    "\n",
    "$\n",
    "y_{ij} =\n",
    "\\begin{cases}\n",
    "1,  \\text{ if ith row has trip type j}\\\\\n",
    "0,   \\text{ otherwise} \\\\\n",
    "\\end{cases}$\n",
    "\n",
    "$p_{ij} = \\text{probability of the ith row being of trip-type j}$\n",
    "\n",
    "Note that $y_{ij}$ are labels and $p_{ij}$ are your model's predictions. Also, note that for a fixed row $i$, only one of $y_{ij} = 1$ and the rest are 0. So the contribution of that row to the cost is $-\\log(p_{ij})$. In other words, if the model very confidently predicts the correct class, $p_{ij} \\approx 1 \\implies -\\log(p_{ij}) \\approx 0$ i.e. there's no contribution to the cost. On the other hand, if the model predicts the correct class' probability with very low confidence i.e. $p_{ij}\\approx 0 \\implies -log(p_{ij}) \\approx \\infty$ so we get a very high loss.\n",
    "\n",
    "So even one bad prediction can really throw off your loss function and give a large value.\n",
    "\n",
    "https://www.kaggle.com/c/walmart-recruiting-trip-type-classification/overview/evaluation"
   ]
  },
  {
   "cell_type": "markdown",
   "metadata": {},
   "source": [
    "To evaluate this, we can use an in-built sklearn implementation but we need the probability of a visit to belong to each trip type.\n",
    "\n",
    "**Question**: look at the documentation for sklearn.linear_model.LogisticRegression and see if it exposes the class probabilities for each prediction."
   ]
  },
  {
   "cell_type": "code",
   "execution_count": 83,
   "metadata": {},
   "outputs": [
    {
     "name": "stdout",
     "output_type": "stream",
     "text": [
      "(76539, 38)\n"
     ]
    },
    {
     "data": {
      "text/plain": [
       "array([[1.45718179e-04, 5.24500313e-03, 2.88306331e-02, 1.73934036e-02,\n",
       "        6.79088174e-02, 2.13537000e-01, 1.90162637e-01, 1.64735628e-03,\n",
       "        1.02634195e-04, 5.61257279e-03, 3.36214047e-03, 8.88599108e-04,\n",
       "        1.65460037e-03, 4.14798181e-03, 2.62923861e-03, 1.26982369e-03,\n",
       "        1.00304078e-02, 9.06667201e-03, 2.07640061e-03, 3.70349133e-03,\n",
       "        2.35414417e-03, 2.73579644e-03, 5.30352288e-03, 9.39892899e-04,\n",
       "        9.04014128e-03, 7.14772334e-03, 6.04211166e-03, 1.11890793e-02,\n",
       "        1.25722104e-02, 1.07397153e-02, 1.95803000e-02, 4.71307803e-02,\n",
       "        7.10554088e-04, 1.98244573e-03, 6.13577392e-03, 3.13207215e-03,\n",
       "        1.53293232e-03, 2.82315672e-01]])"
      ]
     },
     "execution_count": 83,
     "metadata": {},
     "output_type": "execute_result"
    }
   ],
   "source": [
    "print(model.predict_proba(df_train_f1.drop('TripType', axis=1)).shape)\n",
    "#one column for each class\n",
    "model.predict_proba(df_train_f1.drop('TripType', axis=1))[0:1,:]"
   ]
  },
  {
   "cell_type": "code",
   "execution_count": 84,
   "metadata": {},
   "outputs": [],
   "source": [
    "from sklearn.metrics import log_loss"
   ]
  },
  {
   "cell_type": "code",
   "execution_count": 85,
   "metadata": {},
   "outputs": [
    {
     "data": {
      "text/plain": [
       "array([[2.72278946e-03, 2.03374409e-03, 2.40443069e-03, ...,\n",
       "        6.05622367e-03, 3.11965647e-03, 8.60140275e-06],\n",
       "       [7.07933484e-03, 6.76231457e-03, 2.43139663e-02, ...,\n",
       "        8.14511402e-03, 4.65079313e-03, 1.17789083e-01],\n",
       "       [8.87184297e-07, 1.61540167e-06, 7.00859159e-05, ...,\n",
       "        1.05132502e-03, 5.30001976e-03, 2.14041600e-06],\n",
       "       ...,\n",
       "       [7.07933484e-03, 6.76231457e-03, 2.43139663e-02, ...,\n",
       "        8.14511402e-03, 4.65079313e-03, 1.17789083e-01],\n",
       "       [2.13111534e-03, 4.38457812e-03, 9.18701684e-03, ...,\n",
       "        1.62717825e-02, 8.29148518e-03, 2.15099125e-02],\n",
       "       [5.68210715e-03, 3.44066883e-03, 6.10251129e-03, ...,\n",
       "        1.34562650e-02, 1.12285781e-02, 1.48914724e-02]])"
      ]
     },
     "execution_count": 85,
     "metadata": {},
     "output_type": "execute_result"
    }
   ],
   "source": [
    "model.predict_proba(df_val_f1.drop('TripType', axis=1))"
   ]
  },
  {
   "cell_type": "code",
   "execution_count": 86,
   "metadata": {},
   "outputs": [
    {
     "data": {
      "text/plain": [
       "array([  3,   4,   5,   6,   7,   8,   9,  12,  14,  15,  18,  19,  20,\n",
       "        21,  22,  23,  24,  25,  26,  27,  28,  29,  30,  31,  32,  33,\n",
       "        34,  35,  36,  37,  38,  39,  40,  41,  42,  43,  44, 999])"
      ]
     },
     "execution_count": 86,
     "metadata": {},
     "output_type": "execute_result"
    }
   ],
   "source": [
    "model.classes_"
   ]
  },
  {
   "cell_type": "code",
   "execution_count": 87,
   "metadata": {},
   "outputs": [],
   "source": [
    "train_log_loss = log_loss(df_train_f1['TripType'], model.predict_proba(df_train_f1.drop('TripType', axis=1)), eps=1e-15)\n",
    "val_log_loss = log_loss(df_val_f1['TripType'], model.predict_proba(df_val_f1.drop('TripType', axis=1)), eps=1e-15, labels=model.classes_)"
   ]
  },
  {
   "cell_type": "code",
   "execution_count": 88,
   "metadata": {},
   "outputs": [
    {
     "name": "stdout",
     "output_type": "stream",
     "text": [
      "Train loss = 1.4777506943370753\n",
      "Val   loss = 1.4738018786470404\n"
     ]
    }
   ],
   "source": [
    "print(f'Train loss = {train_log_loss}')\n",
    "print(f'Val   loss = {val_log_loss}')"
   ]
  },
  {
   "cell_type": "markdown",
   "metadata": {},
   "source": [
    "At least we are not overfitting. If we were to trust the validation loss and extrapolate to the public leaderboard - https://www.kaggle.com/c/walmart-recruiting-trip-type-classification/leaderboard\n",
    "\n",
    "we would be at position 559 / 1046. But maybe we don't care about the competition. In terms of accuracy, maybe your business is happy with a ~62.% accuracy. Are there other metrics we can look at to understand what this model is doing?"
   ]
  },
  {
   "cell_type": "markdown",
   "metadata": {},
   "source": [
    "The first quantity we will look at is the confusion matrix. An example will make it clear"
   ]
  },
  {
   "cell_type": "code",
   "execution_count": 89,
   "metadata": {},
   "outputs": [],
   "source": [
    "from sklearn.metrics import confusion_matrix"
   ]
  },
  {
   "cell_type": "code",
   "execution_count": 90,
   "metadata": {},
   "outputs": [
    {
     "name": "stdout",
     "output_type": "stream",
     "text": [
      "[[286   0   1 ...   0   0   0]\n",
      " [  0   0   6 ...   0   0   0]\n",
      " [  1   0 341 ...   0   0   0]\n",
      " ...\n",
      " [  1   0   5 ...   0   0   0]\n",
      " [  0   0   3 ...   0   3   0]\n",
      " [ 62   0   4 ...   0   0 669]]\n"
     ]
    }
   ],
   "source": [
    "cmat = confusion_matrix(df_val_f1['TripType'].tolist(), model.predict(df_val_f1.drop('TripType', axis=1)).tolist())\n",
    "print(cmat)"
   ]
  },
  {
   "cell_type": "markdown",
   "metadata": {},
   "source": [
    "The confusion matrix indexes the rows and the columns with each trip type. The entry in the ith row and the jth column is the number of examples with labels trip type i and predictions trip type j. In other words:\n",
    "\n",
    "* The rows are the actual labels\n",
    "\n",
    "* The columns are the predictions\n",
    "\n",
    "If a model gets all the predictions correct, the confusion matrix should be diagonal. Any off-diagonal terms are errors. Note that the confusion matrix by definition is NOT symmetric."
   ]
  },
  {
   "cell_type": "code",
   "execution_count": 91,
   "metadata": {},
   "outputs": [
    {
     "data": {
      "text/plain": [
       "Text(0.5, 1.0, 'Validation Confusion Matrix')"
      ]
     },
     "execution_count": 91,
     "metadata": {},
     "output_type": "execute_result"
    },
    {
     "data": {
      "image/png": "[encoded data removed]",
      "text/plain": [
       "<Figure size 720x720 with 1 Axes>"
      ]
     },
     "metadata": {
      "needs_background": "light"
     },
     "output_type": "display_data"
    }
   ],
   "source": [
    "fig, ax = plt.subplots(figsize=(10,10))\n",
    "ax.imshow(cmat);\n",
    "\n",
    "_ = ax.set_xticks(np.arange(len(model.classes_)))\n",
    "_ = ax.set_yticks(np.arange(len(model.classes_)))\n",
    "              \n",
    "_ = ax.set_xticklabels(model.classes_, rotation=90)\n",
    "_ = ax.set_yticklabels(model.classes_)\n",
    "\n",
    "plt.xlabel('Predictions')\n",
    "plt.ylabel('Labels')\n",
    "plt.title('Validation Confusion Matrix')"
   ]
  },
  {
   "cell_type": "markdown",
   "metadata": {},
   "source": [
    "We should also look at the weights for each feature."
   ]
  },
  {
   "cell_type": "code",
   "execution_count": 92,
   "metadata": {},
   "outputs": [
    {
     "data": {
      "text/plain": [
       "(38, 68)"
      ]
     },
     "execution_count": 92,
     "metadata": {},
     "output_type": "execute_result"
    }
   ],
   "source": [
    "model.coef_.shape"
   ]
  },
  {
   "cell_type": "markdown",
   "metadata": {},
   "source": [
    "**Question**: Shouldn't there be as many weights as there are features (68)? Why do we have 38 rows here?"
   ]
  },
  {
   "cell_type": "markdown",
   "metadata": {},
   "source": [
    "See below for explanation of ovr."
   ]
  },
  {
   "cell_type": "markdown",
   "metadata": {},
   "source": [
    "### Changing the loss used by Logistic Regression"
   ]
  },
  {
   "cell_type": "markdown",
   "metadata": {},
   "source": [
    "At this stage, you should have a reasonable question. Everything we saw about logistic regression referred to the binary classification problem i.e. there were two classes - 0 and 1 and we were trying to classify objects/rows into these two classes. But here we have 38 classes and logistic regression still worked. \n",
    "\n",
    "**Question**: look at the documentation for sklearn.linear_model.LogisticRegression and see if you can discover how the model accounts for multiple classes."
   ]
  },
  {
   "cell_type": "markdown",
   "metadata": {},
   "source": [
    "LogisticRegression takes a parameter called \"multi-class\". By default, it takes the value \"ovr\". (See _check_multi_class in sklearn/linear_model/logistic.py).\n",
    "\n",
    "\"ovr\" (one-vs-rest) turns a problem with N classes into N binary classification problems. More concretely, if the N classes are $1, 2, \\ldots, N$, then N models will be built. The first one will label class 1 as 1 and everything else as 0. The second model will label class 2 as 1 and everything as 0 and so on. Each model will then be called during inference to predict a score. These scores are then normalized (divide by sum of scores).\n",
    "\n",
    "Now you can see why we the shape of the coefficients was (38,68). We have 38 logistic regression models!\n",
    "\n",
    "\"multinomial\" solves a fundamentally different problem. It optimizes for the loss that is exactly our loss above.\n",
    "\n",
    "So let's try repeating the procedure above but with \"multinormial\""
   ]
  },
  {
   "cell_type": "code",
   "execution_count": 93,
   "metadata": {},
   "outputs": [
    {
     "name": "stderr",
     "output_type": "stream",
     "text": [
      "/home/sanjay/.local/lib/python3.7/site-packages/sklearn/linear_model/logistic.py:947: ConvergenceWarning: lbfgs failed to converge. Increase the number of iterations.\n",
      "  \"of iterations.\", ConvergenceWarning)\n"
     ]
    },
    {
     "data": {
      "text/plain": [
       "LogisticRegression(C=1.0, class_weight=None, dual=False, fit_intercept=True,\n",
       "                   intercept_scaling=1, l1_ratio=None, max_iter=10,\n",
       "                   multi_class='multinomial', n_jobs=None, penalty='l2',\n",
       "                   random_state=None, solver='lbfgs', tol=0.0001, verbose=0,\n",
       "                   warm_start=False)"
      ]
     },
     "execution_count": 93,
     "metadata": {},
     "output_type": "execute_result"
    }
   ],
   "source": [
    "#this might be slow due to max_iter\n",
    "model = LogisticRegression(multi_class='multinomial', solver='lbfgs', max_iter=10)\n",
    "model.fit(df_train_f1.drop('TripType', axis=1), df_train_f1['TripType'])"
   ]
  },
  {
   "cell_type": "code",
   "execution_count": 94,
   "metadata": {},
   "outputs": [],
   "source": [
    "train_class_pred = model.predict(df_train_f1.drop('TripType', axis=1))\n",
    "val_class_pred = model.predict(df_val_f1.drop('TripType', axis=1))"
   ]
  },
  {
   "cell_type": "code",
   "execution_count": 95,
   "metadata": {},
   "outputs": [
    {
     "name": "stdout",
     "output_type": "stream",
     "text": [
      "Train Acc = 0.5426383934987392\n",
      "Val   Acc = 0.5436395944392182\n"
     ]
    }
   ],
   "source": [
    "train_acc = np.sum(train_class_pred==df_train_f1['TripType'].tolist()) / df_train_f1.shape[0]\n",
    "val_acc = np.sum(val_class_pred==df_val_f1['TripType'].tolist()) / df_val_f1.shape[0]\n",
    "\n",
    "print(f\"Train Acc = {train_acc}\")\n",
    "print(f\"Val   Acc = {val_acc}\")"
   ]
  },
  {
   "cell_type": "markdown",
   "metadata": {},
   "source": [
    "**Note**: Our accuracy jumped from 61-62% to ~66%. This is a significant improvement just by changing the loss function. In particular, this is a general theme in machine learning. All machine learning problems can be rephrased as numerical optimization problems. What you optimize has a huge impact on performance. There's a translation from business/research-level metrics to a function that is relatively easy to optimize but also captures the salient features of the business/research-level metric."
   ]
  },
  {
   "cell_type": "code",
   "execution_count": 96,
   "metadata": {},
   "outputs": [],
   "source": [
    "train_log_loss = log_loss(df_train_f1['TripType'], model.predict_proba(df_train_f1.drop('TripType', axis=1)), eps=1e-15)\n",
    "val_log_loss = log_loss(df_val_f1['TripType'], model.predict_proba(df_val_f1.drop('TripType', axis=1)), eps=1e-15, labels=model.classes_)"
   ]
  },
  {
   "cell_type": "code",
   "execution_count": 97,
   "metadata": {},
   "outputs": [
    {
     "name": "stdout",
     "output_type": "stream",
     "text": [
      "Train loss = 1.8722389624018738\n",
      "Val   loss = 1.8010624864707812\n"
     ]
    }
   ],
   "source": [
    "print(f'Train loss = {train_log_loss}')\n",
    "print(f'Val   loss = {val_log_loss}')"
   ]
  },
  {
   "cell_type": "markdown",
   "metadata": {},
   "source": [
    "As expected, directly optimizing the multinomial loss results in a significantly lower value (compared to ~1.47 earlier with ovr). A value of 1.175 would place us at 488 / 1046 on the leaderboard."
   ]
  },
  {
   "cell_type": "markdown",
   "metadata": {},
   "source": [
    "### Changing featurization strategies"
   ]
  },
  {
   "cell_type": "markdown",
   "metadata": {},
   "source": [
    "The most obvious feature we can include is day of week. Since the 7 days are given as strings, how should we encode them? One option is to map each day to an integer.\n",
    "\n",
    "Monday -> 0\n",
    "\n",
    "Tuesday -> 1\n",
    "\n",
    "Wednesday -> 2\n",
    "\n",
    "and so on.\n",
    "\n",
    "**Question**: Do you think is a reasonable idea? Why or why not?"
   ]
  },
  {
   "cell_type": "markdown",
   "metadata": {},
   "source": [
    "Recall that we are working with a linear model that makes predictions:\n",
    "\n",
    "$$p = \\sigma(w_0 + w_1 x_1 + w_2 x_2 + \\ldots + w_n x_n)$$\n",
    "\n",
    "Suppose, the last feature $x_n$ is the weekday and we keep all the other features constant. Also, suppose $w_n > 0$.\n",
    "\n",
    "Then,\n",
    "\n",
    "$$p_\\text{Wednesday} > p_\\text{Monday}$$\n",
    "\n",
    "where $p_\\text{Wednesday} = \\sigma(w_0 + w_1 x_1 + w_2 x_2 + \\ldots + w_n * 2)$ and $p_\\text{Monday} = \\sigma(w_0 + w_1 x_1 + w_2 x_2 + \\ldots + w_n * 0)$\n",
    "\n",
    "In other words, by the sheer act of encoding the days in a certain way, we have imposed an order on our predictions. We could have chosen any of 7! (factorial) permutations for the assignment of integers to the days. Each would impose its own order:\n",
    "\n",
    "Monday > Thursday > Sunday > Tuesday > Wednesday > Friday > Saturday\n",
    "\n",
    "Clearly, this is something we would like to learn. Moreover, when you move from one day to the next, the argument of the sigmoid function always increments by a constant that is $w_n$. Lastly, it's also probably not true that this relationship always holds irrespective of the values $x_1, \\ldots, x_{n-1}$ take. For example, maybe the sale of beer on a wednesday makes it more likely that the trip type is 1 as compared to a monday. But maybe the sale of icecream on a wednesday makes it less likely that the trip type is 1 as compared to a monday. In other words, for beer, switching from monday to wednesday should increase the probability of being trip type 1 but for icecream, switching from monday to wednesday should decrease the probability of being trip type 1.\n",
    "\n",
    "So, we need to encode these days in a different way. The most usual way is to assign a new column for every unique value. So there'll be one column for Mondays which is 1 when the day is Monday and 0 otherwise. This is called **one-hot encoding**."
   ]
  },
  {
   "cell_type": "code",
   "execution_count": 98,
   "metadata": {},
   "outputs": [
    {
     "data": {
      "text/plain": [
       "0    Friday\n",
       "1    Friday\n",
       "2    Friday\n",
       "3    Friday\n",
       "4    Friday\n",
       "5    Friday\n",
       "6    Friday\n",
       "7    Friday\n",
       "8    Friday\n",
       "9    Friday\n",
       "Name: Weekday, dtype: object"
      ]
     },
     "execution_count": 98,
     "metadata": {},
     "output_type": "execute_result"
    }
   ],
   "source": [
    "df_train['Weekday'].head(10)"
   ]
  },
  {
   "cell_type": "code",
   "execution_count": 99,
   "metadata": {},
   "outputs": [
    {
     "data": {
      "text/html": [
       "<div>\n",
       "<style scoped>\n",
       "    .dataframe tbody tr th:only-of-type {\n",
       "        vertical-align: middle;\n",
       "    }\n",
       "\n",
       "    .dataframe tbody tr th {\n",
       "        vertical-align: top;\n",
       "    }\n",
       "\n",
       "    .dataframe thead th {\n",
       "        text-align: right;\n",
       "    }\n",
       "</style>\n",
       "<table border=\"1\" class=\"dataframe\">\n",
       "  <thead>\n",
       "    <tr style=\"text-align: right;\">\n",
       "      <th></th>\n",
       "      <th>Friday</th>\n",
       "      <th>Monday</th>\n",
       "      <th>Saturday</th>\n",
       "      <th>Sunday</th>\n",
       "      <th>Thursday</th>\n",
       "      <th>Tuesday</th>\n",
       "      <th>Wednesday</th>\n",
       "    </tr>\n",
       "  </thead>\n",
       "  <tbody>\n",
       "    <tr>\n",
       "      <th>0</th>\n",
       "      <td>1</td>\n",
       "      <td>0</td>\n",
       "      <td>0</td>\n",
       "      <td>0</td>\n",
       "      <td>0</td>\n",
       "      <td>0</td>\n",
       "      <td>0</td>\n",
       "    </tr>\n",
       "    <tr>\n",
       "      <th>1</th>\n",
       "      <td>1</td>\n",
       "      <td>0</td>\n",
       "      <td>0</td>\n",
       "      <td>0</td>\n",
       "      <td>0</td>\n",
       "      <td>0</td>\n",
       "      <td>0</td>\n",
       "    </tr>\n",
       "    <tr>\n",
       "      <th>2</th>\n",
       "      <td>1</td>\n",
       "      <td>0</td>\n",
       "      <td>0</td>\n",
       "      <td>0</td>\n",
       "      <td>0</td>\n",
       "      <td>0</td>\n",
       "      <td>0</td>\n",
       "    </tr>\n",
       "    <tr>\n",
       "      <th>3</th>\n",
       "      <td>1</td>\n",
       "      <td>0</td>\n",
       "      <td>0</td>\n",
       "      <td>0</td>\n",
       "      <td>0</td>\n",
       "      <td>0</td>\n",
       "      <td>0</td>\n",
       "    </tr>\n",
       "    <tr>\n",
       "      <th>4</th>\n",
       "      <td>1</td>\n",
       "      <td>0</td>\n",
       "      <td>0</td>\n",
       "      <td>0</td>\n",
       "      <td>0</td>\n",
       "      <td>0</td>\n",
       "      <td>0</td>\n",
       "    </tr>\n",
       "  </tbody>\n",
       "</table>\n",
       "</div>"
      ],
      "text/plain": [
       "   Friday  Monday  Saturday  Sunday  Thursday  Tuesday  Wednesday\n",
       "0       1       0         0       0         0        0          0\n",
       "1       1       0         0       0         0        0          0\n",
       "2       1       0         0       0         0        0          0\n",
       "3       1       0         0       0         0        0          0\n",
       "4       1       0         0       0         0        0          0"
      ]
     },
     "execution_count": 99,
     "metadata": {},
     "output_type": "execute_result"
    }
   ],
   "source": [
    "pd.get_dummies(df_train['Weekday']).head()"
   ]
  },
  {
   "cell_type": "markdown",
   "metadata": {},
   "source": [
    "**Question**: What are the implications of this encoding?"
   ]
  },
  {
   "cell_type": "markdown",
   "metadata": {},
   "source": [
    "Again, pretend that $x_1, \\ldots, x_{n-1}$ are kept constant. Then the prediction is:\n",
    "\n",
    "$p = \\sigma(C + w_{n,\\text{Monday}} x_\\text{Monday} + w_{n,\\text{Tuesday}} x_\\text{Tuesday} + \\ldots + w_{n,\\text{Sunday}} x_\\text{Sunday})$\n",
    "\n",
    "where there's a new weight for each possible day and each feature $x_\\text{day}$ can only be 0 or 1 and exactly one of these will be 1.\n",
    "\n",
    "In essence, we have a different intercept $w_0$ for each day:\n",
    "\n",
    "$w_0 + w_{n, \\text{Monday}}$ for Monday\n",
    "\n",
    "$w_0 + w_{n, \\text{Tuesday}}$ for Tuesday\n",
    "\n",
    "and so on. Then the model can learn the appropriate weights and decide which ordering (and what differences between two consecutive weights) are most appropriate. We still have the problem that if everything else is kept constant, there's a fixed ordering between days. That's because linear models don't automatically take **interactions** between features into account and have no way of discovering such structure unless we explicitly pass a feature that models the interaction (for example $x_1 * x_{n, \\text{Monday}})$.\n"
   ]
  },
  {
   "cell_type": "markdown",
   "metadata": {},
   "source": [
    "**Question**: Add these one-hot encoded week values to our features."
   ]
  },
  {
   "cell_type": "code",
   "execution_count": 100,
   "metadata": {},
   "outputs": [],
   "source": [
    "df_train_f2 = pd.concat([df_train_f1, \n",
    "                         pd.get_dummies(df_train[['VisitNumber', 'Weekday']].set_index('VisitNumber'),\n",
    "                                        prefix='Weekday')], \n",
    "                         axis=1)"
   ]
  },
  {
   "cell_type": "code",
   "execution_count": 101,
   "metadata": {},
   "outputs": [],
   "source": [
    "##df_val_f2 = pd.concat([df_val_f1, \n",
    "##                       pd.get_dummies(df_val[['VisitNumber', 'Weekday']].set_index('VisitNumber'),\n",
    "##                                      prefix='Weekday')], \n",
    "##                       axis=1)\n",
    "##df_val_f2 = df_val_f2[df_train_f2.columns] #ensure column order is the same"
   ]
  },
  {
   "cell_type": "markdown",
   "metadata": {},
   "source": [
    "**Question**: Debug this issue."
   ]
  },
  {
   "cell_type": "markdown",
   "metadata": {},
   "source": [
    "We have a strong hint. The exception is raised when we try re-ordering the columns in df_val_f2 according to the columns in df_train_v2. It seems like there are no columns called \"Weekday_Saturday\" and \"Weekday_Sunday\" in df_val."
   ]
  },
  {
   "cell_type": "code",
   "execution_count": 102,
   "metadata": {},
   "outputs": [
    {
     "data": {
      "text/plain": [
       "array(['Monday', 'Tuesday', 'Wednesday', 'Thursday', 'Friday'],\n",
       "      dtype=object)"
      ]
     },
     "execution_count": 102,
     "metadata": {},
     "output_type": "execute_result"
    }
   ],
   "source": [
    "df_val['Weekday'].unique()"
   ]
  },
  {
   "cell_type": "markdown",
   "metadata": {},
   "source": [
    "Yes! Saturday and Sunday are completely missing in val! What about test?"
   ]
  },
  {
   "cell_type": "code",
   "execution_count": 103,
   "metadata": {},
   "outputs": [
    {
     "data": {
      "text/plain": [
       "array(['Friday', 'Saturday', 'Sunday'], dtype=object)"
      ]
     },
     "execution_count": 103,
     "metadata": {},
     "output_type": "execute_result"
    }
   ],
   "source": [
    "df_test['Weekday'].unique()"
   ]
  },
  {
   "cell_type": "markdown",
   "metadata": {},
   "source": [
    "What about train?"
   ]
  },
  {
   "cell_type": "code",
   "execution_count": 104,
   "metadata": {},
   "outputs": [
    {
     "data": {
      "text/plain": [
       "array(['Friday', 'Saturday', 'Sunday', 'Monday', 'Tuesday', 'Wednesday',\n",
       "       'Thursday'], dtype=object)"
      ]
     },
     "execution_count": 104,
     "metadata": {},
     "output_type": "execute_result"
    }
   ],
   "source": [
    "df_train['Weekday'].unique()"
   ]
  },
  {
   "cell_type": "markdown",
   "metadata": {},
   "source": [
    "The situation with test is even worse. We only have Friday, Saturday and Sunday. \n",
    "\n",
    "**Question**: Why could this be bad? How could we fix this?"
   ]
  },
  {
   "cell_type": "markdown",
   "metadata": {},
   "source": [
    "Let's pick a more extreme example. Suppose, train contains all the days (which is good since in real-life, we'll have to make predictions for all possible weekdays), but validation and train only contain Saturdays and Sundays (to pick an example). \n",
    "\n",
    "Your model has good performance on val and eventually on test and you put it in production. Except that you never validated your model's performance for Monday through Friday! We never had these values in val and test and so if the model was doing something hokey for those days, we would never detect it!\n",
    "\n",
    "One way of fixing this would be to randomly sample visit numbers instead of ordering them in time the way we did. As we could have expected then, if the visit numbers were ordered not by time but some other criteria, then we can potentially get very biased train, val and test sets.\n",
    "\n",
    "Another **lesson**: check the distribution of variables in train, val and test and ensure they are similar."
   ]
  },
  {
   "cell_type": "markdown",
   "metadata": {},
   "source": [
    "So let's re-define our validation strategy and create new train, val and test sets."
   ]
  },
  {
   "cell_type": "code",
   "execution_count": 105,
   "metadata": {},
   "outputs": [
    {
     "name": "stderr",
     "output_type": "stream",
     "text": [
      "/home/sanjay/anaconda3/envs/fastai2/lib/python3.7/site-packages/pandas/core/generic.py:6287: SettingWithCopyWarning: \n",
      "A value is trying to be set on a copy of a slice from a DataFrame\n",
      "\n",
      "See the caveats in the documentation: http://pandas.pydata.org/pandas-docs/stable/user_guide/indexing.html#returning-a-view-versus-a-copy\n",
      "  self._update_inplace(new_data)\n",
      "/home/sanjay/anaconda3/envs/fastai2/lib/python3.7/site-packages/pandas/core/indexing.py:494: SettingWithCopyWarning: \n",
      "A value is trying to be set on a copy of a slice from a DataFrame.\n",
      "Try using .loc[row_indexer,col_indexer] = value instead\n",
      "\n",
      "See the caveats in the documentation: http://pandas.pydata.org/pandas-docs/stable/user_guide/indexing.html#returning-a-view-versus-a-copy\n",
      "  self.obj[item] = s\n"
     ]
    }
   ],
   "source": [
    "df = pd.read_csv(f'{DATA_PATH}/train.csv')\n",
    "\n",
    "unique_visit_numbers = df['VisitNumber'].unique()\n",
    "\n",
    "N_visits = len(unique_visit_numbers)\n",
    "\n",
    "TRAIN_PERC = 0.80\n",
    "VAL_PERC = 0.10\n",
    "TEST_PERC = 0.10\n",
    "\n",
    "TRAIN_CUTOFF = int(TRAIN_PERC * N_visits)\n",
    "VAL_CUTOFF = int((TRAIN_PERC + VAL_PERC) * N_visits)\n",
    "\n",
    "np.random.seed(100) #for reproducibility\n",
    "np.random.shuffle(unique_visit_numbers) #shuffle visit numbers\n",
    "\n",
    "#get visit numbers for each set\n",
    "train_visit_numbers_rnd = unique_visit_numbers[:TRAIN_CUTOFF]\n",
    "val_visit_numbers_rnd = unique_visit_numbers[TRAIN_CUTOFF:VAL_CUTOFF]\n",
    "test_visit_numbers_rnd = unique_visit_numbers[VAL_CUTOFF:]\n",
    "\n",
    "#ensure no overlap\n",
    "assert(len(set(train_visit_numbers_rnd).intersection(val_visit_numbers_rnd))==0)\n",
    "assert(len(set(train_visit_numbers_rnd).intersection(test_visit_numbers_rnd))==0)\n",
    "assert(len(set(val_visit_numbers_rnd).intersection(test_visit_numbers_rnd))==0)\n",
    "\n",
    "#split datasets by visit numbers\n",
    "df_train = df[df['VisitNumber'].isin(train_visit_numbers_rnd)]\n",
    "df_val = df[df['VisitNumber'].isin(val_visit_numbers_rnd)]\n",
    "df_test = df[df['VisitNumber'].isin(test_visit_numbers_rnd)]\n",
    "\n",
    "#fill nulls - could do this before splitting\n",
    "df_train['Upc'].fillna(-1, inplace=True)\n",
    "df_train['DepartmentDescription'].fillna(\"-1\", inplace=True)\n",
    "df_train['FinelineNumber'].fillna(-1, inplace=True)\n",
    "\n",
    "df_val['Upc'].fillna(-1, inplace=True)\n",
    "df_val['DepartmentDescription'].fillna(\"-1\", inplace=True)\n",
    "df_val['FinelineNumber'].fillna(-1, inplace=True)\n",
    "\n",
    "df_test['Upc'].fillna(-1, inplace=True)\n",
    "df_test['DepartmentDescription'].fillna(\"-1\", inplace=True)\n",
    "df_test['FinelineNumber'].fillna(-1, inplace=True)\n",
    "\n",
    "#do department replacement\n",
    "df_train.loc[df_train['DepartmentDescription']=='HEALTH AND BEAUTY AIDS', 'DepartmentDescription'] = 'BEAUTY'\n",
    "df_val.loc[df_val['DepartmentDescription']=='HEALTH AND BEAUTY AIDS', 'DepartmentDescription'] = 'BEAUTY'\n",
    "df_test.loc[df_test['DepartmentDescription']=='HEALTH AND BEAUTY AIDS', 'DepartmentDescription'] = 'BEAUTY'\n",
    "\n",
    "#persist datasets - \"rnd\" -> random split\n",
    "#nonnull -> nulls replaced\n",
    "#deprep -> department replaced\n",
    "df_train.reset_index(drop=True).to_feather(f'{DATA_PATH}/df_nonull_deprep_train_rnd.feather')\n",
    "df_val.reset_index(drop=True).to_feather(f'{DATA_PATH}/df_nonull_deprep_val.feather')\n",
    "df_test.reset_index(drop=True).to_feather(f'{DATA_PATH}/df_nonull_deprep_test.feather')"
   ]
  },
  {
   "cell_type": "markdown",
   "metadata": {},
   "source": [
    "**Question**: Check the distribution of weekday, department description and trip type in train, val and test. Are these similar?"
   ]
  },
  {
   "cell_type": "code",
   "execution_count": 106,
   "metadata": {},
   "outputs": [
    {
     "data": {
      "text/plain": [
       "Sunday       0.210379\n",
       "Saturday     0.187228\n",
       "Friday       0.147467\n",
       "Monday       0.129400\n",
       "Tuesday      0.111269\n",
       "Wednesday    0.109917\n",
       "Thursday     0.104340\n",
       "Name: Weekday, dtype: float64"
      ]
     },
     "execution_count": 106,
     "metadata": {},
     "output_type": "execute_result"
    }
   ],
   "source": [
    "df_train['Weekday'].value_counts() / df_train['Weekday'].value_counts().sum()"
   ]
  },
  {
   "cell_type": "code",
   "execution_count": 107,
   "metadata": {},
   "outputs": [
    {
     "data": {
      "text/plain": [
       "Sunday       0.193243\n",
       "Saturday     0.188541\n",
       "Friday       0.154035\n",
       "Monday       0.122153\n",
       "Wednesday    0.114702\n",
       "Thursday     0.114608\n",
       "Tuesday      0.112718\n",
       "Name: Weekday, dtype: float64"
      ]
     },
     "execution_count": 107,
     "metadata": {},
     "output_type": "execute_result"
    }
   ],
   "source": [
    "df_val['Weekday'].value_counts() / df_val['Weekday'].value_counts().sum()"
   ]
  },
  {
   "cell_type": "code",
   "execution_count": 108,
   "metadata": {},
   "outputs": [
    {
     "data": {
      "text/plain": [
       "Saturday     0.200803\n",
       "Sunday       0.193839\n",
       "Friday       0.153857\n",
       "Monday       0.127286\n",
       "Tuesday      0.118157\n",
       "Wednesday    0.104997\n",
       "Thursday     0.101060\n",
       "Name: Weekday, dtype: float64"
      ]
     },
     "execution_count": 108,
     "metadata": {},
     "output_type": "execute_result"
    }
   ],
   "source": [
    "df_test['Weekday'].value_counts() / df_test['Weekday'].value_counts().sum()"
   ]
  },
  {
   "cell_type": "markdown",
   "metadata": {},
   "source": [
    "We have all the days in each dataset now. The distributions are also similar."
   ]
  },
  {
   "cell_type": "code",
   "execution_count": 109,
   "metadata": {},
   "outputs": [
    {
     "name": "stdout",
     "output_type": "stream",
     "text": [
      "   index  TripType\n",
      "0     40  0.271881\n",
      "1     39  0.147282\n",
      "2     37  0.059567\n",
      "3     38  0.045775\n",
      "4     25  0.042667\n"
     ]
    }
   ],
   "source": [
    "train_counts = (df_train['TripType'].value_counts() / df_train['TripType'].value_counts().sum()).reset_index()\n",
    "print(train_counts.head())"
   ]
  },
  {
   "cell_type": "code",
   "execution_count": 110,
   "metadata": {},
   "outputs": [
    {
     "name": "stdout",
     "output_type": "stream",
     "text": [
      "   index  TripType\n",
      "0     40  0.263707\n",
      "1     39  0.151083\n",
      "2     37  0.062217\n",
      "3     38  0.047768\n",
      "4     25  0.040348\n"
     ]
    }
   ],
   "source": [
    "val_counts = (df_val['TripType'].value_counts() / df_val['TripType'].value_counts().sum()).reset_index()\n",
    "print(val_counts.head())"
   ]
  },
  {
   "cell_type": "code",
   "execution_count": 111,
   "metadata": {},
   "outputs": [
    {
     "name": "stdout",
     "output_type": "stream",
     "text": [
      "   index  TripType\n",
      "0     40  0.252517\n",
      "1     39  0.146673\n",
      "2     37  0.063353\n",
      "3     25  0.045017\n",
      "4     38  0.042931\n"
     ]
    }
   ],
   "source": [
    "test_counts = (df_test['TripType'].value_counts() / df_test['TripType'].value_counts().sum()).reset_index()\n",
    "print(test_counts.head())"
   ]
  },
  {
   "cell_type": "markdown",
   "metadata": {},
   "source": [
    "You could plots this (remove the trip type 999 point though since the x-axis will get stretched out) to compare the 3 distributions or manually inspect the values. The distributions are roughly the same."
   ]
  },
  {
   "cell_type": "code",
   "execution_count": 112,
   "metadata": {},
   "outputs": [],
   "source": [
    "train_counts = (df_train['DepartmentDescription'].value_counts() / df_train['DepartmentDescription'].value_counts().sum()).reset_index()\n",
    "val_counts = (df_val['DepartmentDescription'].value_counts() / df_val['DepartmentDescription'].value_counts().sum()).reset_index()\n",
    "test_counts = (df_test['DepartmentDescription'].value_counts() / df_test['DepartmentDescription'].value_counts().sum()).reset_index()"
   ]
  },
  {
   "cell_type": "code",
   "execution_count": 113,
   "metadata": {},
   "outputs": [
    {
     "data": {
      "text/plain": [
       "[<matplotlib.lines.Line2D at 0x7f4c5c7f8610>]"
      ]
     },
     "execution_count": 113,
     "metadata": {},
     "output_type": "execute_result"
    },
    {
     "data": {
      "image/png": "[encoded data removed]",
      "text/plain": [
       "<Figure size 432x288 with 1 Axes>"
      ]
     },
     "metadata": {
      "needs_background": "light"
     },
     "output_type": "display_data"
    }
   ],
   "source": [
    "plt.plot(train_counts['DepartmentDescription'])\n",
    "plt.plot(val_counts['DepartmentDescription'])\n",
    "plt.plot(test_counts['DepartmentDescription'])"
   ]
  },
  {
   "cell_type": "markdown",
   "metadata": {},
   "source": [
    "Note: the above plot is not quite careful enough. I just plotted the % in each department in decreasing order but the order of departments might be permuted between the 3 datasets. \n",
    "\n",
    "**Question**: To be careful, map each department to an integer (ensure it's the same mapping in all 3 datasets) and plot percentage vs the integer."
   ]
  },
  {
   "cell_type": "markdown",
   "metadata": {},
   "source": [
    "**Question**: Quickly repeat our experiments with the pivot tables (without the weekday column) to see how performance changes with the new strategy?"
   ]
  },
  {
   "cell_type": "code",
   "execution_count": 114,
   "metadata": {},
   "outputs": [],
   "source": [
    "#note we have already replaced nulls and the department\n",
    "df_train_f1 = pd.pivot_table(df_train, \n",
    "                             index='VisitNumber', \n",
    "                             columns='DepartmentDescription', \n",
    "                             values='ScanCount', \n",
    "                             aggfunc='sum').fillna(0)\n",
    "\n",
    "df_val_f1 = pd.pivot_table(df_val, \n",
    "                           index='VisitNumber', \n",
    "                           columns='DepartmentDescription', \n",
    "                           values='ScanCount', \n",
    "                           aggfunc='sum').fillna(0)\n",
    "\n",
    "df_test_f1 = pd.pivot_table(df_test,\n",
    "                            index='VisitNumber',\n",
    "                            columns='DepartmentDescription', \n",
    "                            values='ScanCount', \n",
    "                            aggfunc='sum').fillna(0)"
   ]
  },
  {
   "cell_type": "code",
   "execution_count": 115,
   "metadata": {},
   "outputs": [
    {
     "data": {
      "text/plain": [
       "0.0"
      ]
     },
     "execution_count": 115,
     "metadata": {},
     "output_type": "execute_result"
    }
   ],
   "source": [
    "#check counts\n",
    "(df_train_f1.sum(axis=1) - df_train.groupby('VisitNumber').agg({'ScanCount': np.sum})['ScanCount']).sum()"
   ]
  },
  {
   "cell_type": "code",
   "execution_count": 116,
   "metadata": {},
   "outputs": [],
   "source": [
    "#add trip type\n",
    "df_train_f1 = pd.concat([df_train[['VisitNumber', 'TripType']].drop_duplicates().set_index('VisitNumber'), df_train_f1], axis=1)\n",
    "df_val_f1 = pd.concat([df_val[['VisitNumber', 'TripType']].drop_duplicates().set_index('VisitNumber'), df_val_f1], axis=1)\n",
    "df_test_f1 = pd.concat([df_test[['VisitNumber', 'TripType']].drop_duplicates().set_index('VisitNumber'), df_test_f1], axis=1)"
   ]
  },
  {
   "cell_type": "code",
   "execution_count": 117,
   "metadata": {},
   "outputs": [
    {
     "name": "stdout",
     "output_type": "stream",
     "text": [
      "(76539, 69)\n",
      "(9567, 69)\n",
      "(9568, 69)\n"
     ]
    }
   ],
   "source": [
    "print(df_train_f1.shape)\n",
    "print(df_val_f1.shape)\n",
    "print(df_test_f1.shape)"
   ]
  },
  {
   "cell_type": "code",
   "execution_count": 118,
   "metadata": {},
   "outputs": [
    {
     "name": "stdout",
     "output_type": "stream",
     "text": [
      "Train Acc = 0.5522805367198421\n",
      "Val   Acc = 0.5554510295808508\n",
      "Train loss = 1.8815151699550519\n",
      "Val   loss = 1.8831721071080396\n"
     ]
    }
   ],
   "source": [
    "#this might be slow due to max_iter\n",
    "#model = LogisticRegression() #use if too slow\n",
    "model = LogisticRegression(multi_class='multinomial', solver='lbfgs', max_iter=10, n_jobs=10)\n",
    "#model = LogisticRegression(multi_class='multinomial', solver='saga', max_iter=10, n_jobs=10)\n",
    "\n",
    "model.fit(df_train_f1.drop('TripType', axis=1), df_train_f1['TripType'])\n",
    "\n",
    "train_class_pred = model.predict(df_train_f1.drop('TripType', axis=1))\n",
    "val_class_pred = model.predict(df_val_f1.drop('TripType', axis=1))\n",
    "\n",
    "train_acc = np.sum(train_class_pred==df_train_f1['TripType'].tolist()) / df_train_f1.shape[0]\n",
    "val_acc = np.sum(val_class_pred==df_val_f1['TripType'].tolist()) / df_val_f1.shape[0]\n",
    "\n",
    "print(f\"Train Acc = {train_acc}\")\n",
    "print(f\"Val   Acc = {val_acc}\")\n",
    "\n",
    "train_log_loss = log_loss(df_train_f1['TripType'], model.predict_proba(df_train_f1.drop('TripType', axis=1)), eps=1e-15)\n",
    "val_log_loss = log_loss(df_val_f1['TripType'], model.predict_proba(df_val_f1.drop('TripType', axis=1)), eps=1e-15, labels=model.classes_)\n",
    "\n",
    "print(f'Train loss = {train_log_loss}')\n",
    "print(f'Val   loss = {val_log_loss}')"
   ]
  },
  {
   "cell_type": "markdown",
   "metadata": {},
   "source": [
    "**Note**: Overall, our results didn't change much. We went through this exercise to give you a sense of how real data science work proceeds. There are often unexpected changes in direction which require revisiting almost everything that was done. Let's now proceed to add the one-hot encoded weekday to this data."
   ]
  },
  {
   "cell_type": "code",
   "execution_count": 119,
   "metadata": {},
   "outputs": [],
   "source": [
    "df_train_f2 = pd.concat([df_train_f1, \n",
    "                         pd.get_dummies(df_train[['VisitNumber', 'Weekday']].set_index('VisitNumber'),\n",
    "                                        prefix='Weekday')], \n",
    "                         axis=1)"
   ]
  },
  {
   "cell_type": "code",
   "execution_count": 120,
   "metadata": {},
   "outputs": [],
   "source": [
    "df_val_f2 = pd.concat([df_val_f1, \n",
    "                       pd.get_dummies(df_val[['VisitNumber', 'Weekday']].set_index('VisitNumber'),\n",
    "                                      prefix='Weekday')], \n",
    "                       axis=1)\n",
    "df_val_f2 = df_val_f2[df_train_f2.columns] #ensure column order is the same"
   ]
  },
  {
   "cell_type": "code",
   "execution_count": 121,
   "metadata": {},
   "outputs": [],
   "source": [
    "df_test_f2 = pd.concat([df_test_f1, \n",
    "                        pd.get_dummies(df_test[['VisitNumber', 'Weekday']].set_index('VisitNumber'),\n",
    "                                       prefix='Weekday')], \n",
    "                         axis=1)\n",
    "df_test_f2 = df_test_f2[df_train_f2.columns]"
   ]
  },
  {
   "cell_type": "code",
   "execution_count": 122,
   "metadata": {},
   "outputs": [
    {
     "data": {
      "text/html": [
       "<div>\n",
       "<style scoped>\n",
       "    .dataframe tbody tr th:only-of-type {\n",
       "        vertical-align: middle;\n",
       "    }\n",
       "\n",
       "    .dataframe tbody tr th {\n",
       "        vertical-align: top;\n",
       "    }\n",
       "\n",
       "    .dataframe thead th {\n",
       "        text-align: right;\n",
       "    }\n",
       "</style>\n",
       "<table border=\"1\" class=\"dataframe\">\n",
       "  <thead>\n",
       "    <tr style=\"text-align: right;\">\n",
       "      <th></th>\n",
       "      <th>TripType</th>\n",
       "      <th>-1</th>\n",
       "      <th>1-HR PHOTO</th>\n",
       "      <th>ACCESSORIES</th>\n",
       "      <th>AUTOMOTIVE</th>\n",
       "      <th>BAKERY</th>\n",
       "      <th>BATH AND SHOWER</th>\n",
       "      <th>BEAUTY</th>\n",
       "      <th>BEDDING</th>\n",
       "      <th>BOOKS AND MAGAZINES</th>\n",
       "      <th>...</th>\n",
       "      <th>SWIMWEAR/OUTERWEAR</th>\n",
       "      <th>TOYS</th>\n",
       "      <th>WIRELESS</th>\n",
       "      <th>Weekday_Friday</th>\n",
       "      <th>Weekday_Monday</th>\n",
       "      <th>Weekday_Saturday</th>\n",
       "      <th>Weekday_Sunday</th>\n",
       "      <th>Weekday_Thursday</th>\n",
       "      <th>Weekday_Tuesday</th>\n",
       "      <th>Weekday_Wednesday</th>\n",
       "    </tr>\n",
       "    <tr>\n",
       "      <th>VisitNumber</th>\n",
       "      <th></th>\n",
       "      <th></th>\n",
       "      <th></th>\n",
       "      <th></th>\n",
       "      <th></th>\n",
       "      <th></th>\n",
       "      <th></th>\n",
       "      <th></th>\n",
       "      <th></th>\n",
       "      <th></th>\n",
       "      <th></th>\n",
       "      <th></th>\n",
       "      <th></th>\n",
       "      <th></th>\n",
       "      <th></th>\n",
       "      <th></th>\n",
       "      <th></th>\n",
       "      <th></th>\n",
       "      <th></th>\n",
       "      <th></th>\n",
       "      <th></th>\n",
       "    </tr>\n",
       "  </thead>\n",
       "  <tbody>\n",
       "    <tr>\n",
       "      <th>5</th>\n",
       "      <td>999</td>\n",
       "      <td>0.0</td>\n",
       "      <td>0.0</td>\n",
       "      <td>0.0</td>\n",
       "      <td>0.0</td>\n",
       "      <td>0.0</td>\n",
       "      <td>0.0</td>\n",
       "      <td>0.0</td>\n",
       "      <td>0.0</td>\n",
       "      <td>0.0</td>\n",
       "      <td>...</td>\n",
       "      <td>0.0</td>\n",
       "      <td>0.0</td>\n",
       "      <td>0.0</td>\n",
       "      <td>1</td>\n",
       "      <td>0</td>\n",
       "      <td>0</td>\n",
       "      <td>0</td>\n",
       "      <td>0</td>\n",
       "      <td>0</td>\n",
       "      <td>0</td>\n",
       "    </tr>\n",
       "    <tr>\n",
       "      <th>8</th>\n",
       "      <td>26</td>\n",
       "      <td>1.0</td>\n",
       "      <td>0.0</td>\n",
       "      <td>0.0</td>\n",
       "      <td>0.0</td>\n",
       "      <td>0.0</td>\n",
       "      <td>0.0</td>\n",
       "      <td>0.0</td>\n",
       "      <td>0.0</td>\n",
       "      <td>0.0</td>\n",
       "      <td>...</td>\n",
       "      <td>0.0</td>\n",
       "      <td>0.0</td>\n",
       "      <td>0.0</td>\n",
       "      <td>1</td>\n",
       "      <td>0</td>\n",
       "      <td>0</td>\n",
       "      <td>0</td>\n",
       "      <td>0</td>\n",
       "      <td>0</td>\n",
       "      <td>0</td>\n",
       "    </tr>\n",
       "    <tr>\n",
       "      <th>8</th>\n",
       "      <td>26</td>\n",
       "      <td>1.0</td>\n",
       "      <td>0.0</td>\n",
       "      <td>0.0</td>\n",
       "      <td>0.0</td>\n",
       "      <td>0.0</td>\n",
       "      <td>0.0</td>\n",
       "      <td>0.0</td>\n",
       "      <td>0.0</td>\n",
       "      <td>0.0</td>\n",
       "      <td>...</td>\n",
       "      <td>0.0</td>\n",
       "      <td>0.0</td>\n",
       "      <td>0.0</td>\n",
       "      <td>1</td>\n",
       "      <td>0</td>\n",
       "      <td>0</td>\n",
       "      <td>0</td>\n",
       "      <td>0</td>\n",
       "      <td>0</td>\n",
       "      <td>0</td>\n",
       "    </tr>\n",
       "    <tr>\n",
       "      <th>8</th>\n",
       "      <td>26</td>\n",
       "      <td>1.0</td>\n",
       "      <td>0.0</td>\n",
       "      <td>0.0</td>\n",
       "      <td>0.0</td>\n",
       "      <td>0.0</td>\n",
       "      <td>0.0</td>\n",
       "      <td>0.0</td>\n",
       "      <td>0.0</td>\n",
       "      <td>0.0</td>\n",
       "      <td>...</td>\n",
       "      <td>0.0</td>\n",
       "      <td>0.0</td>\n",
       "      <td>0.0</td>\n",
       "      <td>1</td>\n",
       "      <td>0</td>\n",
       "      <td>0</td>\n",
       "      <td>0</td>\n",
       "      <td>0</td>\n",
       "      <td>0</td>\n",
       "      <td>0</td>\n",
       "    </tr>\n",
       "    <tr>\n",
       "      <th>8</th>\n",
       "      <td>26</td>\n",
       "      <td>1.0</td>\n",
       "      <td>0.0</td>\n",
       "      <td>0.0</td>\n",
       "      <td>0.0</td>\n",
       "      <td>0.0</td>\n",
       "      <td>0.0</td>\n",
       "      <td>0.0</td>\n",
       "      <td>0.0</td>\n",
       "      <td>0.0</td>\n",
       "      <td>...</td>\n",
       "      <td>0.0</td>\n",
       "      <td>0.0</td>\n",
       "      <td>0.0</td>\n",
       "      <td>1</td>\n",
       "      <td>0</td>\n",
       "      <td>0</td>\n",
       "      <td>0</td>\n",
       "      <td>0</td>\n",
       "      <td>0</td>\n",
       "      <td>0</td>\n",
       "    </tr>\n",
       "  </tbody>\n",
       "</table>\n",
       "<p>5 rows × 76 columns</p>\n",
       "</div>"
      ],
      "text/plain": [
       "             TripType   -1  1-HR PHOTO  ACCESSORIES  AUTOMOTIVE  BAKERY  \\\n",
       "VisitNumber                                                               \n",
       "5                 999  0.0         0.0          0.0         0.0     0.0   \n",
       "8                  26  1.0         0.0          0.0         0.0     0.0   \n",
       "8                  26  1.0         0.0          0.0         0.0     0.0   \n",
       "8                  26  1.0         0.0          0.0         0.0     0.0   \n",
       "8                  26  1.0         0.0          0.0         0.0     0.0   \n",
       "\n",
       "             BATH AND SHOWER  BEAUTY  BEDDING  BOOKS AND MAGAZINES  ...  \\\n",
       "VisitNumber                                                         ...   \n",
       "5                        0.0     0.0      0.0                  0.0  ...   \n",
       "8                        0.0     0.0      0.0                  0.0  ...   \n",
       "8                        0.0     0.0      0.0                  0.0  ...   \n",
       "8                        0.0     0.0      0.0                  0.0  ...   \n",
       "8                        0.0     0.0      0.0                  0.0  ...   \n",
       "\n",
       "             SWIMWEAR/OUTERWEAR  TOYS  WIRELESS  Weekday_Friday  \\\n",
       "VisitNumber                                                       \n",
       "5                           0.0   0.0       0.0               1   \n",
       "8                           0.0   0.0       0.0               1   \n",
       "8                           0.0   0.0       0.0               1   \n",
       "8                           0.0   0.0       0.0               1   \n",
       "8                           0.0   0.0       0.0               1   \n",
       "\n",
       "             Weekday_Monday  Weekday_Saturday  Weekday_Sunday  \\\n",
       "VisitNumber                                                     \n",
       "5                         0                 0               0   \n",
       "8                         0                 0               0   \n",
       "8                         0                 0               0   \n",
       "8                         0                 0               0   \n",
       "8                         0                 0               0   \n",
       "\n",
       "             Weekday_Thursday  Weekday_Tuesday  Weekday_Wednesday  \n",
       "VisitNumber                                                        \n",
       "5                           0                0                  0  \n",
       "8                           0                0                  0  \n",
       "8                           0                0                  0  \n",
       "8                           0                0                  0  \n",
       "8                           0                0                  0  \n",
       "\n",
       "[5 rows x 76 columns]"
      ]
     },
     "execution_count": 122,
     "metadata": {},
     "output_type": "execute_result"
    }
   ],
   "source": [
    "df_train_f2.head()"
   ]
  },
  {
   "cell_type": "markdown",
   "metadata": {},
   "source": [
    "**Question**: Train a logistic regression model on this data. How does it do?\n",
    "\n",
    "**Development Note**\n",
    "\n",
    "Whenever you find yourself repeating the same code in multiple cells, it's a very good hint that you should write a generic function for it. In our case, it would be a function that takes in the train and val dataframes, a model instance, trains it and prints out the relevant metrics. The return value would be your trained model.\n",
    "\n",
    "We'll resist this urge here but you shouldn't.\n",
    "\n",
    "While this style of prototyping in a notebook can be very useful, it can also get chaotic and hard to maintain after some time. In our opinion, the frictionless way is to work with data science projects is to prototype small pieces in a notebook and move them to stand-alone python modules with generic functions like the one for training mentioned above."
   ]
  },
  {
   "cell_type": "code",
   "execution_count": 123,
   "metadata": {},
   "outputs": [
    {
     "name": "stdout",
     "output_type": "stream",
     "text": [
      "Train Acc = 0.27542452848355997\n",
      "Val   Acc = 0.2659408291418039\n",
      "Train loss = 3.1850868982770515\n",
      "Val   loss = 3.227083429187959\n"
     ]
    }
   ],
   "source": [
    "#this might be slow due to max_iter\n",
    "model = LogisticRegression(multi_class='multinomial', solver='lbfgs', max_iter=1, n_jobs=10)\n",
    "model.fit(df_train_f2.drop('TripType', axis=1), df_train_f2['TripType'])\n",
    "\n",
    "train_class_pred = model.predict(df_train_f2.drop('TripType', axis=1))\n",
    "val_class_pred = model.predict(df_val_f2.drop('TripType', axis=1))\n",
    "\n",
    "train_acc = np.sum(train_class_pred==df_train_f2['TripType'].tolist()) / df_train_f2.shape[0]\n",
    "val_acc = np.sum(val_class_pred==df_val_f2['TripType'].tolist()) / df_val_f2.shape[0]\n",
    "\n",
    "print(f\"Train Acc = {train_acc}\")\n",
    "print(f\"Val   Acc = {val_acc}\")\n",
    "\n",
    "train_log_loss = log_loss(df_train_f2['TripType'], model.predict_proba(df_train_f2.drop('TripType', axis=1)), eps=1e-15)\n",
    "val_log_loss = log_loss(df_val_f2['TripType'], model.predict_proba(df_val_f2.drop('TripType', axis=1)), eps=1e-15, labels=model.classes_)\n",
    "\n",
    "print(f'Train loss = {train_log_loss}')\n",
    "print(f'Val   loss = {val_log_loss}')"
   ]
  },
  {
   "cell_type": "markdown",
   "metadata": {},
   "source": [
    "At this stage, it looks like we are starting to overfit. One way to control this is by increasing the $l_2$ penalty, $1/C$."
   ]
  },
  {
   "cell_type": "code",
   "execution_count": 124,
   "metadata": {},
   "outputs": [
    {
     "data": {
      "text/plain": [
       "LogisticRegression(C=0.1, class_weight=None, dual=False, fit_intercept=True,\n",
       "                   intercept_scaling=1, l1_ratio=None, max_iter=1,\n",
       "                   multi_class='multinomial', n_jobs=10, penalty='l2',\n",
       "                   random_state=None, solver='lbfgs', tol=0.0001, verbose=0,\n",
       "                   warm_start=False)"
      ]
     },
     "execution_count": 124,
     "metadata": {},
     "output_type": "execute_result"
    }
   ],
   "source": [
    "model = LogisticRegression(multi_class='multinomial', solver='lbfgs', C=0.1, max_iter=1, n_jobs=10)\n",
    "model.fit(df_train_f2.drop('TripType', axis=1), df_train_f2['TripType'])"
   ]
  },
  {
   "cell_type": "code",
   "execution_count": 125,
   "metadata": {},
   "outputs": [
    {
     "name": "stdout",
     "output_type": "stream",
     "text": [
      "Train Acc = 0.27542452848355997\n",
      "Val   Acc = 0.2659408291418039\n",
      "Train loss = 3.1850868982770515\n",
      "Val   loss = 3.227083429187959\n"
     ]
    }
   ],
   "source": [
    "train_class_pred = model.predict(df_train_f2.drop('TripType', axis=1))\n",
    "val_class_pred = model.predict(df_val_f2.drop('TripType', axis=1))\n",
    "\n",
    "train_acc = np.sum(train_class_pred==df_train_f2['TripType'].tolist()) / df_train_f2.shape[0]\n",
    "val_acc = np.sum(val_class_pred==df_val_f2['TripType'].tolist()) / df_val_f2.shape[0]\n",
    "\n",
    "print(f\"Train Acc = {train_acc}\")\n",
    "print(f\"Val   Acc = {val_acc}\")\n",
    "\n",
    "train_log_loss = log_loss(df_train_f2['TripType'], model.predict_proba(df_train_f2.drop('TripType', axis=1)), eps=1e-15)\n",
    "val_log_loss = log_loss(df_val_f2['TripType'], model.predict_proba(df_val_f2.drop('TripType', axis=1)), eps=1e-15, labels=model.classes_)\n",
    "\n",
    "print(f'Train loss = {train_log_loss}')\n",
    "print(f'Val   loss = {val_log_loss}')"
   ]
  },
  {
   "cell_type": "markdown",
   "metadata": {},
   "source": [
    "**Normalization**:\n",
    "\n",
    "Now for the first time, we have a problem that we didn't quite face before. Most of our columns are counts but we have seven columns (weekday one-hot encodings) that are always 0 or 1.\n",
    "\n",
    "It helps to have all the numbers on the same scale for linear models. \n",
    "\n",
    "1) It makes the optimization process much easier\n",
    "\n",
    "2) It makes it possible to compare the effects of various columns. If the columns are on similar scales, we can just compare the coefficients $w_i$ and rank them by the absolute values $|w_i|$.\n",
    "\n",
    "The usual way of making the scales the same is to do the following transformation:\n",
    "\n",
    "$$x \\rightarrow \\frac{x - \\text{mean}(x)}{\\text{std}(x)}$$\n",
    "\n",
    "where:\n",
    "\n",
    "$x$ = array of numbers (one column in our case)\n",
    "\n",
    "$\\text{mean}(x)$ = mean of the numbers\n",
    "\n",
    "$\\text{std}(x)$ = standard deviation of the numbers\n",
    "\n",
    "Strictly speaking, the scale is decided just by the standard deviation but it is helpful to subtract the mean so that the values are centered around 0. But before we go ahead, we need to discuss another topic."
   ]
  },
  {
   "cell_type": "markdown",
   "metadata": {},
   "source": [
    "**Leakage**:\n",
    "\n",
    "Leakage is a general term for information from the validation set and the test set passing into the training process. We discussed earlier that we should set aside the validation and test set and train just on our training set. But there are still subtle ways in which information can pass from the hold-out (val, test) sets into the train set.\n",
    "\n",
    "**Why is this bad?** Some information, say from the val set, leaking into your train set might improve your model's performance on the val set. So the process that we rely on to estimate how our model will do in real-life is broken - we are getting better results than we would if we actually used our model on new data.\n",
    "\n",
    "**What is an example of leakage?** In our example, we need to compute the mean and standard deviation of each column and carry out the procedure. The mean and standard deviation should be computed **just on the train set**. In other words, we should split the data and then calculate the mean and standard deviation. If, by mistake, one computes the mean and standard deviation before splitting, then one has leakage.\n",
    "\n",
    "**Is this really bad?** Not always. Machine learning algorithms make a fundamental assumption that the (statistical) properties of the train set, the val set, and any future data the model sees, are the same. If they are not, your model's performance will most likely severely degrade. If you build a model to classify apples as sellable and not sellable and suddenly you start showing pictures of strawberries, then your model will not be nearly as performant as it was before. On the other hand, if your hold-out set, your train set and your new data will essentially have the same distributions, then this leakage will have no effect.\n",
    "\n",
    "**Does this mean the val and test set are essentially non-inputs to my model?** Not quite and this is where one has to be careful. Suppose, you are predicting sentiments on pieces of text. You want to create one column for each unique word and a piece of text is featurized by the counts of each word in that piece of text. This is called bag-of-words. This will usually be a very sparse matrix (just like our case above). Now, it is possible that you'll encounter words in the val or test set that you didn't seen in the train set. You could create a special column for unknown words during training or you could look at all the words including those in val and test and create columns for them. Of course, during training, you never see some of those words and those columns will always be 0 so not really helpful during your training process but this is not technically leakage.\n",
    "\n",
    "A couple of more realistic examples:\n",
    "\n",
    "1. Suppose your data consists of time-series (numbers indexed by time - stock prices etc.). You decide to featurize them by choosing some histogram bins and counting the number of entries in your time-series in each bin. Looking at all the data to choose the bins is also not leakage. You can think of this as a continuous (as opposed to discrete) version of the word problem above. Of course, if there are bins that are only occupied by the val or test set, then that column will be completely constant (= 0) during the train set and not very helpful but usually that won't happen.\n",
    "\n",
    "2. While working with language - say sentiment analysis again, you can completely ignore the labels (positive or negative sentiment) and use all the text to build a language model. A language model is a machine learning model that predicts the next word (or character) given the previous history (these are mostly neural network models today). As long as you don't use the labels somehow, this is a completely reasonable thing to do. The language model then is used to map a piece of text to features which are used to predict the sentiment (at this stage, the labels come back in and we follow the usual practice of splitting into train, val and test).\n",
    "\n",
    "**Takeaway**: Whenever confronted with an ideological truth, it is useful to probe it to understand when exactly it is true and when it is not. Leakage is a severe problem and one should be very careful about it but being ideological about it can lead one to ignore valuable statistical power that you could gain from other sources (like the language model example above).\n",
    "\n",
    "**Next step**: We'll use sklearn's in-built scaling module to the standard scaling and then build our model."
   ]
  },
  {
   "cell_type": "code",
   "execution_count": 126,
   "metadata": {},
   "outputs": [],
   "source": [
    "from sklearn.preprocessing import StandardScaler\n",
    "\n",
    "scaler = StandardScaler(with_mean=True, with_std=True)\n",
    "\n",
    "#separate features and target\n",
    "df_train_f2_features = df_train_f2.drop('TripType', axis=1)\n",
    "df_val_f2_features = df_val_f2.drop('TripType', axis=1)\n",
    "df_test_f2_features = df_test_f2.drop('TripType', axis=1)\n",
    "\n",
    "df_train_f2_target = df_train_f2['TripType']\n",
    "df_val_f2_target = df_val_f2['TripType']\n",
    "df_test_f2_target = df_test_f2['TripType']\n",
    "\n",
    "df_train_f2_scaled = scaler.fit_transform(df_train_f2_features)\n",
    "df_val_f2_scaled = scaler.transform(df_val_f2_features)\n",
    "df_test_f2_scaled = scaler.transform(df_test_f2_features)\n",
    "\n",
    "#these are not pandas dataframes so re-convent to pd.DataFrame\n",
    "df_train_f2_scaled = pd.DataFrame(df_train_f2_scaled, columns=df_train_f2_features.columns, index=df_train_f2_features.index)\n",
    "df_val_f2_scaled = pd.DataFrame(df_val_f2_scaled, columns=df_val_f2_features.columns, index=df_val_f2_features.index)\n",
    "df_test_f2_scaled = pd.DataFrame(df_test_f2_scaled, columns=df_test_f2_features.columns, index=df_test_f2_features.index)\n",
    "\n",
    "df_train_f2_scaled['TripType'] = df_train_f2_target\n",
    "df_val_f2_scaled['TripType'] = df_val_f2_target\n",
    "df_test_f2_scaled['TripType'] = df_test_f2_target"
   ]
  },
  {
   "cell_type": "code",
   "execution_count": 127,
   "metadata": {},
   "outputs": [
    {
     "data": {
      "text/html": [
       "<div>\n",
       "<style scoped>\n",
       "    .dataframe tbody tr th:only-of-type {\n",
       "        vertical-align: middle;\n",
       "    }\n",
       "\n",
       "    .dataframe tbody tr th {\n",
       "        vertical-align: top;\n",
       "    }\n",
       "\n",
       "    .dataframe thead th {\n",
       "        text-align: right;\n",
       "    }\n",
       "</style>\n",
       "<table border=\"1\" class=\"dataframe\">\n",
       "  <thead>\n",
       "    <tr style=\"text-align: right;\">\n",
       "      <th></th>\n",
       "      <th>-1</th>\n",
       "      <th>1-HR PHOTO</th>\n",
       "      <th>ACCESSORIES</th>\n",
       "      <th>AUTOMOTIVE</th>\n",
       "      <th>BAKERY</th>\n",
       "      <th>BATH AND SHOWER</th>\n",
       "      <th>BEAUTY</th>\n",
       "      <th>BEDDING</th>\n",
       "      <th>BOOKS AND MAGAZINES</th>\n",
       "      <th>BOYS WEAR</th>\n",
       "      <th>...</th>\n",
       "      <th>TOYS</th>\n",
       "      <th>WIRELESS</th>\n",
       "      <th>Weekday_Friday</th>\n",
       "      <th>Weekday_Monday</th>\n",
       "      <th>Weekday_Saturday</th>\n",
       "      <th>Weekday_Sunday</th>\n",
       "      <th>Weekday_Thursday</th>\n",
       "      <th>Weekday_Tuesday</th>\n",
       "      <th>Weekday_Wednesday</th>\n",
       "      <th>TripType</th>\n",
       "    </tr>\n",
       "    <tr>\n",
       "      <th>VisitNumber</th>\n",
       "      <th></th>\n",
       "      <th></th>\n",
       "      <th></th>\n",
       "      <th></th>\n",
       "      <th></th>\n",
       "      <th></th>\n",
       "      <th></th>\n",
       "      <th></th>\n",
       "      <th></th>\n",
       "      <th></th>\n",
       "      <th></th>\n",
       "      <th></th>\n",
       "      <th></th>\n",
       "      <th></th>\n",
       "      <th></th>\n",
       "      <th></th>\n",
       "      <th></th>\n",
       "      <th></th>\n",
       "      <th></th>\n",
       "      <th></th>\n",
       "      <th></th>\n",
       "    </tr>\n",
       "  </thead>\n",
       "  <tbody>\n",
       "    <tr>\n",
       "      <th>5</th>\n",
       "      <td>-0.121203</td>\n",
       "      <td>-0.022626</td>\n",
       "      <td>-0.090964</td>\n",
       "      <td>-0.145178</td>\n",
       "      <td>-0.289398</td>\n",
       "      <td>-0.106365</td>\n",
       "      <td>-0.277044</td>\n",
       "      <td>-0.111098</td>\n",
       "      <td>-0.082357</td>\n",
       "      <td>-0.122261</td>\n",
       "      <td>...</td>\n",
       "      <td>-0.173733</td>\n",
       "      <td>-0.080435</td>\n",
       "      <td>2.404407</td>\n",
       "      <td>-0.385529</td>\n",
       "      <td>-0.479955</td>\n",
       "      <td>-0.516169</td>\n",
       "      <td>-0.341314</td>\n",
       "      <td>-0.353836</td>\n",
       "      <td>-0.351413</td>\n",
       "      <td>999</td>\n",
       "    </tr>\n",
       "    <tr>\n",
       "      <th>8</th>\n",
       "      <td>4.220285</td>\n",
       "      <td>-0.022626</td>\n",
       "      <td>-0.090964</td>\n",
       "      <td>-0.145178</td>\n",
       "      <td>-0.289398</td>\n",
       "      <td>-0.106365</td>\n",
       "      <td>-0.277044</td>\n",
       "      <td>-0.111098</td>\n",
       "      <td>-0.082357</td>\n",
       "      <td>-0.122261</td>\n",
       "      <td>...</td>\n",
       "      <td>-0.173733</td>\n",
       "      <td>-0.080435</td>\n",
       "      <td>2.404407</td>\n",
       "      <td>-0.385529</td>\n",
       "      <td>-0.479955</td>\n",
       "      <td>-0.516169</td>\n",
       "      <td>-0.341314</td>\n",
       "      <td>-0.353836</td>\n",
       "      <td>-0.351413</td>\n",
       "      <td>26</td>\n",
       "    </tr>\n",
       "    <tr>\n",
       "      <th>8</th>\n",
       "      <td>4.220285</td>\n",
       "      <td>-0.022626</td>\n",
       "      <td>-0.090964</td>\n",
       "      <td>-0.145178</td>\n",
       "      <td>-0.289398</td>\n",
       "      <td>-0.106365</td>\n",
       "      <td>-0.277044</td>\n",
       "      <td>-0.111098</td>\n",
       "      <td>-0.082357</td>\n",
       "      <td>-0.122261</td>\n",
       "      <td>...</td>\n",
       "      <td>-0.173733</td>\n",
       "      <td>-0.080435</td>\n",
       "      <td>2.404407</td>\n",
       "      <td>-0.385529</td>\n",
       "      <td>-0.479955</td>\n",
       "      <td>-0.516169</td>\n",
       "      <td>-0.341314</td>\n",
       "      <td>-0.353836</td>\n",
       "      <td>-0.351413</td>\n",
       "      <td>26</td>\n",
       "    </tr>\n",
       "    <tr>\n",
       "      <th>8</th>\n",
       "      <td>4.220285</td>\n",
       "      <td>-0.022626</td>\n",
       "      <td>-0.090964</td>\n",
       "      <td>-0.145178</td>\n",
       "      <td>-0.289398</td>\n",
       "      <td>-0.106365</td>\n",
       "      <td>-0.277044</td>\n",
       "      <td>-0.111098</td>\n",
       "      <td>-0.082357</td>\n",
       "      <td>-0.122261</td>\n",
       "      <td>...</td>\n",
       "      <td>-0.173733</td>\n",
       "      <td>-0.080435</td>\n",
       "      <td>2.404407</td>\n",
       "      <td>-0.385529</td>\n",
       "      <td>-0.479955</td>\n",
       "      <td>-0.516169</td>\n",
       "      <td>-0.341314</td>\n",
       "      <td>-0.353836</td>\n",
       "      <td>-0.351413</td>\n",
       "      <td>26</td>\n",
       "    </tr>\n",
       "    <tr>\n",
       "      <th>8</th>\n",
       "      <td>4.220285</td>\n",
       "      <td>-0.022626</td>\n",
       "      <td>-0.090964</td>\n",
       "      <td>-0.145178</td>\n",
       "      <td>-0.289398</td>\n",
       "      <td>-0.106365</td>\n",
       "      <td>-0.277044</td>\n",
       "      <td>-0.111098</td>\n",
       "      <td>-0.082357</td>\n",
       "      <td>-0.122261</td>\n",
       "      <td>...</td>\n",
       "      <td>-0.173733</td>\n",
       "      <td>-0.080435</td>\n",
       "      <td>2.404407</td>\n",
       "      <td>-0.385529</td>\n",
       "      <td>-0.479955</td>\n",
       "      <td>-0.516169</td>\n",
       "      <td>-0.341314</td>\n",
       "      <td>-0.353836</td>\n",
       "      <td>-0.351413</td>\n",
       "      <td>26</td>\n",
       "    </tr>\n",
       "  </tbody>\n",
       "</table>\n",
       "<p>5 rows × 76 columns</p>\n",
       "</div>"
      ],
      "text/plain": [
       "                   -1  1-HR PHOTO  ACCESSORIES  AUTOMOTIVE    BAKERY  \\\n",
       "VisitNumber                                                            \n",
       "5           -0.121203   -0.022626    -0.090964   -0.145178 -0.289398   \n",
       "8            4.220285   -0.022626    -0.090964   -0.145178 -0.289398   \n",
       "8            4.220285   -0.022626    -0.090964   -0.145178 -0.289398   \n",
       "8            4.220285   -0.022626    -0.090964   -0.145178 -0.289398   \n",
       "8            4.220285   -0.022626    -0.090964   -0.145178 -0.289398   \n",
       "\n",
       "             BATH AND SHOWER    BEAUTY   BEDDING  BOOKS AND MAGAZINES  \\\n",
       "VisitNumber                                                             \n",
       "5                  -0.106365 -0.277044 -0.111098            -0.082357   \n",
       "8                  -0.106365 -0.277044 -0.111098            -0.082357   \n",
       "8                  -0.106365 -0.277044 -0.111098            -0.082357   \n",
       "8                  -0.106365 -0.277044 -0.111098            -0.082357   \n",
       "8                  -0.106365 -0.277044 -0.111098            -0.082357   \n",
       "\n",
       "             BOYS WEAR  ...      TOYS  WIRELESS  Weekday_Friday  \\\n",
       "VisitNumber             ...                                       \n",
       "5            -0.122261  ... -0.173733 -0.080435        2.404407   \n",
       "8            -0.122261  ... -0.173733 -0.080435        2.404407   \n",
       "8            -0.122261  ... -0.173733 -0.080435        2.404407   \n",
       "8            -0.122261  ... -0.173733 -0.080435        2.404407   \n",
       "8            -0.122261  ... -0.173733 -0.080435        2.404407   \n",
       "\n",
       "             Weekday_Monday  Weekday_Saturday  Weekday_Sunday  \\\n",
       "VisitNumber                                                     \n",
       "5                 -0.385529         -0.479955       -0.516169   \n",
       "8                 -0.385529         -0.479955       -0.516169   \n",
       "8                 -0.385529         -0.479955       -0.516169   \n",
       "8                 -0.385529         -0.479955       -0.516169   \n",
       "8                 -0.385529         -0.479955       -0.516169   \n",
       "\n",
       "             Weekday_Thursday  Weekday_Tuesday  Weekday_Wednesday  TripType  \n",
       "VisitNumber                                                                  \n",
       "5                   -0.341314        -0.353836          -0.351413       999  \n",
       "8                   -0.341314        -0.353836          -0.351413        26  \n",
       "8                   -0.341314        -0.353836          -0.351413        26  \n",
       "8                   -0.341314        -0.353836          -0.351413        26  \n",
       "8                   -0.341314        -0.353836          -0.351413        26  \n",
       "\n",
       "[5 rows x 76 columns]"
      ]
     },
     "execution_count": 127,
     "metadata": {},
     "output_type": "execute_result"
    }
   ],
   "source": [
    "df_train_f2_scaled.head()"
   ]
  },
  {
   "cell_type": "markdown",
   "metadata": {},
   "source": [
    "**Question**: Train a model on our scaled dataframe."
   ]
  },
  {
   "cell_type": "code",
   "execution_count": 128,
   "metadata": {},
   "outputs": [],
   "source": [
    "def train_model(model, df_train, df_val):\n",
    "    model.fit(df_train.drop('TripType', axis=1), df_train['TripType'])\n",
    "    \n",
    "    train_class_pred = model.predict(df_train.drop('TripType', axis=1))\n",
    "    val_class_pred = model.predict(df_val.drop('TripType', axis=1))\n",
    "\n",
    "    train_acc = np.sum(train_class_pred==df_train['TripType'].tolist()) / df_train.shape[0]\n",
    "    val_acc = np.sum(val_class_pred==df_val['TripType'].tolist()) / df_val.shape[0]\n",
    "\n",
    "    print(f\"Train Acc = {train_acc}\")\n",
    "    print(f\"Val   Acc = {val_acc}\")\n",
    "\n",
    "    train_log_loss = log_loss(df_train['TripType'], model.predict_proba(df_train.drop('TripType', axis=1)), eps=1e-15)\n",
    "    val_log_loss = log_loss(df_val['TripType'], model.predict_proba(df_val.drop('TripType', axis=1)), eps=1e-15, labels=model.classes_)\n",
    "\n",
    "    print(f'Train loss = {train_log_loss}')\n",
    "    print(f'Val   loss = {val_log_loss}')    \n",
    "    \n",
    "    return model"
   ]
  },
  {
   "cell_type": "code",
   "execution_count": 129,
   "metadata": {},
   "outputs": [
    {
     "name": "stdout",
     "output_type": "stream",
     "text": [
      "Train Acc = 0.46076890783813035\n",
      "Val   Acc = 0.4505451591739823\n",
      "Train loss = 3.0018918074959386\n",
      "Val   loss = 3.034042296214117\n"
     ]
    }
   ],
   "source": [
    "model = LogisticRegression(multi_class='multinomial', solver='lbfgs', max_iter=1, n_jobs=10)\n",
    "\n",
    "model = train_model(model, df_train_f2_scaled, df_val_f2_scaled)"
   ]
  },
  {
   "cell_type": "markdown",
   "metadata": {},
   "source": [
    "At this stage, there are many directions we can go in. One is to inspect the statistical properties of the data in more detail. For example, we can look at the pairwise correlations between our features. Ideally, we want these to be as uncorrelated as possible. Correlated features giving misleading coefficients that are much harder to interpret. As an example, suppose we had two features: height in meters and height in centimeters. Our prediction would be:\n",
    "\n",
    "$$\\sigma(C + w_1 h_m + w_2 h_{cm})$$\n",
    "\n",
    "Now, of course we know that $h_m = 100 * h_{cm}$! We have the same information but the linear model has no idea and finds some values for $w_1, w_2$. But we have an infinite family of possibilities:\n",
    "\n",
    "$$w_{*} h_m = (w_1 + 0.01 * w_2) h_{m}$$\n",
    "\n",
    "where $w_{*}$ is the actual weight in the process that generated the data. We could choose any $w_1,w_2$ that lie on the straight line:\n",
    "\n",
    "$$w_1 + 0.01 * w_2 = w_{*}$$\n",
    "\n",
    "and out predictions wouldn't change. But our interpretation would definitely change. We might thing either $w_1$ is far more important or $w_2$ is far more important.\n"
   ]
  },
  {
   "cell_type": "markdown",
   "metadata": {},
   "source": [
    "**Question**: Compute the correlation matrix of the features."
   ]
  },
  {
   "cell_type": "code",
   "execution_count": 130,
   "metadata": {
    "scrolled": false
   },
   "outputs": [],
   "source": [
    "corr_matrix = df_train_f2_scaled.corr()"
   ]
  },
  {
   "cell_type": "code",
   "execution_count": 131,
   "metadata": {},
   "outputs": [
    {
     "data": {
      "text/plain": [
       "Text(0.5, 1.0, 'Validation Confusion Matrix')"
      ]
     },
     "execution_count": 131,
     "metadata": {},
     "output_type": "execute_result"
    },
    {
     "data": {
      "image/png": "[encoded data removed]",
      "text/plain": [
       "<Figure size 720x720 with 1 Axes>"
      ]
     },
     "metadata": {
      "needs_background": "light"
     },
     "output_type": "display_data"
    }
   ],
   "source": [
    "fig, ax = plt.subplots(figsize=(10,10))\n",
    "ax.imshow(corr_matrix);\n",
    "\n",
    "_ = ax.set_xticks(np.arange(corr_matrix.shape[0]))\n",
    "_ = ax.set_yticks(np.arange(corr_matrix.shape[1]))\n",
    "              \n",
    "_ = ax.set_xticklabels(corr_matrix.columns, rotation=90, fontsize=7)\n",
    "_ = ax.set_yticklabels(corr_matrix.index, fontsize=7)\n",
    "\n",
    "plt.xlabel('Predictions')\n",
    "plt.ylabel('Labels')\n",
    "plt.title('Validation Confusion Matrix')"
   ]
  },
  {
   "cell_type": "code",
   "execution_count": 132,
   "metadata": {},
   "outputs": [
    {
     "data": {
      "text/plain": [
       "[('BATH AND SHOWER', 1.0),\n",
       " ('BEDDING', 0.48839756566539333),\n",
       " ('COOK AND DINE', 0.46720004828810213),\n",
       " ('PERSONAL CARE', 0.3052397705360849),\n",
       " ('INFANT APPAREL', 0.25277558761069524),\n",
       " ('MENS WEAR', 0.2440965684377025),\n",
       " ('INFANT CONSUMABLE HARDLINES', 0.21013923440876264),\n",
       " ('SHOES', 0.19792985254094192),\n",
       " ('BOYS WEAR', 0.15264927428204253),\n",
       " ('HOME MANAGEMENT', 0.14803148844110936),\n",
       " ('IMPULSE MERCHANDISE', 0.12296010826630395),\n",
       " ('LAWN AND GARDEN', 0.10290293360892704),\n",
       " ('PHARMACY OTC', 0.08925071567072204),\n",
       " ('BEAUTY', 0.07785278045981935),\n",
       " ('HARDWARE', 0.05470345406664334),\n",
       " ('HOUSEHOLD CHEMICALS/SUPP', 0.04849170495498489),\n",
       " ('HOUSEHOLD PAPER GOODS', 0.04082281027979857),\n",
       " ('HOME DECOR', 0.03873730611494216),\n",
       " ('SLEEPWEAR/FOUNDATIONS', 0.031802775306788156),\n",
       " ('DSD GROCERY', 0.027179673681862544),\n",
       " ('Weekday_Tuesday', 0.025062016939627084),\n",
       " ('SWIMWEAR/OUTERWEAR', 0.023658831335596372),\n",
       " ('PRODUCE', 0.020741600621941504),\n",
       " ('DAIRY', 0.019579589310415518),\n",
       " ('TripType', 0.019271378688636775),\n",
       " ('GROCERY DRY GOODS', 0.016230596090589945),\n",
       " ('MEAT - FRESH & FROZEN', 0.016217913140383754),\n",
       " ('FROZEN FOODS', 0.015976402862478936),\n",
       " ('OFFICE SUPPLIES', 0.015316265525121185),\n",
       " ('LADIESWEAR', 0.013748918001180858),\n",
       " ('SERVICE DELI', 0.013139799077354462),\n",
       " ('LADIES SOCKS', 0.012763372080769641),\n",
       " ('COMM BREAD', 0.012450968447683603),\n",
       " ('FURNITURE', 0.012129848222454605),\n",
       " ('Weekday_Monday', 0.011693766157081682),\n",
       " ('SEAFOOD', 0.010900621269087892),\n",
       " ('CANDY, TOBACCO, COOKIES', 0.009449455849106506),\n",
       " ('PRE PACKED DELI', 0.009174294029174105),\n",
       " ('SPORTING GOODS', 0.008526765195320012),\n",
       " ('FINANCIAL SERVICES', 0.00851795629857146),\n",
       " ('Weekday_Friday', 0.007550650305855629),\n",
       " ('Weekday_Sunday', 0.0074714434168953285),\n",
       " ('HORTICULTURE AND ACCESS', 0.007366974178301724),\n",
       " ('ELECTRONICS', 0.007262671756141339),\n",
       " ('SEASONAL', 0.007220074189486588),\n",
       " ('AUTOMOTIVE', 0.006964541640166702),\n",
       " ('BAKERY', 0.006315253204209293),\n",
       " ('-1', 0.006314779563207001),\n",
       " ('PHARMACY RX', 0.006221085032825955),\n",
       " ('WIRELESS', 0.006005910659133081),\n",
       " ('Weekday_Saturday', 0.005776095460092461),\n",
       " ('PLUS AND MATERNITY', 0.004576147062265556),\n",
       " ('PAINT AND ACCESSORIES', 0.0044855103032691865),\n",
       " ('JEWELRY AND SUNGLASSES', 0.003832643879333873),\n",
       " ('TOYS', 0.0036569607905803576),\n",
       " ('MENSWEAR', 0.0036400988226934286),\n",
       " ('PLAYERS AND ELECTRONICS', 0.0033851727413556454),\n",
       " ('ACCESSORIES', 0.0031750208498298694),\n",
       " ('PETS AND SUPPLIES', 0.003089577993048875),\n",
       " ('OPTICAL - FRAMES', 0.002929895657828487),\n",
       " ('Weekday_Wednesday', 0.0028935652692627287),\n",
       " ('SHEER HOSIERY', 0.0026424307577232412),\n",
       " ('CELEBRATION', 0.0024488706569981175),\n",
       " ('1-HR PHOTO', 0.0023079690544470215),\n",
       " ('FABRICS AND CRAFTS', 0.002218466316067763),\n",
       " ('MEDIA AND GAMING', 0.0018146007726888359),\n",
       " ('LARGE HOUSEHOLD GOODS', 0.0017088547725045736),\n",
       " ('OPTICAL - LENSES', 0.001640856367832009),\n",
       " ('OTHER DEPARTMENTS', 0.0014081712312381412),\n",
       " ('BRAS & SHAPEWEAR', 0.0014080552780047488),\n",
       " ('Weekday_Thursday', 0.0014064886136686946),\n",
       " ('CAMERAS AND SUPPLIES', 0.0009667288608219242),\n",
       " ('CONCEPT STORES', 0.0009240044293549809),\n",
       " ('BOOKS AND MAGAZINES', 0.0007026166760222792),\n",
       " ('GIRLS WEAR, 4-6X  AND 7-14', 0.0004989027592653318),\n",
       " ('LIQUOR,WINE,BEER', 0.00016121214102436627)]"
      ]
     },
     "execution_count": 132,
     "metadata": {},
     "output_type": "execute_result"
    }
   ],
   "source": [
    "import operator\n",
    "\n",
    "sorted(list(corr_matrix.loc['BATH AND SHOWER'].abs().items()), key=operator.itemgetter(1), reverse=True)"
   ]
  },
  {
   "cell_type": "markdown",
   "metadata": {},
   "source": [
    "We didn't discuss this in class but one technique for \"disentangling\" correlated features is called principal component analysis (PCA). Essentially, we find linear combinations of features such that they are uncorrelated. Mathematically, we compute the covariance matrix of the features and diagonalize it (find eigenvectors and eigenvalues). The eigenvectors tell us the weights of the linear combinations and the eigenvalues tell us the variance of each combination.\n",
    "\n",
    "Don't worry about the details here except that before you do PCA, you should zero-mean the data (which we did for the scaled dataframes)."
   ]
  },
  {
   "cell_type": "code",
   "execution_count": 133,
   "metadata": {},
   "outputs": [],
   "source": [
    "from sklearn.decomposition import PCA"
   ]
  },
  {
   "cell_type": "code",
   "execution_count": 134,
   "metadata": {},
   "outputs": [
    {
     "data": {
      "text/plain": [
       "PCA(copy=True, iterated_power='auto', n_components=None, random_state=None,\n",
       "    svd_solver='auto', tol=0.0, whiten=False)"
      ]
     },
     "execution_count": 134,
     "metadata": {},
     "output_type": "execute_result"
    }
   ],
   "source": [
    "pca = PCA()\n",
    "pca.fit(df_train_f2_scaled.drop('TripType', axis=1))"
   ]
  },
  {
   "cell_type": "code",
   "execution_count": 135,
   "metadata": {},
   "outputs": [
    {
     "data": {
      "text/plain": [
       "[<matplotlib.lines.Line2D at 0x7f4c4f149410>]"
      ]
     },
     "execution_count": 135,
     "metadata": {},
     "output_type": "execute_result"
    },
    {
     "data": {
      "image/png": "[encoded data removed]",
      "text/plain": [
       "<Figure size 432x288 with 1 Axes>"
      ]
     },
     "metadata": {
      "needs_background": "light"
     },
     "output_type": "display_data"
    }
   ],
   "source": [
    "plt.plot(np.cumsum(pca.explained_variance_ratio_))"
   ]
  },
  {
   "cell_type": "code",
   "execution_count": 136,
   "metadata": {},
   "outputs": [
    {
     "data": {
      "text/plain": [
       "0.052389848097673115"
      ]
     },
     "execution_count": 136,
     "metadata": {},
     "output_type": "execute_result"
    }
   ],
   "source": [
    "#the first component explains 0.05 = 5% of the variance\n",
    "pca.explained_variance_ratio_[0]"
   ]
  },
  {
   "cell_type": "code",
   "execution_count": 137,
   "metadata": {},
   "outputs": [
    {
     "data": {
      "text/plain": [
       "[('-1', 0.027644238041933913),\n",
       " ('1-HR PHOTO', -0.011525274712120948),\n",
       " ('ACCESSORIES', -0.021586545677285907),\n",
       " ('AUTOMOTIVE', -0.0033655343639110713),\n",
       " ('BAKERY', 0.13039620895654164),\n",
       " ('BATH AND SHOWER', -0.012443837701988286),\n",
       " ('BEAUTY', 0.006258883014853997),\n",
       " ('BEDDING', -0.015652177469242246),\n",
       " ('BOOKS AND MAGAZINES', 0.0024924230441944195),\n",
       " ('BOYS WEAR', -0.03284920204102767),\n",
       " ('BRAS & SHAPEWEAR', -0.020495136336177108),\n",
       " ('CAMERAS AND SUPPLIES', -0.011445004411059275),\n",
       " ('CANDY, TOBACCO, COOKIES', 0.0902666977007559),\n",
       " ('CELEBRATION', -0.013447988163233804),\n",
       " ('COMM BREAD', 0.32363154006948075),\n",
       " ('CONCEPT STORES', -0.004693472316613635),\n",
       " ('COOK AND DINE', 0.010428669357589628),\n",
       " ('DAIRY', 0.3603627622245652),\n",
       " ('DSD GROCERY', 0.3167758512910797),\n",
       " ('ELECTRONICS', -0.01809487469071171),\n",
       " ('FABRICS AND CRAFTS', -0.013599855236983127),\n",
       " ('FINANCIAL SERVICES', 0.001857846607159188),\n",
       " ('FROZEN FOODS', 0.2677412566883467),\n",
       " ('FURNITURE', -0.011774305367147523),\n",
       " ('GIRLS WEAR, 4-6X  AND 7-14', -0.01632971882877554),\n",
       " ('GROCERY DRY GOODS', 0.38392902079486485),\n",
       " ('HARDWARE', -0.012054979282341354),\n",
       " ('HOME DECOR', 0.009331499794346583),\n",
       " ('HOME MANAGEMENT', -0.003749296289389202),\n",
       " ('HORTICULTURE AND ACCESS', -0.01575901674645766),\n",
       " ('HOUSEHOLD CHEMICALS/SUPP', 0.14687964438878706),\n",
       " ('HOUSEHOLD PAPER GOODS', 0.19899925465026522),\n",
       " ('IMPULSE MERCHANDISE', 0.05071589221004571),\n",
       " ('INFANT APPAREL', -0.025550320510648),\n",
       " ('INFANT CONSUMABLE HARDLINES', 0.02649409338861938),\n",
       " ('JEWELRY AND SUNGLASSES', -0.017372305992517604),\n",
       " ('LADIES SOCKS', -0.005498644150282373),\n",
       " ('LADIESWEAR', -0.02744294808136436),\n",
       " ('LARGE HOUSEHOLD GOODS', -0.008629925680149307),\n",
       " ('LAWN AND GARDEN', -0.011299817172453952),\n",
       " ('LIQUOR,WINE,BEER', 0.07560597506744567),\n",
       " ('MEAT - FRESH & FROZEN', 0.2949453605133612),\n",
       " ('MEDIA AND GAMING', 0.0006741643976920778),\n",
       " ('MENS WEAR', -0.044626031145398384),\n",
       " ('MENSWEAR', -0.003484088492947665),\n",
       " ('OFFICE SUPPLIES', -0.019746538936937032),\n",
       " ('OPTICAL - FRAMES', -0.006725964517651454),\n",
       " ('OPTICAL - LENSES', -0.009311456273701196),\n",
       " ('OTHER DEPARTMENTS', -0.00030944268511643857),\n",
       " ('PAINT AND ACCESSORIES', -0.010544499893799079),\n",
       " ('PERSONAL CARE', 0.05081456622188318),\n",
       " ('PETS AND SUPPLIES', 0.025382824611480514),\n",
       " ('PHARMACY OTC', 0.03871676192643113),\n",
       " ('PHARMACY RX', -0.03243609983457123),\n",
       " ('PLAYERS AND ELECTRONICS', -0.004065800383741361),\n",
       " ('PLUS AND MATERNITY', -0.013059123838010021),\n",
       " ('PRE PACKED DELI', 0.2947303512165367),\n",
       " ('PRODUCE', 0.3195741351510457),\n",
       " ('SEAFOOD', 0.1800879707021188),\n",
       " ('SEASONAL', 0.004934079084198242),\n",
       " ('SERVICE DELI', 0.13893384724155916),\n",
       " ('SHEER HOSIERY', -0.011313407593157626),\n",
       " ('SHOES', -0.015393705786856655),\n",
       " ('SLEEPWEAR/FOUNDATIONS', -0.014676538802068434),\n",
       " ('SPORTING GOODS', -0.017383105451132887),\n",
       " ('SWIMWEAR/OUTERWEAR', -0.010892824464094815),\n",
       " ('TOYS', -0.014096650937828659),\n",
       " ('WIRELESS', -0.02205672540879016),\n",
       " ('Weekday_Friday', -0.030086110125196814),\n",
       " ('Weekday_Monday', 0.009459914152783402),\n",
       " ('Weekday_Saturday', 0.012446203080004667),\n",
       " ('Weekday_Sunday', 0.05409915544870783),\n",
       " ('Weekday_Thursday', -0.029121234110118632),\n",
       " ('Weekday_Tuesday', -0.01955082620999041),\n",
       " ('Weekday_Wednesday', -0.013945097380803196)]"
      ]
     },
     "execution_count": 137,
     "metadata": {},
     "output_type": "execute_result"
    }
   ],
   "source": [
    "list(zip(df_train_f2_scaled.drop('TripType', axis=1).columns, pca.components_[0]))"
   ]
  },
  {
   "cell_type": "markdown",
   "metadata": {},
   "source": [
    "Let's try transforming the data to PCA components and training a new model."
   ]
  },
  {
   "cell_type": "code",
   "execution_count": 138,
   "metadata": {},
   "outputs": [],
   "source": [
    "df_train_f2_pca = pd.DataFrame(pca.transform(df_train_f2_scaled.drop('TripType', axis=1)), \n",
    "                               columns = df_train_f2_features.columns,\n",
    "                               index = df_train_f2_features.index)\n",
    "df_train_f2_pca['TripType'] = df_train_f2_scaled['TripType']\n",
    "\n",
    "df_val_f2_pca = pd.DataFrame(pca.transform(df_val_f2_scaled.drop('TripType', axis=1)), \n",
    "                             columns = df_val_f2_features.columns,\n",
    "                             index = df_val_f2_features.index)\n",
    "df_val_f2_pca['TripType'] = df_val_f2_scaled['TripType']\n",
    "\n",
    "df_test_f2_pca = pd.DataFrame(pca.transform(df_test_f2_scaled.drop('TripType', axis=1)), \n",
    "                              columns = df_test_f2_features.columns,\n",
    "                              index = df_test_f2_features.index)\n",
    "df_test_f2_pca['TripType'] = df_test_f2_scaled['TripType']"
   ]
  },
  {
   "cell_type": "code",
   "execution_count": 139,
   "metadata": {},
   "outputs": [
    {
     "name": "stdout",
     "output_type": "stream",
     "text": [
      "Train Acc = 0.46076890783813035\n",
      "Val   Acc = 0.4505451591739823\n",
      "Train loss = 3.0018918074959386\n",
      "Val   loss = 3.034042296214117\n"
     ]
    }
   ],
   "source": [
    "model = LogisticRegression(multi_class='multinomial', solver='lbfgs', max_iter=1, n_jobs=10)\n",
    "\n",
    "model = train_model(model, df_train_f2_pca, df_val_f2_pca)"
   ]
  }
 ],
 "metadata": {
  "kernelspec": {
   "display_name": "Python 3",
   "language": "python",
   "name": "python3"
  },
  "language_info": {
   "codemirror_mode": {
    "name": "ipython",
    "version": 3
   },
   "file_extension": ".py",
   "mimetype": "text/x-python",
   "name": "python",
   "nbconvert_exporter": "python",
   "pygments_lexer": "ipython3",
   "version": "3.7.4"
  }
 },
 "nbformat": 4,
 "nbformat_minor": 2
}
