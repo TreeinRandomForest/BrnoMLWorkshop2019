{
 "cells": [
  {
   "cell_type": "code",
   "execution_count": 1,
   "metadata": {},
   "outputs": [],
   "source": [
    "%load_ext autoreload\n",
    "%autoreload 2\n",
    "%matplotlib inline"
   ]
  },
  {
   "cell_type": "code",
   "execution_count": 2,
   "metadata": {},
   "outputs": [],
   "source": [
    "import numpy as np\n",
    "import pandas as pd\n",
    "import matplotlib.pylab as plt"
   ]
  },
  {
   "cell_type": "markdown",
   "metadata": {},
   "source": [
    "# Goals of this notebook\n",
    "\n",
    "* Build our first classification model and evaluate it on the hold-out sets.\n",
    "\n",
    "* Try various features and understand what the model is doing.\n",
    "\n",
    "Note: this is a very long notebook and we don't expect you to go through it in a couple of hours. Neither is the process followed below exhaustive. Play around, change things and most importantly, enjoy yourself."
   ]
  },
  {
   "cell_type": "markdown",
   "metadata": {},
   "source": [
    "### Read in data from previous day"
   ]
  },
  {
   "cell_type": "code",
   "execution_count": 3,
   "metadata": {},
   "outputs": [],
   "source": [
    "DATA_PATH = \"../data/walmart\"\n",
    "TRAIN_PATH = f\"{DATA_PATH}/train.csv\"\n",
    "TEST_PATH = f\"{DATA_PATH}/test.csv\""
   ]
  },
  {
   "cell_type": "code",
   "execution_count": 4,
   "metadata": {},
   "outputs": [],
   "source": [
    "df_train = pd.read_feather(f'{DATA_PATH}/df_raw_train.feather')\n",
    "df_val = pd.read_feather(f'{DATA_PATH}/df_raw_val.feather')\n",
    "df_test = pd.read_feather(f'{DATA_PATH}/df_raw_test.feather')"
   ]
  },
  {
   "cell_type": "code",
   "execution_count": 5,
   "metadata": {},
   "outputs": [],
   "source": [
    "train_visits = df_train['VisitNumber'].unique()\n",
    "train_visits = np.random.choice(train_visits, size=int(len(train_visits)))\n",
    "train_visits = np.concatenate([train_visits, [7, 25]])"
   ]
  },
  {
   "cell_type": "code",
   "execution_count": 6,
   "metadata": {},
   "outputs": [],
   "source": [
    "val_visits = df_val['VisitNumber'].unique()\n",
    "test_visits = df_test['VisitNumber'].unique()\n",
    "\n",
    "all_visits = np.concatenate([train_visits, val_visits, test_visits])"
   ]
  },
  {
   "cell_type": "code",
   "execution_count": 7,
   "metadata": {},
   "outputs": [],
   "source": [
    "def read_train_df(path, visits_to_filter, cols):\n",
    "    csv_iterator = pd.read_csv(path, iterator=True, chunksize=1000, usecols=cols)\n",
    "    \n",
    "    df = pd.concat([chunk[chunk['VisitNumber'].isin(visits_to_filter)] for chunk in csv_iterator], axis=0)\n",
    "    \n",
    "    return df"
   ]
  },
  {
   "cell_type": "code",
   "execution_count": 8,
   "metadata": {},
   "outputs": [],
   "source": [
    "df_train = df_train[df_train['VisitNumber'].isin(train_visits)].reset_index(drop=True)"
   ]
  },
  {
   "cell_type": "code",
   "execution_count": 9,
   "metadata": {},
   "outputs": [
    {
     "data": {
      "text/html": [
       "<div>\n",
       "<style scoped>\n",
       "    .dataframe tbody tr th:only-of-type {\n",
       "        vertical-align: middle;\n",
       "    }\n",
       "\n",
       "    .dataframe tbody tr th {\n",
       "        vertical-align: top;\n",
       "    }\n",
       "\n",
       "    .dataframe thead th {\n",
       "        text-align: right;\n",
       "    }\n",
       "</style>\n",
       "<table border=\"1\" class=\"dataframe\">\n",
       "  <thead>\n",
       "    <tr style=\"text-align: right;\">\n",
       "      <th></th>\n",
       "      <th>TripType</th>\n",
       "      <th>VisitNumber</th>\n",
       "      <th>Weekday</th>\n",
       "      <th>Upc</th>\n",
       "      <th>ScanCount</th>\n",
       "      <th>DepartmentDescription</th>\n",
       "      <th>FinelineNumber</th>\n",
       "    </tr>\n",
       "  </thead>\n",
       "  <tbody>\n",
       "    <tr>\n",
       "      <th>13948</th>\n",
       "      <td>999</td>\n",
       "      <td>156987</td>\n",
       "      <td>Tuesday</td>\n",
       "      <td>1.564569e+09</td>\n",
       "      <td>2</td>\n",
       "      <td>CONCEPT STORES</td>\n",
       "      <td>4392.0</td>\n",
       "    </tr>\n",
       "    <tr>\n",
       "      <th>37195</th>\n",
       "      <td>999</td>\n",
       "      <td>164439</td>\n",
       "      <td>Wednesday</td>\n",
       "      <td>6.700001e+09</td>\n",
       "      <td>1</td>\n",
       "      <td>CONCEPT STORES</td>\n",
       "      <td>4392.0</td>\n",
       "    </tr>\n",
       "    <tr>\n",
       "      <th>57300</th>\n",
       "      <td>999</td>\n",
       "      <td>171041</td>\n",
       "      <td>Thursday</td>\n",
       "      <td>1.564569e+09</td>\n",
       "      <td>1</td>\n",
       "      <td>CONCEPT STORES</td>\n",
       "      <td>4392.0</td>\n",
       "    </tr>\n",
       "  </tbody>\n",
       "</table>\n",
       "</div>"
      ],
      "text/plain": [
       "       TripType  VisitNumber    Weekday           Upc  ScanCount  \\\n",
       "13948       999       156987    Tuesday  1.564569e+09          2   \n",
       "37195       999       164439  Wednesday  6.700001e+09          1   \n",
       "57300       999       171041   Thursday  1.564569e+09          1   \n",
       "\n",
       "      DepartmentDescription  FinelineNumber  \n",
       "13948        CONCEPT STORES          4392.0  \n",
       "37195        CONCEPT STORES          4392.0  \n",
       "57300        CONCEPT STORES          4392.0  "
      ]
     },
     "execution_count": 9,
     "metadata": {},
     "output_type": "execute_result"
    }
   ],
   "source": [
    "df_val[df_val['DepartmentDescription']=='CONCEPT STORES']"
   ]
  },
  {
   "cell_type": "markdown",
   "metadata": {},
   "source": [
    "### Modeling"
   ]
  },
  {
   "cell_type": "markdown",
   "metadata": {},
   "source": [
    "The main technique we'll use today is **Logistic Regression**. Logistic regression is *not* a regression model - it is a classification model.\n",
    "\n",
    "A quick summary:\n",
    "\n",
    "Given n features - $x_1, x_2, \\ldots, x_n$, and a binary target variable - $y \\in {0,1}$, logistic regression predicts the probability this example belongs to class 1 as:\n",
    "\n",
    "$$p = \\sigma(w_0 + w_1 x_1 + w_2 x_2 + \\ldots + w_n x_n)$$\n",
    "\n",
    "where $\\sigma$ is the sigmoid function: $\\sigma(x) = \\frac{1}{1 + e^{-x}}$\n",
    "\n",
    "As we discussed in the lecture, you can think of $\\sigma$ as a softer switch function which \"smoothifies\" the discrete switch:\n",
    "\n",
    "$s(x) = \n",
    "\\begin{cases}\n",
    "0, \\text{ if x < 0} \\\\\n",
    "1, \\text{ if x} \\geq 0\n",
    "\\end{cases}\n",
    "$\n",
    "\n",
    "This is a linear model since it uses the linear combination:\n",
    "\n",
    "$$w_0 + w_1 x_1 + w_2 x_2 + \\ldots + w_n x_n$$\n",
    "\n",
    "In particular, this means that we don't take into account features like $x_i x_j$ or higher-order terms. If we do want to take those into account, we would have to explicitly create a features (column) $x_i x_j$."
   ]
  },
  {
   "cell_type": "markdown",
   "metadata": {},
   "source": [
    "# Featurization Strategy 1:\n",
    "\n",
    "We want to predict the trip type of each VisitNumber. Our hypothesis is that one of the simplest predictors is the type of items bought on each trip. But we have several rows for each trip. How can we create a dataset with one row per visit and a description of all the items bought.\n",
    "\n",
    "The first question is whether we should use Upc, FinelineNumber or DepartmentDescription to describe what items were bought.\n",
    "\n",
    "**Question**: What are the tradeoffs between choosing each one of these 3 options?"
   ]
  },
  {
   "cell_type": "markdown",
   "metadata": {},
   "source": [
    "The main tradeoff is the number of distinct items. There are 68 unique departments in the train set, 5142 unique FinelineNumbers, and 89281 unique Upc codes. It is initially easier to work at the department level although we should put a marker **TODO** to extend our models with FinelineNo and Upc later."
   ]
  },
  {
   "cell_type": "markdown",
   "metadata": {},
   "source": [
    "So how exactly do we create rows that have some description of the departments someone shopped at. The easier way is to have a column for every unique department and a row for each visit number. The entry in row i and column j is the number of items bought during visit i in department j.\n",
    "\n",
    "**Question**: Can you think of an easy way to create this table using one of the in-build pandas functions we have seen?"
   ]
  },
  {
   "cell_type": "code",
   "execution_count": 10,
   "metadata": {
    "scrolled": false
   },
   "outputs": [
    {
     "data": {
      "text/html": [
       "<div>\n",
       "<style scoped>\n",
       "    .dataframe tbody tr th:only-of-type {\n",
       "        vertical-align: middle;\n",
       "    }\n",
       "\n",
       "    .dataframe tbody tr th {\n",
       "        vertical-align: top;\n",
       "    }\n",
       "\n",
       "    .dataframe thead th {\n",
       "        text-align: right;\n",
       "    }\n",
       "</style>\n",
       "<table border=\"1\" class=\"dataframe\">\n",
       "  <thead>\n",
       "    <tr style=\"text-align: right;\">\n",
       "      <th>DepartmentDescription</th>\n",
       "      <th>1-HR PHOTO</th>\n",
       "      <th>ACCESSORIES</th>\n",
       "      <th>AUTOMOTIVE</th>\n",
       "      <th>BAKERY</th>\n",
       "      <th>BATH AND SHOWER</th>\n",
       "      <th>BEAUTY</th>\n",
       "      <th>BEDDING</th>\n",
       "      <th>BOOKS AND MAGAZINES</th>\n",
       "      <th>BOYS WEAR</th>\n",
       "      <th>BRAS &amp; SHAPEWEAR</th>\n",
       "      <th>...</th>\n",
       "      <th>SEAFOOD</th>\n",
       "      <th>SEASONAL</th>\n",
       "      <th>SERVICE DELI</th>\n",
       "      <th>SHEER HOSIERY</th>\n",
       "      <th>SHOES</th>\n",
       "      <th>SLEEPWEAR/FOUNDATIONS</th>\n",
       "      <th>SPORTING GOODS</th>\n",
       "      <th>SWIMWEAR/OUTERWEAR</th>\n",
       "      <th>TOYS</th>\n",
       "      <th>WIRELESS</th>\n",
       "    </tr>\n",
       "    <tr>\n",
       "      <th>VisitNumber</th>\n",
       "      <th></th>\n",
       "      <th></th>\n",
       "      <th></th>\n",
       "      <th></th>\n",
       "      <th></th>\n",
       "      <th></th>\n",
       "      <th></th>\n",
       "      <th></th>\n",
       "      <th></th>\n",
       "      <th></th>\n",
       "      <th></th>\n",
       "      <th></th>\n",
       "      <th></th>\n",
       "      <th></th>\n",
       "      <th></th>\n",
       "      <th></th>\n",
       "      <th></th>\n",
       "      <th></th>\n",
       "      <th></th>\n",
       "      <th></th>\n",
       "      <th></th>\n",
       "    </tr>\n",
       "  </thead>\n",
       "  <tbody>\n",
       "    <tr>\n",
       "      <th>5</th>\n",
       "      <td>NaN</td>\n",
       "      <td>NaN</td>\n",
       "      <td>NaN</td>\n",
       "      <td>NaN</td>\n",
       "      <td>NaN</td>\n",
       "      <td>NaN</td>\n",
       "      <td>NaN</td>\n",
       "      <td>NaN</td>\n",
       "      <td>NaN</td>\n",
       "      <td>NaN</td>\n",
       "      <td>...</td>\n",
       "      <td>NaN</td>\n",
       "      <td>NaN</td>\n",
       "      <td>NaN</td>\n",
       "      <td>NaN</td>\n",
       "      <td>NaN</td>\n",
       "      <td>NaN</td>\n",
       "      <td>NaN</td>\n",
       "      <td>NaN</td>\n",
       "      <td>NaN</td>\n",
       "      <td>NaN</td>\n",
       "    </tr>\n",
       "    <tr>\n",
       "      <th>7</th>\n",
       "      <td>NaN</td>\n",
       "      <td>NaN</td>\n",
       "      <td>NaN</td>\n",
       "      <td>NaN</td>\n",
       "      <td>NaN</td>\n",
       "      <td>NaN</td>\n",
       "      <td>NaN</td>\n",
       "      <td>NaN</td>\n",
       "      <td>NaN</td>\n",
       "      <td>NaN</td>\n",
       "      <td>...</td>\n",
       "      <td>NaN</td>\n",
       "      <td>NaN</td>\n",
       "      <td>NaN</td>\n",
       "      <td>NaN</td>\n",
       "      <td>1.0</td>\n",
       "      <td>NaN</td>\n",
       "      <td>NaN</td>\n",
       "      <td>NaN</td>\n",
       "      <td>NaN</td>\n",
       "      <td>NaN</td>\n",
       "    </tr>\n",
       "    <tr>\n",
       "      <th>9</th>\n",
       "      <td>NaN</td>\n",
       "      <td>NaN</td>\n",
       "      <td>NaN</td>\n",
       "      <td>NaN</td>\n",
       "      <td>NaN</td>\n",
       "      <td>NaN</td>\n",
       "      <td>NaN</td>\n",
       "      <td>NaN</td>\n",
       "      <td>NaN</td>\n",
       "      <td>NaN</td>\n",
       "      <td>...</td>\n",
       "      <td>NaN</td>\n",
       "      <td>NaN</td>\n",
       "      <td>NaN</td>\n",
       "      <td>NaN</td>\n",
       "      <td>NaN</td>\n",
       "      <td>NaN</td>\n",
       "      <td>NaN</td>\n",
       "      <td>NaN</td>\n",
       "      <td>NaN</td>\n",
       "      <td>NaN</td>\n",
       "    </tr>\n",
       "    <tr>\n",
       "      <th>11</th>\n",
       "      <td>NaN</td>\n",
       "      <td>NaN</td>\n",
       "      <td>NaN</td>\n",
       "      <td>NaN</td>\n",
       "      <td>NaN</td>\n",
       "      <td>NaN</td>\n",
       "      <td>NaN</td>\n",
       "      <td>NaN</td>\n",
       "      <td>NaN</td>\n",
       "      <td>NaN</td>\n",
       "      <td>...</td>\n",
       "      <td>NaN</td>\n",
       "      <td>NaN</td>\n",
       "      <td>NaN</td>\n",
       "      <td>NaN</td>\n",
       "      <td>NaN</td>\n",
       "      <td>NaN</td>\n",
       "      <td>NaN</td>\n",
       "      <td>NaN</td>\n",
       "      <td>NaN</td>\n",
       "      <td>NaN</td>\n",
       "    </tr>\n",
       "    <tr>\n",
       "      <th>15</th>\n",
       "      <td>NaN</td>\n",
       "      <td>NaN</td>\n",
       "      <td>NaN</td>\n",
       "      <td>NaN</td>\n",
       "      <td>NaN</td>\n",
       "      <td>NaN</td>\n",
       "      <td>NaN</td>\n",
       "      <td>NaN</td>\n",
       "      <td>NaN</td>\n",
       "      <td>NaN</td>\n",
       "      <td>...</td>\n",
       "      <td>NaN</td>\n",
       "      <td>NaN</td>\n",
       "      <td>NaN</td>\n",
       "      <td>NaN</td>\n",
       "      <td>NaN</td>\n",
       "      <td>NaN</td>\n",
       "      <td>NaN</td>\n",
       "      <td>NaN</td>\n",
       "      <td>NaN</td>\n",
       "      <td>NaN</td>\n",
       "    </tr>\n",
       "    <tr>\n",
       "      <th>25</th>\n",
       "      <td>NaN</td>\n",
       "      <td>NaN</td>\n",
       "      <td>NaN</td>\n",
       "      <td>NaN</td>\n",
       "      <td>NaN</td>\n",
       "      <td>NaN</td>\n",
       "      <td>NaN</td>\n",
       "      <td>NaN</td>\n",
       "      <td>NaN</td>\n",
       "      <td>NaN</td>\n",
       "      <td>...</td>\n",
       "      <td>NaN</td>\n",
       "      <td>NaN</td>\n",
       "      <td>NaN</td>\n",
       "      <td>NaN</td>\n",
       "      <td>NaN</td>\n",
       "      <td>NaN</td>\n",
       "      <td>NaN</td>\n",
       "      <td>NaN</td>\n",
       "      <td>NaN</td>\n",
       "      <td>NaN</td>\n",
       "    </tr>\n",
       "    <tr>\n",
       "      <th>26</th>\n",
       "      <td>NaN</td>\n",
       "      <td>NaN</td>\n",
       "      <td>NaN</td>\n",
       "      <td>NaN</td>\n",
       "      <td>NaN</td>\n",
       "      <td>NaN</td>\n",
       "      <td>NaN</td>\n",
       "      <td>NaN</td>\n",
       "      <td>NaN</td>\n",
       "      <td>NaN</td>\n",
       "      <td>...</td>\n",
       "      <td>NaN</td>\n",
       "      <td>NaN</td>\n",
       "      <td>NaN</td>\n",
       "      <td>NaN</td>\n",
       "      <td>NaN</td>\n",
       "      <td>NaN</td>\n",
       "      <td>NaN</td>\n",
       "      <td>NaN</td>\n",
       "      <td>NaN</td>\n",
       "      <td>NaN</td>\n",
       "    </tr>\n",
       "    <tr>\n",
       "      <th>28</th>\n",
       "      <td>NaN</td>\n",
       "      <td>NaN</td>\n",
       "      <td>NaN</td>\n",
       "      <td>2.0</td>\n",
       "      <td>NaN</td>\n",
       "      <td>NaN</td>\n",
       "      <td>NaN</td>\n",
       "      <td>NaN</td>\n",
       "      <td>NaN</td>\n",
       "      <td>NaN</td>\n",
       "      <td>...</td>\n",
       "      <td>NaN</td>\n",
       "      <td>NaN</td>\n",
       "      <td>NaN</td>\n",
       "      <td>NaN</td>\n",
       "      <td>NaN</td>\n",
       "      <td>NaN</td>\n",
       "      <td>NaN</td>\n",
       "      <td>NaN</td>\n",
       "      <td>NaN</td>\n",
       "      <td>NaN</td>\n",
       "    </tr>\n",
       "    <tr>\n",
       "      <th>30</th>\n",
       "      <td>NaN</td>\n",
       "      <td>NaN</td>\n",
       "      <td>NaN</td>\n",
       "      <td>NaN</td>\n",
       "      <td>NaN</td>\n",
       "      <td>NaN</td>\n",
       "      <td>NaN</td>\n",
       "      <td>NaN</td>\n",
       "      <td>NaN</td>\n",
       "      <td>NaN</td>\n",
       "      <td>...</td>\n",
       "      <td>NaN</td>\n",
       "      <td>NaN</td>\n",
       "      <td>NaN</td>\n",
       "      <td>NaN</td>\n",
       "      <td>NaN</td>\n",
       "      <td>NaN</td>\n",
       "      <td>NaN</td>\n",
       "      <td>NaN</td>\n",
       "      <td>NaN</td>\n",
       "      <td>NaN</td>\n",
       "    </tr>\n",
       "    <tr>\n",
       "      <th>31</th>\n",
       "      <td>NaN</td>\n",
       "      <td>NaN</td>\n",
       "      <td>NaN</td>\n",
       "      <td>1.0</td>\n",
       "      <td>NaN</td>\n",
       "      <td>NaN</td>\n",
       "      <td>NaN</td>\n",
       "      <td>NaN</td>\n",
       "      <td>NaN</td>\n",
       "      <td>NaN</td>\n",
       "      <td>...</td>\n",
       "      <td>NaN</td>\n",
       "      <td>NaN</td>\n",
       "      <td>NaN</td>\n",
       "      <td>NaN</td>\n",
       "      <td>NaN</td>\n",
       "      <td>NaN</td>\n",
       "      <td>NaN</td>\n",
       "      <td>NaN</td>\n",
       "      <td>NaN</td>\n",
       "      <td>NaN</td>\n",
       "    </tr>\n",
       "    <tr>\n",
       "      <th>40</th>\n",
       "      <td>NaN</td>\n",
       "      <td>NaN</td>\n",
       "      <td>NaN</td>\n",
       "      <td>NaN</td>\n",
       "      <td>NaN</td>\n",
       "      <td>NaN</td>\n",
       "      <td>NaN</td>\n",
       "      <td>NaN</td>\n",
       "      <td>NaN</td>\n",
       "      <td>NaN</td>\n",
       "      <td>...</td>\n",
       "      <td>NaN</td>\n",
       "      <td>NaN</td>\n",
       "      <td>NaN</td>\n",
       "      <td>NaN</td>\n",
       "      <td>NaN</td>\n",
       "      <td>NaN</td>\n",
       "      <td>NaN</td>\n",
       "      <td>NaN</td>\n",
       "      <td>NaN</td>\n",
       "      <td>NaN</td>\n",
       "    </tr>\n",
       "    <tr>\n",
       "      <th>49</th>\n",
       "      <td>NaN</td>\n",
       "      <td>NaN</td>\n",
       "      <td>NaN</td>\n",
       "      <td>NaN</td>\n",
       "      <td>NaN</td>\n",
       "      <td>NaN</td>\n",
       "      <td>NaN</td>\n",
       "      <td>NaN</td>\n",
       "      <td>NaN</td>\n",
       "      <td>NaN</td>\n",
       "      <td>...</td>\n",
       "      <td>NaN</td>\n",
       "      <td>NaN</td>\n",
       "      <td>1.0</td>\n",
       "      <td>NaN</td>\n",
       "      <td>NaN</td>\n",
       "      <td>NaN</td>\n",
       "      <td>NaN</td>\n",
       "      <td>NaN</td>\n",
       "      <td>NaN</td>\n",
       "      <td>NaN</td>\n",
       "    </tr>\n",
       "    <tr>\n",
       "      <th>50</th>\n",
       "      <td>NaN</td>\n",
       "      <td>NaN</td>\n",
       "      <td>NaN</td>\n",
       "      <td>NaN</td>\n",
       "      <td>NaN</td>\n",
       "      <td>NaN</td>\n",
       "      <td>NaN</td>\n",
       "      <td>NaN</td>\n",
       "      <td>NaN</td>\n",
       "      <td>NaN</td>\n",
       "      <td>...</td>\n",
       "      <td>NaN</td>\n",
       "      <td>NaN</td>\n",
       "      <td>NaN</td>\n",
       "      <td>NaN</td>\n",
       "      <td>NaN</td>\n",
       "      <td>NaN</td>\n",
       "      <td>NaN</td>\n",
       "      <td>NaN</td>\n",
       "      <td>NaN</td>\n",
       "      <td>NaN</td>\n",
       "    </tr>\n",
       "    <tr>\n",
       "      <th>63</th>\n",
       "      <td>NaN</td>\n",
       "      <td>NaN</td>\n",
       "      <td>NaN</td>\n",
       "      <td>NaN</td>\n",
       "      <td>NaN</td>\n",
       "      <td>1.0</td>\n",
       "      <td>NaN</td>\n",
       "      <td>NaN</td>\n",
       "      <td>NaN</td>\n",
       "      <td>NaN</td>\n",
       "      <td>...</td>\n",
       "      <td>NaN</td>\n",
       "      <td>NaN</td>\n",
       "      <td>NaN</td>\n",
       "      <td>NaN</td>\n",
       "      <td>NaN</td>\n",
       "      <td>NaN</td>\n",
       "      <td>NaN</td>\n",
       "      <td>NaN</td>\n",
       "      <td>NaN</td>\n",
       "      <td>NaN</td>\n",
       "    </tr>\n",
       "    <tr>\n",
       "      <th>68</th>\n",
       "      <td>NaN</td>\n",
       "      <td>NaN</td>\n",
       "      <td>NaN</td>\n",
       "      <td>NaN</td>\n",
       "      <td>NaN</td>\n",
       "      <td>NaN</td>\n",
       "      <td>NaN</td>\n",
       "      <td>NaN</td>\n",
       "      <td>NaN</td>\n",
       "      <td>NaN</td>\n",
       "      <td>...</td>\n",
       "      <td>NaN</td>\n",
       "      <td>NaN</td>\n",
       "      <td>NaN</td>\n",
       "      <td>NaN</td>\n",
       "      <td>NaN</td>\n",
       "      <td>NaN</td>\n",
       "      <td>NaN</td>\n",
       "      <td>NaN</td>\n",
       "      <td>NaN</td>\n",
       "      <td>NaN</td>\n",
       "    </tr>\n",
       "    <tr>\n",
       "      <th>69</th>\n",
       "      <td>NaN</td>\n",
       "      <td>NaN</td>\n",
       "      <td>2.0</td>\n",
       "      <td>NaN</td>\n",
       "      <td>NaN</td>\n",
       "      <td>NaN</td>\n",
       "      <td>NaN</td>\n",
       "      <td>2.0</td>\n",
       "      <td>NaN</td>\n",
       "      <td>NaN</td>\n",
       "      <td>...</td>\n",
       "      <td>NaN</td>\n",
       "      <td>NaN</td>\n",
       "      <td>NaN</td>\n",
       "      <td>NaN</td>\n",
       "      <td>NaN</td>\n",
       "      <td>NaN</td>\n",
       "      <td>NaN</td>\n",
       "      <td>NaN</td>\n",
       "      <td>NaN</td>\n",
       "      <td>NaN</td>\n",
       "    </tr>\n",
       "    <tr>\n",
       "      <th>93</th>\n",
       "      <td>NaN</td>\n",
       "      <td>NaN</td>\n",
       "      <td>NaN</td>\n",
       "      <td>NaN</td>\n",
       "      <td>NaN</td>\n",
       "      <td>NaN</td>\n",
       "      <td>NaN</td>\n",
       "      <td>NaN</td>\n",
       "      <td>NaN</td>\n",
       "      <td>NaN</td>\n",
       "      <td>...</td>\n",
       "      <td>NaN</td>\n",
       "      <td>NaN</td>\n",
       "      <td>NaN</td>\n",
       "      <td>NaN</td>\n",
       "      <td>NaN</td>\n",
       "      <td>NaN</td>\n",
       "      <td>NaN</td>\n",
       "      <td>NaN</td>\n",
       "      <td>NaN</td>\n",
       "      <td>NaN</td>\n",
       "    </tr>\n",
       "    <tr>\n",
       "      <th>95</th>\n",
       "      <td>NaN</td>\n",
       "      <td>NaN</td>\n",
       "      <td>NaN</td>\n",
       "      <td>NaN</td>\n",
       "      <td>NaN</td>\n",
       "      <td>NaN</td>\n",
       "      <td>NaN</td>\n",
       "      <td>NaN</td>\n",
       "      <td>NaN</td>\n",
       "      <td>NaN</td>\n",
       "      <td>...</td>\n",
       "      <td>NaN</td>\n",
       "      <td>NaN</td>\n",
       "      <td>NaN</td>\n",
       "      <td>NaN</td>\n",
       "      <td>NaN</td>\n",
       "      <td>NaN</td>\n",
       "      <td>NaN</td>\n",
       "      <td>NaN</td>\n",
       "      <td>NaN</td>\n",
       "      <td>NaN</td>\n",
       "    </tr>\n",
       "    <tr>\n",
       "      <th>97</th>\n",
       "      <td>NaN</td>\n",
       "      <td>NaN</td>\n",
       "      <td>NaN</td>\n",
       "      <td>NaN</td>\n",
       "      <td>NaN</td>\n",
       "      <td>NaN</td>\n",
       "      <td>NaN</td>\n",
       "      <td>NaN</td>\n",
       "      <td>NaN</td>\n",
       "      <td>NaN</td>\n",
       "      <td>...</td>\n",
       "      <td>NaN</td>\n",
       "      <td>NaN</td>\n",
       "      <td>NaN</td>\n",
       "      <td>NaN</td>\n",
       "      <td>NaN</td>\n",
       "      <td>NaN</td>\n",
       "      <td>NaN</td>\n",
       "      <td>NaN</td>\n",
       "      <td>NaN</td>\n",
       "      <td>NaN</td>\n",
       "    </tr>\n",
       "    <tr>\n",
       "      <th>100</th>\n",
       "      <td>NaN</td>\n",
       "      <td>NaN</td>\n",
       "      <td>NaN</td>\n",
       "      <td>NaN</td>\n",
       "      <td>NaN</td>\n",
       "      <td>NaN</td>\n",
       "      <td>NaN</td>\n",
       "      <td>NaN</td>\n",
       "      <td>NaN</td>\n",
       "      <td>NaN</td>\n",
       "      <td>...</td>\n",
       "      <td>NaN</td>\n",
       "      <td>NaN</td>\n",
       "      <td>NaN</td>\n",
       "      <td>NaN</td>\n",
       "      <td>NaN</td>\n",
       "      <td>NaN</td>\n",
       "      <td>NaN</td>\n",
       "      <td>NaN</td>\n",
       "      <td>NaN</td>\n",
       "      <td>NaN</td>\n",
       "    </tr>\n",
       "  </tbody>\n",
       "</table>\n",
       "<p>20 rows × 67 columns</p>\n",
       "</div>"
      ],
      "text/plain": [
       "DepartmentDescription  1-HR PHOTO  ACCESSORIES  AUTOMOTIVE  BAKERY  \\\n",
       "VisitNumber                                                          \n",
       "5                             NaN          NaN         NaN     NaN   \n",
       "7                             NaN          NaN         NaN     NaN   \n",
       "9                             NaN          NaN         NaN     NaN   \n",
       "11                            NaN          NaN         NaN     NaN   \n",
       "15                            NaN          NaN         NaN     NaN   \n",
       "25                            NaN          NaN         NaN     NaN   \n",
       "26                            NaN          NaN         NaN     NaN   \n",
       "28                            NaN          NaN         NaN     2.0   \n",
       "30                            NaN          NaN         NaN     NaN   \n",
       "31                            NaN          NaN         NaN     1.0   \n",
       "40                            NaN          NaN         NaN     NaN   \n",
       "49                            NaN          NaN         NaN     NaN   \n",
       "50                            NaN          NaN         NaN     NaN   \n",
       "63                            NaN          NaN         NaN     NaN   \n",
       "68                            NaN          NaN         NaN     NaN   \n",
       "69                            NaN          NaN         2.0     NaN   \n",
       "93                            NaN          NaN         NaN     NaN   \n",
       "95                            NaN          NaN         NaN     NaN   \n",
       "97                            NaN          NaN         NaN     NaN   \n",
       "100                           NaN          NaN         NaN     NaN   \n",
       "\n",
       "DepartmentDescription  BATH AND SHOWER  BEAUTY  BEDDING  BOOKS AND MAGAZINES  \\\n",
       "VisitNumber                                                                    \n",
       "5                                  NaN     NaN      NaN                  NaN   \n",
       "7                                  NaN     NaN      NaN                  NaN   \n",
       "9                                  NaN     NaN      NaN                  NaN   \n",
       "11                                 NaN     NaN      NaN                  NaN   \n",
       "15                                 NaN     NaN      NaN                  NaN   \n",
       "25                                 NaN     NaN      NaN                  NaN   \n",
       "26                                 NaN     NaN      NaN                  NaN   \n",
       "28                                 NaN     NaN      NaN                  NaN   \n",
       "30                                 NaN     NaN      NaN                  NaN   \n",
       "31                                 NaN     NaN      NaN                  NaN   \n",
       "40                                 NaN     NaN      NaN                  NaN   \n",
       "49                                 NaN     NaN      NaN                  NaN   \n",
       "50                                 NaN     NaN      NaN                  NaN   \n",
       "63                                 NaN     1.0      NaN                  NaN   \n",
       "68                                 NaN     NaN      NaN                  NaN   \n",
       "69                                 NaN     NaN      NaN                  2.0   \n",
       "93                                 NaN     NaN      NaN                  NaN   \n",
       "95                                 NaN     NaN      NaN                  NaN   \n",
       "97                                 NaN     NaN      NaN                  NaN   \n",
       "100                                NaN     NaN      NaN                  NaN   \n",
       "\n",
       "DepartmentDescription  BOYS WEAR  BRAS & SHAPEWEAR  ...  SEAFOOD  SEASONAL  \\\n",
       "VisitNumber                                         ...                      \n",
       "5                            NaN               NaN  ...      NaN       NaN   \n",
       "7                            NaN               NaN  ...      NaN       NaN   \n",
       "9                            NaN               NaN  ...      NaN       NaN   \n",
       "11                           NaN               NaN  ...      NaN       NaN   \n",
       "15                           NaN               NaN  ...      NaN       NaN   \n",
       "25                           NaN               NaN  ...      NaN       NaN   \n",
       "26                           NaN               NaN  ...      NaN       NaN   \n",
       "28                           NaN               NaN  ...      NaN       NaN   \n",
       "30                           NaN               NaN  ...      NaN       NaN   \n",
       "31                           NaN               NaN  ...      NaN       NaN   \n",
       "40                           NaN               NaN  ...      NaN       NaN   \n",
       "49                           NaN               NaN  ...      NaN       NaN   \n",
       "50                           NaN               NaN  ...      NaN       NaN   \n",
       "63                           NaN               NaN  ...      NaN       NaN   \n",
       "68                           NaN               NaN  ...      NaN       NaN   \n",
       "69                           NaN               NaN  ...      NaN       NaN   \n",
       "93                           NaN               NaN  ...      NaN       NaN   \n",
       "95                           NaN               NaN  ...      NaN       NaN   \n",
       "97                           NaN               NaN  ...      NaN       NaN   \n",
       "100                          NaN               NaN  ...      NaN       NaN   \n",
       "\n",
       "DepartmentDescription  SERVICE DELI  SHEER HOSIERY  SHOES  \\\n",
       "VisitNumber                                                 \n",
       "5                               NaN            NaN    NaN   \n",
       "7                               NaN            NaN    1.0   \n",
       "9                               NaN            NaN    NaN   \n",
       "11                              NaN            NaN    NaN   \n",
       "15                              NaN            NaN    NaN   \n",
       "25                              NaN            NaN    NaN   \n",
       "26                              NaN            NaN    NaN   \n",
       "28                              NaN            NaN    NaN   \n",
       "30                              NaN            NaN    NaN   \n",
       "31                              NaN            NaN    NaN   \n",
       "40                              NaN            NaN    NaN   \n",
       "49                              1.0            NaN    NaN   \n",
       "50                              NaN            NaN    NaN   \n",
       "63                              NaN            NaN    NaN   \n",
       "68                              NaN            NaN    NaN   \n",
       "69                              NaN            NaN    NaN   \n",
       "93                              NaN            NaN    NaN   \n",
       "95                              NaN            NaN    NaN   \n",
       "97                              NaN            NaN    NaN   \n",
       "100                             NaN            NaN    NaN   \n",
       "\n",
       "DepartmentDescription  SLEEPWEAR/FOUNDATIONS  SPORTING GOODS  \\\n",
       "VisitNumber                                                    \n",
       "5                                        NaN             NaN   \n",
       "7                                        NaN             NaN   \n",
       "9                                        NaN             NaN   \n",
       "11                                       NaN             NaN   \n",
       "15                                       NaN             NaN   \n",
       "25                                       NaN             NaN   \n",
       "26                                       NaN             NaN   \n",
       "28                                       NaN             NaN   \n",
       "30                                       NaN             NaN   \n",
       "31                                       NaN             NaN   \n",
       "40                                       NaN             NaN   \n",
       "49                                       NaN             NaN   \n",
       "50                                       NaN             NaN   \n",
       "63                                       NaN             NaN   \n",
       "68                                       NaN             NaN   \n",
       "69                                       NaN             NaN   \n",
       "93                                       NaN             NaN   \n",
       "95                                       NaN             NaN   \n",
       "97                                       NaN             NaN   \n",
       "100                                      NaN             NaN   \n",
       "\n",
       "DepartmentDescription  SWIMWEAR/OUTERWEAR  TOYS  WIRELESS  \n",
       "VisitNumber                                                \n",
       "5                                     NaN   NaN       NaN  \n",
       "7                                     NaN   NaN       NaN  \n",
       "9                                     NaN   NaN       NaN  \n",
       "11                                    NaN   NaN       NaN  \n",
       "15                                    NaN   NaN       NaN  \n",
       "25                                    NaN   NaN       NaN  \n",
       "26                                    NaN   NaN       NaN  \n",
       "28                                    NaN   NaN       NaN  \n",
       "30                                    NaN   NaN       NaN  \n",
       "31                                    NaN   NaN       NaN  \n",
       "40                                    NaN   NaN       NaN  \n",
       "49                                    NaN   NaN       NaN  \n",
       "50                                    NaN   NaN       NaN  \n",
       "63                                    NaN   NaN       NaN  \n",
       "68                                    NaN   NaN       NaN  \n",
       "69                                    NaN   NaN       NaN  \n",
       "93                                    NaN   NaN       NaN  \n",
       "95                                    NaN   NaN       NaN  \n",
       "97                                    NaN   NaN       NaN  \n",
       "100                                   NaN   NaN       NaN  \n",
       "\n",
       "[20 rows x 67 columns]"
      ]
     },
     "execution_count": 10,
     "metadata": {},
     "output_type": "execute_result"
    }
   ],
   "source": [
    "pd.pivot_table(df_train, \n",
    "               index = 'VisitNumber', \n",
    "               columns = 'DepartmentDescription', \n",
    "               values = 'ScanCount', \n",
    "               aggfunc = 'sum').head(20)"
   ]
  },
  {
   "cell_type": "markdown",
   "metadata": {},
   "source": [
    "We see a bunch of nans in case a visit didn't buy products from a certain department. We should replace these nans by 0. You should also do the same thing with the validation and test datasets."
   ]
  },
  {
   "cell_type": "code",
   "execution_count": 11,
   "metadata": {},
   "outputs": [],
   "source": [
    "df_train_f1 = pd.pivot_table(df_train, \n",
    "                             index='VisitNumber', \n",
    "                             columns='DepartmentDescription', \n",
    "                             values='ScanCount', \n",
    "                             aggfunc='sum').fillna(0)\n",
    "\n",
    "df_val_f1 = pd.pivot_table(df_val, \n",
    "                           index='VisitNumber', \n",
    "                           columns='DepartmentDescription', \n",
    "                           values='ScanCount', \n",
    "                           aggfunc='sum').fillna(0)\n",
    "\n",
    "df_test_f1 = pd.pivot_table(df_test,\n",
    "                            index='VisitNumber',\n",
    "                            columns='DepartmentDescription', \n",
    "                            values='ScanCount', \n",
    "                            aggfunc='sum').fillna(0)"
   ]
  },
  {
   "cell_type": "code",
   "execution_count": 12,
   "metadata": {},
   "outputs": [
    {
     "data": {
      "text/html": [
       "<div>\n",
       "<style scoped>\n",
       "    .dataframe tbody tr th:only-of-type {\n",
       "        vertical-align: middle;\n",
       "    }\n",
       "\n",
       "    .dataframe tbody tr th {\n",
       "        vertical-align: top;\n",
       "    }\n",
       "\n",
       "    .dataframe thead th {\n",
       "        text-align: right;\n",
       "    }\n",
       "</style>\n",
       "<table border=\"1\" class=\"dataframe\">\n",
       "  <thead>\n",
       "    <tr style=\"text-align: right;\">\n",
       "      <th>DepartmentDescription</th>\n",
       "      <th>1-HR PHOTO</th>\n",
       "      <th>ACCESSORIES</th>\n",
       "      <th>AUTOMOTIVE</th>\n",
       "      <th>BAKERY</th>\n",
       "      <th>BATH AND SHOWER</th>\n",
       "      <th>BEAUTY</th>\n",
       "      <th>BEDDING</th>\n",
       "      <th>BOOKS AND MAGAZINES</th>\n",
       "      <th>BOYS WEAR</th>\n",
       "      <th>BRAS &amp; SHAPEWEAR</th>\n",
       "      <th>...</th>\n",
       "      <th>SEAFOOD</th>\n",
       "      <th>SEASONAL</th>\n",
       "      <th>SERVICE DELI</th>\n",
       "      <th>SHEER HOSIERY</th>\n",
       "      <th>SHOES</th>\n",
       "      <th>SLEEPWEAR/FOUNDATIONS</th>\n",
       "      <th>SPORTING GOODS</th>\n",
       "      <th>SWIMWEAR/OUTERWEAR</th>\n",
       "      <th>TOYS</th>\n",
       "      <th>WIRELESS</th>\n",
       "    </tr>\n",
       "    <tr>\n",
       "      <th>VisitNumber</th>\n",
       "      <th></th>\n",
       "      <th></th>\n",
       "      <th></th>\n",
       "      <th></th>\n",
       "      <th></th>\n",
       "      <th></th>\n",
       "      <th></th>\n",
       "      <th></th>\n",
       "      <th></th>\n",
       "      <th></th>\n",
       "      <th></th>\n",
       "      <th></th>\n",
       "      <th></th>\n",
       "      <th></th>\n",
       "      <th></th>\n",
       "      <th></th>\n",
       "      <th></th>\n",
       "      <th></th>\n",
       "      <th></th>\n",
       "      <th></th>\n",
       "      <th></th>\n",
       "    </tr>\n",
       "  </thead>\n",
       "  <tbody>\n",
       "    <tr>\n",
       "      <th>5</th>\n",
       "      <td>0.0</td>\n",
       "      <td>0.0</td>\n",
       "      <td>0.0</td>\n",
       "      <td>0.0</td>\n",
       "      <td>0.0</td>\n",
       "      <td>0.0</td>\n",
       "      <td>0.0</td>\n",
       "      <td>0.0</td>\n",
       "      <td>0.0</td>\n",
       "      <td>0.0</td>\n",
       "      <td>...</td>\n",
       "      <td>0.0</td>\n",
       "      <td>0.0</td>\n",
       "      <td>0.0</td>\n",
       "      <td>0.0</td>\n",
       "      <td>0.0</td>\n",
       "      <td>0.0</td>\n",
       "      <td>0.0</td>\n",
       "      <td>0.0</td>\n",
       "      <td>0.0</td>\n",
       "      <td>0.0</td>\n",
       "    </tr>\n",
       "    <tr>\n",
       "      <th>7</th>\n",
       "      <td>0.0</td>\n",
       "      <td>0.0</td>\n",
       "      <td>0.0</td>\n",
       "      <td>0.0</td>\n",
       "      <td>0.0</td>\n",
       "      <td>0.0</td>\n",
       "      <td>0.0</td>\n",
       "      <td>0.0</td>\n",
       "      <td>0.0</td>\n",
       "      <td>0.0</td>\n",
       "      <td>...</td>\n",
       "      <td>0.0</td>\n",
       "      <td>0.0</td>\n",
       "      <td>0.0</td>\n",
       "      <td>0.0</td>\n",
       "      <td>1.0</td>\n",
       "      <td>0.0</td>\n",
       "      <td>0.0</td>\n",
       "      <td>0.0</td>\n",
       "      <td>0.0</td>\n",
       "      <td>0.0</td>\n",
       "    </tr>\n",
       "  </tbody>\n",
       "</table>\n",
       "<p>2 rows × 67 columns</p>\n",
       "</div>"
      ],
      "text/plain": [
       "DepartmentDescription  1-HR PHOTO  ACCESSORIES  AUTOMOTIVE  BAKERY  \\\n",
       "VisitNumber                                                          \n",
       "5                             0.0          0.0         0.0     0.0   \n",
       "7                             0.0          0.0         0.0     0.0   \n",
       "\n",
       "DepartmentDescription  BATH AND SHOWER  BEAUTY  BEDDING  BOOKS AND MAGAZINES  \\\n",
       "VisitNumber                                                                    \n",
       "5                                  0.0     0.0      0.0                  0.0   \n",
       "7                                  0.0     0.0      0.0                  0.0   \n",
       "\n",
       "DepartmentDescription  BOYS WEAR  BRAS & SHAPEWEAR  ...  SEAFOOD  SEASONAL  \\\n",
       "VisitNumber                                         ...                      \n",
       "5                            0.0               0.0  ...      0.0       0.0   \n",
       "7                            0.0               0.0  ...      0.0       0.0   \n",
       "\n",
       "DepartmentDescription  SERVICE DELI  SHEER HOSIERY  SHOES  \\\n",
       "VisitNumber                                                 \n",
       "5                               0.0            0.0    0.0   \n",
       "7                               0.0            0.0    1.0   \n",
       "\n",
       "DepartmentDescription  SLEEPWEAR/FOUNDATIONS  SPORTING GOODS  \\\n",
       "VisitNumber                                                    \n",
       "5                                        0.0             0.0   \n",
       "7                                        0.0             0.0   \n",
       "\n",
       "DepartmentDescription  SWIMWEAR/OUTERWEAR  TOYS  WIRELESS  \n",
       "VisitNumber                                                \n",
       "5                                     0.0   0.0       0.0  \n",
       "7                                     0.0   0.0       0.0  \n",
       "\n",
       "[2 rows x 67 columns]"
      ]
     },
     "execution_count": 12,
     "metadata": {},
     "output_type": "execute_result"
    }
   ],
   "source": [
    "df_train_f1.head(2)"
   ]
  },
  {
   "cell_type": "markdown",
   "metadata": {},
   "source": [
    "It is always a good idea to check if these numbers are sensible. As a data scientist, it is good to be extremely skeptical of procedures where a lot of data is being transformed into a lot of some other data without fine-grained checks. \n",
    "\n",
    "**Question**: Can you think of some checks to do on df_train_f1 and df_train to ensure the correct thing is being done."
   ]
  },
  {
   "cell_type": "code",
   "execution_count": 13,
   "metadata": {},
   "outputs": [
    {
     "name": "stdout",
     "output_type": "stream",
     "text": [
      "2.0\n",
      "2\n"
     ]
    }
   ],
   "source": [
    "visit_number = 7\n",
    "\n",
    "print(df_train_f1.loc[visit_number].sum())\n",
    "print(df_train[df_train['VisitNumber']==visit_number]['ScanCount'].sum())"
   ]
  },
  {
   "cell_type": "code",
   "execution_count": 14,
   "metadata": {},
   "outputs": [
    {
     "data": {
      "text/plain": [
       "VisitNumber\n",
       "5    -1.0\n",
       "7     2.0\n",
       "9     3.0\n",
       "11    4.0\n",
       "15    9.0\n",
       "dtype: float64"
      ]
     },
     "execution_count": 14,
     "metadata": {},
     "output_type": "execute_result"
    }
   ],
   "source": [
    "df_train_f1.sum(axis=1).head()"
   ]
  },
  {
   "cell_type": "code",
   "execution_count": 15,
   "metadata": {},
   "outputs": [
    {
     "data": {
      "text/html": [
       "<div>\n",
       "<style scoped>\n",
       "    .dataframe tbody tr th:only-of-type {\n",
       "        vertical-align: middle;\n",
       "    }\n",
       "\n",
       "    .dataframe tbody tr th {\n",
       "        vertical-align: top;\n",
       "    }\n",
       "\n",
       "    .dataframe thead th {\n",
       "        text-align: right;\n",
       "    }\n",
       "</style>\n",
       "<table border=\"1\" class=\"dataframe\">\n",
       "  <thead>\n",
       "    <tr style=\"text-align: right;\">\n",
       "      <th></th>\n",
       "      <th>ScanCount</th>\n",
       "    </tr>\n",
       "    <tr>\n",
       "      <th>VisitNumber</th>\n",
       "      <th></th>\n",
       "    </tr>\n",
       "  </thead>\n",
       "  <tbody>\n",
       "    <tr>\n",
       "      <th>5</th>\n",
       "      <td>-1</td>\n",
       "    </tr>\n",
       "    <tr>\n",
       "      <th>7</th>\n",
       "      <td>2</td>\n",
       "    </tr>\n",
       "    <tr>\n",
       "      <th>9</th>\n",
       "      <td>3</td>\n",
       "    </tr>\n",
       "    <tr>\n",
       "      <th>11</th>\n",
       "      <td>4</td>\n",
       "    </tr>\n",
       "    <tr>\n",
       "      <th>15</th>\n",
       "      <td>9</td>\n",
       "    </tr>\n",
       "  </tbody>\n",
       "</table>\n",
       "</div>"
      ],
      "text/plain": [
       "             ScanCount\n",
       "VisitNumber           \n",
       "5                   -1\n",
       "7                    2\n",
       "9                    3\n",
       "11                   4\n",
       "15                   9"
      ]
     },
     "execution_count": 15,
     "metadata": {},
     "output_type": "execute_result"
    }
   ],
   "source": [
    "df_train.groupby('VisitNumber').agg({'ScanCount': np.sum}).head()"
   ]
  },
  {
   "cell_type": "code",
   "execution_count": 16,
   "metadata": {},
   "outputs": [
    {
     "data": {
      "text/plain": [
       "-260.0"
      ]
     },
     "execution_count": 16,
     "metadata": {},
     "output_type": "execute_result"
    }
   ],
   "source": [
    "(df_train_f1.sum(axis=1) - df_train.groupby('VisitNumber').agg({'ScanCount': np.sum})['ScanCount']).sum()"
   ]
  },
  {
   "cell_type": "markdown",
   "metadata": {},
   "source": [
    "There is a discrepancy for visit number 8. Let's check why."
   ]
  },
  {
   "cell_type": "code",
   "execution_count": 17,
   "metadata": {},
   "outputs": [
    {
     "data": {
      "text/html": [
       "<div>\n",
       "<style scoped>\n",
       "    .dataframe tbody tr th:only-of-type {\n",
       "        vertical-align: middle;\n",
       "    }\n",
       "\n",
       "    .dataframe tbody tr th {\n",
       "        vertical-align: top;\n",
       "    }\n",
       "\n",
       "    .dataframe thead th {\n",
       "        text-align: right;\n",
       "    }\n",
       "</style>\n",
       "<table border=\"1\" class=\"dataframe\">\n",
       "  <thead>\n",
       "    <tr style=\"text-align: right;\">\n",
       "      <th></th>\n",
       "      <th>TripType</th>\n",
       "      <th>VisitNumber</th>\n",
       "      <th>Weekday</th>\n",
       "      <th>Upc</th>\n",
       "      <th>ScanCount</th>\n",
       "      <th>DepartmentDescription</th>\n",
       "      <th>FinelineNumber</th>\n",
       "    </tr>\n",
       "  </thead>\n",
       "  <tbody>\n",
       "  </tbody>\n",
       "</table>\n",
       "</div>"
      ],
      "text/plain": [
       "Empty DataFrame\n",
       "Columns: [TripType, VisitNumber, Weekday, Upc, ScanCount, DepartmentDescription, FinelineNumber]\n",
       "Index: []"
      ]
     },
     "execution_count": 17,
     "metadata": {},
     "output_type": "execute_result"
    }
   ],
   "source": [
    "df_train[df_train['VisitNumber']==8]"
   ]
  },
  {
   "cell_type": "markdown",
   "metadata": {},
   "source": [
    "Aha! we can immediately see what causes the discrepancy. We have NaNs in Upc and FinelineNumber. In other words, there are items that weren't classified correctly. Let's see how much of a problem this is."
   ]
  },
  {
   "cell_type": "code",
   "execution_count": 18,
   "metadata": {},
   "outputs": [
    {
     "name": "stdout",
     "output_type": "stream",
     "text": [
      "976\n",
      "976\n",
      "321\n",
      "0\n"
     ]
    }
   ],
   "source": [
    "print(df_train['Upc'].isnull().sum(axis=0))\n",
    "print(df_train['FinelineNumber'].isnull().sum(axis=0))\n",
    "print(df_train['DepartmentDescription'].isnull().sum(axis=0))\n",
    "print(df_train[df_train['DepartmentDescription']==None].shape[0])"
   ]
  },
  {
   "cell_type": "code",
   "execution_count": 19,
   "metadata": {},
   "outputs": [
    {
     "data": {
      "text/plain": [
       "False"
      ]
     },
     "execution_count": 19,
     "metadata": {},
     "output_type": "execute_result"
    }
   ],
   "source": [
    "pd.isnull(df_train['DepartmentDescription'].loc[25])"
   ]
  },
  {
   "cell_type": "code",
   "execution_count": 20,
   "metadata": {},
   "outputs": [
    {
     "data": {
      "text/plain": [
       "0              FINANCIAL SERVICES\n",
       "1                           SHOES\n",
       "2                   PERSONAL CARE\n",
       "3             IMPULSE MERCHANDISE\n",
       "4                         PRODUCE\n",
       "5                         PRODUCE\n",
       "6               GROCERY DRY GOODS\n",
       "7                     DSD GROCERY\n",
       "8             IMPULSE MERCHANDISE\n",
       "9             IMPULSE MERCHANDISE\n",
       "10             FABRICS AND CRAFTS\n",
       "11             FABRICS AND CRAFTS\n",
       "12             FABRICS AND CRAFTS\n",
       "13             FABRICS AND CRAFTS\n",
       "14             FABRICS AND CRAFTS\n",
       "15             FABRICS AND CRAFTS\n",
       "16             FABRICS AND CRAFTS\n",
       "17             FABRICS AND CRAFTS\n",
       "18    INFANT CONSUMABLE HARDLINES\n",
       "19                PRE PACKED DELI\n",
       "20    INFANT CONSUMABLE HARDLINES\n",
       "21                          DAIRY\n",
       "22                  COOK AND DINE\n",
       "23                   FROZEN FOODS\n",
       "24                          DAIRY\n",
       "25                          DAIRY\n",
       "26                   PHARMACY OTC\n",
       "27                        PRODUCE\n",
       "28                   FROZEN FOODS\n",
       "29                  COOK AND DINE\n",
       "Name: DepartmentDescription, dtype: object"
      ]
     },
     "execution_count": 20,
     "metadata": {},
     "output_type": "execute_result"
    }
   ],
   "source": [
    "#Understanding if \"None\" is same as na (it is - see documentation for pd.isnull)\n",
    "df_train['DepartmentDescription'].head(30).fillna(10)"
   ]
  },
  {
   "cell_type": "markdown",
   "metadata": {},
   "source": [
    "We could fill nulls with the value 0 (for convenience). Let's ensure none of the existing columns have 0s so we don't merge value = 0 with null values"
   ]
  },
  {
   "cell_type": "code",
   "execution_count": 21,
   "metadata": {},
   "outputs": [
    {
     "name": "stdout",
     "output_type": "stream",
     "text": [
      "False\n",
      "True\n",
      "False\n"
     ]
    }
   ],
   "source": [
    "print(0 in df_train['Upc'].unique())\n",
    "print(0 in df_train['FinelineNumber'].unique())\n",
    "print(0 in df_train['DepartmentDescription'].unique())"
   ]
  },
  {
   "cell_type": "code",
   "execution_count": 22,
   "metadata": {},
   "outputs": [
    {
     "data": {
      "text/html": [
       "<div>\n",
       "<style scoped>\n",
       "    .dataframe tbody tr th:only-of-type {\n",
       "        vertical-align: middle;\n",
       "    }\n",
       "\n",
       "    .dataframe tbody tr th {\n",
       "        vertical-align: top;\n",
       "    }\n",
       "\n",
       "    .dataframe thead th {\n",
       "        text-align: right;\n",
       "    }\n",
       "</style>\n",
       "<table border=\"1\" class=\"dataframe\">\n",
       "  <thead>\n",
       "    <tr style=\"text-align: right;\">\n",
       "      <th></th>\n",
       "      <th>TripType</th>\n",
       "      <th>VisitNumber</th>\n",
       "      <th>Weekday</th>\n",
       "      <th>Upc</th>\n",
       "      <th>ScanCount</th>\n",
       "      <th>DepartmentDescription</th>\n",
       "      <th>FinelineNumber</th>\n",
       "    </tr>\n",
       "  </thead>\n",
       "  <tbody>\n",
       "    <tr>\n",
       "      <th>585</th>\n",
       "      <td>9</td>\n",
       "      <td>1038</td>\n",
       "      <td>Friday</td>\n",
       "      <td>6.053882e+10</td>\n",
       "      <td>1</td>\n",
       "      <td>OTHER DEPARTMENTS</td>\n",
       "      <td>0.0</td>\n",
       "    </tr>\n",
       "    <tr>\n",
       "      <th>995</th>\n",
       "      <td>999</td>\n",
       "      <td>1415</td>\n",
       "      <td>Friday</td>\n",
       "      <td>6.811317e+10</td>\n",
       "      <td>1</td>\n",
       "      <td>FINANCIAL SERVICES</td>\n",
       "      <td>0.0</td>\n",
       "    </tr>\n",
       "    <tr>\n",
       "      <th>1609</th>\n",
       "      <td>999</td>\n",
       "      <td>2004</td>\n",
       "      <td>Friday</td>\n",
       "      <td>6.811313e+10</td>\n",
       "      <td>1</td>\n",
       "      <td>FINANCIAL SERVICES</td>\n",
       "      <td>0.0</td>\n",
       "    </tr>\n",
       "    <tr>\n",
       "      <th>1782</th>\n",
       "      <td>999</td>\n",
       "      <td>2100</td>\n",
       "      <td>Friday</td>\n",
       "      <td>6.811317e+10</td>\n",
       "      <td>1</td>\n",
       "      <td>FINANCIAL SERVICES</td>\n",
       "      <td>0.0</td>\n",
       "    </tr>\n",
       "    <tr>\n",
       "      <th>1979</th>\n",
       "      <td>999</td>\n",
       "      <td>2230</td>\n",
       "      <td>Friday</td>\n",
       "      <td>6.811319e+10</td>\n",
       "      <td>1</td>\n",
       "      <td>FINANCIAL SERVICES</td>\n",
       "      <td>0.0</td>\n",
       "    </tr>\n",
       "  </tbody>\n",
       "</table>\n",
       "</div>"
      ],
      "text/plain": [
       "      TripType  VisitNumber Weekday           Upc  ScanCount  \\\n",
       "585          9         1038  Friday  6.053882e+10          1   \n",
       "995        999         1415  Friday  6.811317e+10          1   \n",
       "1609       999         2004  Friday  6.811313e+10          1   \n",
       "1782       999         2100  Friday  6.811317e+10          1   \n",
       "1979       999         2230  Friday  6.811319e+10          1   \n",
       "\n",
       "     DepartmentDescription  FinelineNumber  \n",
       "585      OTHER DEPARTMENTS             0.0  \n",
       "995     FINANCIAL SERVICES             0.0  \n",
       "1609    FINANCIAL SERVICES             0.0  \n",
       "1782    FINANCIAL SERVICES             0.0  \n",
       "1979    FINANCIAL SERVICES             0.0  "
      ]
     },
     "execution_count": 22,
     "metadata": {},
     "output_type": "execute_result"
    }
   ],
   "source": [
    "df_train[df_train['FinelineNumber']==0].head()"
   ]
  },
  {
   "cell_type": "markdown",
   "metadata": {},
   "source": [
    "Well so we can't use 0 as a stand-in value for null in FinelineNumber because we would be mixing the category where FinelineNumber is actually 0 with ones where FinelineNumber is null. Let's try -1."
   ]
  },
  {
   "cell_type": "code",
   "execution_count": 23,
   "metadata": {},
   "outputs": [
    {
     "name": "stdout",
     "output_type": "stream",
     "text": [
      "False\n",
      "False\n",
      "False\n"
     ]
    }
   ],
   "source": [
    "print(-1 in df_train['Upc'].unique())\n",
    "print(-1 in df_train['FinelineNumber'].unique())\n",
    "print(-1 in df_train['DepartmentDescription'].unique())"
   ]
  },
  {
   "cell_type": "code",
   "execution_count": 24,
   "metadata": {},
   "outputs": [
    {
     "data": {
      "text/plain": [
       "TripType                   0\n",
       "VisitNumber                0\n",
       "Weekday                    0\n",
       "Upc                      976\n",
       "ScanCount                  0\n",
       "DepartmentDescription    321\n",
       "FinelineNumber           976\n",
       "dtype: int64"
      ]
     },
     "execution_count": 24,
     "metadata": {},
     "output_type": "execute_result"
    }
   ],
   "source": [
    "#ensure no other columns have null values\n",
    "df_train.isnull().sum(axis=0)"
   ]
  },
  {
   "cell_type": "code",
   "execution_count": 25,
   "metadata": {},
   "outputs": [],
   "source": [
    "df_train['Upc'].fillna(-1, inplace=True)\n",
    "df_train['DepartmentDescription'].fillna(\"-1\", inplace=True)\n",
    "df_train['FinelineNumber'].fillna(-1, inplace=True)\n",
    "\n",
    "df_val['Upc'].fillna(-1, inplace=True)\n",
    "df_val['DepartmentDescription'].fillna(\"-1\", inplace=True)\n",
    "df_val['FinelineNumber'].fillna(-1, inplace=True)\n",
    "\n",
    "df_test['Upc'].fillna(-1, inplace=True)\n",
    "df_test['DepartmentDescription'].fillna(\"-1\", inplace=True)\n",
    "df_test['FinelineNumber'].fillna(-1, inplace=True)\n",
    "\n",
    "#df_train.fillna(-1, inplace=True)\n",
    "#df_val.fillna(-1, inplace=True)\n",
    "#df_test.fillna(-1, inplace=True)"
   ]
  },
  {
   "cell_type": "code",
   "execution_count": 26,
   "metadata": {},
   "outputs": [
    {
     "data": {
      "text/plain": [
       "TripType                 0\n",
       "VisitNumber              0\n",
       "Weekday                  0\n",
       "Upc                      0\n",
       "ScanCount                0\n",
       "DepartmentDescription    0\n",
       "FinelineNumber           0\n",
       "dtype: int64"
      ]
     },
     "execution_count": 26,
     "metadata": {},
     "output_type": "execute_result"
    }
   ],
   "source": [
    "#ensure no other columns have null values\n",
    "df_train.isnull().sum(axis=0)"
   ]
  },
  {
   "cell_type": "markdown",
   "metadata": {},
   "source": [
    "Try constructing the pivot table again. Does our test pass?"
   ]
  },
  {
   "cell_type": "code",
   "execution_count": 27,
   "metadata": {},
   "outputs": [],
   "source": [
    "df_train_f1 = pd.pivot_table(df_train, \n",
    "                             index='VisitNumber', \n",
    "                             columns='DepartmentDescription', \n",
    "                             values='ScanCount', \n",
    "                             aggfunc='sum').fillna(0)\n",
    "\n",
    "df_val_f1 = pd.pivot_table(df_val, \n",
    "                           index='VisitNumber', \n",
    "                           columns='DepartmentDescription', \n",
    "                           values='ScanCount', \n",
    "                           aggfunc='sum').fillna(0)\n",
    "\n",
    "df_test_f1 = pd.pivot_table(df_test,\n",
    "                            index='VisitNumber',\n",
    "                            columns='DepartmentDescription', \n",
    "                            values='ScanCount', \n",
    "                            aggfunc='sum').fillna(0)"
   ]
  },
  {
   "cell_type": "code",
   "execution_count": 28,
   "metadata": {},
   "outputs": [
    {
     "data": {
      "text/plain": [
       "0.0"
      ]
     },
     "execution_count": 28,
     "metadata": {},
     "output_type": "execute_result"
    }
   ],
   "source": [
    "(df_train_f1.sum(axis=1) - df_train.groupby('VisitNumber').agg({'ScanCount': np.sum})['ScanCount']).sum()"
   ]
  },
  {
   "cell_type": "markdown",
   "metadata": {},
   "source": [
    "Perfect!! The counts agree completely between the pivot table and the group by. We only caught this bug because pd.pivot_table was dropping the null columns (DepartmentDescription is null) while the group by was only looking at VisitNumbers and not dropping any rows. It's generally a good idea to check for nulls after reading in the data."
   ]
  },
  {
   "cell_type": "markdown",
   "metadata": {},
   "source": [
    "**Question**: Can you foresee something else that can go wrong here? (Hint: look at the dimensions of each dataframe)"
   ]
  },
  {
   "cell_type": "code",
   "execution_count": 29,
   "metadata": {},
   "outputs": [
    {
     "name": "stdout",
     "output_type": "stream",
     "text": [
      "(21750, 68)\n",
      "(9567, 69)\n",
      "(9568, 69)\n"
     ]
    }
   ],
   "source": [
    "print(df_train_f1.shape)\n",
    "print(df_val_f1.shape)\n",
    "print(df_test_f1.shape)"
   ]
  },
  {
   "cell_type": "markdown",
   "metadata": {},
   "source": [
    "There's a missing column in df_train even though it has 80% of the rows! In other words, there's a department that's in val and test but not in train. Let's check this.\n",
    "\n",
    "**Question**: Think of a linear model. Why would different dimensions in train vs val vs test be a problem?"
   ]
  },
  {
   "cell_type": "markdown",
   "metadata": {},
   "source": [
    "The assumption is that the columns/fields are exactly the same in all the datasets. Otherwise, it would be impossible to apply a model to data with fewer or more columns than the data it was trained on."
   ]
  },
  {
   "cell_type": "code",
   "execution_count": 30,
   "metadata": {},
   "outputs": [
    {
     "data": {
      "text/plain": [
       "{'HEALTH AND BEAUTY AIDS'}"
      ]
     },
     "execution_count": 30,
     "metadata": {},
     "output_type": "execute_result"
    }
   ],
   "source": [
    "set(df_train_f1.columns).symmetric_difference(df_val_f1.columns)"
   ]
  },
  {
   "cell_type": "code",
   "execution_count": 31,
   "metadata": {},
   "outputs": [
    {
     "data": {
      "text/plain": [
       "{'HEALTH AND BEAUTY AIDS'}"
      ]
     },
     "execution_count": 31,
     "metadata": {},
     "output_type": "execute_result"
    }
   ],
   "source": [
    "set(df_train_f1.columns).symmetric_difference(df_test_f1.columns)"
   ]
  },
  {
   "cell_type": "code",
   "execution_count": 32,
   "metadata": {},
   "outputs": [
    {
     "data": {
      "text/plain": [
       "set()"
      ]
     },
     "execution_count": 32,
     "metadata": {},
     "output_type": "execute_result"
    }
   ],
   "source": [
    "set(df_val_f1.columns).symmetric_difference(df_test_f1.columns)"
   ]
  },
  {
   "cell_type": "markdown",
   "metadata": {},
   "source": [
    "There's a department \"HEALTH AND BEAUTY AIDS\" that exists in the val and test datasets but not in the train dataset. Let's look at how many rows are covered by this department."
   ]
  },
  {
   "cell_type": "code",
   "execution_count": 33,
   "metadata": {},
   "outputs": [
    {
     "data": {
      "text/html": [
       "<div>\n",
       "<style scoped>\n",
       "    .dataframe tbody tr th:only-of-type {\n",
       "        vertical-align: middle;\n",
       "    }\n",
       "\n",
       "    .dataframe tbody tr th {\n",
       "        vertical-align: top;\n",
       "    }\n",
       "\n",
       "    .dataframe thead th {\n",
       "        text-align: right;\n",
       "    }\n",
       "</style>\n",
       "<table border=\"1\" class=\"dataframe\">\n",
       "  <thead>\n",
       "    <tr style=\"text-align: right;\">\n",
       "      <th></th>\n",
       "      <th>TripType</th>\n",
       "      <th>VisitNumber</th>\n",
       "      <th>Weekday</th>\n",
       "      <th>Upc</th>\n",
       "      <th>ScanCount</th>\n",
       "      <th>DepartmentDescription</th>\n",
       "      <th>FinelineNumber</th>\n",
       "    </tr>\n",
       "  </thead>\n",
       "  <tbody>\n",
       "    <tr>\n",
       "      <th>35945</th>\n",
       "      <td>36</td>\n",
       "      <td>164059</td>\n",
       "      <td>Wednesday</td>\n",
       "      <td>3.607344e+11</td>\n",
       "      <td>1</td>\n",
       "      <td>HEALTH AND BEAUTY AIDS</td>\n",
       "      <td>2250.0</td>\n",
       "    </tr>\n",
       "  </tbody>\n",
       "</table>\n",
       "</div>"
      ],
      "text/plain": [
       "       TripType  VisitNumber    Weekday           Upc  ScanCount  \\\n",
       "35945        36       164059  Wednesday  3.607344e+11          1   \n",
       "\n",
       "        DepartmentDescription  FinelineNumber  \n",
       "35945  HEALTH AND BEAUTY AIDS          2250.0  "
      ]
     },
     "execution_count": 33,
     "metadata": {},
     "output_type": "execute_result"
    }
   ],
   "source": [
    "df_val[df_val['DepartmentDescription']=='HEALTH AND BEAUTY AIDS']"
   ]
  },
  {
   "cell_type": "code",
   "execution_count": 34,
   "metadata": {},
   "outputs": [
    {
     "data": {
      "text/html": [
       "<div>\n",
       "<style scoped>\n",
       "    .dataframe tbody tr th:only-of-type {\n",
       "        vertical-align: middle;\n",
       "    }\n",
       "\n",
       "    .dataframe tbody tr th {\n",
       "        vertical-align: top;\n",
       "    }\n",
       "\n",
       "    .dataframe thead th {\n",
       "        text-align: right;\n",
       "    }\n",
       "</style>\n",
       "<table border=\"1\" class=\"dataframe\">\n",
       "  <thead>\n",
       "    <tr style=\"text-align: right;\">\n",
       "      <th></th>\n",
       "      <th>TripType</th>\n",
       "      <th>VisitNumber</th>\n",
       "      <th>Weekday</th>\n",
       "      <th>Upc</th>\n",
       "      <th>ScanCount</th>\n",
       "      <th>DepartmentDescription</th>\n",
       "      <th>FinelineNumber</th>\n",
       "    </tr>\n",
       "  </thead>\n",
       "  <tbody>\n",
       "    <tr>\n",
       "      <th>34564</th>\n",
       "      <td>999</td>\n",
       "      <td>182398</td>\n",
       "      <td>Saturday</td>\n",
       "      <td>3.099723e+10</td>\n",
       "      <td>-1</td>\n",
       "      <td>HEALTH AND BEAUTY AIDS</td>\n",
       "      <td>3501.0</td>\n",
       "    </tr>\n",
       "  </tbody>\n",
       "</table>\n",
       "</div>"
      ],
      "text/plain": [
       "       TripType  VisitNumber   Weekday           Upc  ScanCount  \\\n",
       "34564       999       182398  Saturday  3.099723e+10         -1   \n",
       "\n",
       "        DepartmentDescription  FinelineNumber  \n",
       "34564  HEALTH AND BEAUTY AIDS          3501.0  "
      ]
     },
     "execution_count": 34,
     "metadata": {},
     "output_type": "execute_result"
    }
   ],
   "source": [
    "df_test[df_test['DepartmentDescription']=='HEALTH AND BEAUTY AIDS']"
   ]
  },
  {
   "cell_type": "markdown",
   "metadata": {},
   "source": [
    "So there are exactly two rows with this department! Let's look at the each visit and see what else happened in those visits."
   ]
  },
  {
   "cell_type": "code",
   "execution_count": 35,
   "metadata": {},
   "outputs": [
    {
     "data": {
      "text/html": [
       "<div>\n",
       "<style scoped>\n",
       "    .dataframe tbody tr th:only-of-type {\n",
       "        vertical-align: middle;\n",
       "    }\n",
       "\n",
       "    .dataframe tbody tr th {\n",
       "        vertical-align: top;\n",
       "    }\n",
       "\n",
       "    .dataframe thead th {\n",
       "        text-align: right;\n",
       "    }\n",
       "</style>\n",
       "<table border=\"1\" class=\"dataframe\">\n",
       "  <thead>\n",
       "    <tr style=\"text-align: right;\">\n",
       "      <th></th>\n",
       "      <th>TripType</th>\n",
       "      <th>VisitNumber</th>\n",
       "      <th>Weekday</th>\n",
       "      <th>Upc</th>\n",
       "      <th>ScanCount</th>\n",
       "      <th>DepartmentDescription</th>\n",
       "      <th>FinelineNumber</th>\n",
       "    </tr>\n",
       "  </thead>\n",
       "  <tbody>\n",
       "    <tr>\n",
       "      <th>35944</th>\n",
       "      <td>36</td>\n",
       "      <td>164059</td>\n",
       "      <td>Wednesday</td>\n",
       "      <td>7.797509e+09</td>\n",
       "      <td>1</td>\n",
       "      <td>IMPULSE MERCHANDISE</td>\n",
       "      <td>808.0</td>\n",
       "    </tr>\n",
       "    <tr>\n",
       "      <th>35945</th>\n",
       "      <td>36</td>\n",
       "      <td>164059</td>\n",
       "      <td>Wednesday</td>\n",
       "      <td>3.607344e+11</td>\n",
       "      <td>1</td>\n",
       "      <td>HEALTH AND BEAUTY AIDS</td>\n",
       "      <td>2250.0</td>\n",
       "    </tr>\n",
       "    <tr>\n",
       "      <th>35946</th>\n",
       "      <td>36</td>\n",
       "      <td>164059</td>\n",
       "      <td>Wednesday</td>\n",
       "      <td>8.680011e+09</td>\n",
       "      <td>1</td>\n",
       "      <td>BEAUTY</td>\n",
       "      <td>6124.0</td>\n",
       "    </tr>\n",
       "    <tr>\n",
       "      <th>35947</th>\n",
       "      <td>36</td>\n",
       "      <td>164059</td>\n",
       "      <td>Wednesday</td>\n",
       "      <td>7.153398e+10</td>\n",
       "      <td>2</td>\n",
       "      <td>HORTICULTURE AND ACCESS</td>\n",
       "      <td>8800.0</td>\n",
       "    </tr>\n",
       "    <tr>\n",
       "      <th>35948</th>\n",
       "      <td>36</td>\n",
       "      <td>164059</td>\n",
       "      <td>Wednesday</td>\n",
       "      <td>7.830001e+09</td>\n",
       "      <td>1</td>\n",
       "      <td>PHARMACY OTC</td>\n",
       "      <td>277.0</td>\n",
       "    </tr>\n",
       "    <tr>\n",
       "      <th>35949</th>\n",
       "      <td>36</td>\n",
       "      <td>164059</td>\n",
       "      <td>Wednesday</td>\n",
       "      <td>7.153392e+10</td>\n",
       "      <td>1</td>\n",
       "      <td>HORTICULTURE AND ACCESS</td>\n",
       "      <td>8720.0</td>\n",
       "    </tr>\n",
       "    <tr>\n",
       "      <th>35950</th>\n",
       "      <td>36</td>\n",
       "      <td>164059</td>\n",
       "      <td>Wednesday</td>\n",
       "      <td>2.200001e+09</td>\n",
       "      <td>1</td>\n",
       "      <td>IMPULSE MERCHANDISE</td>\n",
       "      <td>135.0</td>\n",
       "    </tr>\n",
       "  </tbody>\n",
       "</table>\n",
       "</div>"
      ],
      "text/plain": [
       "       TripType  VisitNumber    Weekday           Upc  ScanCount  \\\n",
       "35944        36       164059  Wednesday  7.797509e+09          1   \n",
       "35945        36       164059  Wednesday  3.607344e+11          1   \n",
       "35946        36       164059  Wednesday  8.680011e+09          1   \n",
       "35947        36       164059  Wednesday  7.153398e+10          2   \n",
       "35948        36       164059  Wednesday  7.830001e+09          1   \n",
       "35949        36       164059  Wednesday  7.153392e+10          1   \n",
       "35950        36       164059  Wednesday  2.200001e+09          1   \n",
       "\n",
       "         DepartmentDescription  FinelineNumber  \n",
       "35944      IMPULSE MERCHANDISE           808.0  \n",
       "35945   HEALTH AND BEAUTY AIDS          2250.0  \n",
       "35946                   BEAUTY          6124.0  \n",
       "35947  HORTICULTURE AND ACCESS          8800.0  \n",
       "35948             PHARMACY OTC           277.0  \n",
       "35949  HORTICULTURE AND ACCESS          8720.0  \n",
       "35950      IMPULSE MERCHANDISE           135.0  "
      ]
     },
     "execution_count": 35,
     "metadata": {},
     "output_type": "execute_result"
    }
   ],
   "source": [
    "df_val[df_val['VisitNumber']==164059]"
   ]
  },
  {
   "cell_type": "code",
   "execution_count": 36,
   "metadata": {},
   "outputs": [
    {
     "data": {
      "text/html": [
       "<div>\n",
       "<style scoped>\n",
       "    .dataframe tbody tr th:only-of-type {\n",
       "        vertical-align: middle;\n",
       "    }\n",
       "\n",
       "    .dataframe tbody tr th {\n",
       "        vertical-align: top;\n",
       "    }\n",
       "\n",
       "    .dataframe thead th {\n",
       "        text-align: right;\n",
       "    }\n",
       "</style>\n",
       "<table border=\"1\" class=\"dataframe\">\n",
       "  <thead>\n",
       "    <tr style=\"text-align: right;\">\n",
       "      <th></th>\n",
       "      <th>TripType</th>\n",
       "      <th>VisitNumber</th>\n",
       "      <th>Weekday</th>\n",
       "      <th>Upc</th>\n",
       "      <th>ScanCount</th>\n",
       "      <th>DepartmentDescription</th>\n",
       "      <th>FinelineNumber</th>\n",
       "    </tr>\n",
       "  </thead>\n",
       "  <tbody>\n",
       "    <tr>\n",
       "      <th>34564</th>\n",
       "      <td>999</td>\n",
       "      <td>182398</td>\n",
       "      <td>Saturday</td>\n",
       "      <td>3.099723e+10</td>\n",
       "      <td>-1</td>\n",
       "      <td>HEALTH AND BEAUTY AIDS</td>\n",
       "      <td>3501.0</td>\n",
       "    </tr>\n",
       "    <tr>\n",
       "      <th>34565</th>\n",
       "      <td>999</td>\n",
       "      <td>182398</td>\n",
       "      <td>Saturday</td>\n",
       "      <td>7.160313e+09</td>\n",
       "      <td>-2</td>\n",
       "      <td>BEAUTY</td>\n",
       "      <td>3304.0</td>\n",
       "    </tr>\n",
       "  </tbody>\n",
       "</table>\n",
       "</div>"
      ],
      "text/plain": [
       "       TripType  VisitNumber   Weekday           Upc  ScanCount  \\\n",
       "34564       999       182398  Saturday  3.099723e+10         -1   \n",
       "34565       999       182398  Saturday  7.160313e+09         -2   \n",
       "\n",
       "        DepartmentDescription  FinelineNumber  \n",
       "34564  HEALTH AND BEAUTY AIDS          3501.0  \n",
       "34565                  BEAUTY          3304.0  "
      ]
     },
     "execution_count": 36,
     "metadata": {},
     "output_type": "execute_result"
    }
   ],
   "source": [
    "df_test[df_test['VisitNumber']==182398]"
   ]
  },
  {
   "cell_type": "markdown",
   "metadata": {},
   "source": [
    "The trip from df_test gives us an interesting hint. \"BEAUTY\" and \"HEALTH AND BEAUTY AIDS\" sound very similar. Is it possible that 'BEAUTY' was just renamed in two instances. Let's check all departments with \"BEAUTY\" in them."
   ]
  },
  {
   "cell_type": "code",
   "execution_count": 37,
   "metadata": {},
   "outputs": [],
   "source": [
    "#read in fill df for convenience\n",
    "#df1 = pd.read_csv(f'{DATA_PATH}/train.csv', usecols=['DepartmentDescription', 'VisitNumber'])\n",
    "df = read_train_df(f'{DATA_PATH}/train.csv', all_visits, ['DepartmentDescription', 'VisitNumber'])"
   ]
  },
  {
   "cell_type": "code",
   "execution_count": 38,
   "metadata": {},
   "outputs": [
    {
     "data": {
      "text/plain": [
       "['BEAUTY', 'HEALTH AND BEAUTY AIDS']"
      ]
     },
     "execution_count": 38,
     "metadata": {},
     "output_type": "execute_result"
    }
   ],
   "source": [
    "[x for x in df['DepartmentDescription'].fillna(-1).unique() if str(x).lower().find('beauty')>-1]"
   ]
  },
  {
   "cell_type": "markdown",
   "metadata": {},
   "source": [
    "Before we just blindly replace \"HEALTH AND BEAUTY AIDS\" by \"BEAUTY\", we should check the real Kaggle test set and see how often this problem occurs there."
   ]
  },
  {
   "cell_type": "code",
   "execution_count": 39,
   "metadata": {},
   "outputs": [],
   "source": [
    "df_true_test = pd.read_csv(f'{DATA_PATH}/test.csv', usecols=['DepartmentDescription'])"
   ]
  },
  {
   "cell_type": "code",
   "execution_count": 40,
   "metadata": {},
   "outputs": [
    {
     "data": {
      "text/plain": [
       "(0, 1)"
      ]
     },
     "execution_count": 40,
     "metadata": {},
     "output_type": "execute_result"
    }
   ],
   "source": [
    "df_true_test[df_true_test['DepartmentDescription']=='HEALTH AND BEAUTY AIDS'].shape"
   ]
  },
  {
   "cell_type": "markdown",
   "metadata": {},
   "source": [
    "Good news! There's no \"HEALTH AND BEAUTY AIDS\" in the true Kaggle test set so we can just replace \"HEALTH AND BEAUTY AIDS\" -> \"BEAUTY. But this points to another potential problem."
   ]
  },
  {
   "cell_type": "markdown",
   "metadata": {},
   "source": [
    "Our goal is to make predictions on the true Kaggle test. If we use the distribution of number of products bought by department, then it's possible that there are departments in the test set that are not in the train set. In this case, the simplest option is to just drop those products. Of course, if there are many such products, we should look into finding the closest match department in our train set to the unknown department in the true test set."
   ]
  },
  {
   "cell_type": "code",
   "execution_count": 41,
   "metadata": {},
   "outputs": [
    {
     "data": {
      "text/plain": [
       "set()"
      ]
     },
     "execution_count": 41,
     "metadata": {},
     "output_type": "execute_result"
    }
   ],
   "source": [
    "set(df_true_test['DepartmentDescription'].unique()).difference(df['DepartmentDescription'].unique())"
   ]
  },
  {
   "cell_type": "markdown",
   "metadata": {},
   "source": [
    "Beautiful! No need to worry about this problem. Let's go ahead and do the department replacement in val and test."
   ]
  },
  {
   "cell_type": "code",
   "execution_count": 42,
   "metadata": {},
   "outputs": [],
   "source": [
    "df_val.loc[df_val['DepartmentDescription']=='HEALTH AND BEAUTY AIDS', 'DepartmentDescription'] = 'BEAUTY'\n",
    "df_test.loc[df_test['DepartmentDescription']=='HEALTH AND BEAUTY AIDS', 'DepartmentDescription'] = 'BEAUTY'"
   ]
  },
  {
   "cell_type": "code",
   "execution_count": 43,
   "metadata": {},
   "outputs": [],
   "source": [
    "#add a similar row for train in case we ever change our cross-validation strategy\n",
    "df_train.loc[df_train['DepartmentDescription']=='HEALTH AND BEAUTY AIDS', 'DepartmentDescription'] = 'BEAUTY'"
   ]
  },
  {
   "cell_type": "markdown",
   "metadata": {},
   "source": [
    "### Summary:\n",
    "\n",
    "* We used pd.pivot_table to create a dataset where rows are visit numbers and columns are department descriptions. The matrix entries are the total counts of product bought during that trip.\n",
    "\n",
    "* During our test comparing the pivot table to a group by, we uncovered nulls in the product descriptions - Upc, FilelineNumber and DepartmentDescription. We found it safe to replace the nulls by -1.\n",
    "\n",
    "* We also discovered that the train, val and test pivot table had different number of columns because two entries had mislabelled department descriptions.\n",
    "\n",
    "* We ensured that the wrong departments were not present in the \"true\" kaggle test set (test.csv). Then we replaced the two erroneous rows (\"HEALTH AND BEAUTY AIDS\") with the closest department (\"BEAUTY\").\n",
    "\n",
    "* At this stage, we should save df_train, df_val, df_test as a checkpoint"
   ]
  },
  {
   "cell_type": "code",
   "execution_count": 44,
   "metadata": {},
   "outputs": [],
   "source": [
    "df_train.to_feather(f'{DATA_PATH}/df_raw_train_clean.feather')\n",
    "df_val.reset_index(drop=True).to_feather(f'{DATA_PATH}/df_raw_val_clean.feather')\n",
    "df_test.reset_index(drop=True).to_feather(f'{DATA_PATH}/df_raw_test_clean.feather')"
   ]
  },
  {
   "cell_type": "code",
   "execution_count": 45,
   "metadata": {},
   "outputs": [],
   "source": [
    "df_train = pd.read_feather(f'{DATA_PATH}/df_raw_train_clean.feather')\n",
    "df_val = pd.read_feather(f'{DATA_PATH}/df_raw_val_clean.feather')\n",
    "df_test = pd.read_feather(f'{DATA_PATH}/df_raw_test_clean.feather')"
   ]
  },
  {
   "cell_type": "code",
   "execution_count": 46,
   "metadata": {},
   "outputs": [],
   "source": [
    "df_train_f1 = pd.pivot_table(df_train, \n",
    "                             index='VisitNumber', \n",
    "                             columns='DepartmentDescription', \n",
    "                             values='ScanCount', \n",
    "                             aggfunc='sum').fillna(0)\n",
    "\n",
    "df_val_f1 = pd.pivot_table(df_val, \n",
    "                           index='VisitNumber', \n",
    "                           columns='DepartmentDescription', \n",
    "                           values='ScanCount', \n",
    "                           aggfunc='sum').fillna(0)\n",
    "\n",
    "df_test_f1 = pd.pivot_table(df_test,\n",
    "                            index='VisitNumber',\n",
    "                            columns='DepartmentDescription', \n",
    "                            values='ScanCount', \n",
    "                            aggfunc='sum').fillna(0)"
   ]
  },
  {
   "cell_type": "code",
   "execution_count": 47,
   "metadata": {},
   "outputs": [
    {
     "name": "stdout",
     "output_type": "stream",
     "text": [
      "(21750, 68)\n",
      "(9567, 68)\n",
      "(9568, 68)\n"
     ]
    }
   ],
   "source": [
    "print(df_train_f1.shape)\n",
    "print(df_val_f1.shape)\n",
    "print(df_test_f1.shape)"
   ]
  },
  {
   "cell_type": "markdown",
   "metadata": {},
   "source": [
    "**Question**: How many rows do you expect in each of the 3 dataframes? Check that your expectation matches reality."
   ]
  },
  {
   "cell_type": "markdown",
   "metadata": {},
   "source": [
    "df_train_f1 should have one row for each visit number in df_train"
   ]
  },
  {
   "cell_type": "code",
   "execution_count": 48,
   "metadata": {},
   "outputs": [
    {
     "data": {
      "text/plain": [
       "21750"
      ]
     },
     "execution_count": 48,
     "metadata": {},
     "output_type": "execute_result"
    }
   ],
   "source": [
    "len(df_train['VisitNumber'].unique())"
   ]
  },
  {
   "cell_type": "markdown",
   "metadata": {},
   "source": [
    "If you don't have one row per visit number in df_train_f1, it's very likely that you still have some nulls that get dropped by pivot table."
   ]
  },
  {
   "cell_type": "code",
   "execution_count": 49,
   "metadata": {},
   "outputs": [
    {
     "data": {
      "text/plain": [
       "9567"
      ]
     },
     "execution_count": 49,
     "metadata": {},
     "output_type": "execute_result"
    }
   ],
   "source": [
    "len(df_val['VisitNumber'].unique())"
   ]
  },
  {
   "cell_type": "code",
   "execution_count": 50,
   "metadata": {},
   "outputs": [
    {
     "data": {
      "text/plain": [
       "9568"
      ]
     },
     "execution_count": 50,
     "metadata": {},
     "output_type": "execute_result"
    }
   ],
   "source": [
    "len(df_test['VisitNumber'].unique())"
   ]
  },
  {
   "cell_type": "markdown",
   "metadata": {},
   "source": [
    "### Model-building\n",
    "\n",
    "We now have a dataset that is ready for model training. The features are the number of items bought for each department for each visit. The target variable is TripType (which is not yet present in df_train_f1)."
   ]
  },
  {
   "cell_type": "markdown",
   "metadata": {},
   "source": [
    "**Question**: Add TripType to each of df_train_f1, df_val_f1, df_test_f1"
   ]
  },
  {
   "cell_type": "code",
   "execution_count": 51,
   "metadata": {},
   "outputs": [
    {
     "data": {
      "text/html": [
       "<div>\n",
       "<style scoped>\n",
       "    .dataframe tbody tr th:only-of-type {\n",
       "        vertical-align: middle;\n",
       "    }\n",
       "\n",
       "    .dataframe tbody tr th {\n",
       "        vertical-align: top;\n",
       "    }\n",
       "\n",
       "    .dataframe thead th {\n",
       "        text-align: right;\n",
       "    }\n",
       "</style>\n",
       "<table border=\"1\" class=\"dataframe\">\n",
       "  <thead>\n",
       "    <tr style=\"text-align: right;\">\n",
       "      <th></th>\n",
       "      <th>TripType</th>\n",
       "    </tr>\n",
       "    <tr>\n",
       "      <th>VisitNumber</th>\n",
       "      <th></th>\n",
       "    </tr>\n",
       "  </thead>\n",
       "  <tbody>\n",
       "    <tr>\n",
       "      <th>5</th>\n",
       "      <td>999</td>\n",
       "    </tr>\n",
       "    <tr>\n",
       "      <th>7</th>\n",
       "      <td>30</td>\n",
       "    </tr>\n",
       "    <tr>\n",
       "      <th>9</th>\n",
       "      <td>8</td>\n",
       "    </tr>\n",
       "    <tr>\n",
       "      <th>11</th>\n",
       "      <td>35</td>\n",
       "    </tr>\n",
       "    <tr>\n",
       "      <th>15</th>\n",
       "      <td>21</td>\n",
       "    </tr>\n",
       "  </tbody>\n",
       "</table>\n",
       "</div>"
      ],
      "text/plain": [
       "             TripType\n",
       "VisitNumber          \n",
       "5                 999\n",
       "7                  30\n",
       "9                   8\n",
       "11                 35\n",
       "15                 21"
      ]
     },
     "execution_count": 51,
     "metadata": {},
     "output_type": "execute_result"
    }
   ],
   "source": [
    "df_train[['VisitNumber', 'TripType']].drop_duplicates().set_index('VisitNumber').head()"
   ]
  },
  {
   "cell_type": "code",
   "execution_count": 52,
   "metadata": {},
   "outputs": [
    {
     "data": {
      "text/plain": [
       "21750"
      ]
     },
     "execution_count": 52,
     "metadata": {},
     "output_type": "execute_result"
    }
   ],
   "source": [
    "len(df_train['VisitNumber'].unique())"
   ]
  },
  {
   "cell_type": "code",
   "execution_count": 53,
   "metadata": {},
   "outputs": [],
   "source": [
    "df_train_f1 = pd.concat([df_train[['VisitNumber', 'TripType']].drop_duplicates().set_index('VisitNumber'), df_train_f1], axis=1)\n",
    "df_val_f1 = pd.concat([df_val[['VisitNumber', 'TripType']].drop_duplicates().set_index('VisitNumber'), df_val_f1], axis=1)\n",
    "df_test_f1 = pd.concat([df_test[['VisitNumber', 'TripType']].drop_duplicates().set_index('VisitNumber'), df_test_f1], axis=1)"
   ]
  },
  {
   "cell_type": "code",
   "execution_count": 54,
   "metadata": {},
   "outputs": [
    {
     "name": "stdout",
     "output_type": "stream",
     "text": [
      "(21750, 69)\n",
      "(9567, 69)\n",
      "(9568, 69)\n"
     ]
    }
   ],
   "source": [
    "#Ensure shapes didn't change except for addition of one column\n",
    "\n",
    "print(df_train_f1.shape)\n",
    "print(df_val_f1.shape)\n",
    "print(df_test_f1.shape)"
   ]
  },
  {
   "cell_type": "code",
   "execution_count": 55,
   "metadata": {},
   "outputs": [
    {
     "data": {
      "text/html": [
       "<div>\n",
       "<style scoped>\n",
       "    .dataframe tbody tr th:only-of-type {\n",
       "        vertical-align: middle;\n",
       "    }\n",
       "\n",
       "    .dataframe tbody tr th {\n",
       "        vertical-align: top;\n",
       "    }\n",
       "\n",
       "    .dataframe thead th {\n",
       "        text-align: right;\n",
       "    }\n",
       "</style>\n",
       "<table border=\"1\" class=\"dataframe\">\n",
       "  <thead>\n",
       "    <tr style=\"text-align: right;\">\n",
       "      <th></th>\n",
       "      <th>TripType</th>\n",
       "      <th>-1</th>\n",
       "      <th>1-HR PHOTO</th>\n",
       "      <th>ACCESSORIES</th>\n",
       "      <th>AUTOMOTIVE</th>\n",
       "      <th>BAKERY</th>\n",
       "      <th>BATH AND SHOWER</th>\n",
       "      <th>BEAUTY</th>\n",
       "      <th>BEDDING</th>\n",
       "      <th>BOOKS AND MAGAZINES</th>\n",
       "      <th>...</th>\n",
       "      <th>SEAFOOD</th>\n",
       "      <th>SEASONAL</th>\n",
       "      <th>SERVICE DELI</th>\n",
       "      <th>SHEER HOSIERY</th>\n",
       "      <th>SHOES</th>\n",
       "      <th>SLEEPWEAR/FOUNDATIONS</th>\n",
       "      <th>SPORTING GOODS</th>\n",
       "      <th>SWIMWEAR/OUTERWEAR</th>\n",
       "      <th>TOYS</th>\n",
       "      <th>WIRELESS</th>\n",
       "    </tr>\n",
       "    <tr>\n",
       "      <th>VisitNumber</th>\n",
       "      <th></th>\n",
       "      <th></th>\n",
       "      <th></th>\n",
       "      <th></th>\n",
       "      <th></th>\n",
       "      <th></th>\n",
       "      <th></th>\n",
       "      <th></th>\n",
       "      <th></th>\n",
       "      <th></th>\n",
       "      <th></th>\n",
       "      <th></th>\n",
       "      <th></th>\n",
       "      <th></th>\n",
       "      <th></th>\n",
       "      <th></th>\n",
       "      <th></th>\n",
       "      <th></th>\n",
       "      <th></th>\n",
       "      <th></th>\n",
       "      <th></th>\n",
       "    </tr>\n",
       "  </thead>\n",
       "  <tbody>\n",
       "    <tr>\n",
       "      <th>5</th>\n",
       "      <td>999</td>\n",
       "      <td>0.0</td>\n",
       "      <td>0.0</td>\n",
       "      <td>0.0</td>\n",
       "      <td>0.0</td>\n",
       "      <td>0.0</td>\n",
       "      <td>0.0</td>\n",
       "      <td>0.0</td>\n",
       "      <td>0.0</td>\n",
       "      <td>0.0</td>\n",
       "      <td>...</td>\n",
       "      <td>0.0</td>\n",
       "      <td>0.0</td>\n",
       "      <td>0.0</td>\n",
       "      <td>0.0</td>\n",
       "      <td>0.0</td>\n",
       "      <td>0.0</td>\n",
       "      <td>0.0</td>\n",
       "      <td>0.0</td>\n",
       "      <td>0.0</td>\n",
       "      <td>0.0</td>\n",
       "    </tr>\n",
       "    <tr>\n",
       "      <th>7</th>\n",
       "      <td>30</td>\n",
       "      <td>0.0</td>\n",
       "      <td>0.0</td>\n",
       "      <td>0.0</td>\n",
       "      <td>0.0</td>\n",
       "      <td>0.0</td>\n",
       "      <td>0.0</td>\n",
       "      <td>0.0</td>\n",
       "      <td>0.0</td>\n",
       "      <td>0.0</td>\n",
       "      <td>...</td>\n",
       "      <td>0.0</td>\n",
       "      <td>0.0</td>\n",
       "      <td>0.0</td>\n",
       "      <td>0.0</td>\n",
       "      <td>1.0</td>\n",
       "      <td>0.0</td>\n",
       "      <td>0.0</td>\n",
       "      <td>0.0</td>\n",
       "      <td>0.0</td>\n",
       "      <td>0.0</td>\n",
       "    </tr>\n",
       "    <tr>\n",
       "      <th>9</th>\n",
       "      <td>8</td>\n",
       "      <td>0.0</td>\n",
       "      <td>0.0</td>\n",
       "      <td>0.0</td>\n",
       "      <td>0.0</td>\n",
       "      <td>0.0</td>\n",
       "      <td>0.0</td>\n",
       "      <td>0.0</td>\n",
       "      <td>0.0</td>\n",
       "      <td>0.0</td>\n",
       "      <td>...</td>\n",
       "      <td>0.0</td>\n",
       "      <td>0.0</td>\n",
       "      <td>0.0</td>\n",
       "      <td>0.0</td>\n",
       "      <td>0.0</td>\n",
       "      <td>0.0</td>\n",
       "      <td>0.0</td>\n",
       "      <td>0.0</td>\n",
       "      <td>0.0</td>\n",
       "      <td>0.0</td>\n",
       "    </tr>\n",
       "    <tr>\n",
       "      <th>11</th>\n",
       "      <td>35</td>\n",
       "      <td>0.0</td>\n",
       "      <td>0.0</td>\n",
       "      <td>0.0</td>\n",
       "      <td>0.0</td>\n",
       "      <td>0.0</td>\n",
       "      <td>0.0</td>\n",
       "      <td>0.0</td>\n",
       "      <td>0.0</td>\n",
       "      <td>0.0</td>\n",
       "      <td>...</td>\n",
       "      <td>0.0</td>\n",
       "      <td>0.0</td>\n",
       "      <td>0.0</td>\n",
       "      <td>0.0</td>\n",
       "      <td>0.0</td>\n",
       "      <td>0.0</td>\n",
       "      <td>0.0</td>\n",
       "      <td>0.0</td>\n",
       "      <td>0.0</td>\n",
       "      <td>0.0</td>\n",
       "    </tr>\n",
       "    <tr>\n",
       "      <th>15</th>\n",
       "      <td>21</td>\n",
       "      <td>0.0</td>\n",
       "      <td>0.0</td>\n",
       "      <td>0.0</td>\n",
       "      <td>0.0</td>\n",
       "      <td>0.0</td>\n",
       "      <td>0.0</td>\n",
       "      <td>0.0</td>\n",
       "      <td>0.0</td>\n",
       "      <td>0.0</td>\n",
       "      <td>...</td>\n",
       "      <td>0.0</td>\n",
       "      <td>0.0</td>\n",
       "      <td>0.0</td>\n",
       "      <td>0.0</td>\n",
       "      <td>0.0</td>\n",
       "      <td>0.0</td>\n",
       "      <td>0.0</td>\n",
       "      <td>0.0</td>\n",
       "      <td>0.0</td>\n",
       "      <td>0.0</td>\n",
       "    </tr>\n",
       "  </tbody>\n",
       "</table>\n",
       "<p>5 rows × 69 columns</p>\n",
       "</div>"
      ],
      "text/plain": [
       "             TripType   -1  1-HR PHOTO  ACCESSORIES  AUTOMOTIVE  BAKERY  \\\n",
       "VisitNumber                                                               \n",
       "5                 999  0.0         0.0          0.0         0.0     0.0   \n",
       "7                  30  0.0         0.0          0.0         0.0     0.0   \n",
       "9                   8  0.0         0.0          0.0         0.0     0.0   \n",
       "11                 35  0.0         0.0          0.0         0.0     0.0   \n",
       "15                 21  0.0         0.0          0.0         0.0     0.0   \n",
       "\n",
       "             BATH AND SHOWER  BEAUTY  BEDDING  BOOKS AND MAGAZINES  ...  \\\n",
       "VisitNumber                                                         ...   \n",
       "5                        0.0     0.0      0.0                  0.0  ...   \n",
       "7                        0.0     0.0      0.0                  0.0  ...   \n",
       "9                        0.0     0.0      0.0                  0.0  ...   \n",
       "11                       0.0     0.0      0.0                  0.0  ...   \n",
       "15                       0.0     0.0      0.0                  0.0  ...   \n",
       "\n",
       "             SEAFOOD  SEASONAL  SERVICE DELI  SHEER HOSIERY  SHOES  \\\n",
       "VisitNumber                                                          \n",
       "5                0.0       0.0           0.0            0.0    0.0   \n",
       "7                0.0       0.0           0.0            0.0    1.0   \n",
       "9                0.0       0.0           0.0            0.0    0.0   \n",
       "11               0.0       0.0           0.0            0.0    0.0   \n",
       "15               0.0       0.0           0.0            0.0    0.0   \n",
       "\n",
       "             SLEEPWEAR/FOUNDATIONS  SPORTING GOODS  SWIMWEAR/OUTERWEAR  TOYS  \\\n",
       "VisitNumber                                                                    \n",
       "5                              0.0             0.0                 0.0   0.0   \n",
       "7                              0.0             0.0                 0.0   0.0   \n",
       "9                              0.0             0.0                 0.0   0.0   \n",
       "11                             0.0             0.0                 0.0   0.0   \n",
       "15                             0.0             0.0                 0.0   0.0   \n",
       "\n",
       "             WIRELESS  \n",
       "VisitNumber            \n",
       "5                 0.0  \n",
       "7                 0.0  \n",
       "9                 0.0  \n",
       "11                0.0  \n",
       "15                0.0  \n",
       "\n",
       "[5 rows x 69 columns]"
      ]
     },
     "execution_count": 55,
     "metadata": {},
     "output_type": "execute_result"
    }
   ],
   "source": [
    "df_train_f1.head()"
   ]
  },
  {
   "cell_type": "markdown",
   "metadata": {},
   "source": [
    "**Question**: It is very important to be paranoid at this stage. Did we assign the correct trip type to each visit number in df_train_f1. Check this."
   ]
  },
  {
   "cell_type": "code",
   "execution_count": 56,
   "metadata": {},
   "outputs": [],
   "source": [
    "df_joined_train = pd.merge(df_train_f1['TripType'].reset_index(), df_train[['VisitNumber', 'TripType']].drop_duplicates(), how=\"outer\", on=\"VisitNumber\")\n",
    "df_joined_val = pd.merge(df_val_f1['TripType'].reset_index(), df_val[['VisitNumber', 'TripType']].drop_duplicates(), how=\"outer\", on=\"VisitNumber\")\n",
    "df_joined_test = pd.merge(df_test_f1['TripType'].reset_index(), df_test[['VisitNumber', 'TripType']].drop_duplicates(), how=\"outer\", on=\"VisitNumber\")"
   ]
  },
  {
   "cell_type": "code",
   "execution_count": 57,
   "metadata": {},
   "outputs": [
    {
     "name": "stdout",
     "output_type": "stream",
     "text": [
      "(21750, 69)\n",
      "(21750, 3)\n"
     ]
    }
   ],
   "source": [
    "print(df_train_f1.shape)\n",
    "print(df_joined_train.shape)"
   ]
  },
  {
   "cell_type": "code",
   "execution_count": 58,
   "metadata": {},
   "outputs": [
    {
     "data": {
      "text/html": [
       "<div>\n",
       "<style scoped>\n",
       "    .dataframe tbody tr th:only-of-type {\n",
       "        vertical-align: middle;\n",
       "    }\n",
       "\n",
       "    .dataframe tbody tr th {\n",
       "        vertical-align: top;\n",
       "    }\n",
       "\n",
       "    .dataframe thead th {\n",
       "        text-align: right;\n",
       "    }\n",
       "</style>\n",
       "<table border=\"1\" class=\"dataframe\">\n",
       "  <thead>\n",
       "    <tr style=\"text-align: right;\">\n",
       "      <th></th>\n",
       "      <th>VisitNumber</th>\n",
       "      <th>TripType_x</th>\n",
       "      <th>TripType_y</th>\n",
       "    </tr>\n",
       "  </thead>\n",
       "  <tbody>\n",
       "    <tr>\n",
       "      <th>0</th>\n",
       "      <td>5</td>\n",
       "      <td>999</td>\n",
       "      <td>999</td>\n",
       "    </tr>\n",
       "    <tr>\n",
       "      <th>1</th>\n",
       "      <td>7</td>\n",
       "      <td>30</td>\n",
       "      <td>30</td>\n",
       "    </tr>\n",
       "    <tr>\n",
       "      <th>2</th>\n",
       "      <td>9</td>\n",
       "      <td>8</td>\n",
       "      <td>8</td>\n",
       "    </tr>\n",
       "    <tr>\n",
       "      <th>3</th>\n",
       "      <td>11</td>\n",
       "      <td>35</td>\n",
       "      <td>35</td>\n",
       "    </tr>\n",
       "    <tr>\n",
       "      <th>4</th>\n",
       "      <td>15</td>\n",
       "      <td>21</td>\n",
       "      <td>21</td>\n",
       "    </tr>\n",
       "  </tbody>\n",
       "</table>\n",
       "</div>"
      ],
      "text/plain": [
       "   VisitNumber  TripType_x  TripType_y\n",
       "0            5         999         999\n",
       "1            7          30          30\n",
       "2            9           8           8\n",
       "3           11          35          35\n",
       "4           15          21          21"
      ]
     },
     "execution_count": 58,
     "metadata": {},
     "output_type": "execute_result"
    }
   ],
   "source": [
    "df_joined_train.head()"
   ]
  },
  {
   "cell_type": "code",
   "execution_count": 59,
   "metadata": {},
   "outputs": [
    {
     "data": {
      "text/plain": [
       "0"
      ]
     },
     "execution_count": 59,
     "metadata": {},
     "output_type": "execute_result"
    }
   ],
   "source": [
    "(df_joined_train['TripType_x']!=df_joined_train['TripType_y']).sum()"
   ]
  },
  {
   "cell_type": "code",
   "execution_count": 60,
   "metadata": {},
   "outputs": [
    {
     "data": {
      "text/plain": [
       "0"
      ]
     },
     "execution_count": 60,
     "metadata": {},
     "output_type": "execute_result"
    }
   ],
   "source": [
    "(df_joined_val['TripType_x']!=df_joined_val['TripType_y']).sum()"
   ]
  },
  {
   "cell_type": "code",
   "execution_count": 61,
   "metadata": {},
   "outputs": [
    {
     "data": {
      "text/plain": [
       "0"
      ]
     },
     "execution_count": 61,
     "metadata": {},
     "output_type": "execute_result"
    }
   ],
   "source": [
    "(df_joined_test['TripType_x']!=df_joined_test['TripType_y']).sum()"
   ]
  },
  {
   "cell_type": "markdown",
   "metadata": {},
   "source": [
    "**Question**: We have a lot of zeros in our data. In other words, the matrix is sparse. Are there columns that we can drop because not many products were bought under the departments? How would you check this?"
   ]
  },
  {
   "cell_type": "code",
   "execution_count": 62,
   "metadata": {},
   "outputs": [
    {
     "name": "stdout",
     "output_type": "stream",
     "text": [
      "OTHER DEPARTMENTS            5.0\n",
      "CONCEPT STORES               6.0\n",
      "SEASONAL                     7.0\n",
      "OPTICAL - LENSES             8.0\n",
      "LARGE HOUSEHOLD GOODS       15.0\n",
      "                          ...   \n",
      "PERSONAL CARE            10242.0\n",
      "DAIRY                    11226.0\n",
      "PRODUCE                  11738.0\n",
      "DSD GROCERY              18322.0\n",
      "GROCERY DRY GOODS        20283.0\n",
      "Length: 68, dtype: float64\n"
     ]
    },
    {
     "data": {
      "text/plain": [
       "[<matplotlib.lines.Line2D at 0x7f1da71a8e10>]"
      ]
     },
     "execution_count": 62,
     "metadata": {},
     "output_type": "execute_result"
    },
    {
     "data": {
      "image/png": "[encoded data removed]",
      "text/plain": [
       "<Figure size 432x288 with 1 Axes>"
      ]
     },
     "metadata": {
      "needs_background": "light"
     },
     "output_type": "display_data"
    }
   ],
   "source": [
    "print(df_train_f1.drop('TripType', axis=1).sum(axis=0).sort_values())\n",
    "plt.plot(df_train_f1.drop('TripType', axis=1).sum(axis=0).sort_values())"
   ]
  },
  {
   "cell_type": "markdown",
   "metadata": {},
   "source": [
    "At this point, you could manually do some experiments to see if there are categories (like SEASONAL > 0) where all the TripTypes are the same. In this case, you could set a manual rule.\n",
    "\n",
    "**Question**: For visits that involved buying seasonal items, what were the TripTypes?"
   ]
  },
  {
   "cell_type": "code",
   "execution_count": 63,
   "metadata": {},
   "outputs": [
    {
     "data": {
      "text/plain": [
       "(6, 69)"
      ]
     },
     "execution_count": 63,
     "metadata": {},
     "output_type": "execute_result"
    }
   ],
   "source": [
    "df_train_f1[df_train_f1['SEASONAL']>0].shape"
   ]
  },
  {
   "cell_type": "code",
   "execution_count": 64,
   "metadata": {},
   "outputs": [
    {
     "data": {
      "text/plain": [
       "7.0"
      ]
     },
     "execution_count": 64,
     "metadata": {},
     "output_type": "execute_result"
    }
   ],
   "source": [
    "df_train_f1['SEASONAL'].sum()"
   ]
  },
  {
   "cell_type": "code",
   "execution_count": 65,
   "metadata": {},
   "outputs": [
    {
     "data": {
      "text/plain": [
       "44    2\n",
       "42    2\n",
       "25    1\n",
       "40    1\n",
       "Name: TripType, dtype: int64"
      ]
     },
     "execution_count": 65,
     "metadata": {},
     "output_type": "execute_result"
    }
   ],
   "source": [
    "df_train_f1[df_train_f1['SEASONAL']>0]['TripType'].value_counts()"
   ]
  },
  {
   "cell_type": "code",
   "execution_count": 66,
   "metadata": {},
   "outputs": [
    {
     "data": {
      "text/plain": [
       "999    3\n",
       "38     1\n",
       "9      1\n",
       "Name: TripType, dtype: int64"
      ]
     },
     "execution_count": 66,
     "metadata": {},
     "output_type": "execute_result"
    }
   ],
   "source": [
    "df_train_f1[df_train_f1['OTHER DEPARTMENTS']>0]['TripType'].value_counts()"
   ]
  },
  {
   "cell_type": "code",
   "execution_count": 67,
   "metadata": {},
   "outputs": [
    {
     "data": {
      "text/plain": [
       "999    5\n",
       "Name: TripType, dtype: int64"
      ]
     },
     "execution_count": 67,
     "metadata": {},
     "output_type": "execute_result"
    }
   ],
   "source": [
    "df_train_f1[df_train_f1['CONCEPT STORES']>0]['TripType'].value_counts()"
   ]
  },
  {
   "cell_type": "markdown",
   "metadata": {},
   "source": [
    "**Question**: Repeat this exercise for each department to see if there's any department which if it is present, results in > 95% of the trip types being of the same type"
   ]
  },
  {
   "cell_type": "code",
   "execution_count": 68,
   "metadata": {},
   "outputs": [
    {
     "name": "stdout",
     "output_type": "stream",
     "text": [
      "CONCEPT STORES\n",
      "LARGE HOUSEHOLD GOODS\n",
      "OPTICAL - LENSES\n"
     ]
    }
   ],
   "source": [
    "for col in df_train_f1.drop('TripType', axis=1).columns:\n",
    "    counts = df_train_f1[df_train_f1[col]>0]['TripType'].value_counts()\n",
    "    if counts.iloc[0] / counts.sum() > 0.95:\n",
    "        print(col)"
   ]
  },
  {
   "cell_type": "code",
   "execution_count": 69,
   "metadata": {},
   "outputs": [
    {
     "data": {
      "text/plain": [
       "5    7\n",
       "Name: TripType, dtype: int64"
      ]
     },
     "execution_count": 69,
     "metadata": {},
     "output_type": "execute_result"
    }
   ],
   "source": [
    "df_train_f1[df_train_f1['OPTICAL - LENSES']>0]['TripType'].value_counts()"
   ]
  },
  {
   "cell_type": "code",
   "execution_count": 70,
   "metadata": {},
   "outputs": [
    {
     "data": {
      "text/plain": [
       "3    15\n",
       "Name: TripType, dtype: int64"
      ]
     },
     "execution_count": 70,
     "metadata": {},
     "output_type": "execute_result"
    }
   ],
   "source": [
    "df_train_f1[df_train_f1['LARGE HOUSEHOLD GOODS']>0]['TripType'].value_counts()"
   ]
  },
  {
   "cell_type": "markdown",
   "metadata": {},
   "source": [
    "In this case, one could create a rule that predicts trip type 5 for any trip that had a visit to \"OPTICAL - LENSES\" or \"LARGE HOUSEHOLD GOODS\" except that combined they affect only ~100 visits.\n",
    "\n",
    "If we were doing a full competition, we would note this down to check against any model. Does your model perform well on these two subsets? If a reasonable chunk of the loss could be reduced by putting in a hand-crafted rule in a competition, you should do so specially when the margins between neighboring ranks are so thin."
   ]
  },
  {
   "cell_type": "markdown",
   "metadata": {},
   "source": [
    "**Question**: Look at how many distinct number of items were bought for each visit number."
   ]
  },
  {
   "cell_type": "code",
   "execution_count": 71,
   "metadata": {},
   "outputs": [],
   "source": [
    "n_distinct = df.groupby('VisitNumber').count()['DepartmentDescription']"
   ]
  },
  {
   "cell_type": "code",
   "execution_count": 72,
   "metadata": {},
   "outputs": [
    {
     "name": "stdout",
     "output_type": "stream",
     "text": [
      "[  0   0   0 ...  98 104 109]\n"
     ]
    },
    {
     "data": {
      "text/plain": [
       "[<matplotlib.lines.Line2D at 0x7f1da70d3cd0>]"
      ]
     },
     "execution_count": 72,
     "metadata": {},
     "output_type": "execute_result"
    },
    {
     "data": {
      "image/png": "[encoded data removed]",
      "text/plain": [
       "<Figure size 432x288 with 1 Axes>"
      ]
     },
     "metadata": {
      "needs_background": "light"
     },
     "output_type": "display_data"
    }
   ],
   "source": [
    "print(np.sort(n_distinct))\n",
    "plt.plot(np.sort(n_distinct))"
   ]
  },
  {
   "cell_type": "markdown",
   "metadata": {},
   "source": [
    "Let's zoom in at both ends of the plot.\n",
    "\n",
    "**Question**: Explore the data at for very low and very high distinct items."
   ]
  },
  {
   "cell_type": "code",
   "execution_count": 73,
   "metadata": {},
   "outputs": [
    {
     "data": {
      "text/html": [
       "<div>\n",
       "<style scoped>\n",
       "    .dataframe tbody tr th:only-of-type {\n",
       "        vertical-align: middle;\n",
       "    }\n",
       "\n",
       "    .dataframe tbody tr th {\n",
       "        vertical-align: top;\n",
       "    }\n",
       "\n",
       "    .dataframe thead th {\n",
       "        text-align: right;\n",
       "    }\n",
       "</style>\n",
       "<table border=\"1\" class=\"dataframe\">\n",
       "  <thead>\n",
       "    <tr style=\"text-align: right;\">\n",
       "      <th></th>\n",
       "      <th>TripType</th>\n",
       "      <th>VisitNumber</th>\n",
       "      <th>Weekday</th>\n",
       "      <th>Upc</th>\n",
       "      <th>ScanCount</th>\n",
       "      <th>DepartmentDescription</th>\n",
       "      <th>FinelineNumber</th>\n",
       "    </tr>\n",
       "  </thead>\n",
       "  <tbody>\n",
       "    <tr>\n",
       "      <th>0</th>\n",
       "      <td>999</td>\n",
       "      <td>5</td>\n",
       "      <td>Friday</td>\n",
       "      <td>6.811315e+10</td>\n",
       "      <td>-1</td>\n",
       "      <td>FINANCIAL SERVICES</td>\n",
       "      <td>1000.0</td>\n",
       "    </tr>\n",
       "    <tr>\n",
       "      <th>38</th>\n",
       "      <td>9</td>\n",
       "      <td>30</td>\n",
       "      <td>Friday</td>\n",
       "      <td>9.933894e+09</td>\n",
       "      <td>1</td>\n",
       "      <td>LADIESWEAR</td>\n",
       "      <td>1180.0</td>\n",
       "    </tr>\n",
       "    <tr>\n",
       "      <th>48</th>\n",
       "      <td>9</td>\n",
       "      <td>50</td>\n",
       "      <td>Friday</td>\n",
       "      <td>3.825775e+09</td>\n",
       "      <td>1</td>\n",
       "      <td>MENS WEAR</td>\n",
       "      <td>8218.0</td>\n",
       "    </tr>\n",
       "    <tr>\n",
       "      <th>54</th>\n",
       "      <td>9</td>\n",
       "      <td>68</td>\n",
       "      <td>Friday</td>\n",
       "      <td>4.282560e+09</td>\n",
       "      <td>1</td>\n",
       "      <td>MENS WEAR</td>\n",
       "      <td>8225.0</td>\n",
       "    </tr>\n",
       "    <tr>\n",
       "      <th>59</th>\n",
       "      <td>8</td>\n",
       "      <td>93</td>\n",
       "      <td>Friday</td>\n",
       "      <td>4.011000e+03</td>\n",
       "      <td>1</td>\n",
       "      <td>PRODUCE</td>\n",
       "      <td>5501.0</td>\n",
       "    </tr>\n",
       "  </tbody>\n",
       "</table>\n",
       "</div>"
      ],
      "text/plain": [
       "    TripType  VisitNumber Weekday           Upc  ScanCount  \\\n",
       "0        999            5  Friday  6.811315e+10         -1   \n",
       "38         9           30  Friday  9.933894e+09          1   \n",
       "48         9           50  Friday  3.825775e+09          1   \n",
       "54         9           68  Friday  4.282560e+09          1   \n",
       "59         8           93  Friday  4.011000e+03          1   \n",
       "\n",
       "   DepartmentDescription  FinelineNumber  \n",
       "0     FINANCIAL SERVICES          1000.0  \n",
       "38            LADIESWEAR          1180.0  \n",
       "48             MENS WEAR          8218.0  \n",
       "54             MENS WEAR          8225.0  \n",
       "59               PRODUCE          5501.0  "
      ]
     },
     "execution_count": 73,
     "metadata": {},
     "output_type": "execute_result"
    }
   ],
   "source": [
    "df_train[df_train['VisitNumber'].isin(n_distinct[n_distinct==1].index)].head()"
   ]
  },
  {
   "cell_type": "code",
   "execution_count": 74,
   "metadata": {},
   "outputs": [
    {
     "data": {
      "text/plain": [
       "Friday       776\n",
       "Saturday     745\n",
       "Sunday       722\n",
       "Monday       621\n",
       "Tuesday      538\n",
       "Thursday     526\n",
       "Wednesday    525\n",
       "Name: Weekday, dtype: int64"
      ]
     },
     "execution_count": 74,
     "metadata": {},
     "output_type": "execute_result"
    }
   ],
   "source": [
    "df_train[df_train['VisitNumber'].isin(n_distinct[n_distinct==1].index)]['Weekday'].value_counts()"
   ]
  },
  {
   "cell_type": "code",
   "execution_count": 75,
   "metadata": {},
   "outputs": [
    {
     "data": {
      "text/plain": [
       "FINANCIAL SERVICES     457\n",
       "DSD GROCERY            309\n",
       "IMPULSE MERCHANDISE    280\n",
       "PHARMACY OTC           229\n",
       "PHARMACY RX            190\n",
       "                      ... \n",
       "CONCEPT STORES           5\n",
       "LADIES SOCKS             5\n",
       "SEAFOOD                  4\n",
       "OTHER DEPARTMENTS        3\n",
       "OPTICAL - LENSES         2\n",
       "Name: DepartmentDescription, Length: 66, dtype: int64"
      ]
     },
     "execution_count": 75,
     "metadata": {},
     "output_type": "execute_result"
    }
   ],
   "source": [
    "df_train[df_train['VisitNumber'].isin(n_distinct[n_distinct==1].index)]['DepartmentDescription'].value_counts()"
   ]
  },
  {
   "cell_type": "code",
   "execution_count": 76,
   "metadata": {},
   "outputs": [
    {
     "data": {
      "text/plain": [
       "8      1149\n",
       "9      1065\n",
       "999     840\n",
       "5       382\n",
       "7       289\n",
       "3       201\n",
       "6       103\n",
       "22       62\n",
       "32       62\n",
       "24       50\n",
       "4        32\n",
       "31       32\n",
       "30       29\n",
       "19       25\n",
       "23       15\n",
       "27       13\n",
       "28       13\n",
       "26       12\n",
       "20       10\n",
       "35        8\n",
       "18        8\n",
       "39        7\n",
       "36        6\n",
       "15        6\n",
       "29        6\n",
       "37        6\n",
       "21        5\n",
       "34        4\n",
       "12        3\n",
       "42        3\n",
       "33        3\n",
       "38        2\n",
       "25        1\n",
       "41        1\n",
       "Name: TripType, dtype: int64"
      ]
     },
     "execution_count": 76,
     "metadata": {},
     "output_type": "execute_result"
    }
   ],
   "source": [
    "df_train[df_train['VisitNumber'].isin(n_distinct[n_distinct==1].index)]['TripType'].value_counts()"
   ]
  },
  {
   "cell_type": "markdown",
   "metadata": {},
   "source": [
    "**General point**: This kind of manual exploration guided by a series of questions is one way of looking at a dataset. There's a second way that we'll explore on day 3 where a model is built as fast as possible and inspected to identify patterns.\n",
    "\n",
    "Machine learning techniques are not just tools for predicting values but can also be used to deeply understand your data."
   ]
  },
  {
   "cell_type": "code",
   "execution_count": 77,
   "metadata": {},
   "outputs": [
    {
     "data": {
      "text/plain": [
       "Int64Index([], dtype='int64', name='VisitNumber')"
      ]
     },
     "execution_count": 77,
     "metadata": {},
     "output_type": "execute_result"
    }
   ],
   "source": [
    "n_distinct[n_distinct > 150].index"
   ]
  },
  {
   "cell_type": "code",
   "execution_count": 78,
   "metadata": {},
   "outputs": [
    {
     "data": {
      "text/html": [
       "<div>\n",
       "<style scoped>\n",
       "    .dataframe tbody tr th:only-of-type {\n",
       "        vertical-align: middle;\n",
       "    }\n",
       "\n",
       "    .dataframe tbody tr th {\n",
       "        vertical-align: top;\n",
       "    }\n",
       "\n",
       "    .dataframe thead th {\n",
       "        text-align: right;\n",
       "    }\n",
       "</style>\n",
       "<table border=\"1\" class=\"dataframe\">\n",
       "  <thead>\n",
       "    <tr style=\"text-align: right;\">\n",
       "      <th></th>\n",
       "      <th>TripType</th>\n",
       "      <th>VisitNumber</th>\n",
       "      <th>Weekday</th>\n",
       "      <th>Upc</th>\n",
       "      <th>ScanCount</th>\n",
       "      <th>DepartmentDescription</th>\n",
       "      <th>FinelineNumber</th>\n",
       "    </tr>\n",
       "  </thead>\n",
       "  <tbody>\n",
       "  </tbody>\n",
       "</table>\n",
       "</div>"
      ],
      "text/plain": [
       "Empty DataFrame\n",
       "Columns: [TripType, VisitNumber, Weekday, Upc, ScanCount, DepartmentDescription, FinelineNumber]\n",
       "Index: []"
      ]
     },
     "execution_count": 78,
     "metadata": {},
     "output_type": "execute_result"
    }
   ],
   "source": [
    "df_train[df_train['VisitNumber'].isin(n_distinct[n_distinct > 150].index)].head()\n",
    "#.head() so the whole table doesn't get displayed in github but do take a look at the full table"
   ]
  },
  {
   "cell_type": "markdown",
   "metadata": {},
   "source": [
    "At this stage, we are really ready to build the model."
   ]
  },
  {
   "cell_type": "code",
   "execution_count": 79,
   "metadata": {},
   "outputs": [],
   "source": [
    "from sklearn.linear_model import LogisticRegression"
   ]
  },
  {
   "cell_type": "code",
   "execution_count": 80,
   "metadata": {},
   "outputs": [
    {
     "name": "stderr",
     "output_type": "stream",
     "text": [
      "/home/sanjay/.local/lib/python3.7/site-packages/sklearn/linear_model/logistic.py:432: FutureWarning: Default solver will be changed to 'lbfgs' in 0.22. Specify a solver to silence this warning.\n",
      "  FutureWarning)\n",
      "/home/sanjay/.local/lib/python3.7/site-packages/sklearn/linear_model/logistic.py:469: FutureWarning: Default multi_class will be changed to 'auto' in 0.22. Specify the multi_class option to silence this warning.\n",
      "  \"this warning.\", FutureWarning)\n"
     ]
    },
    {
     "data": {
      "text/plain": [
       "LogisticRegression(C=1.0, class_weight=None, dual=False, fit_intercept=True,\n",
       "                   intercept_scaling=1, l1_ratio=None, max_iter=100,\n",
       "                   multi_class='warn', n_jobs=None, penalty='l2',\n",
       "                   random_state=None, solver='warn', tol=0.0001, verbose=0,\n",
       "                   warm_start=False)"
      ]
     },
     "execution_count": 80,
     "metadata": {},
     "output_type": "execute_result"
    }
   ],
   "source": [
    "model = LogisticRegression()\n",
    "model.fit(df_train_f1.drop('TripType', axis=1), df_train_f1['TripType'])"
   ]
  },
  {
   "cell_type": "markdown",
   "metadata": {},
   "source": [
    "As a coarse measure, let's look at accuracy = % of examples predicted correctly. We won't look at the test set during this process. It is set aside and should have no influence on our model selection process."
   ]
  },
  {
   "cell_type": "code",
   "execution_count": 81,
   "metadata": {},
   "outputs": [],
   "source": [
    "train_class_pred = model.predict(df_train_f1.drop('TripType', axis=1))\n",
    "val_class_pred = model.predict(df_val_f1.drop('TripType', axis=1))"
   ]
  },
  {
   "cell_type": "code",
   "execution_count": 82,
   "metadata": {},
   "outputs": [
    {
     "data": {
      "text/plain": [
       "array([999,   9,   8,   8,  21,  32,  38,  25,   9, 999])"
      ]
     },
     "execution_count": 82,
     "metadata": {},
     "output_type": "execute_result"
    }
   ],
   "source": [
    "train_class_pred[0:10]"
   ]
  },
  {
   "cell_type": "code",
   "execution_count": 83,
   "metadata": {},
   "outputs": [
    {
     "name": "stdout",
     "output_type": "stream",
     "text": [
      "Train Acc = 0.6217931034482759\n",
      "Val   Acc = 0.6102226403261211\n"
     ]
    }
   ],
   "source": [
    "train_acc = np.sum(train_class_pred==df_train_f1['TripType'].tolist()) / df_train_f1.shape[0]\n",
    "val_acc = np.sum(val_class_pred==df_val_f1['TripType'].tolist()) / df_val_f1.shape[0]\n",
    "\n",
    "print(f\"Train Acc = {train_acc}\")\n",
    "print(f\"Val   Acc = {val_acc}\")"
   ]
  },
  {
   "cell_type": "markdown",
   "metadata": {},
   "source": [
    "**Good news**: The accuracy metrics are very similar across train and validation. This means our model is not overfitting or memorizing the train set. It is (hopefully) possible to increase the accuracy by changing the parameters of the model, using different features, or maybe using a different modeling technique."
   ]
  },
  {
   "cell_type": "markdown",
   "metadata": {},
   "source": [
    "**Evaluating accuracy**: Whenever there's a metric that evaluates a model, one should ask the question - what would the metric be if we had a very simple or dumb model?\n",
    "\n",
    "Let's look at two examples here."
   ]
  },
  {
   "cell_type": "code",
   "execution_count": 84,
   "metadata": {},
   "outputs": [
    {
     "data": {
      "text/plain": [
       "8      2810\n",
       "39     2220\n",
       "9      2189\n",
       "999    1863\n",
       "40     1435\n",
       "7      1312\n",
       "5      1040\n",
       "25      853\n",
       "3       823\n",
       "36      658\n",
       "38      646\n",
       "24      600\n",
       "37      595\n",
       "35      483\n",
       "32      439\n",
       "42      422\n",
       "33      293\n",
       "6       289\n",
       "44      276\n",
       "30      256\n",
       "15      242\n",
       "22      213\n",
       "27      199\n",
       "43      191\n",
       "20      169\n",
       "34      142\n",
       "41      139\n",
       "21      139\n",
       "31      129\n",
       "18      126\n",
       "26      116\n",
       "28      107\n",
       "29      100\n",
       "19       83\n",
       "4        81\n",
       "12       48\n",
       "23       23\n",
       "14        1\n",
       "Name: TripType, dtype: int64"
      ]
     },
     "execution_count": 84,
     "metadata": {},
     "output_type": "execute_result"
    }
   ],
   "source": [
    "df_train_f1['TripType'].value_counts()"
   ]
  },
  {
   "cell_type": "markdown",
   "metadata": {},
   "source": [
    "What if we predicted every TripType to be the dominant class - TripType = 8 (with 9717 examples). Then we would get 9717 correct predictions and the rest would be wrong to give an accuracy of:\n",
    "\n",
    "$$\\frac{9717}{76539} \\approx 12.7\\% $$\n",
    "\n",
    "much worse than the 60% we see from our model."
   ]
  },
  {
   "cell_type": "markdown",
   "metadata": {},
   "source": [
    "What if we randomly assigned a trip type to each visit? We have 38 unique labels and it would give us a probability of \n",
    "\n",
    "$$\\frac{1}{38} \\approx 2.6\\%$$\n",
    "\n",
    "guessing the right label. In other words, this would give us an even worse accuracy."
   ]
  },
  {
   "cell_type": "markdown",
   "metadata": {},
   "source": [
    "But, all the trip types should not have the same probability of being guessed since they are unevenly distributed. Let's do a simple simulation for this."
   ]
  },
  {
   "cell_type": "code",
   "execution_count": 85,
   "metadata": {},
   "outputs": [],
   "source": [
    "counts = df_train_f1['TripType'].value_counts()\n",
    "probs_visit = counts.index\n",
    "probs_values = counts.values\n",
    "\n",
    "probs_values = probs_values / np.sum(probs_values)\n",
    "assert(probs_values.sum()>0.99)"
   ]
  },
  {
   "cell_type": "code",
   "execution_count": 86,
   "metadata": {},
   "outputs": [],
   "source": [
    "#random choose from labels according to the probability distribution in train and assign to each trip\n",
    "random_pred_train = np.random.choice(probs_visit, size=df_train_f1.shape[0], p=probs_values)"
   ]
  },
  {
   "cell_type": "code",
   "execution_count": 87,
   "metadata": {},
   "outputs": [
    {
     "name": "stdout",
     "output_type": "stream",
     "text": [
      "random train acc = 0.06174712643678161\n"
     ]
    }
   ],
   "source": [
    "print(f'random train acc = {np.sum(random_pred_train==df_train_f1[\"TripType\"].tolist())/df_train_f1.shape[0]}')"
   ]
  },
  {
   "cell_type": "markdown",
   "metadata": {},
   "source": [
    "So a random strategy would give us an accuracy of ~6.4%. So our model is indeed much better than a silly model."
   ]
  },
  {
   "cell_type": "markdown",
   "metadata": {},
   "source": [
    "Of course, what we really care about is the logarithmic loss below:\n",
    "\n",
    "$$-\\frac{1}{N} \\Sigma_{i=1}^N \\big(\\Sigma_{j=1}^M y_{ij} \\log(p_{ij})\\big)$$\n",
    "\n",
    "where:\n",
    "\n",
    "$N$ = number of rows\n",
    "\n",
    "$M$ = number of trip types\n",
    "\n",
    "$\n",
    "y_{ij} =\n",
    "\\begin{cases}\n",
    "1,  \\text{ if ith row has trip type j}\\\\\n",
    "0,   \\text{ otherwise} \\\\\n",
    "\\end{cases}$\n",
    "\n",
    "$p_{ij} = \\text{probability of the ith row being of trip-type j}$\n",
    "\n",
    "Note that $y_{ij}$ are labels and $p_{ij}$ are your model's predictions. Also, note that for a fixed row $i$, only one of $y_{ij} = 1$ and the rest are 0. So the contribution of that row to the cost is $-\\log(p_{ij})$. In other words, if the model very confidently predicts the correct class, $p_{ij} \\approx 1 \\implies -\\log(p_{ij}) \\approx 0$ i.e. there's no contribution to the cost. On the other hand, if the model predicts the correct class' probability with very low confidence i.e. $p_{ij}\\approx 0 \\implies -log(p_{ij}) \\approx \\infty$ so we get a very high loss.\n",
    "\n",
    "So even one bad prediction can really throw off your loss function and give a large value.\n",
    "\n",
    "https://www.kaggle.com/c/walmart-recruiting-trip-type-classification/overview/evaluation"
   ]
  },
  {
   "cell_type": "markdown",
   "metadata": {},
   "source": [
    "To evaluate this, we can use an in-built sklearn implementation but we need the probability of a visit to belong to each trip type.\n",
    "\n",
    "**Question**: look at the documentation for sklearn.linear_model.LogisticRegression and see if it exposes the class probabilities for each prediction."
   ]
  },
  {
   "cell_type": "code",
   "execution_count": 88,
   "metadata": {},
   "outputs": [
    {
     "name": "stdout",
     "output_type": "stream",
     "text": [
      "(21750, 38)\n"
     ]
    },
    {
     "data": {
      "text/plain": [
       "array([[1.20115549e-04, 4.77982295e-03, 3.05651661e-02, 1.87310727e-02,\n",
       "        6.62364334e-02, 2.19665665e-01, 1.96476294e-01, 1.35016859e-03,\n",
       "        4.45527960e-04, 3.99263202e-03, 2.66561782e-03, 1.21220110e-03,\n",
       "        1.58576472e-03, 3.69639791e-03, 2.55440737e-03, 1.57300928e-03,\n",
       "        9.82030506e-03, 8.59167723e-03, 1.34449648e-03, 4.79932372e-03,\n",
       "        1.89771746e-03, 3.45758437e-03, 7.06132043e-03, 1.46080217e-03,\n",
       "        8.47044884e-03, 6.58544970e-03, 4.74758017e-03, 1.06319155e-02,\n",
       "        1.07416594e-02, 8.34506290e-03, 1.72558453e-02, 4.80771670e-02,\n",
       "        6.47364884e-04, 2.01318976e-03, 5.90446459e-03, 3.10000713e-03,\n",
       "        1.75499967e-03, 2.77641322e-01]])"
      ]
     },
     "execution_count": 88,
     "metadata": {},
     "output_type": "execute_result"
    }
   ],
   "source": [
    "print(model.predict_proba(df_train_f1.drop('TripType', axis=1)).shape)\n",
    "#one column for each class\n",
    "model.predict_proba(df_train_f1.drop('TripType', axis=1))[0:1,:]"
   ]
  },
  {
   "cell_type": "code",
   "execution_count": 89,
   "metadata": {},
   "outputs": [],
   "source": [
    "from sklearn.metrics import log_loss"
   ]
  },
  {
   "cell_type": "code",
   "execution_count": 90,
   "metadata": {},
   "outputs": [
    {
     "data": {
      "text/plain": [
       "array([[2.10769507e-03, 1.24636217e-03, 2.90309984e-03, ...,\n",
       "        9.93160311e-03, 3.57548864e-03, 4.36401618e-06],\n",
       "       [3.20245162e-03, 4.15540409e-03, 2.78149400e-02, ...,\n",
       "        8.01377451e-03, 4.47623610e-03, 1.42768770e-01],\n",
       "       [8.00876553e-07, 2.47373691e-07, 1.01166615e-04, ...,\n",
       "        8.15360754e-04, 1.12911694e-02, 4.57033892e-06],\n",
       "       ...,\n",
       "       [3.20245162e-03, 4.15540409e-03, 2.78149400e-02, ...,\n",
       "        8.01377451e-03, 4.47623610e-03, 1.42768770e-01],\n",
       "       [2.26734734e-03, 2.78416624e-03, 1.15014089e-02, ...,\n",
       "        1.16358466e-02, 5.84979466e-03, 7.78999453e-02],\n",
       "       [5.78572626e-03, 4.24055952e-03, 1.08722663e-02, ...,\n",
       "        1.37506189e-02, 9.44706813e-03, 1.58805342e-02]])"
      ]
     },
     "execution_count": 90,
     "metadata": {},
     "output_type": "execute_result"
    }
   ],
   "source": [
    "model.predict_proba(df_val_f1.drop('TripType', axis=1))"
   ]
  },
  {
   "cell_type": "code",
   "execution_count": 91,
   "metadata": {},
   "outputs": [
    {
     "data": {
      "text/plain": [
       "array([  3,   4,   5,   6,   7,   8,   9,  12,  14,  15,  18,  19,  20,\n",
       "        21,  22,  23,  24,  25,  26,  27,  28,  29,  30,  31,  32,  33,\n",
       "        34,  35,  36,  37,  38,  39,  40,  41,  42,  43,  44, 999])"
      ]
     },
     "execution_count": 91,
     "metadata": {},
     "output_type": "execute_result"
    }
   ],
   "source": [
    "model.classes_"
   ]
  },
  {
   "cell_type": "code",
   "execution_count": 92,
   "metadata": {},
   "outputs": [],
   "source": [
    "train_log_loss = log_loss(df_train_f1['TripType'], model.predict_proba(df_train_f1.drop('TripType', axis=1)), eps=1e-15)\n",
    "val_log_loss = log_loss(df_val_f1['TripType'], model.predict_proba(df_val_f1.drop('TripType', axis=1)), eps=1e-15, labels=model.classes_)"
   ]
  },
  {
   "cell_type": "code",
   "execution_count": 93,
   "metadata": {},
   "outputs": [
    {
     "name": "stdout",
     "output_type": "stream",
     "text": [
      "Train loss = 1.450593517675959\n",
      "Val   loss = 1.4953680590969167\n"
     ]
    }
   ],
   "source": [
    "print(f'Train loss = {train_log_loss}')\n",
    "print(f'Val   loss = {val_log_loss}')"
   ]
  },
  {
   "cell_type": "markdown",
   "metadata": {},
   "source": [
    "At least we are not overfitting. If we were to trust the validation loss and extrapolate to the public leaderboard - https://www.kaggle.com/c/walmart-recruiting-trip-type-classification/leaderboard\n",
    "\n",
    "we would be at position 559 / 1046. But maybe we don't care about the competition. In terms of accuracy, maybe your business is happy with a ~62.% accuracy. Are there other metrics we can look at to understand what this model is doing?"
   ]
  },
  {
   "cell_type": "markdown",
   "metadata": {},
   "source": [
    "The first quantity we will look at is the confusion matrix. An example will make it clear"
   ]
  },
  {
   "cell_type": "code",
   "execution_count": 94,
   "metadata": {},
   "outputs": [],
   "source": [
    "from sklearn.metrics import confusion_matrix"
   ]
  },
  {
   "cell_type": "code",
   "execution_count": 95,
   "metadata": {},
   "outputs": [
    {
     "name": "stdout",
     "output_type": "stream",
     "text": [
      "[[288   0   0 ...   0   0   0]\n",
      " [  0   0   6 ...   0   0   0]\n",
      " [  1   0 335 ...   0   0   6]\n",
      " ...\n",
      " [  2   0   4 ...   0   0   0]\n",
      " [  0   0   3 ...   0   1   0]\n",
      " [ 62   0   3 ...   0   0 663]]\n"
     ]
    }
   ],
   "source": [
    "cmat = confusion_matrix(df_val_f1['TripType'].tolist(), model.predict(df_val_f1.drop('TripType', axis=1)).tolist())\n",
    "print(cmat)"
   ]
  },
  {
   "cell_type": "markdown",
   "metadata": {},
   "source": [
    "The confusion matrix indexes the rows and the columns with each trip type. The entry in the ith row and the jth column is the number of examples with labels trip type i and predictions trip type j. In other words:\n",
    "\n",
    "* The rows are the actual labels\n",
    "\n",
    "* The columns are the predictions\n",
    "\n",
    "If a model gets all the predictions correct, the confusion matrix should be diagonal. Any off-diagonal terms are errors. Note that the confusion matrix by definition is NOT symmetric."
   ]
  },
  {
   "cell_type": "code",
   "execution_count": 96,
   "metadata": {},
   "outputs": [
    {
     "data": {
      "text/plain": [
       "Text(0.5, 1.0, 'Validation Confusion Matrix')"
      ]
     },
     "execution_count": 96,
     "metadata": {},
     "output_type": "execute_result"
    },
    {
     "data": {
      "image/png": "[encoded data removed]",
      "text/plain": [
       "<Figure size 720x720 with 1 Axes>"
      ]
     },
     "metadata": {
      "needs_background": "light"
     },
     "output_type": "display_data"
    }
   ],
   "source": [
    "fig, ax = plt.subplots(figsize=(10,10))\n",
    "ax.imshow(cmat);\n",
    "\n",
    "_ = ax.set_xticks(np.arange(len(model.classes_)))\n",
    "_ = ax.set_yticks(np.arange(len(model.classes_)))\n",
    "              \n",
    "_ = ax.set_xticklabels(model.classes_, rotation=90)\n",
    "_ = ax.set_yticklabels(model.classes_)\n",
    "\n",
    "plt.xlabel('Predictions')\n",
    "plt.ylabel('Labels')\n",
    "plt.title('Validation Confusion Matrix')"
   ]
  },
  {
   "cell_type": "markdown",
   "metadata": {},
   "source": [
    "We should also look at the weights for each feature."
   ]
  },
  {
   "cell_type": "code",
   "execution_count": 97,
   "metadata": {},
   "outputs": [
    {
     "data": {
      "text/plain": [
       "(38, 68)"
      ]
     },
     "execution_count": 97,
     "metadata": {},
     "output_type": "execute_result"
    }
   ],
   "source": [
    "model.coef_.shape"
   ]
  },
  {
   "cell_type": "markdown",
   "metadata": {},
   "source": [
    "**Question**: Shouldn't there be as many weights as there are features (68)? Why do we have 38 rows here?"
   ]
  },
  {
   "cell_type": "markdown",
   "metadata": {},
   "source": [
    "See below for explanation of ovr."
   ]
  },
  {
   "cell_type": "markdown",
   "metadata": {},
   "source": [
    "### Changing the loss used by Logistic Regression"
   ]
  },
  {
   "cell_type": "markdown",
   "metadata": {},
   "source": [
    "At this stage, you should have a reasonable question. Everything we saw about logistic regression referred to the binary classification problem i.e. there were two classes - 0 and 1 and we were trying to classify objects/rows into these two classes. But here we have 38 classes and logistic regression still worked. \n",
    "\n",
    "**Question**: look at the documentation for sklearn.linear_model.LogisticRegression and see if you can discover how the model accounts for multiple classes."
   ]
  },
  {
   "cell_type": "markdown",
   "metadata": {},
   "source": [
    "LogisticRegression takes a parameter called \"multi-class\". By default, it takes the value \"ovr\". (See _check_multi_class in sklearn/linear_model/logistic.py).\n",
    "\n",
    "\"ovr\" (one-vs-rest) turns a problem with N classes into N binary classification problems. More concretely, if the N classes are $1, 2, \\ldots, N$, then N models will be built. The first one will label class 1 as 1 and everything else as 0. The second model will label class 2 as 1 and everything as 0 and so on. Each model will then be called during inference to predict a score. These scores are then normalized (divide by sum of scores).\n",
    "\n",
    "Now you can see why we the shape of the coefficients was (38,68). We have 38 logistic regression models!\n",
    "\n",
    "\"multinomial\" solves a fundamentally different problem. It optimizes for the loss that is exactly our loss above.\n",
    "\n",
    "So let's try repeating the procedure above but with \"multinormial\""
   ]
  },
  {
   "cell_type": "code",
   "execution_count": 98,
   "metadata": {},
   "outputs": [
    {
     "name": "stderr",
     "output_type": "stream",
     "text": [
      "/home/sanjay/.local/lib/python3.7/site-packages/sklearn/linear_model/logistic.py:947: ConvergenceWarning: lbfgs failed to converge. Increase the number of iterations.\n",
      "  \"of iterations.\", ConvergenceWarning)\n"
     ]
    },
    {
     "data": {
      "text/plain": [
       "LogisticRegression(C=1.0, class_weight=None, dual=False, fit_intercept=True,\n",
       "                   intercept_scaling=1, l1_ratio=None, max_iter=10,\n",
       "                   multi_class='multinomial', n_jobs=None, penalty='l2',\n",
       "                   random_state=None, solver='lbfgs', tol=0.0001, verbose=0,\n",
       "                   warm_start=False)"
      ]
     },
     "execution_count": 98,
     "metadata": {},
     "output_type": "execute_result"
    }
   ],
   "source": [
    "#this might be slow due to max_iter\n",
    "model = LogisticRegression(multi_class='multinomial', solver='lbfgs', max_iter=10)\n",
    "model.fit(df_train_f1.drop('TripType', axis=1), df_train_f1['TripType'])"
   ]
  },
  {
   "cell_type": "code",
   "execution_count": 99,
   "metadata": {},
   "outputs": [],
   "source": [
    "train_class_pred = model.predict(df_train_f1.drop('TripType', axis=1))\n",
    "val_class_pred = model.predict(df_val_f1.drop('TripType', axis=1))"
   ]
  },
  {
   "cell_type": "code",
   "execution_count": 100,
   "metadata": {},
   "outputs": [
    {
     "name": "stdout",
     "output_type": "stream",
     "text": [
      "Train Acc = 0.48547126436781607\n",
      "Val   Acc = 0.4766384446534964\n"
     ]
    }
   ],
   "source": [
    "train_acc = np.sum(train_class_pred==df_train_f1['TripType'].tolist()) / df_train_f1.shape[0]\n",
    "val_acc = np.sum(val_class_pred==df_val_f1['TripType'].tolist()) / df_val_f1.shape[0]\n",
    "\n",
    "print(f\"Train Acc = {train_acc}\")\n",
    "print(f\"Val   Acc = {val_acc}\")"
   ]
  },
  {
   "cell_type": "markdown",
   "metadata": {},
   "source": [
    "**Note**: Our accuracy jumped from 61-62% to ~66%. This is a significant improvement just by changing the loss function. In particular, this is a general theme in machine learning. All machine learning problems can be rephrased as numerical optimization problems. What you optimize has a huge impact on performance. There's a translation from business/research-level metrics to a function that is relatively easy to optimize but also captures the salient features of the business/research-level metric."
   ]
  },
  {
   "cell_type": "code",
   "execution_count": 101,
   "metadata": {},
   "outputs": [],
   "source": [
    "train_log_loss = log_loss(df_train_f1['TripType'], model.predict_proba(df_train_f1.drop('TripType', axis=1)), eps=1e-15)\n",
    "val_log_loss = log_loss(df_val_f1['TripType'], model.predict_proba(df_val_f1.drop('TripType', axis=1)), eps=1e-15, labels=model.classes_)"
   ]
  },
  {
   "cell_type": "code",
   "execution_count": 102,
   "metadata": {},
   "outputs": [
    {
     "name": "stdout",
     "output_type": "stream",
     "text": [
      "Train loss = 1.9920851986943557\n",
      "Val   loss = 1.9406812615153595\n"
     ]
    }
   ],
   "source": [
    "print(f'Train loss = {train_log_loss}')\n",
    "print(f'Val   loss = {val_log_loss}')"
   ]
  },
  {
   "cell_type": "markdown",
   "metadata": {},
   "source": [
    "As expected, directly optimizing the multinomial loss results in a significantly lower value (compared to ~1.47 earlier with ovr). A value of 1.175 would place us at 488 / 1046 on the leaderboard."
   ]
  },
  {
   "cell_type": "markdown",
   "metadata": {},
   "source": [
    "### Changing featurization strategies"
   ]
  },
  {
   "cell_type": "markdown",
   "metadata": {},
   "source": [
    "The most obvious feature we can include is day of week. Since the 7 days are given as strings, how should we encode them? One option is to map each day to an integer.\n",
    "\n",
    "Monday -> 0\n",
    "\n",
    "Tuesday -> 1\n",
    "\n",
    "Wednesday -> 2\n",
    "\n",
    "and so on.\n",
    "\n",
    "**Question**: Do you think is a reasonable idea? Why or why not?"
   ]
  },
  {
   "cell_type": "markdown",
   "metadata": {},
   "source": [
    "Recall that we are working with a linear model that makes predictions:\n",
    "\n",
    "$$p = \\sigma(w_0 + w_1 x_1 + w_2 x_2 + \\ldots + w_n x_n)$$\n",
    "\n",
    "Suppose, the last feature $x_n$ is the weekday and we keep all the other features constant. Also, suppose $w_n > 0$.\n",
    "\n",
    "Then,\n",
    "\n",
    "$$p_\\text{Wednesday} > p_\\text{Monday}$$\n",
    "\n",
    "where $p_\\text{Wednesday} = \\sigma(w_0 + w_1 x_1 + w_2 x_2 + \\ldots + w_n * 2)$ and $p_\\text{Monday} = \\sigma(w_0 + w_1 x_1 + w_2 x_2 + \\ldots + w_n * 0)$\n",
    "\n",
    "In other words, by the sheer act of encoding the days in a certain way, we have imposed an order on our predictions. We could have chosen any of 7! (factorial) permutations for the assignment of integers to the days. Each would impose its own order:\n",
    "\n",
    "Monday > Thursday > Sunday > Tuesday > Wednesday > Friday > Saturday\n",
    "\n",
    "Clearly, this is something we would like to learn. Moreover, when you move from one day to the next, the argument of the sigmoid function always increments by a constant that is $w_n$. Lastly, it's also probably not true that this relationship always holds irrespective of the values $x_1, \\ldots, x_{n-1}$ take. For example, maybe the sale of beer on a wednesday makes it more likely that the trip type is 1 as compared to a monday. But maybe the sale of icecream on a wednesday makes it less likely that the trip type is 1 as compared to a monday. In other words, for beer, switching from monday to wednesday should increase the probability of being trip type 1 but for icecream, switching from monday to wednesday should decrease the probability of being trip type 1.\n",
    "\n",
    "So, we need to encode these days in a different way. The most usual way is to assign a new column for every unique value. So there'll be one column for Mondays which is 1 when the day is Monday and 0 otherwise. This is called **one-hot encoding**."
   ]
  },
  {
   "cell_type": "code",
   "execution_count": 103,
   "metadata": {},
   "outputs": [
    {
     "data": {
      "text/plain": [
       "0    Friday\n",
       "1    Friday\n",
       "2    Friday\n",
       "3    Friday\n",
       "4    Friday\n",
       "5    Friday\n",
       "6    Friday\n",
       "7    Friday\n",
       "8    Friday\n",
       "9    Friday\n",
       "Name: Weekday, dtype: object"
      ]
     },
     "execution_count": 103,
     "metadata": {},
     "output_type": "execute_result"
    }
   ],
   "source": [
    "df_train['Weekday'].head(10)"
   ]
  },
  {
   "cell_type": "code",
   "execution_count": 104,
   "metadata": {},
   "outputs": [
    {
     "data": {
      "text/html": [
       "<div>\n",
       "<style scoped>\n",
       "    .dataframe tbody tr th:only-of-type {\n",
       "        vertical-align: middle;\n",
       "    }\n",
       "\n",
       "    .dataframe tbody tr th {\n",
       "        vertical-align: top;\n",
       "    }\n",
       "\n",
       "    .dataframe thead th {\n",
       "        text-align: right;\n",
       "    }\n",
       "</style>\n",
       "<table border=\"1\" class=\"dataframe\">\n",
       "  <thead>\n",
       "    <tr style=\"text-align: right;\">\n",
       "      <th></th>\n",
       "      <th>Friday</th>\n",
       "      <th>Monday</th>\n",
       "      <th>Saturday</th>\n",
       "      <th>Sunday</th>\n",
       "      <th>Thursday</th>\n",
       "      <th>Tuesday</th>\n",
       "      <th>Wednesday</th>\n",
       "    </tr>\n",
       "  </thead>\n",
       "  <tbody>\n",
       "    <tr>\n",
       "      <th>0</th>\n",
       "      <td>1</td>\n",
       "      <td>0</td>\n",
       "      <td>0</td>\n",
       "      <td>0</td>\n",
       "      <td>0</td>\n",
       "      <td>0</td>\n",
       "      <td>0</td>\n",
       "    </tr>\n",
       "    <tr>\n",
       "      <th>1</th>\n",
       "      <td>1</td>\n",
       "      <td>0</td>\n",
       "      <td>0</td>\n",
       "      <td>0</td>\n",
       "      <td>0</td>\n",
       "      <td>0</td>\n",
       "      <td>0</td>\n",
       "    </tr>\n",
       "    <tr>\n",
       "      <th>2</th>\n",
       "      <td>1</td>\n",
       "      <td>0</td>\n",
       "      <td>0</td>\n",
       "      <td>0</td>\n",
       "      <td>0</td>\n",
       "      <td>0</td>\n",
       "      <td>0</td>\n",
       "    </tr>\n",
       "    <tr>\n",
       "      <th>3</th>\n",
       "      <td>1</td>\n",
       "      <td>0</td>\n",
       "      <td>0</td>\n",
       "      <td>0</td>\n",
       "      <td>0</td>\n",
       "      <td>0</td>\n",
       "      <td>0</td>\n",
       "    </tr>\n",
       "    <tr>\n",
       "      <th>4</th>\n",
       "      <td>1</td>\n",
       "      <td>0</td>\n",
       "      <td>0</td>\n",
       "      <td>0</td>\n",
       "      <td>0</td>\n",
       "      <td>0</td>\n",
       "      <td>0</td>\n",
       "    </tr>\n",
       "  </tbody>\n",
       "</table>\n",
       "</div>"
      ],
      "text/plain": [
       "   Friday  Monday  Saturday  Sunday  Thursday  Tuesday  Wednesday\n",
       "0       1       0         0       0         0        0          0\n",
       "1       1       0         0       0         0        0          0\n",
       "2       1       0         0       0         0        0          0\n",
       "3       1       0         0       0         0        0          0\n",
       "4       1       0         0       0         0        0          0"
      ]
     },
     "execution_count": 104,
     "metadata": {},
     "output_type": "execute_result"
    }
   ],
   "source": [
    "pd.get_dummies(df_train['Weekday']).head()"
   ]
  },
  {
   "cell_type": "markdown",
   "metadata": {},
   "source": [
    "**Question**: What are the implications of this encoding?"
   ]
  },
  {
   "cell_type": "markdown",
   "metadata": {},
   "source": [
    "Again, pretend that $x_1, \\ldots, x_{n-1}$ are kept constant. Then the prediction is:\n",
    "\n",
    "$p = \\sigma(C + w_{n,\\text{Monday}} x_\\text{Monday} + w_{n,\\text{Tuesday}} x_\\text{Tuesday} + \\ldots + w_{n,\\text{Sunday}} x_\\text{Sunday})$\n",
    "\n",
    "where there's a new weight for each possible day and each feature $x_\\text{day}$ can only be 0 or 1 and exactly one of these will be 1.\n",
    "\n",
    "In essence, we have a different intercept $w_0$ for each day:\n",
    "\n",
    "$w_0 + w_{n, \\text{Monday}}$ for Monday\n",
    "\n",
    "$w_0 + w_{n, \\text{Tuesday}}$ for Tuesday\n",
    "\n",
    "and so on. Then the model can learn the appropriate weights and decide which ordering (and what differences between two consecutive weights) are most appropriate. We still have the problem that if everything else is kept constant, there's a fixed ordering between days. That's because linear models don't automatically take **interactions** between features into account and have no way of discovering such structure unless we explicitly pass a feature that models the interaction (for example $x_1 * x_{n, \\text{Monday}})$.\n"
   ]
  },
  {
   "cell_type": "markdown",
   "metadata": {},
   "source": [
    "**Question**: Add these one-hot encoded week values to our features."
   ]
  },
  {
   "cell_type": "code",
   "execution_count": 105,
   "metadata": {},
   "outputs": [],
   "source": [
    "df_train_f2 = pd.concat([df_train_f1, \n",
    "                         pd.get_dummies(df_train[['VisitNumber', 'Weekday']].set_index('VisitNumber'),\n",
    "                                        prefix='Weekday')], \n",
    "                         axis=1)"
   ]
  },
  {
   "cell_type": "code",
   "execution_count": 106,
   "metadata": {},
   "outputs": [],
   "source": [
    "##df_val_f2 = pd.concat([df_val_f1, \n",
    "##                       pd.get_dummies(df_val[['VisitNumber', 'Weekday']].set_index('VisitNumber'),\n",
    "##                                      prefix='Weekday')], \n",
    "##                       axis=1)\n",
    "##df_val_f2 = df_val_f2[df_train_f2.columns] #ensure column order is the same"
   ]
  },
  {
   "cell_type": "markdown",
   "metadata": {},
   "source": [
    "**Question**: Debug this issue."
   ]
  },
  {
   "cell_type": "markdown",
   "metadata": {},
   "source": [
    "We have a strong hint. The exception is raised when we try re-ordering the columns in df_val_f2 according to the columns in df_train_v2. It seems like there are no columns called \"Weekday_Saturday\" and \"Weekday_Sunday\" in df_val."
   ]
  },
  {
   "cell_type": "code",
   "execution_count": 107,
   "metadata": {},
   "outputs": [
    {
     "data": {
      "text/plain": [
       "array(['Monday', 'Tuesday', 'Wednesday', 'Thursday', 'Friday'],\n",
       "      dtype=object)"
      ]
     },
     "execution_count": 107,
     "metadata": {},
     "output_type": "execute_result"
    }
   ],
   "source": [
    "df_val['Weekday'].unique()"
   ]
  },
  {
   "cell_type": "markdown",
   "metadata": {},
   "source": [
    "Yes! Saturday and Sunday are completely missing in val! What about test?"
   ]
  },
  {
   "cell_type": "code",
   "execution_count": 108,
   "metadata": {},
   "outputs": [
    {
     "data": {
      "text/plain": [
       "array(['Friday', 'Saturday', 'Sunday'], dtype=object)"
      ]
     },
     "execution_count": 108,
     "metadata": {},
     "output_type": "execute_result"
    }
   ],
   "source": [
    "df_test['Weekday'].unique()"
   ]
  },
  {
   "cell_type": "markdown",
   "metadata": {},
   "source": [
    "What about train?"
   ]
  },
  {
   "cell_type": "code",
   "execution_count": 109,
   "metadata": {},
   "outputs": [
    {
     "data": {
      "text/plain": [
       "array(['Friday', 'Saturday', 'Sunday', 'Monday', 'Tuesday', 'Wednesday',\n",
       "       'Thursday'], dtype=object)"
      ]
     },
     "execution_count": 109,
     "metadata": {},
     "output_type": "execute_result"
    }
   ],
   "source": [
    "df_train['Weekday'].unique()"
   ]
  },
  {
   "cell_type": "markdown",
   "metadata": {},
   "source": [
    "The situation with test is even worse. We only have Friday, Saturday and Sunday. \n",
    "\n",
    "**Question**: Why could this be bad? How could we fix this?"
   ]
  },
  {
   "cell_type": "markdown",
   "metadata": {},
   "source": [
    "Let's pick a more extreme example. Suppose, train contains all the days (which is good since in real-life, we'll have to make predictions for all possible weekdays), but validation and train only contain Saturdays and Sundays (to pick an example). \n",
    "\n",
    "Your model has good performance on val and eventually on test and you put it in production. Except that you never validated your model's performance for Monday through Friday! We never had these values in val and test and so if the model was doing something hokey for those days, we would never detect it!\n",
    "\n",
    "One way of fixing this would be to randomly sample visit numbers instead of ordering them in time the way we did. As we could have expected then, if the visit numbers were ordered not by time but some other criteria, then we can potentially get very biased train, val and test sets.\n",
    "\n",
    "Another **lesson**: check the distribution of variables in train, val and test and ensure they are similar."
   ]
  },
  {
   "cell_type": "markdown",
   "metadata": {},
   "source": [
    "So let's re-define our validation strategy and create new train, val and test sets."
   ]
  },
  {
   "cell_type": "code",
   "execution_count": 110,
   "metadata": {},
   "outputs": [],
   "source": [
    "import gc"
   ]
  },
  {
   "cell_type": "code",
   "execution_count": 111,
   "metadata": {},
   "outputs": [],
   "source": [
    "gc.collect()\n",
    "\n",
    "#df = pd.read_csv(f'{DATA_PATH}/train.csv')\n",
    "df = read_train_df(f'{DATA_PATH}/train.csv', all_visits, None)\n",
    "\n",
    "unique_visit_numbers = df['VisitNumber'].unique()\n",
    "\n",
    "N_visits = len(unique_visit_numbers)\n",
    "\n",
    "TRAIN_PERC = 0.80\n",
    "VAL_PERC = 0.10\n",
    "TEST_PERC = 0.10\n",
    "\n",
    "TRAIN_CUTOFF = int(TRAIN_PERC * N_visits)\n",
    "VAL_CUTOFF = int((TRAIN_PERC + VAL_PERC) * N_visits)\n",
    "\n",
    "np.random.seed(100) #for reproducibility\n",
    "np.random.shuffle(unique_visit_numbers) #shuffle visit numbers\n",
    "\n",
    "#get visit numbers for each set\n",
    "train_visit_numbers_rnd = unique_visit_numbers[:TRAIN_CUTOFF]\n",
    "val_visit_numbers_rnd = unique_visit_numbers[TRAIN_CUTOFF:VAL_CUTOFF]\n",
    "test_visit_numbers_rnd = unique_visit_numbers[VAL_CUTOFF:]\n",
    "\n",
    "#ensure no overlap\n",
    "assert(len(set(train_visit_numbers_rnd).intersection(val_visit_numbers_rnd))==0)\n",
    "assert(len(set(train_visit_numbers_rnd).intersection(test_visit_numbers_rnd))==0)\n",
    "assert(len(set(val_visit_numbers_rnd).intersection(test_visit_numbers_rnd))==0)\n",
    "\n",
    "#split datasets by visit numbers\n",
    "df_train = df[df['VisitNumber'].isin(train_visit_numbers_rnd)]\n",
    "df_val = df[df['VisitNumber'].isin(val_visit_numbers_rnd)]\n",
    "df_test = df[df['VisitNumber'].isin(test_visit_numbers_rnd)]\n",
    "\n",
    "df = None\n",
    "gc.collect()\n",
    "\n",
    "#fill nulls - could do this before splitting\n",
    "df_train['Upc'].fillna(-1, inplace=True)\n",
    "df_train['DepartmentDescription'].fillna(\"-1\", inplace=True)\n",
    "df_train['FinelineNumber'].fillna(-1, inplace=True)\n",
    "\n",
    "df_val['Upc'].fillna(-1, inplace=True)\n",
    "df_val['DepartmentDescription'].fillna(\"-1\", inplace=True)\n",
    "df_val['FinelineNumber'].fillna(-1, inplace=True)\n",
    "\n",
    "df_test['Upc'].fillna(-1, inplace=True)\n",
    "df_test['DepartmentDescription'].fillna(\"-1\", inplace=True)\n",
    "df_test['FinelineNumber'].fillna(-1, inplace=True)\n",
    "\n",
    "#do department replacement\n",
    "df_train.loc[df_train['DepartmentDescription']=='HEALTH AND BEAUTY AIDS', 'DepartmentDescription'] = 'BEAUTY'\n",
    "df_val.loc[df_val['DepartmentDescription']=='HEALTH AND BEAUTY AIDS', 'DepartmentDescription'] = 'BEAUTY'\n",
    "df_test.loc[df_test['DepartmentDescription']=='HEALTH AND BEAUTY AIDS', 'DepartmentDescription'] = 'BEAUTY'\n",
    "\n",
    "#persist datasets - \"rnd\" -> random split\n",
    "#nonnull -> nulls replaced\n",
    "#deprep -> department replaced\n",
    "df_train.reset_index(drop=True).to_feather(f'{DATA_PATH}/df_nonull_deprep_train_rnd.feather')\n",
    "df_val.reset_index(drop=True).to_feather(f'{DATA_PATH}/df_nonull_deprep_val.feather')\n",
    "df_test.reset_index(drop=True).to_feather(f'{DATA_PATH}/df_nonull_deprep_test.feather')"
   ]
  },
  {
   "cell_type": "code",
   "execution_count": 112,
   "metadata": {},
   "outputs": [
    {
     "data": {
      "text/plain": [
       "False"
      ]
     },
     "execution_count": 112,
     "metadata": {},
     "output_type": "execute_result"
    }
   ],
   "source": [
    "'CONCEPT STORE' in df_val['DepartmentDescription'].unique()"
   ]
  },
  {
   "cell_type": "markdown",
   "metadata": {},
   "source": [
    "**Question**: Check the distribution of weekday, department description and trip type in train, val and test. Are these similar?"
   ]
  },
  {
   "cell_type": "code",
   "execution_count": 113,
   "metadata": {},
   "outputs": [
    {
     "data": {
      "text/plain": [
       "Sunday       0.206780\n",
       "Saturday     0.182523\n",
       "Friday       0.147823\n",
       "Wednesday    0.119908\n",
       "Tuesday      0.116295\n",
       "Thursday     0.113412\n",
       "Monday       0.113259\n",
       "Name: Weekday, dtype: float64"
      ]
     },
     "execution_count": 113,
     "metadata": {},
     "output_type": "execute_result"
    }
   ],
   "source": [
    "df_train['Weekday'].value_counts() / df_train['Weekday'].value_counts().sum()"
   ]
  },
  {
   "cell_type": "code",
   "execution_count": 114,
   "metadata": {},
   "outputs": [
    {
     "data": {
      "text/plain": [
       "Sunday       0.203947\n",
       "Saturday     0.196365\n",
       "Friday       0.155901\n",
       "Tuesday      0.130319\n",
       "Wednesday    0.119796\n",
       "Monday       0.096978\n",
       "Thursday     0.096694\n",
       "Name: Weekday, dtype: float64"
      ]
     },
     "execution_count": 114,
     "metadata": {},
     "output_type": "execute_result"
    }
   ],
   "source": [
    "df_val['Weekday'].value_counts() / df_val['Weekday'].value_counts().sum()"
   ]
  },
  {
   "cell_type": "code",
   "execution_count": 115,
   "metadata": {},
   "outputs": [
    {
     "data": {
      "text/plain": [
       "Sunday       0.198790\n",
       "Saturday     0.185591\n",
       "Friday       0.155904\n",
       "Monday       0.126853\n",
       "Wednesday    0.120555\n",
       "Tuesday      0.115035\n",
       "Thursday     0.097272\n",
       "Name: Weekday, dtype: float64"
      ]
     },
     "execution_count": 115,
     "metadata": {},
     "output_type": "execute_result"
    }
   ],
   "source": [
    "df_test['Weekday'].value_counts() / df_test['Weekday'].value_counts().sum()"
   ]
  },
  {
   "cell_type": "markdown",
   "metadata": {},
   "source": [
    "We have all the days in each dataset now. The distributions are also similar."
   ]
  },
  {
   "cell_type": "code",
   "execution_count": 116,
   "metadata": {},
   "outputs": [
    {
     "name": "stdout",
     "output_type": "stream",
     "text": [
      "   index  TripType\n",
      "0     40  0.273746\n",
      "1     39  0.146044\n",
      "2     37  0.058497\n",
      "3     38  0.049482\n",
      "4     25  0.042575\n"
     ]
    }
   ],
   "source": [
    "train_counts = (df_train['TripType'].value_counts() / df_train['TripType'].value_counts().sum()).reset_index()\n",
    "print(train_counts.head())"
   ]
  },
  {
   "cell_type": "code",
   "execution_count": 117,
   "metadata": {},
   "outputs": [
    {
     "name": "stdout",
     "output_type": "stream",
     "text": [
      "   index  TripType\n",
      "0     40  0.270276\n",
      "1     39  0.156043\n",
      "2     37  0.052333\n",
      "3     38  0.049818\n",
      "4     25  0.043333\n"
     ]
    }
   ],
   "source": [
    "val_counts = (df_val['TripType'].value_counts() / df_val['TripType'].value_counts().sum()).reset_index()\n",
    "print(val_counts.head())"
   ]
  },
  {
   "cell_type": "code",
   "execution_count": 118,
   "metadata": {},
   "outputs": [
    {
     "name": "stdout",
     "output_type": "stream",
     "text": [
      "   index  TripType\n",
      "0     40  0.278617\n",
      "1     39  0.144404\n",
      "2     37  0.068504\n",
      "3     38  0.044443\n",
      "4     25  0.042461\n"
     ]
    }
   ],
   "source": [
    "test_counts = (df_test['TripType'].value_counts() / df_test['TripType'].value_counts().sum()).reset_index()\n",
    "print(test_counts.head())"
   ]
  },
  {
   "cell_type": "markdown",
   "metadata": {},
   "source": [
    "You could plots this (remove the trip type 999 point though since the x-axis will get stretched out) to compare the 3 distributions or manually inspect the values. The distributions are roughly the same."
   ]
  },
  {
   "cell_type": "code",
   "execution_count": 119,
   "metadata": {},
   "outputs": [],
   "source": [
    "train_counts = (df_train['DepartmentDescription'].value_counts() / df_train['DepartmentDescription'].value_counts().sum()).reset_index()\n",
    "val_counts = (df_val['DepartmentDescription'].value_counts() / df_val['DepartmentDescription'].value_counts().sum()).reset_index()\n",
    "test_counts = (df_test['DepartmentDescription'].value_counts() / df_test['DepartmentDescription'].value_counts().sum()).reset_index()"
   ]
  },
  {
   "cell_type": "code",
   "execution_count": 120,
   "metadata": {},
   "outputs": [
    {
     "data": {
      "text/plain": [
       "[<matplotlib.lines.Line2D at 0x7f1d98b555d0>]"
      ]
     },
     "execution_count": 120,
     "metadata": {},
     "output_type": "execute_result"
    },
    {
     "data": {
      "image/png": "[encoded data removed]",
      "text/plain": [
       "<Figure size 432x288 with 1 Axes>"
      ]
     },
     "metadata": {
      "needs_background": "light"
     },
     "output_type": "display_data"
    }
   ],
   "source": [
    "plt.plot(train_counts['DepartmentDescription'])\n",
    "plt.plot(val_counts['DepartmentDescription'])\n",
    "plt.plot(test_counts['DepartmentDescription'])"
   ]
  },
  {
   "cell_type": "markdown",
   "metadata": {},
   "source": [
    "Note: the above plot is not quite careful enough. I just plotted the % in each department in decreasing order but the order of departments might be permuted between the 3 datasets. \n",
    "\n",
    "**Question**: To be careful, map each department to an integer (ensure it's the same mapping in all 3 datasets) and plot percentage vs the integer."
   ]
  },
  {
   "cell_type": "markdown",
   "metadata": {},
   "source": [
    "**Question**: Quickly repeat our experiments with the pivot tables (without the weekday column) to see how performance changes with the new strategy?"
   ]
  },
  {
   "cell_type": "code",
   "execution_count": 121,
   "metadata": {},
   "outputs": [],
   "source": [
    "#note we have already replaced nulls and the department\n",
    "df_train_f1 = pd.pivot_table(df_train, \n",
    "                             index='VisitNumber', \n",
    "                             columns='DepartmentDescription', \n",
    "                             values='ScanCount', \n",
    "                             aggfunc='sum').fillna(0)\n",
    "\n",
    "df_val_f1 = pd.pivot_table(df_val, \n",
    "                           index='VisitNumber', \n",
    "                           columns='DepartmentDescription', \n",
    "                           values='ScanCount', \n",
    "                           aggfunc='sum').fillna(0)\n",
    "\n",
    "df_test_f1 = pd.pivot_table(df_test,\n",
    "                            index='VisitNumber',\n",
    "                            columns='DepartmentDescription', \n",
    "                            values='ScanCount', \n",
    "                            aggfunc='sum').fillna(0)"
   ]
  },
  {
   "cell_type": "code",
   "execution_count": 122,
   "metadata": {},
   "outputs": [
    {
     "data": {
      "text/plain": [
       "0.0"
      ]
     },
     "execution_count": 122,
     "metadata": {},
     "output_type": "execute_result"
    }
   ],
   "source": [
    "#check counts\n",
    "(df_train_f1.sum(axis=1) - df_train.groupby('VisitNumber').agg({'ScanCount': np.sum})['ScanCount']).sum()"
   ]
  },
  {
   "cell_type": "code",
   "execution_count": 123,
   "metadata": {},
   "outputs": [],
   "source": [
    "#add trip type\n",
    "df_train_f1 = pd.concat([df_train[['VisitNumber', 'TripType']].drop_duplicates().set_index('VisitNumber'), df_train_f1], axis=1)\n",
    "df_val_f1 = pd.concat([df_val[['VisitNumber', 'TripType']].drop_duplicates().set_index('VisitNumber'), df_val_f1], axis=1)\n",
    "df_test_f1 = pd.concat([df_test[['VisitNumber', 'TripType']].drop_duplicates().set_index('VisitNumber'), df_test_f1], axis=1)"
   ]
  },
  {
   "cell_type": "code",
   "execution_count": 124,
   "metadata": {},
   "outputs": [
    {
     "name": "stdout",
     "output_type": "stream",
     "text": [
      "(32708, 69)\n",
      "(4088, 69)\n",
      "(4089, 67)\n"
     ]
    }
   ],
   "source": [
    "print(df_train_f1.shape)\n",
    "print(df_val_f1.shape)\n",
    "print(df_test_f1.shape)"
   ]
  },
  {
   "cell_type": "code",
   "execution_count": null,
   "metadata": {},
   "outputs": [],
   "source": []
  },
  {
   "cell_type": "code",
   "execution_count": 125,
   "metadata": {},
   "outputs": [
    {
     "name": "stdout",
     "output_type": "stream",
     "text": [
      "Train Acc = 0.5480616362969304\n",
      "Val   Acc = 0.5445205479452054\n",
      "Train loss = 1.897402651988532\n",
      "Val   loss = 1.9817957698821462\n"
     ]
    }
   ],
   "source": [
    "#this might be slow due to max_iter\n",
    "#model = LogisticRegression() #use if too slow\n",
    "model = LogisticRegression(multi_class='multinomial', solver='lbfgs', max_iter=10, n_jobs=10)\n",
    "#model = LogisticRegression(multi_class='multinomial', solver='saga', max_iter=10, n_jobs=10)\n",
    "\n",
    "model.fit(df_train_f1.drop('TripType', axis=1), df_train_f1['TripType'])\n",
    "\n",
    "train_class_pred = model.predict(df_train_f1.drop('TripType', axis=1))\n",
    "val_class_pred = model.predict(df_val_f1.drop('TripType', axis=1))\n",
    "\n",
    "train_acc = np.sum(train_class_pred==df_train_f1['TripType'].tolist()) / df_train_f1.shape[0]\n",
    "val_acc = np.sum(val_class_pred==df_val_f1['TripType'].tolist()) / df_val_f1.shape[0]\n",
    "\n",
    "print(f\"Train Acc = {train_acc}\")\n",
    "print(f\"Val   Acc = {val_acc}\")\n",
    "\n",
    "train_log_loss = log_loss(df_train_f1['TripType'], model.predict_proba(df_train_f1.drop('TripType', axis=1)), eps=1e-15)\n",
    "val_log_loss = log_loss(df_val_f1['TripType'], model.predict_proba(df_val_f1.drop('TripType', axis=1)), eps=1e-15, labels=model.classes_)\n",
    "\n",
    "print(f'Train loss = {train_log_loss}')\n",
    "print(f'Val   loss = {val_log_loss}')"
   ]
  },
  {
   "cell_type": "markdown",
   "metadata": {},
   "source": [
    "**Note**: Overall, our results didn't change much. We went through this exercise to give you a sense of how real data science work proceeds. There are often unexpected changes in direction which require revisiting almost everything that was done. Let's now proceed to add the one-hot encoded weekday to this data."
   ]
  },
  {
   "cell_type": "code",
   "execution_count": 126,
   "metadata": {},
   "outputs": [],
   "source": [
    "df_train_f2 = pd.concat([df_train_f1, \n",
    "                         pd.get_dummies(df_train[['VisitNumber', 'Weekday']].set_index('VisitNumber'),\n",
    "                                        prefix='Weekday')], \n",
    "                         axis=1)"
   ]
  },
  {
   "cell_type": "code",
   "execution_count": 127,
   "metadata": {},
   "outputs": [],
   "source": [
    "df_val_f2 = pd.concat([df_val_f1, \n",
    "                       pd.get_dummies(df_val[['VisitNumber', 'Weekday']].set_index('VisitNumber'),\n",
    "                                      prefix='Weekday')], \n",
    "                       axis=1)\n",
    "df_val_f2 = df_val_f2[df_train_f2.columns] #ensure column order is the same"
   ]
  },
  {
   "cell_type": "code",
   "execution_count": 128,
   "metadata": {},
   "outputs": [
    {
     "ename": "KeyError",
     "evalue": "\"['SEASONAL', 'LARGE HOUSEHOLD GOODS'] not in index\"",
     "output_type": "error",
     "traceback": [
      "\u001b[0;31m---------------------------------------------------------------------------\u001b[0m",
      "\u001b[0;31mKeyError\u001b[0m                                  Traceback (most recent call last)",
      "\u001b[0;32m<ipython-input-128-432e909dd0de>\u001b[0m in \u001b[0;36m<module>\u001b[0;34m\u001b[0m\n\u001b[1;32m      3\u001b[0m                                        prefix='Weekday')], \n\u001b[1;32m      4\u001b[0m                          axis=1)\n\u001b[0;32m----> 5\u001b[0;31m \u001b[0mdf_test_f2\u001b[0m \u001b[0;34m=\u001b[0m \u001b[0mdf_test_f2\u001b[0m\u001b[0;34m[\u001b[0m\u001b[0mdf_train_f2\u001b[0m\u001b[0;34m.\u001b[0m\u001b[0mcolumns\u001b[0m\u001b[0;34m]\u001b[0m\u001b[0;34m\u001b[0m\u001b[0;34m\u001b[0m\u001b[0m\n\u001b[0m",
      "\u001b[0;32m~/anaconda3/envs/fastai2/lib/python3.7/site-packages/pandas/core/frame.py\u001b[0m in \u001b[0;36m__getitem__\u001b[0;34m(self, key)\u001b[0m\n\u001b[1;32m   2999\u001b[0m             \u001b[0;32mif\u001b[0m \u001b[0mis_iterator\u001b[0m\u001b[0;34m(\u001b[0m\u001b[0mkey\u001b[0m\u001b[0;34m)\u001b[0m\u001b[0;34m:\u001b[0m\u001b[0;34m\u001b[0m\u001b[0;34m\u001b[0m\u001b[0m\n\u001b[1;32m   3000\u001b[0m                 \u001b[0mkey\u001b[0m \u001b[0;34m=\u001b[0m \u001b[0mlist\u001b[0m\u001b[0;34m(\u001b[0m\u001b[0mkey\u001b[0m\u001b[0;34m)\u001b[0m\u001b[0;34m\u001b[0m\u001b[0;34m\u001b[0m\u001b[0m\n\u001b[0;32m-> 3001\u001b[0;31m             \u001b[0mindexer\u001b[0m \u001b[0;34m=\u001b[0m \u001b[0mself\u001b[0m\u001b[0;34m.\u001b[0m\u001b[0mloc\u001b[0m\u001b[0;34m.\u001b[0m\u001b[0m_convert_to_indexer\u001b[0m\u001b[0;34m(\u001b[0m\u001b[0mkey\u001b[0m\u001b[0;34m,\u001b[0m \u001b[0maxis\u001b[0m\u001b[0;34m=\u001b[0m\u001b[0;36m1\u001b[0m\u001b[0;34m,\u001b[0m \u001b[0mraise_missing\u001b[0m\u001b[0;34m=\u001b[0m\u001b[0;32mTrue\u001b[0m\u001b[0;34m)\u001b[0m\u001b[0;34m\u001b[0m\u001b[0;34m\u001b[0m\u001b[0m\n\u001b[0m\u001b[1;32m   3002\u001b[0m \u001b[0;34m\u001b[0m\u001b[0m\n\u001b[1;32m   3003\u001b[0m         \u001b[0;31m# take() does not accept boolean indexers\u001b[0m\u001b[0;34m\u001b[0m\u001b[0;34m\u001b[0m\u001b[0;34m\u001b[0m\u001b[0m\n",
      "\u001b[0;32m~/anaconda3/envs/fastai2/lib/python3.7/site-packages/pandas/core/indexing.py\u001b[0m in \u001b[0;36m_convert_to_indexer\u001b[0;34m(self, obj, axis, is_setter, raise_missing)\u001b[0m\n\u001b[1;32m   1283\u001b[0m                 \u001b[0;31m# When setting, missing keys are not allowed, even with .loc:\u001b[0m\u001b[0;34m\u001b[0m\u001b[0;34m\u001b[0m\u001b[0;34m\u001b[0m\u001b[0m\n\u001b[1;32m   1284\u001b[0m                 \u001b[0mkwargs\u001b[0m \u001b[0;34m=\u001b[0m \u001b[0;34m{\u001b[0m\u001b[0;34m\"raise_missing\"\u001b[0m\u001b[0;34m:\u001b[0m \u001b[0;32mTrue\u001b[0m \u001b[0;32mif\u001b[0m \u001b[0mis_setter\u001b[0m \u001b[0;32melse\u001b[0m \u001b[0mraise_missing\u001b[0m\u001b[0;34m}\u001b[0m\u001b[0;34m\u001b[0m\u001b[0;34m\u001b[0m\u001b[0m\n\u001b[0;32m-> 1285\u001b[0;31m                 \u001b[0;32mreturn\u001b[0m \u001b[0mself\u001b[0m\u001b[0;34m.\u001b[0m\u001b[0m_get_listlike_indexer\u001b[0m\u001b[0;34m(\u001b[0m\u001b[0mobj\u001b[0m\u001b[0;34m,\u001b[0m \u001b[0maxis\u001b[0m\u001b[0;34m,\u001b[0m \u001b[0;34m**\u001b[0m\u001b[0mkwargs\u001b[0m\u001b[0;34m)\u001b[0m\u001b[0;34m[\u001b[0m\u001b[0;36m1\u001b[0m\u001b[0;34m]\u001b[0m\u001b[0;34m\u001b[0m\u001b[0;34m\u001b[0m\u001b[0m\n\u001b[0m\u001b[1;32m   1286\u001b[0m         \u001b[0;32melse\u001b[0m\u001b[0;34m:\u001b[0m\u001b[0;34m\u001b[0m\u001b[0;34m\u001b[0m\u001b[0m\n\u001b[1;32m   1287\u001b[0m             \u001b[0;32mtry\u001b[0m\u001b[0;34m:\u001b[0m\u001b[0;34m\u001b[0m\u001b[0;34m\u001b[0m\u001b[0m\n",
      "\u001b[0;32m~/anaconda3/envs/fastai2/lib/python3.7/site-packages/pandas/core/indexing.py\u001b[0m in \u001b[0;36m_get_listlike_indexer\u001b[0;34m(self, key, axis, raise_missing)\u001b[0m\n\u001b[1;32m   1090\u001b[0m \u001b[0;34m\u001b[0m\u001b[0m\n\u001b[1;32m   1091\u001b[0m         self._validate_read_indexer(\n\u001b[0;32m-> 1092\u001b[0;31m             \u001b[0mkeyarr\u001b[0m\u001b[0;34m,\u001b[0m \u001b[0mindexer\u001b[0m\u001b[0;34m,\u001b[0m \u001b[0mo\u001b[0m\u001b[0;34m.\u001b[0m\u001b[0m_get_axis_number\u001b[0m\u001b[0;34m(\u001b[0m\u001b[0maxis\u001b[0m\u001b[0;34m)\u001b[0m\u001b[0;34m,\u001b[0m \u001b[0mraise_missing\u001b[0m\u001b[0;34m=\u001b[0m\u001b[0mraise_missing\u001b[0m\u001b[0;34m\u001b[0m\u001b[0;34m\u001b[0m\u001b[0m\n\u001b[0m\u001b[1;32m   1093\u001b[0m         )\n\u001b[1;32m   1094\u001b[0m         \u001b[0;32mreturn\u001b[0m \u001b[0mkeyarr\u001b[0m\u001b[0;34m,\u001b[0m \u001b[0mindexer\u001b[0m\u001b[0;34m\u001b[0m\u001b[0;34m\u001b[0m\u001b[0m\n",
      "\u001b[0;32m~/anaconda3/envs/fastai2/lib/python3.7/site-packages/pandas/core/indexing.py\u001b[0m in \u001b[0;36m_validate_read_indexer\u001b[0;34m(self, key, indexer, axis, raise_missing)\u001b[0m\n\u001b[1;32m   1183\u001b[0m             \u001b[0;32mif\u001b[0m \u001b[0;32mnot\u001b[0m \u001b[0;34m(\u001b[0m\u001b[0mself\u001b[0m\u001b[0;34m.\u001b[0m\u001b[0mname\u001b[0m \u001b[0;34m==\u001b[0m \u001b[0;34m\"loc\"\u001b[0m \u001b[0;32mand\u001b[0m \u001b[0;32mnot\u001b[0m \u001b[0mraise_missing\u001b[0m\u001b[0;34m)\u001b[0m\u001b[0;34m:\u001b[0m\u001b[0;34m\u001b[0m\u001b[0;34m\u001b[0m\u001b[0m\n\u001b[1;32m   1184\u001b[0m                 \u001b[0mnot_found\u001b[0m \u001b[0;34m=\u001b[0m \u001b[0mlist\u001b[0m\u001b[0;34m(\u001b[0m\u001b[0mset\u001b[0m\u001b[0;34m(\u001b[0m\u001b[0mkey\u001b[0m\u001b[0;34m)\u001b[0m \u001b[0;34m-\u001b[0m \u001b[0mset\u001b[0m\u001b[0;34m(\u001b[0m\u001b[0max\u001b[0m\u001b[0;34m)\u001b[0m\u001b[0;34m)\u001b[0m\u001b[0;34m\u001b[0m\u001b[0;34m\u001b[0m\u001b[0m\n\u001b[0;32m-> 1185\u001b[0;31m                 \u001b[0;32mraise\u001b[0m \u001b[0mKeyError\u001b[0m\u001b[0;34m(\u001b[0m\u001b[0;34m\"{} not in index\"\u001b[0m\u001b[0;34m.\u001b[0m\u001b[0mformat\u001b[0m\u001b[0;34m(\u001b[0m\u001b[0mnot_found\u001b[0m\u001b[0;34m)\u001b[0m\u001b[0;34m)\u001b[0m\u001b[0;34m\u001b[0m\u001b[0;34m\u001b[0m\u001b[0m\n\u001b[0m\u001b[1;32m   1186\u001b[0m \u001b[0;34m\u001b[0m\u001b[0m\n\u001b[1;32m   1187\u001b[0m             \u001b[0;31m# we skip the warning on Categorical/Interval\u001b[0m\u001b[0;34m\u001b[0m\u001b[0;34m\u001b[0m\u001b[0;34m\u001b[0m\u001b[0m\n",
      "\u001b[0;31mKeyError\u001b[0m: \"['SEASONAL', 'LARGE HOUSEHOLD GOODS'] not in index\""
     ]
    }
   ],
   "source": [
    "df_test_f2 = pd.concat([df_test_f1, \n",
    "                        pd.get_dummies(df_test[['VisitNumber', 'Weekday']].set_index('VisitNumber'),\n",
    "                                       prefix='Weekday')], \n",
    "                         axis=1)\n",
    "df_test_f2 = df_test_f2[df_train_f2.columns]"
   ]
  },
  {
   "cell_type": "code",
   "execution_count": null,
   "metadata": {},
   "outputs": [],
   "source": [
    "df_train_f2.head()"
   ]
  },
  {
   "cell_type": "markdown",
   "metadata": {},
   "source": [
    "**Question**: Train a logistic regression model on this data. How does it do?\n",
    "\n",
    "**Development Note**\n",
    "\n",
    "Whenever you find yourself repeating the same code in multiple cells, it's a very good hint that you should write a generic function for it. In our case, it would be a function that takes in the train and val dataframes, a model instance, trains it and prints out the relevant metrics. The return value would be your trained model.\n",
    "\n",
    "We'll resist this urge here but you shouldn't.\n",
    "\n",
    "While this style of prototyping in a notebook can be very useful, it can also get chaotic and hard to maintain after some time. In our opinion, the frictionless way is to work with data science projects is to prototype small pieces in a notebook and move them to stand-alone python modules with generic functions like the one for training mentioned above."
   ]
  },
  {
   "cell_type": "code",
   "execution_count": null,
   "metadata": {},
   "outputs": [],
   "source": [
    "#this might be slow due to max_iter\n",
    "model = LogisticRegression(multi_class='multinomial', solver='lbfgs', max_iter=1, n_jobs=10)\n",
    "model.fit(df_train_f2.drop('TripType', axis=1), df_train_f2['TripType'])\n",
    "\n",
    "train_class_pred = model.predict(df_train_f2.drop('TripType', axis=1))\n",
    "val_class_pred = model.predict(df_val_f2.drop('TripType', axis=1))\n",
    "\n",
    "train_acc = np.sum(train_class_pred==df_train_f2['TripType'].tolist()) / df_train_f2.shape[0]\n",
    "val_acc = np.sum(val_class_pred==df_val_f2['TripType'].tolist()) / df_val_f2.shape[0]\n",
    "\n",
    "print(f\"Train Acc = {train_acc}\")\n",
    "print(f\"Val   Acc = {val_acc}\")\n",
    "\n",
    "train_log_loss = log_loss(df_train_f2['TripType'], model.predict_proba(df_train_f2.drop('TripType', axis=1)), eps=1e-15)\n",
    "val_log_loss = log_loss(df_val_f2['TripType'], model.predict_proba(df_val_f2.drop('TripType', axis=1)), eps=1e-15, labels=model.classes_)\n",
    "\n",
    "print(f'Train loss = {train_log_loss}')\n",
    "print(f'Val   loss = {val_log_loss}')"
   ]
  },
  {
   "cell_type": "markdown",
   "metadata": {},
   "source": [
    "At this stage, it looks like we are starting to overfit. One way to control this is by increasing the $l_2$ penalty, $1/C$."
   ]
  },
  {
   "cell_type": "code",
   "execution_count": null,
   "metadata": {},
   "outputs": [],
   "source": [
    "model = LogisticRegression(multi_class='multinomial', solver='lbfgs', C=0.1, max_iter=1, n_jobs=10)\n",
    "model.fit(df_train_f2.drop('TripType', axis=1), df_train_f2['TripType'])"
   ]
  },
  {
   "cell_type": "code",
   "execution_count": null,
   "metadata": {},
   "outputs": [],
   "source": [
    "train_class_pred = model.predict(df_train_f2.drop('TripType', axis=1))\n",
    "val_class_pred = model.predict(df_val_f2.drop('TripType', axis=1))\n",
    "\n",
    "train_acc = np.sum(train_class_pred==df_train_f2['TripType'].tolist()) / df_train_f2.shape[0]\n",
    "val_acc = np.sum(val_class_pred==df_val_f2['TripType'].tolist()) / df_val_f2.shape[0]\n",
    "\n",
    "print(f\"Train Acc = {train_acc}\")\n",
    "print(f\"Val   Acc = {val_acc}\")\n",
    "\n",
    "train_log_loss = log_loss(df_train_f2['TripType'], model.predict_proba(df_train_f2.drop('TripType', axis=1)), eps=1e-15)\n",
    "val_log_loss = log_loss(df_val_f2['TripType'], model.predict_proba(df_val_f2.drop('TripType', axis=1)), eps=1e-15, labels=model.classes_)\n",
    "\n",
    "print(f'Train loss = {train_log_loss}')\n",
    "print(f'Val   loss = {val_log_loss}')"
   ]
  },
  {
   "cell_type": "markdown",
   "metadata": {},
   "source": [
    "**Normalization**:\n",
    "\n",
    "Now for the first time, we have a problem that we didn't quite face before. Most of our columns are counts but we have seven columns (weekday one-hot encodings) that are always 0 or 1.\n",
    "\n",
    "It helps to have all the numbers on the same scale for linear models. \n",
    "\n",
    "1) It makes the optimization process much easier\n",
    "\n",
    "2) It makes it possible to compare the effects of various columns. If the columns are on similar scales, we can just compare the coefficients $w_i$ and rank them by the absolute values $|w_i|$.\n",
    "\n",
    "The usual way of making the scales the same is to do the following transformation:\n",
    "\n",
    "$$x \\rightarrow \\frac{x - \\text{mean}(x)}{\\text{std}(x)}$$\n",
    "\n",
    "where:\n",
    "\n",
    "$x$ = array of numbers (one column in our case)\n",
    "\n",
    "$\\text{mean}(x)$ = mean of the numbers\n",
    "\n",
    "$\\text{std}(x)$ = standard deviation of the numbers\n",
    "\n",
    "Strictly speaking, the scale is decided just by the standard deviation but it is helpful to subtract the mean so that the values are centered around 0. But before we go ahead, we need to discuss another topic."
   ]
  },
  {
   "cell_type": "markdown",
   "metadata": {},
   "source": [
    "**Leakage**:\n",
    "\n",
    "Leakage is a general term for information from the validation set and the test set passing into the training process. We discussed earlier that we should set aside the validation and test set and train just on our training set. But there are still subtle ways in which information can pass from the hold-out (val, test) sets into the train set.\n",
    "\n",
    "**Why is this bad?** Some information, say from the val set, leaking into your train set might improve your model's performance on the val set. So the process that we rely on to estimate how our model will do in real-life is broken - we are getting better results than we would if we actually used our model on new data.\n",
    "\n",
    "**What is an example of leakage?** In our example, we need to compute the mean and standard deviation of each column and carry out the procedure. The mean and standard deviation should be computed **just on the train set**. In other words, we should split the data and then calculate the mean and standard deviation. If, by mistake, one computes the mean and standard deviation before splitting, then one has leakage.\n",
    "\n",
    "**Is this really bad?** Not always. Machine learning algorithms make a fundamental assumption that the (statistical) properties of the train set, the val set, and any future data the model sees, are the same. If they are not, your model's performance will most likely severely degrade. If you build a model to classify apples as sellable and not sellable and suddenly you start showing pictures of strawberries, then your model will not be nearly as performant as it was before. On the other hand, if your hold-out set, your train set and your new data will essentially have the same distributions, then this leakage will have no effect.\n",
    "\n",
    "**Does this mean the val and test set are essentially non-inputs to my model?** Not quite and this is where one has to be careful. Suppose, you are predicting sentiments on pieces of text. You want to create one column for each unique word and a piece of text is featurized by the counts of each word in that piece of text. This is called bag-of-words. This will usually be a very sparse matrix (just like our case above). Now, it is possible that you'll encounter words in the val or test set that you didn't seen in the train set. You could create a special column for unknown words during training or you could look at all the words including those in val and test and create columns for them. Of course, during training, you never see some of those words and those columns will always be 0 so not really helpful during your training process but this is not technically leakage.\n",
    "\n",
    "A couple of more realistic examples:\n",
    "\n",
    "1. Suppose your data consists of time-series (numbers indexed by time - stock prices etc.). You decide to featurize them by choosing some histogram bins and counting the number of entries in your time-series in each bin. Looking at all the data to choose the bins is also not leakage. You can think of this as a continuous (as opposed to discrete) version of the word problem above. Of course, if there are bins that are only occupied by the val or test set, then that column will be completely constant (= 0) during the train set and not very helpful but usually that won't happen.\n",
    "\n",
    "2. While working with language - say sentiment analysis again, you can completely ignore the labels (positive or negative sentiment) and use all the text to build a language model. A language model is a machine learning model that predicts the next word (or character) given the previous history (these are mostly neural network models today). As long as you don't use the labels somehow, this is a completely reasonable thing to do. The language model then is used to map a piece of text to features which are used to predict the sentiment (at this stage, the labels come back in and we follow the usual practice of splitting into train, val and test).\n",
    "\n",
    "**Takeaway**: Whenever confronted with an ideological truth, it is useful to probe it to understand when exactly it is true and when it is not. Leakage is a severe problem and one should be very careful about it but being ideological about it can lead one to ignore valuable statistical power that you could gain from other sources (like the language model example above).\n",
    "\n",
    "**Next step**: We'll use sklearn's in-built scaling module to the standard scaling and then build our model."
   ]
  },
  {
   "cell_type": "code",
   "execution_count": null,
   "metadata": {},
   "outputs": [],
   "source": [
    "from sklearn.preprocessing import StandardScaler\n",
    "\n",
    "scaler = StandardScaler(with_mean=True, with_std=True)\n",
    "\n",
    "#separate features and target\n",
    "df_train_f2_features = df_train_f2.drop('TripType', axis=1)\n",
    "df_val_f2_features = df_val_f2.drop('TripType', axis=1)\n",
    "df_test_f2_features = df_test_f2.drop('TripType', axis=1)\n",
    "\n",
    "df_train_f2_target = df_train_f2['TripType']\n",
    "df_val_f2_target = df_val_f2['TripType']\n",
    "df_test_f2_target = df_test_f2['TripType']\n",
    "\n",
    "df_train_f2_scaled = scaler.fit_transform(df_train_f2_features)\n",
    "df_val_f2_scaled = scaler.transform(df_val_f2_features)\n",
    "df_test_f2_scaled = scaler.transform(df_test_f2_features)\n",
    "\n",
    "#these are not pandas dataframes so re-convent to pd.DataFrame\n",
    "df_train_f2_scaled = pd.DataFrame(df_train_f2_scaled, columns=df_train_f2_features.columns, index=df_train_f2_features.index)\n",
    "df_val_f2_scaled = pd.DataFrame(df_val_f2_scaled, columns=df_val_f2_features.columns, index=df_val_f2_features.index)\n",
    "df_test_f2_scaled = pd.DataFrame(df_test_f2_scaled, columns=df_test_f2_features.columns, index=df_test_f2_features.index)\n",
    "\n",
    "df_train_f2_scaled['TripType'] = df_train_f2_target\n",
    "df_val_f2_scaled['TripType'] = df_val_f2_target\n",
    "df_test_f2_scaled['TripType'] = df_test_f2_target"
   ]
  },
  {
   "cell_type": "code",
   "execution_count": null,
   "metadata": {},
   "outputs": [],
   "source": [
    "df_train_f2_scaled.head()"
   ]
  },
  {
   "cell_type": "markdown",
   "metadata": {},
   "source": [
    "**Question**: Train a model on our scaled dataframe."
   ]
  },
  {
   "cell_type": "code",
   "execution_count": null,
   "metadata": {},
   "outputs": [],
   "source": [
    "def train_model(model, df_train, df_val):\n",
    "    model.fit(df_train.drop('TripType', axis=1), df_train['TripType'])\n",
    "    \n",
    "    train_class_pred = model.predict(df_train.drop('TripType', axis=1))\n",
    "    val_class_pred = model.predict(df_val.drop('TripType', axis=1))\n",
    "\n",
    "    train_acc = np.sum(train_class_pred==df_train['TripType'].tolist()) / df_train.shape[0]\n",
    "    val_acc = np.sum(val_class_pred==df_val['TripType'].tolist()) / df_val.shape[0]\n",
    "\n",
    "    print(f\"Train Acc = {train_acc}\")\n",
    "    print(f\"Val   Acc = {val_acc}\")\n",
    "\n",
    "    train_log_loss = log_loss(df_train['TripType'], model.predict_proba(df_train.drop('TripType', axis=1)), eps=1e-15)\n",
    "    val_log_loss = log_loss(df_val['TripType'], model.predict_proba(df_val.drop('TripType', axis=1)), eps=1e-15, labels=model.classes_)\n",
    "\n",
    "    print(f'Train loss = {train_log_loss}')\n",
    "    print(f'Val   loss = {val_log_loss}')    \n",
    "    \n",
    "    return model"
   ]
  },
  {
   "cell_type": "code",
   "execution_count": null,
   "metadata": {},
   "outputs": [],
   "source": [
    "model = LogisticRegression(multi_class='multinomial', solver='lbfgs', max_iter=1, n_jobs=10)\n",
    "\n",
    "model = train_model(model, df_train_f2_scaled, df_val_f2_scaled)"
   ]
  },
  {
   "cell_type": "markdown",
   "metadata": {},
   "source": [
    "At this stage, there are many directions we can go in. One is to inspect the statistical properties of the data in more detail. For example, we can look at the pairwise correlations between our features. Ideally, we want these to be as uncorrelated as possible. Correlated features giving misleading coefficients that are much harder to interpret. As an example, suppose we had two features: height in meters and height in centimeters. Our prediction would be:\n",
    "\n",
    "$$\\sigma(C + w_1 h_m + w_2 h_{cm})$$\n",
    "\n",
    "Now, of course we know that $h_m = 100 * h_{cm}$! We have the same information but the linear model has no idea and finds some values for $w_1, w_2$. But we have an infinite family of possibilities:\n",
    "\n",
    "$$w_{*} h_m = (w_1 + 0.01 * w_2) h_{m}$$\n",
    "\n",
    "where $w_{*}$ is the actual weight in the process that generated the data. We could choose any $w_1,w_2$ that lie on the straight line:\n",
    "\n",
    "$$w_1 + 0.01 * w_2 = w_{*}$$\n",
    "\n",
    "and out predictions wouldn't change. But our interpretation would definitely change. We might thing either $w_1$ is far more important or $w_2$ is far more important.\n"
   ]
  },
  {
   "cell_type": "markdown",
   "metadata": {},
   "source": [
    "**Question**: Compute the correlation matrix of the features."
   ]
  },
  {
   "cell_type": "code",
   "execution_count": null,
   "metadata": {
    "scrolled": false
   },
   "outputs": [],
   "source": [
    "corr_matrix = df_train_f2_scaled.corr()"
   ]
  },
  {
   "cell_type": "code",
   "execution_count": null,
   "metadata": {},
   "outputs": [],
   "source": [
    "fig, ax = plt.subplots(figsize=(10,10))\n",
    "ax.imshow(corr_matrix);\n",
    "\n",
    "_ = ax.set_xticks(np.arange(corr_matrix.shape[0]))\n",
    "_ = ax.set_yticks(np.arange(corr_matrix.shape[1]))\n",
    "              \n",
    "_ = ax.set_xticklabels(corr_matrix.columns, rotation=90, fontsize=7)\n",
    "_ = ax.set_yticklabels(corr_matrix.index, fontsize=7)\n",
    "\n",
    "plt.xlabel('Predictions')\n",
    "plt.ylabel('Labels')\n",
    "plt.title('Validation Confusion Matrix')"
   ]
  },
  {
   "cell_type": "code",
   "execution_count": null,
   "metadata": {},
   "outputs": [],
   "source": [
    "import operator\n",
    "\n",
    "sorted(list(corr_matrix.loc['BATH AND SHOWER'].abs().items()), key=operator.itemgetter(1), reverse=True)"
   ]
  },
  {
   "cell_type": "markdown",
   "metadata": {},
   "source": [
    "We didn't discuss this in class but one technique for \"disentangling\" correlated features is called principal component analysis (PCA). Essentially, we find linear combinations of features such that they are uncorrelated. Mathematically, we compute the covariance matrix of the features and diagonalize it (find eigenvectors and eigenvalues). The eigenvectors tell us the weights of the linear combinations and the eigenvalues tell us the variance of each combination.\n",
    "\n",
    "Don't worry about the details here except that before you do PCA, you should zero-mean the data (which we did for the scaled dataframes)."
   ]
  },
  {
   "cell_type": "code",
   "execution_count": null,
   "metadata": {},
   "outputs": [],
   "source": [
    "from sklearn.decomposition import PCA"
   ]
  },
  {
   "cell_type": "code",
   "execution_count": null,
   "metadata": {},
   "outputs": [],
   "source": [
    "pca = PCA()\n",
    "pca.fit(df_train_f2_scaled.drop('TripType', axis=1))"
   ]
  },
  {
   "cell_type": "code",
   "execution_count": null,
   "metadata": {},
   "outputs": [],
   "source": [
    "plt.plot(np.cumsum(pca.explained_variance_ratio_))"
   ]
  },
  {
   "cell_type": "code",
   "execution_count": null,
   "metadata": {},
   "outputs": [],
   "source": [
    "#the first component explains 0.05 = 5% of the variance\n",
    "pca.explained_variance_ratio_[0]"
   ]
  },
  {
   "cell_type": "code",
   "execution_count": null,
   "metadata": {},
   "outputs": [],
   "source": [
    "list(zip(df_train_f2_scaled.drop('TripType', axis=1).columns, pca.components_[0]))"
   ]
  },
  {
   "cell_type": "markdown",
   "metadata": {},
   "source": [
    "Let's try transforming the data to PCA components and training a new model."
   ]
  },
  {
   "cell_type": "code",
   "execution_count": null,
   "metadata": {},
   "outputs": [],
   "source": [
    "df_train_f2_pca = pd.DataFrame(pca.transform(df_train_f2_scaled.drop('TripType', axis=1)), \n",
    "                               columns = df_train_f2_features.columns,\n",
    "                               index = df_train_f2_features.index)\n",
    "df_train_f2_pca['TripType'] = df_train_f2_scaled['TripType']\n",
    "\n",
    "df_val_f2_pca = pd.DataFrame(pca.transform(df_val_f2_scaled.drop('TripType', axis=1)), \n",
    "                             columns = df_val_f2_features.columns,\n",
    "                             index = df_val_f2_features.index)\n",
    "df_val_f2_pca['TripType'] = df_val_f2_scaled['TripType']\n",
    "\n",
    "df_test_f2_pca = pd.DataFrame(pca.transform(df_test_f2_scaled.drop('TripType', axis=1)), \n",
    "                              columns = df_test_f2_features.columns,\n",
    "                              index = df_test_f2_features.index)\n",
    "df_test_f2_pca['TripType'] = df_test_f2_scaled['TripType']"
   ]
  },
  {
   "cell_type": "code",
   "execution_count": null,
   "metadata": {},
   "outputs": [],
   "source": [
    "model = LogisticRegression(multi_class='multinomial', solver='lbfgs', max_iter=1, n_jobs=10)\n",
    "\n",
    "model = train_model(model, df_train_f2_pca, df_val_f2_pca)"
   ]
  }
 ],
 "metadata": {
  "kernelspec": {
   "display_name": "Python 3",
   "language": "python",
   "name": "python3"
  },
  "language_info": {
   "codemirror_mode": {
    "name": "ipython",
    "version": 3
   },
   "file_extension": ".py",
   "mimetype": "text/x-python",
   "name": "python",
   "nbconvert_exporter": "python",
   "pygments_lexer": "ipython3",
   "version": "3.7.4"
  }
 },
 "nbformat": 4,
 "nbformat_minor": 2
}
