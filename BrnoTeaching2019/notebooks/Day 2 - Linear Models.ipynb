{
 "cells": [
  {
   "cell_type": "code",
   "execution_count": 1,
   "metadata": {},
   "outputs": [],
   "source": [
    "%load_ext autoreload\n",
    "%autoreload 2\n",
    "%matplotlib inline"
   ]
  },
  {
   "cell_type": "code",
   "execution_count": 2,
   "metadata": {},
   "outputs": [],
   "source": [
    "import numpy as np\n",
    "import pandas as pd\n",
    "import matplotlib.pylab as plt"
   ]
  },
  {
   "cell_type": "markdown",
   "metadata": {},
   "source": [
    "# Goals of this notebook\n",
    "\n",
    "* Build our first classification model and evaluate it on the hold-out sets.\n",
    "\n",
    "* Try various features and understand what the model is doing."
   ]
  },
  {
   "cell_type": "markdown",
   "metadata": {},
   "source": [
    "### Read in data from previous day"
   ]
  },
  {
   "cell_type": "code",
   "execution_count": 3,
   "metadata": {},
   "outputs": [],
   "source": [
    "DATA_PATH = \"../data/walmart\"\n",
    "TRAIN_PATH = f\"{DATA_PATH}/train.csv\"\n",
    "TEST_PATH = f\"{DATA_PATH}/test.csv\""
   ]
  },
  {
   "cell_type": "code",
   "execution_count": 4,
   "metadata": {},
   "outputs": [],
   "source": [
    "df_train = pd.read_feather(f'{DATA_PATH}/df_raw_train.feather')\n",
    "df_val = pd.read_feather(f'{DATA_PATH}/df_raw_val.feather')\n",
    "df_test = pd.read_feather(f'{DATA_PATH}/df_raw_test.feather')"
   ]
  },
  {
   "cell_type": "markdown",
   "metadata": {},
   "source": [
    "### Modeling"
   ]
  },
  {
   "cell_type": "markdown",
   "metadata": {},
   "source": [
    "The main technique we'll use today is **Logistic Regression**. Logistic regression is *not* a regression model - it is a classification model.\n",
    "\n",
    "A quick summary:\n",
    "\n",
    "Given n features - $x_1, x_2, \\ldots, x_n$, and a binary target variable - $y \\in {0,1}$, logistic regression predicts the probability this example belongs to class 1 as:\n",
    "\n",
    "$$p = \\sigma(w_0 + w_1 x_1 + w_2 x_2 + \\ldots + w_n x_n)$$\n",
    "\n",
    "where $\\sigma$ is the sigmoid function: $\\sigma(x) = \\frac{1}{1 + e^{-x}}$\n",
    "\n",
    "As we discussed in the lecture, you can think of $\\sigma$ as a softer switch function which \"smoothifies\" the discrete switch:\n",
    "\n",
    "$s(x) = \n",
    "\\begin{cases}\n",
    "0, \\text{ if x < 0} \\\\\n",
    "1, \\text{ if x} \\geq 0\n",
    "\\end{cases}\n",
    "$\n",
    "\n",
    "This is a linear model since it uses the linear combination:\n",
    "\n",
    "$$w_0 + w_1 x_1 + w_2 x_2 + \\ldots + w_n x_n$$\n",
    "\n",
    "In particular, this means that we don't take into account features like $x_i x_j$ or higher-order terms. If we do want to take those into account, we would have to explicitly create a features (column) $x_i x_j$.\n",
    "\n",
    "There are other linear classification models. Some examples are:\n",
    "\n",
    "[TBC]"
   ]
  },
  {
   "cell_type": "markdown",
   "metadata": {},
   "source": [
    "# Featurization Strategy 1:\n",
    "\n",
    "We want to predict the trip type of each VisitNumber. Our hypothesis is that one of the simplest predictors is the type of items bought on each trip. But we have several rows for each trip. How can we create a dataset with one row per visit and a description of all the items bought.\n",
    "\n",
    "The first questions is whether we should use Upc, FinelineNumber or DepartmentDescription to describe what items were bought.\n",
    "\n",
    "**Question**: What are the tradeoffs between choosing each one of these 3 options?\n",
    "\n",
    "\n",
    "(DONE) Description -> counts\n",
    "\n",
    "Description -> normalized counts + Counts column\n",
    "\n",
    "Description -> normalized counts + Counts column + day of week"
   ]
  },
  {
   "cell_type": "markdown",
   "metadata": {},
   "source": [
    "The main tradeoff is the number of distinct items. There are 68 unique departments in the train set, 5142 unique FinelineNumbers, and 89281 unique Upc codes. It is initially easier to work at the department level although we should put a marker **TODO** to extend our models with FinelineNo and Upc later."
   ]
  },
  {
   "cell_type": "markdown",
   "metadata": {},
   "source": [
    "So how exactly do we create rows that have some description of the departments someone shopped at. The easier way is to have a column for every unique department and a row for each visit number. The entry in row i and column j is the number of items bought during visit i in department j.\n",
    "\n",
    "**Question**: Can you think of an easy way to create this table using one of the in-build pandas functions we have seen?"
   ]
  },
  {
   "cell_type": "code",
   "execution_count": 5,
   "metadata": {
    "scrolled": false
   },
   "outputs": [
    {
     "data": {
      "text/html": [
       "<div>\n",
       "<style scoped>\n",
       "    .dataframe tbody tr th:only-of-type {\n",
       "        vertical-align: middle;\n",
       "    }\n",
       "\n",
       "    .dataframe tbody tr th {\n",
       "        vertical-align: top;\n",
       "    }\n",
       "\n",
       "    .dataframe thead th {\n",
       "        text-align: right;\n",
       "    }\n",
       "</style>\n",
       "<table border=\"1\" class=\"dataframe\">\n",
       "  <thead>\n",
       "    <tr style=\"text-align: right;\">\n",
       "      <th>DepartmentDescription</th>\n",
       "      <th>1-HR PHOTO</th>\n",
       "      <th>ACCESSORIES</th>\n",
       "      <th>AUTOMOTIVE</th>\n",
       "      <th>BAKERY</th>\n",
       "      <th>BATH AND SHOWER</th>\n",
       "      <th>BEAUTY</th>\n",
       "      <th>BEDDING</th>\n",
       "      <th>BOOKS AND MAGAZINES</th>\n",
       "      <th>BOYS WEAR</th>\n",
       "      <th>BRAS &amp; SHAPEWEAR</th>\n",
       "      <th>...</th>\n",
       "      <th>SEAFOOD</th>\n",
       "      <th>SEASONAL</th>\n",
       "      <th>SERVICE DELI</th>\n",
       "      <th>SHEER HOSIERY</th>\n",
       "      <th>SHOES</th>\n",
       "      <th>SLEEPWEAR/FOUNDATIONS</th>\n",
       "      <th>SPORTING GOODS</th>\n",
       "      <th>SWIMWEAR/OUTERWEAR</th>\n",
       "      <th>TOYS</th>\n",
       "      <th>WIRELESS</th>\n",
       "    </tr>\n",
       "    <tr>\n",
       "      <th>VisitNumber</th>\n",
       "      <th></th>\n",
       "      <th></th>\n",
       "      <th></th>\n",
       "      <th></th>\n",
       "      <th></th>\n",
       "      <th></th>\n",
       "      <th></th>\n",
       "      <th></th>\n",
       "      <th></th>\n",
       "      <th></th>\n",
       "      <th></th>\n",
       "      <th></th>\n",
       "      <th></th>\n",
       "      <th></th>\n",
       "      <th></th>\n",
       "      <th></th>\n",
       "      <th></th>\n",
       "      <th></th>\n",
       "      <th></th>\n",
       "      <th></th>\n",
       "      <th></th>\n",
       "    </tr>\n",
       "  </thead>\n",
       "  <tbody>\n",
       "    <tr>\n",
       "      <td>5</td>\n",
       "      <td>NaN</td>\n",
       "      <td>NaN</td>\n",
       "      <td>NaN</td>\n",
       "      <td>NaN</td>\n",
       "      <td>NaN</td>\n",
       "      <td>NaN</td>\n",
       "      <td>NaN</td>\n",
       "      <td>NaN</td>\n",
       "      <td>NaN</td>\n",
       "      <td>NaN</td>\n",
       "      <td>...</td>\n",
       "      <td>NaN</td>\n",
       "      <td>NaN</td>\n",
       "      <td>NaN</td>\n",
       "      <td>NaN</td>\n",
       "      <td>NaN</td>\n",
       "      <td>NaN</td>\n",
       "      <td>NaN</td>\n",
       "      <td>NaN</td>\n",
       "      <td>NaN</td>\n",
       "      <td>NaN</td>\n",
       "    </tr>\n",
       "    <tr>\n",
       "      <td>7</td>\n",
       "      <td>NaN</td>\n",
       "      <td>NaN</td>\n",
       "      <td>NaN</td>\n",
       "      <td>NaN</td>\n",
       "      <td>NaN</td>\n",
       "      <td>NaN</td>\n",
       "      <td>NaN</td>\n",
       "      <td>NaN</td>\n",
       "      <td>NaN</td>\n",
       "      <td>NaN</td>\n",
       "      <td>...</td>\n",
       "      <td>NaN</td>\n",
       "      <td>NaN</td>\n",
       "      <td>NaN</td>\n",
       "      <td>NaN</td>\n",
       "      <td>1.0</td>\n",
       "      <td>NaN</td>\n",
       "      <td>NaN</td>\n",
       "      <td>NaN</td>\n",
       "      <td>NaN</td>\n",
       "      <td>NaN</td>\n",
       "    </tr>\n",
       "    <tr>\n",
       "      <td>8</td>\n",
       "      <td>NaN</td>\n",
       "      <td>NaN</td>\n",
       "      <td>NaN</td>\n",
       "      <td>NaN</td>\n",
       "      <td>NaN</td>\n",
       "      <td>NaN</td>\n",
       "      <td>NaN</td>\n",
       "      <td>NaN</td>\n",
       "      <td>NaN</td>\n",
       "      <td>NaN</td>\n",
       "      <td>...</td>\n",
       "      <td>NaN</td>\n",
       "      <td>NaN</td>\n",
       "      <td>NaN</td>\n",
       "      <td>NaN</td>\n",
       "      <td>NaN</td>\n",
       "      <td>NaN</td>\n",
       "      <td>NaN</td>\n",
       "      <td>NaN</td>\n",
       "      <td>NaN</td>\n",
       "      <td>NaN</td>\n",
       "    </tr>\n",
       "    <tr>\n",
       "      <td>9</td>\n",
       "      <td>NaN</td>\n",
       "      <td>NaN</td>\n",
       "      <td>NaN</td>\n",
       "      <td>NaN</td>\n",
       "      <td>NaN</td>\n",
       "      <td>NaN</td>\n",
       "      <td>NaN</td>\n",
       "      <td>NaN</td>\n",
       "      <td>NaN</td>\n",
       "      <td>NaN</td>\n",
       "      <td>...</td>\n",
       "      <td>NaN</td>\n",
       "      <td>NaN</td>\n",
       "      <td>NaN</td>\n",
       "      <td>NaN</td>\n",
       "      <td>NaN</td>\n",
       "      <td>NaN</td>\n",
       "      <td>NaN</td>\n",
       "      <td>NaN</td>\n",
       "      <td>NaN</td>\n",
       "      <td>NaN</td>\n",
       "    </tr>\n",
       "    <tr>\n",
       "      <td>10</td>\n",
       "      <td>NaN</td>\n",
       "      <td>NaN</td>\n",
       "      <td>NaN</td>\n",
       "      <td>NaN</td>\n",
       "      <td>NaN</td>\n",
       "      <td>NaN</td>\n",
       "      <td>NaN</td>\n",
       "      <td>NaN</td>\n",
       "      <td>NaN</td>\n",
       "      <td>NaN</td>\n",
       "      <td>...</td>\n",
       "      <td>NaN</td>\n",
       "      <td>NaN</td>\n",
       "      <td>NaN</td>\n",
       "      <td>NaN</td>\n",
       "      <td>NaN</td>\n",
       "      <td>NaN</td>\n",
       "      <td>NaN</td>\n",
       "      <td>NaN</td>\n",
       "      <td>NaN</td>\n",
       "      <td>NaN</td>\n",
       "    </tr>\n",
       "    <tr>\n",
       "      <td>11</td>\n",
       "      <td>NaN</td>\n",
       "      <td>NaN</td>\n",
       "      <td>NaN</td>\n",
       "      <td>NaN</td>\n",
       "      <td>NaN</td>\n",
       "      <td>NaN</td>\n",
       "      <td>NaN</td>\n",
       "      <td>NaN</td>\n",
       "      <td>NaN</td>\n",
       "      <td>NaN</td>\n",
       "      <td>...</td>\n",
       "      <td>NaN</td>\n",
       "      <td>NaN</td>\n",
       "      <td>NaN</td>\n",
       "      <td>NaN</td>\n",
       "      <td>NaN</td>\n",
       "      <td>NaN</td>\n",
       "      <td>NaN</td>\n",
       "      <td>NaN</td>\n",
       "      <td>NaN</td>\n",
       "      <td>NaN</td>\n",
       "    </tr>\n",
       "    <tr>\n",
       "      <td>12</td>\n",
       "      <td>NaN</td>\n",
       "      <td>NaN</td>\n",
       "      <td>NaN</td>\n",
       "      <td>NaN</td>\n",
       "      <td>NaN</td>\n",
       "      <td>NaN</td>\n",
       "      <td>NaN</td>\n",
       "      <td>NaN</td>\n",
       "      <td>2.0</td>\n",
       "      <td>NaN</td>\n",
       "      <td>...</td>\n",
       "      <td>NaN</td>\n",
       "      <td>NaN</td>\n",
       "      <td>NaN</td>\n",
       "      <td>NaN</td>\n",
       "      <td>1.0</td>\n",
       "      <td>NaN</td>\n",
       "      <td>NaN</td>\n",
       "      <td>NaN</td>\n",
       "      <td>NaN</td>\n",
       "      <td>NaN</td>\n",
       "    </tr>\n",
       "    <tr>\n",
       "      <td>15</td>\n",
       "      <td>NaN</td>\n",
       "      <td>NaN</td>\n",
       "      <td>NaN</td>\n",
       "      <td>NaN</td>\n",
       "      <td>NaN</td>\n",
       "      <td>NaN</td>\n",
       "      <td>NaN</td>\n",
       "      <td>NaN</td>\n",
       "      <td>NaN</td>\n",
       "      <td>NaN</td>\n",
       "      <td>...</td>\n",
       "      <td>NaN</td>\n",
       "      <td>NaN</td>\n",
       "      <td>NaN</td>\n",
       "      <td>NaN</td>\n",
       "      <td>NaN</td>\n",
       "      <td>NaN</td>\n",
       "      <td>NaN</td>\n",
       "      <td>NaN</td>\n",
       "      <td>NaN</td>\n",
       "      <td>NaN</td>\n",
       "    </tr>\n",
       "    <tr>\n",
       "      <td>17</td>\n",
       "      <td>NaN</td>\n",
       "      <td>NaN</td>\n",
       "      <td>NaN</td>\n",
       "      <td>NaN</td>\n",
       "      <td>NaN</td>\n",
       "      <td>NaN</td>\n",
       "      <td>NaN</td>\n",
       "      <td>NaN</td>\n",
       "      <td>NaN</td>\n",
       "      <td>NaN</td>\n",
       "      <td>...</td>\n",
       "      <td>NaN</td>\n",
       "      <td>NaN</td>\n",
       "      <td>NaN</td>\n",
       "      <td>NaN</td>\n",
       "      <td>NaN</td>\n",
       "      <td>NaN</td>\n",
       "      <td>NaN</td>\n",
       "      <td>NaN</td>\n",
       "      <td>NaN</td>\n",
       "      <td>NaN</td>\n",
       "    </tr>\n",
       "    <tr>\n",
       "      <td>19</td>\n",
       "      <td>NaN</td>\n",
       "      <td>1.0</td>\n",
       "      <td>NaN</td>\n",
       "      <td>NaN</td>\n",
       "      <td>NaN</td>\n",
       "      <td>NaN</td>\n",
       "      <td>NaN</td>\n",
       "      <td>NaN</td>\n",
       "      <td>NaN</td>\n",
       "      <td>NaN</td>\n",
       "      <td>...</td>\n",
       "      <td>NaN</td>\n",
       "      <td>NaN</td>\n",
       "      <td>NaN</td>\n",
       "      <td>NaN</td>\n",
       "      <td>NaN</td>\n",
       "      <td>NaN</td>\n",
       "      <td>NaN</td>\n",
       "      <td>NaN</td>\n",
       "      <td>NaN</td>\n",
       "      <td>NaN</td>\n",
       "    </tr>\n",
       "    <tr>\n",
       "      <td>20</td>\n",
       "      <td>NaN</td>\n",
       "      <td>NaN</td>\n",
       "      <td>NaN</td>\n",
       "      <td>NaN</td>\n",
       "      <td>NaN</td>\n",
       "      <td>NaN</td>\n",
       "      <td>NaN</td>\n",
       "      <td>NaN</td>\n",
       "      <td>NaN</td>\n",
       "      <td>NaN</td>\n",
       "      <td>...</td>\n",
       "      <td>NaN</td>\n",
       "      <td>NaN</td>\n",
       "      <td>2.0</td>\n",
       "      <td>NaN</td>\n",
       "      <td>NaN</td>\n",
       "      <td>NaN</td>\n",
       "      <td>NaN</td>\n",
       "      <td>NaN</td>\n",
       "      <td>NaN</td>\n",
       "      <td>NaN</td>\n",
       "    </tr>\n",
       "    <tr>\n",
       "      <td>23</td>\n",
       "      <td>NaN</td>\n",
       "      <td>NaN</td>\n",
       "      <td>NaN</td>\n",
       "      <td>NaN</td>\n",
       "      <td>NaN</td>\n",
       "      <td>NaN</td>\n",
       "      <td>NaN</td>\n",
       "      <td>NaN</td>\n",
       "      <td>NaN</td>\n",
       "      <td>NaN</td>\n",
       "      <td>...</td>\n",
       "      <td>NaN</td>\n",
       "      <td>NaN</td>\n",
       "      <td>NaN</td>\n",
       "      <td>NaN</td>\n",
       "      <td>NaN</td>\n",
       "      <td>NaN</td>\n",
       "      <td>NaN</td>\n",
       "      <td>NaN</td>\n",
       "      <td>NaN</td>\n",
       "      <td>NaN</td>\n",
       "    </tr>\n",
       "    <tr>\n",
       "      <td>25</td>\n",
       "      <td>NaN</td>\n",
       "      <td>NaN</td>\n",
       "      <td>NaN</td>\n",
       "      <td>NaN</td>\n",
       "      <td>NaN</td>\n",
       "      <td>NaN</td>\n",
       "      <td>NaN</td>\n",
       "      <td>NaN</td>\n",
       "      <td>NaN</td>\n",
       "      <td>NaN</td>\n",
       "      <td>...</td>\n",
       "      <td>NaN</td>\n",
       "      <td>NaN</td>\n",
       "      <td>NaN</td>\n",
       "      <td>NaN</td>\n",
       "      <td>NaN</td>\n",
       "      <td>NaN</td>\n",
       "      <td>NaN</td>\n",
       "      <td>NaN</td>\n",
       "      <td>NaN</td>\n",
       "      <td>NaN</td>\n",
       "    </tr>\n",
       "    <tr>\n",
       "      <td>26</td>\n",
       "      <td>NaN</td>\n",
       "      <td>NaN</td>\n",
       "      <td>NaN</td>\n",
       "      <td>NaN</td>\n",
       "      <td>NaN</td>\n",
       "      <td>NaN</td>\n",
       "      <td>NaN</td>\n",
       "      <td>NaN</td>\n",
       "      <td>NaN</td>\n",
       "      <td>NaN</td>\n",
       "      <td>...</td>\n",
       "      <td>NaN</td>\n",
       "      <td>NaN</td>\n",
       "      <td>NaN</td>\n",
       "      <td>NaN</td>\n",
       "      <td>NaN</td>\n",
       "      <td>NaN</td>\n",
       "      <td>NaN</td>\n",
       "      <td>NaN</td>\n",
       "      <td>NaN</td>\n",
       "      <td>NaN</td>\n",
       "    </tr>\n",
       "    <tr>\n",
       "      <td>28</td>\n",
       "      <td>NaN</td>\n",
       "      <td>NaN</td>\n",
       "      <td>NaN</td>\n",
       "      <td>2.0</td>\n",
       "      <td>NaN</td>\n",
       "      <td>NaN</td>\n",
       "      <td>NaN</td>\n",
       "      <td>NaN</td>\n",
       "      <td>NaN</td>\n",
       "      <td>NaN</td>\n",
       "      <td>...</td>\n",
       "      <td>NaN</td>\n",
       "      <td>NaN</td>\n",
       "      <td>NaN</td>\n",
       "      <td>NaN</td>\n",
       "      <td>NaN</td>\n",
       "      <td>NaN</td>\n",
       "      <td>NaN</td>\n",
       "      <td>NaN</td>\n",
       "      <td>NaN</td>\n",
       "      <td>NaN</td>\n",
       "    </tr>\n",
       "    <tr>\n",
       "      <td>29</td>\n",
       "      <td>NaN</td>\n",
       "      <td>NaN</td>\n",
       "      <td>NaN</td>\n",
       "      <td>NaN</td>\n",
       "      <td>NaN</td>\n",
       "      <td>NaN</td>\n",
       "      <td>NaN</td>\n",
       "      <td>NaN</td>\n",
       "      <td>NaN</td>\n",
       "      <td>NaN</td>\n",
       "      <td>...</td>\n",
       "      <td>NaN</td>\n",
       "      <td>NaN</td>\n",
       "      <td>NaN</td>\n",
       "      <td>NaN</td>\n",
       "      <td>NaN</td>\n",
       "      <td>NaN</td>\n",
       "      <td>NaN</td>\n",
       "      <td>NaN</td>\n",
       "      <td>NaN</td>\n",
       "      <td>NaN</td>\n",
       "    </tr>\n",
       "    <tr>\n",
       "      <td>30</td>\n",
       "      <td>NaN</td>\n",
       "      <td>NaN</td>\n",
       "      <td>NaN</td>\n",
       "      <td>NaN</td>\n",
       "      <td>NaN</td>\n",
       "      <td>NaN</td>\n",
       "      <td>NaN</td>\n",
       "      <td>NaN</td>\n",
       "      <td>NaN</td>\n",
       "      <td>NaN</td>\n",
       "      <td>...</td>\n",
       "      <td>NaN</td>\n",
       "      <td>NaN</td>\n",
       "      <td>NaN</td>\n",
       "      <td>NaN</td>\n",
       "      <td>NaN</td>\n",
       "      <td>NaN</td>\n",
       "      <td>NaN</td>\n",
       "      <td>NaN</td>\n",
       "      <td>NaN</td>\n",
       "      <td>NaN</td>\n",
       "    </tr>\n",
       "    <tr>\n",
       "      <td>31</td>\n",
       "      <td>NaN</td>\n",
       "      <td>NaN</td>\n",
       "      <td>NaN</td>\n",
       "      <td>1.0</td>\n",
       "      <td>NaN</td>\n",
       "      <td>NaN</td>\n",
       "      <td>NaN</td>\n",
       "      <td>NaN</td>\n",
       "      <td>NaN</td>\n",
       "      <td>NaN</td>\n",
       "      <td>...</td>\n",
       "      <td>NaN</td>\n",
       "      <td>NaN</td>\n",
       "      <td>NaN</td>\n",
       "      <td>NaN</td>\n",
       "      <td>NaN</td>\n",
       "      <td>NaN</td>\n",
       "      <td>NaN</td>\n",
       "      <td>NaN</td>\n",
       "      <td>NaN</td>\n",
       "      <td>NaN</td>\n",
       "    </tr>\n",
       "    <tr>\n",
       "      <td>32</td>\n",
       "      <td>NaN</td>\n",
       "      <td>NaN</td>\n",
       "      <td>NaN</td>\n",
       "      <td>NaN</td>\n",
       "      <td>NaN</td>\n",
       "      <td>NaN</td>\n",
       "      <td>NaN</td>\n",
       "      <td>NaN</td>\n",
       "      <td>NaN</td>\n",
       "      <td>NaN</td>\n",
       "      <td>...</td>\n",
       "      <td>NaN</td>\n",
       "      <td>NaN</td>\n",
       "      <td>NaN</td>\n",
       "      <td>NaN</td>\n",
       "      <td>NaN</td>\n",
       "      <td>NaN</td>\n",
       "      <td>NaN</td>\n",
       "      <td>NaN</td>\n",
       "      <td>NaN</td>\n",
       "      <td>NaN</td>\n",
       "    </tr>\n",
       "    <tr>\n",
       "      <td>33</td>\n",
       "      <td>NaN</td>\n",
       "      <td>NaN</td>\n",
       "      <td>NaN</td>\n",
       "      <td>NaN</td>\n",
       "      <td>NaN</td>\n",
       "      <td>NaN</td>\n",
       "      <td>NaN</td>\n",
       "      <td>NaN</td>\n",
       "      <td>NaN</td>\n",
       "      <td>NaN</td>\n",
       "      <td>...</td>\n",
       "      <td>NaN</td>\n",
       "      <td>NaN</td>\n",
       "      <td>NaN</td>\n",
       "      <td>NaN</td>\n",
       "      <td>NaN</td>\n",
       "      <td>NaN</td>\n",
       "      <td>NaN</td>\n",
       "      <td>NaN</td>\n",
       "      <td>NaN</td>\n",
       "      <td>NaN</td>\n",
       "    </tr>\n",
       "  </tbody>\n",
       "</table>\n",
       "<p>20 rows × 67 columns</p>\n",
       "</div>"
      ],
      "text/plain": [
       "DepartmentDescription  1-HR PHOTO  ACCESSORIES  AUTOMOTIVE  BAKERY  \\\n",
       "VisitNumber                                                          \n",
       "5                             NaN          NaN         NaN     NaN   \n",
       "7                             NaN          NaN         NaN     NaN   \n",
       "8                             NaN          NaN         NaN     NaN   \n",
       "9                             NaN          NaN         NaN     NaN   \n",
       "10                            NaN          NaN         NaN     NaN   \n",
       "11                            NaN          NaN         NaN     NaN   \n",
       "12                            NaN          NaN         NaN     NaN   \n",
       "15                            NaN          NaN         NaN     NaN   \n",
       "17                            NaN          NaN         NaN     NaN   \n",
       "19                            NaN          1.0         NaN     NaN   \n",
       "20                            NaN          NaN         NaN     NaN   \n",
       "23                            NaN          NaN         NaN     NaN   \n",
       "25                            NaN          NaN         NaN     NaN   \n",
       "26                            NaN          NaN         NaN     NaN   \n",
       "28                            NaN          NaN         NaN     2.0   \n",
       "29                            NaN          NaN         NaN     NaN   \n",
       "30                            NaN          NaN         NaN     NaN   \n",
       "31                            NaN          NaN         NaN     1.0   \n",
       "32                            NaN          NaN         NaN     NaN   \n",
       "33                            NaN          NaN         NaN     NaN   \n",
       "\n",
       "DepartmentDescription  BATH AND SHOWER  BEAUTY  BEDDING  BOOKS AND MAGAZINES  \\\n",
       "VisitNumber                                                                    \n",
       "5                                  NaN     NaN      NaN                  NaN   \n",
       "7                                  NaN     NaN      NaN                  NaN   \n",
       "8                                  NaN     NaN      NaN                  NaN   \n",
       "9                                  NaN     NaN      NaN                  NaN   \n",
       "10                                 NaN     NaN      NaN                  NaN   \n",
       "11                                 NaN     NaN      NaN                  NaN   \n",
       "12                                 NaN     NaN      NaN                  NaN   \n",
       "15                                 NaN     NaN      NaN                  NaN   \n",
       "17                                 NaN     NaN      NaN                  NaN   \n",
       "19                                 NaN     NaN      NaN                  NaN   \n",
       "20                                 NaN     NaN      NaN                  NaN   \n",
       "23                                 NaN     NaN      NaN                  NaN   \n",
       "25                                 NaN     NaN      NaN                  NaN   \n",
       "26                                 NaN     NaN      NaN                  NaN   \n",
       "28                                 NaN     NaN      NaN                  NaN   \n",
       "29                                 NaN     NaN      NaN                  NaN   \n",
       "30                                 NaN     NaN      NaN                  NaN   \n",
       "31                                 NaN     NaN      NaN                  NaN   \n",
       "32                                 NaN     NaN      NaN                  NaN   \n",
       "33                                 NaN     NaN      NaN                  NaN   \n",
       "\n",
       "DepartmentDescription  BOYS WEAR  BRAS & SHAPEWEAR  ...  SEAFOOD  SEASONAL  \\\n",
       "VisitNumber                                         ...                      \n",
       "5                            NaN               NaN  ...      NaN       NaN   \n",
       "7                            NaN               NaN  ...      NaN       NaN   \n",
       "8                            NaN               NaN  ...      NaN       NaN   \n",
       "9                            NaN               NaN  ...      NaN       NaN   \n",
       "10                           NaN               NaN  ...      NaN       NaN   \n",
       "11                           NaN               NaN  ...      NaN       NaN   \n",
       "12                           2.0               NaN  ...      NaN       NaN   \n",
       "15                           NaN               NaN  ...      NaN       NaN   \n",
       "17                           NaN               NaN  ...      NaN       NaN   \n",
       "19                           NaN               NaN  ...      NaN       NaN   \n",
       "20                           NaN               NaN  ...      NaN       NaN   \n",
       "23                           NaN               NaN  ...      NaN       NaN   \n",
       "25                           NaN               NaN  ...      NaN       NaN   \n",
       "26                           NaN               NaN  ...      NaN       NaN   \n",
       "28                           NaN               NaN  ...      NaN       NaN   \n",
       "29                           NaN               NaN  ...      NaN       NaN   \n",
       "30                           NaN               NaN  ...      NaN       NaN   \n",
       "31                           NaN               NaN  ...      NaN       NaN   \n",
       "32                           NaN               NaN  ...      NaN       NaN   \n",
       "33                           NaN               NaN  ...      NaN       NaN   \n",
       "\n",
       "DepartmentDescription  SERVICE DELI  SHEER HOSIERY  SHOES  \\\n",
       "VisitNumber                                                 \n",
       "5                               NaN            NaN    NaN   \n",
       "7                               NaN            NaN    1.0   \n",
       "8                               NaN            NaN    NaN   \n",
       "9                               NaN            NaN    NaN   \n",
       "10                              NaN            NaN    NaN   \n",
       "11                              NaN            NaN    NaN   \n",
       "12                              NaN            NaN    1.0   \n",
       "15                              NaN            NaN    NaN   \n",
       "17                              NaN            NaN    NaN   \n",
       "19                              NaN            NaN    NaN   \n",
       "20                              2.0            NaN    NaN   \n",
       "23                              NaN            NaN    NaN   \n",
       "25                              NaN            NaN    NaN   \n",
       "26                              NaN            NaN    NaN   \n",
       "28                              NaN            NaN    NaN   \n",
       "29                              NaN            NaN    NaN   \n",
       "30                              NaN            NaN    NaN   \n",
       "31                              NaN            NaN    NaN   \n",
       "32                              NaN            NaN    NaN   \n",
       "33                              NaN            NaN    NaN   \n",
       "\n",
       "DepartmentDescription  SLEEPWEAR/FOUNDATIONS  SPORTING GOODS  \\\n",
       "VisitNumber                                                    \n",
       "5                                        NaN             NaN   \n",
       "7                                        NaN             NaN   \n",
       "8                                        NaN             NaN   \n",
       "9                                        NaN             NaN   \n",
       "10                                       NaN             NaN   \n",
       "11                                       NaN             NaN   \n",
       "12                                       NaN             NaN   \n",
       "15                                       NaN             NaN   \n",
       "17                                       NaN             NaN   \n",
       "19                                       NaN             NaN   \n",
       "20                                       NaN             NaN   \n",
       "23                                       NaN             NaN   \n",
       "25                                       NaN             NaN   \n",
       "26                                       NaN             NaN   \n",
       "28                                       NaN             NaN   \n",
       "29                                       NaN             NaN   \n",
       "30                                       NaN             NaN   \n",
       "31                                       NaN             NaN   \n",
       "32                                       NaN             NaN   \n",
       "33                                       NaN             NaN   \n",
       "\n",
       "DepartmentDescription  SWIMWEAR/OUTERWEAR  TOYS  WIRELESS  \n",
       "VisitNumber                                                \n",
       "5                                     NaN   NaN       NaN  \n",
       "7                                     NaN   NaN       NaN  \n",
       "8                                     NaN   NaN       NaN  \n",
       "9                                     NaN   NaN       NaN  \n",
       "10                                    NaN   NaN       NaN  \n",
       "11                                    NaN   NaN       NaN  \n",
       "12                                    NaN   NaN       NaN  \n",
       "15                                    NaN   NaN       NaN  \n",
       "17                                    NaN   NaN       NaN  \n",
       "19                                    NaN   NaN       NaN  \n",
       "20                                    NaN   NaN       NaN  \n",
       "23                                    NaN   NaN       NaN  \n",
       "25                                    NaN   NaN       NaN  \n",
       "26                                    NaN   NaN       NaN  \n",
       "28                                    NaN   NaN       NaN  \n",
       "29                                    NaN   NaN       NaN  \n",
       "30                                    NaN   NaN       NaN  \n",
       "31                                    NaN   NaN       NaN  \n",
       "32                                    NaN   NaN       NaN  \n",
       "33                                    NaN   NaN       NaN  \n",
       "\n",
       "[20 rows x 67 columns]"
      ]
     },
     "execution_count": 5,
     "metadata": {},
     "output_type": "execute_result"
    }
   ],
   "source": [
    "pd.pivot_table(df_train, \n",
    "               index = 'VisitNumber', \n",
    "               columns = 'DepartmentDescription', \n",
    "               values = 'ScanCount', \n",
    "               aggfunc = 'sum').head(20)"
   ]
  },
  {
   "cell_type": "markdown",
   "metadata": {},
   "source": [
    "We see a bunch of nans in case a visit didn't buy products from a certain department. We should replace these nans by 0. You should also do the same thing with the validation and test datasets."
   ]
  },
  {
   "cell_type": "code",
   "execution_count": 6,
   "metadata": {},
   "outputs": [],
   "source": [
    "df_train_f1 = pd.pivot_table(df_train, \n",
    "                             index='VisitNumber', \n",
    "                             columns='DepartmentDescription', \n",
    "                             values='ScanCount', \n",
    "                             aggfunc='sum').fillna(0)\n",
    "\n",
    "df_val_f1 = pd.pivot_table(df_val, \n",
    "                           index='VisitNumber', \n",
    "                           columns='DepartmentDescription', \n",
    "                           values='ScanCount', \n",
    "                           aggfunc='sum').fillna(0)\n",
    "\n",
    "df_test_f1 = pd.pivot_table(df_test,\n",
    "                            index='VisitNumber',\n",
    "                            columns='DepartmentDescription', \n",
    "                            values='ScanCount', \n",
    "                            aggfunc='sum').fillna(0)"
   ]
  },
  {
   "cell_type": "code",
   "execution_count": 7,
   "metadata": {},
   "outputs": [
    {
     "data": {
      "text/html": [
       "<div>\n",
       "<style scoped>\n",
       "    .dataframe tbody tr th:only-of-type {\n",
       "        vertical-align: middle;\n",
       "    }\n",
       "\n",
       "    .dataframe tbody tr th {\n",
       "        vertical-align: top;\n",
       "    }\n",
       "\n",
       "    .dataframe thead th {\n",
       "        text-align: right;\n",
       "    }\n",
       "</style>\n",
       "<table border=\"1\" class=\"dataframe\">\n",
       "  <thead>\n",
       "    <tr style=\"text-align: right;\">\n",
       "      <th>DepartmentDescription</th>\n",
       "      <th>1-HR PHOTO</th>\n",
       "      <th>ACCESSORIES</th>\n",
       "      <th>AUTOMOTIVE</th>\n",
       "      <th>BAKERY</th>\n",
       "      <th>BATH AND SHOWER</th>\n",
       "      <th>BEAUTY</th>\n",
       "      <th>BEDDING</th>\n",
       "      <th>BOOKS AND MAGAZINES</th>\n",
       "      <th>BOYS WEAR</th>\n",
       "      <th>BRAS &amp; SHAPEWEAR</th>\n",
       "      <th>...</th>\n",
       "      <th>SEAFOOD</th>\n",
       "      <th>SEASONAL</th>\n",
       "      <th>SERVICE DELI</th>\n",
       "      <th>SHEER HOSIERY</th>\n",
       "      <th>SHOES</th>\n",
       "      <th>SLEEPWEAR/FOUNDATIONS</th>\n",
       "      <th>SPORTING GOODS</th>\n",
       "      <th>SWIMWEAR/OUTERWEAR</th>\n",
       "      <th>TOYS</th>\n",
       "      <th>WIRELESS</th>\n",
       "    </tr>\n",
       "    <tr>\n",
       "      <th>VisitNumber</th>\n",
       "      <th></th>\n",
       "      <th></th>\n",
       "      <th></th>\n",
       "      <th></th>\n",
       "      <th></th>\n",
       "      <th></th>\n",
       "      <th></th>\n",
       "      <th></th>\n",
       "      <th></th>\n",
       "      <th></th>\n",
       "      <th></th>\n",
       "      <th></th>\n",
       "      <th></th>\n",
       "      <th></th>\n",
       "      <th></th>\n",
       "      <th></th>\n",
       "      <th></th>\n",
       "      <th></th>\n",
       "      <th></th>\n",
       "      <th></th>\n",
       "      <th></th>\n",
       "    </tr>\n",
       "  </thead>\n",
       "  <tbody>\n",
       "    <tr>\n",
       "      <td>5</td>\n",
       "      <td>0.0</td>\n",
       "      <td>0.0</td>\n",
       "      <td>0.0</td>\n",
       "      <td>0.0</td>\n",
       "      <td>0.0</td>\n",
       "      <td>0.0</td>\n",
       "      <td>0.0</td>\n",
       "      <td>0.0</td>\n",
       "      <td>0.0</td>\n",
       "      <td>0.0</td>\n",
       "      <td>...</td>\n",
       "      <td>0.0</td>\n",
       "      <td>0.0</td>\n",
       "      <td>0.0</td>\n",
       "      <td>0.0</td>\n",
       "      <td>0.0</td>\n",
       "      <td>0.0</td>\n",
       "      <td>0.0</td>\n",
       "      <td>0.0</td>\n",
       "      <td>0.0</td>\n",
       "      <td>0.0</td>\n",
       "    </tr>\n",
       "    <tr>\n",
       "      <td>7</td>\n",
       "      <td>0.0</td>\n",
       "      <td>0.0</td>\n",
       "      <td>0.0</td>\n",
       "      <td>0.0</td>\n",
       "      <td>0.0</td>\n",
       "      <td>0.0</td>\n",
       "      <td>0.0</td>\n",
       "      <td>0.0</td>\n",
       "      <td>0.0</td>\n",
       "      <td>0.0</td>\n",
       "      <td>...</td>\n",
       "      <td>0.0</td>\n",
       "      <td>0.0</td>\n",
       "      <td>0.0</td>\n",
       "      <td>0.0</td>\n",
       "      <td>1.0</td>\n",
       "      <td>0.0</td>\n",
       "      <td>0.0</td>\n",
       "      <td>0.0</td>\n",
       "      <td>0.0</td>\n",
       "      <td>0.0</td>\n",
       "    </tr>\n",
       "  </tbody>\n",
       "</table>\n",
       "<p>2 rows × 67 columns</p>\n",
       "</div>"
      ],
      "text/plain": [
       "DepartmentDescription  1-HR PHOTO  ACCESSORIES  AUTOMOTIVE  BAKERY  \\\n",
       "VisitNumber                                                          \n",
       "5                             0.0          0.0         0.0     0.0   \n",
       "7                             0.0          0.0         0.0     0.0   \n",
       "\n",
       "DepartmentDescription  BATH AND SHOWER  BEAUTY  BEDDING  BOOKS AND MAGAZINES  \\\n",
       "VisitNumber                                                                    \n",
       "5                                  0.0     0.0      0.0                  0.0   \n",
       "7                                  0.0     0.0      0.0                  0.0   \n",
       "\n",
       "DepartmentDescription  BOYS WEAR  BRAS & SHAPEWEAR  ...  SEAFOOD  SEASONAL  \\\n",
       "VisitNumber                                         ...                      \n",
       "5                            0.0               0.0  ...      0.0       0.0   \n",
       "7                            0.0               0.0  ...      0.0       0.0   \n",
       "\n",
       "DepartmentDescription  SERVICE DELI  SHEER HOSIERY  SHOES  \\\n",
       "VisitNumber                                                 \n",
       "5                               0.0            0.0    0.0   \n",
       "7                               0.0            0.0    1.0   \n",
       "\n",
       "DepartmentDescription  SLEEPWEAR/FOUNDATIONS  SPORTING GOODS  \\\n",
       "VisitNumber                                                    \n",
       "5                                        0.0             0.0   \n",
       "7                                        0.0             0.0   \n",
       "\n",
       "DepartmentDescription  SWIMWEAR/OUTERWEAR  TOYS  WIRELESS  \n",
       "VisitNumber                                                \n",
       "5                                     0.0   0.0       0.0  \n",
       "7                                     0.0   0.0       0.0  \n",
       "\n",
       "[2 rows x 67 columns]"
      ]
     },
     "execution_count": 7,
     "metadata": {},
     "output_type": "execute_result"
    }
   ],
   "source": [
    "df_train_f1.head(2)"
   ]
  },
  {
   "cell_type": "markdown",
   "metadata": {},
   "source": [
    "It is always a good idea to check if these numbers are sensible. As a data scientist, it is good to be extremely skeptical of procedures where a lot of data is being transformed into a lot of some other data without fine-grained checks. \n",
    "\n",
    "**Question**: Can you think of some checks to do on df_train_f1 and df_train to ensure the correct thing is being done."
   ]
  },
  {
   "cell_type": "code",
   "execution_count": 8,
   "metadata": {},
   "outputs": [
    {
     "name": "stdout",
     "output_type": "stream",
     "text": [
      "2.0\n",
      "2\n"
     ]
    }
   ],
   "source": [
    "visit_number = 7\n",
    "\n",
    "print(df_train_f1.loc[visit_number].sum())\n",
    "print(df_train[df_train['VisitNumber']==visit_number]['ScanCount'].sum())"
   ]
  },
  {
   "cell_type": "code",
   "execution_count": 9,
   "metadata": {},
   "outputs": [
    {
     "data": {
      "text/plain": [
       "VisitNumber\n",
       "5     -1.0\n",
       "7      2.0\n",
       "8     27.0\n",
       "9      3.0\n",
       "10     3.0\n",
       "dtype: float64"
      ]
     },
     "execution_count": 9,
     "metadata": {},
     "output_type": "execute_result"
    }
   ],
   "source": [
    "df_train_f1.sum(axis=1).head()"
   ]
  },
  {
   "cell_type": "code",
   "execution_count": 10,
   "metadata": {},
   "outputs": [
    {
     "data": {
      "text/html": [
       "<div>\n",
       "<style scoped>\n",
       "    .dataframe tbody tr th:only-of-type {\n",
       "        vertical-align: middle;\n",
       "    }\n",
       "\n",
       "    .dataframe tbody tr th {\n",
       "        vertical-align: top;\n",
       "    }\n",
       "\n",
       "    .dataframe thead th {\n",
       "        text-align: right;\n",
       "    }\n",
       "</style>\n",
       "<table border=\"1\" class=\"dataframe\">\n",
       "  <thead>\n",
       "    <tr style=\"text-align: right;\">\n",
       "      <th></th>\n",
       "      <th>ScanCount</th>\n",
       "    </tr>\n",
       "    <tr>\n",
       "      <th>VisitNumber</th>\n",
       "      <th></th>\n",
       "    </tr>\n",
       "  </thead>\n",
       "  <tbody>\n",
       "    <tr>\n",
       "      <td>5</td>\n",
       "      <td>-1</td>\n",
       "    </tr>\n",
       "    <tr>\n",
       "      <td>7</td>\n",
       "      <td>2</td>\n",
       "    </tr>\n",
       "    <tr>\n",
       "      <td>8</td>\n",
       "      <td>28</td>\n",
       "    </tr>\n",
       "    <tr>\n",
       "      <td>9</td>\n",
       "      <td>3</td>\n",
       "    </tr>\n",
       "    <tr>\n",
       "      <td>10</td>\n",
       "      <td>3</td>\n",
       "    </tr>\n",
       "  </tbody>\n",
       "</table>\n",
       "</div>"
      ],
      "text/plain": [
       "             ScanCount\n",
       "VisitNumber           \n",
       "5                   -1\n",
       "7                    2\n",
       "8                   28\n",
       "9                    3\n",
       "10                   3"
      ]
     },
     "execution_count": 10,
     "metadata": {},
     "output_type": "execute_result"
    }
   ],
   "source": [
    "df_train.groupby('VisitNumber').agg({'ScanCount': np.sum}).head()"
   ]
  },
  {
   "cell_type": "code",
   "execution_count": 11,
   "metadata": {},
   "outputs": [
    {
     "data": {
      "text/plain": [
       "-935.0"
      ]
     },
     "execution_count": 11,
     "metadata": {},
     "output_type": "execute_result"
    }
   ],
   "source": [
    "(df_train_f1.sum(axis=1) - df_train.groupby('VisitNumber').agg({'ScanCount': np.sum})['ScanCount']).sum()"
   ]
  },
  {
   "cell_type": "markdown",
   "metadata": {},
   "source": [
    "There is a discrepancy for visit number 8. Let's check why."
   ]
  },
  {
   "cell_type": "code",
   "execution_count": 12,
   "metadata": {},
   "outputs": [
    {
     "data": {
      "text/html": [
       "<div>\n",
       "<style scoped>\n",
       "    .dataframe tbody tr th:only-of-type {\n",
       "        vertical-align: middle;\n",
       "    }\n",
       "\n",
       "    .dataframe tbody tr th {\n",
       "        vertical-align: top;\n",
       "    }\n",
       "\n",
       "    .dataframe thead th {\n",
       "        text-align: right;\n",
       "    }\n",
       "</style>\n",
       "<table border=\"1\" class=\"dataframe\">\n",
       "  <thead>\n",
       "    <tr style=\"text-align: right;\">\n",
       "      <th></th>\n",
       "      <th>TripType</th>\n",
       "      <th>VisitNumber</th>\n",
       "      <th>Weekday</th>\n",
       "      <th>Upc</th>\n",
       "      <th>ScanCount</th>\n",
       "      <th>DepartmentDescription</th>\n",
       "      <th>FinelineNumber</th>\n",
       "    </tr>\n",
       "  </thead>\n",
       "  <tbody>\n",
       "    <tr>\n",
       "      <td>3</td>\n",
       "      <td>26</td>\n",
       "      <td>8</td>\n",
       "      <td>Friday</td>\n",
       "      <td>2.238404e+09</td>\n",
       "      <td>2</td>\n",
       "      <td>PAINT AND ACCESSORIES</td>\n",
       "      <td>3565.0</td>\n",
       "    </tr>\n",
       "    <tr>\n",
       "      <td>4</td>\n",
       "      <td>26</td>\n",
       "      <td>8</td>\n",
       "      <td>Friday</td>\n",
       "      <td>2.006614e+09</td>\n",
       "      <td>2</td>\n",
       "      <td>PAINT AND ACCESSORIES</td>\n",
       "      <td>1017.0</td>\n",
       "    </tr>\n",
       "    <tr>\n",
       "      <td>5</td>\n",
       "      <td>26</td>\n",
       "      <td>8</td>\n",
       "      <td>Friday</td>\n",
       "      <td>2.006619e+09</td>\n",
       "      <td>2</td>\n",
       "      <td>PAINT AND ACCESSORIES</td>\n",
       "      <td>1017.0</td>\n",
       "    </tr>\n",
       "    <tr>\n",
       "      <td>6</td>\n",
       "      <td>26</td>\n",
       "      <td>8</td>\n",
       "      <td>Friday</td>\n",
       "      <td>2.006614e+09</td>\n",
       "      <td>1</td>\n",
       "      <td>PAINT AND ACCESSORIES</td>\n",
       "      <td>1017.0</td>\n",
       "    </tr>\n",
       "    <tr>\n",
       "      <td>7</td>\n",
       "      <td>26</td>\n",
       "      <td>8</td>\n",
       "      <td>Friday</td>\n",
       "      <td>7.004803e+09</td>\n",
       "      <td>1</td>\n",
       "      <td>PAINT AND ACCESSORIES</td>\n",
       "      <td>2802.0</td>\n",
       "    </tr>\n",
       "    <tr>\n",
       "      <td>8</td>\n",
       "      <td>26</td>\n",
       "      <td>8</td>\n",
       "      <td>Friday</td>\n",
       "      <td>2.238495e+09</td>\n",
       "      <td>1</td>\n",
       "      <td>PAINT AND ACCESSORIES</td>\n",
       "      <td>4501.0</td>\n",
       "    </tr>\n",
       "    <tr>\n",
       "      <td>9</td>\n",
       "      <td>26</td>\n",
       "      <td>8</td>\n",
       "      <td>Friday</td>\n",
       "      <td>2.238400e+09</td>\n",
       "      <td>-1</td>\n",
       "      <td>PAINT AND ACCESSORIES</td>\n",
       "      <td>3565.0</td>\n",
       "    </tr>\n",
       "    <tr>\n",
       "      <td>10</td>\n",
       "      <td>26</td>\n",
       "      <td>8</td>\n",
       "      <td>Friday</td>\n",
       "      <td>5.200010e+09</td>\n",
       "      <td>1</td>\n",
       "      <td>DSD GROCERY</td>\n",
       "      <td>4606.0</td>\n",
       "    </tr>\n",
       "    <tr>\n",
       "      <td>11</td>\n",
       "      <td>26</td>\n",
       "      <td>8</td>\n",
       "      <td>Friday</td>\n",
       "      <td>8.867930e+10</td>\n",
       "      <td>2</td>\n",
       "      <td>PAINT AND ACCESSORIES</td>\n",
       "      <td>3504.0</td>\n",
       "    </tr>\n",
       "    <tr>\n",
       "      <td>12</td>\n",
       "      <td>26</td>\n",
       "      <td>8</td>\n",
       "      <td>Friday</td>\n",
       "      <td>2.200600e+10</td>\n",
       "      <td>1</td>\n",
       "      <td>MEAT - FRESH &amp; FROZEN</td>\n",
       "      <td>6009.0</td>\n",
       "    </tr>\n",
       "    <tr>\n",
       "      <td>13</td>\n",
       "      <td>26</td>\n",
       "      <td>8</td>\n",
       "      <td>Friday</td>\n",
       "      <td>2.236760e+09</td>\n",
       "      <td>1</td>\n",
       "      <td>PAINT AND ACCESSORIES</td>\n",
       "      <td>7.0</td>\n",
       "    </tr>\n",
       "    <tr>\n",
       "      <td>14</td>\n",
       "      <td>26</td>\n",
       "      <td>8</td>\n",
       "      <td>Friday</td>\n",
       "      <td>8.867930e+10</td>\n",
       "      <td>-1</td>\n",
       "      <td>PAINT AND ACCESSORIES</td>\n",
       "      <td>3504.0</td>\n",
       "    </tr>\n",
       "    <tr>\n",
       "      <td>15</td>\n",
       "      <td>26</td>\n",
       "      <td>8</td>\n",
       "      <td>Friday</td>\n",
       "      <td>2.238400e+09</td>\n",
       "      <td>2</td>\n",
       "      <td>PAINT AND ACCESSORIES</td>\n",
       "      <td>3565.0</td>\n",
       "    </tr>\n",
       "    <tr>\n",
       "      <td>16</td>\n",
       "      <td>26</td>\n",
       "      <td>8</td>\n",
       "      <td>Friday</td>\n",
       "      <td>3.019294e+09</td>\n",
       "      <td>1</td>\n",
       "      <td>PAINT AND ACCESSORIES</td>\n",
       "      <td>2801.0</td>\n",
       "    </tr>\n",
       "    <tr>\n",
       "      <td>17</td>\n",
       "      <td>26</td>\n",
       "      <td>8</td>\n",
       "      <td>Friday</td>\n",
       "      <td>7.245041e+10</td>\n",
       "      <td>1</td>\n",
       "      <td>PAINT AND ACCESSORIES</td>\n",
       "      <td>1028.0</td>\n",
       "    </tr>\n",
       "    <tr>\n",
       "      <td>18</td>\n",
       "      <td>26</td>\n",
       "      <td>8</td>\n",
       "      <td>Friday</td>\n",
       "      <td>2.554150e+10</td>\n",
       "      <td>2</td>\n",
       "      <td>DAIRY</td>\n",
       "      <td>1305.0</td>\n",
       "    </tr>\n",
       "    <tr>\n",
       "      <td>19</td>\n",
       "      <td>26</td>\n",
       "      <td>8</td>\n",
       "      <td>Friday</td>\n",
       "      <td>2.310011e+09</td>\n",
       "      <td>1</td>\n",
       "      <td>PETS AND SUPPLIES</td>\n",
       "      <td>3300.0</td>\n",
       "    </tr>\n",
       "    <tr>\n",
       "      <td>20</td>\n",
       "      <td>26</td>\n",
       "      <td>8</td>\n",
       "      <td>Friday</td>\n",
       "      <td>7.245040e+10</td>\n",
       "      <td>2</td>\n",
       "      <td>PAINT AND ACCESSORIES</td>\n",
       "      <td>1018.0</td>\n",
       "    </tr>\n",
       "    <tr>\n",
       "      <td>21</td>\n",
       "      <td>26</td>\n",
       "      <td>8</td>\n",
       "      <td>Friday</td>\n",
       "      <td>7.874205e+09</td>\n",
       "      <td>1</td>\n",
       "      <td>HOUSEHOLD CHEMICALS/SUPP</td>\n",
       "      <td>707.0</td>\n",
       "    </tr>\n",
       "    <tr>\n",
       "      <td>22</td>\n",
       "      <td>26</td>\n",
       "      <td>8</td>\n",
       "      <td>Friday</td>\n",
       "      <td>5.114139e+09</td>\n",
       "      <td>1</td>\n",
       "      <td>PAINT AND ACCESSORIES</td>\n",
       "      <td>4415.0</td>\n",
       "    </tr>\n",
       "    <tr>\n",
       "      <td>23</td>\n",
       "      <td>26</td>\n",
       "      <td>8</td>\n",
       "      <td>Friday</td>\n",
       "      <td>5.114198e+09</td>\n",
       "      <td>1</td>\n",
       "      <td>PAINT AND ACCESSORIES</td>\n",
       "      <td>4415.0</td>\n",
       "    </tr>\n",
       "    <tr>\n",
       "      <td>24</td>\n",
       "      <td>26</td>\n",
       "      <td>8</td>\n",
       "      <td>Friday</td>\n",
       "      <td>3.270011e+09</td>\n",
       "      <td>3</td>\n",
       "      <td>PETS AND SUPPLIES</td>\n",
       "      <td>1001.0</td>\n",
       "    </tr>\n",
       "    <tr>\n",
       "      <td>25</td>\n",
       "      <td>26</td>\n",
       "      <td>8</td>\n",
       "      <td>Friday</td>\n",
       "      <td>NaN</td>\n",
       "      <td>1</td>\n",
       "      <td>None</td>\n",
       "      <td>NaN</td>\n",
       "    </tr>\n",
       "  </tbody>\n",
       "</table>\n",
       "</div>"
      ],
      "text/plain": [
       "    TripType  VisitNumber Weekday           Upc  ScanCount  \\\n",
       "3         26            8  Friday  2.238404e+09          2   \n",
       "4         26            8  Friday  2.006614e+09          2   \n",
       "5         26            8  Friday  2.006619e+09          2   \n",
       "6         26            8  Friday  2.006614e+09          1   \n",
       "7         26            8  Friday  7.004803e+09          1   \n",
       "8         26            8  Friday  2.238495e+09          1   \n",
       "9         26            8  Friday  2.238400e+09         -1   \n",
       "10        26            8  Friday  5.200010e+09          1   \n",
       "11        26            8  Friday  8.867930e+10          2   \n",
       "12        26            8  Friday  2.200600e+10          1   \n",
       "13        26            8  Friday  2.236760e+09          1   \n",
       "14        26            8  Friday  8.867930e+10         -1   \n",
       "15        26            8  Friday  2.238400e+09          2   \n",
       "16        26            8  Friday  3.019294e+09          1   \n",
       "17        26            8  Friday  7.245041e+10          1   \n",
       "18        26            8  Friday  2.554150e+10          2   \n",
       "19        26            8  Friday  2.310011e+09          1   \n",
       "20        26            8  Friday  7.245040e+10          2   \n",
       "21        26            8  Friday  7.874205e+09          1   \n",
       "22        26            8  Friday  5.114139e+09          1   \n",
       "23        26            8  Friday  5.114198e+09          1   \n",
       "24        26            8  Friday  3.270011e+09          3   \n",
       "25        26            8  Friday           NaN          1   \n",
       "\n",
       "       DepartmentDescription  FinelineNumber  \n",
       "3      PAINT AND ACCESSORIES          3565.0  \n",
       "4      PAINT AND ACCESSORIES          1017.0  \n",
       "5      PAINT AND ACCESSORIES          1017.0  \n",
       "6      PAINT AND ACCESSORIES          1017.0  \n",
       "7      PAINT AND ACCESSORIES          2802.0  \n",
       "8      PAINT AND ACCESSORIES          4501.0  \n",
       "9      PAINT AND ACCESSORIES          3565.0  \n",
       "10               DSD GROCERY          4606.0  \n",
       "11     PAINT AND ACCESSORIES          3504.0  \n",
       "12     MEAT - FRESH & FROZEN          6009.0  \n",
       "13     PAINT AND ACCESSORIES             7.0  \n",
       "14     PAINT AND ACCESSORIES          3504.0  \n",
       "15     PAINT AND ACCESSORIES          3565.0  \n",
       "16     PAINT AND ACCESSORIES          2801.0  \n",
       "17     PAINT AND ACCESSORIES          1028.0  \n",
       "18                     DAIRY          1305.0  \n",
       "19         PETS AND SUPPLIES          3300.0  \n",
       "20     PAINT AND ACCESSORIES          1018.0  \n",
       "21  HOUSEHOLD CHEMICALS/SUPP           707.0  \n",
       "22     PAINT AND ACCESSORIES          4415.0  \n",
       "23     PAINT AND ACCESSORIES          4415.0  \n",
       "24         PETS AND SUPPLIES          1001.0  \n",
       "25                      None             NaN  "
      ]
     },
     "execution_count": 12,
     "metadata": {},
     "output_type": "execute_result"
    }
   ],
   "source": [
    "df_train[df_train['VisitNumber']==8]"
   ]
  },
  {
   "cell_type": "markdown",
   "metadata": {},
   "source": [
    "Aha! we can immediately see what causes the discrepancy. We have NaNs in Upc and FinelineNumber. In other words, there are items that weren't classified correctly. Let's see how much of a problem this is."
   ]
  },
  {
   "cell_type": "code",
   "execution_count": 13,
   "metadata": {},
   "outputs": [
    {
     "name": "stdout",
     "output_type": "stream",
     "text": [
      "3362\n",
      "3362\n",
      "1139\n",
      "0\n"
     ]
    }
   ],
   "source": [
    "print(df_train['Upc'].isnull().sum(axis=0))\n",
    "print(df_train['FinelineNumber'].isnull().sum(axis=0))\n",
    "print(df_train['DepartmentDescription'].isnull().sum(axis=0))\n",
    "print(df_train[df_train['DepartmentDescription']==None].shape[0])"
   ]
  },
  {
   "cell_type": "code",
   "execution_count": 14,
   "metadata": {},
   "outputs": [
    {
     "data": {
      "text/plain": [
       "True"
      ]
     },
     "execution_count": 14,
     "metadata": {},
     "output_type": "execute_result"
    }
   ],
   "source": [
    "pd.isnull(df_train['DepartmentDescription'].loc[25])"
   ]
  },
  {
   "cell_type": "code",
   "execution_count": 15,
   "metadata": {},
   "outputs": [
    {
     "data": {
      "text/plain": [
       "0           FINANCIAL SERVICES\n",
       "1                        SHOES\n",
       "2                PERSONAL CARE\n",
       "3        PAINT AND ACCESSORIES\n",
       "4        PAINT AND ACCESSORIES\n",
       "5        PAINT AND ACCESSORIES\n",
       "6        PAINT AND ACCESSORIES\n",
       "7        PAINT AND ACCESSORIES\n",
       "8        PAINT AND ACCESSORIES\n",
       "9        PAINT AND ACCESSORIES\n",
       "10                 DSD GROCERY\n",
       "11       PAINT AND ACCESSORIES\n",
       "12       MEAT - FRESH & FROZEN\n",
       "13       PAINT AND ACCESSORIES\n",
       "14       PAINT AND ACCESSORIES\n",
       "15       PAINT AND ACCESSORIES\n",
       "16       PAINT AND ACCESSORIES\n",
       "17       PAINT AND ACCESSORIES\n",
       "18                       DAIRY\n",
       "19           PETS AND SUPPLIES\n",
       "20       PAINT AND ACCESSORIES\n",
       "21    HOUSEHOLD CHEMICALS/SUPP\n",
       "22       PAINT AND ACCESSORIES\n",
       "23       PAINT AND ACCESSORIES\n",
       "24           PETS AND SUPPLIES\n",
       "25                          10\n",
       "26         IMPULSE MERCHANDISE\n",
       "27                     PRODUCE\n",
       "28                     PRODUCE\n",
       "29                 DSD GROCERY\n",
       "Name: DepartmentDescription, dtype: object"
      ]
     },
     "execution_count": 15,
     "metadata": {},
     "output_type": "execute_result"
    }
   ],
   "source": [
    "#Understanding if \"None\" is same as na (it is - see documentation for pd.isnull)\n",
    "df_train['DepartmentDescription'].head(30).fillna(10)"
   ]
  },
  {
   "cell_type": "markdown",
   "metadata": {},
   "source": [
    "We'll fill nulls with the value 0 (for convenience). Let's ensure none of the existing columns have 0s so we don't merge value = 0 with null values"
   ]
  },
  {
   "cell_type": "code",
   "execution_count": 16,
   "metadata": {},
   "outputs": [
    {
     "name": "stdout",
     "output_type": "stream",
     "text": [
      "False\n",
      "True\n",
      "False\n"
     ]
    }
   ],
   "source": [
    "print(0 in df_train['Upc'].unique())\n",
    "print(0 in df_train['FinelineNumber'].unique())\n",
    "print(0 in df_train['DepartmentDescription'].unique())"
   ]
  },
  {
   "cell_type": "code",
   "execution_count": 17,
   "metadata": {},
   "outputs": [
    {
     "data": {
      "text/html": [
       "<div>\n",
       "<style scoped>\n",
       "    .dataframe tbody tr th:only-of-type {\n",
       "        vertical-align: middle;\n",
       "    }\n",
       "\n",
       "    .dataframe tbody tr th {\n",
       "        vertical-align: top;\n",
       "    }\n",
       "\n",
       "    .dataframe thead th {\n",
       "        text-align: right;\n",
       "    }\n",
       "</style>\n",
       "<table border=\"1\" class=\"dataframe\">\n",
       "  <thead>\n",
       "    <tr style=\"text-align: right;\">\n",
       "      <th></th>\n",
       "      <th>TripType</th>\n",
       "      <th>VisitNumber</th>\n",
       "      <th>Weekday</th>\n",
       "      <th>Upc</th>\n",
       "      <th>ScanCount</th>\n",
       "      <th>DepartmentDescription</th>\n",
       "      <th>FinelineNumber</th>\n",
       "    </tr>\n",
       "  </thead>\n",
       "  <tbody>\n",
       "    <tr>\n",
       "      <td>2082</td>\n",
       "      <td>999</td>\n",
       "      <td>914</td>\n",
       "      <td>Friday</td>\n",
       "      <td>6.053882e+10</td>\n",
       "      <td>1</td>\n",
       "      <td>OTHER DEPARTMENTS</td>\n",
       "      <td>0.0</td>\n",
       "    </tr>\n",
       "    <tr>\n",
       "      <td>2401</td>\n",
       "      <td>9</td>\n",
       "      <td>1038</td>\n",
       "      <td>Friday</td>\n",
       "      <td>6.053882e+10</td>\n",
       "      <td>1</td>\n",
       "      <td>OTHER DEPARTMENTS</td>\n",
       "      <td>0.0</td>\n",
       "    </tr>\n",
       "    <tr>\n",
       "      <td>3567</td>\n",
       "      <td>999</td>\n",
       "      <td>1415</td>\n",
       "      <td>Friday</td>\n",
       "      <td>6.811317e+10</td>\n",
       "      <td>1</td>\n",
       "      <td>FINANCIAL SERVICES</td>\n",
       "      <td>0.0</td>\n",
       "    </tr>\n",
       "    <tr>\n",
       "      <td>4854</td>\n",
       "      <td>999</td>\n",
       "      <td>1840</td>\n",
       "      <td>Friday</td>\n",
       "      <td>6.811313e+10</td>\n",
       "      <td>1</td>\n",
       "      <td>FINANCIAL SERVICES</td>\n",
       "      <td>0.0</td>\n",
       "    </tr>\n",
       "    <tr>\n",
       "      <td>5369</td>\n",
       "      <td>999</td>\n",
       "      <td>2004</td>\n",
       "      <td>Friday</td>\n",
       "      <td>6.811313e+10</td>\n",
       "      <td>1</td>\n",
       "      <td>FINANCIAL SERVICES</td>\n",
       "      <td>0.0</td>\n",
       "    </tr>\n",
       "  </tbody>\n",
       "</table>\n",
       "</div>"
      ],
      "text/plain": [
       "      TripType  VisitNumber Weekday           Upc  ScanCount  \\\n",
       "2082       999          914  Friday  6.053882e+10          1   \n",
       "2401         9         1038  Friday  6.053882e+10          1   \n",
       "3567       999         1415  Friday  6.811317e+10          1   \n",
       "4854       999         1840  Friday  6.811313e+10          1   \n",
       "5369       999         2004  Friday  6.811313e+10          1   \n",
       "\n",
       "     DepartmentDescription  FinelineNumber  \n",
       "2082     OTHER DEPARTMENTS             0.0  \n",
       "2401     OTHER DEPARTMENTS             0.0  \n",
       "3567    FINANCIAL SERVICES             0.0  \n",
       "4854    FINANCIAL SERVICES             0.0  \n",
       "5369    FINANCIAL SERVICES             0.0  "
      ]
     },
     "execution_count": 17,
     "metadata": {},
     "output_type": "execute_result"
    }
   ],
   "source": [
    "df_train[df_train['FinelineNumber']==0].head()"
   ]
  },
  {
   "cell_type": "markdown",
   "metadata": {},
   "source": [
    "Well so we can't use 0 as a stand-in value for null in FinelineNumber. Let's try -1."
   ]
  },
  {
   "cell_type": "code",
   "execution_count": 18,
   "metadata": {},
   "outputs": [
    {
     "name": "stdout",
     "output_type": "stream",
     "text": [
      "False\n",
      "False\n",
      "False\n"
     ]
    }
   ],
   "source": [
    "print(-1 in df_train['Upc'].unique())\n",
    "print(-1 in df_train['FinelineNumber'].unique())\n",
    "print(-1 in df_train['DepartmentDescription'].unique())"
   ]
  },
  {
   "cell_type": "code",
   "execution_count": 19,
   "metadata": {},
   "outputs": [
    {
     "data": {
      "text/plain": [
       "TripType                    0\n",
       "VisitNumber                 0\n",
       "Weekday                     0\n",
       "Upc                      3362\n",
       "ScanCount                   0\n",
       "DepartmentDescription    1139\n",
       "FinelineNumber           3362\n",
       "dtype: int64"
      ]
     },
     "execution_count": 19,
     "metadata": {},
     "output_type": "execute_result"
    }
   ],
   "source": [
    "#ensure no other columns have null values\n",
    "df_train.isnull().sum(axis=0)"
   ]
  },
  {
   "cell_type": "code",
   "execution_count": 20,
   "metadata": {},
   "outputs": [],
   "source": [
    "df_train['Upc'].fillna(-1, inplace=True)\n",
    "df_train['DepartmentDescription'].fillna(\"-1\", inplace=True)\n",
    "df_train['FinelineNumber'].fillna(-1, inplace=True)\n",
    "\n",
    "df_val['Upc'].fillna(-1, inplace=True)\n",
    "df_val['DepartmentDescription'].fillna(\"-1\", inplace=True)\n",
    "df_val['FinelineNumber'].fillna(-1, inplace=True)\n",
    "\n",
    "df_test['Upc'].fillna(-1, inplace=True)\n",
    "df_test['DepartmentDescription'].fillna(\"-1\", inplace=True)\n",
    "df_test['FinelineNumber'].fillna(-1, inplace=True)\n",
    "\n",
    "#df_train.fillna(-1, inplace=True)\n",
    "#df_val.fillna(-1, inplace=True)\n",
    "#df_test.fillna(-1, inplace=True)"
   ]
  },
  {
   "cell_type": "code",
   "execution_count": 21,
   "metadata": {},
   "outputs": [
    {
     "data": {
      "text/plain": [
       "TripType                 0\n",
       "VisitNumber              0\n",
       "Weekday                  0\n",
       "Upc                      0\n",
       "ScanCount                0\n",
       "DepartmentDescription    0\n",
       "FinelineNumber           0\n",
       "dtype: int64"
      ]
     },
     "execution_count": 21,
     "metadata": {},
     "output_type": "execute_result"
    }
   ],
   "source": [
    "#ensure no other columns have null values\n",
    "df_train.isnull().sum(axis=0)"
   ]
  },
  {
   "cell_type": "markdown",
   "metadata": {},
   "source": [
    "Try constructing the pivot table again. Does our test pass?"
   ]
  },
  {
   "cell_type": "code",
   "execution_count": 22,
   "metadata": {},
   "outputs": [],
   "source": [
    "df_train_f1 = pd.pivot_table(df_train, \n",
    "                             index='VisitNumber', \n",
    "                             columns='DepartmentDescription', \n",
    "                             values='ScanCount', \n",
    "                             aggfunc='sum').fillna(0)\n",
    "\n",
    "df_val_f1 = pd.pivot_table(df_val, \n",
    "                           index='VisitNumber', \n",
    "                           columns='DepartmentDescription', \n",
    "                           values='ScanCount', \n",
    "                           aggfunc='sum').fillna(0)\n",
    "\n",
    "df_test_f1 = pd.pivot_table(df_test,\n",
    "                            index='VisitNumber',\n",
    "                            columns='DepartmentDescription', \n",
    "                            values='ScanCount', \n",
    "                            aggfunc='sum').fillna(0)"
   ]
  },
  {
   "cell_type": "code",
   "execution_count": 23,
   "metadata": {},
   "outputs": [
    {
     "data": {
      "text/plain": [
       "0.0"
      ]
     },
     "execution_count": 23,
     "metadata": {},
     "output_type": "execute_result"
    }
   ],
   "source": [
    "(df_train_f1.sum(axis=1) - df_train.groupby('VisitNumber').agg({'ScanCount': np.sum})['ScanCount']).sum()"
   ]
  },
  {
   "cell_type": "markdown",
   "metadata": {},
   "source": [
    "Perfect!! The counts agree completely between the pivot table and the group by. We only caught this bug because pd.pivot_table was dropping the null columns (DepartmentDescription is null) while the group by was only looking at VisitNumbers and not dropping any rows. It's generally a good idea to check for nulls after reading in the data."
   ]
  },
  {
   "cell_type": "markdown",
   "metadata": {},
   "source": [
    "**Question**: Can you foresee something else that can go wrong here? (Hint: look at the dimensions of each dataframe)"
   ]
  },
  {
   "cell_type": "code",
   "execution_count": 24,
   "metadata": {},
   "outputs": [
    {
     "name": "stdout",
     "output_type": "stream",
     "text": [
      "(76539, 68)\n",
      "(9567, 69)\n",
      "(9568, 69)\n"
     ]
    }
   ],
   "source": [
    "print(df_train_f1.shape)\n",
    "print(df_val_f1.shape)\n",
    "print(df_test_f1.shape)"
   ]
  },
  {
   "cell_type": "markdown",
   "metadata": {},
   "source": [
    "There's a missing column in df_train even though it has 80% of the rows! In other words, there's a department that's in val and test but not in train. Let's check this."
   ]
  },
  {
   "cell_type": "code",
   "execution_count": 25,
   "metadata": {},
   "outputs": [
    {
     "data": {
      "text/plain": [
       "{'HEALTH AND BEAUTY AIDS'}"
      ]
     },
     "execution_count": 25,
     "metadata": {},
     "output_type": "execute_result"
    }
   ],
   "source": [
    "set(df_train_f1.columns).symmetric_difference(df_val_f1.columns)"
   ]
  },
  {
   "cell_type": "code",
   "execution_count": 26,
   "metadata": {},
   "outputs": [
    {
     "data": {
      "text/plain": [
       "{'HEALTH AND BEAUTY AIDS'}"
      ]
     },
     "execution_count": 26,
     "metadata": {},
     "output_type": "execute_result"
    }
   ],
   "source": [
    "set(df_train_f1.columns).symmetric_difference(df_test_f1.columns)"
   ]
  },
  {
   "cell_type": "code",
   "execution_count": 27,
   "metadata": {},
   "outputs": [
    {
     "data": {
      "text/plain": [
       "set()"
      ]
     },
     "execution_count": 27,
     "metadata": {},
     "output_type": "execute_result"
    }
   ],
   "source": [
    "set(df_val_f1.columns).symmetric_difference(df_test_f1.columns)"
   ]
  },
  {
   "cell_type": "markdown",
   "metadata": {},
   "source": [
    "There's a department \"HEALTH AND BEAUTY AIDS\" that exists in the val and test datasets but not in the train dataset. Let's look at how many rows are covered by this department."
   ]
  },
  {
   "cell_type": "code",
   "execution_count": 28,
   "metadata": {},
   "outputs": [
    {
     "data": {
      "text/html": [
       "<div>\n",
       "<style scoped>\n",
       "    .dataframe tbody tr th:only-of-type {\n",
       "        vertical-align: middle;\n",
       "    }\n",
       "\n",
       "    .dataframe tbody tr th {\n",
       "        vertical-align: top;\n",
       "    }\n",
       "\n",
       "    .dataframe thead th {\n",
       "        text-align: right;\n",
       "    }\n",
       "</style>\n",
       "<table border=\"1\" class=\"dataframe\">\n",
       "  <thead>\n",
       "    <tr style=\"text-align: right;\">\n",
       "      <th></th>\n",
       "      <th>TripType</th>\n",
       "      <th>VisitNumber</th>\n",
       "      <th>Weekday</th>\n",
       "      <th>Upc</th>\n",
       "      <th>ScanCount</th>\n",
       "      <th>DepartmentDescription</th>\n",
       "      <th>FinelineNumber</th>\n",
       "    </tr>\n",
       "  </thead>\n",
       "  <tbody>\n",
       "    <tr>\n",
       "      <td>35945</td>\n",
       "      <td>36</td>\n",
       "      <td>164059</td>\n",
       "      <td>Wednesday</td>\n",
       "      <td>3.607344e+11</td>\n",
       "      <td>1</td>\n",
       "      <td>HEALTH AND BEAUTY AIDS</td>\n",
       "      <td>2250.0</td>\n",
       "    </tr>\n",
       "  </tbody>\n",
       "</table>\n",
       "</div>"
      ],
      "text/plain": [
       "       TripType  VisitNumber    Weekday           Upc  ScanCount  \\\n",
       "35945        36       164059  Wednesday  3.607344e+11          1   \n",
       "\n",
       "        DepartmentDescription  FinelineNumber  \n",
       "35945  HEALTH AND BEAUTY AIDS          2250.0  "
      ]
     },
     "execution_count": 28,
     "metadata": {},
     "output_type": "execute_result"
    }
   ],
   "source": [
    "df_val[df_val['DepartmentDescription']=='HEALTH AND BEAUTY AIDS']"
   ]
  },
  {
   "cell_type": "code",
   "execution_count": 29,
   "metadata": {},
   "outputs": [
    {
     "data": {
      "text/html": [
       "<div>\n",
       "<style scoped>\n",
       "    .dataframe tbody tr th:only-of-type {\n",
       "        vertical-align: middle;\n",
       "    }\n",
       "\n",
       "    .dataframe tbody tr th {\n",
       "        vertical-align: top;\n",
       "    }\n",
       "\n",
       "    .dataframe thead th {\n",
       "        text-align: right;\n",
       "    }\n",
       "</style>\n",
       "<table border=\"1\" class=\"dataframe\">\n",
       "  <thead>\n",
       "    <tr style=\"text-align: right;\">\n",
       "      <th></th>\n",
       "      <th>TripType</th>\n",
       "      <th>VisitNumber</th>\n",
       "      <th>Weekday</th>\n",
       "      <th>Upc</th>\n",
       "      <th>ScanCount</th>\n",
       "      <th>DepartmentDescription</th>\n",
       "      <th>FinelineNumber</th>\n",
       "    </tr>\n",
       "  </thead>\n",
       "  <tbody>\n",
       "    <tr>\n",
       "      <td>34564</td>\n",
       "      <td>999</td>\n",
       "      <td>182398</td>\n",
       "      <td>Saturday</td>\n",
       "      <td>3.099723e+10</td>\n",
       "      <td>-1</td>\n",
       "      <td>HEALTH AND BEAUTY AIDS</td>\n",
       "      <td>3501.0</td>\n",
       "    </tr>\n",
       "  </tbody>\n",
       "</table>\n",
       "</div>"
      ],
      "text/plain": [
       "       TripType  VisitNumber   Weekday           Upc  ScanCount  \\\n",
       "34564       999       182398  Saturday  3.099723e+10         -1   \n",
       "\n",
       "        DepartmentDescription  FinelineNumber  \n",
       "34564  HEALTH AND BEAUTY AIDS          3501.0  "
      ]
     },
     "execution_count": 29,
     "metadata": {},
     "output_type": "execute_result"
    }
   ],
   "source": [
    "df_test[df_test['DepartmentDescription']=='HEALTH AND BEAUTY AIDS']"
   ]
  },
  {
   "cell_type": "markdown",
   "metadata": {},
   "source": [
    "So there are exactly two rows with this department! Let's look at the each visit and see what else happened in those visits."
   ]
  },
  {
   "cell_type": "code",
   "execution_count": 30,
   "metadata": {},
   "outputs": [
    {
     "data": {
      "text/html": [
       "<div>\n",
       "<style scoped>\n",
       "    .dataframe tbody tr th:only-of-type {\n",
       "        vertical-align: middle;\n",
       "    }\n",
       "\n",
       "    .dataframe tbody tr th {\n",
       "        vertical-align: top;\n",
       "    }\n",
       "\n",
       "    .dataframe thead th {\n",
       "        text-align: right;\n",
       "    }\n",
       "</style>\n",
       "<table border=\"1\" class=\"dataframe\">\n",
       "  <thead>\n",
       "    <tr style=\"text-align: right;\">\n",
       "      <th></th>\n",
       "      <th>TripType</th>\n",
       "      <th>VisitNumber</th>\n",
       "      <th>Weekday</th>\n",
       "      <th>Upc</th>\n",
       "      <th>ScanCount</th>\n",
       "      <th>DepartmentDescription</th>\n",
       "      <th>FinelineNumber</th>\n",
       "    </tr>\n",
       "  </thead>\n",
       "  <tbody>\n",
       "    <tr>\n",
       "      <td>35944</td>\n",
       "      <td>36</td>\n",
       "      <td>164059</td>\n",
       "      <td>Wednesday</td>\n",
       "      <td>7.797509e+09</td>\n",
       "      <td>1</td>\n",
       "      <td>IMPULSE MERCHANDISE</td>\n",
       "      <td>808.0</td>\n",
       "    </tr>\n",
       "    <tr>\n",
       "      <td>35945</td>\n",
       "      <td>36</td>\n",
       "      <td>164059</td>\n",
       "      <td>Wednesday</td>\n",
       "      <td>3.607344e+11</td>\n",
       "      <td>1</td>\n",
       "      <td>HEALTH AND BEAUTY AIDS</td>\n",
       "      <td>2250.0</td>\n",
       "    </tr>\n",
       "    <tr>\n",
       "      <td>35946</td>\n",
       "      <td>36</td>\n",
       "      <td>164059</td>\n",
       "      <td>Wednesday</td>\n",
       "      <td>8.680011e+09</td>\n",
       "      <td>1</td>\n",
       "      <td>BEAUTY</td>\n",
       "      <td>6124.0</td>\n",
       "    </tr>\n",
       "    <tr>\n",
       "      <td>35947</td>\n",
       "      <td>36</td>\n",
       "      <td>164059</td>\n",
       "      <td>Wednesday</td>\n",
       "      <td>7.153398e+10</td>\n",
       "      <td>2</td>\n",
       "      <td>HORTICULTURE AND ACCESS</td>\n",
       "      <td>8800.0</td>\n",
       "    </tr>\n",
       "    <tr>\n",
       "      <td>35948</td>\n",
       "      <td>36</td>\n",
       "      <td>164059</td>\n",
       "      <td>Wednesday</td>\n",
       "      <td>7.830001e+09</td>\n",
       "      <td>1</td>\n",
       "      <td>PHARMACY OTC</td>\n",
       "      <td>277.0</td>\n",
       "    </tr>\n",
       "    <tr>\n",
       "      <td>35949</td>\n",
       "      <td>36</td>\n",
       "      <td>164059</td>\n",
       "      <td>Wednesday</td>\n",
       "      <td>7.153392e+10</td>\n",
       "      <td>1</td>\n",
       "      <td>HORTICULTURE AND ACCESS</td>\n",
       "      <td>8720.0</td>\n",
       "    </tr>\n",
       "    <tr>\n",
       "      <td>35950</td>\n",
       "      <td>36</td>\n",
       "      <td>164059</td>\n",
       "      <td>Wednesday</td>\n",
       "      <td>2.200001e+09</td>\n",
       "      <td>1</td>\n",
       "      <td>IMPULSE MERCHANDISE</td>\n",
       "      <td>135.0</td>\n",
       "    </tr>\n",
       "  </tbody>\n",
       "</table>\n",
       "</div>"
      ],
      "text/plain": [
       "       TripType  VisitNumber    Weekday           Upc  ScanCount  \\\n",
       "35944        36       164059  Wednesday  7.797509e+09          1   \n",
       "35945        36       164059  Wednesday  3.607344e+11          1   \n",
       "35946        36       164059  Wednesday  8.680011e+09          1   \n",
       "35947        36       164059  Wednesday  7.153398e+10          2   \n",
       "35948        36       164059  Wednesday  7.830001e+09          1   \n",
       "35949        36       164059  Wednesday  7.153392e+10          1   \n",
       "35950        36       164059  Wednesday  2.200001e+09          1   \n",
       "\n",
       "         DepartmentDescription  FinelineNumber  \n",
       "35944      IMPULSE MERCHANDISE           808.0  \n",
       "35945   HEALTH AND BEAUTY AIDS          2250.0  \n",
       "35946                   BEAUTY          6124.0  \n",
       "35947  HORTICULTURE AND ACCESS          8800.0  \n",
       "35948             PHARMACY OTC           277.0  \n",
       "35949  HORTICULTURE AND ACCESS          8720.0  \n",
       "35950      IMPULSE MERCHANDISE           135.0  "
      ]
     },
     "execution_count": 30,
     "metadata": {},
     "output_type": "execute_result"
    }
   ],
   "source": [
    "df_val[df_val['VisitNumber']==164059]"
   ]
  },
  {
   "cell_type": "code",
   "execution_count": 31,
   "metadata": {},
   "outputs": [
    {
     "data": {
      "text/html": [
       "<div>\n",
       "<style scoped>\n",
       "    .dataframe tbody tr th:only-of-type {\n",
       "        vertical-align: middle;\n",
       "    }\n",
       "\n",
       "    .dataframe tbody tr th {\n",
       "        vertical-align: top;\n",
       "    }\n",
       "\n",
       "    .dataframe thead th {\n",
       "        text-align: right;\n",
       "    }\n",
       "</style>\n",
       "<table border=\"1\" class=\"dataframe\">\n",
       "  <thead>\n",
       "    <tr style=\"text-align: right;\">\n",
       "      <th></th>\n",
       "      <th>TripType</th>\n",
       "      <th>VisitNumber</th>\n",
       "      <th>Weekday</th>\n",
       "      <th>Upc</th>\n",
       "      <th>ScanCount</th>\n",
       "      <th>DepartmentDescription</th>\n",
       "      <th>FinelineNumber</th>\n",
       "    </tr>\n",
       "  </thead>\n",
       "  <tbody>\n",
       "    <tr>\n",
       "      <td>34564</td>\n",
       "      <td>999</td>\n",
       "      <td>182398</td>\n",
       "      <td>Saturday</td>\n",
       "      <td>3.099723e+10</td>\n",
       "      <td>-1</td>\n",
       "      <td>HEALTH AND BEAUTY AIDS</td>\n",
       "      <td>3501.0</td>\n",
       "    </tr>\n",
       "    <tr>\n",
       "      <td>34565</td>\n",
       "      <td>999</td>\n",
       "      <td>182398</td>\n",
       "      <td>Saturday</td>\n",
       "      <td>7.160313e+09</td>\n",
       "      <td>-2</td>\n",
       "      <td>BEAUTY</td>\n",
       "      <td>3304.0</td>\n",
       "    </tr>\n",
       "  </tbody>\n",
       "</table>\n",
       "</div>"
      ],
      "text/plain": [
       "       TripType  VisitNumber   Weekday           Upc  ScanCount  \\\n",
       "34564       999       182398  Saturday  3.099723e+10         -1   \n",
       "34565       999       182398  Saturday  7.160313e+09         -2   \n",
       "\n",
       "        DepartmentDescription  FinelineNumber  \n",
       "34564  HEALTH AND BEAUTY AIDS          3501.0  \n",
       "34565                  BEAUTY          3304.0  "
      ]
     },
     "execution_count": 31,
     "metadata": {},
     "output_type": "execute_result"
    }
   ],
   "source": [
    "df_test[df_test['VisitNumber']==182398]"
   ]
  },
  {
   "cell_type": "markdown",
   "metadata": {},
   "source": [
    "The trip from df_test gives us an interesting hint. \"BEAUTY\" and \"HEALTH AND BEAUTY AIDS\" sound very similar. Is it possible that 'BEAUTY' was just renamed in two instances. Let's check all departments with \"BEAUTY\" in them."
   ]
  },
  {
   "cell_type": "code",
   "execution_count": 32,
   "metadata": {},
   "outputs": [],
   "source": [
    "df = pd.read_csv(f'{DATA_PATH}/train.csv')"
   ]
  },
  {
   "cell_type": "code",
   "execution_count": 33,
   "metadata": {},
   "outputs": [
    {
     "data": {
      "text/plain": [
       "['BEAUTY', 'HEALTH AND BEAUTY AIDS']"
      ]
     },
     "execution_count": 33,
     "metadata": {},
     "output_type": "execute_result"
    }
   ],
   "source": [
    "[x for x in df['DepartmentDescription'].fillna(-1).unique() if str(x).lower().find('beauty')>-1]"
   ]
  },
  {
   "cell_type": "markdown",
   "metadata": {},
   "source": [
    "Before we just blindly replace \"HEALTH AND BEAUTY AIDS\" by \"BEAUTY\", we should check the real Kaggle test set and see how often this problem occurs there."
   ]
  },
  {
   "cell_type": "code",
   "execution_count": 34,
   "metadata": {},
   "outputs": [],
   "source": [
    "df_true_test = pd.read_csv(f'{DATA_PATH}/test.csv')"
   ]
  },
  {
   "cell_type": "code",
   "execution_count": 35,
   "metadata": {},
   "outputs": [
    {
     "data": {
      "text/plain": [
       "(0, 6)"
      ]
     },
     "execution_count": 35,
     "metadata": {},
     "output_type": "execute_result"
    }
   ],
   "source": [
    "df_true_test[df_true_test['DepartmentDescription']=='HEALTH AND BEAUTY AIDS'].shape"
   ]
  },
  {
   "cell_type": "markdown",
   "metadata": {},
   "source": [
    "Good news! There's no \"HEALTH AND BEAUTY AIDS\" in the true Kaggle test set so we can just replace \"HEALTH AND BEAUTY AIDS\" -> \"BEAUTY. But this points to another potential problem."
   ]
  },
  {
   "cell_type": "markdown",
   "metadata": {},
   "source": [
    "Our goal is to make predictions on the true Kaggle test. If we use the distribution of number of products bought by department, then it's possible that there are departments in the test set that are not in the train set. In this case, the simplest option is to just drop those products. Of course, if there are many such products, we should look into finding the closest match department in our train set to the unknown department in the true test set."
   ]
  },
  {
   "cell_type": "code",
   "execution_count": 36,
   "metadata": {},
   "outputs": [
    {
     "data": {
      "text/plain": [
       "set()"
      ]
     },
     "execution_count": 36,
     "metadata": {},
     "output_type": "execute_result"
    }
   ],
   "source": [
    "set(df_true_test['DepartmentDescription'].unique()).difference(df['DepartmentDescription'].unique())"
   ]
  },
  {
   "cell_type": "markdown",
   "metadata": {},
   "source": [
    "Beautiful! No need to worry about this problem. Let's go ahead and do the department replacement in val and test."
   ]
  },
  {
   "cell_type": "code",
   "execution_count": 37,
   "metadata": {},
   "outputs": [],
   "source": [
    "df_val.loc[df_val['DepartmentDescription']=='HEALTH AND BEAUTY AIDS', 'DepartmentDescription'] = 'BEAUTY'\n",
    "df_test.loc[df_test['DepartmentDescription']=='HEALTH AND BEAUTY AIDS', 'DepartmentDescription'] = 'BEAUTY'"
   ]
  },
  {
   "cell_type": "code",
   "execution_count": 38,
   "metadata": {},
   "outputs": [],
   "source": [
    "#add a similar row for train in case we ever change our cross-validation strategy\n",
    "df_train.loc[df_train['DepartmentDescription']=='HEALTH AND BEAUTY AIDS', 'DepartmentDescription'] = 'BEAUTY'"
   ]
  },
  {
   "cell_type": "markdown",
   "metadata": {},
   "source": [
    "### Summary:\n",
    "\n",
    "* We used pd.pivot_table to create a dataset where rows are visit numbers and columns are department descriptions. The matrix entries are the total counts of product bought during that trip.\n",
    "\n",
    "* During our test comparing the pivot table to a group by, we uncovered nulls in the product descriptions - Upc, FilelineNumber and DepartmentDescription. We found it safe to replace the nulls by -1.\n",
    "\n",
    "* We also discovered that the train, val and test pivot table had different number of columns because two entries had mislabelled department descriptions.\n",
    "\n",
    "* We ensured that the wrong departments were not present in the \"true\" kaggle test set (test.csv). Then we replaced the two erroneous rows (\"HEALTH AND BEAUTY AIDS\") with the closest department (\"BEAUTY\").\n",
    "\n",
    "* At this stage, we should save df_train, df_val, df_test as a checkpoint"
   ]
  },
  {
   "cell_type": "code",
   "execution_count": 39,
   "metadata": {},
   "outputs": [],
   "source": [
    "df_train.to_feather(f'{DATA_PATH}/df_raw_train_clean.feather')\n",
    "df_val.reset_index(drop=True).to_feather(f'{DATA_PATH}/df_raw_val_clean.feather')\n",
    "df_test.reset_index(drop=True).to_feather(f'{DATA_PATH}/df_raw_test_clean.feather')"
   ]
  },
  {
   "cell_type": "code",
   "execution_count": 40,
   "metadata": {},
   "outputs": [],
   "source": [
    "df_train = pd.read_feather(f'{DATA_PATH}/df_raw_train_clean.feather')\n",
    "df_val = pd.read_feather(f'{DATA_PATH}/df_raw_val_clean.feather')\n",
    "df_test = pd.read_feather(f'{DATA_PATH}/df_raw_test_clean.feather')"
   ]
  },
  {
   "cell_type": "code",
   "execution_count": 41,
   "metadata": {},
   "outputs": [],
   "source": [
    "df_train_f1 = pd.pivot_table(df_train, \n",
    "                             index='VisitNumber', \n",
    "                             columns='DepartmentDescription', \n",
    "                             values='ScanCount', \n",
    "                             aggfunc='sum').fillna(0)\n",
    "\n",
    "df_val_f1 = pd.pivot_table(df_val, \n",
    "                           index='VisitNumber', \n",
    "                           columns='DepartmentDescription', \n",
    "                           values='ScanCount', \n",
    "                           aggfunc='sum').fillna(0)\n",
    "\n",
    "df_test_f1 = pd.pivot_table(df_test,\n",
    "                            index='VisitNumber',\n",
    "                            columns='DepartmentDescription', \n",
    "                            values='ScanCount', \n",
    "                            aggfunc='sum').fillna(0)"
   ]
  },
  {
   "cell_type": "code",
   "execution_count": 42,
   "metadata": {},
   "outputs": [
    {
     "name": "stdout",
     "output_type": "stream",
     "text": [
      "(76539, 68)\n",
      "(9567, 68)\n",
      "(9568, 68)\n"
     ]
    }
   ],
   "source": [
    "print(df_train_f1.shape)\n",
    "print(df_val_f1.shape)\n",
    "print(df_test_f1.shape)"
   ]
  },
  {
   "cell_type": "markdown",
   "metadata": {},
   "source": [
    "**Question**: How many rows do you expect in each of the 3 dataframes? Check that your expectation matches reality."
   ]
  },
  {
   "cell_type": "markdown",
   "metadata": {},
   "source": [
    "df_train_f1 should have one row for each visit number in df_train"
   ]
  },
  {
   "cell_type": "code",
   "execution_count": 43,
   "metadata": {},
   "outputs": [
    {
     "data": {
      "text/plain": [
       "76539"
      ]
     },
     "execution_count": 43,
     "metadata": {},
     "output_type": "execute_result"
    }
   ],
   "source": [
    "len(df_train['VisitNumber'].unique())"
   ]
  },
  {
   "cell_type": "markdown",
   "metadata": {},
   "source": [
    "If you don't have one row per visit number in df_train_f1, it's very likely that you still have some nulls that get dropped by pivot table."
   ]
  },
  {
   "cell_type": "markdown",
   "metadata": {},
   "source": [
    "### Model-building\n",
    "\n",
    "We now have a dataset that is ready for model training. The features are the number of items bought for each department for each visit. The target variable is TripType (which is not yet present in df_train_f1)."
   ]
  },
  {
   "cell_type": "markdown",
   "metadata": {},
   "source": [
    "**Question**: Add TripType to each of df_train_f1, df_val_f1, df_test_f1"
   ]
  },
  {
   "cell_type": "code",
   "execution_count": 44,
   "metadata": {},
   "outputs": [
    {
     "data": {
      "text/html": [
       "<div>\n",
       "<style scoped>\n",
       "    .dataframe tbody tr th:only-of-type {\n",
       "        vertical-align: middle;\n",
       "    }\n",
       "\n",
       "    .dataframe tbody tr th {\n",
       "        vertical-align: top;\n",
       "    }\n",
       "\n",
       "    .dataframe thead th {\n",
       "        text-align: right;\n",
       "    }\n",
       "</style>\n",
       "<table border=\"1\" class=\"dataframe\">\n",
       "  <thead>\n",
       "    <tr style=\"text-align: right;\">\n",
       "      <th></th>\n",
       "      <th>TripType</th>\n",
       "    </tr>\n",
       "    <tr>\n",
       "      <th>VisitNumber</th>\n",
       "      <th></th>\n",
       "    </tr>\n",
       "  </thead>\n",
       "  <tbody>\n",
       "    <tr>\n",
       "      <td>5</td>\n",
       "      <td>999</td>\n",
       "    </tr>\n",
       "    <tr>\n",
       "      <td>7</td>\n",
       "      <td>30</td>\n",
       "    </tr>\n",
       "    <tr>\n",
       "      <td>8</td>\n",
       "      <td>26</td>\n",
       "    </tr>\n",
       "    <tr>\n",
       "      <td>9</td>\n",
       "      <td>8</td>\n",
       "    </tr>\n",
       "    <tr>\n",
       "      <td>10</td>\n",
       "      <td>8</td>\n",
       "    </tr>\n",
       "  </tbody>\n",
       "</table>\n",
       "</div>"
      ],
      "text/plain": [
       "             TripType\n",
       "VisitNumber          \n",
       "5                 999\n",
       "7                  30\n",
       "8                  26\n",
       "9                   8\n",
       "10                  8"
      ]
     },
     "execution_count": 44,
     "metadata": {},
     "output_type": "execute_result"
    }
   ],
   "source": [
    "df_train[['VisitNumber', 'TripType']].drop_duplicates().set_index('VisitNumber').head()"
   ]
  },
  {
   "cell_type": "code",
   "execution_count": 45,
   "metadata": {},
   "outputs": [
    {
     "data": {
      "text/plain": [
       "76539"
      ]
     },
     "execution_count": 45,
     "metadata": {},
     "output_type": "execute_result"
    }
   ],
   "source": [
    "len(df_train['VisitNumber'].unique())"
   ]
  },
  {
   "cell_type": "code",
   "execution_count": 46,
   "metadata": {},
   "outputs": [],
   "source": [
    "df_train_f1 = pd.concat([df_train[['VisitNumber', 'TripType']].drop_duplicates().set_index('VisitNumber'), df_train_f1], axis=1)\n",
    "df_val_f1 = pd.concat([df_val[['VisitNumber', 'TripType']].drop_duplicates().set_index('VisitNumber'), df_val_f1], axis=1)\n",
    "df_test_f1 = pd.concat([df_test[['VisitNumber', 'TripType']].drop_duplicates().set_index('VisitNumber'), df_test_f1], axis=1)"
   ]
  },
  {
   "cell_type": "code",
   "execution_count": 47,
   "metadata": {},
   "outputs": [
    {
     "name": "stdout",
     "output_type": "stream",
     "text": [
      "(76539, 69)\n",
      "(9567, 69)\n",
      "(9568, 69)\n"
     ]
    }
   ],
   "source": [
    "#Ensure shapes didn't change\n",
    "\n",
    "print(df_train_f1.shape)\n",
    "print(df_val_f1.shape)\n",
    "print(df_test_f1.shape)"
   ]
  },
  {
   "cell_type": "code",
   "execution_count": 48,
   "metadata": {},
   "outputs": [
    {
     "data": {
      "text/html": [
       "<div>\n",
       "<style scoped>\n",
       "    .dataframe tbody tr th:only-of-type {\n",
       "        vertical-align: middle;\n",
       "    }\n",
       "\n",
       "    .dataframe tbody tr th {\n",
       "        vertical-align: top;\n",
       "    }\n",
       "\n",
       "    .dataframe thead th {\n",
       "        text-align: right;\n",
       "    }\n",
       "</style>\n",
       "<table border=\"1\" class=\"dataframe\">\n",
       "  <thead>\n",
       "    <tr style=\"text-align: right;\">\n",
       "      <th></th>\n",
       "      <th>TripType</th>\n",
       "      <th>-1</th>\n",
       "      <th>1-HR PHOTO</th>\n",
       "      <th>ACCESSORIES</th>\n",
       "      <th>AUTOMOTIVE</th>\n",
       "      <th>BAKERY</th>\n",
       "      <th>BATH AND SHOWER</th>\n",
       "      <th>BEAUTY</th>\n",
       "      <th>BEDDING</th>\n",
       "      <th>BOOKS AND MAGAZINES</th>\n",
       "      <th>...</th>\n",
       "      <th>SEAFOOD</th>\n",
       "      <th>SEASONAL</th>\n",
       "      <th>SERVICE DELI</th>\n",
       "      <th>SHEER HOSIERY</th>\n",
       "      <th>SHOES</th>\n",
       "      <th>SLEEPWEAR/FOUNDATIONS</th>\n",
       "      <th>SPORTING GOODS</th>\n",
       "      <th>SWIMWEAR/OUTERWEAR</th>\n",
       "      <th>TOYS</th>\n",
       "      <th>WIRELESS</th>\n",
       "    </tr>\n",
       "    <tr>\n",
       "      <th>VisitNumber</th>\n",
       "      <th></th>\n",
       "      <th></th>\n",
       "      <th></th>\n",
       "      <th></th>\n",
       "      <th></th>\n",
       "      <th></th>\n",
       "      <th></th>\n",
       "      <th></th>\n",
       "      <th></th>\n",
       "      <th></th>\n",
       "      <th></th>\n",
       "      <th></th>\n",
       "      <th></th>\n",
       "      <th></th>\n",
       "      <th></th>\n",
       "      <th></th>\n",
       "      <th></th>\n",
       "      <th></th>\n",
       "      <th></th>\n",
       "      <th></th>\n",
       "      <th></th>\n",
       "    </tr>\n",
       "  </thead>\n",
       "  <tbody>\n",
       "    <tr>\n",
       "      <td>5</td>\n",
       "      <td>999</td>\n",
       "      <td>0.0</td>\n",
       "      <td>0.0</td>\n",
       "      <td>0.0</td>\n",
       "      <td>0.0</td>\n",
       "      <td>0.0</td>\n",
       "      <td>0.0</td>\n",
       "      <td>0.0</td>\n",
       "      <td>0.0</td>\n",
       "      <td>0.0</td>\n",
       "      <td>...</td>\n",
       "      <td>0.0</td>\n",
       "      <td>0.0</td>\n",
       "      <td>0.0</td>\n",
       "      <td>0.0</td>\n",
       "      <td>0.0</td>\n",
       "      <td>0.0</td>\n",
       "      <td>0.0</td>\n",
       "      <td>0.0</td>\n",
       "      <td>0.0</td>\n",
       "      <td>0.0</td>\n",
       "    </tr>\n",
       "    <tr>\n",
       "      <td>7</td>\n",
       "      <td>30</td>\n",
       "      <td>0.0</td>\n",
       "      <td>0.0</td>\n",
       "      <td>0.0</td>\n",
       "      <td>0.0</td>\n",
       "      <td>0.0</td>\n",
       "      <td>0.0</td>\n",
       "      <td>0.0</td>\n",
       "      <td>0.0</td>\n",
       "      <td>0.0</td>\n",
       "      <td>...</td>\n",
       "      <td>0.0</td>\n",
       "      <td>0.0</td>\n",
       "      <td>0.0</td>\n",
       "      <td>0.0</td>\n",
       "      <td>1.0</td>\n",
       "      <td>0.0</td>\n",
       "      <td>0.0</td>\n",
       "      <td>0.0</td>\n",
       "      <td>0.0</td>\n",
       "      <td>0.0</td>\n",
       "    </tr>\n",
       "    <tr>\n",
       "      <td>8</td>\n",
       "      <td>26</td>\n",
       "      <td>1.0</td>\n",
       "      <td>0.0</td>\n",
       "      <td>0.0</td>\n",
       "      <td>0.0</td>\n",
       "      <td>0.0</td>\n",
       "      <td>0.0</td>\n",
       "      <td>0.0</td>\n",
       "      <td>0.0</td>\n",
       "      <td>0.0</td>\n",
       "      <td>...</td>\n",
       "      <td>0.0</td>\n",
       "      <td>0.0</td>\n",
       "      <td>0.0</td>\n",
       "      <td>0.0</td>\n",
       "      <td>0.0</td>\n",
       "      <td>0.0</td>\n",
       "      <td>0.0</td>\n",
       "      <td>0.0</td>\n",
       "      <td>0.0</td>\n",
       "      <td>0.0</td>\n",
       "    </tr>\n",
       "    <tr>\n",
       "      <td>9</td>\n",
       "      <td>8</td>\n",
       "      <td>0.0</td>\n",
       "      <td>0.0</td>\n",
       "      <td>0.0</td>\n",
       "      <td>0.0</td>\n",
       "      <td>0.0</td>\n",
       "      <td>0.0</td>\n",
       "      <td>0.0</td>\n",
       "      <td>0.0</td>\n",
       "      <td>0.0</td>\n",
       "      <td>...</td>\n",
       "      <td>0.0</td>\n",
       "      <td>0.0</td>\n",
       "      <td>0.0</td>\n",
       "      <td>0.0</td>\n",
       "      <td>0.0</td>\n",
       "      <td>0.0</td>\n",
       "      <td>0.0</td>\n",
       "      <td>0.0</td>\n",
       "      <td>0.0</td>\n",
       "      <td>0.0</td>\n",
       "    </tr>\n",
       "    <tr>\n",
       "      <td>10</td>\n",
       "      <td>8</td>\n",
       "      <td>0.0</td>\n",
       "      <td>0.0</td>\n",
       "      <td>0.0</td>\n",
       "      <td>0.0</td>\n",
       "      <td>0.0</td>\n",
       "      <td>0.0</td>\n",
       "      <td>0.0</td>\n",
       "      <td>0.0</td>\n",
       "      <td>0.0</td>\n",
       "      <td>...</td>\n",
       "      <td>0.0</td>\n",
       "      <td>0.0</td>\n",
       "      <td>0.0</td>\n",
       "      <td>0.0</td>\n",
       "      <td>0.0</td>\n",
       "      <td>0.0</td>\n",
       "      <td>0.0</td>\n",
       "      <td>0.0</td>\n",
       "      <td>0.0</td>\n",
       "      <td>0.0</td>\n",
       "    </tr>\n",
       "  </tbody>\n",
       "</table>\n",
       "<p>5 rows × 69 columns</p>\n",
       "</div>"
      ],
      "text/plain": [
       "             TripType   -1  1-HR PHOTO  ACCESSORIES  AUTOMOTIVE  BAKERY  \\\n",
       "VisitNumber                                                               \n",
       "5                 999  0.0         0.0          0.0         0.0     0.0   \n",
       "7                  30  0.0         0.0          0.0         0.0     0.0   \n",
       "8                  26  1.0         0.0          0.0         0.0     0.0   \n",
       "9                   8  0.0         0.0          0.0         0.0     0.0   \n",
       "10                  8  0.0         0.0          0.0         0.0     0.0   \n",
       "\n",
       "             BATH AND SHOWER  BEAUTY  BEDDING  BOOKS AND MAGAZINES  ...  \\\n",
       "VisitNumber                                                         ...   \n",
       "5                        0.0     0.0      0.0                  0.0  ...   \n",
       "7                        0.0     0.0      0.0                  0.0  ...   \n",
       "8                        0.0     0.0      0.0                  0.0  ...   \n",
       "9                        0.0     0.0      0.0                  0.0  ...   \n",
       "10                       0.0     0.0      0.0                  0.0  ...   \n",
       "\n",
       "             SEAFOOD  SEASONAL  SERVICE DELI  SHEER HOSIERY  SHOES  \\\n",
       "VisitNumber                                                          \n",
       "5                0.0       0.0           0.0            0.0    0.0   \n",
       "7                0.0       0.0           0.0            0.0    1.0   \n",
       "8                0.0       0.0           0.0            0.0    0.0   \n",
       "9                0.0       0.0           0.0            0.0    0.0   \n",
       "10               0.0       0.0           0.0            0.0    0.0   \n",
       "\n",
       "             SLEEPWEAR/FOUNDATIONS  SPORTING GOODS  SWIMWEAR/OUTERWEAR  TOYS  \\\n",
       "VisitNumber                                                                    \n",
       "5                              0.0             0.0                 0.0   0.0   \n",
       "7                              0.0             0.0                 0.0   0.0   \n",
       "8                              0.0             0.0                 0.0   0.0   \n",
       "9                              0.0             0.0                 0.0   0.0   \n",
       "10                             0.0             0.0                 0.0   0.0   \n",
       "\n",
       "             WIRELESS  \n",
       "VisitNumber            \n",
       "5                 0.0  \n",
       "7                 0.0  \n",
       "8                 0.0  \n",
       "9                 0.0  \n",
       "10                0.0  \n",
       "\n",
       "[5 rows x 69 columns]"
      ]
     },
     "execution_count": 48,
     "metadata": {},
     "output_type": "execute_result"
    }
   ],
   "source": [
    "df_train_f1.head()"
   ]
  },
  {
   "cell_type": "markdown",
   "metadata": {},
   "source": [
    "**Question**: It is very important to be paranoid at this stage. Did we assign the correct trip type to each visit number in df_train_f1. Check this."
   ]
  },
  {
   "cell_type": "code",
   "execution_count": 49,
   "metadata": {},
   "outputs": [],
   "source": [
    "df_joined_train = pd.merge(df_train_f1['TripType'].reset_index(), df_train[['VisitNumber', 'TripType']].drop_duplicates(), how=\"outer\", on=\"VisitNumber\")\n",
    "df_joined_val = pd.merge(df_val_f1['TripType'].reset_index(), df_val[['VisitNumber', 'TripType']].drop_duplicates(), how=\"outer\", on=\"VisitNumber\")\n",
    "df_joined_test = pd.merge(df_test_f1['TripType'].reset_index(), df_test[['VisitNumber', 'TripType']].drop_duplicates(), how=\"outer\", on=\"VisitNumber\")"
   ]
  },
  {
   "cell_type": "code",
   "execution_count": 50,
   "metadata": {},
   "outputs": [
    {
     "name": "stdout",
     "output_type": "stream",
     "text": [
      "(76539, 69)\n",
      "(76539, 3)\n"
     ]
    }
   ],
   "source": [
    "print(df_train_f1.shape)\n",
    "print(df_joined_train.shape)"
   ]
  },
  {
   "cell_type": "code",
   "execution_count": 51,
   "metadata": {},
   "outputs": [
    {
     "data": {
      "text/html": [
       "<div>\n",
       "<style scoped>\n",
       "    .dataframe tbody tr th:only-of-type {\n",
       "        vertical-align: middle;\n",
       "    }\n",
       "\n",
       "    .dataframe tbody tr th {\n",
       "        vertical-align: top;\n",
       "    }\n",
       "\n",
       "    .dataframe thead th {\n",
       "        text-align: right;\n",
       "    }\n",
       "</style>\n",
       "<table border=\"1\" class=\"dataframe\">\n",
       "  <thead>\n",
       "    <tr style=\"text-align: right;\">\n",
       "      <th></th>\n",
       "      <th>VisitNumber</th>\n",
       "      <th>TripType_x</th>\n",
       "      <th>TripType_y</th>\n",
       "    </tr>\n",
       "  </thead>\n",
       "  <tbody>\n",
       "    <tr>\n",
       "      <td>0</td>\n",
       "      <td>5</td>\n",
       "      <td>999</td>\n",
       "      <td>999</td>\n",
       "    </tr>\n",
       "    <tr>\n",
       "      <td>1</td>\n",
       "      <td>7</td>\n",
       "      <td>30</td>\n",
       "      <td>30</td>\n",
       "    </tr>\n",
       "    <tr>\n",
       "      <td>2</td>\n",
       "      <td>8</td>\n",
       "      <td>26</td>\n",
       "      <td>26</td>\n",
       "    </tr>\n",
       "    <tr>\n",
       "      <td>3</td>\n",
       "      <td>9</td>\n",
       "      <td>8</td>\n",
       "      <td>8</td>\n",
       "    </tr>\n",
       "    <tr>\n",
       "      <td>4</td>\n",
       "      <td>10</td>\n",
       "      <td>8</td>\n",
       "      <td>8</td>\n",
       "    </tr>\n",
       "  </tbody>\n",
       "</table>\n",
       "</div>"
      ],
      "text/plain": [
       "   VisitNumber  TripType_x  TripType_y\n",
       "0            5         999         999\n",
       "1            7          30          30\n",
       "2            8          26          26\n",
       "3            9           8           8\n",
       "4           10           8           8"
      ]
     },
     "execution_count": 51,
     "metadata": {},
     "output_type": "execute_result"
    }
   ],
   "source": [
    "df_joined_train.head()"
   ]
  },
  {
   "cell_type": "code",
   "execution_count": 52,
   "metadata": {},
   "outputs": [
    {
     "data": {
      "text/plain": [
       "0"
      ]
     },
     "execution_count": 52,
     "metadata": {},
     "output_type": "execute_result"
    }
   ],
   "source": [
    "(df_joined_train['TripType_x']!=df_joined_train['TripType_y']).sum()"
   ]
  },
  {
   "cell_type": "code",
   "execution_count": 53,
   "metadata": {},
   "outputs": [
    {
     "data": {
      "text/plain": [
       "0"
      ]
     },
     "execution_count": 53,
     "metadata": {},
     "output_type": "execute_result"
    }
   ],
   "source": [
    "(df_joined_val['TripType_x']!=df_joined_val['TripType_y']).sum()"
   ]
  },
  {
   "cell_type": "code",
   "execution_count": 54,
   "metadata": {},
   "outputs": [
    {
     "data": {
      "text/plain": [
       "0"
      ]
     },
     "execution_count": 54,
     "metadata": {},
     "output_type": "execute_result"
    }
   ],
   "source": [
    "(df_joined_test['TripType_x']!=df_joined_test['TripType_y']).sum()"
   ]
  },
  {
   "cell_type": "markdown",
   "metadata": {},
   "source": [
    "**Question**: We have a lot of zeros in our data. In other words, the matrix is sparse. Are there columns that we can drop because not many products were bought under the departments? How would you check this?"
   ]
  },
  {
   "cell_type": "code",
   "execution_count": 55,
   "metadata": {},
   "outputs": [
    {
     "name": "stdout",
     "output_type": "stream",
     "text": [
      "SEASONAL                    22.0\n",
      "OTHER DEPARTMENTS           25.0\n",
      "CONCEPT STORES              33.0\n",
      "OPTICAL - LENSES            59.0\n",
      "LARGE HOUSEHOLD GOODS       64.0\n",
      "                          ...   \n",
      "PERSONAL CARE            35668.0\n",
      "DAIRY                    39718.0\n",
      "PRODUCE                  41849.0\n",
      "DSD GROCERY              63922.0\n",
      "GROCERY DRY GOODS        70176.0\n",
      "Length: 68, dtype: float64\n"
     ]
    },
    {
     "data": {
      "text/plain": [
       "[<matplotlib.lines.Line2D at 0x7f56ae3c7dd0>]"
      ]
     },
     "execution_count": 55,
     "metadata": {},
     "output_type": "execute_result"
    },
    {
     "data": {
      "image/png": "[encoded data removed]",
      "text/plain": [
       "<Figure size 432x288 with 1 Axes>"
      ]
     },
     "metadata": {
      "needs_background": "light"
     },
     "output_type": "display_data"
    }
   ],
   "source": [
    "print(df_train_f1.drop('TripType', axis=1).sum(axis=0).sort_values())\n",
    "plt.plot(df_train_f1.drop('TripType', axis=1).sum(axis=0).sort_values())"
   ]
  },
  {
   "cell_type": "markdown",
   "metadata": {},
   "source": [
    "At this point, you could manually do some experiments to see if there are categories (like SEASONAL > 0) where all the TripTypes are the same. In this case, you could (and should) set a manual rule.\n",
    "\n",
    "**Question**: For visits that involved buying seasonal items, what were the TripTypes?"
   ]
  },
  {
   "cell_type": "code",
   "execution_count": 56,
   "metadata": {},
   "outputs": [
    {
     "data": {
      "text/plain": [
       "(21, 69)"
      ]
     },
     "execution_count": 56,
     "metadata": {},
     "output_type": "execute_result"
    }
   ],
   "source": [
    "df_train_f1[df_train_f1['SEASONAL']>0].shape"
   ]
  },
  {
   "cell_type": "code",
   "execution_count": 57,
   "metadata": {},
   "outputs": [
    {
     "data": {
      "text/plain": [
       "22.0"
      ]
     },
     "execution_count": 57,
     "metadata": {},
     "output_type": "execute_result"
    }
   ],
   "source": [
    "df_train_f1['SEASONAL'].sum()"
   ]
  },
  {
   "cell_type": "code",
   "execution_count": 58,
   "metadata": {},
   "outputs": [
    {
     "data": {
      "text/plain": [
       "44    4\n",
       "42    4\n",
       "40    3\n",
       "25    2\n",
       "15    2\n",
       "9     1\n",
       "12    1\n",
       "41    1\n",
       "39    1\n",
       "6     1\n",
       "5     1\n",
       "Name: TripType, dtype: int64"
      ]
     },
     "execution_count": 58,
     "metadata": {},
     "output_type": "execute_result"
    }
   ],
   "source": [
    "df_train_f1[df_train_f1['SEASONAL']>0]['TripType'].value_counts()"
   ]
  },
  {
   "cell_type": "code",
   "execution_count": 59,
   "metadata": {},
   "outputs": [
    {
     "data": {
      "text/plain": [
       "999    19\n",
       "38      3\n",
       "6       1\n",
       "15      1\n",
       "9       1\n",
       "Name: TripType, dtype: int64"
      ]
     },
     "execution_count": 59,
     "metadata": {},
     "output_type": "execute_result"
    }
   ],
   "source": [
    "df_train_f1[df_train_f1['OTHER DEPARTMENTS']>0]['TripType'].value_counts()"
   ]
  },
  {
   "cell_type": "code",
   "execution_count": 60,
   "metadata": {},
   "outputs": [
    {
     "data": {
      "text/plain": [
       "999    27\n",
       "3       2\n",
       "Name: TripType, dtype: int64"
      ]
     },
     "execution_count": 60,
     "metadata": {},
     "output_type": "execute_result"
    }
   ],
   "source": [
    "df_train_f1[df_train_f1['CONCEPT STORES']>0]['TripType'].value_counts()"
   ]
  },
  {
   "cell_type": "markdown",
   "metadata": {},
   "source": [
    "**Question**: Repeat this exercise for each department to see if there's any department which if it is present, results in > 95% of the trip types being of the same type"
   ]
  },
  {
   "cell_type": "code",
   "execution_count": 61,
   "metadata": {},
   "outputs": [
    {
     "data": {
      "text/plain": [
       "29"
      ]
     },
     "execution_count": 61,
     "metadata": {},
     "output_type": "execute_result"
    }
   ],
   "source": [
    "df_train_f1[df_train_f1['CONCEPT STORES']>0]['TripType'].value_counts().sum()"
   ]
  },
  {
   "cell_type": "code",
   "execution_count": 62,
   "metadata": {},
   "outputs": [
    {
     "name": "stdout",
     "output_type": "stream",
     "text": [
      "LARGE HOUSEHOLD GOODS\n",
      "OPTICAL - LENSES\n"
     ]
    }
   ],
   "source": [
    "for col in df_train_f1.drop('TripType', axis=1).columns:\n",
    "    counts = df_train_f1[df_train_f1[col]>0]['TripType'].value_counts()\n",
    "    if counts.iloc[0] / counts.sum() > 0.95:\n",
    "        print(col)"
   ]
  },
  {
   "cell_type": "code",
   "execution_count": 63,
   "metadata": {},
   "outputs": [
    {
     "data": {
      "text/plain": [
       "5    44\n",
       "Name: TripType, dtype: int64"
      ]
     },
     "execution_count": 63,
     "metadata": {},
     "output_type": "execute_result"
    }
   ],
   "source": [
    "df_train_f1[df_train_f1['OPTICAL - LENSES']>0]['TripType'].value_counts()"
   ]
  },
  {
   "cell_type": "code",
   "execution_count": 64,
   "metadata": {},
   "outputs": [
    {
     "data": {
      "text/plain": [
       "3      63\n",
       "999     1\n",
       "Name: TripType, dtype: int64"
      ]
     },
     "execution_count": 64,
     "metadata": {},
     "output_type": "execute_result"
    }
   ],
   "source": [
    "df_train_f1[df_train_f1['LARGE HOUSEHOLD GOODS']>0]['TripType'].value_counts()"
   ]
  },
  {
   "cell_type": "markdown",
   "metadata": {},
   "source": [
    "In this case, one could create a rule that predicts trip type 5 for any trip that had a visit to \"OPTICAL - LENSES\" or \"LARGE HOUSEHOLD GOODS\" except that combined they affect only ~100 visits."
   ]
  },
  {
   "cell_type": "markdown",
   "metadata": {},
   "source": [
    "**Question**: Look at how many distinct number of items were bought for each visit number."
   ]
  },
  {
   "cell_type": "code",
   "execution_count": 65,
   "metadata": {},
   "outputs": [],
   "source": [
    "n_distinct = df.groupby('VisitNumber').count()['TripType']"
   ]
  },
  {
   "cell_type": "code",
   "execution_count": 66,
   "metadata": {},
   "outputs": [
    {
     "name": "stdout",
     "output_type": "stream",
     "text": [
      "[  1   1   1 ... 113 151 209]\n"
     ]
    },
    {
     "data": {
      "text/plain": [
       "[<matplotlib.lines.Line2D at 0x7f56adeb3790>]"
      ]
     },
     "execution_count": 66,
     "metadata": {},
     "output_type": "execute_result"
    },
    {
     "data": {
      "image/png": "[encoded data removed]",
      "text/plain": [
       "<Figure size 432x288 with 1 Axes>"
      ]
     },
     "metadata": {
      "needs_background": "light"
     },
     "output_type": "display_data"
    }
   ],
   "source": [
    "print(np.sort(n_distinct))\n",
    "plt.plot(np.sort(n_distinct))"
   ]
  },
  {
   "cell_type": "markdown",
   "metadata": {},
   "source": [
    "Let's zoom in at both ends of the plot.\n",
    "\n",
    "**Question**: Explore the data at for very low and very high distinct items."
   ]
  },
  {
   "cell_type": "code",
   "execution_count": 67,
   "metadata": {},
   "outputs": [
    {
     "data": {
      "text/html": [
       "<div>\n",
       "<style scoped>\n",
       "    .dataframe tbody tr th:only-of-type {\n",
       "        vertical-align: middle;\n",
       "    }\n",
       "\n",
       "    .dataframe tbody tr th {\n",
       "        vertical-align: top;\n",
       "    }\n",
       "\n",
       "    .dataframe thead th {\n",
       "        text-align: right;\n",
       "    }\n",
       "</style>\n",
       "<table border=\"1\" class=\"dataframe\">\n",
       "  <thead>\n",
       "    <tr style=\"text-align: right;\">\n",
       "      <th></th>\n",
       "      <th>TripType</th>\n",
       "      <th>VisitNumber</th>\n",
       "      <th>Weekday</th>\n",
       "      <th>Upc</th>\n",
       "      <th>ScanCount</th>\n",
       "      <th>DepartmentDescription</th>\n",
       "      <th>FinelineNumber</th>\n",
       "    </tr>\n",
       "  </thead>\n",
       "  <tbody>\n",
       "    <tr>\n",
       "      <td>0</td>\n",
       "      <td>999</td>\n",
       "      <td>5</td>\n",
       "      <td>Friday</td>\n",
       "      <td>6.811315e+10</td>\n",
       "      <td>-1</td>\n",
       "      <td>FINANCIAL SERVICES</td>\n",
       "      <td>1000.0</td>\n",
       "    </tr>\n",
       "    <tr>\n",
       "      <td>88</td>\n",
       "      <td>8</td>\n",
       "      <td>29</td>\n",
       "      <td>Friday</td>\n",
       "      <td>1.200001e+09</td>\n",
       "      <td>1</td>\n",
       "      <td>DSD GROCERY</td>\n",
       "      <td>9205.0</td>\n",
       "    </tr>\n",
       "    <tr>\n",
       "      <td>89</td>\n",
       "      <td>9</td>\n",
       "      <td>30</td>\n",
       "      <td>Friday</td>\n",
       "      <td>9.933894e+09</td>\n",
       "      <td>1</td>\n",
       "      <td>LADIESWEAR</td>\n",
       "      <td>1180.0</td>\n",
       "    </tr>\n",
       "    <tr>\n",
       "      <td>92</td>\n",
       "      <td>8</td>\n",
       "      <td>32</td>\n",
       "      <td>Friday</td>\n",
       "      <td>3.400000e+09</td>\n",
       "      <td>1</td>\n",
       "      <td>IMPULSE MERCHANDISE</td>\n",
       "      <td>100.0</td>\n",
       "    </tr>\n",
       "    <tr>\n",
       "      <td>99</td>\n",
       "      <td>8</td>\n",
       "      <td>42</td>\n",
       "      <td>Friday</td>\n",
       "      <td>4.000049e+09</td>\n",
       "      <td>1</td>\n",
       "      <td>IMPULSE MERCHANDISE</td>\n",
       "      <td>115.0</td>\n",
       "    </tr>\n",
       "  </tbody>\n",
       "</table>\n",
       "</div>"
      ],
      "text/plain": [
       "    TripType  VisitNumber Weekday           Upc  ScanCount  \\\n",
       "0        999            5  Friday  6.811315e+10         -1   \n",
       "88         8           29  Friday  1.200001e+09          1   \n",
       "89         9           30  Friday  9.933894e+09          1   \n",
       "92         8           32  Friday  3.400000e+09          1   \n",
       "99         8           42  Friday  4.000049e+09          1   \n",
       "\n",
       "   DepartmentDescription  FinelineNumber  \n",
       "0     FINANCIAL SERVICES          1000.0  \n",
       "88           DSD GROCERY          9205.0  \n",
       "89            LADIESWEAR          1180.0  \n",
       "92   IMPULSE MERCHANDISE           100.0  \n",
       "99   IMPULSE MERCHANDISE           115.0  "
      ]
     },
     "execution_count": 67,
     "metadata": {},
     "output_type": "execute_result"
    }
   ],
   "source": [
    "df_train[df_train['VisitNumber'].isin(n_distinct[n_distinct==1].index)].head()"
   ]
  },
  {
   "cell_type": "code",
   "execution_count": 68,
   "metadata": {},
   "outputs": [
    {
     "data": {
      "text/plain": [
       "Friday       2720\n",
       "Saturday     2679\n",
       "Sunday       2517\n",
       "Monday       2170\n",
       "Wednesday    1943\n",
       "Tuesday      1869\n",
       "Thursday     1813\n",
       "Name: Weekday, dtype: int64"
      ]
     },
     "execution_count": 68,
     "metadata": {},
     "output_type": "execute_result"
    }
   ],
   "source": [
    "df_train[df_train['VisitNumber'].isin(n_distinct[n_distinct==1].index)]['Weekday'].value_counts()"
   ]
  },
  {
   "cell_type": "code",
   "execution_count": 69,
   "metadata": {},
   "outputs": [
    {
     "data": {
      "text/plain": [
       "FINANCIAL SERVICES     1560\n",
       "DSD GROCERY            1110\n",
       "IMPULSE MERCHANDISE     878\n",
       "PHARMACY OTC            820\n",
       "PHARMACY RX             663\n",
       "                       ... \n",
       "OTHER DEPARTMENTS        18\n",
       "LADIES SOCKS             18\n",
       "SHEER HOSIERY            13\n",
       "OPTICAL - LENSES         12\n",
       "SEAFOOD                  10\n",
       "Name: DepartmentDescription, Length: 66, dtype: int64"
      ]
     },
     "execution_count": 69,
     "metadata": {},
     "output_type": "execute_result"
    }
   ],
   "source": [
    "df_train[df_train['VisitNumber'].isin(n_distinct[n_distinct==1].index)]['DepartmentDescription'].value_counts()"
   ]
  },
  {
   "cell_type": "code",
   "execution_count": 70,
   "metadata": {},
   "outputs": [
    {
     "data": {
      "text/plain": [
       "8      4022\n",
       "9      3639\n",
       "999    3120\n",
       "5      1329\n",
       "7       940\n",
       "3       681\n",
       "6       414\n",
       "22      213\n",
       "32      200\n",
       "24      177\n",
       "4       124\n",
       "31      117\n",
       "30      112\n",
       "19       95\n",
       "27       57\n",
       "23       49\n",
       "35       48\n",
       "28       47\n",
       "26       41\n",
       "15       33\n",
       "29       33\n",
       "18       32\n",
       "39       30\n",
       "20       29\n",
       "36       29\n",
       "21       19\n",
       "34       15\n",
       "33       14\n",
       "25       13\n",
       "37       13\n",
       "38       11\n",
       "42       10\n",
       "12        4\n",
       "41        1\n",
       "Name: TripType, dtype: int64"
      ]
     },
     "execution_count": 70,
     "metadata": {},
     "output_type": "execute_result"
    }
   ],
   "source": [
    "df_train[df_train['VisitNumber'].isin(n_distinct[n_distinct==1].index)]['TripType'].value_counts()"
   ]
  },
  {
   "cell_type": "markdown",
   "metadata": {},
   "source": [
    "**General point**: This kind of manual exploration guided by a series of questions is one way of looking at a dataset. There's a second way that we'll explore on day 3 where a model is built as fast as possible and inspected to identify patterns.\n",
    "\n",
    "Machine learning techniques are not just tools for predicting values but can also be used to deeply understand your data."
   ]
  },
  {
   "cell_type": "code",
   "execution_count": 71,
   "metadata": {},
   "outputs": [
    {
     "data": {
      "text/plain": [
       "Int64Index([72439, 88011], dtype='int64', name='VisitNumber')"
      ]
     },
     "execution_count": 71,
     "metadata": {},
     "output_type": "execute_result"
    }
   ],
   "source": [
    "n_distinct[n_distinct > 150].index"
   ]
  },
  {
   "cell_type": "code",
   "execution_count": 72,
   "metadata": {},
   "outputs": [
    {
     "data": {
      "text/html": [
       "<div>\n",
       "<style scoped>\n",
       "    .dataframe tbody tr th:only-of-type {\n",
       "        vertical-align: middle;\n",
       "    }\n",
       "\n",
       "    .dataframe tbody tr th {\n",
       "        vertical-align: top;\n",
       "    }\n",
       "\n",
       "    .dataframe thead th {\n",
       "        text-align: right;\n",
       "    }\n",
       "</style>\n",
       "<table border=\"1\" class=\"dataframe\">\n",
       "  <thead>\n",
       "    <tr style=\"text-align: right;\">\n",
       "      <th></th>\n",
       "      <th>TripType</th>\n",
       "      <th>VisitNumber</th>\n",
       "      <th>Weekday</th>\n",
       "      <th>Upc</th>\n",
       "      <th>ScanCount</th>\n",
       "      <th>DepartmentDescription</th>\n",
       "      <th>FinelineNumber</th>\n",
       "    </tr>\n",
       "  </thead>\n",
       "  <tbody>\n",
       "    <tr>\n",
       "      <td>244440</td>\n",
       "      <td>24</td>\n",
       "      <td>72439</td>\n",
       "      <td>Tuesday</td>\n",
       "      <td>8.861669e+10</td>\n",
       "      <td>1</td>\n",
       "      <td>BOYS WEAR</td>\n",
       "      <td>1025.0</td>\n",
       "    </tr>\n",
       "    <tr>\n",
       "      <td>244441</td>\n",
       "      <td>24</td>\n",
       "      <td>72439</td>\n",
       "      <td>Tuesday</td>\n",
       "      <td>7.602631e+09</td>\n",
       "      <td>2</td>\n",
       "      <td>COOK AND DINE</td>\n",
       "      <td>2067.0</td>\n",
       "    </tr>\n",
       "    <tr>\n",
       "      <td>244442</td>\n",
       "      <td>24</td>\n",
       "      <td>72439</td>\n",
       "      <td>Tuesday</td>\n",
       "      <td>7.214063e+09</td>\n",
       "      <td>1</td>\n",
       "      <td>PERSONAL CARE</td>\n",
       "      <td>3090.0</td>\n",
       "    </tr>\n",
       "    <tr>\n",
       "      <td>244443</td>\n",
       "      <td>24</td>\n",
       "      <td>72439</td>\n",
       "      <td>Tuesday</td>\n",
       "      <td>4.393559e+09</td>\n",
       "      <td>2</td>\n",
       "      <td>MENS WEAR</td>\n",
       "      <td>5542.0</td>\n",
       "    </tr>\n",
       "    <tr>\n",
       "      <td>244444</td>\n",
       "      <td>24</td>\n",
       "      <td>72439</td>\n",
       "      <td>Tuesday</td>\n",
       "      <td>4.747559e+09</td>\n",
       "      <td>1</td>\n",
       "      <td>CELEBRATION</td>\n",
       "      <td>5507.0</td>\n",
       "    </tr>\n",
       "  </tbody>\n",
       "</table>\n",
       "</div>"
      ],
      "text/plain": [
       "        TripType  VisitNumber  Weekday           Upc  ScanCount  \\\n",
       "244440        24        72439  Tuesday  8.861669e+10          1   \n",
       "244441        24        72439  Tuesday  7.602631e+09          2   \n",
       "244442        24        72439  Tuesday  7.214063e+09          1   \n",
       "244443        24        72439  Tuesday  4.393559e+09          2   \n",
       "244444        24        72439  Tuesday  4.747559e+09          1   \n",
       "\n",
       "       DepartmentDescription  FinelineNumber  \n",
       "244440             BOYS WEAR          1025.0  \n",
       "244441         COOK AND DINE          2067.0  \n",
       "244442         PERSONAL CARE          3090.0  \n",
       "244443             MENS WEAR          5542.0  \n",
       "244444           CELEBRATION          5507.0  "
      ]
     },
     "execution_count": 72,
     "metadata": {},
     "output_type": "execute_result"
    }
   ],
   "source": [
    "df_train[df_train['VisitNumber'].isin(n_distinct[n_distinct > 150].index)].head()\n",
    "#.head() so the whole table doesn't get displayed in github but do take a look at the full table"
   ]
  },
  {
   "cell_type": "markdown",
   "metadata": {},
   "source": [
    "At this stage, we are really ready to just build the model."
   ]
  },
  {
   "cell_type": "code",
   "execution_count": 73,
   "metadata": {},
   "outputs": [],
   "source": [
    "from sklearn.linear_model import LogisticRegression"
   ]
  },
  {
   "cell_type": "code",
   "execution_count": 74,
   "metadata": {},
   "outputs": [
    {
     "name": "stderr",
     "output_type": "stream",
     "text": [
      "/home/sanjay/.local/lib/python3.7/site-packages/sklearn/linear_model/logistic.py:432: FutureWarning: Default solver will be changed to 'lbfgs' in 0.22. Specify a solver to silence this warning.\n",
      "  FutureWarning)\n",
      "/home/sanjay/.local/lib/python3.7/site-packages/sklearn/linear_model/logistic.py:469: FutureWarning: Default multi_class will be changed to 'auto' in 0.22. Specify the multi_class option to silence this warning.\n",
      "  \"this warning.\", FutureWarning)\n"
     ]
    },
    {
     "data": {
      "text/plain": [
       "LogisticRegression(C=1.0, class_weight=None, dual=False, fit_intercept=True,\n",
       "                   intercept_scaling=1, l1_ratio=None, max_iter=100,\n",
       "                   multi_class='warn', n_jobs=None, penalty='l2',\n",
       "                   random_state=None, solver='warn', tol=0.0001, verbose=0,\n",
       "                   warm_start=False)"
      ]
     },
     "execution_count": 74,
     "metadata": {},
     "output_type": "execute_result"
    }
   ],
   "source": [
    "model = LogisticRegression()\n",
    "model.fit(df_train_f1.drop('TripType', axis=1), df_train_f1['TripType'])"
   ]
  },
  {
   "cell_type": "markdown",
   "metadata": {},
   "source": [
    "As a coarse measure, let's look at accuracy = % of examples predicted correctly. We won't look at the test set during this process. It is set aside and should have no influence on our model selection process."
   ]
  },
  {
   "cell_type": "code",
   "execution_count": 75,
   "metadata": {},
   "outputs": [],
   "source": [
    "train_class_pred = model.predict(df_train_f1.drop('TripType', axis=1))\n",
    "val_class_pred = model.predict(df_val_f1.drop('TripType', axis=1))"
   ]
  },
  {
   "cell_type": "code",
   "execution_count": 76,
   "metadata": {},
   "outputs": [
    {
     "data": {
      "text/plain": [
       "array([999,   9,  26,   8,   8,   8,  39,  21,   8,  25])"
      ]
     },
     "execution_count": 76,
     "metadata": {},
     "output_type": "execute_result"
    }
   ],
   "source": [
    "train_class_pred[0:10]"
   ]
  },
  {
   "cell_type": "code",
   "execution_count": 77,
   "metadata": {},
   "outputs": [
    {
     "name": "stdout",
     "output_type": "stream",
     "text": [
      "Train Acc = 0.6136479441853173\n",
      "Val   Acc = 0.6183756663530887\n"
     ]
    }
   ],
   "source": [
    "train_acc = np.sum(train_class_pred==df_train_f1['TripType'].tolist()) / df_train_f1.shape[0]\n",
    "val_acc = np.sum(val_class_pred==df_val_f1['TripType'].tolist()) / df_val_f1.shape[0]\n",
    "\n",
    "print(f\"Train Acc = {train_acc}\")\n",
    "print(f\"Val   Acc = {val_acc}\")"
   ]
  },
  {
   "cell_type": "markdown",
   "metadata": {},
   "source": [
    "**Good news**: The accuracy metrics are very similar across train and validation. This means our model is not overfitting or memorizing the train set. It is (hopefully) possible to increase the accuracy by changing the parameters of the model, using different features, or maybe using a different modeling technique."
   ]
  },
  {
   "cell_type": "markdown",
   "metadata": {},
   "source": [
    "**Evaluating accuracy**: Whenever there's a metric that evaluates a model, one should ask the question - what would the metric be if we had a very simple or dumb model?\n",
    "\n",
    "Let's look at two examples here."
   ]
  },
  {
   "cell_type": "code",
   "execution_count": 78,
   "metadata": {},
   "outputs": [
    {
     "data": {
      "text/plain": [
       "8      9717\n",
       "39     7864\n",
       "9      7643\n",
       "999    6737\n",
       "40     4865\n",
       "7      4558\n",
       "5      3642\n",
       "3      3001\n",
       "25     2979\n",
       "36     2398\n",
       "38     2239\n",
       "37     2185\n",
       "24     2075\n",
       "35     1621\n",
       "32     1562\n",
       "42     1512\n",
       "6      1044\n",
       "33     1017\n",
       "44      969\n",
       "15      870\n",
       "30      868\n",
       "22      752\n",
       "43      740\n",
       "27      702\n",
       "34      532\n",
       "21      510\n",
       "20      510\n",
       "31      470\n",
       "41      469\n",
       "18      441\n",
       "26      411\n",
       "28      392\n",
       "29      351\n",
       "4       300\n",
       "19      296\n",
       "12      192\n",
       "23      101\n",
       "14        4\n",
       "Name: TripType, dtype: int64"
      ]
     },
     "execution_count": 78,
     "metadata": {},
     "output_type": "execute_result"
    }
   ],
   "source": [
    "df_train_f1['TripType'].value_counts()"
   ]
  },
  {
   "cell_type": "markdown",
   "metadata": {},
   "source": [
    "What if we predicted every TripType to be the dominant class - TripType = 8 (with 9717 examples). Then we would get 9717 correct predictions and the rest would be wrong to give an accuracy of:\n",
    "\n",
    "$$\\frac{9717}{76539} \\approx 12.7\\% $$\n",
    "\n",
    "much worse than the 60% we see from our model."
   ]
  },
  {
   "cell_type": "markdown",
   "metadata": {},
   "source": [
    "What if we randomly assigned a trip type to each visit? We have 38 unique labels and it would give us a probability of \n",
    "\n",
    "$$\\frac{1}{38} \\approx 2.6\\%$$\n",
    "\n",
    "guessing the right label. In other words, this would give us an even worse accuracy."
   ]
  },
  {
   "cell_type": "markdown",
   "metadata": {},
   "source": [
    "But, all the trip types should not have the same probability of being guessed since they are unevenly distributed. Let's do a simple simulation for this."
   ]
  },
  {
   "cell_type": "code",
   "execution_count": 79,
   "metadata": {},
   "outputs": [],
   "source": [
    "counts = df_train_f1['TripType'].value_counts()\n",
    "probs_visit = counts.index\n",
    "probs_values = counts.values\n",
    "\n",
    "probs_values = probs_values / np.sum(probs_values)\n",
    "assert(probs_values.sum()==1)"
   ]
  },
  {
   "cell_type": "code",
   "execution_count": 80,
   "metadata": {},
   "outputs": [],
   "source": [
    "random_pred_train = np.random.choice(probs_visit, size=df_train_f1.shape[0], p=probs_values)"
   ]
  },
  {
   "cell_type": "code",
   "execution_count": 81,
   "metadata": {},
   "outputs": [
    {
     "name": "stdout",
     "output_type": "stream",
     "text": [
      "random train acc = 0.062739257110754\n"
     ]
    }
   ],
   "source": [
    "print(f'random train acc = {np.sum(random_pred_train==df_train_f1[\"TripType\"].tolist())/df_train_f1.shape[0]}')"
   ]
  },
  {
   "cell_type": "markdown",
   "metadata": {},
   "source": [
    "So a random strategy would give us an accuracy of ~6.4%. So our model is indeed much better than a silly model."
   ]
  },
  {
   "cell_type": "markdown",
   "metadata": {},
   "source": [
    "Of course, what we really care about is the logarithmic loss below:\n",
    "\n",
    "$$-\\frac{1}{N} \\Sigma_{i=1}^N \\Sigma_{j=1}^M y_{ij} \\log(p_{ij})$$\n",
    "\n",
    "where:\n",
    "\n",
    "$N$ = number of rows\n",
    "\n",
    "$M$ = number of trip types\n",
    "\n",
    "$\n",
    "y_{ij} =\n",
    "\\begin{cases}\n",
    "1,  \\text{ if ith row has trip type j}\\\\\n",
    "0,   \\text{ otherwise} \\\\\n",
    "\\end{cases}$\n",
    "\n",
    "$p_{ij} = \\text{probability of the ith row being of trip-type j}$\n",
    "\n",
    "Note that $y_{ij}$ are labels and $p_{ij}$ are your model's predictions. Also, note that for a fixed row $i$, only one of $y_{ij} = 1$ and the rest are 0. So the contribution of that row to the cost is $-\\log(p_{ij})$. In other words, if the model very confidently predicts the correct class, $p_{ij} \\approx 1 \\implies -\\log(p_{ij}) \\approx 0$ i.e. there's no contribution to the cost. On the other hand, if the model predicts the correct class' probability with very low confidence i.e. $p_{ij}\\approx 0 \\implies -log(p_{ij}) \\approx \\infty$ so we get a very high loss.\n",
    "\n",
    "So even one bad prediction can really throw off your loss function and give a large value.\n",
    "\n",
    "https://www.kaggle.com/c/walmart-recruiting-trip-type-classification/overview/evaluation"
   ]
  },
  {
   "cell_type": "markdown",
   "metadata": {},
   "source": [
    "To evaluate this, we can use an in-built sklearn implementation but we need the probability of a visit to belong to each trip type.\n",
    "\n",
    "**Question**: look at the documentation for sklearn.linear_model.LogisticRegression and see if it exposes the class probabilities for each prediction."
   ]
  },
  {
   "cell_type": "code",
   "execution_count": 123,
   "metadata": {},
   "outputs": [
    {
     "data": {
      "text/plain": [
       "(76539, 38)"
      ]
     },
     "execution_count": 123,
     "metadata": {},
     "output_type": "execute_result"
    }
   ],
   "source": [
    "model.predict_proba(df_train_f1.drop('TripType', axis=1)).shape\n",
    "#one column for each class"
   ]
  },
  {
   "cell_type": "code",
   "execution_count": 124,
   "metadata": {},
   "outputs": [],
   "source": [
    "from sklearn.metrics import log_loss"
   ]
  },
  {
   "cell_type": "code",
   "execution_count": 132,
   "metadata": {},
   "outputs": [
    {
     "data": {
      "text/plain": [
       "array([[2.72278946e-03, 2.03374409e-03, 2.40443069e-03, ...,\n",
       "        6.05622367e-03, 3.11965647e-03, 8.60140275e-06],\n",
       "       [7.07933484e-03, 6.76231457e-03, 2.43139663e-02, ...,\n",
       "        8.14511402e-03, 4.65079313e-03, 1.17789083e-01],\n",
       "       [8.87184297e-07, 1.61540167e-06, 7.00859159e-05, ...,\n",
       "        1.05132502e-03, 5.30001976e-03, 2.14041600e-06],\n",
       "       ...,\n",
       "       [7.07933484e-03, 6.76231457e-03, 2.43139663e-02, ...,\n",
       "        8.14511402e-03, 4.65079313e-03, 1.17789083e-01],\n",
       "       [2.13111534e-03, 4.38457812e-03, 9.18701684e-03, ...,\n",
       "        1.62717825e-02, 8.29148518e-03, 2.15099125e-02],\n",
       "       [5.68210715e-03, 3.44066883e-03, 6.10251129e-03, ...,\n",
       "        1.34562650e-02, 1.12285781e-02, 1.48914724e-02]])"
      ]
     },
     "execution_count": 132,
     "metadata": {},
     "output_type": "execute_result"
    }
   ],
   "source": [
    "model.predict_proba(df_val_f1.drop('TripType', axis=1))"
   ]
  },
  {
   "cell_type": "code",
   "execution_count": 135,
   "metadata": {},
   "outputs": [
    {
     "data": {
      "text/plain": [
       "array([  3,   4,   5,   6,   7,   8,   9,  12,  14,  15,  18,  19,  20,\n",
       "        21,  22,  23,  24,  25,  26,  27,  28,  29,  30,  31,  32,  33,\n",
       "        34,  35,  36,  37,  38,  39,  40,  41,  42,  43,  44, 999])"
      ]
     },
     "execution_count": 135,
     "metadata": {},
     "output_type": "execute_result"
    }
   ],
   "source": [
    "model.classes_"
   ]
  },
  {
   "cell_type": "code",
   "execution_count": 136,
   "metadata": {},
   "outputs": [],
   "source": [
    "train_log_loss = log_loss(df_train_f1['TripType'], model.predict_proba(df_train_f1.drop('TripType', axis=1)), eps=1e-15)\n",
    "val_log_loss = log_loss(df_val_f1['TripType'], model.predict_proba(df_val_f1.drop('TripType', axis=1)), eps=1e-15, labels=model.classes_)"
   ]
  },
  {
   "cell_type": "code",
   "execution_count": 137,
   "metadata": {},
   "outputs": [
    {
     "name": "stdout",
     "output_type": "stream",
     "text": [
      "Train loss = 1.4777506943370753\n",
      "Val   loss = 1.4738018786470404\n"
     ]
    }
   ],
   "source": [
    "print(f'Train loss = {train_log_loss}')\n",
    "print(f'Val   loss = {val_log_loss}')"
   ]
  },
  {
   "cell_type": "markdown",
   "metadata": {},
   "source": [
    "At least we are not overfitting. If we were to trust the validation loss and extrapolate to the public leaderboard - https://www.kaggle.com/c/walmart-recruiting-trip-type-classification/leaderboard\n",
    "\n",
    "we would be at position 559 / 1046. But maybe we don't care about the competition. In terms of accuracy, maybe your business is happy with a ~62.% accuracy. Are there other metrics we can look at to understand what this model is doing?"
   ]
  },
  {
   "cell_type": "markdown",
   "metadata": {},
   "source": [
    "The first quantity we will look at is the confusion matrix. An example will make it clear"
   ]
  },
  {
   "cell_type": "code",
   "execution_count": 139,
   "metadata": {},
   "outputs": [],
   "source": [
    "from sklearn.metrics import confusion_matrix"
   ]
  },
  {
   "cell_type": "code",
   "execution_count": 153,
   "metadata": {},
   "outputs": [
    {
     "name": "stdout",
     "output_type": "stream",
     "text": [
      "[[286   0   1 ...   0   0   0]\n",
      " [  0   0   6 ...   0   0   0]\n",
      " [  1   0 341 ...   0   0   0]\n",
      " ...\n",
      " [  1   0   5 ...   0   0   0]\n",
      " [  0   0   3 ...   0   3   0]\n",
      " [ 62   0   4 ...   0   0 669]]\n"
     ]
    }
   ],
   "source": [
    "cmat = confusion_matrix(df_val_f1['TripType'].tolist(), model.predict(df_val_f1.drop('TripType', axis=1)).tolist())\n",
    "print(cmat)"
   ]
  },
  {
   "cell_type": "markdown",
   "metadata": {},
   "source": [
    "TBD - confusion matrix"
   ]
  },
  {
   "cell_type": "code",
   "execution_count": 160,
   "metadata": {},
   "outputs": [
    {
     "data": {
      "text/plain": [
       "<matplotlib.image.AxesImage at 0x7f5643858910>"
      ]
     },
     "execution_count": 160,
     "metadata": {},
     "output_type": "execute_result"
    },
    {
     "data": {
      "image/png": "[encoded data removed]",
      "text/plain": [
       "<Figure size 432x288 with 1 Axes>"
      ]
     },
     "metadata": {
      "needs_background": "light"
     },
     "output_type": "display_data"
    }
   ],
   "source": [
    "fig, ax = plt.subplots()\n",
    "ax.imshow(cmat)\n",
    "\n",
    "ax.set_xticks(np.arange())\n",
    "ax.set_yticks(np.arange())\n",
    "              \n",
    "ax.set_xticklabels()\n",
    "ax.set_yticklabels()\n",
    "\n"
   ]
  },
  {
   "cell_type": "code",
   "execution_count": 143,
   "metadata": {},
   "outputs": [],
   "source": [
    "confusion_matrix?"
   ]
  },
  {
   "cell_type": "code",
   "execution_count": 145,
   "metadata": {},
   "outputs": [
    {
     "data": {
      "text/plain": [
       "array([[2, 0, 0],\n",
       "       [0, 0, 1],\n",
       "       [1, 0, 2]])"
      ]
     },
     "execution_count": 145,
     "metadata": {},
     "output_type": "execute_result"
    }
   ],
   "source": [
    "y_true = [\"cat\", \"ant\", \"cat\", \"cat\", \"ant\", \"bird\"]\n",
    "y_pred = [\"ant\", \"ant\", \"cat\", \"cat\", \"ant\", \"cat\"]\n",
    "confusion_matrix(y_true, y_pred) #, labels=[\"ant\", \"bird\", \"cat\"])"
   ]
  },
  {
   "cell_type": "markdown",
   "metadata": {},
   "source": [
    "Model introspection - confusion matrix, precision/recall, weights\n",
    "\n",
    "(DONE) Changing loss\n",
    "\n",
    "Various featurizations\n",
    "\n",
    "Example of grid search"
   ]
  },
  {
   "cell_type": "markdown",
   "metadata": {},
   "source": [
    "### Changing the loss used by Logistic Regression"
   ]
  },
  {
   "cell_type": "markdown",
   "metadata": {},
   "source": [
    "At this stage, you should have a reasonable question. Everything we saw about logistic regression referred to the binary classification problem i.e. there were two classes - 0 and 1 and we were trying to classify objects/rows into these two classes. But here we have 38 classes and logistic regression still worked. \n",
    "\n",
    "**Question**: look at the documentation for sklearn.linear_model.LogisticRegression and see if you can discover how the model accounts for multiple classes."
   ]
  },
  {
   "cell_type": "markdown",
   "metadata": {},
   "source": [
    "LogisticRegression takes a parameter called \"multi-class\". By default, it takes the value \"ovr\". (See _check_multi_class in sklearn/linear_model/logistic.py).\n",
    "\n",
    "\"ovr\" (one-vs-rest) turns a problem with N classes into N binary classification problems. More concretely, if the N classes are $1, 2, \\ldots, N$, then N models will be built. The first one will label class 1 as 1 and everything else as 0. The second model will label class 2 as 1 and everything as 0 and so on. Each model will then be called during inference to predict a score. These scores are then normalized (divide by sum of scores).\n",
    "\n",
    "\"multinomial\" solves a fundamentally different problem. It optimizes for the loss that is exactly our loss above. In other words, (TBD)\n",
    "\n",
    "So let's try repeating the procedure above but with \"multinormial\""
   ]
  },
  {
   "cell_type": "code",
   "execution_count": 164,
   "metadata": {},
   "outputs": [
    {
     "name": "stderr",
     "output_type": "stream",
     "text": [
      "/home/sanjay/.local/lib/python3.7/site-packages/sklearn/linear_model/logistic.py:947: ConvergenceWarning: lbfgs failed to converge. Increase the number of iterations.\n",
      "  \"of iterations.\", ConvergenceWarning)\n"
     ]
    },
    {
     "data": {
      "text/plain": [
       "LogisticRegression(C=1.0, class_weight=None, dual=False, fit_intercept=True,\n",
       "                   intercept_scaling=1, l1_ratio=None, max_iter=100,\n",
       "                   multi_class='multinomial', n_jobs=None, penalty='l2',\n",
       "                   random_state=None, solver='lbfgs', tol=0.0001, verbose=0,\n",
       "                   warm_start=False)"
      ]
     },
     "execution_count": 164,
     "metadata": {},
     "output_type": "execute_result"
    }
   ],
   "source": [
    "model = LogisticRegression(multi_class='multinomial', solver='lbfgs')\n",
    "model.fit(df_train_f1.drop('TripType', axis=1), df_train_f1['TripType'])"
   ]
  },
  {
   "cell_type": "code",
   "execution_count": 165,
   "metadata": {},
   "outputs": [],
   "source": [
    "train_class_pred = model.predict(df_train_f1.drop('TripType', axis=1))\n",
    "val_class_pred = model.predict(df_val_f1.drop('TripType', axis=1))"
   ]
  },
  {
   "cell_type": "code",
   "execution_count": 166,
   "metadata": {},
   "outputs": [
    {
     "name": "stdout",
     "output_type": "stream",
     "text": [
      "Train Acc = 0.6626556396085655\n",
      "Val   Acc = 0.668339082261942\n"
     ]
    }
   ],
   "source": [
    "train_acc = np.sum(train_class_pred==df_train_f1['TripType'].tolist()) / df_train_f1.shape[0]\n",
    "val_acc = np.sum(val_class_pred==df_val_f1['TripType'].tolist()) / df_val_f1.shape[0]\n",
    "\n",
    "print(f\"Train Acc = {train_acc}\")\n",
    "print(f\"Val   Acc = {val_acc}\")"
   ]
  },
  {
   "cell_type": "markdown",
   "metadata": {},
   "source": [
    "**Note**: Our accuracy jumped from 61-62% to ~66%. This is a significant improvement just by changing the loss function. In particular, this is a general theme in machine learning. All machine learning problems can be rephrased as numerical optimization problems. What you optimize has a huge impact on performance. There's a translation from business/research-level metrics to a function that is relatively easy to optimize but also captures the salient features of the business/research-level metric."
   ]
  },
  {
   "cell_type": "code",
   "execution_count": 167,
   "metadata": {},
   "outputs": [],
   "source": [
    "train_log_loss = log_loss(df_train_f1['TripType'], model.predict_proba(df_train_f1.drop('TripType', axis=1)), eps=1e-15)\n",
    "val_log_loss = log_loss(df_val_f1['TripType'], model.predict_proba(df_val_f1.drop('TripType', axis=1)), eps=1e-15, labels=model.classes_)"
   ]
  },
  {
   "cell_type": "code",
   "execution_count": 168,
   "metadata": {},
   "outputs": [
    {
     "name": "stdout",
     "output_type": "stream",
     "text": [
      "Train loss = 1.1856265142547768\n",
      "Val   loss = 1.180931437417699\n"
     ]
    }
   ],
   "source": [
    "print(f'Train loss = {train_log_loss}')\n",
    "print(f'Val   loss = {val_log_loss}')"
   ]
  },
  {
   "cell_type": "markdown",
   "metadata": {},
   "source": [
    "As expected, directly optimizing the multinomial loss results in a significantly lower value (compared to ~1.47 earlier with ovr). A pessimistic value of 1.185 would place us at 490 / 1046 on the leaderboard."
   ]
  },
  {
   "cell_type": "markdown",
   "metadata": {},
   "source": [
    "### Changing featurization strategies"
   ]
  },
  {
   "cell_type": "markdown",
   "metadata": {},
   "source": [
    "Til now, we have been using df_train_f1 for model training. Each row represents a trip and we have the counts of various items by department. Let's start tweaking this representation now.\n",
    "\n",
    "The first thing we'll try is the following:\n",
    "\n",
    "* Normalize the distribution - so the entries will now be % of items bought in each department and we'll have a separate column for the total items bought. We'll call this \"f2\"."
   ]
  },
  {
   "cell_type": "code",
   "execution_count": 170,
   "metadata": {},
   "outputs": [
    {
     "data": {
      "text/plain": [
       "TripType                 999.0\n",
       "-1                         0.0\n",
       "1-HR PHOTO                 0.0\n",
       "ACCESSORIES                0.0\n",
       "AUTOMOTIVE                 0.0\n",
       "                         ...  \n",
       "SLEEPWEAR/FOUNDATIONS      0.0\n",
       "SPORTING GOODS             0.0\n",
       "SWIMWEAR/OUTERWEAR         0.0\n",
       "TOYS                       0.0\n",
       "WIRELESS                   0.0\n",
       "Name: 5, Length: 69, dtype: float64"
      ]
     },
     "execution_count": 170,
     "metadata": {},
     "output_type": "execute_result"
    }
   ],
   "source": [
    "df_train_f1.iloc[0]"
   ]
  },
  {
   "cell_type": "code",
   "execution_count": 171,
   "metadata": {},
   "outputs": [
    {
     "data": {
      "text/plain": [
       "Index(['TripType', '-1', '1-HR PHOTO', 'ACCESSORIES', 'AUTOMOTIVE', 'BAKERY',\n",
       "       'BATH AND SHOWER', 'BEAUTY', 'BEDDING', 'BOOKS AND MAGAZINES',\n",
       "       'BOYS WEAR', 'BRAS & SHAPEWEAR', 'CAMERAS AND SUPPLIES',\n",
       "       'CANDY, TOBACCO, COOKIES', 'CELEBRATION', 'COMM BREAD',\n",
       "       'CONCEPT STORES', 'COOK AND DINE', 'DAIRY', 'DSD GROCERY',\n",
       "       'ELECTRONICS', 'FABRICS AND CRAFTS', 'FINANCIAL SERVICES',\n",
       "       'FROZEN FOODS', 'FURNITURE', 'GIRLS WEAR, 4-6X  AND 7-14',\n",
       "       'GROCERY DRY GOODS', 'HARDWARE', 'HOME DECOR', 'HOME MANAGEMENT',\n",
       "       'HORTICULTURE AND ACCESS', 'HOUSEHOLD CHEMICALS/SUPP',\n",
       "       'HOUSEHOLD PAPER GOODS', 'IMPULSE MERCHANDISE', 'INFANT APPAREL',\n",
       "       'INFANT CONSUMABLE HARDLINES', 'JEWELRY AND SUNGLASSES', 'LADIES SOCKS',\n",
       "       'LADIESWEAR', 'LARGE HOUSEHOLD GOODS', 'LAWN AND GARDEN',\n",
       "       'LIQUOR,WINE,BEER', 'MEAT - FRESH & FROZEN', 'MEDIA AND GAMING',\n",
       "       'MENS WEAR', 'MENSWEAR', 'OFFICE SUPPLIES', 'OPTICAL - FRAMES',\n",
       "       'OPTICAL - LENSES', 'OTHER DEPARTMENTS', 'PAINT AND ACCESSORIES',\n",
       "       'PERSONAL CARE', 'PETS AND SUPPLIES', 'PHARMACY OTC', 'PHARMACY RX',\n",
       "       'PLAYERS AND ELECTRONICS', 'PLUS AND MATERNITY', 'PRE PACKED DELI',\n",
       "       'PRODUCE', 'SEAFOOD', 'SEASONAL', 'SERVICE DELI', 'SHEER HOSIERY',\n",
       "       'SHOES', 'SLEEPWEAR/FOUNDATIONS', 'SPORTING GOODS',\n",
       "       'SWIMWEAR/OUTERWEAR', 'TOYS', 'WIRELESS'],\n",
       "      dtype='object')"
      ]
     },
     "execution_count": 171,
     "metadata": {},
     "output_type": "execute_result"
    }
   ],
   "source": [
    "df_train_f1.columns"
   ]
  },
  {
   "cell_type": "code",
   "execution_count": 172,
   "metadata": {},
   "outputs": [],
   "source": [
    "f1_feature_cols = df_train_f1.drop('TripType', axis=1).columns"
   ]
  },
  {
   "cell_type": "code",
   "execution_count": 175,
   "metadata": {},
   "outputs": [
    {
     "data": {
      "text/plain": [
       "set()"
      ]
     },
     "execution_count": 175,
     "metadata": {},
     "output_type": "execute_result"
    }
   ],
   "source": [
    "#check that every entry in f1_feature_cols is actually a department description\n",
    "\n",
    "set(f1_feature_cols).symmetric_difference(df_train['DepartmentDescription'].unique())"
   ]
  },
  {
   "cell_type": "code",
   "execution_count": 183,
   "metadata": {},
   "outputs": [],
   "source": [
    "#get counts\n",
    "total_train_counts = df_train_f1[f1_feature_cols].sum(axis=1)"
   ]
  },
  {
   "cell_type": "code",
   "execution_count": 185,
   "metadata": {},
   "outputs": [],
   "source": [
    "df_train_f2 = df_train_f1[f1_feature_cols].apply(lambda x: x.abs() / x.sum(), axis=1)"
   ]
  },
  {
   "cell_type": "code",
   "execution_count": 186,
   "metadata": {},
   "outputs": [],
   "source": [
    "df_train_f2['TripType'] = df_train_f1['TripType']\n",
    "df_train_f2['TotalCounts'] = total_train_counts"
   ]
  },
  {
   "cell_type": "code",
   "execution_count": 194,
   "metadata": {},
   "outputs": [
    {
     "data": {
      "text/html": [
       "<div>\n",
       "<style scoped>\n",
       "    .dataframe tbody tr th:only-of-type {\n",
       "        vertical-align: middle;\n",
       "    }\n",
       "\n",
       "    .dataframe tbody tr th {\n",
       "        vertical-align: top;\n",
       "    }\n",
       "\n",
       "    .dataframe thead th {\n",
       "        text-align: right;\n",
       "    }\n",
       "</style>\n",
       "<table border=\"1\" class=\"dataframe\">\n",
       "  <thead>\n",
       "    <tr style=\"text-align: right;\">\n",
       "      <th></th>\n",
       "      <th>-1</th>\n",
       "      <th>1-HR PHOTO</th>\n",
       "      <th>ACCESSORIES</th>\n",
       "      <th>AUTOMOTIVE</th>\n",
       "      <th>BAKERY</th>\n",
       "      <th>BATH AND SHOWER</th>\n",
       "      <th>BEAUTY</th>\n",
       "      <th>BEDDING</th>\n",
       "      <th>BOOKS AND MAGAZINES</th>\n",
       "      <th>BOYS WEAR</th>\n",
       "      <th>...</th>\n",
       "      <th>SERVICE DELI</th>\n",
       "      <th>SHEER HOSIERY</th>\n",
       "      <th>SHOES</th>\n",
       "      <th>SLEEPWEAR/FOUNDATIONS</th>\n",
       "      <th>SPORTING GOODS</th>\n",
       "      <th>SWIMWEAR/OUTERWEAR</th>\n",
       "      <th>TOYS</th>\n",
       "      <th>WIRELESS</th>\n",
       "      <th>TripType</th>\n",
       "      <th>TotalCounts</th>\n",
       "    </tr>\n",
       "    <tr>\n",
       "      <th>VisitNumber</th>\n",
       "      <th></th>\n",
       "      <th></th>\n",
       "      <th></th>\n",
       "      <th></th>\n",
       "      <th></th>\n",
       "      <th></th>\n",
       "      <th></th>\n",
       "      <th></th>\n",
       "      <th></th>\n",
       "      <th></th>\n",
       "      <th></th>\n",
       "      <th></th>\n",
       "      <th></th>\n",
       "      <th></th>\n",
       "      <th></th>\n",
       "      <th></th>\n",
       "      <th></th>\n",
       "      <th></th>\n",
       "      <th></th>\n",
       "      <th></th>\n",
       "      <th></th>\n",
       "    </tr>\n",
       "  </thead>\n",
       "  <tbody>\n",
       "    <tr>\n",
       "      <td>5</td>\n",
       "      <td>-0.000000</td>\n",
       "      <td>-0.0</td>\n",
       "      <td>-0.0</td>\n",
       "      <td>-0.0</td>\n",
       "      <td>-0.0</td>\n",
       "      <td>-0.0</td>\n",
       "      <td>-0.0</td>\n",
       "      <td>-0.0</td>\n",
       "      <td>-0.0</td>\n",
       "      <td>-0.0</td>\n",
       "      <td>...</td>\n",
       "      <td>-0.0</td>\n",
       "      <td>-0.0</td>\n",
       "      <td>-0.0</td>\n",
       "      <td>-0.0</td>\n",
       "      <td>-0.0</td>\n",
       "      <td>-0.0</td>\n",
       "      <td>-0.0</td>\n",
       "      <td>-0.0</td>\n",
       "      <td>999</td>\n",
       "      <td>-1.0</td>\n",
       "    </tr>\n",
       "    <tr>\n",
       "      <td>7</td>\n",
       "      <td>0.000000</td>\n",
       "      <td>0.0</td>\n",
       "      <td>0.0</td>\n",
       "      <td>0.0</td>\n",
       "      <td>0.0</td>\n",
       "      <td>0.0</td>\n",
       "      <td>0.0</td>\n",
       "      <td>0.0</td>\n",
       "      <td>0.0</td>\n",
       "      <td>0.0</td>\n",
       "      <td>...</td>\n",
       "      <td>0.0</td>\n",
       "      <td>0.0</td>\n",
       "      <td>0.5</td>\n",
       "      <td>0.0</td>\n",
       "      <td>0.0</td>\n",
       "      <td>0.0</td>\n",
       "      <td>0.0</td>\n",
       "      <td>0.0</td>\n",
       "      <td>30</td>\n",
       "      <td>2.0</td>\n",
       "    </tr>\n",
       "    <tr>\n",
       "      <td>8</td>\n",
       "      <td>0.035714</td>\n",
       "      <td>0.0</td>\n",
       "      <td>0.0</td>\n",
       "      <td>0.0</td>\n",
       "      <td>0.0</td>\n",
       "      <td>0.0</td>\n",
       "      <td>0.0</td>\n",
       "      <td>0.0</td>\n",
       "      <td>0.0</td>\n",
       "      <td>0.0</td>\n",
       "      <td>...</td>\n",
       "      <td>0.0</td>\n",
       "      <td>0.0</td>\n",
       "      <td>0.0</td>\n",
       "      <td>0.0</td>\n",
       "      <td>0.0</td>\n",
       "      <td>0.0</td>\n",
       "      <td>0.0</td>\n",
       "      <td>0.0</td>\n",
       "      <td>26</td>\n",
       "      <td>28.0</td>\n",
       "    </tr>\n",
       "    <tr>\n",
       "      <td>9</td>\n",
       "      <td>0.000000</td>\n",
       "      <td>0.0</td>\n",
       "      <td>0.0</td>\n",
       "      <td>0.0</td>\n",
       "      <td>0.0</td>\n",
       "      <td>0.0</td>\n",
       "      <td>0.0</td>\n",
       "      <td>0.0</td>\n",
       "      <td>0.0</td>\n",
       "      <td>0.0</td>\n",
       "      <td>...</td>\n",
       "      <td>0.0</td>\n",
       "      <td>0.0</td>\n",
       "      <td>0.0</td>\n",
       "      <td>0.0</td>\n",
       "      <td>0.0</td>\n",
       "      <td>0.0</td>\n",
       "      <td>0.0</td>\n",
       "      <td>0.0</td>\n",
       "      <td>8</td>\n",
       "      <td>3.0</td>\n",
       "    </tr>\n",
       "    <tr>\n",
       "      <td>10</td>\n",
       "      <td>0.000000</td>\n",
       "      <td>0.0</td>\n",
       "      <td>0.0</td>\n",
       "      <td>0.0</td>\n",
       "      <td>0.0</td>\n",
       "      <td>0.0</td>\n",
       "      <td>0.0</td>\n",
       "      <td>0.0</td>\n",
       "      <td>0.0</td>\n",
       "      <td>0.0</td>\n",
       "      <td>...</td>\n",
       "      <td>0.0</td>\n",
       "      <td>0.0</td>\n",
       "      <td>0.0</td>\n",
       "      <td>0.0</td>\n",
       "      <td>0.0</td>\n",
       "      <td>0.0</td>\n",
       "      <td>0.0</td>\n",
       "      <td>0.0</td>\n",
       "      <td>8</td>\n",
       "      <td>3.0</td>\n",
       "    </tr>\n",
       "  </tbody>\n",
       "</table>\n",
       "<p>5 rows × 70 columns</p>\n",
       "</div>"
      ],
      "text/plain": [
       "                   -1  1-HR PHOTO  ACCESSORIES  AUTOMOTIVE  BAKERY  \\\n",
       "VisitNumber                                                          \n",
       "5           -0.000000        -0.0         -0.0        -0.0    -0.0   \n",
       "7            0.000000         0.0          0.0         0.0     0.0   \n",
       "8            0.035714         0.0          0.0         0.0     0.0   \n",
       "9            0.000000         0.0          0.0         0.0     0.0   \n",
       "10           0.000000         0.0          0.0         0.0     0.0   \n",
       "\n",
       "             BATH AND SHOWER  BEAUTY  BEDDING  BOOKS AND MAGAZINES  BOYS WEAR  \\\n",
       "VisitNumber                                                                     \n",
       "5                       -0.0    -0.0     -0.0                 -0.0       -0.0   \n",
       "7                        0.0     0.0      0.0                  0.0        0.0   \n",
       "8                        0.0     0.0      0.0                  0.0        0.0   \n",
       "9                        0.0     0.0      0.0                  0.0        0.0   \n",
       "10                       0.0     0.0      0.0                  0.0        0.0   \n",
       "\n",
       "             ...  SERVICE DELI  SHEER HOSIERY  SHOES  SLEEPWEAR/FOUNDATIONS  \\\n",
       "VisitNumber  ...                                                              \n",
       "5            ...          -0.0           -0.0   -0.0                   -0.0   \n",
       "7            ...           0.0            0.0    0.5                    0.0   \n",
       "8            ...           0.0            0.0    0.0                    0.0   \n",
       "9            ...           0.0            0.0    0.0                    0.0   \n",
       "10           ...           0.0            0.0    0.0                    0.0   \n",
       "\n",
       "             SPORTING GOODS  SWIMWEAR/OUTERWEAR  TOYS  WIRELESS  TripType  \\\n",
       "VisitNumber                                                                 \n",
       "5                      -0.0                -0.0  -0.0      -0.0       999   \n",
       "7                       0.0                 0.0   0.0       0.0        30   \n",
       "8                       0.0                 0.0   0.0       0.0        26   \n",
       "9                       0.0                 0.0   0.0       0.0         8   \n",
       "10                      0.0                 0.0   0.0       0.0         8   \n",
       "\n",
       "             TotalCounts  \n",
       "VisitNumber               \n",
       "5                   -1.0  \n",
       "7                    2.0  \n",
       "8                   28.0  \n",
       "9                    3.0  \n",
       "10                   3.0  \n",
       "\n",
       "[5 rows x 70 columns]"
      ]
     },
     "execution_count": 194,
     "metadata": {},
     "output_type": "execute_result"
    }
   ],
   "source": [
    "df_train_f2.head()"
   ]
  },
  {
   "cell_type": "code",
   "execution_count": 193,
   "metadata": {},
   "outputs": [],
   "source": [
    "#test one example\n",
    "assert(df_train[df_train['VisitNumber']==8]['ScanCount'].sum() == df_train_f2.loc[8]['TotalCounts'])"
   ]
  },
  {
   "cell_type": "markdown",
   "metadata": {},
   "source": [
    "**Normalization**:\n",
    "\n",
    "Now for the first time, we have a problem that we didn't quite face before. Most of our columns have values \n",
    "between 0-1 but we have one column (TotalCounts) which can be signficantly larger than 1.\n",
    "\n",
    "It helps to have all the numbers on the same scale for linear models. \n",
    "\n",
    "1) It makes the optimization process much easier\n",
    "\n",
    "2) It makes it possible to compare the effects of various columns. If the columns are on similar scales, we can just compare the coefficients $w_i$ and rank them by the absolute values $|w_i|$.\n",
    "\n",
    "The usual way of making the scales the same is to do the following transformation:\n",
    "\n",
    "$$x \\rightarrow \\frac{x - \\text{mean}(x)}{\\text{std}(x)}$$\n",
    "\n",
    "where:\n",
    "\n",
    "$x$ = array of numbers (one column in our case)\n",
    "\n",
    "$\\text{mean}(x)$ = mean of the numbers\n",
    "\n",
    "$\\text{std}(x)$ = standard deviation of the numbers\n",
    "\n",
    "Strictly speaking, the scale is decided just by the standard deviation but it is helpful to subtract the mean so that the values are centered around 0."
   ]
  },
  {
   "cell_type": "markdown",
   "metadata": {},
   "source": [
    "**Leakage**:\n",
    "\n",
    "Leakage is a general term for information from the validation set and the test set passing into the training process. We discussed earlier that we should set aside the validation and test set and train just on our training set. But there are still subtle ways in which information can pass from the hold-out (val, test) sets into the train set.\n",
    "\n",
    "**Why is this bad?** Some information, say from the val set, leaking into your train set might improve your model's performance on the val set. So the process that we rely on to estimate how our model will do in real-life is broken - we are getting better results than we would if we actually used our model on new data.\n",
    "\n",
    "**What is an example of leakage?** In our example, we need to compute the mean and standard deviation of each column and carry out the procedure. The mean and standard deviation should be computed **just on the train set**. In other words, we should split the data and then calculate the mean and standard deviation. If, by mistake, one computes the mean and standard deviation before splitting, then one has leakage.\n",
    "\n",
    "**Is this really bad?** Not always. Machine learning algorithms make a fundamental assumption that the (statistical) properties of the train set, the val set, and any future data the model sees, are the same. If they are not, your model's performance will most likely severely degrade. If you build a model to classify apples as sellable and not sellable and suddenly you start showing pictures of strawberries, then your model will not be nearly as performant as it was before. On the other hand, if your hold-out set, your train set and your new data will essentially have the same distributions, then this leakage will have no effect.\n",
    "\n",
    "**Does this mean the val and test set are essentially non-inputs to my model?** Not quite and this is where one has to be careful. Suppose, you are predicting sentiments on pieces of text. You want to create one column for each unique word and a piece of text is featurized by the counts of each word in that piece of text. This is called bag-of-words. This will usually be a very sparse matrix (just like our case above). Now, it is possible that you'll encounter words in the val or test set that you didn't seen in the train set. You could create a special column for unknown words during training or you could look at all the words including those in val and test and create columns for them. Of course, during training, you never see some of those words and those columns will always be 0 so not really helpful during your training process but this is not technically leakage.\n",
    "\n",
    "A couple of more realistic examples:\n",
    "\n",
    "1. Suppose your data consists of time-series (numbers indexed by time - stock prices etc.). You decide to featurize them by choosing some histogram bins and counting the number of entries in your time-series in each bin. Looking at all the data to choose the bins is also not leakage. You can think of this as a continuous (as opposed to discrete) version of the word problem above. Of course, if there are bins that are only occupied by the val or test set, then that column will be completely constant (= 0) during the train set and not very helpful but usually that won't happen.\n",
    "\n",
    "2. While working with language - say sentiment analysis again, you can completely ignore the labels (positive or negative sentiment) and use all the text to build a language model. A language model is a machine learning model that predicts the next word (or character) given the previous history (these are mostly neural network models today). As long as you don't use the labels somehow, this is a completely reasonable thing to do. The language model then is used to map a piece of text to features which are used to predict the sentiment (at this stage, the labels come back in and we follow the usual practice of splitting into train, val and test).\n",
    "\n",
    "**Takeaway**: Whenever confronted with an ideological truth, it is useful to probe it to understand when exactly it is true and when it is not. Leakage is a severe problem and one should be very careful about it but being ideological about it can lead one to ignore valuable statistical power that you could gain from other sources (like the language model example above).\n",
    "\n",
    "**Next step**: We'll use sklearn's in-built scaling module to the standard scaling and then build our model."
   ]
  },
  {
   "cell_type": "code",
   "execution_count": null,
   "metadata": {},
   "outputs": [],
   "source": []
  },
  {
   "cell_type": "code",
   "execution_count": null,
   "metadata": {},
   "outputs": [],
   "source": []
  },
  {
   "cell_type": "code",
   "execution_count": null,
   "metadata": {},
   "outputs": [],
   "source": []
  },
  {
   "cell_type": "code",
   "execution_count": null,
   "metadata": {},
   "outputs": [],
   "source": []
  },
  {
   "cell_type": "code",
   "execution_count": null,
   "metadata": {},
   "outputs": [],
   "source": []
  },
  {
   "cell_type": "code",
   "execution_count": null,
   "metadata": {},
   "outputs": [],
   "source": []
  },
  {
   "cell_type": "markdown",
   "metadata": {},
   "source": [
    "I'll end this with a story that is often-repeated. Many elements of this story are probably inaccurate, so I'll make my version up.\n",
    "\n",
    "Apparently, a government's defense department wanted to classify aerial/satellite pictures as ones containing the images of tanks and one that didn't. They outsourced the work to a contractor who built an amazing model (say accuracy = 95% on the validation set). When the model was actually used in the battlefield, it was atrocious (say accuracy = 52%). On further inspection m"
   ]
  },
  {
   "cell_type": "code",
   "execution_count": null,
   "metadata": {},
   "outputs": [],
   "source": []
  }
 ],
 "metadata": {
  "kernelspec": {
   "display_name": "Python 3",
   "language": "python",
   "name": "python3"
  },
  "language_info": {
   "codemirror_mode": {
    "name": "ipython",
    "version": 3
   },
   "file_extension": ".py",
   "mimetype": "text/x-python",
   "name": "python",
   "nbconvert_exporter": "python",
   "pygments_lexer": "ipython3",
   "version": "3.7.4"
  }
 },
 "nbformat": 4,
 "nbformat_minor": 2
}
